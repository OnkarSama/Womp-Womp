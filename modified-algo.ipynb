{
 "cells": [
  {
   "cell_type": "code",
   "execution_count": 532,
   "metadata": {
    "ExecuteTime": {
     "end_time": "2025-01-27T05:48:05.658035Z",
     "start_time": "2025-01-27T05:48:05.395875Z"
    }
   },
   "outputs": [],
   "source": [
    "%reset -f"
   ]
  },
  {
   "cell_type": "code",
   "execution_count": 533,
   "metadata": {
    "ExecuteTime": {
     "end_time": "2025-01-27T05:48:05.664410Z",
     "start_time": "2025-01-27T05:48:05.662190Z"
    },
    "execution": {
     "iopub.execute_input": "2024-09-29T02:38:20.757905Z",
     "iopub.status.busy": "2024-09-29T02:38:20.756585Z",
     "iopub.status.idle": "2024-09-29T02:38:20.764902Z",
     "shell.execute_reply": "2024-09-29T02:38:20.763087Z",
     "shell.execute_reply.started": "2024-09-29T02:38:20.757839Z"
    },
    "trusted": true
   },
   "outputs": [],
   "source": [
    "import pandas as pd # data processing, CSV file I/O (e.g. pd.read_csv)\n",
    "import numpy as np # linear algebra\n",
    "import random as rd # random number generator\n",
    "\n",
    "from sklearn.metrics import accuracy_score, precision_score, recall_score, f1_score\n",
    "from sklearn.tree import DecisionTreeClassifier, plot_tree, export_text\n",
    "from sklearn.neural_network import MLPClassifier\n",
    "from sklearn.ensemble import RandomForestClassifier\n",
    "\n",
    "from xgboost import XGBClassifier\n",
    "\n",
    "from sklearn.decomposition import PCA\n",
    "import matplotlib.pyplot as plt\n",
    "\n",
    "from OnkarClassifier import VectorKNNClassifier"
   ]
  },
  {
   "cell_type": "code",
   "execution_count": 534,
   "metadata": {
    "ExecuteTime": {
     "end_time": "2025-01-27T05:48:05.674238Z",
     "start_time": "2025-01-27T05:48:05.669193Z"
    },
    "execution": {
     "iopub.execute_input": "2024-09-29T02:38:23.284645Z",
     "iopub.status.busy": "2024-09-29T02:38:23.284279Z",
     "iopub.status.idle": "2024-09-29T02:38:23.292841Z",
     "shell.execute_reply": "2024-09-29T02:38:23.291579Z",
     "shell.execute_reply.started": "2024-09-29T02:38:23.284604Z"
    },
    "trusted": true
   },
   "outputs": [],
   "source": [
    "#split data method takes in the dataframe, positive label, negative label and the size of the dataframe\n",
    "#Returns 4 datasets, 2 positive and 2 negative\n",
    "def split_data(df_total, class_col, pos_label, neg_label, size):\n",
    "    \n",
    "    full_pos = df_total[df_total[class_col] == pos_label]\n",
    "    full_neg = df_total[df_total[class_col] == neg_label]\n",
    "    \n",
    "    split_pos_index = round(len(full_pos) * size)\n",
    "    split_neg_index = round(len(full_neg) * size)\n",
    "    \n",
    "    pos1 = full_pos.iloc[:split_pos_index]\n",
    "    pos2 = full_pos.iloc[split_pos_index:]\n",
    "    neg1 = full_neg.iloc[:split_neg_index]\n",
    "    neg2 = full_neg.iloc[split_neg_index:]\n",
    "    \n",
    "    return pos1.reset_index(drop=True), pos2.reset_index(drop=True), neg1.reset_index(drop=True), neg2.reset_index(drop=True)"
   ]
  },
  {
   "cell_type": "code",
   "execution_count": 535,
   "metadata": {
    "ExecuteTime": {
     "end_time": "2025-01-27T05:48:05.683962Z",
     "start_time": "2025-01-27T05:48:05.682027Z"
    },
    "execution": {
     "iopub.execute_input": "2024-09-29T02:38:23.294473Z",
     "iopub.status.busy": "2024-09-29T02:38:23.294077Z",
     "iopub.status.idle": "2024-09-29T02:38:23.308587Z",
     "shell.execute_reply": "2024-09-29T02:38:23.307360Z",
     "shell.execute_reply.started": "2024-09-29T02:38:23.294431Z"
    },
    "trusted": true
   },
   "outputs": [],
   "source": [
    "#takes in number of random indices to be selected and the length of the data frame\n",
    "#returns an array of size showen above and full of random indices\n",
    "def get_random_indices(num_of_random,len_of_df):\n",
    "    \n",
    "    indices = []\n",
    "    \n",
    "    for i in range(num_of_random):\n",
    "        indices.append(rd.randint(0,len_of_df-1))\n",
    "    \n",
    "    return indices"
   ]
  },
  {
   "cell_type": "code",
   "execution_count": 536,
   "metadata": {
    "ExecuteTime": {
     "end_time": "2025-01-27T05:48:05.692387Z",
     "start_time": "2025-01-27T05:48:05.689126Z"
    },
    "execution": {
     "iopub.execute_input": "2024-09-29T02:38:23.314857Z",
     "iopub.status.busy": "2024-09-29T02:38:23.314396Z",
     "iopub.status.idle": "2024-09-29T02:38:23.328348Z",
     "shell.execute_reply": "2024-09-29T02:38:23.327215Z",
     "shell.execute_reply.started": "2024-09-29T02:38:23.314811Z"
    },
    "trusted": true
   },
   "outputs": [],
   "source": [
    "#Creating train test set takes in our 4 datasets as created in split_data method\n",
    "#also takes in the feature columns, class columns and a random number\n",
    "#yo what does the random number do\n",
    "#returns x and y train and x and y test\n",
    "def create_train_test_set(pos1, pos2, neg1, neg2, feature_cols, class_col, num_of_rand):\n",
    "    \n",
    "    feature_cols = feature_cols.drop(class_col)\n",
    "    \n",
    "    random_nc = pd.DataFrame()\n",
    "    X_train = pd.DataFrame()\n",
    "    X_test = pd.DataFrame()\n",
    "    y_train = pd.DataFrame()\n",
    "    y_test = pd.DataFrame()\n",
    "    \n",
    "    random_pos_indices = get_random_indices(num_of_rand,len(pos1))\n",
    "    random_pos = pos1.iloc[random_pos_indices]\n",
    "    remaining_pos1 = pos1.drop(random_pos_indices)\n",
    "    \n",
    "    random_neg_indices = get_random_indices(num_of_rand,len(neg1))\n",
    "    random_neg = neg1.iloc[random_neg_indices]\n",
    "    remaining_neg1 = neg1.drop(random_neg_indices)\n",
    "    \n",
    "#     print(\"Len of indices\" , len(random_neg_indices))\n",
    "    \n",
    "    full_train_set = pd.concat([random_pos,random_neg])\n",
    "    \n",
    "    full_remaining_pos = pd.concat([remaining_pos1,pos2])\n",
    "    full_remaining_neg = pd.concat([remaining_neg1,neg2])\n",
    "    full_test_set = pd.concat([full_remaining_pos,full_remaining_neg])\n",
    "    \n",
    "    X_train = full_train_set[feature_cols]\n",
    "    y_train = pd.concat([y_train,full_train_set[class_col]])\n",
    "    \n",
    "    X_test = full_test_set[feature_cols]\n",
    "    y_test = pd.concat([y_test,full_test_set[class_col]])\n",
    "    \n",
    "    return X_train.reset_index(drop=True), y_train.reset_index(drop=True), X_test.reset_index(drop=True), y_test.reset_index(drop=True)"
   ]
  },
  {
   "cell_type": "code",
   "execution_count": 537,
   "metadata": {
    "ExecuteTime": {
     "end_time": "2025-01-27T05:48:05.699228Z",
     "start_time": "2025-01-27T05:48:05.697373Z"
    },
    "execution": {
     "iopub.execute_input": "2024-09-29T02:38:25.402923Z",
     "iopub.status.busy": "2024-09-29T02:38:25.401908Z",
     "iopub.status.idle": "2024-09-29T02:38:25.417906Z",
     "shell.execute_reply": "2024-09-29T02:38:25.416423Z",
     "shell.execute_reply.started": "2024-09-29T02:38:25.402864Z"
    },
    "trusted": true
   },
   "outputs": [],
   "source": [
    "#get entropy takes in a text called info and assigns it to a value\n",
    "#assuming info means entropy value? If so maybe change variable name?\n",
    "#returns an entropy value as a float.\n",
    "def get_entropy(info):\n",
    "    \n",
    "    text = str(info)\n",
    "    \n",
    "    parts = text.split('entropy = ')[1]\n",
    "    entropy_value = parts.split('\\\\n')[0]\n",
    "\n",
    "    # Convert the entropy value to a float\n",
    "    return float(entropy_value)"
   ]
  },
  {
   "cell_type": "code",
   "execution_count": 538,
   "metadata": {
    "ExecuteTime": {
     "end_time": "2025-01-27T05:48:05.706827Z",
     "start_time": "2025-01-27T05:48:05.704940Z"
    },
    "execution": {
     "iopub.execute_input": "2024-09-29T02:38:25.420065Z",
     "iopub.status.busy": "2024-09-29T02:38:25.419615Z",
     "iopub.status.idle": "2024-09-29T02:38:25.430020Z",
     "shell.execute_reply": "2024-09-29T02:38:25.428584Z",
     "shell.execute_reply.started": "2024-09-29T02:38:25.420021Z"
    },
    "trusted": true
   },
   "outputs": [],
   "source": [
    "#Get num of samples takes in a text called info and assigns it to a value\n",
    "#returns a float of the sample value\n",
    "#maybe also rename this variable\n",
    "def get_num_of_samples(info):\n",
    "    \n",
    "    text = str(info)\n",
    "    \n",
    "    parts = text.split('samples = ')[1]\n",
    "    sample_value = parts.split('\\\\n')[0]\n",
    "\n",
    "    # Convert the entropy value to a float\n",
    "    return float(sample_value)"
   ]
  },
  {
   "cell_type": "code",
   "execution_count": 539,
   "metadata": {
    "ExecuteTime": {
     "end_time": "2025-01-27T05:48:05.718602Z",
     "start_time": "2025-01-27T05:48:05.714973Z"
    },
    "execution": {
     "iopub.execute_input": "2024-09-29T02:38:25.432304Z",
     "iopub.status.busy": "2024-09-29T02:38:25.431844Z",
     "iopub.status.idle": "2024-09-29T02:38:25.443141Z",
     "shell.execute_reply": "2024-09-29T02:38:25.441633Z",
     "shell.execute_reply.started": "2024-09-29T02:38:25.432237Z"
    },
    "trusted": true
   },
   "outputs": [],
   "source": [
    "#model metrics takes in the x and y train and creates the model metrics\n",
    "#returns an array (it seems) with a graph, tree, parents and children\n",
    "from sklearn import tree\n",
    "def model_metrics(X_train, y_train):\n",
    "    \n",
    "    clf = DecisionTreeClassifier(criterion='entropy', max_depth=1) # Initialize the decision tree classifier\n",
    "    clf.fit(X_train, y_train) # Fitting the classifier on the training data\n",
    "    \n",
    "    col_names = X_train.columns\n",
    "    label = y_train.columns[0]\n",
    "    \n",
    "    info = plot_tree(clf, feature_names=col_names, class_names=[str(pos_label), str(neg_label)], rounded=True, filled=True)\n",
    "    \n",
    "    metrics = {\n",
    "        'Graph' : info,\n",
    "        'Tree': clf,\n",
    "        'e_parent': get_entropy(info[0]),\n",
    "        'e_child1': get_entropy(info[1]),\n",
    "        'e_child2' : get_entropy(info[3]),\n",
    "        'parent_sample' : get_num_of_samples(info[0]),\n",
    "        'child_sample1' : get_num_of_samples(info[1]),\n",
    "        'child_sample2' : get_num_of_samples(info[3]),\n",
    "    }\n",
    "\n",
    "#     plot_tree(clf, feature_names=col_names, class_names=[str(pos_label), str(neg_label)], rounded=True, filled=True)\n",
    "#     plt.show()\n",
    "    \n",
    "    return metrics"
   ]
  },
  {
   "cell_type": "code",
   "execution_count": 540,
   "metadata": {
    "ExecuteTime": {
     "end_time": "2025-01-27T05:48:05.724529Z",
     "start_time": "2025-01-27T05:48:05.722637Z"
    },
    "execution": {
     "iopub.execute_input": "2024-09-29T02:38:25.446687Z",
     "iopub.status.busy": "2024-09-29T02:38:25.445726Z",
     "iopub.status.idle": "2024-09-29T02:38:25.457339Z",
     "shell.execute_reply": "2024-09-29T02:38:25.455973Z",
     "shell.execute_reply.started": "2024-09-29T02:38:25.446625Z"
    },
    "trusted": true
   },
   "outputs": [],
   "source": [
    "#what the fuck am I looking at -DJ\n",
    "def calculate_information_gain(metrics):\n",
    "    \n",
    "    return metrics['e_parent']-((metrics['child_sample1']/metrics['parent_sample'])*metrics['e_child1'])-((metrics['child_sample2']/metrics['parent_sample'])*metrics['e_child2'])"
   ]
  },
  {
   "cell_type": "code",
   "execution_count": 541,
   "metadata": {
    "ExecuteTime": {
     "end_time": "2025-01-27T05:48:05.734789Z",
     "start_time": "2025-01-27T05:48:05.732596Z"
    },
    "execution": {
     "iopub.execute_input": "2024-09-29T02:38:25.459368Z",
     "iopub.status.busy": "2024-09-29T02:38:25.458862Z",
     "iopub.status.idle": "2024-09-29T02:38:25.469990Z",
     "shell.execute_reply": "2024-09-29T02:38:25.468600Z",
     "shell.execute_reply.started": "2024-09-29T02:38:25.459302Z"
    },
    "trusted": true
   },
   "outputs": [],
   "source": [
    "#takes in x and y train, label col and columns\n",
    "#then returns our information gain weights\n",
    "def get_information_gain(X_train, y_train, label_col, columns):\n",
    "    \n",
    "    information_gain_weights = pd.DataFrame()\n",
    "    col_names = columns[:-1]\n",
    "    current_information_gain = np.array([])\n",
    "\n",
    "    \n",
    "    for col in columns:\n",
    "        if col != label_col:\n",
    "            metrics = model_metrics(X_train[[col]], y_train)\n",
    "            current_information_gain = np.append(current_information_gain, calculate_information_gain(metrics))\n",
    "    current_information_gain = current_information_gain.reshape(1,-1)\n",
    "    information_gain_weights = pd.DataFrame(current_information_gain, columns=col_names)\n",
    "\n",
    "    return information_gain_weights\n",
    "\n",
    "        "
   ]
  },
  {
   "cell_type": "code",
   "execution_count": 542,
   "metadata": {
    "ExecuteTime": {
     "end_time": "2025-01-27T05:48:05.739504Z",
     "start_time": "2025-01-27T05:48:05.737465Z"
    },
    "execution": {
     "iopub.execute_input": "2024-09-29T02:38:25.472665Z",
     "iopub.status.busy": "2024-09-29T02:38:25.472137Z",
     "iopub.status.idle": "2024-09-29T02:38:25.482200Z",
     "shell.execute_reply": "2024-09-29T02:38:25.480967Z",
     "shell.execute_reply.started": "2024-09-29T02:38:25.472607Z"
    },
    "trusted": true
   },
   "outputs": [],
   "source": [
    "#avg info gain takes in the data frame called df_gain\n",
    "#returns the results in a dataframe and a average information gain array\n",
    "def get_avg_info_gain_df(df_gain):\n",
    "    # Compute the mean of each column in the DataFrame\n",
    "    avg_info_gain = df_gain.mean()\n",
    "    \n",
    "    # Convert the resulting Series to a NumPy array\n",
    "    avg_info_gain_array = avg_info_gain.to_numpy()\n",
    "    \n",
    "    # Create a DataFrame from the average coefficients\n",
    "    avg_info_gain_df = pd.DataFrame([avg_info_gain], columns=df_gain.columns, index=['avg'])\n",
    "    \n",
    "    # Concatenate the original DataFrame with the average coefficients DataFrame\n",
    "    result_df = pd.concat([df_gain, avg_info_gain_df], ignore_index=False)\n",
    "    \n",
    "    return result_df, avg_info_gain_array"
   ]
  },
  {
   "cell_type": "code",
   "execution_count": 543,
   "metadata": {
    "ExecuteTime": {
     "end_time": "2025-01-27T05:48:05.746201Z",
     "start_time": "2025-01-27T05:48:05.743797Z"
    },
    "execution": {
     "iopub.execute_input": "2024-09-29T02:38:25.484427Z",
     "iopub.status.busy": "2024-09-29T02:38:25.483881Z",
     "iopub.status.idle": "2024-09-29T02:38:25.497848Z",
     "shell.execute_reply": "2024-09-29T02:38:25.496505Z",
     "shell.execute_reply.started": "2024-09-29T02:38:25.484368Z"
    },
    "trusted": true
   },
   "outputs": [],
   "source": [
    "#Run simulation takes in a sim length number (what), a total data frame, label column, positive and negative lable, siz and number of rand\n",
    "#what do num of rand and sim_len do?\n",
    "#This specifically looks like it works for a phishing dataset\n",
    "#returns average info gain dataframe and array, x and y text, and x and y train\n",
    "def run_simulation(sim_len, df_total, label_col,pos_label, neg_label, size, num_of_rand):\n",
    "    \n",
    "    sim_info_gain = pd.DataFrame()\n",
    "    \n",
    "    phishing1, phishing2, non_phishing1, non_phishing2 = split_data(df_total, label_col, pos_label, neg_label, size)\n",
    "\n",
    "    \n",
    "    for i in range(sim_len):\n",
    "        \n",
    "        X_train, y_train, X_test, y_test = create_train_test_set(phishing1, phishing2, non_phishing1, non_phishing2, df_total.columns, label_col, num_of_rand)\n",
    "        \n",
    "        info_gain = get_information_gain(X_train, y_train, label_col, df_total.columns)\n",
    "        \n",
    "        sim_info_gain = pd.concat([info_gain, sim_info_gain])\n",
    "        \n",
    "    avg_info_gain_df, avg_info_gain_array = get_avg_info_gain_df(sim_info_gain)\n",
    "        \n",
    "    return avg_info_gain_df, avg_info_gain_array, X_test, y_test, X_train, y_train\n",
    "    "
   ]
  },
  {
   "cell_type": "code",
   "execution_count": 544,
   "metadata": {
    "ExecuteTime": {
     "end_time": "2025-01-27T05:48:05.753072Z",
     "start_time": "2025-01-27T05:48:05.750171Z"
    }
   },
   "outputs": [],
   "source": [
    "def mod_run_simulation(sim_len, df_total, label_col,pos_label, neg_label, size, num_of_rand):\n",
    "\n",
    "    sim_explained_variance = pd.DataFrame()\n",
    "    \n",
    "    pca = PCA(n_components=13)\n",
    "    pc = pca.fit_transform(df_heart_standardized.iloc[:-1])\n",
    "\n",
    "    df_pca = pd.DataFrame(data=pc, columns=['principal component 1', 'principal component 2', 'principal component 3',\n",
    "                                        'principal component 4', 'principal component 5', 'principal component 6',\n",
    "                                        'principal component 7','principal component 8','principal component 9','principal component 10','principal component 11','principal component 12','principal component 13'])\n",
    "\n",
    "    final_pca_df = pd.concat([df_pca, df_heart_standardized[['num']]], axis = 1)\n",
    "\n",
    "    phishing1, phishing2, non_phishing1, non_phishing2 = split_data(final_pca_df, label_col, pos_label, neg_label, size)\n",
    "\n",
    "    for i in range(sim_len):\n",
    "\n",
    "        X_train, y_train, X_test, y_test = create_train_test_set(phishing1, phishing2, non_phishing1, non_phishing2, final_pca_df.columns, label_col, num_of_rand)\n",
    "\n",
    "        explained_variance = get_explained_variance(pca,df_pca.columns)\n",
    "        sim_explained_variance = pd.concat([explained_variance, sim_explained_variance])\n",
    "    \n",
    "\n",
    "    avg_explained_variance_df, avg_explained_variance_array = get_avg_explained_variance_df(sim_explained_variance)\n",
    "\n",
    "    return avg_explained_variance_df, avg_explained_variance_array, X_test, y_test, X_train, y_train\n"
   ]
  },
  {
   "cell_type": "code",
   "execution_count": 545,
   "metadata": {
    "ExecuteTime": {
     "end_time": "2025-01-27T05:48:05.758883Z",
     "start_time": "2025-01-27T05:48:05.757210Z"
    }
   },
   "outputs": [],
   "source": [
    "def get_explained_variance(pca,feature_cols):\n",
    "    \n",
    "    explained_variance= pca.explained_variance_ratio_\n",
    "    explained_variance = explained_variance.reshape(1,-1)\n",
    "\n",
    "    ev_df = pd.DataFrame(explained_variance, columns=feature_cols)\n",
    "    \n",
    "    return ev_df\n",
    "\n"
   ]
  },
  {
   "cell_type": "code",
   "execution_count": 546,
   "metadata": {
    "ExecuteTime": {
     "end_time": "2025-01-27T05:48:05.764559Z",
     "start_time": "2025-01-27T05:48:05.762751Z"
    }
   },
   "outputs": [],
   "source": [
    "def get_avg_explained_variance_df(df_ev):\n",
    "    # Compute the mean of each column in the DataFrame\n",
    "    avg_ev = df_ev.mean()\n",
    "\n",
    "    # Convert the resulting Series to a NumPy array\n",
    "    avg_ev_array = avg_ev.to_numpy()\n",
    "\n",
    "    # Create a DataFrame from the average coefficients\n",
    "    avg_ev_df = pd.DataFrame([avg_ev], columns=df_ev.columns, index=['avg'])\n",
    "\n",
    "    # Concatenate the original DataFrame with the average coefficients DataFrame\n",
    "    result_df = pd.concat([df_ev, avg_ev_df], ignore_index=False)\n",
    "\n",
    "    return result_df, avg_ev_array"
   ]
  },
  {
   "cell_type": "code",
   "execution_count": 547,
   "metadata": {
    "ExecuteTime": {
     "end_time": "2025-01-27T05:48:05.775960Z",
     "start_time": "2025-01-27T05:48:05.768646Z"
    },
    "execution": {
     "iopub.execute_input": "2024-09-29T02:38:31.368969Z",
     "iopub.status.busy": "2024-09-29T02:38:31.368381Z",
     "iopub.status.idle": "2024-09-29T02:38:31.389918Z",
     "shell.execute_reply": "2024-09-29T02:38:31.388562Z",
     "shell.execute_reply.started": "2024-09-29T02:38:31.368921Z"
    },
    "trusted": true
   },
   "outputs": [],
   "source": [
    "column_names = [\n",
    "  'age', 'sex', 'cp', 'trestbps', 'chol', 'fbs', 'restecg', \n",
    "  'thalach', 'exang', 'oldpeak', 'slope', 'ca', 'thal', 'num'\n",
    "]\n",
    "\n",
    "df_heart = pd.read_csv('heartdiseaes/processed.cleveland.data', names = column_names, index_col = False)\n",
    "\n",
    "new_row_values = [63, 1, 1, 145, 233, 1, 2, 150, 0, 2.3, 3.0, 0, 6.0, 0]\n",
    "\n",
    "df_heart.loc[0] = new_row_values"
   ]
  },
  {
   "cell_type": "code",
   "execution_count": 548,
   "metadata": {
    "ExecuteTime": {
     "end_time": "2025-01-27T05:48:05.798274Z",
     "start_time": "2025-01-27T05:48:05.795515Z"
    },
    "execution": {
     "iopub.execute_input": "2024-09-29T02:38:31.392688Z",
     "iopub.status.busy": "2024-09-29T02:38:31.392141Z",
     "iopub.status.idle": "2024-09-29T02:38:31.405524Z",
     "shell.execute_reply": "2024-09-29T02:38:31.404095Z",
     "shell.execute_reply.started": "2024-09-29T02:38:31.392627Z"
    },
    "trusted": true
   },
   "outputs": [
    {
     "name": "stdout",
     "output_type": "stream",
     "text": [
      "Pandas(Index=87, age=53.0, sex=0.0, cp=3.0, trestbps=128.0, chol=216.0, fbs=0.0, restecg=2.0, thalach=115.0, exang=0.0, oldpeak=0.0, slope=1.0, ca='0.0', thal='?', num=0)\n",
      "Pandas(Index=166, age=52.0, sex=1.0, cp=3.0, trestbps=138.0, chol=223.0, fbs=0.0, restecg=0.0, thalach=169.0, exang=0.0, oldpeak=0.0, slope=1.0, ca='?', thal='3.0', num=0)\n",
      "Pandas(Index=192, age=43.0, sex=1.0, cp=4.0, trestbps=132.0, chol=247.0, fbs=1.0, restecg=2.0, thalach=143.0, exang=1.0, oldpeak=0.1, slope=2.0, ca='?', thal='7.0', num=1)\n",
      "Pandas(Index=266, age=52.0, sex=1.0, cp=4.0, trestbps=128.0, chol=204.0, fbs=1.0, restecg=0.0, thalach=156.0, exang=1.0, oldpeak=1.0, slope=2.0, ca='0.0', thal='?', num=2)\n",
      "Pandas(Index=287, age=58.0, sex=1.0, cp=2.0, trestbps=125.0, chol=220.0, fbs=0.0, restecg=0.0, thalach=144.0, exang=0.0, oldpeak=0.4, slope=2.0, ca='?', thal='7.0', num=0)\n",
      "Pandas(Index=302, age=38.0, sex=1.0, cp=3.0, trestbps=138.0, chol=175.0, fbs=0.0, restecg=0.0, thalach=173.0, exang=0.0, oldpeak=0.0, slope=1.0, ca='?', thal='3.0', num=0)\n"
     ]
    }
   ],
   "source": [
    "for i in df_heart.itertuples():\n",
    "    tup = i\n",
    "    for j in tup:\n",
    "        if j == '?':\n",
    "            print(tup)"
   ]
  },
  {
   "cell_type": "code",
   "execution_count": 549,
   "metadata": {
    "ExecuteTime": {
     "end_time": "2025-01-27T05:48:05.888926Z",
     "start_time": "2025-01-27T05:48:05.886718Z"
    },
    "execution": {
     "iopub.execute_input": "2024-09-29T02:38:31.408408Z",
     "iopub.status.busy": "2024-09-29T02:38:31.407884Z",
     "iopub.status.idle": "2024-09-29T02:38:31.416958Z",
     "shell.execute_reply": "2024-09-29T02:38:31.415460Z",
     "shell.execute_reply.started": "2024-09-29T02:38:31.408347Z"
    },
    "trusted": true
   },
   "outputs": [],
   "source": [
    "row_nums = [87,166,192,266,287,302]\n",
    "df_heart = df_heart.drop(row_nums)"
   ]
  },
  {
   "cell_type": "code",
   "execution_count": 550,
   "metadata": {
    "ExecuteTime": {
     "end_time": "2025-01-27T05:48:05.928485Z",
     "start_time": "2025-01-27T05:48:05.924919Z"
    },
    "execution": {
     "iopub.execute_input": "2024-09-29T02:38:31.419273Z",
     "iopub.status.busy": "2024-09-29T02:38:31.418640Z",
     "iopub.status.idle": "2024-09-29T02:38:31.433610Z",
     "shell.execute_reply": "2024-09-29T02:38:31.432260Z",
     "shell.execute_reply.started": "2024-09-29T02:38:31.419218Z"
    },
    "trusted": true
   },
   "outputs": [
    {
     "data": {
      "text/plain": [
       "age         float64\n",
       "sex         float64\n",
       "cp          float64\n",
       "trestbps    float64\n",
       "chol        float64\n",
       "fbs         float64\n",
       "restecg     float64\n",
       "thalach     float64\n",
       "exang       float64\n",
       "oldpeak     float64\n",
       "slope       float64\n",
       "ca           object\n",
       "thal         object\n",
       "num           int64\n",
       "dtype: object"
      ]
     },
     "execution_count": 550,
     "metadata": {},
     "output_type": "execute_result"
    }
   ],
   "source": [
    "df_heart.dtypes"
   ]
  },
  {
   "cell_type": "code",
   "execution_count": 551,
   "metadata": {
    "ExecuteTime": {
     "end_time": "2025-01-27T05:48:05.981508Z",
     "start_time": "2025-01-27T05:48:05.978985Z"
    },
    "execution": {
     "iopub.execute_input": "2024-09-29T02:38:31.436206Z",
     "iopub.status.busy": "2024-09-29T02:38:31.435683Z",
     "iopub.status.idle": "2024-09-29T02:38:31.445886Z",
     "shell.execute_reply": "2024-09-29T02:38:31.444565Z",
     "shell.execute_reply.started": "2024-09-29T02:38:31.436148Z"
    },
    "trusted": true
   },
   "outputs": [],
   "source": [
    "df_heart['ca'] = pd.to_numeric(df_heart['ca'])"
   ]
  },
  {
   "cell_type": "code",
   "execution_count": 552,
   "metadata": {
    "ExecuteTime": {
     "end_time": "2025-01-27T05:48:06.033267Z",
     "start_time": "2025-01-27T05:48:06.031237Z"
    },
    "execution": {
     "iopub.execute_input": "2024-09-29T02:38:31.448012Z",
     "iopub.status.busy": "2024-09-29T02:38:31.447471Z",
     "iopub.status.idle": "2024-09-29T02:38:31.458600Z",
     "shell.execute_reply": "2024-09-29T02:38:31.457192Z",
     "shell.execute_reply.started": "2024-09-29T02:38:31.447961Z"
    },
    "trusted": true
   },
   "outputs": [],
   "source": [
    "df_heart['thal'] = pd.to_numeric(df_heart['thal'])"
   ]
  },
  {
   "cell_type": "code",
   "execution_count": 553,
   "metadata": {
    "ExecuteTime": {
     "end_time": "2025-01-27T05:48:06.151849Z",
     "start_time": "2025-01-27T05:48:06.149458Z"
    },
    "execution": {
     "iopub.execute_input": "2024-09-29T02:38:31.461062Z",
     "iopub.status.busy": "2024-09-29T02:38:31.460655Z",
     "iopub.status.idle": "2024-09-29T02:38:31.472797Z",
     "shell.execute_reply": "2024-09-29T02:38:31.471242Z",
     "shell.execute_reply.started": "2024-09-29T02:38:31.461017Z"
    },
    "trusted": true
   },
   "outputs": [],
   "source": [
    "df_heart['num'] = df_heart['num'].replace([1,2,3,4], 1)"
   ]
  },
  {
   "cell_type": "code",
   "execution_count": 554,
   "metadata": {
    "ExecuteTime": {
     "end_time": "2025-01-27T05:48:06.196625Z",
     "start_time": "2025-01-27T05:48:06.194390Z"
    },
    "execution": {
     "iopub.execute_input": "2024-09-29T02:38:31.475142Z",
     "iopub.status.busy": "2024-09-29T02:38:31.474676Z",
     "iopub.status.idle": "2024-09-29T02:38:31.485571Z",
     "shell.execute_reply": "2024-09-29T02:38:31.484055Z",
     "shell.execute_reply.started": "2024-09-29T02:38:31.475093Z"
    },
    "trusted": true
   },
   "outputs": [],
   "source": [
    "def standardizer(df):\n",
    "    \n",
    "    temp_df = df.copy()\n",
    "    \n",
    "    for col in temp_df.columns[:-1]:\n",
    "        \n",
    "        temp_df[col] = (temp_df[col] - temp_df[col].mean())/temp_df[col].std()\n",
    "        \n",
    "    return temp_df"
   ]
  },
  {
   "cell_type": "code",
   "execution_count": 555,
   "metadata": {
    "ExecuteTime": {
     "end_time": "2025-01-27T05:48:06.244567Z",
     "start_time": "2025-01-27T05:48:06.240758Z"
    },
    "execution": {
     "iopub.execute_input": "2024-09-29T02:38:31.487758Z",
     "iopub.status.busy": "2024-09-29T02:38:31.487308Z",
     "iopub.status.idle": "2024-09-29T02:38:31.510941Z",
     "shell.execute_reply": "2024-09-29T02:38:31.509628Z",
     "shell.execute_reply.started": "2024-09-29T02:38:31.487713Z"
    },
    "trusted": true
   },
   "outputs": [],
   "source": [
    "df_heart_standardized = standardizer(df_heart)"
   ]
  },
  {
   "cell_type": "code",
   "execution_count": 556,
   "metadata": {
    "ExecuteTime": {
     "end_time": "2025-01-27T05:48:06.285938Z",
     "start_time": "2025-01-27T05:48:06.279365Z"
    },
    "execution": {
     "iopub.execute_input": "2024-09-29T02:38:31.513367Z",
     "iopub.status.busy": "2024-09-29T02:38:31.512839Z",
     "iopub.status.idle": "2024-09-29T02:38:31.545711Z",
     "shell.execute_reply": "2024-09-29T02:38:31.544242Z",
     "shell.execute_reply.started": "2024-09-29T02:38:31.513310Z"
    },
    "trusted": true
   },
   "outputs": [
    {
     "data": {
      "text/html": [
       "<div>\n",
       "<style scoped>\n",
       "    .dataframe tbody tr th:only-of-type {\n",
       "        vertical-align: middle;\n",
       "    }\n",
       "\n",
       "    .dataframe tbody tr th {\n",
       "        vertical-align: top;\n",
       "    }\n",
       "\n",
       "    .dataframe thead th {\n",
       "        text-align: right;\n",
       "    }\n",
       "</style>\n",
       "<table border=\"1\" class=\"dataframe\">\n",
       "  <thead>\n",
       "    <tr style=\"text-align: right;\">\n",
       "      <th></th>\n",
       "      <th>age</th>\n",
       "      <th>sex</th>\n",
       "      <th>cp</th>\n",
       "      <th>trestbps</th>\n",
       "      <th>chol</th>\n",
       "      <th>fbs</th>\n",
       "      <th>restecg</th>\n",
       "      <th>thalach</th>\n",
       "      <th>exang</th>\n",
       "      <th>oldpeak</th>\n",
       "      <th>slope</th>\n",
       "      <th>ca</th>\n",
       "      <th>thal</th>\n",
       "      <th>num</th>\n",
       "    </tr>\n",
       "  </thead>\n",
       "  <tbody>\n",
       "    <tr>\n",
       "      <th>0</th>\n",
       "      <td>63.0</td>\n",
       "      <td>1.0</td>\n",
       "      <td>1.0</td>\n",
       "      <td>145.0</td>\n",
       "      <td>233.0</td>\n",
       "      <td>1.0</td>\n",
       "      <td>2.0</td>\n",
       "      <td>150.0</td>\n",
       "      <td>0.0</td>\n",
       "      <td>2.3</td>\n",
       "      <td>3.0</td>\n",
       "      <td>0.0</td>\n",
       "      <td>6.0</td>\n",
       "      <td>0</td>\n",
       "    </tr>\n",
       "    <tr>\n",
       "      <th>1</th>\n",
       "      <td>67.0</td>\n",
       "      <td>1.0</td>\n",
       "      <td>4.0</td>\n",
       "      <td>160.0</td>\n",
       "      <td>286.0</td>\n",
       "      <td>0.0</td>\n",
       "      <td>2.0</td>\n",
       "      <td>108.0</td>\n",
       "      <td>1.0</td>\n",
       "      <td>1.5</td>\n",
       "      <td>2.0</td>\n",
       "      <td>3.0</td>\n",
       "      <td>3.0</td>\n",
       "      <td>1</td>\n",
       "    </tr>\n",
       "    <tr>\n",
       "      <th>2</th>\n",
       "      <td>67.0</td>\n",
       "      <td>1.0</td>\n",
       "      <td>4.0</td>\n",
       "      <td>120.0</td>\n",
       "      <td>229.0</td>\n",
       "      <td>0.0</td>\n",
       "      <td>2.0</td>\n",
       "      <td>129.0</td>\n",
       "      <td>1.0</td>\n",
       "      <td>2.6</td>\n",
       "      <td>2.0</td>\n",
       "      <td>2.0</td>\n",
       "      <td>7.0</td>\n",
       "      <td>1</td>\n",
       "    </tr>\n",
       "    <tr>\n",
       "      <th>3</th>\n",
       "      <td>37.0</td>\n",
       "      <td>1.0</td>\n",
       "      <td>3.0</td>\n",
       "      <td>130.0</td>\n",
       "      <td>250.0</td>\n",
       "      <td>0.0</td>\n",
       "      <td>0.0</td>\n",
       "      <td>187.0</td>\n",
       "      <td>0.0</td>\n",
       "      <td>3.5</td>\n",
       "      <td>3.0</td>\n",
       "      <td>0.0</td>\n",
       "      <td>3.0</td>\n",
       "      <td>0</td>\n",
       "    </tr>\n",
       "    <tr>\n",
       "      <th>4</th>\n",
       "      <td>41.0</td>\n",
       "      <td>0.0</td>\n",
       "      <td>2.0</td>\n",
       "      <td>130.0</td>\n",
       "      <td>204.0</td>\n",
       "      <td>0.0</td>\n",
       "      <td>2.0</td>\n",
       "      <td>172.0</td>\n",
       "      <td>0.0</td>\n",
       "      <td>1.4</td>\n",
       "      <td>1.0</td>\n",
       "      <td>0.0</td>\n",
       "      <td>3.0</td>\n",
       "      <td>0</td>\n",
       "    </tr>\n",
       "  </tbody>\n",
       "</table>\n",
       "</div>"
      ],
      "text/plain": [
       "    age  sex   cp  trestbps   chol  fbs  restecg  thalach  exang  oldpeak  \\\n",
       "0  63.0  1.0  1.0     145.0  233.0  1.0      2.0    150.0    0.0      2.3   \n",
       "1  67.0  1.0  4.0     160.0  286.0  0.0      2.0    108.0    1.0      1.5   \n",
       "2  67.0  1.0  4.0     120.0  229.0  0.0      2.0    129.0    1.0      2.6   \n",
       "3  37.0  1.0  3.0     130.0  250.0  0.0      0.0    187.0    0.0      3.5   \n",
       "4  41.0  0.0  2.0     130.0  204.0  0.0      2.0    172.0    0.0      1.4   \n",
       "\n",
       "   slope   ca  thal  num  \n",
       "0    3.0  0.0   6.0    0  \n",
       "1    2.0  3.0   3.0    1  \n",
       "2    2.0  2.0   7.0    1  \n",
       "3    3.0  0.0   3.0    0  \n",
       "4    1.0  0.0   3.0    0  "
      ]
     },
     "execution_count": 556,
     "metadata": {},
     "output_type": "execute_result"
    }
   ],
   "source": [
    "df_heart.head()"
   ]
  },
  {
   "cell_type": "code",
   "execution_count": 557,
   "metadata": {
    "ExecuteTime": {
     "end_time": "2025-01-27T05:48:06.375372Z",
     "start_time": "2025-01-27T05:48:06.370240Z"
    },
    "execution": {
     "iopub.execute_input": "2024-09-29T02:38:31.548455Z",
     "iopub.status.busy": "2024-09-29T02:38:31.547558Z",
     "iopub.status.idle": "2024-09-29T02:38:31.572580Z",
     "shell.execute_reply": "2024-09-29T02:38:31.571165Z",
     "shell.execute_reply.started": "2024-09-29T02:38:31.548393Z"
    },
    "trusted": true
   },
   "outputs": [
    {
     "data": {
      "text/html": [
       "<div>\n",
       "<style scoped>\n",
       "    .dataframe tbody tr th:only-of-type {\n",
       "        vertical-align: middle;\n",
       "    }\n",
       "\n",
       "    .dataframe tbody tr th {\n",
       "        vertical-align: top;\n",
       "    }\n",
       "\n",
       "    .dataframe thead th {\n",
       "        text-align: right;\n",
       "    }\n",
       "</style>\n",
       "<table border=\"1\" class=\"dataframe\">\n",
       "  <thead>\n",
       "    <tr style=\"text-align: right;\">\n",
       "      <th></th>\n",
       "      <th>age</th>\n",
       "      <th>sex</th>\n",
       "      <th>cp</th>\n",
       "      <th>trestbps</th>\n",
       "      <th>chol</th>\n",
       "      <th>fbs</th>\n",
       "      <th>restecg</th>\n",
       "      <th>thalach</th>\n",
       "      <th>exang</th>\n",
       "      <th>oldpeak</th>\n",
       "      <th>slope</th>\n",
       "      <th>ca</th>\n",
       "      <th>thal</th>\n",
       "      <th>num</th>\n",
       "    </tr>\n",
       "  </thead>\n",
       "  <tbody>\n",
       "    <tr>\n",
       "      <th>0</th>\n",
       "      <td>0.934603</td>\n",
       "      <td>0.689930</td>\n",
       "      <td>-2.236854</td>\n",
       "      <td>0.749116</td>\n",
       "      <td>-0.275978</td>\n",
       "      <td>2.426332</td>\n",
       "      <td>1.008496</td>\n",
       "      <td>0.017465</td>\n",
       "      <td>-0.695246</td>\n",
       "      <td>1.067164</td>\n",
       "      <td>2.260330</td>\n",
       "      <td>-0.720760</td>\n",
       "      <td>0.654772</td>\n",
       "      <td>0</td>\n",
       "    </tr>\n",
       "    <tr>\n",
       "      <th>1</th>\n",
       "      <td>1.376605</td>\n",
       "      <td>0.689930</td>\n",
       "      <td>0.872408</td>\n",
       "      <td>1.593577</td>\n",
       "      <td>0.743301</td>\n",
       "      <td>-0.410757</td>\n",
       "      <td>1.008496</td>\n",
       "      <td>-1.813274</td>\n",
       "      <td>1.433497</td>\n",
       "      <td>0.381130</td>\n",
       "      <td>0.642696</td>\n",
       "      <td>2.474249</td>\n",
       "      <td>-0.892713</td>\n",
       "      <td>1</td>\n",
       "    </tr>\n",
       "    <tr>\n",
       "      <th>2</th>\n",
       "      <td>1.376605</td>\n",
       "      <td>0.689930</td>\n",
       "      <td>0.872408</td>\n",
       "      <td>-0.658320</td>\n",
       "      <td>-0.352904</td>\n",
       "      <td>-0.410757</td>\n",
       "      <td>1.008496</td>\n",
       "      <td>-0.897904</td>\n",
       "      <td>1.433497</td>\n",
       "      <td>1.324427</td>\n",
       "      <td>0.642696</td>\n",
       "      <td>1.409246</td>\n",
       "      <td>1.170601</td>\n",
       "      <td>1</td>\n",
       "    </tr>\n",
       "    <tr>\n",
       "      <th>3</th>\n",
       "      <td>-1.938409</td>\n",
       "      <td>0.689930</td>\n",
       "      <td>-0.164013</td>\n",
       "      <td>-0.095345</td>\n",
       "      <td>0.050961</td>\n",
       "      <td>-0.410757</td>\n",
       "      <td>-1.001728</td>\n",
       "      <td>1.630258</td>\n",
       "      <td>-0.695246</td>\n",
       "      <td>2.096215</td>\n",
       "      <td>2.260330</td>\n",
       "      <td>-0.720760</td>\n",
       "      <td>-0.892713</td>\n",
       "      <td>0</td>\n",
       "    </tr>\n",
       "    <tr>\n",
       "      <th>4</th>\n",
       "      <td>-1.496407</td>\n",
       "      <td>-1.444542</td>\n",
       "      <td>-1.200433</td>\n",
       "      <td>-0.095345</td>\n",
       "      <td>-0.833696</td>\n",
       "      <td>-0.410757</td>\n",
       "      <td>1.008496</td>\n",
       "      <td>0.976423</td>\n",
       "      <td>-0.695246</td>\n",
       "      <td>0.295376</td>\n",
       "      <td>-0.974938</td>\n",
       "      <td>-0.720760</td>\n",
       "      <td>-0.892713</td>\n",
       "      <td>0</td>\n",
       "    </tr>\n",
       "  </tbody>\n",
       "</table>\n",
       "</div>"
      ],
      "text/plain": [
       "        age       sex        cp  trestbps      chol       fbs   restecg  \\\n",
       "0  0.934603  0.689930 -2.236854  0.749116 -0.275978  2.426332  1.008496   \n",
       "1  1.376605  0.689930  0.872408  1.593577  0.743301 -0.410757  1.008496   \n",
       "2  1.376605  0.689930  0.872408 -0.658320 -0.352904 -0.410757  1.008496   \n",
       "3 -1.938409  0.689930 -0.164013 -0.095345  0.050961 -0.410757 -1.001728   \n",
       "4 -1.496407 -1.444542 -1.200433 -0.095345 -0.833696 -0.410757  1.008496   \n",
       "\n",
       "    thalach     exang   oldpeak     slope        ca      thal  num  \n",
       "0  0.017465 -0.695246  1.067164  2.260330 -0.720760  0.654772    0  \n",
       "1 -1.813274  1.433497  0.381130  0.642696  2.474249 -0.892713    1  \n",
       "2 -0.897904  1.433497  1.324427  0.642696  1.409246  1.170601    1  \n",
       "3  1.630258 -0.695246  2.096215  2.260330 -0.720760 -0.892713    0  \n",
       "4  0.976423 -0.695246  0.295376 -0.974938 -0.720760 -0.892713    0  "
      ]
     },
     "execution_count": 557,
     "metadata": {},
     "output_type": "execute_result"
    }
   ],
   "source": [
    "df_heart_standardized.head()"
   ]
  },
  {
   "cell_type": "code",
   "execution_count": 558,
   "metadata": {
    "ExecuteTime": {
     "end_time": "2025-01-27T05:48:16.193656Z",
     "start_time": "2025-01-27T05:48:06.463521Z"
    },
    "execution": {
     "iopub.execute_input": "2024-09-29T02:38:31.575473Z",
     "iopub.status.busy": "2024-09-29T02:38:31.574967Z",
     "iopub.status.idle": "2024-09-29T02:38:31.582385Z",
     "shell.execute_reply": "2024-09-29T02:38:31.581216Z",
     "shell.execute_reply.started": "2024-09-29T02:38:31.575413Z"
    },
    "trusted": true
   },
   "outputs": [
    {
     "data": {
      "image/png": "[encoded data removed]",
      "text/plain": [
       "<Figure size 640x480 with 1 Axes>"
      ]
     },
     "metadata": {},
     "output_type": "display_data"
    }
   ],
   "source": [
    "sim_len = 100\n",
    "label_col = 'num'\n",
    "pos_label = 1\n",
    "neg_label = 0\n",
    "size = .5\n",
    "num_of_rand = 100\n",
    "heart_avg_info_gain_df, heart_avg_info_gain_array, heart_X_test, heart_y_test, heart_X_train, heart_y_train = run_simulation(sim_len, df_heart_standardized, label_col, pos_label, neg_label, size, num_of_rand)"
   ]
  },
  {
   "cell_type": "markdown",
   "metadata": {},
   "source": [
    "<p>1st process is getting sqaured difference </p>\n",
    "<p>2nd weights dot squared diff </p>\n",
    "<p>3rd sort resulting list</p>\n",
    "<p>4th return k neighbors </p>\n",
    "<p> 5th classify</p>"
   ]
  },
  {
   "cell_type": "code",
   "execution_count": 559,
   "metadata": {
    "ExecuteTime": {
     "end_time": "2025-01-27T05:48:16.263672Z",
     "start_time": "2025-01-27T05:48:16.259800Z"
    },
    "execution": {
     "iopub.execute_input": "2024-09-29T02:38:31.622058Z",
     "iopub.status.busy": "2024-09-29T02:38:31.621635Z",
     "iopub.status.idle": "2024-09-29T02:38:31.635871Z",
     "shell.execute_reply": "2024-09-29T02:38:31.634532Z",
     "shell.execute_reply.started": "2024-09-29T02:38:31.622002Z"
    },
    "trusted": true
   },
   "outputs": [],
   "source": [
    "#a and b are rows here. \n",
    "def Euclid_Distance(a,b,weights,Columns,Class):\n",
    "    c=Columns \n",
    "    D=0\n",
    "    for i in range(len(c)-1):\n",
    "        if c[i]!=Class:\n",
    "            D+=(weights[i]**2)*(float(a[c[i]])-float(b[c[i]]))**2\n",
    "    return D**0.5\n",
    "\n",
    "\n",
    "def Nearest_Neighbors(point,List_Pot_Nbrs,weights,Class_Col_Name):\n",
    "    ClassWithDistance=[]\n",
    "    d=0\n",
    "    for n in range(len(List_Pot_Nbrs)):\n",
    "        d=Euclid_Distance(point,List_Pot_Nbrs.iloc[n],weights,List_Pot_Nbrs.columns,Class_Col_Name)\n",
    "        ClassWithDistance+=[[d,List_Pot_Nbrs.iloc[n][Class_Col_Name]]]\n",
    "    sorted_list = sorted(ClassWithDistance, key=lambda x: x[0])\n",
    "    \n",
    "    return sorted_list\n",
    "\n",
    "def KNN(k,Sorted_List):\n",
    "    Sum=0\n",
    "    for i in range(k):\n",
    "        if Sorted_List[i][1]==1:\n",
    "            Sum+=1\n",
    "    if Sum>k/2:\n",
    "        return 1\n",
    "    else:\n",
    "        return 0\n",
    "    \n",
    "def ConfusionMatrix(TrP,TrN,FaP,FaN):\n",
    "    print(\"         Confusion Matrix\")\n",
    "    print(\"TN,FP: \",TrN, \"    ,    \", FaP)\n",
    "    print(\"FN,TP: \",FaN,\"     ,    \", TrP)\n"
   ]
  },
  {
   "cell_type": "code",
   "execution_count": 560,
   "metadata": {
    "ExecuteTime": {
     "end_time": "2025-01-27T05:48:16.311661Z",
     "start_time": "2025-01-27T05:48:16.309796Z"
    }
   },
   "outputs": [],
   "source": [
    "def specificity_score(TN,FP):\n",
    "    \n",
    "    return TN/(TN+FP)"
   ]
  },
  {
   "cell_type": "code",
   "execution_count": 561,
   "metadata": {
    "ExecuteTime": {
     "end_time": "2025-01-27T05:59:23.343215Z",
     "start_time": "2025-01-27T05:48:16.382322Z"
    },
    "execution": {
     "iopub.execute_input": "2024-09-29T02:38:31.637795Z",
     "iopub.status.busy": "2024-09-29T02:38:31.637085Z",
     "iopub.status.idle": "2024-09-29T03:15:08.233315Z",
     "shell.execute_reply": "2024-09-29T03:15:08.231719Z",
     "shell.execute_reply.started": "2024-09-29T02:38:31.637734Z"
    },
    "trusted": true
   },
   "outputs": [
    {
     "name": "stderr",
     "output_type": "stream",
     "text": [
      "/Library/Frameworks/Python.framework/Versions/3.11/lib/python3.11/site-packages/sklearn/neural_network/_multilayer_perceptron.py:545: ConvergenceWarning: lbfgs failed to converge (status=2):\n",
      "ABNORMAL_TERMINATION_IN_LNSRCH.\n",
      "\n",
      "Increase the number of iterations (max_iter) or scale the data as shown in:\n",
      "    https://scikit-learn.org/stable/modules/preprocessing.html\n",
      "  self.n_iter_ = _check_optimize_result(\"lbfgs\", opt_res, self.max_iter)\n"
     ]
    },
    {
     "data": {
      "image/png": "[encoded data removed]",
      "text/plain": [
       "<Figure size 640x480 with 1 Axes>"
      ]
     },
     "metadata": {},
     "output_type": "display_data"
    }
   ],
   "source": [
    "from sklearn.metrics import confusion_matrix\n",
    "\n",
    "avg_acc = []\n",
    "avg_precision = []\n",
    "avg_recall = []\n",
    "avg_f1 = []\n",
    "avg_specificity = []\n",
    "\n",
    "weight_avg_acc = []\n",
    "weight_avg_precision = []\n",
    "weight_avg_recall = []\n",
    "weight_avg_f1 = []\n",
    "weight_avg_specificity = []\n",
    "\n",
    "dropped_weight_avg_acc = []\n",
    "dropped_weight_avg_precision = []\n",
    "dropped_weight_avg_recall = []\n",
    "dropped_weight_avg_f1 = []\n",
    "dropped_weight_avg_specificity = []\n",
    "\n",
    "pca_avg_acc = []\n",
    "pca_avg_precision = []\n",
    "pca_avg_recall = []\n",
    "pca_avg_f1 = []\n",
    "pca_avg_specificity = []\n",
    "\n",
    "pca_explained_variance_acc = []\n",
    "pca_explained_variance_precision = []\n",
    "pca_explained_variance_recall = []\n",
    "pca_explained_variance_f1 = []\n",
    "pca_explained_variance_specificity = []\n",
    "\n",
    "NN_acc = []\n",
    "NN_precision = []\n",
    "NN_recall = []\n",
    "NN_f1 = []\n",
    "NN_specificity = []\n",
    "\n",
    "RFC_acc = []\n",
    "RFC_precision = []\n",
    "RFC_recall = []\n",
    "RFC_f1 = []\n",
    "RFC_specificity = []\n",
    "\n",
    "XGB_acc = []\n",
    "XGB_precision = []\n",
    "XGB_recall = []\n",
    "XGB_f1 = []\n",
    "XGB_specificity = []\n",
    "\n",
    "sim_len = 50\n",
    "label_col = 'num'\n",
    "pos_label = 1\n",
    "neg_label = 0\n",
    "size = .5\n",
    "num_of_rand = 100\n",
    "\n",
    "heart_swagger = []\n",
    "\n",
    "\n",
    "# Loops the length of the simulation\n",
    "\n",
    "for i in range(sim_len):\n",
    "    \n",
    "    heart_avg_info_gain_df, heart_avg_info_gain_array, heart_X_test, heart_y_test, heart_X_train, heart_y_train = run_simulation(sim_len, df_heart_standardized, label_col, pos_label, neg_label, size, num_of_rand)\n",
    "    Train_Data =  pd.concat([heart_X_train, heart_y_train], axis=1)\n",
    "    Test_Data = pd.concat([heart_X_test, heart_y_test], axis=1)\n",
    "    \n",
    "    TP=0\n",
    "    TN=0\n",
    "    FP=0\n",
    "    FN=0\n",
    "    \n",
    "    \n",
    "    # non weighted k-NN for all attributes\n",
    "    for p in range(len(Test_Data)):\n",
    "        point=Test_Data.iloc[p]\n",
    "        NBRS=Nearest_Neighbors(point, Train_Data, [1,1,1,1,1,1,1,1,1,1,1,1,1], \"num\")\n",
    "        Label=KNN(3,NBRS)\n",
    "        if (Label==point[\"num\"] and Label==1):\n",
    "            TP+=1\n",
    "        if (Label==point[\"num\"] and Label==0):\n",
    "            TN+=1\n",
    "        if (Label!=point[\"num\"] and Label==1):\n",
    "            FP+=1\n",
    "        if (Label!=point[\"num\"] and Label==0):\n",
    "            FN+=1\n",
    "    A_non_weighted=(TP+TN)/(TP+TN+FP+FN)\n",
    "    precision_non_weighted = TP/(TP+FP)\n",
    "    recall_non_weighted = TP/(TP+FN)\n",
    "    f1_non_weighted = (2 * precision_non_weighted * recall_non_weighted)/(precision_non_weighted+recall_non_weighted)\n",
    "    specificity_non_weighted = specificity_score(TN,FP)\n",
    "    \n",
    "    \n",
    "#     print(\"Accurecy:\", A)\n",
    "#     ConfusionMatrix(TP,TN,FP,FN)\n",
    "    avg_acc.append(A_non_weighted*100)\n",
    "    avg_precision.append(precision_non_weighted*100)\n",
    "    avg_recall.append(recall_non_weighted*100)\n",
    "    avg_f1.append(f1_non_weighted*100)\n",
    "    avg_specificity.append(specificity_non_weighted*100)\n",
    "\n",
    "    TP=0\n",
    "    TN=0\n",
    "    FP=0\n",
    "    FN=0\n",
    "\n",
    "    # weighted information gain k-NN with all attributes \n",
    "    for p in range(len(Test_Data)):\n",
    "        point=Test_Data.iloc[p]\n",
    "        NBRS=Nearest_Neighbors(point, Train_Data,  heart_avg_info_gain_array, \"num\")\n",
    "        Label=KNN(3,NBRS)\n",
    "        if (Label==point[\"num\"] and Label==1):\n",
    "            TP+=1\n",
    "        if (Label==point[\"num\"] and Label==0):\n",
    "            TN+=1\n",
    "        if (Label!=point[\"num\"] and Label==1):\n",
    "            FP+=1\n",
    "        if (Label!=point[\"num\"] and Label==0):\n",
    "            FN+=1\n",
    "    A_weighted=(TP+TN)/(TP+TN+FP+FN)\n",
    "    precision_weighted = TP/(TP+FP)\n",
    "    recall_weighted = TP/(TP+FN)\n",
    "    f1_weighted = (2 * precision_weighted * recall_weighted)/(precision_weighted+recall_weighted)\n",
    "    specificity_weighted = specificity_score(TN,FP)\n",
    "\n",
    "    weight_avg_acc.append(A_weighted*100)\n",
    "    weight_avg_precision.append(precision_weighted*100)\n",
    "    weight_avg_recall.append(recall_weighted*100)\n",
    "    weight_avg_f1.append(f1_weighted*100)\n",
    "    weight_avg_specificity.append(specificity_weighted*100)\n",
    "    \n",
    "    # dropping some columns as feature selections\n",
    "    alpha = .1\n",
    "    count = 0\n",
    "    heart_swagger = []\n",
    "    heart_indices = []  # Array to store the indices\n",
    "\n",
    "    for idx, ig in enumerate(heart_avg_info_gain_array):\n",
    "        if ((ig / max(heart_avg_info_gain_array)) ** 2 < alpha):\n",
    "            count += 1\n",
    "            heart_indices.append(idx)  # Append the index\n",
    "        else:\n",
    "            heart_swagger.append(ig)\n",
    "\n",
    "    dropped_heart_X_train = heart_X_train.drop(heart_X_train.columns[heart_indices],axis=1)\n",
    "    dropped_heart_X_test = heart_X_test.drop(heart_X_test.columns[heart_indices],axis=1)\n",
    "\n",
    "    Train_Data =  pd.concat([dropped_heart_X_train, heart_y_train], axis=1)\n",
    "    Test_Data = pd.concat([dropped_heart_X_test, heart_y_test], axis=1)\n",
    "\n",
    "    TP=0\n",
    "    TN=0\n",
    "    FP=0\n",
    "    FN=0\n",
    "\n",
    "    # weighted k-NN with dropped columns using information gain with dropped columns\n",
    "    for p in range(len(Test_Data)):\n",
    "        point=Test_Data.iloc[p]\n",
    "        NBRS=Nearest_Neighbors(point, Train_Data, heart_swagger , \"num\")\n",
    "        Label=KNN(3,NBRS)\n",
    "        if (Label==point[\"num\"] and Label==1):\n",
    "            TP+=1\n",
    "        if (Label==point[\"num\"] and Label==0):\n",
    "            TN+=1\n",
    "        if (Label!=point[\"num\"] and Label==1):\n",
    "            FP+=1\n",
    "        if (Label!=point[\"num\"] and Label==0):\n",
    "            FN+=1\n",
    "    A_dropped_weighted=(TP+TN)/(TP+TN+FP+FN)\n",
    "    precision_dropped_weighted = TP/(TP+FP)\n",
    "    recall_dropped_weighted = TP/(TP+FN)\n",
    "    f1_dropped_weighted = (2 * precision_dropped_weighted * recall_dropped_weighted)/(precision_dropped_weighted+recall_dropped_weighted)\n",
    "    specificity_dropped_weighted = specificity_score(TN,FP)\n",
    "\n",
    "    dropped_weight_avg_acc.append(A_dropped_weighted*100)\n",
    "    dropped_weight_avg_precision.append(precision_dropped_weighted*100)\n",
    "    dropped_weight_avg_recall.append(recall_dropped_weighted*100)\n",
    "    dropped_weight_avg_f1.append(f1_dropped_weighted*100)\n",
    "    dropped_weight_avg_specificity.append(specificity_dropped_weighted*100)\n",
    "    \n",
    "    \n",
    "    # PCA components brining all attributes to 7 \n",
    "    pca = PCA(n_components=7)\n",
    "    pc = pca.fit_transform(heart_X_train)\n",
    "    pca2 = PCA(n_components=7)\n",
    "    pc2 = pca.fit_transform(heart_X_test)\n",
    "\n",
    "    df_pca = pd.DataFrame(data=pc, columns=['principal component 1', 'principal component 2', 'principal component 3',\n",
    "                                            'principal component 4', 'principal component 5', 'principal component 6',\n",
    "                                            'principal component 7'])\n",
    "    df_pca2 = pd.DataFrame(data=pc2, columns=['principal component 1', 'principal component 2', 'principal component 3',\n",
    "                                          'principal component 4', 'principal component 5', 'principal component 6',\n",
    "                                          'principal component 7'])\n",
    "\n",
    "    final_train_pca_df = pd.concat([df_pca, heart_y_train[['num']]], axis = 1)\n",
    "    final_test_pca_df = pd.concat([df_pca2, heart_y_train[['num']]], axis = 1)\n",
    "\n",
    "    Train_Data =  final_train_pca_df\n",
    "    Test_Data = final_test_pca_df\n",
    "\n",
    "    TP=0\n",
    "    TN=0\n",
    "    FP=0\n",
    "    FN=0\n",
    "\n",
    "    # PCA k-NN\n",
    "    for p in range(len(Test_Data)):\n",
    "        point=Test_Data.iloc[p]\n",
    "        NBRS=Nearest_Neighbors(point, Train_Data, [1,1,1,1,1,1,1,1,1,1,1,1,1] , \"num\")\n",
    "        Label=KNN(3,NBRS)\n",
    "        if (Label==point[\"num\"] and Label==1):\n",
    "            TP+=1\n",
    "        if (Label==point[\"num\"] and Label==0):\n",
    "            TN+=1\n",
    "        if (Label!=point[\"num\"] and Label==1):\n",
    "            FP+=1\n",
    "        if (Label!=point[\"num\"] and Label==0):\n",
    "            FN+=1\n",
    "    \n",
    "    A_pca=(TP+TN)/(TP+TN+FP+FN)\n",
    "    precision_pca = TP/(TP+FP)\n",
    "    recall_pca = TP/(TP+FN)\n",
    "    f1_pca = (2 * precision_pca * recall_pca)/(precision_pca+recall_pca)\n",
    "    specificity_pca = specificity_score(TN,FP)\n",
    "\n",
    "    pca_avg_acc.append(A_pca*100)\n",
    "    pca_avg_precision.append(precision_pca*100)\n",
    "    pca_avg_recall.append(recall_pca*100)\n",
    "    pca_avg_f1.append(f1_pca*100)\n",
    "    pca_avg_specificity.append(specificity_pca*100)\n",
    "    \n",
    "    \n",
    "    # Explained Variance k-NN \n",
    "    ev_heart_avg_ev_df, ev_heart_avg_ev_array, ev_heart_X_test, ev_heart_y_test, ev_heart_X_train, ev_heart_y_train = mod_run_simulation(sim_len, df_heart_standardized, label_col, pos_label, neg_label, size, num_of_rand)\n",
    "\n",
    "\n",
    "    alpha = .1\n",
    "    count = 0\n",
    "    ev_heart_swagger = []\n",
    "    ev_heart_indices = []  # Array to store the indices\n",
    "\n",
    "    for idx, ev in enumerate(ev_heart_avg_ev_array):\n",
    "        if ev < (alpha ** 1 / 2)*max(ev_heart_avg_ev_array):\n",
    "            count += 1\n",
    "            ev_heart_indices.append(idx)  # Append the index\n",
    "        else:\n",
    "            ev_heart_swagger.append(ev)\n",
    "\n",
    "    ev_dropped_heart_X_train = ev_heart_X_train.drop(ev_heart_X_train.columns[ev_heart_indices],axis=1)\n",
    "    ev_dropped_heart_X_test = ev_heart_X_test.drop(ev_heart_X_test.columns[ev_heart_indices],axis=1)\n",
    "\n",
    "    Train_Data =  pd.concat([ev_dropped_heart_X_train, ev_heart_y_train], axis=1)\n",
    "    Test_Data = pd.concat([ev_dropped_heart_X_test, ev_heart_y_test], axis=1)\n",
    "\n",
    "    TP=0\n",
    "    TN=0\n",
    "    FP=0\n",
    "    FN=0\n",
    "\n",
    "\n",
    "    for p in range(len(Test_Data)):\n",
    "        point=Test_Data.iloc[p]\n",
    "        NBRS=Nearest_Neighbors(point, Train_Data, ev_heart_swagger , \"num\")\n",
    "        Label=KNN(3,NBRS)\n",
    "        if (Label==point[\"num\"] and Label==1):\n",
    "            TP+=1\n",
    "        if (Label==point[\"num\"] and Label==0):\n",
    "            TN+=1\n",
    "        if (Label!=point[\"num\"] and Label==1):\n",
    "            FP+=1\n",
    "        if (Label!=point[\"num\"] and Label==0):\n",
    "            FN+=1\n",
    "    A_pca_ev=(TP+TN)/(TP+TN+FP+FN)\n",
    "    precision_pca_ev = TP/(TP+FP)\n",
    "    recall_pca_ev = TP/(TP+FN)\n",
    "    f1_pca_ev = (2 * precision_pca_ev * recall_pca_ev)/(precision_pca_ev+recall_pca_ev)\n",
    "    specificity_pca_ev = specificity_score(TN,FP)\n",
    "\n",
    "    pca_explained_variance_acc.append(A_pca*100)\n",
    "    pca_explained_variance_precision.append(precision_pca*100)\n",
    "    pca_explained_variance_recall.append(recall_pca*100)\n",
    "    pca_explained_variance_f1.append(f1_pca*100)\n",
    "    pca_explained_variance_specificity.append(specificity_pca*100)\n",
    "    \n",
    "    \n",
    "    # Neural Network Classifier \n",
    "    clf_NN = MLPClassifier(solver='lbfgs', alpha=1e-5,\n",
    "                           hidden_layer_sizes=(5, 2), max_iter=1000, random_state=1)\n",
    "    clf_NN.fit(dropped_heart_X_train, heart_y_train.values.ravel())\n",
    "    \n",
    "    NN_prediction = clf_NN.predict(dropped_heart_X_test)\n",
    "\n",
    "    TN, FP, FN, TP = confusion_matrix(heart_y_test, NN_prediction, labels=[0, 1]).ravel()\n",
    "    \n",
    "    NN_acc.append(accuracy_score(heart_y_test, NN_prediction) * 100)\n",
    "    NN_precision.append(precision_score(heart_y_test, NN_prediction) * 100)\n",
    "    NN_recall.append(recall_score(heart_y_test, NN_prediction) * 100)\n",
    "    NN_f1.append(f1_score(heart_y_test, NN_prediction) * 100)\n",
    "    NN_specificity.append(specificity_score(TN, FP) * 100)\n",
    "    \n",
    "\n",
    "    # Random Forest Classifier \n",
    "    clf_RFC = RandomForestClassifier(max_depth=2, random_state=0)\n",
    "    clf_RFC.fit(dropped_heart_X_train, heart_y_train.values.ravel())\n",
    "\n",
    "    RFC_prediction = clf_NN.predict(dropped_heart_X_test)\n",
    "\n",
    "    TN, FP, FN, TP = confusion_matrix(heart_y_test, RFC_prediction, labels=[0, 1]).ravel()\n",
    "    \n",
    "    RFC_acc.append(accuracy_score(heart_y_test, RFC_prediction) * 100)\n",
    "    RFC_precision.append(precision_score(heart_y_test, RFC_prediction) * 100)\n",
    "    RFC_recall.append(recall_score(heart_y_test, RFC_prediction) * 100)\n",
    "    RFC_f1.append(f1_score(heart_y_test, RFC_prediction) * 100)\n",
    "    RFC_specificity.append(specificity_score(TN, FP) * 100)\n",
    "    \n",
    "    # XG Boost Classifier \n",
    "    clf_XGB = XGBClassifier(n_estimators=2, max_depth=2, learning_rate=1, objective='binary:logistic')\n",
    "\n",
    "    clf_XGB.fit(dropped_heart_X_train, heart_y_train.values.ravel())\n",
    "    \n",
    "    XGB_prediction = clf_XGB.predict(dropped_heart_X_test)\n",
    "\n",
    "    TN, FP, FN, TP = confusion_matrix(heart_y_test, XGB_prediction, labels=[0, 1]).ravel()\n",
    "    \n",
    "    XGB_acc.append(accuracy_score(heart_y_test, XGB_prediction) * 100)\n",
    "    XGB_precision.append(precision_score(heart_y_test, XGB_prediction) * 100)\n",
    "    XGB_recall.append(recall_score(heart_y_test, XGB_prediction) * 100)\n",
    "    XGB_f1.append(f1_score(heart_y_test, XGB_prediction) * 100)\n",
    "    XGB_specificity.append(specificity_score(TN, FP) * 100)"
   ]
  },
  {
   "cell_type": "markdown",
   "metadata": {},
   "source": [
    "<h1 style=\"text-align:center;\">Accuracy</h1>\n"
   ]
  },
  {
   "cell_type": "code",
   "execution_count": 562,
   "metadata": {
    "ExecuteTime": {
     "end_time": "2025-01-27T05:59:23.488071Z",
     "start_time": "2025-01-27T05:59:23.391411Z"
    }
   },
   "outputs": [
    {
     "data": {
      "image/png": "[encoded data removed]",
      "text/plain": [
       "<Figure size 1000x700 with 1 Axes>"
      ]
     },
     "metadata": {},
     "output_type": "display_data"
    }
   ],
   "source": [
    "fig = plt.figure(figsize =(10, 7))\n",
    "plt.title(\"Accuracy\",fontsize=14, fontweight='bold')\n",
    "\n",
    "data = [dropped_weight_avg_acc, NN_acc, RFC_acc, XGB_acc]\n",
    "\n",
    "x_axis = ['Dropped Cols Weighted k-NN', 'Neural Network', 'Random Forest Classification', 'XGBoost Classification']\n",
    "\n",
    "# Creating plot\n",
    "plt.boxplot(data, tick_labels=x_axis)\n",
    "\n",
    "plt.savefig('Accuracy.svg')\n",
    "\n",
    "# show plot\n",
    "plt.show()"
   ]
  },
  {
   "cell_type": "markdown",
   "metadata": {},
   "source": [
    "<h1 style=\"text-align:center;\">Specificity</h1>\n"
   ]
  },
  {
   "cell_type": "code",
   "execution_count": 563,
   "metadata": {
    "ExecuteTime": {
     "end_time": "2025-01-27T05:59:23.625253Z",
     "start_time": "2025-01-27T05:59:23.540271Z"
    }
   },
   "outputs": [
    {
     "data": {
      "image/png": "[encoded data removed]",
      "text/plain": [
       "<Figure size 1000x700 with 1 Axes>"
      ]
     },
     "metadata": {},
     "output_type": "display_data"
    }
   ],
   "source": [
    "fig = plt.figure(figsize =(10, 7))\n",
    "plt.title(\"Specificity\",fontsize=14, fontweight='bold')\n",
    "\n",
    "\n",
    "data = [dropped_weight_avg_specificity, NN_specificity, RFC_specificity , XGB_specificity]\n",
    "\n",
    "x_axis = ['Dropped Cols Weighted k-NN', 'Neural Network', 'Random Forest Classification', 'XGBoost Classification']\n",
    "\n",
    "# Creating plot\n",
    "plt.boxplot(data, tick_labels=x_axis)\n",
    "plt.savefig('Specificity.svg')\n",
    "# show plot\n",
    "plt.show()"
   ]
  },
  {
   "cell_type": "markdown",
   "metadata": {},
   "source": [
    "<h1 style=\"text-align:center;\">F1</h1>\n"
   ]
  },
  {
   "cell_type": "code",
   "execution_count": 564,
   "metadata": {
    "ExecuteTime": {
     "end_time": "2025-01-27T05:59:23.855467Z",
     "start_time": "2025-01-27T05:59:23.771245Z"
    }
   },
   "outputs": [
    {
     "data": {
      "image/png": "[encoded data removed]",
      "text/plain": [
       "<Figure size 1000x700 with 1 Axes>"
      ]
     },
     "metadata": {},
     "output_type": "display_data"
    }
   ],
   "source": [
    "fig = plt.figure(figsize =(10, 7))\n",
    "plt.title(\"F1\",fontsize=14, fontweight='bold')\n",
    "\n",
    "\n",
    "data = [dropped_weight_avg_f1, NN_f1, RFC_f1 , XGB_f1]\n",
    "\n",
    "x_axis = ['Dropped Cols Weighted k-NN', 'Neural Network', 'Random Forest Classification', 'XGBoost Classification']\n",
    "\n",
    "# Creating plot\n",
    "plt.boxplot(data, tick_labels=x_axis)\n",
    "plt.savefig('F1.svg')\n",
    "# show plot\n",
    "plt.show()"
   ]
  },
  {
   "cell_type": "markdown",
   "metadata": {},
   "source": [
    "<h1 style=\"text-align:center;\">Recall</h1>"
   ]
  },
  {
   "cell_type": "code",
   "execution_count": 565,
   "metadata": {
    "ExecuteTime": {
     "end_time": "2025-01-27T05:59:23.987615Z",
     "start_time": "2025-01-27T05:59:23.901785Z"
    }
   },
   "outputs": [
    {
     "data": {
      "image/png": "[encoded data removed]",
      "text/plain": [
       "<Figure size 1000x700 with 1 Axes>"
      ]
     },
     "metadata": {},
     "output_type": "display_data"
    }
   ],
   "source": [
    "fig = plt.figure(figsize =(10, 7))\n",
    "plt.title(\"Recall\",fontsize=14, fontweight='bold')\n",
    "\n",
    "\n",
    "data = [dropped_weight_avg_recall, NN_recall, RFC_recall , XGB_recall]\n",
    "\n",
    "x_axis = ['Dropped Cols Weighted k-NN', 'Neural Network', 'Random Forest Classification', 'XGBoost Classification']\n",
    "\n",
    "# Creating plot\n",
    "plt.boxplot(data, tick_labels=x_axis)\n",
    "plt.savefig('Recall.svg')\n",
    "# show plot\n",
    "plt.show()"
   ]
  },
  {
   "cell_type": "markdown",
   "metadata": {},
   "source": [
    "<h1 style=text-align:center;>Precision</h1>"
   ]
  },
  {
   "cell_type": "code",
   "execution_count": 566,
   "metadata": {
    "ExecuteTime": {
     "end_time": "2025-01-27T05:59:24.111321Z",
     "start_time": "2025-01-27T05:59:24.033030Z"
    }
   },
   "outputs": [
    {
     "data": {
      "image/png": "[encoded data removed]",
      "text/plain": [
       "<Figure size 1000x700 with 1 Axes>"
      ]
     },
     "metadata": {},
     "output_type": "display_data"
    }
   ],
   "source": [
    "fig = plt.figure(figsize =(10, 7))\n",
    "plt.title(\"Precision\",fontsize=14, fontweight='bold')\n",
    "\n",
    "\n",
    "data = [dropped_weight_avg_precision,XGB_precision, XGB_precision , XGB_precision]\n",
    "\n",
    "x_axis = ['Dropped Cols Weighted k-NN', 'Neural Network', 'Random Forest Classification', 'XGBoost Classification']\n",
    "\n",
    "# Creating plot\n",
    "plt.boxplot(data, tick_labels=x_axis)\n",
    "plt.savefig('Precision.svg')\n",
    "# show plot\n",
    "plt.show()"
   ]
  },
  {
   "cell_type": "code",
   "execution_count": 567,
   "metadata": {
    "ExecuteTime": {
     "end_time": "2025-01-27T05:59:24.157120Z",
     "start_time": "2025-01-27T05:59:24.155298Z"
    }
   },
   "outputs": [],
   "source": [
    "# fig = plt.figure(figsize =(10, 7))\n",
    "# plt.title(\"Accuracy\",fontsize=14, fontweight='bold')\n",
    "# \n",
    "# data = [dropped_weight_acc, NN_acc, RFC_acc, XGB_acc]\n",
    "# \n",
    "# x_axis = ['Dropped Cols Weighted k-NN', 'Neural Network', 'Random Forest Classification', 'XGBoost Classification']\n",
    "# \n",
    "# # Creating plot\n",
    "# plt.boxplot(data, tick_labels=x_axis)\n",
    "# \n",
    "# # plt.savefig('Accuracy.svg')\n",
    "# \n",
    "# # show plot\n",
    "# plt.show()"
   ]
  },
  {
   "cell_type": "code",
   "execution_count": 568,
   "metadata": {
    "ExecuteTime": {
     "end_time": "2025-01-27T05:59:24.202778Z",
     "start_time": "2025-01-27T05:59:24.200184Z"
    }
   },
   "outputs": [
    {
     "data": {
      "text/plain": [
       "78.0758406526702"
      ]
     },
     "execution_count": 568,
     "metadata": {},
     "output_type": "execute_result"
    }
   ],
   "source": [
    "import statistics\n",
    "statistics.mean(avg_acc)"
   ]
  },
  {
   "cell_type": "code",
   "execution_count": 569,
   "metadata": {
    "ExecuteTime": {
     "end_time": "2025-01-27T05:59:24.249794Z",
     "start_time": "2025-01-27T05:59:24.247215Z"
    }
   },
   "outputs": [
    {
     "data": {
      "text/plain": [
       "75.24940869803554"
      ]
     },
     "execution_count": 569,
     "metadata": {},
     "output_type": "execute_result"
    }
   ],
   "source": [
    "statistics.mean(NN_acc)"
   ]
  },
  {
   "cell_type": "markdown",
   "metadata": {},
   "source": [
    "<h1 style=\"text-align:center;\">These are the Boxplots Including Regular PCA</h1>\n"
   ]
  },
  {
   "cell_type": "code",
   "execution_count": 570,
   "metadata": {
    "ExecuteTime": {
     "end_time": "2025-01-27T05:59:24.383725Z",
     "start_time": "2025-01-27T05:59:24.295753Z"
    }
   },
   "outputs": [
    {
     "data": {
      "image/png": "[encoded data removed]",
      "text/plain": [
       "<Figure size 1000x700 with 1 Axes>"
      ]
     },
     "metadata": {},
     "output_type": "display_data"
    }
   ],
   "source": [
    "fig = plt.figure(figsize =(10, 7))\n",
    "plt.title(\"Accuracy\",fontsize=14, fontweight='bold')\n",
    "\n",
    "\n",
    "data = [avg_acc,weight_avg_acc ,dropped_weight_avg_acc, pca_avg_acc, pca_explained_variance_acc]\n",
    "\n",
    "x_axis = ['Unweighted k-NN', 'Weights k-NN', 'Dropped Cols Weighted k-NN', 'PCA', 'PCA Explained Variance']\n",
    "\n",
    "# Creating plot\n",
    "plt.boxplot(data, tick_labels=x_axis)\n",
    "\n",
    "plt.savefig('Accuracy.svg')\n",
    "\n",
    "# show plot\n",
    "plt.show()"
   ]
  },
  {
   "cell_type": "code",
   "execution_count": 571,
   "metadata": {
    "ExecuteTime": {
     "end_time": "2025-01-27T05:59:24.516361Z",
     "start_time": "2025-01-27T05:59:24.430435Z"
    }
   },
   "outputs": [
    {
     "data": {
      "image/png": "[encoded data removed]",
      "text/plain": [
       "<Figure size 1000x700 with 1 Axes>"
      ]
     },
     "metadata": {},
     "output_type": "display_data"
    }
   ],
   "source": [
    "fig = plt.figure(figsize =(10, 7))\n",
    "plt.title(\"Specificity\",fontsize=14, fontweight='bold')\n",
    "\n",
    "\n",
    "data = [avg_specificity, weight_avg_specificity, dropped_weight_avg_specificity, pca_avg_specificity, pca_explained_variance_specificity]\n",
    "\n",
    "x_axis = ['Unweighted k-NN', 'Weights k-NN', 'Dropped Cols Weighted k-NN', 'PCA', 'PCA Explained Variance']\n",
    "\n",
    "# Creating plot\n",
    "plt.boxplot(data, tick_labels=x_axis)\n",
    "plt.savefig('Specificity.svg')\n",
    "# show plot\n",
    "plt.show()"
   ]
  },
  {
   "cell_type": "code",
   "execution_count": 572,
   "metadata": {
    "ExecuteTime": {
     "end_time": "2025-01-27T05:59:24.645008Z",
     "start_time": "2025-01-27T05:59:24.562301Z"
    }
   },
   "outputs": [
    {
     "data": {
      "image/png": "[encoded data removed]",
      "text/plain": [
       "<Figure size 1000x700 with 1 Axes>"
      ]
     },
     "metadata": {},
     "output_type": "display_data"
    }
   ],
   "source": [
    "fig = plt.figure(figsize =(10, 7))\n",
    "plt.title(\"F1\",fontsize=14, fontweight='bold')\n",
    "\n",
    "\n",
    "data = [avg_f1, weight_avg_f1, dropped_weight_avg_f1, pca_avg_f1, pca_explained_variance_f1]\n",
    "\n",
    "x_axis = ['Unweighted k-NN', 'Weights k-NN', 'Dropped Cols Weighted k-NN', 'PCA', 'PCA Explained Variance']\n",
    "\n",
    "# Creating plot\n",
    "plt.boxplot(data, tick_labels=x_axis)\n",
    "\n",
    "plt.savefig('F1.svg')\n",
    "\n",
    "# show plot\n",
    "plt.show()"
   ]
  },
  {
   "cell_type": "code",
   "execution_count": 573,
   "metadata": {
    "ExecuteTime": {
     "end_time": "2025-01-27T05:59:24.810282Z",
     "start_time": "2025-01-27T05:59:24.729634Z"
    }
   },
   "outputs": [
    {
     "data": {
      "image/png": "[encoded data removed]",
      "text/plain": [
       "<Figure size 1000x700 with 1 Axes>"
      ]
     },
     "metadata": {},
     "output_type": "display_data"
    }
   ],
   "source": [
    "fig = plt.figure(figsize =(10, 7))\n",
    "plt.title(\"Recall\",fontsize=14, fontweight='bold')\n",
    "\n",
    "\n",
    "data = [avg_recall,weight_avg_recall, dropped_weight_avg_recall, pca_avg_recall, pca_explained_variance_recall]\n",
    "\n",
    "x_axis = ['Unweighted k-NN', 'Weights k-NN', 'Dropped Cols Weighted k-NN', 'PCA', 'PCA Explained Variance']\n",
    "\n",
    "# Creating plot\n",
    "plt.boxplot(data, tick_labels=x_axis)\n",
    "\n",
    "plt.savefig('Recall.svg')\n",
    "\n",
    "# show plot\n",
    "plt.show()"
   ]
  },
  {
   "cell_type": "code",
   "execution_count": 574,
   "metadata": {
    "ExecuteTime": {
     "end_time": "2025-01-27T05:59:24.920016Z",
     "start_time": "2025-01-27T05:59:24.834368Z"
    }
   },
   "outputs": [
    {
     "data": {
      "image/png": "[encoded data removed]",
      "text/plain": [
       "<Figure size 1000x700 with 1 Axes>"
      ]
     },
     "metadata": {},
     "output_type": "display_data"
    }
   ],
   "source": [
    "fig = plt.figure(figsize =(10, 7))\n",
    "plt.title(\"Precision\",fontsize=14, fontweight='bold')\n",
    "\n",
    "\n",
    "data = [avg_precision, weight_avg_precision, dropped_weight_avg_precision, pca_avg_precision, pca_explained_variance_precision]\n",
    "\n",
    "x_axis = ['Unweighted k-NN', 'Weights k-NN', 'Dropped Cols Weighted k-NN', 'PCA', 'PCA Explained Variance']\n",
    "\n",
    "# Creating plot\n",
    "plt.boxplot(data, tick_labels=x_axis)\n",
    "\n",
    "plt.savefig('Precision.svg')\n",
    "\n",
    "# show plot\n",
    "plt.show()"
   ]
  },
  {
   "cell_type": "markdown",
   "metadata": {},
   "source": [
    "<h1 style=\"text-align:center;\">These are the Boxplots Without Regular PCA</h1>"
   ]
  },
  {
   "cell_type": "code",
   "execution_count": 575,
   "metadata": {
    "ExecuteTime": {
     "end_time": "2025-01-27T05:59:25.029075Z",
     "start_time": "2025-01-27T05:59:24.964818Z"
    },
    "execution": {
     "iopub.execute_input": "2024-09-29T04:26:33.664317Z",
     "iopub.status.busy": "2024-09-29T04:26:33.663610Z",
     "iopub.status.idle": "2024-09-29T04:26:33.946346Z",
     "shell.execute_reply": "2024-09-29T04:26:33.945143Z",
     "shell.execute_reply.started": "2024-09-29T04:26:33.664265Z"
    },
    "trusted": true
   },
   "outputs": [
    {
     "data": {
      "image/png": "[encoded data removed]",
      "text/plain": [
       "<Figure size 1000x700 with 1 Axes>"
      ]
     },
     "metadata": {},
     "output_type": "display_data"
    }
   ],
   "source": [
    "fig = plt.figure(figsize =(10, 7))\n",
    "plt.title(\"Accuracy\",fontsize=14, fontweight='bold')\n",
    "\n",
    "\n",
    "data = [avg_acc,weight_avg_acc ,dropped_weight_avg_acc,pca_explained_variance_acc]\n",
    "\n",
    "x_axis = ['Unweighted k-NN', 'Weights k-NN', 'Dropped Cols Weighted k-NN','PCA Explained Variance']\n",
    "\n",
    "# Creating plot\n",
    "plt.boxplot(data, tick_labels=x_axis)\n",
    "\n",
    "# show plot\n",
    "plt.show()"
   ]
  },
  {
   "cell_type": "code",
   "execution_count": 576,
   "metadata": {
    "ExecuteTime": {
     "end_time": "2025-01-27T05:59:25.141275Z",
     "start_time": "2025-01-27T05:59:25.076143Z"
    }
   },
   "outputs": [
    {
     "data": {
      "image/png": "[encoded data removed]",
      "text/plain": [
       "<Figure size 1000x700 with 1 Axes>"
      ]
     },
     "metadata": {},
     "output_type": "display_data"
    }
   ],
   "source": [
    "fig = plt.figure(figsize =(10, 7))\n",
    "plt.title(\"Precision\",fontsize=14, fontweight='bold')\n",
    "\n",
    "\n",
    "data = [avg_precision,weight_avg_precision ,dropped_weight_avg_precision,pca_explained_variance_precision]\n",
    "\n",
    "x_axis = ['Unweighted k-NN', 'Weights k-NN', 'Dropped Cols Weighted k-NN','PCA Explained Variance']\n",
    "\n",
    "# Creating plot\n",
    "plt.boxplot(data, tick_labels=x_axis)\n",
    "\n",
    "# show plot\n",
    "plt.show()"
   ]
  },
  {
   "cell_type": "code",
   "execution_count": 577,
   "metadata": {
    "ExecuteTime": {
     "end_time": "2025-01-27T05:59:25.250282Z",
     "start_time": "2025-01-27T05:59:25.186742Z"
    }
   },
   "outputs": [
    {
     "data": {
      "image/png": "[encoded data removed]",
      "text/plain": [
       "<Figure size 1000x700 with 1 Axes>"
      ]
     },
     "metadata": {},
     "output_type": "display_data"
    }
   ],
   "source": [
    "fig = plt.figure(figsize =(10, 7))\n",
    "plt.title(\"Recall\",fontsize=14, fontweight='bold')\n",
    "\n",
    "\n",
    "data = [avg_recall,weight_avg_recall ,dropped_weight_avg_recall,pca_explained_variance_recall]\n",
    "\n",
    "x_axis = ['Unweighted k-NN', 'Weights k-NN', 'Dropped Cols Weighted k-NN','PCA Explained Variance']\n",
    "\n",
    "# Creating plot\n",
    "plt.boxplot(data, tick_labels=x_axis)\n",
    "\n",
    "# show plot\n",
    "plt.show()"
   ]
  },
  {
   "cell_type": "code",
   "execution_count": 578,
   "metadata": {
    "ExecuteTime": {
     "end_time": "2025-01-27T05:59:25.355566Z",
     "start_time": "2025-01-27T05:59:25.293361Z"
    }
   },
   "outputs": [
    {
     "data": {
      "image/png": "[encoded data removed]",
      "text/plain": [
       "<Figure size 1000x700 with 1 Axes>"
      ]
     },
     "metadata": {},
     "output_type": "display_data"
    }
   ],
   "source": [
    "fig = plt.figure(figsize =(10, 7))\n",
    "plt.title(\"F1\",fontsize=14, fontweight='bold')\n",
    "\n",
    "\n",
    "data = [avg_f1,weight_avg_f1 ,dropped_weight_avg_f1,pca_explained_variance_f1]\n",
    "\n",
    "x_axis = ['Unweighted k-NN', 'Weights k-NN', 'Dropped Cols Weighted k-NN','PCA Explained Variance']\n",
    "\n",
    "# Creating plot\n",
    "plt.boxplot(data, tick_labels=x_axis)\n",
    "\n",
    "# show plot\n",
    "plt.show()"
   ]
  },
  {
   "cell_type": "code",
   "execution_count": 579,
   "metadata": {
    "ExecuteTime": {
     "end_time": "2025-01-27T05:59:25.465202Z",
     "start_time": "2025-01-27T05:59:25.399200Z"
    }
   },
   "outputs": [
    {
     "data": {
      "image/png": "[encoded data removed]",
      "text/plain": [
       "<Figure size 1000x700 with 1 Axes>"
      ]
     },
     "metadata": {},
     "output_type": "display_data"
    }
   ],
   "source": [
    "fig = plt.figure(figsize =(10, 7))\n",
    "plt.title(\"Specificity\",fontsize=14, fontweight='bold')\n",
    "\n",
    "\n",
    "data = [avg_specificity,weight_avg_specificity ,dropped_weight_avg_specificity,pca_explained_variance_specificity]\n",
    "\n",
    "x_axis = ['Unweighted k-NN', 'Weights k-NN', 'Dropped Cols Weighted k-NN','PCA Explained Variance']\n",
    "\n",
    "# Creating plot\n",
    "plt.boxplot(data, tick_labels=x_axis)\n",
    "\n",
    "# show plot\n",
    "plt.show()"
   ]
  },
  {
   "cell_type": "code",
   "execution_count": 580,
   "metadata": {
    "ExecuteTime": {
     "end_time": "2025-01-27T05:59:25.511943Z",
     "start_time": "2025-01-27T05:59:25.509249Z"
    }
   },
   "outputs": [
    {
     "data": {
      "text/plain": [
       "69.44444444444444"
      ]
     },
     "execution_count": 580,
     "metadata": {},
     "output_type": "execute_result"
    }
   ],
   "source": [
    "min(data[0])"
   ]
  },
  {
   "cell_type": "code",
   "execution_count": 581,
   "metadata": {
    "ExecuteTime": {
     "end_time": "2025-01-27T05:59:25.558496Z",
     "start_time": "2025-01-27T05:59:25.556132Z"
    }
   },
   "outputs": [
    {
     "data": {
      "text/plain": [
       "68.51851851851852"
      ]
     },
     "execution_count": 581,
     "metadata": {},
     "output_type": "execute_result"
    }
   ],
   "source": [
    "min(data[1])"
   ]
  },
  {
   "cell_type": "code",
   "execution_count": 582,
   "metadata": {
    "ExecuteTime": {
     "end_time": "2025-01-27T05:59:25.606335Z",
     "start_time": "2025-01-27T05:59:25.603695Z"
    }
   },
   "outputs": [
    {
     "data": {
      "text/plain": [
       "71.84466019417476"
      ]
     },
     "execution_count": 582,
     "metadata": {},
     "output_type": "execute_result"
    }
   ],
   "source": [
    "min(data[2])"
   ]
  },
  {
   "cell_type": "code",
   "execution_count": 583,
   "metadata": {
    "ExecuteTime": {
     "end_time": "2025-01-27T05:59:25.656548Z",
     "start_time": "2025-01-27T05:59:25.652667Z"
    }
   },
   "outputs": [
    {
     "data": {
      "text/plain": [
       "16.0"
      ]
     },
     "execution_count": 583,
     "metadata": {},
     "output_type": "execute_result"
    }
   ],
   "source": [
    "min(data[3])"
   ]
  },
  {
   "cell_type": "code",
   "execution_count": 584,
   "metadata": {
    "ExecuteTime": {
     "end_time": "2025-01-27T05:59:25.704582Z",
     "start_time": "2025-01-27T05:59:25.701846Z"
    }
   },
   "outputs": [
    {
     "data": {
      "text/plain": [
       "87.75510204081633"
      ]
     },
     "execution_count": 584,
     "metadata": {},
     "output_type": "execute_result"
    }
   ],
   "source": [
    "max(data[0])"
   ]
  },
  {
   "cell_type": "markdown",
   "metadata": {},
   "source": []
  },
  {
   "cell_type": "code",
   "execution_count": 585,
   "metadata": {
    "ExecuteTime": {
     "end_time": "2025-01-27T05:59:25.825489Z",
     "start_time": "2025-01-27T05:59:25.822858Z"
    }
   },
   "outputs": [
    {
     "data": {
      "text/plain": [
       "88.77551020408163"
      ]
     },
     "execution_count": 585,
     "metadata": {},
     "output_type": "execute_result"
    }
   ],
   "source": [
    "max(data[1])"
   ]
  },
  {
   "cell_type": "code",
   "execution_count": 586,
   "metadata": {
    "ExecuteTime": {
     "end_time": "2025-01-27T05:59:25.871420Z",
     "start_time": "2025-01-27T05:59:25.868970Z"
    }
   },
   "outputs": [
    {
     "data": {
      "text/plain": [
       "88.46153846153845"
      ]
     },
     "execution_count": 586,
     "metadata": {},
     "output_type": "execute_result"
    }
   ],
   "source": [
    "max(data[2])"
   ]
  },
  {
   "cell_type": "code",
   "execution_count": 587,
   "metadata": {
    "ExecuteTime": {
     "end_time": "2025-01-27T05:59:25.919044Z",
     "start_time": "2025-01-27T05:59:25.916527Z"
    }
   },
   "outputs": [
    {
     "data": {
      "text/plain": [
       "68.0"
      ]
     },
     "execution_count": 587,
     "metadata": {},
     "output_type": "execute_result"
    }
   ],
   "source": [
    "max(data[3])"
   ]
  },
  {
   "cell_type": "code",
   "execution_count": 588,
   "metadata": {
    "ExecuteTime": {
     "end_time": "2025-01-27T05:59:25.967760Z",
     "start_time": "2025-01-27T05:59:25.964121Z"
    }
   },
   "outputs": [],
   "source": [
    "pca = PCA(n_components=len(dropped_heart_X_train.columns))\n",
    "pc = pca.fit_transform(dropped_heart_X_train)\n",
    "pca2 = PCA(n_components=len(dropped_heart_X_test.columns))\n",
    "pc2 = pca.fit_transform(dropped_heart_X_test)"
   ]
  },
  {
   "cell_type": "code",
   "execution_count": 589,
   "metadata": {
    "ExecuteTime": {
     "end_time": "2025-01-27T05:59:26.012453Z",
     "start_time": "2025-01-27T05:59:26.009866Z"
    }
   },
   "outputs": [
    {
     "data": {
      "text/plain": [
       "array([[-1.7354826 , -0.40539895, -0.1646077 , ..., -0.53592675,\n",
       "        -0.54077473, -0.0656547 ],\n",
       "       [ 1.71785199,  0.33865887, -1.11145705, ..., -0.24309442,\n",
       "         0.20364906,  0.13236545],\n",
       "       [ 2.92274274, -0.66605486,  1.22765204, ...,  1.15330384,\n",
       "        -0.50450688, -0.74312069],\n",
       "       ...,\n",
       "       [-1.61618966, -0.05186975, -0.31586436, ...,  0.74172029,\n",
       "        -0.31958134,  0.8324921 ],\n",
       "       [-1.07398162, -0.10522627, -0.19148058, ..., -0.96862464,\n",
       "        -1.53746943,  0.16022601],\n",
       "       [-0.54530465,  0.20240867, -0.40260393, ..., -0.76307158,\n",
       "        -0.68624027, -0.61299422]])"
      ]
     },
     "execution_count": 589,
     "metadata": {},
     "output_type": "execute_result"
    }
   ],
   "source": [
    "pc"
   ]
  },
  {
   "cell_type": "code",
   "execution_count": 590,
   "metadata": {
    "ExecuteTime": {
     "end_time": "2025-01-27T05:59:26.080201Z",
     "start_time": "2025-01-27T05:59:26.075647Z"
    }
   },
   "outputs": [
    {
     "data": {
      "text/html": [
       "<div>\n",
       "<style scoped>\n",
       "    .dataframe tbody tr th:only-of-type {\n",
       "        vertical-align: middle;\n",
       "    }\n",
       "\n",
       "    .dataframe tbody tr th {\n",
       "        vertical-align: top;\n",
       "    }\n",
       "\n",
       "    .dataframe thead th {\n",
       "        text-align: right;\n",
       "    }\n",
       "</style>\n",
       "<table border=\"1\" class=\"dataframe\">\n",
       "  <thead>\n",
       "    <tr style=\"text-align: right;\">\n",
       "      <th></th>\n",
       "      <th>cp</th>\n",
       "      <th>thalach</th>\n",
       "      <th>exang</th>\n",
       "      <th>oldpeak</th>\n",
       "      <th>slope</th>\n",
       "      <th>ca</th>\n",
       "      <th>thal</th>\n",
       "    </tr>\n",
       "  </thead>\n",
       "  <tbody>\n",
       "    <tr>\n",
       "      <th>0</th>\n",
       "      <td>-0.164013</td>\n",
       "      <td>0.104643</td>\n",
       "      <td>-0.695246</td>\n",
       "      <td>-0.905184</td>\n",
       "      <td>-0.974938</td>\n",
       "      <td>-0.720760</td>\n",
       "      <td>-0.892713</td>\n",
       "    </tr>\n",
       "    <tr>\n",
       "      <th>1</th>\n",
       "      <td>-0.164013</td>\n",
       "      <td>-0.810726</td>\n",
       "      <td>1.433497</td>\n",
       "      <td>0.638393</td>\n",
       "      <td>0.642696</td>\n",
       "      <td>-0.720760</td>\n",
       "      <td>1.170601</td>\n",
       "    </tr>\n",
       "    <tr>\n",
       "      <th>2</th>\n",
       "      <td>0.872408</td>\n",
       "      <td>-0.810726</td>\n",
       "      <td>1.433497</td>\n",
       "      <td>0.981410</td>\n",
       "      <td>0.642696</td>\n",
       "      <td>2.474249</td>\n",
       "      <td>1.170601</td>\n",
       "    </tr>\n",
       "    <tr>\n",
       "      <th>3</th>\n",
       "      <td>0.872408</td>\n",
       "      <td>-0.200480</td>\n",
       "      <td>1.433497</td>\n",
       "      <td>-0.219150</td>\n",
       "      <td>0.642696</td>\n",
       "      <td>0.344243</td>\n",
       "      <td>1.170601</td>\n",
       "    </tr>\n",
       "    <tr>\n",
       "      <th>4</th>\n",
       "      <td>0.872408</td>\n",
       "      <td>0.453355</td>\n",
       "      <td>1.433497</td>\n",
       "      <td>0.295376</td>\n",
       "      <td>-0.974938</td>\n",
       "      <td>1.409246</td>\n",
       "      <td>1.170601</td>\n",
       "    </tr>\n",
       "  </tbody>\n",
       "</table>\n",
       "</div>"
      ],
      "text/plain": [
       "         cp   thalach     exang   oldpeak     slope        ca      thal\n",
       "0 -0.164013  0.104643 -0.695246 -0.905184 -0.974938 -0.720760 -0.892713\n",
       "1 -0.164013 -0.810726  1.433497  0.638393  0.642696 -0.720760  1.170601\n",
       "2  0.872408 -0.810726  1.433497  0.981410  0.642696  2.474249  1.170601\n",
       "3  0.872408 -0.200480  1.433497 -0.219150  0.642696  0.344243  1.170601\n",
       "4  0.872408  0.453355  1.433497  0.295376 -0.974938  1.409246  1.170601"
      ]
     },
     "execution_count": 590,
     "metadata": {},
     "output_type": "execute_result"
    }
   ],
   "source": [
    "dropped_heart_X_train.head()"
   ]
  },
  {
   "cell_type": "code",
   "execution_count": 591,
   "metadata": {
    "ExecuteTime": {
     "end_time": "2025-01-27T05:59:26.143289Z",
     "start_time": "2025-01-27T05:59:26.140950Z"
    }
   },
   "outputs": [
    {
     "data": {
      "text/plain": [
       "array([[ 2.52162573,  1.2183769 ,  0.95016714, ..., -0.28428097,\n",
       "         0.69321669,  0.43673129],\n",
       "       [-0.81393088,  0.81412985,  0.05239002, ...,  0.19181237,\n",
       "        -1.17258883, -0.05987876],\n",
       "       [ 2.93664631, -1.14006161, -1.66033255, ...,  0.55320029,\n",
       "         0.50219494,  0.0780208 ],\n",
       "       ...,\n",
       "       [-1.11071011, -1.60798663, -1.23832102, ...,  0.43771038,\n",
       "         0.36238693,  1.96571787],\n",
       "       [-1.81532301, -0.66610729, -0.10671577, ..., -0.00830741,\n",
       "         0.26201778, -0.95666914],\n",
       "       [-2.60181723, -0.3162809 ,  0.00445056, ..., -0.00881253,\n",
       "         0.49186673, -0.18006818]])"
      ]
     },
     "execution_count": 591,
     "metadata": {},
     "output_type": "execute_result"
    }
   ],
   "source": [
    "pc2"
   ]
  },
  {
   "cell_type": "code",
   "execution_count": 592,
   "metadata": {
    "ExecuteTime": {
     "end_time": "2025-01-27T05:59:26.254505Z",
     "start_time": "2025-01-27T05:59:26.252205Z"
    }
   },
   "outputs": [],
   "source": [
    "df_pca = pd.DataFrame(data = pc, columns = ['principal component 1', 'principal component 2', 'principal component 3','principal component 4', 'principal component 5', 'principal component 6','principal component 7'])\n",
    "df_pca2 = pd.DataFrame(data = pc2, columns = ['principal component 1', 'principal component 2', 'principal component 3','principal component 4', 'principal component 5', 'principal component 6','principal component 7'])\n"
   ]
  },
  {
   "cell_type": "code",
   "execution_count": 593,
   "metadata": {
    "ExecuteTime": {
     "end_time": "2025-01-27T05:59:26.308451Z",
     "start_time": "2025-01-27T05:59:26.303882Z"
    }
   },
   "outputs": [],
   "source": [
    "final_train_pca_df = pd.concat([df_pca, heart_y_train[['num']]], axis = 1)\n",
    "final_test_pca_df = pd.concat([df_pca2, heart_y_train[['num']]], axis = 1)"
   ]
  },
  {
   "cell_type": "code",
   "execution_count": 594,
   "metadata": {
    "ExecuteTime": {
     "end_time": "2025-01-27T05:59:26.376283Z",
     "start_time": "2025-01-27T05:59:26.371818Z"
    }
   },
   "outputs": [
    {
     "data": {
      "text/html": [
       "<div>\n",
       "<style scoped>\n",
       "    .dataframe tbody tr th:only-of-type {\n",
       "        vertical-align: middle;\n",
       "    }\n",
       "\n",
       "    .dataframe tbody tr th {\n",
       "        vertical-align: top;\n",
       "    }\n",
       "\n",
       "    .dataframe thead th {\n",
       "        text-align: right;\n",
       "    }\n",
       "</style>\n",
       "<table border=\"1\" class=\"dataframe\">\n",
       "  <thead>\n",
       "    <tr style=\"text-align: right;\">\n",
       "      <th></th>\n",
       "      <th>principal component 1</th>\n",
       "      <th>principal component 2</th>\n",
       "      <th>principal component 3</th>\n",
       "      <th>principal component 4</th>\n",
       "      <th>principal component 5</th>\n",
       "      <th>principal component 6</th>\n",
       "      <th>principal component 7</th>\n",
       "      <th>num</th>\n",
       "    </tr>\n",
       "  </thead>\n",
       "  <tbody>\n",
       "    <tr>\n",
       "      <th>0</th>\n",
       "      <td>-1.735483</td>\n",
       "      <td>-0.405399</td>\n",
       "      <td>-0.164608</td>\n",
       "      <td>-0.049537</td>\n",
       "      <td>-0.535927</td>\n",
       "      <td>-0.540775</td>\n",
       "      <td>-0.065655</td>\n",
       "      <td>1.0</td>\n",
       "    </tr>\n",
       "    <tr>\n",
       "      <th>1</th>\n",
       "      <td>1.717852</td>\n",
       "      <td>0.338659</td>\n",
       "      <td>-1.111457</td>\n",
       "      <td>-0.805372</td>\n",
       "      <td>-0.243094</td>\n",
       "      <td>0.203649</td>\n",
       "      <td>0.132365</td>\n",
       "      <td>1.0</td>\n",
       "    </tr>\n",
       "    <tr>\n",
       "      <th>2</th>\n",
       "      <td>2.922743</td>\n",
       "      <td>-0.666055</td>\n",
       "      <td>1.227652</td>\n",
       "      <td>-0.305995</td>\n",
       "      <td>1.153304</td>\n",
       "      <td>-0.504507</td>\n",
       "      <td>-0.743121</td>\n",
       "      <td>1.0</td>\n",
       "    </tr>\n",
       "    <tr>\n",
       "      <th>3</th>\n",
       "      <td>1.753516</td>\n",
       "      <td>-0.770386</td>\n",
       "      <td>-0.302055</td>\n",
       "      <td>-0.033374</td>\n",
       "      <td>-0.034071</td>\n",
       "      <td>0.565296</td>\n",
       "      <td>-0.679628</td>\n",
       "      <td>1.0</td>\n",
       "    </tr>\n",
       "    <tr>\n",
       "      <th>4</th>\n",
       "      <td>1.335909</td>\n",
       "      <td>-1.885602</td>\n",
       "      <td>0.584719</td>\n",
       "      <td>-0.540427</td>\n",
       "      <td>1.130178</td>\n",
       "      <td>0.319979</td>\n",
       "      <td>0.072689</td>\n",
       "      <td>1.0</td>\n",
       "    </tr>\n",
       "  </tbody>\n",
       "</table>\n",
       "</div>"
      ],
      "text/plain": [
       "   principal component 1  principal component 2  principal component 3  \\\n",
       "0              -1.735483              -0.405399              -0.164608   \n",
       "1               1.717852               0.338659              -1.111457   \n",
       "2               2.922743              -0.666055               1.227652   \n",
       "3               1.753516              -0.770386              -0.302055   \n",
       "4               1.335909              -1.885602               0.584719   \n",
       "\n",
       "   principal component 4  principal component 5  principal component 6  \\\n",
       "0              -0.049537              -0.535927              -0.540775   \n",
       "1              -0.805372              -0.243094               0.203649   \n",
       "2              -0.305995               1.153304              -0.504507   \n",
       "3              -0.033374              -0.034071               0.565296   \n",
       "4              -0.540427               1.130178               0.319979   \n",
       "\n",
       "   principal component 7  num  \n",
       "0              -0.065655  1.0  \n",
       "1               0.132365  1.0  \n",
       "2              -0.743121  1.0  \n",
       "3              -0.679628  1.0  \n",
       "4               0.072689  1.0  "
      ]
     },
     "execution_count": 594,
     "metadata": {},
     "output_type": "execute_result"
    }
   ],
   "source": [
    "final_train_pca_df.head()"
   ]
  },
  {
   "cell_type": "code",
   "execution_count": 595,
   "metadata": {
    "ExecuteTime": {
     "end_time": "2025-01-27T05:59:26.454655Z",
     "start_time": "2025-01-27T05:59:26.449959Z"
    }
   },
   "outputs": [
    {
     "data": {
      "text/html": [
       "<div>\n",
       "<style scoped>\n",
       "    .dataframe tbody tr th:only-of-type {\n",
       "        vertical-align: middle;\n",
       "    }\n",
       "\n",
       "    .dataframe tbody tr th {\n",
       "        vertical-align: top;\n",
       "    }\n",
       "\n",
       "    .dataframe thead th {\n",
       "        text-align: right;\n",
       "    }\n",
       "</style>\n",
       "<table border=\"1\" class=\"dataframe\">\n",
       "  <thead>\n",
       "    <tr style=\"text-align: right;\">\n",
       "      <th></th>\n",
       "      <th>cp</th>\n",
       "      <th>thalach</th>\n",
       "      <th>exang</th>\n",
       "      <th>oldpeak</th>\n",
       "      <th>slope</th>\n",
       "      <th>ca</th>\n",
       "      <th>thal</th>\n",
       "    </tr>\n",
       "  </thead>\n",
       "  <tbody>\n",
       "    <tr>\n",
       "      <th>0</th>\n",
       "      <td>-0.164013</td>\n",
       "      <td>0.104643</td>\n",
       "      <td>-0.695246</td>\n",
       "      <td>-0.905184</td>\n",
       "      <td>-0.974938</td>\n",
       "      <td>-0.720760</td>\n",
       "      <td>-0.892713</td>\n",
       "    </tr>\n",
       "    <tr>\n",
       "      <th>1</th>\n",
       "      <td>-0.164013</td>\n",
       "      <td>-0.810726</td>\n",
       "      <td>1.433497</td>\n",
       "      <td>0.638393</td>\n",
       "      <td>0.642696</td>\n",
       "      <td>-0.720760</td>\n",
       "      <td>1.170601</td>\n",
       "    </tr>\n",
       "    <tr>\n",
       "      <th>2</th>\n",
       "      <td>0.872408</td>\n",
       "      <td>-0.810726</td>\n",
       "      <td>1.433497</td>\n",
       "      <td>0.981410</td>\n",
       "      <td>0.642696</td>\n",
       "      <td>2.474249</td>\n",
       "      <td>1.170601</td>\n",
       "    </tr>\n",
       "    <tr>\n",
       "      <th>3</th>\n",
       "      <td>0.872408</td>\n",
       "      <td>-0.200480</td>\n",
       "      <td>1.433497</td>\n",
       "      <td>-0.219150</td>\n",
       "      <td>0.642696</td>\n",
       "      <td>0.344243</td>\n",
       "      <td>1.170601</td>\n",
       "    </tr>\n",
       "    <tr>\n",
       "      <th>4</th>\n",
       "      <td>0.872408</td>\n",
       "      <td>0.453355</td>\n",
       "      <td>1.433497</td>\n",
       "      <td>0.295376</td>\n",
       "      <td>-0.974938</td>\n",
       "      <td>1.409246</td>\n",
       "      <td>1.170601</td>\n",
       "    </tr>\n",
       "  </tbody>\n",
       "</table>\n",
       "</div>"
      ],
      "text/plain": [
       "         cp   thalach     exang   oldpeak     slope        ca      thal\n",
       "0 -0.164013  0.104643 -0.695246 -0.905184 -0.974938 -0.720760 -0.892713\n",
       "1 -0.164013 -0.810726  1.433497  0.638393  0.642696 -0.720760  1.170601\n",
       "2  0.872408 -0.810726  1.433497  0.981410  0.642696  2.474249  1.170601\n",
       "3  0.872408 -0.200480  1.433497 -0.219150  0.642696  0.344243  1.170601\n",
       "4  0.872408  0.453355  1.433497  0.295376 -0.974938  1.409246  1.170601"
      ]
     },
     "execution_count": 595,
     "metadata": {},
     "output_type": "execute_result"
    }
   ],
   "source": [
    "dropped_heart_X_train.head()"
   ]
  },
  {
   "cell_type": "code",
   "execution_count": 596,
   "metadata": {
    "ExecuteTime": {
     "end_time": "2025-01-27T05:59:26.552838Z",
     "start_time": "2025-01-27T05:59:26.549389Z"
    }
   },
   "outputs": [
    {
     "data": {
      "text/plain": [
       "array([1., 1., 1., 1., 1., 1., 1., 1., 1., 1., 1., 1., 1., 1., 1., 1., 1.,\n",
       "       1., 1., 1., 1., 1., 1., 1., 1., 1., 1., 1., 1., 1., 1., 1., 1., 1.,\n",
       "       1., 1., 1., 1., 1., 1., 1., 1., 1., 1., 1., 1., 1., 1., 1., 1., 1.,\n",
       "       1., 1., 1., 1., 1., 1., 1., 1., 1., 1., 1., 1., 1., 1., 1., 1., 1.,\n",
       "       1., 1., 1., 1., 1., 1., 1., 1., 1., 1., 1., 1., 1., 1., 1., 1., 1.,\n",
       "       1., 1., 1., 1., 1., 1., 1., 1., 1., 1., 1., 1., 1., 1., 1., 0., 0.,\n",
       "       0., 0., 0., 0., 0., 0., 0., 0., 0., 0., 0., 0., 0., 0., 0., 0., 0.,\n",
       "       0., 0., 0., 0., 0., 0., 0., 0., 0., 0., 0., 0., 0., 0., 0., 0., 0.,\n",
       "       0., 0., 0., 0., 0., 0., 0., 0., 0., 0., 0., 0., 0., 0., 0., 0., 0.,\n",
       "       0., 0., 0., 0., 0., 0., 0., 0., 0., 0., 0., 0., 0., 0., 0., 0., 0.,\n",
       "       0., 0., 0., 0., 0., 0., 0., 0., 0., 0., 0., 0., 0., 0., 0., 0., 0.,\n",
       "       0., 0., 0., 0., 0., 0., 0., 0., 0., 0., 0., 0., 0.])"
      ]
     },
     "execution_count": 596,
     "metadata": {},
     "output_type": "execute_result"
    }
   ],
   "source": [
    "heart_y_train.to_numpy().reshape(-1).flatten()"
   ]
  },
  {
   "cell_type": "code",
   "execution_count": 597,
   "metadata": {
    "ExecuteTime": {
     "end_time": "2025-01-27T05:59:26.690142Z",
     "start_time": "2025-01-27T05:59:26.651408Z"
    }
   },
   "outputs": [
    {
     "name": "stderr",
     "output_type": "stream",
     "text": [
      "/Library/Frameworks/Python.framework/Versions/3.11/lib/python3.11/site-packages/sklearn/neural_network/_multilayer_perceptron.py:1105: DataConversionWarning: A column-vector y was passed when a 1d array was expected. Please change the shape of y to (n_samples, ), for example using ravel().\n",
      "  y = column_or_1d(y, warn=True)\n"
     ]
    },
    {
     "data": {
      "text/html": [
       "<style>#sk-container-id-7 {\n",
       "  /* Definition of color scheme common for light and dark mode */\n",
       "  --sklearn-color-text: black;\n",
       "  --sklearn-color-line: gray;\n",
       "  /* Definition of color scheme for unfitted estimators */\n",
       "  --sklearn-color-unfitted-level-0: #fff5e6;\n",
       "  --sklearn-color-unfitted-level-1: #f6e4d2;\n",
       "  --sklearn-color-unfitted-level-2: #ffe0b3;\n",
       "  --sklearn-color-unfitted-level-3: chocolate;\n",
       "  /* Definition of color scheme for fitted estimators */\n",
       "  --sklearn-color-fitted-level-0: #f0f8ff;\n",
       "  --sklearn-color-fitted-level-1: #d4ebff;\n",
       "  --sklearn-color-fitted-level-2: #b3dbfd;\n",
       "  --sklearn-color-fitted-level-3: cornflowerblue;\n",
       "\n",
       "  /* Specific color for light theme */\n",
       "  --sklearn-color-text-on-default-background: var(--sg-text-color, var(--theme-code-foreground, var(--jp-content-font-color1, black)));\n",
       "  --sklearn-color-background: var(--sg-background-color, var(--theme-background, var(--jp-layout-color0, white)));\n",
       "  --sklearn-color-border-box: var(--sg-text-color, var(--theme-code-foreground, var(--jp-content-font-color1, black)));\n",
       "  --sklearn-color-icon: #696969;\n",
       "\n",
       "  @media (prefers-color-scheme: dark) {\n",
       "    /* Redefinition of color scheme for dark theme */\n",
       "    --sklearn-color-text-on-default-background: var(--sg-text-color, var(--theme-code-foreground, var(--jp-content-font-color1, white)));\n",
       "    --sklearn-color-background: var(--sg-background-color, var(--theme-background, var(--jp-layout-color0, #111)));\n",
       "    --sklearn-color-border-box: var(--sg-text-color, var(--theme-code-foreground, var(--jp-content-font-color1, white)));\n",
       "    --sklearn-color-icon: #878787;\n",
       "  }\n",
       "}\n",
       "\n",
       "#sk-container-id-7 {\n",
       "  color: var(--sklearn-color-text);\n",
       "}\n",
       "\n",
       "#sk-container-id-7 pre {\n",
       "  padding: 0;\n",
       "}\n",
       "\n",
       "#sk-container-id-7 input.sk-hidden--visually {\n",
       "  border: 0;\n",
       "  clip: rect(1px 1px 1px 1px);\n",
       "  clip: rect(1px, 1px, 1px, 1px);\n",
       "  height: 1px;\n",
       "  margin: -1px;\n",
       "  overflow: hidden;\n",
       "  padding: 0;\n",
       "  position: absolute;\n",
       "  width: 1px;\n",
       "}\n",
       "\n",
       "#sk-container-id-7 div.sk-dashed-wrapped {\n",
       "  border: 1px dashed var(--sklearn-color-line);\n",
       "  margin: 0 0.4em 0.5em 0.4em;\n",
       "  box-sizing: border-box;\n",
       "  padding-bottom: 0.4em;\n",
       "  background-color: var(--sklearn-color-background);\n",
       "}\n",
       "\n",
       "#sk-container-id-7 div.sk-container {\n",
       "  /* jupyter's `normalize.less` sets `[hidden] { display: none; }`\n",
       "     but bootstrap.min.css set `[hidden] { display: none !important; }`\n",
       "     so we also need the `!important` here to be able to override the\n",
       "     default hidden behavior on the sphinx rendered scikit-learn.org.\n",
       "     See: https://github.com/scikit-learn/scikit-learn/issues/21755 */\n",
       "  display: inline-block !important;\n",
       "  position: relative;\n",
       "}\n",
       "\n",
       "#sk-container-id-7 div.sk-text-repr-fallback {\n",
       "  display: none;\n",
       "}\n",
       "\n",
       "div.sk-parallel-item,\n",
       "div.sk-serial,\n",
       "div.sk-item {\n",
       "  /* draw centered vertical line to link estimators */\n",
       "  background-image: linear-gradient(var(--sklearn-color-text-on-default-background), var(--sklearn-color-text-on-default-background));\n",
       "  background-size: 2px 100%;\n",
       "  background-repeat: no-repeat;\n",
       "  background-position: center center;\n",
       "}\n",
       "\n",
       "/* Parallel-specific style estimator block */\n",
       "\n",
       "#sk-container-id-7 div.sk-parallel-item::after {\n",
       "  content: \"\";\n",
       "  width: 100%;\n",
       "  border-bottom: 2px solid var(--sklearn-color-text-on-default-background);\n",
       "  flex-grow: 1;\n",
       "}\n",
       "\n",
       "#sk-container-id-7 div.sk-parallel {\n",
       "  display: flex;\n",
       "  align-items: stretch;\n",
       "  justify-content: center;\n",
       "  background-color: var(--sklearn-color-background);\n",
       "  position: relative;\n",
       "}\n",
       "\n",
       "#sk-container-id-7 div.sk-parallel-item {\n",
       "  display: flex;\n",
       "  flex-direction: column;\n",
       "}\n",
       "\n",
       "#sk-container-id-7 div.sk-parallel-item:first-child::after {\n",
       "  align-self: flex-end;\n",
       "  width: 50%;\n",
       "}\n",
       "\n",
       "#sk-container-id-7 div.sk-parallel-item:last-child::after {\n",
       "  align-self: flex-start;\n",
       "  width: 50%;\n",
       "}\n",
       "\n",
       "#sk-container-id-7 div.sk-parallel-item:only-child::after {\n",
       "  width: 0;\n",
       "}\n",
       "\n",
       "/* Serial-specific style estimator block */\n",
       "\n",
       "#sk-container-id-7 div.sk-serial {\n",
       "  display: flex;\n",
       "  flex-direction: column;\n",
       "  align-items: center;\n",
       "  background-color: var(--sklearn-color-background);\n",
       "  padding-right: 1em;\n",
       "  padding-left: 1em;\n",
       "}\n",
       "\n",
       "\n",
       "/* Toggleable style: style used for estimator/Pipeline/ColumnTransformer box that is\n",
       "clickable and can be expanded/collapsed.\n",
       "- Pipeline and ColumnTransformer use this feature and define the default style\n",
       "- Estimators will overwrite some part of the style using the `sk-estimator` class\n",
       "*/\n",
       "\n",
       "/* Pipeline and ColumnTransformer style (default) */\n",
       "\n",
       "#sk-container-id-7 div.sk-toggleable {\n",
       "  /* Default theme specific background. It is overwritten whether we have a\n",
       "  specific estimator or a Pipeline/ColumnTransformer */\n",
       "  background-color: var(--sklearn-color-background);\n",
       "}\n",
       "\n",
       "/* Toggleable label */\n",
       "#sk-container-id-7 label.sk-toggleable__label {\n",
       "  cursor: pointer;\n",
       "  display: block;\n",
       "  width: 100%;\n",
       "  margin-bottom: 0;\n",
       "  padding: 0.5em;\n",
       "  box-sizing: border-box;\n",
       "  text-align: center;\n",
       "}\n",
       "\n",
       "#sk-container-id-7 label.sk-toggleable__label-arrow:before {\n",
       "  /* Arrow on the left of the label */\n",
       "  content: \"▸\";\n",
       "  float: left;\n",
       "  margin-right: 0.25em;\n",
       "  color: var(--sklearn-color-icon);\n",
       "}\n",
       "\n",
       "#sk-container-id-7 label.sk-toggleable__label-arrow:hover:before {\n",
       "  color: var(--sklearn-color-text);\n",
       "}\n",
       "\n",
       "/* Toggleable content - dropdown */\n",
       "\n",
       "#sk-container-id-7 div.sk-toggleable__content {\n",
       "  max-height: 0;\n",
       "  max-width: 0;\n",
       "  overflow: hidden;\n",
       "  text-align: left;\n",
       "  /* unfitted */\n",
       "  background-color: var(--sklearn-color-unfitted-level-0);\n",
       "}\n",
       "\n",
       "#sk-container-id-7 div.sk-toggleable__content.fitted {\n",
       "  /* fitted */\n",
       "  background-color: var(--sklearn-color-fitted-level-0);\n",
       "}\n",
       "\n",
       "#sk-container-id-7 div.sk-toggleable__content pre {\n",
       "  margin: 0.2em;\n",
       "  border-radius: 0.25em;\n",
       "  color: var(--sklearn-color-text);\n",
       "  /* unfitted */\n",
       "  background-color: var(--sklearn-color-unfitted-level-0);\n",
       "}\n",
       "\n",
       "#sk-container-id-7 div.sk-toggleable__content.fitted pre {\n",
       "  /* unfitted */\n",
       "  background-color: var(--sklearn-color-fitted-level-0);\n",
       "}\n",
       "\n",
       "#sk-container-id-7 input.sk-toggleable__control:checked~div.sk-toggleable__content {\n",
       "  /* Expand drop-down */\n",
       "  max-height: 200px;\n",
       "  max-width: 100%;\n",
       "  overflow: auto;\n",
       "}\n",
       "\n",
       "#sk-container-id-7 input.sk-toggleable__control:checked~label.sk-toggleable__label-arrow:before {\n",
       "  content: \"▾\";\n",
       "}\n",
       "\n",
       "/* Pipeline/ColumnTransformer-specific style */\n",
       "\n",
       "#sk-container-id-7 div.sk-label input.sk-toggleable__control:checked~label.sk-toggleable__label {\n",
       "  color: var(--sklearn-color-text);\n",
       "  background-color: var(--sklearn-color-unfitted-level-2);\n",
       "}\n",
       "\n",
       "#sk-container-id-7 div.sk-label.fitted input.sk-toggleable__control:checked~label.sk-toggleable__label {\n",
       "  background-color: var(--sklearn-color-fitted-level-2);\n",
       "}\n",
       "\n",
       "/* Estimator-specific style */\n",
       "\n",
       "/* Colorize estimator box */\n",
       "#sk-container-id-7 div.sk-estimator input.sk-toggleable__control:checked~label.sk-toggleable__label {\n",
       "  /* unfitted */\n",
       "  background-color: var(--sklearn-color-unfitted-level-2);\n",
       "}\n",
       "\n",
       "#sk-container-id-7 div.sk-estimator.fitted input.sk-toggleable__control:checked~label.sk-toggleable__label {\n",
       "  /* fitted */\n",
       "  background-color: var(--sklearn-color-fitted-level-2);\n",
       "}\n",
       "\n",
       "#sk-container-id-7 div.sk-label label.sk-toggleable__label,\n",
       "#sk-container-id-7 div.sk-label label {\n",
       "  /* The background is the default theme color */\n",
       "  color: var(--sklearn-color-text-on-default-background);\n",
       "}\n",
       "\n",
       "/* On hover, darken the color of the background */\n",
       "#sk-container-id-7 div.sk-label:hover label.sk-toggleable__label {\n",
       "  color: var(--sklearn-color-text);\n",
       "  background-color: var(--sklearn-color-unfitted-level-2);\n",
       "}\n",
       "\n",
       "/* Label box, darken color on hover, fitted */\n",
       "#sk-container-id-7 div.sk-label.fitted:hover label.sk-toggleable__label.fitted {\n",
       "  color: var(--sklearn-color-text);\n",
       "  background-color: var(--sklearn-color-fitted-level-2);\n",
       "}\n",
       "\n",
       "/* Estimator label */\n",
       "\n",
       "#sk-container-id-7 div.sk-label label {\n",
       "  font-family: monospace;\n",
       "  font-weight: bold;\n",
       "  display: inline-block;\n",
       "  line-height: 1.2em;\n",
       "}\n",
       "\n",
       "#sk-container-id-7 div.sk-label-container {\n",
       "  text-align: center;\n",
       "}\n",
       "\n",
       "/* Estimator-specific */\n",
       "#sk-container-id-7 div.sk-estimator {\n",
       "  font-family: monospace;\n",
       "  border: 1px dotted var(--sklearn-color-border-box);\n",
       "  border-radius: 0.25em;\n",
       "  box-sizing: border-box;\n",
       "  margin-bottom: 0.5em;\n",
       "  /* unfitted */\n",
       "  background-color: var(--sklearn-color-unfitted-level-0);\n",
       "}\n",
       "\n",
       "#sk-container-id-7 div.sk-estimator.fitted {\n",
       "  /* fitted */\n",
       "  background-color: var(--sklearn-color-fitted-level-0);\n",
       "}\n",
       "\n",
       "/* on hover */\n",
       "#sk-container-id-7 div.sk-estimator:hover {\n",
       "  /* unfitted */\n",
       "  background-color: var(--sklearn-color-unfitted-level-2);\n",
       "}\n",
       "\n",
       "#sk-container-id-7 div.sk-estimator.fitted:hover {\n",
       "  /* fitted */\n",
       "  background-color: var(--sklearn-color-fitted-level-2);\n",
       "}\n",
       "\n",
       "/* Specification for estimator info (e.g. \"i\" and \"?\") */\n",
       "\n",
       "/* Common style for \"i\" and \"?\" */\n",
       "\n",
       ".sk-estimator-doc-link,\n",
       "a:link.sk-estimator-doc-link,\n",
       "a:visited.sk-estimator-doc-link {\n",
       "  float: right;\n",
       "  font-size: smaller;\n",
       "  line-height: 1em;\n",
       "  font-family: monospace;\n",
       "  background-color: var(--sklearn-color-background);\n",
       "  border-radius: 1em;\n",
       "  height: 1em;\n",
       "  width: 1em;\n",
       "  text-decoration: none !important;\n",
       "  margin-left: 1ex;\n",
       "  /* unfitted */\n",
       "  border: var(--sklearn-color-unfitted-level-1) 1pt solid;\n",
       "  color: var(--sklearn-color-unfitted-level-1);\n",
       "}\n",
       "\n",
       ".sk-estimator-doc-link.fitted,\n",
       "a:link.sk-estimator-doc-link.fitted,\n",
       "a:visited.sk-estimator-doc-link.fitted {\n",
       "  /* fitted */\n",
       "  border: var(--sklearn-color-fitted-level-1) 1pt solid;\n",
       "  color: var(--sklearn-color-fitted-level-1);\n",
       "}\n",
       "\n",
       "/* On hover */\n",
       "div.sk-estimator:hover .sk-estimator-doc-link:hover,\n",
       ".sk-estimator-doc-link:hover,\n",
       "div.sk-label-container:hover .sk-estimator-doc-link:hover,\n",
       ".sk-estimator-doc-link:hover {\n",
       "  /* unfitted */\n",
       "  background-color: var(--sklearn-color-unfitted-level-3);\n",
       "  color: var(--sklearn-color-background);\n",
       "  text-decoration: none;\n",
       "}\n",
       "\n",
       "div.sk-estimator.fitted:hover .sk-estimator-doc-link.fitted:hover,\n",
       ".sk-estimator-doc-link.fitted:hover,\n",
       "div.sk-label-container:hover .sk-estimator-doc-link.fitted:hover,\n",
       ".sk-estimator-doc-link.fitted:hover {\n",
       "  /* fitted */\n",
       "  background-color: var(--sklearn-color-fitted-level-3);\n",
       "  color: var(--sklearn-color-background);\n",
       "  text-decoration: none;\n",
       "}\n",
       "\n",
       "/* Span, style for the box shown on hovering the info icon */\n",
       ".sk-estimator-doc-link span {\n",
       "  display: none;\n",
       "  z-index: 9999;\n",
       "  position: relative;\n",
       "  font-weight: normal;\n",
       "  right: .2ex;\n",
       "  padding: .5ex;\n",
       "  margin: .5ex;\n",
       "  width: min-content;\n",
       "  min-width: 20ex;\n",
       "  max-width: 50ex;\n",
       "  color: var(--sklearn-color-text);\n",
       "  box-shadow: 2pt 2pt 4pt #999;\n",
       "  /* unfitted */\n",
       "  background: var(--sklearn-color-unfitted-level-0);\n",
       "  border: .5pt solid var(--sklearn-color-unfitted-level-3);\n",
       "}\n",
       "\n",
       ".sk-estimator-doc-link.fitted span {\n",
       "  /* fitted */\n",
       "  background: var(--sklearn-color-fitted-level-0);\n",
       "  border: var(--sklearn-color-fitted-level-3);\n",
       "}\n",
       "\n",
       ".sk-estimator-doc-link:hover span {\n",
       "  display: block;\n",
       "}\n",
       "\n",
       "/* \"?\"-specific style due to the `<a>` HTML tag */\n",
       "\n",
       "#sk-container-id-7 a.estimator_doc_link {\n",
       "  float: right;\n",
       "  font-size: 1rem;\n",
       "  line-height: 1em;\n",
       "  font-family: monospace;\n",
       "  background-color: var(--sklearn-color-background);\n",
       "  border-radius: 1rem;\n",
       "  height: 1rem;\n",
       "  width: 1rem;\n",
       "  text-decoration: none;\n",
       "  /* unfitted */\n",
       "  color: var(--sklearn-color-unfitted-level-1);\n",
       "  border: var(--sklearn-color-unfitted-level-1) 1pt solid;\n",
       "}\n",
       "\n",
       "#sk-container-id-7 a.estimator_doc_link.fitted {\n",
       "  /* fitted */\n",
       "  border: var(--sklearn-color-fitted-level-1) 1pt solid;\n",
       "  color: var(--sklearn-color-fitted-level-1);\n",
       "}\n",
       "\n",
       "/* On hover */\n",
       "#sk-container-id-7 a.estimator_doc_link:hover {\n",
       "  /* unfitted */\n",
       "  background-color: var(--sklearn-color-unfitted-level-3);\n",
       "  color: var(--sklearn-color-background);\n",
       "  text-decoration: none;\n",
       "}\n",
       "\n",
       "#sk-container-id-7 a.estimator_doc_link.fitted:hover {\n",
       "  /* fitted */\n",
       "  background-color: var(--sklearn-color-fitted-level-3);\n",
       "}\n",
       "</style><div id=\"sk-container-id-7\" class=\"sk-top-container\"><div class=\"sk-text-repr-fallback\"><pre>MLPClassifier(alpha=1e-05, hidden_layer_sizes=(5, 2), random_state=1,\n",
       "              solver=&#x27;lbfgs&#x27;)</pre><b>In a Jupyter environment, please rerun this cell to show the HTML representation or trust the notebook. <br />On GitHub, the HTML representation is unable to render, please try loading this page with nbviewer.org.</b></div><div class=\"sk-container\" hidden><div class=\"sk-item\"><div class=\"sk-estimator fitted sk-toggleable\"><input class=\"sk-toggleable__control sk-hidden--visually\" id=\"sk-estimator-id-7\" type=\"checkbox\" checked><label for=\"sk-estimator-id-7\" class=\"sk-toggleable__label fitted sk-toggleable__label-arrow fitted\">&nbsp;&nbsp;MLPClassifier<a class=\"sk-estimator-doc-link fitted\" rel=\"noreferrer\" target=\"_blank\" href=\"https://scikit-learn.org/1.5/modules/generated/sklearn.neural_network.MLPClassifier.html\">?<span>Documentation for MLPClassifier</span></a><span class=\"sk-estimator-doc-link fitted\">i<span>Fitted</span></span></label><div class=\"sk-toggleable__content fitted\"><pre>MLPClassifier(alpha=1e-05, hidden_layer_sizes=(5, 2), random_state=1,\n",
       "              solver=&#x27;lbfgs&#x27;)</pre></div> </div></div></div></div>"
      ],
      "text/plain": [
       "MLPClassifier(alpha=1e-05, hidden_layer_sizes=(5, 2), random_state=1,\n",
       "              solver='lbfgs')"
      ]
     },
     "execution_count": 597,
     "metadata": {},
     "output_type": "execute_result"
    }
   ],
   "source": [
    "clf_NN = MLPClassifier(solver='lbfgs', alpha=1e-5,\n",
    "                    hidden_layer_sizes=(5, 2), random_state=1)\n",
    "\n",
    "clf_NN.fit(dropped_heart_X_train, heart_y_train)"
   ]
  },
  {
   "cell_type": "code",
   "execution_count": 598,
   "metadata": {
    "ExecuteTime": {
     "end_time": "2025-01-27T05:59:26.786570Z",
     "start_time": "2025-01-27T05:59:26.782529Z"
    }
   },
   "outputs": [
    {
     "data": {
      "text/plain": [
       "array([1., 0., 1., 1., 1., 1., 1., 1., 1., 1., 1., 1., 1., 1., 0., 1., 0.,\n",
       "       1., 1., 0., 0., 1., 0., 1., 1., 1., 0., 1., 0., 1., 0., 1., 1., 1.,\n",
       "       1., 0., 1., 1., 1., 0., 1., 1., 1., 1., 1., 0., 0., 0., 0., 1., 0.,\n",
       "       1., 1., 0., 1., 0., 1., 1., 0., 1., 1., 1., 1., 0., 1., 1., 0., 0.,\n",
       "       1., 1., 1., 1., 1., 1., 1., 1., 0., 1., 0., 1., 1., 1., 1., 1., 0.,\n",
       "       0., 0., 0., 0., 0., 0., 0., 0., 0., 0., 0., 0., 0., 0., 0., 0., 0.,\n",
       "       0., 1., 1., 0., 1., 1., 0., 0., 0., 1., 0., 0., 0., 0., 0., 1., 0.,\n",
       "       1., 0., 1., 0., 0., 0., 0., 0., 0., 0., 0., 0., 0., 0., 0., 0., 0.,\n",
       "       0., 1., 0., 0., 1., 0., 0., 0., 0., 0., 0., 0., 0., 0., 1., 0., 0.,\n",
       "       0., 0., 0., 0., 0., 1., 1., 0., 0., 0., 0., 0., 0., 0., 0., 0., 1.,\n",
       "       1., 0., 1., 0., 0., 0., 0., 0., 0., 0., 0., 0.])"
      ]
     },
     "execution_count": 598,
     "metadata": {},
     "output_type": "execute_result"
    }
   ],
   "source": [
    "clf_NN.predict(dropped_heart_X_test)"
   ]
  },
  {
   "cell_type": "code",
   "execution_count": 599,
   "metadata": {
    "ExecuteTime": {
     "end_time": "2025-01-27T05:59:26.876916Z",
     "start_time": "2025-01-27T05:59:26.874527Z"
    }
   },
   "outputs": [
    {
     "data": {
      "text/plain": [
       "182"
      ]
     },
     "execution_count": 599,
     "metadata": {},
     "output_type": "execute_result"
    }
   ],
   "source": [
    "len(dropped_heart_X_test)"
   ]
  },
  {
   "cell_type": "code",
   "execution_count": 600,
   "metadata": {
    "ExecuteTime": {
     "end_time": "2025-01-27T05:59:26.968338Z",
     "start_time": "2025-01-27T05:59:26.966018Z"
    }
   },
   "outputs": [
    {
     "data": {
      "text/plain": [
       "182"
      ]
     },
     "execution_count": 600,
     "metadata": {},
     "output_type": "execute_result"
    }
   ],
   "source": [
    "len(heart_y_test)"
   ]
  },
  {
   "cell_type": "code",
   "execution_count": 601,
   "metadata": {
    "ExecuteTime": {
     "end_time": "2025-01-27T05:59:27.027420Z",
     "start_time": "2025-01-27T05:59:27.023943Z"
    }
   },
   "outputs": [
    {
     "data": {
      "text/html": [
       "<div>\n",
       "<style scoped>\n",
       "    .dataframe tbody tr th:only-of-type {\n",
       "        vertical-align: middle;\n",
       "    }\n",
       "\n",
       "    .dataframe tbody tr th {\n",
       "        vertical-align: top;\n",
       "    }\n",
       "\n",
       "    .dataframe thead th {\n",
       "        text-align: right;\n",
       "    }\n",
       "</style>\n",
       "<table border=\"1\" class=\"dataframe\">\n",
       "  <thead>\n",
       "    <tr style=\"text-align: right;\">\n",
       "      <th></th>\n",
       "      <th>num</th>\n",
       "    </tr>\n",
       "  </thead>\n",
       "  <tbody>\n",
       "    <tr>\n",
       "      <th>0</th>\n",
       "      <td>1.0</td>\n",
       "    </tr>\n",
       "    <tr>\n",
       "      <th>1</th>\n",
       "      <td>1.0</td>\n",
       "    </tr>\n",
       "    <tr>\n",
       "      <th>2</th>\n",
       "      <td>1.0</td>\n",
       "    </tr>\n",
       "    <tr>\n",
       "      <th>3</th>\n",
       "      <td>1.0</td>\n",
       "    </tr>\n",
       "    <tr>\n",
       "      <th>4</th>\n",
       "      <td>1.0</td>\n",
       "    </tr>\n",
       "    <tr>\n",
       "      <th>...</th>\n",
       "      <td>...</td>\n",
       "    </tr>\n",
       "    <tr>\n",
       "      <th>177</th>\n",
       "      <td>0.0</td>\n",
       "    </tr>\n",
       "    <tr>\n",
       "      <th>178</th>\n",
       "      <td>0.0</td>\n",
       "    </tr>\n",
       "    <tr>\n",
       "      <th>179</th>\n",
       "      <td>0.0</td>\n",
       "    </tr>\n",
       "    <tr>\n",
       "      <th>180</th>\n",
       "      <td>0.0</td>\n",
       "    </tr>\n",
       "    <tr>\n",
       "      <th>181</th>\n",
       "      <td>0.0</td>\n",
       "    </tr>\n",
       "  </tbody>\n",
       "</table>\n",
       "<p>182 rows × 1 columns</p>\n",
       "</div>"
      ],
      "text/plain": [
       "     num\n",
       "0    1.0\n",
       "1    1.0\n",
       "2    1.0\n",
       "3    1.0\n",
       "4    1.0\n",
       "..   ...\n",
       "177  0.0\n",
       "178  0.0\n",
       "179  0.0\n",
       "180  0.0\n",
       "181  0.0\n",
       "\n",
       "[182 rows x 1 columns]"
      ]
     },
     "execution_count": 601,
     "metadata": {},
     "output_type": "execute_result"
    }
   ],
   "source": [
    "heart_y_test"
   ]
  },
  {
   "cell_type": "code",
   "execution_count": 602,
   "metadata": {
    "ExecuteTime": {
     "end_time": "2025-01-27T05:59:27.094355Z",
     "start_time": "2025-01-27T05:59:27.089396Z"
    }
   },
   "outputs": [
    {
     "data": {
      "text/html": [
       "<div>\n",
       "<style scoped>\n",
       "    .dataframe tbody tr th:only-of-type {\n",
       "        vertical-align: middle;\n",
       "    }\n",
       "\n",
       "    .dataframe tbody tr th {\n",
       "        vertical-align: top;\n",
       "    }\n",
       "\n",
       "    .dataframe thead th {\n",
       "        text-align: right;\n",
       "    }\n",
       "</style>\n",
       "<table border=\"1\" class=\"dataframe\">\n",
       "  <thead>\n",
       "    <tr style=\"text-align: right;\">\n",
       "      <th></th>\n",
       "      <th>cp</th>\n",
       "      <th>thalach</th>\n",
       "      <th>exang</th>\n",
       "      <th>oldpeak</th>\n",
       "      <th>slope</th>\n",
       "      <th>ca</th>\n",
       "      <th>thal</th>\n",
       "    </tr>\n",
       "  </thead>\n",
       "  <tbody>\n",
       "    <tr>\n",
       "      <th>0</th>\n",
       "      <td>0.872408</td>\n",
       "      <td>-1.813274</td>\n",
       "      <td>1.433497</td>\n",
       "      <td>0.381130</td>\n",
       "      <td>0.642696</td>\n",
       "      <td>2.474249</td>\n",
       "      <td>-0.892713</td>\n",
       "    </tr>\n",
       "    <tr>\n",
       "      <th>1</th>\n",
       "      <td>0.872408</td>\n",
       "      <td>0.366177</td>\n",
       "      <td>-0.695246</td>\n",
       "      <td>-0.905184</td>\n",
       "      <td>-0.974938</td>\n",
       "      <td>-0.720760</td>\n",
       "      <td>1.170601</td>\n",
       "    </tr>\n",
       "    <tr>\n",
       "      <th>2</th>\n",
       "      <td>0.872408</td>\n",
       "      <td>-0.418425</td>\n",
       "      <td>1.433497</td>\n",
       "      <td>2.010461</td>\n",
       "      <td>2.260330</td>\n",
       "      <td>-0.720760</td>\n",
       "      <td>1.170601</td>\n",
       "    </tr>\n",
       "    <tr>\n",
       "      <th>3</th>\n",
       "      <td>-0.164013</td>\n",
       "      <td>-0.113302</td>\n",
       "      <td>-0.695246</td>\n",
       "      <td>2.181970</td>\n",
       "      <td>0.642696</td>\n",
       "      <td>-0.720760</td>\n",
       "      <td>-0.892713</td>\n",
       "    </tr>\n",
       "    <tr>\n",
       "      <th>4</th>\n",
       "      <td>0.872408</td>\n",
       "      <td>-2.205575</td>\n",
       "      <td>1.433497</td>\n",
       "      <td>0.638393</td>\n",
       "      <td>0.642696</td>\n",
       "      <td>1.409246</td>\n",
       "      <td>1.170601</td>\n",
       "    </tr>\n",
       "    <tr>\n",
       "      <th>...</th>\n",
       "      <td>...</td>\n",
       "      <td>...</td>\n",
       "      <td>...</td>\n",
       "      <td>...</td>\n",
       "      <td>...</td>\n",
       "      <td>...</td>\n",
       "      <td>...</td>\n",
       "    </tr>\n",
       "    <tr>\n",
       "      <th>177</th>\n",
       "      <td>-1.200433</td>\n",
       "      <td>1.063601</td>\n",
       "      <td>-0.695246</td>\n",
       "      <td>-0.905184</td>\n",
       "      <td>-0.974938</td>\n",
       "      <td>-0.720760</td>\n",
       "      <td>-0.892713</td>\n",
       "    </tr>\n",
       "    <tr>\n",
       "      <th>178</th>\n",
       "      <td>-1.200433</td>\n",
       "      <td>0.584122</td>\n",
       "      <td>-0.695246</td>\n",
       "      <td>-0.905184</td>\n",
       "      <td>-0.974938</td>\n",
       "      <td>-0.720760</td>\n",
       "      <td>1.170601</td>\n",
       "    </tr>\n",
       "    <tr>\n",
       "      <th>179</th>\n",
       "      <td>-1.200433</td>\n",
       "      <td>0.845656</td>\n",
       "      <td>-0.695246</td>\n",
       "      <td>-0.905184</td>\n",
       "      <td>2.260330</td>\n",
       "      <td>-0.720760</td>\n",
       "      <td>-0.892713</td>\n",
       "    </tr>\n",
       "    <tr>\n",
       "      <th>180</th>\n",
       "      <td>-1.200433</td>\n",
       "      <td>0.714889</td>\n",
       "      <td>-0.695246</td>\n",
       "      <td>0.123867</td>\n",
       "      <td>-0.974938</td>\n",
       "      <td>-0.720760</td>\n",
       "      <td>-0.892713</td>\n",
       "    </tr>\n",
       "    <tr>\n",
       "      <th>181</th>\n",
       "      <td>-1.200433</td>\n",
       "      <td>1.412313</td>\n",
       "      <td>-0.695246</td>\n",
       "      <td>-0.905184</td>\n",
       "      <td>-0.974938</td>\n",
       "      <td>-0.720760</td>\n",
       "      <td>-0.892713</td>\n",
       "    </tr>\n",
       "  </tbody>\n",
       "</table>\n",
       "<p>182 rows × 7 columns</p>\n",
       "</div>"
      ],
      "text/plain": [
       "           cp   thalach     exang   oldpeak     slope        ca      thal\n",
       "0    0.872408 -1.813274  1.433497  0.381130  0.642696  2.474249 -0.892713\n",
       "1    0.872408  0.366177 -0.695246 -0.905184 -0.974938 -0.720760  1.170601\n",
       "2    0.872408 -0.418425  1.433497  2.010461  2.260330 -0.720760  1.170601\n",
       "3   -0.164013 -0.113302 -0.695246  2.181970  0.642696 -0.720760 -0.892713\n",
       "4    0.872408 -2.205575  1.433497  0.638393  0.642696  1.409246  1.170601\n",
       "..        ...       ...       ...       ...       ...       ...       ...\n",
       "177 -1.200433  1.063601 -0.695246 -0.905184 -0.974938 -0.720760 -0.892713\n",
       "178 -1.200433  0.584122 -0.695246 -0.905184 -0.974938 -0.720760  1.170601\n",
       "179 -1.200433  0.845656 -0.695246 -0.905184  2.260330 -0.720760 -0.892713\n",
       "180 -1.200433  0.714889 -0.695246  0.123867 -0.974938 -0.720760 -0.892713\n",
       "181 -1.200433  1.412313 -0.695246 -0.905184 -0.974938 -0.720760 -0.892713\n",
       "\n",
       "[182 rows x 7 columns]"
      ]
     },
     "execution_count": 602,
     "metadata": {},
     "output_type": "execute_result"
    }
   ],
   "source": [
    "dropped_heart_X_test.head(300)"
   ]
  },
  {
   "cell_type": "code",
   "execution_count": 603,
   "metadata": {
    "ExecuteTime": {
     "end_time": "2025-01-27T05:59:27.146279Z",
     "start_time": "2025-01-27T05:59:27.144018Z"
    }
   },
   "outputs": [
    {
     "data": {
      "text/plain": [
       "200"
      ]
     },
     "execution_count": 603,
     "metadata": {},
     "output_type": "execute_result"
    }
   ],
   "source": [
    "len(dropped_heart_X_train)"
   ]
  },
  {
   "cell_type": "code",
   "execution_count": 604,
   "metadata": {
    "ExecuteTime": {
     "end_time": "2025-01-27T05:59:27.243843Z",
     "start_time": "2025-01-27T05:59:27.241666Z"
    }
   },
   "outputs": [
    {
     "data": {
      "text/plain": [
       "200"
      ]
     },
     "execution_count": 604,
     "metadata": {},
     "output_type": "execute_result"
    }
   ],
   "source": [
    "len(heart_y_train)"
   ]
  },
  {
   "cell_type": "code",
   "execution_count": 605,
   "metadata": {
    "ExecuteTime": {
     "end_time": "2025-01-27T05:59:27.326399Z",
     "start_time": "2025-01-27T05:59:27.324208Z"
    }
   },
   "outputs": [
    {
     "data": {
      "text/plain": [
       "297"
      ]
     },
     "execution_count": 605,
     "metadata": {},
     "output_type": "execute_result"
    }
   ],
   "source": [
    "len(df_heart_standardized)"
   ]
  },
  {
   "cell_type": "code",
   "execution_count": 606,
   "metadata": {
    "ExecuteTime": {
     "end_time": "2025-01-27T05:59:27.410303Z",
     "start_time": "2025-01-27T05:59:27.406586Z"
    }
   },
   "outputs": [
    {
     "data": {
      "text/plain": [
       "0.7747252747252747"
      ]
     },
     "execution_count": 606,
     "metadata": {},
     "output_type": "execute_result"
    }
   ],
   "source": [
    "accuracy_score(clf_NN.predict(dropped_heart_X_test), heart_y_test)"
   ]
  },
  {
   "cell_type": "markdown",
   "metadata": {},
   "source": [
    "<h1 style=text-align:center;> Genetic Alogrithim"
   ]
  },
  {
   "cell_type": "markdown",
   "metadata": {},
   "source": [
    "# Genetic Algorithm for K-Nearest Neighbors Weight Optimization\n",
    "\n",
    "## Introduction\n",
    "\n",
    "This document outlines the steps to optimize weights for a K-Nearest Neighbors (KNN) classifier using a genetic algorithm. The process involves creating multiple populations of weight sets, evaluating their performance, and iteratively refining them to improve the classifier's accuracy.\n",
    "\n",
    "## Steps\n",
    "\n",
    "### 1. Initialize Populations\n",
    "\n",
    "- **Create 20 populations**:\n",
    "  - Each population consists of a set of weights.\n",
    "  - Initialize weights by multiplying the original weights by a random number between 0 and 1.\n",
    "\n",
    "### 2. Evaluate Accuracy\n",
    "\n",
    "- **Run KNN on each population**:\n",
    "  - Split the dataset into training and testing sets.\n",
    "  - Train the KNN classifier using the weights from each population.\n",
    "  - Calculate the accuracy of each population on the test set.\n",
    "  - Store the accuracy for each population.\n",
    "\n",
    "### 3. Select Top Populations\n",
    "\n",
    "- **Drop the bottom 10 populations**:\n",
    "  - Sort the populations based on their accuracy.\n",
    "  - Retain the top 10 populations and discard the bottom 10.\n",
    "\n",
    "### 4. Duplicate Top Populations\n",
    "\n",
    "- **Duplicate the top 10 populations**:\n",
    "  - Create new populations by duplicating the top 10 populations.\n",
    "  - This results in 20 populations again.\n",
    "\n",
    "### 5. Apply Genetic Algorithm\n",
    "\n",
    "- **Perform genetic operations**:\n",
    "  - Apply crossover and mutation to the duplicated populations to introduce variations.\n",
    "  - Ensure the new populations are different from the previous ones.\n",
    "\n",
    "### 6. Repeat\n",
    "\n",
    "- **Iterate the process**:\n",
    "  - Repeat steps 2 to 5 for a predefined number of generations or until the accuracy converges.\n"
   ]
  },
  {
   "cell_type": "code",
   "execution_count": 607,
   "metadata": {
    "ExecuteTime": {
     "end_time": "2025-01-27T05:59:27.456218Z",
     "start_time": "2025-01-27T05:59:27.453690Z"
    }
   },
   "outputs": [
    {
     "data": {
      "text/plain": [
       "[np.float64(0.2117215000000001),\n",
       " np.float64(0.1861972),\n",
       " np.float64(0.11634469999999998),\n",
       " np.float64(0.1443125),\n",
       " np.float64(0.1411073),\n",
       " np.float64(0.19831800000000002),\n",
       " np.float64(0.3303247)]"
      ]
     },
     "execution_count": 607,
     "metadata": {},
     "output_type": "execute_result"
    }
   ],
   "source": [
    "heart_swagger"
   ]
  },
  {
   "cell_type": "code",
   "execution_count": 608,
   "metadata": {
    "ExecuteTime": {
     "end_time": "2025-01-27T05:59:27.505772Z",
     "start_time": "2025-01-27T05:59:27.502928Z"
    }
   },
   "outputs": [],
   "source": [
    "def weight_manipulation(num_of_population,num_of_weights,weights):\n",
    "\n",
    "    genetic_weights = np.empty((num_of_population,num_of_weights))\n",
    "\n",
    "    np_weights = np.array(weights)\n",
    "\n",
    "    # print(\"weights : \", np_weights.shape)\n",
    "    # print(\"Chama: \", genetic_weights.shape)\n",
    "\n",
    "    if(np_weights.ndim == 1):\n",
    "\n",
    "        for i in range(0, num_of_population):\n",
    "            genetic_weights[i] = weights * np.random.rand(len(weights))\n",
    "\n",
    "        # print(\"Huh: \" ,genetic_weights.shape)\n",
    "\n",
    "        return genetic_weights\n",
    "\n",
    "    else :\n",
    "\n",
    "        for row in range(num_of_population):\n",
    "            # Multiply each element in the row by a random factor\n",
    "            # The random factor must have the same number of columns as the weight matrix\n",
    "            genetic_weights[row] = np_weights[row] * np.random.rand(np_weights.shape[1])\n",
    "\n",
    "    return genetic_weights"
   ]
  },
  {
   "cell_type": "code",
   "execution_count": 609,
   "metadata": {
    "ExecuteTime": {
     "end_time": "2025-01-27T05:59:27.552607Z",
     "start_time": "2025-01-27T05:59:27.549195Z"
    }
   },
   "outputs": [],
   "source": [
    "def get_weight_manipulated_acc(num_of_population, genetic_weights):\n",
    "\n",
    "    population_data = []\n",
    "    population_data_sorted = []\n",
    "\n",
    "    for population in range(num_of_population):\n",
    "\n",
    "        Train_Data =  pd.concat([dropped_heart_X_train, heart_y_train], axis=1)\n",
    "        Test_Data = pd.concat([dropped_heart_X_test, heart_y_test], axis=1)\n",
    "\n",
    "        TP = TN = FP = FN =0\n",
    "\n",
    "        for p in range(len(Test_Data)):\n",
    "            point=Test_Data.iloc[p]\n",
    "            NBRS=Nearest_Neighbors(point, Train_Data, genetic_weights[population] , \"num\")\n",
    "            Label=KNN(3,NBRS)\n",
    "            if (Label==point[\"num\"] and Label==1):\n",
    "                TP+=1\n",
    "            if (Label==point[\"num\"] and Label==0):\n",
    "                TN+=1\n",
    "            if (Label!=point[\"num\"] and Label==1):\n",
    "                FP+=1\n",
    "            if (Label!=point[\"num\"] and Label==0):\n",
    "                FN+=1\n",
    "        A_dropped_weighted=(TP+TN)/(TP+TN+FP+FN)\n",
    "\n",
    "        accuracy = A_dropped_weighted*100\n",
    "\n",
    "        accuracy_list.append(accuracy)\n",
    "\n",
    "        population_weights_with_accuracy = np.append(genetic_weights[population], accuracy)\n",
    "        population_data.append(population_weights_with_accuracy)\n",
    "        population_data_sorted = sorted(population_data, key=lambda x: x[-1], reverse=True)\n",
    "\n",
    "    return population_data_sorted"
   ]
  },
  {
   "cell_type": "code",
   "execution_count": 610,
   "metadata": {
    "ExecuteTime": {
     "end_time": "2025-01-27T05:59:27.596844Z",
     "start_time": "2025-01-27T05:59:27.595168Z"
    }
   },
   "outputs": [],
   "source": [
    "# def weight_manipulation(num_of_population,num_of_weights,weights):\n",
    "# \n",
    "#     genetic_weights = np.empty((num_of_population,num_of_weights))\n",
    "# \n",
    "#     np_weights = np.array(weights)\n",
    "# \n",
    "#     row, col = np_weights.shape\n",
    "# \n",
    "#     if(col == 0):\n",
    "# \n",
    "#         for i in range(0, np_weights.shape[0]):\n",
    "#             genetic_weights[i] = weights[i] * np.random.rand(np_weights.shape[i])\n",
    "# \n",
    "# \n",
    "#         genetic_weights = genetic_weights.reshape(-1,1)\n",
    "# \n",
    "#         return genetic_weights\n",
    "#     else :\n",
    "# \n",
    "#         for i in range(0, np_weights.shape[0]):\n",
    "#             genetic_weights[i] = weights[i] * np.random.rand(np_weights.shape[i])\n",
    "# \n",
    "# \n",
    "#     return genetic_weights"
   ]
  },
  {
   "cell_type": "code",
   "execution_count": 611,
   "metadata": {
    "ExecuteTime": {
     "end_time": "2025-01-27T06:44:41.976356Z",
     "start_time": "2025-01-27T05:59:27.638428Z"
    }
   },
   "outputs": [],
   "source": [
    "num_of_population = 20\n",
    "num_of_weights = len(heart_swagger)\n",
    "\n",
    "generations = 100\n",
    "\n",
    "accuracy_list = []\n",
    "\n",
    "# Dictionary to hold generations data\n",
    "ig_generations_data = {}\n",
    "    \n",
    "for gen_num in range(generations):\n",
    "    \n",
    "    if gen_num == 0:\n",
    "\n",
    "        genetic_weights = weight_manipulation(num_of_population, num_of_weights,heart_swagger)\n",
    "        \n",
    "        population_data_sorted = get_weight_manipulated_acc(num_of_population, genetic_weights)\n",
    "        ig_generations_data[f'Generation_{gen_num + 1}'] = population_data_sorted\n",
    "    else :\n",
    "\n",
    "        population_data_sorted[-10:] = population_data_sorted[:10]\n",
    "\n",
    "        for i in range(num_of_population):\n",
    "            genetic_weights[i] = population_data_sorted[i][:7]\n",
    "\n",
    "        genetic_weights = weight_manipulation(num_of_population, num_of_weights, genetic_weights)\n",
    "\n",
    "        population_data_sorted = get_weight_manipulated_acc(num_of_population, genetic_weights)\n",
    "        ig_generations_data[f'Generation_{gen_num + 1}'] = population_data_sorted\n",
    "    \n",
    "    "
   ]
  },
  {
   "cell_type": "code",
   "execution_count": 612,
   "metadata": {
    "ExecuteTime": {
     "end_time": "2025-01-27T06:44:42.050380Z",
     "start_time": "2025-01-27T06:44:42.048197Z"
    }
   },
   "outputs": [
    {
     "name": "stdout",
     "output_type": "stream",
     "text": [
      "80.76923076923077\n",
      "80.76923076923077\n",
      "80.76923076923077\n",
      "80.76923076923077\n",
      "80.76923076923077\n",
      "80.76923076923077\n",
      "80.76923076923077\n",
      "80.76923076923077\n",
      "80.76923076923077\n",
      "80.76923076923077\n",
      "80.76923076923077\n",
      "80.76923076923077\n",
      "80.76923076923077\n",
      "80.76923076923077\n",
      "80.76923076923077\n",
      "80.76923076923077\n",
      "80.76923076923077\n",
      "80.21978021978022\n",
      "80.21978021978022\n",
      "79.12087912087912\n"
     ]
    }
   ],
   "source": [
    "for i in range(0,20):\n",
    "    print(ig_generations_data[\"Generation_100\"][i][7])"
   ]
  },
  {
   "cell_type": "code",
   "execution_count": 613,
   "metadata": {
    "ExecuteTime": {
     "end_time": "2025-01-27T06:44:42.133715Z",
     "start_time": "2025-01-27T06:44:42.131841Z"
    }
   },
   "outputs": [],
   "source": [
    "updated_heart_swagger = ig_generations_data[\"Generation_100\"][0][:7]"
   ]
  },
  {
   "cell_type": "code",
   "execution_count": 619,
   "metadata": {
    "ExecuteTime": {
     "end_time": "2025-01-29T04:43:02.250677Z",
     "start_time": "2025-01-29T04:20:48.875385Z"
    }
   },
   "outputs": [
    {
     "data": {
      "image/png": "[encoded data removed]",
      "text/plain": [
       "<Figure size 640x480 with 1 Axes>"
      ]
     },
     "metadata": {},
     "output_type": "display_data"
    }
   ],
   "source": [
    "GA_weight_acc = []\n",
    "\n",
    "dropped_weight_avg_acc = []\n",
    "avg_acc = []\n",
    "\n",
    "sim_len = 100\n",
    "for i in range(sim_len):\n",
    "\n",
    "    heart_avg_info_gain_df, heart_avg_info_gain_array, heart_X_test, heart_y_test, heart_X_train, heart_y_train = run_simulation(sim_len, df_heart_standardized, label_col, pos_label, neg_label, size, num_of_rand)\n",
    "\n",
    "    # dropping some columns as feature selections\n",
    "    alpha = .1\n",
    "    count = 0\n",
    "    heart_swagger = []\n",
    "    heart_indices = []  # Array to store the indices\n",
    "\n",
    "    for idx, ig in enumerate(heart_avg_info_gain_array):\n",
    "        if ((ig / max(heart_avg_info_gain_array)) ** 2 < alpha):\n",
    "            count += 1\n",
    "            heart_indices.append(idx)  # Append the index\n",
    "        else:\n",
    "            heart_swagger.append(ig)\n",
    "\n",
    "    dropped_heart_X_train = heart_X_train.drop(heart_X_train.columns[heart_indices],axis=1)\n",
    "    dropped_heart_X_test = heart_X_test.drop(heart_X_test.columns[heart_indices],axis=1)\n",
    "\n",
    "    Train_Data =  pd.concat([dropped_heart_X_train, heart_y_train], axis=1)\n",
    "    Test_Data = pd.concat([dropped_heart_X_test, heart_y_test], axis=1)\n",
    "\n",
    "    TP=0\n",
    "    TN=0\n",
    "    FP=0\n",
    "    FN=0\n",
    "\n",
    "    # weighted k-NN with dropped columns using information gain with dropped columns\n",
    "    for p in range(len(Test_Data)):\n",
    "        point=Test_Data.iloc[p]\n",
    "        NBRS=Nearest_Neighbors(point, Train_Data, heart_swagger , \"num\")\n",
    "        Label=KNN(3,NBRS)\n",
    "        if (Label==point[\"num\"] and Label==1):\n",
    "            TP+=1\n",
    "        if (Label==point[\"num\"] and Label==0):\n",
    "            TN+=1\n",
    "        if (Label!=point[\"num\"] and Label==1):\n",
    "            FP+=1\n",
    "        if (Label!=point[\"num\"] and Label==0):\n",
    "            FN+=1\n",
    "    A_dropped_weighted=(TP+TN)/(TP+TN+FP+FN)\n",
    "    precision_dropped_weighted = TP/(TP+FP)\n",
    "    recall_dropped_weighted = TP/(TP+FN)\n",
    "    f1_dropped_weighted = (2 * precision_dropped_weighted * recall_dropped_weighted)/(precision_dropped_weighted+recall_dropped_weighted)\n",
    "    specificity_dropped_weighted = specificity_score(TN,FP)\n",
    "\n",
    "    dropped_weight_avg_acc.append(A_dropped_weighted*100)\n",
    "    dropped_weight_avg_precision.append(precision_dropped_weighted*100)\n",
    "    dropped_weight_avg_recall.append(recall_dropped_weighted*100)\n",
    "    dropped_weight_avg_f1.append(f1_dropped_weighted*100)\n",
    "    dropped_weight_avg_specificity.append(specificity_dropped_weighted*100)\n",
    "\n",
    "    TP=0\n",
    "    TN=0\n",
    "    FP=0\n",
    "    FN=0\n",
    "\n",
    "    for p in range(len(Test_Data)):\n",
    "        point=Test_Data.iloc[p]\n",
    "        NBRS=Nearest_Neighbors(point, Train_Data, updated_heart_swagger , \"num\")\n",
    "        Label=KNN(3,NBRS)\n",
    "        if (Label==point[\"num\"] and Label==1):\n",
    "            TP+=1\n",
    "        if (Label==point[\"num\"] and Label==0):\n",
    "            TN+=1\n",
    "        if (Label!=point[\"num\"] and Label==1):\n",
    "            FP+=1\n",
    "        if (Label!=point[\"num\"] and Label==0):\n",
    "            FN+=1\n",
    "    A_dropped_weighted=(TP+TN)/(TP+TN+FP+FN)\n",
    "    # precision_dropped_weighted = TP/(TP+FP)\n",
    "    # recall_dropped_weighted = TP/(TP+FN)\n",
    "    # f1_dropped_weighted = (2 * precision_dropped_weighted * recall_dropped_weighted)/(precision_dropped_weighted+recall_dropped_weighted)\n",
    "    # specificity_dropped_weighted = TN/(TN+FP)\n",
    "\n",
    "    GA_weight_acc.append(A_dropped_weighted*100)\n",
    "    # dropped_weight_avg_precision.append(precision_dropped_weighted*100)\n",
    "    # dropped_weight_avg_recall.append(recall_dropped_weighted*100)\n",
    "    # dropped_weight_avg_f1.append(f1_dropped_weighted*100)\n",
    "    # dropped_weight_avg_specificity.append(specificity_dropped_weighted*100)\n",
    "\n",
    "    for p in range(len(Test_Data)):\n",
    "        point=Test_Data.iloc[p]\n",
    "        NBRS=Nearest_Neighbors(point, Train_Data, [1,1,1,1,1,1,1], \"num\")\n",
    "        Label=KNN(3,NBRS)\n",
    "    if (Label==point[\"num\"] and Label==1):\n",
    "        TP+=1\n",
    "    if (Label==point[\"num\"] and Label==0):\n",
    "        TN+=1\n",
    "    if (Label!=point[\"num\"] and Label==1):\n",
    "        FP+=1\n",
    "    if (Label!=point[\"num\"] and Label==0):\n",
    "        FN+=1\n",
    "        \n",
    "    A_non_weighted=(TP+TN)/(TP+TN+FP+FN)\n",
    "    avg_acc.append(A_non_weighted*100)"
   ]
  },
  {
   "cell_type": "code",
   "execution_count": 620,
   "metadata": {
    "ExecuteTime": {
     "end_time": "2025-01-29T04:43:03.161677Z",
     "start_time": "2025-01-29T04:43:03.157211Z"
    }
   },
   "outputs": [
    {
     "data": {
      "text/plain": [
       "[78.42105263157895,\n",
       " 75.80645161290323,\n",
       " 75.55555555555556,\n",
       " 73.40425531914893,\n",
       " 77.95698924731182,\n",
       " 76.80412371134021,\n",
       " 80.0,\n",
       " 78.14207650273224,\n",
       " 80.10752688172043,\n",
       " 75.0,\n",
       " 75.55555555555556,\n",
       " 81.05263157894737,\n",
       " 77.00534759358288,\n",
       " 77.95698924731182,\n",
       " 74.05405405405405,\n",
       " 79.7872340425532,\n",
       " 80.0,\n",
       " 78.64583333333334,\n",
       " 81.38297872340425,\n",
       " 76.11111111111111,\n",
       " 73.93617021276596,\n",
       " 80.0,\n",
       " 77.47252747252747,\n",
       " 74.61139896373057,\n",
       " 79.47368421052632,\n",
       " 78.42105263157895,\n",
       " 77.71739130434783,\n",
       " 77.54010695187165,\n",
       " 78.49462365591397,\n",
       " 76.16580310880829,\n",
       " 72.72727272727273,\n",
       " 72.3404255319149,\n",
       " 75.0,\n",
       " 79.14438502673798,\n",
       " 76.34408602150538,\n",
       " 73.91304347826086,\n",
       " 77.29729729729729,\n",
       " 73.07692307692307,\n",
       " 72.43243243243244,\n",
       " 77.95698924731182,\n",
       " 80.64516129032258,\n",
       " 80.52631578947368,\n",
       " 78.91891891891892,\n",
       " 77.77777777777779,\n",
       " 74.45652173913044,\n",
       " 80.42328042328042,\n",
       " 77.59562841530054,\n",
       " 73.4375,\n",
       " 67.1957671957672,\n",
       " 77.54010695187165,\n",
       " 73.40425531914893,\n",
       " 76.59574468085107,\n",
       " 72.87234042553192,\n",
       " 74.21052631578947,\n",
       " 81.48148148148148,\n",
       " 78.37837837837837,\n",
       " 76.47058823529412,\n",
       " 79.14438502673798,\n",
       " 79.23497267759562,\n",
       " 72.82608695652173,\n",
       " 76.79558011049724,\n",
       " 77.6595744680851,\n",
       " 81.18279569892472,\n",
       " 77.71739130434783,\n",
       " 75.53191489361703,\n",
       " 82.16216216216216,\n",
       " 77.6595744680851,\n",
       " 77.89473684210526,\n",
       " 82.41758241758241,\n",
       " 75.93582887700535,\n",
       " 77.12765957446808,\n",
       " 76.88172043010752,\n",
       " 79.27461139896373,\n",
       " 78.3068783068783,\n",
       " 76.34408602150538,\n",
       " 76.50273224043715,\n",
       " 78.80434782608695,\n",
       " 77.95698924731182,\n",
       " 78.23834196891191,\n",
       " 80.54054054054053,\n",
       " 80.11049723756905,\n",
       " 71.50537634408603,\n",
       " 77.24867724867724,\n",
       " 80.64516129032258,\n",
       " 77.04081632653062,\n",
       " 79.58115183246073,\n",
       " 80.21390374331551,\n",
       " 75.80645161290323,\n",
       " 74.86338797814209,\n",
       " 79.36507936507937,\n",
       " 79.23497267759562,\n",
       " 79.6875,\n",
       " 77.6536312849162,\n",
       " 76.59574468085107,\n",
       " 79.14438502673798,\n",
       " 75.64766839378238,\n",
       " 77.6595744680851,\n",
       " 77.6595744680851,\n",
       " 82.25806451612904,\n",
       " 77.47252747252747]"
      ]
     },
     "execution_count": 620,
     "metadata": {},
     "output_type": "execute_result"
    }
   ],
   "source": [
    "GA_weight_acc"
   ]
  },
  {
   "cell_type": "code",
   "execution_count": 621,
   "metadata": {
    "ExecuteTime": {
     "end_time": "2025-01-29T04:43:04.260839Z",
     "start_time": "2025-01-29T04:43:04.163764Z"
    }
   },
   "outputs": [
    {
     "data": {
      "image/png": "[encoded data removed]",
      "text/plain": [
       "<Figure size 1000x700 with 1 Axes>"
      ]
     },
     "metadata": {},
     "output_type": "display_data"
    }
   ],
   "source": [
    "fig = plt.figure(figsize =(10, 7))\n",
    "plt.title(\"Accuracy\",fontsize=14, fontweight='bold')\n",
    "\n",
    "# data = [dropped_weight_avg_acc, NN_acc, RFC_acc, XGB_acc]\n",
    "# \n",
    "# x_axis = ['Dropped Cols Weighted k-NN', 'Neural Network', 'Random Forest Classification', 'XGBoost Classification']\n",
    "\n",
    "data = [dropped_weight_avg_acc, GA_weight_acc]\n",
    "\n",
    "x_axis = ['Dropped Cols Weighted k-NN', 'Genetic Algorithm Weighted k-NN']\n",
    "\n",
    "# Creating plot\n",
    "plt.boxplot(data, tick_labels=x_axis)\n",
    "\n",
    "plt.savefig('IG and GA Accuracy.svg')\n",
    "\n",
    "# show plot\n",
    "plt.show()"
   ]
  },
  {
   "cell_type": "code",
   "execution_count": 622,
   "metadata": {
    "ExecuteTime": {
     "end_time": "2025-01-29T04:43:05.235370Z",
     "start_time": "2025-01-29T04:43:05.154884Z"
    }
   },
   "outputs": [
    {
     "data": {
      "image/png": "[encoded data removed]",
      "text/plain": [
       "<Figure size 1000x700 with 1 Axes>"
      ]
     },
     "metadata": {},
     "output_type": "display_data"
    }
   ],
   "source": [
    "fig = plt.figure(figsize =(10, 7))\n",
    "plt.title(\"Accuracy\",fontsize=14, fontweight='bold')\n",
    "\n",
    "data = [avg_acc, dropped_weight_avg_acc, GA_weight_acc]\n",
    "\n",
    "x_axis = ['Unweighted k-NN', 'Dropped Cols Weighted k-NN', 'Genetic Algorithm Weighted k-NN']\n",
    "\n",
    "# Creating plot\n",
    "plt.boxplot(data, tick_labels=x_axis)\n",
    "\n",
    "plt.savefig('Unweighted, IG and GA Accuracy.svg')\n",
    "\n",
    "# show plot\n",
    "plt.show()\n"
   ]
  },
  {
   "cell_type": "code",
   "execution_count": null,
   "metadata": {},
   "outputs": [],
   "source": []
  }
 ],
 "metadata": {
  "kaggle": {
   "accelerator": "none",
   "dataSources": [
    {
     "datasetId": 5392980,
     "sourceId": 8960076,
     "sourceType": "datasetVersion"
    },
    {
     "datasetId": 5618525,
     "sourceId": 9282343,
     "sourceType": "datasetVersion"
    },
    {
     "datasetId": 5767582,
     "sourceId": 9481805,
     "sourceType": "datasetVersion"
    }
   ],
   "dockerImageVersionId": 30761,
   "isGpuEnabled": false,
   "isInternetEnabled": true,
   "language": "python",
   "sourceType": "notebook"
  },
  "kernelspec": {
   "display_name": "Python 3",
   "language": "python",
   "name": "python3"
  },
  "language_info": {
   "codemirror_mode": {
    "name": "ipython",
    "version": 3
   },
   "file_extension": ".py",
   "mimetype": "text/x-python",
   "name": "python",
   "nbconvert_exporter": "python",
   "pygments_lexer": "ipython3",
   "version": "3.10.14"
  }
 },
 "nbformat": 4,
 "nbformat_minor": 4
}
