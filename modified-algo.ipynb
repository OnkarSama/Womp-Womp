{
 "cells": [
  {
   "cell_type": "code",
   "metadata": {
    "ExecuteTime": {
     "end_time": "2025-03-15T19:56:48.130575Z",
     "start_time": "2025-03-15T19:56:48.088832Z"
    }
   },
   "source": [
    "%reset -f"
   ],
   "outputs": [],
   "execution_count": 3
  },
  {
   "cell_type": "code",
   "metadata": {
    "execution": {
     "iopub.execute_input": "2024-09-29T02:38:20.757905Z",
     "iopub.status.busy": "2024-09-29T02:38:20.756585Z",
     "iopub.status.idle": "2024-09-29T02:38:20.764902Z",
     "shell.execute_reply": "2024-09-29T02:38:20.763087Z",
     "shell.execute_reply.started": "2024-09-29T02:38:20.757839Z"
    },
    "trusted": true,
    "ExecuteTime": {
     "end_time": "2025-03-15T19:56:49.292094Z",
     "start_time": "2025-03-15T19:56:48.133920Z"
    }
   },
   "source": [
    "import pandas as pd # data processing, CSV file I/O (e.g. pd.read_csv)\n",
    "import numpy as np # linear algebra\n",
    "import random as rd # random number generator\n",
    "\n",
    "# metrics\n",
    "from sklearn.metrics import accuracy_score, precision_score, recall_score, f1_score\n",
    "\n",
    "# classifiers\n",
    "from sklearn.tree import DecisionTreeClassifier, plot_tree, export_text\n",
    "from sklearn.neural_network import MLPClassifier\n",
    "from sklearn.ensemble import RandomForestClassifier\n",
    "from xgboost import XGBClassifier\n",
    "from sklearn import tree\n",
    "\n",
    "\n",
    "from sklearn.decomposition import PCA\n",
    "import matplotlib.pyplot as plt\n",
    "\n",
    "# from OnkarClassifier import VectorKNNClassifier"
   ],
   "outputs": [],
   "execution_count": 4
  },
  {
   "cell_type": "code",
   "metadata": {
    "execution": {
     "iopub.execute_input": "2024-09-29T02:38:23.284645Z",
     "iopub.status.busy": "2024-09-29T02:38:23.284279Z",
     "iopub.status.idle": "2024-09-29T02:38:23.292841Z",
     "shell.execute_reply": "2024-09-29T02:38:23.291579Z",
     "shell.execute_reply.started": "2024-09-29T02:38:23.284604Z"
    },
    "trusted": true,
    "ExecuteTime": {
     "end_time": "2025-03-15T19:56:49.299373Z",
     "start_time": "2025-03-15T19:56:49.296789Z"
    }
   },
   "source": [
    "#split data method takes in the dataframe, positive label, negative label and the size of the dataframe\n",
    "#Returns 4 datasets, 2 positive and 2 negative\n",
    "def split_data(df_total, class_col, pos_label, neg_label, size):\n",
    "    \n",
    "    full_pos = df_total[df_total[class_col] == pos_label]\n",
    "    full_neg = df_total[df_total[class_col] == neg_label]\n",
    "    \n",
    "    split_pos_index = round(len(full_pos) * size)\n",
    "    split_neg_index = round(len(full_neg) * size)\n",
    "    \n",
    "    pos1 = full_pos.iloc[:split_pos_index]\n",
    "    pos2 = full_pos.iloc[split_pos_index:]\n",
    "    neg1 = full_neg.iloc[:split_neg_index]\n",
    "    neg2 = full_neg.iloc[split_neg_index:]\n",
    "    \n",
    "    return pos1.reset_index(drop=True), pos2.reset_index(drop=True), neg1.reset_index(drop=True), neg2.reset_index(drop=True)"
   ],
   "outputs": [],
   "execution_count": 5
  },
  {
   "cell_type": "code",
   "metadata": {
    "execution": {
     "iopub.execute_input": "2024-09-29T02:38:23.294473Z",
     "iopub.status.busy": "2024-09-29T02:38:23.294077Z",
     "iopub.status.idle": "2024-09-29T02:38:23.308587Z",
     "shell.execute_reply": "2024-09-29T02:38:23.307360Z",
     "shell.execute_reply.started": "2024-09-29T02:38:23.294431Z"
    },
    "trusted": true,
    "ExecuteTime": {
     "end_time": "2025-03-15T19:56:49.308274Z",
     "start_time": "2025-03-15T19:56:49.306454Z"
    }
   },
   "source": [
    "#takes in number of random indices to be selected and the length of the data frame\n",
    "#returns an array of size shown above and full of random indices\n",
    "def get_random_indices(num_of_random,len_of_df):\n",
    "    \n",
    "    indices = []\n",
    "    \n",
    "    for i in range(num_of_random):\n",
    "        indices.append(rd.randint(0,len_of_df-1))\n",
    "    \n",
    "    return indices"
   ],
   "outputs": [],
   "execution_count": 6
  },
  {
   "cell_type": "code",
   "metadata": {
    "execution": {
     "iopub.execute_input": "2024-09-29T02:38:23.314857Z",
     "iopub.status.busy": "2024-09-29T02:38:23.314396Z",
     "iopub.status.idle": "2024-09-29T02:38:23.328348Z",
     "shell.execute_reply": "2024-09-29T02:38:23.327215Z",
     "shell.execute_reply.started": "2024-09-29T02:38:23.314811Z"
    },
    "trusted": true,
    "ExecuteTime": {
     "end_time": "2025-03-15T19:56:49.316283Z",
     "start_time": "2025-03-15T19:56:49.312594Z"
    }
   },
   "source": [
    "#Creating train test set takes in our 4 datasets as created in split_data method\n",
    "#also takes in the feature columns, class columns and a random number\n",
    "# num_of_random gives the desired number of random data\n",
    "#returns x and y train and x and y test\n",
    "def create_train_test_set(pos1, pos2, neg1, neg2, feature_cols, class_col, num_of_rand):\n",
    "    \n",
    "    feature_cols = feature_cols.drop(class_col)\n",
    "\n",
    "    X_train = pd.DataFrame()\n",
    "    X_test = pd.DataFrame()\n",
    "    y_train = pd.DataFrame()\n",
    "    y_test = pd.DataFrame()\n",
    "    \n",
    "    random_pos_indices = get_random_indices(num_of_rand,len(pos1))\n",
    "    random_pos = pos1.iloc[random_pos_indices]\n",
    "    remaining_pos1 = pos1.drop(random_pos_indices)\n",
    "    \n",
    "    random_neg_indices = get_random_indices(num_of_rand,len(neg1))\n",
    "    random_neg = neg1.iloc[random_neg_indices]\n",
    "    remaining_neg1 = neg1.drop(random_neg_indices)\n",
    "    \n",
    "    full_train_set = pd.concat([random_pos,random_neg])\n",
    "    \n",
    "    full_remaining_pos = pd.concat([remaining_pos1,pos2])\n",
    "    full_remaining_neg = pd.concat([remaining_neg1,neg2])\n",
    "    full_test_set = pd.concat([full_remaining_pos,full_remaining_neg])\n",
    "    \n",
    "    X_train = full_train_set[feature_cols]\n",
    "    y_train = pd.concat([y_train,full_train_set[class_col]])\n",
    "    \n",
    "    X_test = full_test_set[feature_cols]\n",
    "    y_test = pd.concat([y_test,full_test_set[class_col]])\n",
    "    \n",
    "    return X_train.reset_index(drop=True), y_train.reset_index(drop=True), X_test.reset_index(drop=True), y_test.reset_index(drop=True)"
   ],
   "outputs": [],
   "execution_count": 7
  },
  {
   "cell_type": "code",
   "metadata": {
    "execution": {
     "iopub.execute_input": "2024-09-29T02:38:25.402923Z",
     "iopub.status.busy": "2024-09-29T02:38:25.401908Z",
     "iopub.status.idle": "2024-09-29T02:38:25.417906Z",
     "shell.execute_reply": "2024-09-29T02:38:25.416423Z",
     "shell.execute_reply.started": "2024-09-29T02:38:25.402864Z"
    },
    "trusted": true,
    "ExecuteTime": {
     "end_time": "2025-03-15T19:56:49.322326Z",
     "start_time": "2025-03-15T19:56:49.320459Z"
    }
   },
   "source": [
    "#get entropy takes in a text called info and returns the entropy contained in the info\n",
    "# info is all the information of a root and children node of a decision tree\n",
    "#returns an entropy value as a float.\n",
    "def get_entropy(info):\n",
    "    \n",
    "    text = str(info)\n",
    "    \n",
    "    parts = text.split('entropy = ')[1]\n",
    "    entropy_value = parts.split('\\\\n')[0]\n",
    "\n",
    "    # Convert the entropy value to a float\n",
    "    return float(entropy_value)"
   ],
   "outputs": [],
   "execution_count": 8
  },
  {
   "cell_type": "code",
   "metadata": {
    "execution": {
     "iopub.execute_input": "2024-09-29T02:38:25.420065Z",
     "iopub.status.busy": "2024-09-29T02:38:25.419615Z",
     "iopub.status.idle": "2024-09-29T02:38:25.430020Z",
     "shell.execute_reply": "2024-09-29T02:38:25.428584Z",
     "shell.execute_reply.started": "2024-09-29T02:38:25.420021Z"
    },
    "trusted": true,
    "ExecuteTime": {
     "end_time": "2025-03-15T19:56:49.328035Z",
     "start_time": "2025-03-15T19:56:49.326301Z"
    }
   },
   "source": [
    "#Get num of samples takes in a text called info and assigns it to a value\n",
    "#returns a float of the sample value\n",
    "#maybe also rename this variable\n",
    "def get_num_of_samples(info):\n",
    "    \n",
    "    text = str(info)\n",
    "    \n",
    "    parts = text.split('samples = ')[1]\n",
    "    num_of_samples = parts.split('\\\\n')[0]\n",
    "\n",
    "    # Convert the num of samples to a float\n",
    "    return float(num_of_samples)"
   ],
   "outputs": [],
   "execution_count": 9
  },
  {
   "cell_type": "code",
   "metadata": {
    "execution": {
     "iopub.execute_input": "2024-09-29T02:38:25.432304Z",
     "iopub.status.busy": "2024-09-29T02:38:25.431844Z",
     "iopub.status.idle": "2024-09-29T02:38:25.443141Z",
     "shell.execute_reply": "2024-09-29T02:38:25.441633Z",
     "shell.execute_reply.started": "2024-09-29T02:38:25.432237Z"
    },
    "trusted": true,
    "ExecuteTime": {
     "end_time": "2025-03-15T19:56:49.334649Z",
     "start_time": "2025-03-15T19:56:49.332099Z"
    }
   },
   "source": [
    "#model metrics takes in the x and y train and creates the model metrics\n",
    "#returns a dictionary with a graph, tree, parents and children nodes\n",
    "# which contain their entropies and sample size\n",
    "def model_metrics(X_train, y_train):\n",
    "    \n",
    "    clf = DecisionTreeClassifier(criterion='entropy', max_depth=1) # Initialize the decision tree classifier\n",
    "    clf.fit(X_train, y_train) # Fitting the classifier on the training data\n",
    "    \n",
    "    col_names = X_train.columns\n",
    "    label = y_train.columns[0]\n",
    "    \n",
    "    info = plot_tree(clf, feature_names=col_names, class_names=[str(pos_label), str(neg_label)], rounded=True, filled=True)\n",
    "    \n",
    "    metrics = {\n",
    "        'Graph' : info,\n",
    "        'Tree': clf,\n",
    "        'e_parent': get_entropy(info[0]),\n",
    "        'e_child1': get_entropy(info[1]),\n",
    "        'e_child2' : get_entropy(info[3]),\n",
    "        'parent_sample' : get_num_of_samples(info[0]),\n",
    "        'child_sample1' : get_num_of_samples(info[1]),\n",
    "        'child_sample2' : get_num_of_samples(info[3]),\n",
    "    }\n",
    "\n",
    "#     plot_tree(clf, feature_names=col_names, class_names=[str(pos_label), str(neg_label)], rounded=True, filled=True)\n",
    "#     plt.show()\n",
    "    \n",
    "    return metrics"
   ],
   "outputs": [],
   "execution_count": 10
  },
  {
   "cell_type": "code",
   "metadata": {
    "execution": {
     "iopub.execute_input": "2024-09-29T02:38:25.446687Z",
     "iopub.status.busy": "2024-09-29T02:38:25.445726Z",
     "iopub.status.idle": "2024-09-29T02:38:25.457339Z",
     "shell.execute_reply": "2024-09-29T02:38:25.455973Z",
     "shell.execute_reply.started": "2024-09-29T02:38:25.446625Z"
    },
    "trusted": true,
    "ExecuteTime": {
     "end_time": "2025-03-15T19:56:49.340619Z",
     "start_time": "2025-03-15T19:56:49.338742Z"
    }
   },
   "source": [
    "# calculate_information_gain uses entropy values gained from the root and children nodes\n",
    "# these values come from a decision tree of depth one of a specific attribute\n",
    "# returns the information gain of the column\n",
    "def calculate_information_gain(metrics):\n",
    "    \n",
    "    return metrics['e_parent']-((metrics['child_sample1']/metrics['parent_sample'])*metrics['e_child1'])-((metrics['child_sample2']/metrics['parent_sample'])*metrics['e_child2'])"
   ],
   "outputs": [],
   "execution_count": 11
  },
  {
   "cell_type": "code",
   "metadata": {
    "execution": {
     "iopub.execute_input": "2024-09-29T02:38:25.459368Z",
     "iopub.status.busy": "2024-09-29T02:38:25.458862Z",
     "iopub.status.idle": "2024-09-29T02:38:25.469990Z",
     "shell.execute_reply": "2024-09-29T02:38:25.468600Z",
     "shell.execute_reply.started": "2024-09-29T02:38:25.459302Z"
    },
    "trusted": true,
    "ExecuteTime": {
     "end_time": "2025-03-15T19:56:49.346385Z",
     "start_time": "2025-03-15T19:56:49.344306Z"
    }
   },
   "source": [
    "#takes in x and y train, label col and columns\n",
    "#then returns our information gain weights\n",
    "def get_information_gain(X_train, y_train, label_col, columns):\n",
    "    \n",
    "    information_gain_weights = pd.DataFrame()\n",
    "    col_names = columns[:-1]\n",
    "    current_information_gain = np.array([])\n",
    "\n",
    "    \n",
    "    for col in columns:\n",
    "        if col != label_col:\n",
    "            metrics = model_metrics(X_train[[col]], y_train)\n",
    "            current_information_gain = np.append(current_information_gain, calculate_information_gain(metrics))\n",
    "    current_information_gain = current_information_gain.reshape(1,-1)\n",
    "    information_gain_weights = pd.DataFrame(current_information_gain, columns=col_names)\n",
    "\n",
    "    return information_gain_weights"
   ],
   "outputs": [],
   "execution_count": 12
  },
  {
   "cell_type": "code",
   "metadata": {
    "execution": {
     "iopub.execute_input": "2024-09-29T02:38:25.472665Z",
     "iopub.status.busy": "2024-09-29T02:38:25.472137Z",
     "iopub.status.idle": "2024-09-29T02:38:25.482200Z",
     "shell.execute_reply": "2024-09-29T02:38:25.480967Z",
     "shell.execute_reply.started": "2024-09-29T02:38:25.472607Z"
    },
    "trusted": true,
    "ExecuteTime": {
     "end_time": "2025-03-15T19:56:49.352389Z",
     "start_time": "2025-03-15T19:56:49.350374Z"
    }
   },
   "source": [
    "#avg info gain takes in the data frame called df_gain\n",
    "#returns the results in a dataframe and an average information gain array\n",
    "def get_avg_info_gain_df(df_gain):\n",
    "    # Compute the mean of each column in the DataFrame\n",
    "    avg_info_gain = df_gain.mean()\n",
    "    \n",
    "    # Convert the resulting Series to a NumPy array\n",
    "    avg_info_gain_array = avg_info_gain.to_numpy()\n",
    "    \n",
    "    # Create a DataFrame from the average coefficients\n",
    "    avg_info_gain_df = pd.DataFrame([avg_info_gain], columns=df_gain.columns, index=['avg'])\n",
    "    \n",
    "    # Concatenate the original DataFrame with the average coefficients DataFrame\n",
    "    result_df = pd.concat([df_gain, avg_info_gain_df], ignore_index=False)\n",
    "    \n",
    "    return result_df, avg_info_gain_array"
   ],
   "outputs": [],
   "execution_count": 13
  },
  {
   "cell_type": "code",
   "metadata": {
    "execution": {
     "iopub.execute_input": "2024-09-29T02:38:25.484427Z",
     "iopub.status.busy": "2024-09-29T02:38:25.483881Z",
     "iopub.status.idle": "2024-09-29T02:38:25.497848Z",
     "shell.execute_reply": "2024-09-29T02:38:25.496505Z",
     "shell.execute_reply.started": "2024-09-29T02:38:25.484368Z"
    },
    "trusted": true,
    "ExecuteTime": {
     "end_time": "2025-03-15T19:56:49.358831Z",
     "start_time": "2025-03-15T19:56:49.356494Z"
    }
   },
   "source": [
    "#Run simulation takes in a simulation length number (number of times information gain is calculated for each attribute ) \n",
    "# a total data frame, label column, positive and negative label, size and number of rand\n",
    "# num_of_rand allows for n random data \n",
    "#returns average info gain dataframe and array, x and y text, and x and y train\n",
    "def run_simulation(sim_len, df_total, label_col,pos_label, neg_label, size, num_of_rand):\n",
    "    \n",
    "    sim_info_gain = pd.DataFrame()\n",
    "    \n",
    "    positive1, positive2, negative1, negative2 = split_data(df_total, label_col, pos_label, neg_label, size)\n",
    "\n",
    "    \n",
    "    for i in range(sim_len):\n",
    "        \n",
    "        X_train, y_train, X_test, y_test = create_train_test_set(positive1, positive2, negative1, negative2, df_total.columns, label_col, num_of_rand)\n",
    "        \n",
    "        info_gain = get_information_gain(X_train, y_train, label_col, df_total.columns)\n",
    "        \n",
    "        sim_info_gain = pd.concat([info_gain, sim_info_gain])\n",
    "        \n",
    "    avg_info_gain_df, avg_info_gain_array = get_avg_info_gain_df(sim_info_gain)\n",
    "        \n",
    "    return avg_info_gain_df, avg_info_gain_array, X_test, y_test, X_train, y_train\n",
    "    "
   ],
   "outputs": [],
   "execution_count": 14
  },
  {
   "cell_type": "code",
   "metadata": {
    "ExecuteTime": {
     "end_time": "2025-03-15T19:56:49.364377Z",
     "start_time": "2025-03-15T19:56:49.362744Z"
    }
   },
   "source": [
    "# analogous to get information gain function \n",
    "def get_explained_variance(pca,feature_cols):\n",
    "    \n",
    "    explained_variance= pca.explained_variance_ratio_\n",
    "    explained_variance = explained_variance.reshape(1,-1)\n",
    "\n",
    "    ev_df = pd.DataFrame(explained_variance, columns=feature_cols)\n",
    "    \n",
    "    return ev_df"
   ],
   "outputs": [],
   "execution_count": 15
  },
  {
   "cell_type": "code",
   "metadata": {
    "ExecuteTime": {
     "end_time": "2025-03-15T19:56:49.370480Z",
     "start_time": "2025-03-15T19:56:49.368513Z"
    }
   },
   "source": [
    "# analogous to get avg information gain function \n",
    "def get_avg_explained_variance_df(df_ev):\n",
    "    # Compute the mean of each column in the DataFrame\n",
    "    avg_ev = df_ev.mean()\n",
    "\n",
    "    # Convert the resulting Series to a NumPy array\n",
    "    avg_ev_array = avg_ev.to_numpy()\n",
    "\n",
    "    # Create a DataFrame from the average coefficients\n",
    "    avg_ev_df = pd.DataFrame([avg_ev], columns=df_ev.columns, index=['avg'])\n",
    "\n",
    "    # Concatenate the original DataFrame with the average coefficients DataFrame\n",
    "    result_df = pd.concat([df_ev, avg_ev_df], ignore_index=False)\n",
    "\n",
    "    return result_df, avg_ev_array"
   ],
   "outputs": [],
   "execution_count": 16
  },
  {
   "metadata": {
    "ExecuteTime": {
     "end_time": "2025-03-15T19:56:49.377172Z",
     "start_time": "2025-03-15T19:56:49.374424Z"
    }
   },
   "cell_type": "code",
   "source": [
    "# mod run simulation is a function similar to the one above \n",
    "# but uses explained variance PCA instead of Information gain\n",
    "#returns average explained variance dataframe and array, x and y text, and x and y train\n",
    "def mod_run_simulation(sim_len, df_total, label_col,pos_label, neg_label, size, num_of_rand):\n",
    "\n",
    "    sim_explained_variance = pd.DataFrame()\n",
    "    \n",
    "    pca = PCA(n_components=13)\n",
    "    pc = pca.fit_transform(df_heart_standardized.iloc[:-1])\n",
    "\n",
    "    df_pca = pd.DataFrame(data=pc, columns=['principal component 1', 'principal component 2', 'principal component 3',\n",
    "                                        'principal component 4', 'principal component 5', 'principal component 6',\n",
    "                                        'principal component 7','principal component 8','principal component 9','principal component 10','principal component 11','principal component 12','principal component 13'])\n",
    "\n",
    "    final_pca_df = pd.concat([df_pca, df_heart_standardized[['num']]], axis = 1)\n",
    "\n",
    "    phishing1, phishing2, non_phishing1, non_phishing2 = split_data(final_pca_df, label_col, pos_label, neg_label, size)\n",
    "\n",
    "    for i in range(sim_len):\n",
    "\n",
    "        X_train, y_train, X_test, y_test = create_train_test_set(phishing1, phishing2, non_phishing1, non_phishing2, final_pca_df.columns, label_col, num_of_rand)\n",
    "\n",
    "        explained_variance = get_explained_variance(pca,df_pca.columns)\n",
    "        sim_explained_variance = pd.concat([explained_variance, sim_explained_variance])\n",
    "    \n",
    "\n",
    "    avg_explained_variance_df, avg_explained_variance_array = get_avg_explained_variance_df(sim_explained_variance)\n",
    "\n",
    "    return avg_explained_variance_df, avg_explained_variance_array, X_test, y_test, X_train, y_train\n"
   ],
   "outputs": [],
   "execution_count": 17
  },
  {
   "cell_type": "code",
   "metadata": {
    "execution": {
     "iopub.execute_input": "2024-09-29T02:38:31.368969Z",
     "iopub.status.busy": "2024-09-29T02:38:31.368381Z",
     "iopub.status.idle": "2024-09-29T02:38:31.389918Z",
     "shell.execute_reply": "2024-09-29T02:38:31.388562Z",
     "shell.execute_reply.started": "2024-09-29T02:38:31.368921Z"
    },
    "trusted": true,
    "ExecuteTime": {
     "end_time": "2025-03-15T19:56:49.388620Z",
     "start_time": "2025-03-15T19:56:49.381121Z"
    }
   },
   "source": [
    "column_names = [\n",
    "  'age', 'sex', 'cp', 'trestbps', 'chol', 'fbs', 'restecg', \n",
    "  'thalach', 'exang', 'oldpeak', 'slope', 'ca', 'thal', 'num'\n",
    "]\n",
    "\n",
    "df_heart = pd.read_csv('heartdiseaes/processed.cleveland.data', names = column_names, index_col = False)\n",
    "\n",
    "new_row_values = [63, 1, 1, 145, 233, 1, 2, 150, 0, 2.3, 3.0, 0, 6.0, 0]\n",
    "\n",
    "df_heart.loc[0] = new_row_values"
   ],
   "outputs": [],
   "execution_count": 18
  },
  {
   "cell_type": "code",
   "metadata": {
    "execution": {
     "iopub.execute_input": "2024-09-29T02:38:31.392688Z",
     "iopub.status.busy": "2024-09-29T02:38:31.392141Z",
     "iopub.status.idle": "2024-09-29T02:38:31.405524Z",
     "shell.execute_reply": "2024-09-29T02:38:31.404095Z",
     "shell.execute_reply.started": "2024-09-29T02:38:31.392627Z"
    },
    "trusted": true,
    "ExecuteTime": {
     "end_time": "2025-03-15T19:56:49.405940Z",
     "start_time": "2025-03-15T19:56:49.403189Z"
    }
   },
   "source": [
    "for i in df_heart.itertuples():\n",
    "    tup = i\n",
    "    for j in tup:\n",
    "        if j == '?':\n",
    "            print(tup)"
   ],
   "outputs": [
    {
     "name": "stdout",
     "output_type": "stream",
     "text": [
      "Pandas(Index=87, age=53.0, sex=0.0, cp=3.0, trestbps=128.0, chol=216.0, fbs=0.0, restecg=2.0, thalach=115.0, exang=0.0, oldpeak=0.0, slope=1.0, ca='0.0', thal='?', num=0)\n",
      "Pandas(Index=166, age=52.0, sex=1.0, cp=3.0, trestbps=138.0, chol=223.0, fbs=0.0, restecg=0.0, thalach=169.0, exang=0.0, oldpeak=0.0, slope=1.0, ca='?', thal='3.0', num=0)\n",
      "Pandas(Index=192, age=43.0, sex=1.0, cp=4.0, trestbps=132.0, chol=247.0, fbs=1.0, restecg=2.0, thalach=143.0, exang=1.0, oldpeak=0.1, slope=2.0, ca='?', thal='7.0', num=1)\n",
      "Pandas(Index=266, age=52.0, sex=1.0, cp=4.0, trestbps=128.0, chol=204.0, fbs=1.0, restecg=0.0, thalach=156.0, exang=1.0, oldpeak=1.0, slope=2.0, ca='0.0', thal='?', num=2)\n",
      "Pandas(Index=287, age=58.0, sex=1.0, cp=2.0, trestbps=125.0, chol=220.0, fbs=0.0, restecg=0.0, thalach=144.0, exang=0.0, oldpeak=0.4, slope=2.0, ca='?', thal='7.0', num=0)\n",
      "Pandas(Index=302, age=38.0, sex=1.0, cp=3.0, trestbps=138.0, chol=175.0, fbs=0.0, restecg=0.0, thalach=173.0, exang=0.0, oldpeak=0.0, slope=1.0, ca='?', thal='3.0', num=0)\n"
     ]
    }
   ],
   "execution_count": 19
  },
  {
   "cell_type": "code",
   "metadata": {
    "execution": {
     "iopub.execute_input": "2024-09-29T02:38:31.408408Z",
     "iopub.status.busy": "2024-09-29T02:38:31.407884Z",
     "iopub.status.idle": "2024-09-29T02:38:31.416958Z",
     "shell.execute_reply": "2024-09-29T02:38:31.415460Z",
     "shell.execute_reply.started": "2024-09-29T02:38:31.408347Z"
    },
    "trusted": true,
    "ExecuteTime": {
     "end_time": "2025-03-15T19:56:49.432598Z",
     "start_time": "2025-03-15T19:56:49.429755Z"
    }
   },
   "source": [
    "row_nums = [87,166,192,266,287,302]\n",
    "df_heart = df_heart.drop(row_nums)"
   ],
   "outputs": [],
   "execution_count": 20
  },
  {
   "cell_type": "code",
   "metadata": {
    "execution": {
     "iopub.execute_input": "2024-09-29T02:38:31.419273Z",
     "iopub.status.busy": "2024-09-29T02:38:31.418640Z",
     "iopub.status.idle": "2024-09-29T02:38:31.433610Z",
     "shell.execute_reply": "2024-09-29T02:38:31.432260Z",
     "shell.execute_reply.started": "2024-09-29T02:38:31.419218Z"
    },
    "trusted": true,
    "ExecuteTime": {
     "end_time": "2025-03-15T19:56:49.461974Z",
     "start_time": "2025-03-15T19:56:49.457661Z"
    }
   },
   "source": [
    "df_heart.dtypes"
   ],
   "outputs": [
    {
     "data": {
      "text/plain": [
       "age         float64\n",
       "sex         float64\n",
       "cp          float64\n",
       "trestbps    float64\n",
       "chol        float64\n",
       "fbs         float64\n",
       "restecg     float64\n",
       "thalach     float64\n",
       "exang       float64\n",
       "oldpeak     float64\n",
       "slope       float64\n",
       "ca           object\n",
       "thal         object\n",
       "num           int64\n",
       "dtype: object"
      ]
     },
     "execution_count": 21,
     "metadata": {},
     "output_type": "execute_result"
    }
   ],
   "execution_count": 21
  },
  {
   "cell_type": "code",
   "metadata": {
    "execution": {
     "iopub.execute_input": "2024-09-29T02:38:31.436206Z",
     "iopub.status.busy": "2024-09-29T02:38:31.435683Z",
     "iopub.status.idle": "2024-09-29T02:38:31.445886Z",
     "shell.execute_reply": "2024-09-29T02:38:31.444565Z",
     "shell.execute_reply.started": "2024-09-29T02:38:31.436148Z"
    },
    "trusted": true,
    "ExecuteTime": {
     "end_time": "2025-03-15T19:56:49.503642Z",
     "start_time": "2025-03-15T19:56:49.501296Z"
    }
   },
   "source": [
    "df_heart['ca'] = pd.to_numeric(df_heart['ca'])"
   ],
   "outputs": [],
   "execution_count": 22
  },
  {
   "cell_type": "code",
   "metadata": {
    "execution": {
     "iopub.execute_input": "2024-09-29T02:38:31.448012Z",
     "iopub.status.busy": "2024-09-29T02:38:31.447471Z",
     "iopub.status.idle": "2024-09-29T02:38:31.458600Z",
     "shell.execute_reply": "2024-09-29T02:38:31.457192Z",
     "shell.execute_reply.started": "2024-09-29T02:38:31.447961Z"
    },
    "trusted": true,
    "ExecuteTime": {
     "end_time": "2025-03-15T19:56:49.541667Z",
     "start_time": "2025-03-15T19:56:49.539591Z"
    }
   },
   "source": [
    "df_heart['thal'] = pd.to_numeric(df_heart['thal'])"
   ],
   "outputs": [],
   "execution_count": 23
  },
  {
   "cell_type": "code",
   "metadata": {
    "execution": {
     "iopub.execute_input": "2024-09-29T02:38:31.461062Z",
     "iopub.status.busy": "2024-09-29T02:38:31.460655Z",
     "iopub.status.idle": "2024-09-29T02:38:31.472797Z",
     "shell.execute_reply": "2024-09-29T02:38:31.471242Z",
     "shell.execute_reply.started": "2024-09-29T02:38:31.461017Z"
    },
    "trusted": true,
    "ExecuteTime": {
     "end_time": "2025-03-15T19:56:49.568706Z",
     "start_time": "2025-03-15T19:56:49.566216Z"
    }
   },
   "source": [
    "df_heart['num'] = df_heart['num'].replace([1,2,3,4], 1)"
   ],
   "outputs": [],
   "execution_count": 24
  },
  {
   "cell_type": "code",
   "metadata": {
    "execution": {
     "iopub.execute_input": "2024-09-29T02:38:31.475142Z",
     "iopub.status.busy": "2024-09-29T02:38:31.474676Z",
     "iopub.status.idle": "2024-09-29T02:38:31.485571Z",
     "shell.execute_reply": "2024-09-29T02:38:31.484055Z",
     "shell.execute_reply.started": "2024-09-29T02:38:31.475093Z"
    },
    "trusted": true,
    "ExecuteTime": {
     "end_time": "2025-03-15T19:56:49.599971Z",
     "start_time": "2025-03-15T19:56:49.598049Z"
    }
   },
   "source": [
    "def standardizer(df):\n",
    "    \n",
    "    temp_df = df.copy()\n",
    "    \n",
    "    for col in temp_df.columns[:-1]:\n",
    "        \n",
    "        temp_df[col] = (temp_df[col] - temp_df[col].mean())/temp_df[col].std()\n",
    "        \n",
    "    return temp_df"
   ],
   "outputs": [],
   "execution_count": 25
  },
  {
   "cell_type": "code",
   "metadata": {
    "execution": {
     "iopub.execute_input": "2024-09-29T02:38:31.487758Z",
     "iopub.status.busy": "2024-09-29T02:38:31.487308Z",
     "iopub.status.idle": "2024-09-29T02:38:31.510941Z",
     "shell.execute_reply": "2024-09-29T02:38:31.509628Z",
     "shell.execute_reply.started": "2024-09-29T02:38:31.487713Z"
    },
    "trusted": true,
    "ExecuteTime": {
     "end_time": "2025-03-15T19:56:49.648251Z",
     "start_time": "2025-03-15T19:56:49.644612Z"
    }
   },
   "source": [
    "df_heart_standardized = standardizer(df_heart)"
   ],
   "outputs": [],
   "execution_count": 26
  },
  {
   "cell_type": "code",
   "metadata": {
    "execution": {
     "iopub.execute_input": "2024-09-29T02:38:31.513367Z",
     "iopub.status.busy": "2024-09-29T02:38:31.512839Z",
     "iopub.status.idle": "2024-09-29T02:38:31.545711Z",
     "shell.execute_reply": "2024-09-29T02:38:31.544242Z",
     "shell.execute_reply.started": "2024-09-29T02:38:31.513310Z"
    },
    "trusted": true,
    "ExecuteTime": {
     "end_time": "2025-03-15T19:56:49.706790Z",
     "start_time": "2025-03-15T19:56:49.700612Z"
    }
   },
   "source": [
    "df_heart.head()"
   ],
   "outputs": [
    {
     "data": {
      "text/plain": [
       "    age  sex   cp  trestbps   chol  fbs  restecg  thalach  exang  oldpeak  \\\n",
       "0  63.0  1.0  1.0     145.0  233.0  1.0      2.0    150.0    0.0      2.3   \n",
       "1  67.0  1.0  4.0     160.0  286.0  0.0      2.0    108.0    1.0      1.5   \n",
       "2  67.0  1.0  4.0     120.0  229.0  0.0      2.0    129.0    1.0      2.6   \n",
       "3  37.0  1.0  3.0     130.0  250.0  0.0      0.0    187.0    0.0      3.5   \n",
       "4  41.0  0.0  2.0     130.0  204.0  0.0      2.0    172.0    0.0      1.4   \n",
       "\n",
       "   slope   ca  thal  num  \n",
       "0    3.0  0.0   6.0    0  \n",
       "1    2.0  3.0   3.0    1  \n",
       "2    2.0  2.0   7.0    1  \n",
       "3    3.0  0.0   3.0    0  \n",
       "4    1.0  0.0   3.0    0  "
      ],
      "text/html": [
       "<div>\n",
       "<style scoped>\n",
       "    .dataframe tbody tr th:only-of-type {\n",
       "        vertical-align: middle;\n",
       "    }\n",
       "\n",
       "    .dataframe tbody tr th {\n",
       "        vertical-align: top;\n",
       "    }\n",
       "\n",
       "    .dataframe thead th {\n",
       "        text-align: right;\n",
       "    }\n",
       "</style>\n",
       "<table border=\"1\" class=\"dataframe\">\n",
       "  <thead>\n",
       "    <tr style=\"text-align: right;\">\n",
       "      <th></th>\n",
       "      <th>age</th>\n",
       "      <th>sex</th>\n",
       "      <th>cp</th>\n",
       "      <th>trestbps</th>\n",
       "      <th>chol</th>\n",
       "      <th>fbs</th>\n",
       "      <th>restecg</th>\n",
       "      <th>thalach</th>\n",
       "      <th>exang</th>\n",
       "      <th>oldpeak</th>\n",
       "      <th>slope</th>\n",
       "      <th>ca</th>\n",
       "      <th>thal</th>\n",
       "      <th>num</th>\n",
       "    </tr>\n",
       "  </thead>\n",
       "  <tbody>\n",
       "    <tr>\n",
       "      <th>0</th>\n",
       "      <td>63.0</td>\n",
       "      <td>1.0</td>\n",
       "      <td>1.0</td>\n",
       "      <td>145.0</td>\n",
       "      <td>233.0</td>\n",
       "      <td>1.0</td>\n",
       "      <td>2.0</td>\n",
       "      <td>150.0</td>\n",
       "      <td>0.0</td>\n",
       "      <td>2.3</td>\n",
       "      <td>3.0</td>\n",
       "      <td>0.0</td>\n",
       "      <td>6.0</td>\n",
       "      <td>0</td>\n",
       "    </tr>\n",
       "    <tr>\n",
       "      <th>1</th>\n",
       "      <td>67.0</td>\n",
       "      <td>1.0</td>\n",
       "      <td>4.0</td>\n",
       "      <td>160.0</td>\n",
       "      <td>286.0</td>\n",
       "      <td>0.0</td>\n",
       "      <td>2.0</td>\n",
       "      <td>108.0</td>\n",
       "      <td>1.0</td>\n",
       "      <td>1.5</td>\n",
       "      <td>2.0</td>\n",
       "      <td>3.0</td>\n",
       "      <td>3.0</td>\n",
       "      <td>1</td>\n",
       "    </tr>\n",
       "    <tr>\n",
       "      <th>2</th>\n",
       "      <td>67.0</td>\n",
       "      <td>1.0</td>\n",
       "      <td>4.0</td>\n",
       "      <td>120.0</td>\n",
       "      <td>229.0</td>\n",
       "      <td>0.0</td>\n",
       "      <td>2.0</td>\n",
       "      <td>129.0</td>\n",
       "      <td>1.0</td>\n",
       "      <td>2.6</td>\n",
       "      <td>2.0</td>\n",
       "      <td>2.0</td>\n",
       "      <td>7.0</td>\n",
       "      <td>1</td>\n",
       "    </tr>\n",
       "    <tr>\n",
       "      <th>3</th>\n",
       "      <td>37.0</td>\n",
       "      <td>1.0</td>\n",
       "      <td>3.0</td>\n",
       "      <td>130.0</td>\n",
       "      <td>250.0</td>\n",
       "      <td>0.0</td>\n",
       "      <td>0.0</td>\n",
       "      <td>187.0</td>\n",
       "      <td>0.0</td>\n",
       "      <td>3.5</td>\n",
       "      <td>3.0</td>\n",
       "      <td>0.0</td>\n",
       "      <td>3.0</td>\n",
       "      <td>0</td>\n",
       "    </tr>\n",
       "    <tr>\n",
       "      <th>4</th>\n",
       "      <td>41.0</td>\n",
       "      <td>0.0</td>\n",
       "      <td>2.0</td>\n",
       "      <td>130.0</td>\n",
       "      <td>204.0</td>\n",
       "      <td>0.0</td>\n",
       "      <td>2.0</td>\n",
       "      <td>172.0</td>\n",
       "      <td>0.0</td>\n",
       "      <td>1.4</td>\n",
       "      <td>1.0</td>\n",
       "      <td>0.0</td>\n",
       "      <td>3.0</td>\n",
       "      <td>0</td>\n",
       "    </tr>\n",
       "  </tbody>\n",
       "</table>\n",
       "</div>"
      ]
     },
     "execution_count": 27,
     "metadata": {},
     "output_type": "execute_result"
    }
   ],
   "execution_count": 27
  },
  {
   "cell_type": "code",
   "metadata": {
    "execution": {
     "iopub.execute_input": "2024-09-29T02:38:31.548455Z",
     "iopub.status.busy": "2024-09-29T02:38:31.547558Z",
     "iopub.status.idle": "2024-09-29T02:38:31.572580Z",
     "shell.execute_reply": "2024-09-29T02:38:31.571165Z",
     "shell.execute_reply.started": "2024-09-29T02:38:31.548393Z"
    },
    "trusted": true,
    "ExecuteTime": {
     "end_time": "2025-03-15T19:56:49.766981Z",
     "start_time": "2025-03-15T19:56:49.761925Z"
    }
   },
   "source": [
    "df_heart_standardized.head()"
   ],
   "outputs": [
    {
     "data": {
      "text/plain": [
       "        age       sex        cp  trestbps      chol       fbs   restecg  \\\n",
       "0  0.934603  0.689930 -2.236854  0.749116 -0.275978  2.426332  1.008496   \n",
       "1  1.376605  0.689930  0.872408  1.593577  0.743301 -0.410757  1.008496   \n",
       "2  1.376605  0.689930  0.872408 -0.658320 -0.352904 -0.410757  1.008496   \n",
       "3 -1.938409  0.689930 -0.164013 -0.095345  0.050961 -0.410757 -1.001728   \n",
       "4 -1.496407 -1.444542 -1.200433 -0.095345 -0.833696 -0.410757  1.008496   \n",
       "\n",
       "    thalach     exang   oldpeak     slope        ca      thal  num  \n",
       "0  0.017465 -0.695246  1.067164  2.260330 -0.720760  0.654772    0  \n",
       "1 -1.813274  1.433497  0.381130  0.642696  2.474249 -0.892713    1  \n",
       "2 -0.897904  1.433497  1.324427  0.642696  1.409246  1.170601    1  \n",
       "3  1.630258 -0.695246  2.096215  2.260330 -0.720760 -0.892713    0  \n",
       "4  0.976423 -0.695246  0.295376 -0.974938 -0.720760 -0.892713    0  "
      ],
      "text/html": [
       "<div>\n",
       "<style scoped>\n",
       "    .dataframe tbody tr th:only-of-type {\n",
       "        vertical-align: middle;\n",
       "    }\n",
       "\n",
       "    .dataframe tbody tr th {\n",
       "        vertical-align: top;\n",
       "    }\n",
       "\n",
       "    .dataframe thead th {\n",
       "        text-align: right;\n",
       "    }\n",
       "</style>\n",
       "<table border=\"1\" class=\"dataframe\">\n",
       "  <thead>\n",
       "    <tr style=\"text-align: right;\">\n",
       "      <th></th>\n",
       "      <th>age</th>\n",
       "      <th>sex</th>\n",
       "      <th>cp</th>\n",
       "      <th>trestbps</th>\n",
       "      <th>chol</th>\n",
       "      <th>fbs</th>\n",
       "      <th>restecg</th>\n",
       "      <th>thalach</th>\n",
       "      <th>exang</th>\n",
       "      <th>oldpeak</th>\n",
       "      <th>slope</th>\n",
       "      <th>ca</th>\n",
       "      <th>thal</th>\n",
       "      <th>num</th>\n",
       "    </tr>\n",
       "  </thead>\n",
       "  <tbody>\n",
       "    <tr>\n",
       "      <th>0</th>\n",
       "      <td>0.934603</td>\n",
       "      <td>0.689930</td>\n",
       "      <td>-2.236854</td>\n",
       "      <td>0.749116</td>\n",
       "      <td>-0.275978</td>\n",
       "      <td>2.426332</td>\n",
       "      <td>1.008496</td>\n",
       "      <td>0.017465</td>\n",
       "      <td>-0.695246</td>\n",
       "      <td>1.067164</td>\n",
       "      <td>2.260330</td>\n",
       "      <td>-0.720760</td>\n",
       "      <td>0.654772</td>\n",
       "      <td>0</td>\n",
       "    </tr>\n",
       "    <tr>\n",
       "      <th>1</th>\n",
       "      <td>1.376605</td>\n",
       "      <td>0.689930</td>\n",
       "      <td>0.872408</td>\n",
       "      <td>1.593577</td>\n",
       "      <td>0.743301</td>\n",
       "      <td>-0.410757</td>\n",
       "      <td>1.008496</td>\n",
       "      <td>-1.813274</td>\n",
       "      <td>1.433497</td>\n",
       "      <td>0.381130</td>\n",
       "      <td>0.642696</td>\n",
       "      <td>2.474249</td>\n",
       "      <td>-0.892713</td>\n",
       "      <td>1</td>\n",
       "    </tr>\n",
       "    <tr>\n",
       "      <th>2</th>\n",
       "      <td>1.376605</td>\n",
       "      <td>0.689930</td>\n",
       "      <td>0.872408</td>\n",
       "      <td>-0.658320</td>\n",
       "      <td>-0.352904</td>\n",
       "      <td>-0.410757</td>\n",
       "      <td>1.008496</td>\n",
       "      <td>-0.897904</td>\n",
       "      <td>1.433497</td>\n",
       "      <td>1.324427</td>\n",
       "      <td>0.642696</td>\n",
       "      <td>1.409246</td>\n",
       "      <td>1.170601</td>\n",
       "      <td>1</td>\n",
       "    </tr>\n",
       "    <tr>\n",
       "      <th>3</th>\n",
       "      <td>-1.938409</td>\n",
       "      <td>0.689930</td>\n",
       "      <td>-0.164013</td>\n",
       "      <td>-0.095345</td>\n",
       "      <td>0.050961</td>\n",
       "      <td>-0.410757</td>\n",
       "      <td>-1.001728</td>\n",
       "      <td>1.630258</td>\n",
       "      <td>-0.695246</td>\n",
       "      <td>2.096215</td>\n",
       "      <td>2.260330</td>\n",
       "      <td>-0.720760</td>\n",
       "      <td>-0.892713</td>\n",
       "      <td>0</td>\n",
       "    </tr>\n",
       "    <tr>\n",
       "      <th>4</th>\n",
       "      <td>-1.496407</td>\n",
       "      <td>-1.444542</td>\n",
       "      <td>-1.200433</td>\n",
       "      <td>-0.095345</td>\n",
       "      <td>-0.833696</td>\n",
       "      <td>-0.410757</td>\n",
       "      <td>1.008496</td>\n",
       "      <td>0.976423</td>\n",
       "      <td>-0.695246</td>\n",
       "      <td>0.295376</td>\n",
       "      <td>-0.974938</td>\n",
       "      <td>-0.720760</td>\n",
       "      <td>-0.892713</td>\n",
       "      <td>0</td>\n",
       "    </tr>\n",
       "  </tbody>\n",
       "</table>\n",
       "</div>"
      ]
     },
     "execution_count": 28,
     "metadata": {},
     "output_type": "execute_result"
    }
   ],
   "execution_count": 28
  },
  {
   "cell_type": "code",
   "metadata": {
    "execution": {
     "iopub.execute_input": "2024-09-29T02:38:31.575473Z",
     "iopub.status.busy": "2024-09-29T02:38:31.574967Z",
     "iopub.status.idle": "2024-09-29T02:38:31.582385Z",
     "shell.execute_reply": "2024-09-29T02:38:31.581216Z",
     "shell.execute_reply.started": "2024-09-29T02:38:31.575413Z"
    },
    "trusted": true,
    "ExecuteTime": {
     "end_time": "2025-03-15T19:56:58.745171Z",
     "start_time": "2025-03-15T19:56:49.825998Z"
    }
   },
   "source": [
    "sim_len = 100\n",
    "label_col = 'num'\n",
    "pos_label = 1\n",
    "neg_label = 0\n",
    "size = .5\n",
    "num_of_rand = 100\n",
    "heart_avg_info_gain_df, heart_avg_info_gain_array, heart_X_test, heart_y_test, heart_X_train, heart_y_train = run_simulation(sim_len, df_heart_standardized, label_col, pos_label, neg_label, size, num_of_rand)"
   ],
   "outputs": [
    {
     "data": {
      "text/plain": [
       "<Figure size 640x480 with 1 Axes>"
      ],
      "image/png": "[encoded data removed]"
     },
     "metadata": {},
     "output_type": "display_data"
    }
   ],
   "execution_count": 29
  },
  {
   "cell_type": "markdown",
   "metadata": {},
   "source": [
    "<p>1st process is getting sqaured difference </p>\n",
    "<p>2nd weights dot squared diff </p>\n",
    "<p>3rd sort resulting list</p>\n",
    "<p>4th return k neighbors </p>\n",
    "<p> 5th classify</p>"
   ]
  },
  {
   "cell_type": "code",
   "metadata": {
    "execution": {
     "iopub.execute_input": "2024-09-29T02:38:31.622058Z",
     "iopub.status.busy": "2024-09-29T02:38:31.621635Z",
     "iopub.status.idle": "2024-09-29T02:38:31.635871Z",
     "shell.execute_reply": "2024-09-29T02:38:31.634532Z",
     "shell.execute_reply.started": "2024-09-29T02:38:31.622002Z"
    },
    "trusted": true,
    "ExecuteTime": {
     "end_time": "2025-03-15T19:56:58.806342Z",
     "start_time": "2025-03-15T19:56:58.802989Z"
    }
   },
   "source": [
    "#a and b are rows here. \n",
    "def Euclid_Distance(a,b,weights,Columns,Class):\n",
    "    c=Columns \n",
    "    D=0\n",
    "    for i in range(len(c)-1):\n",
    "        if c[i]!=Class:\n",
    "            D+=(weights[i]**2)*(float(a[c[i]])-float(b[c[i]]))**2\n",
    "    return D**0.5\n",
    "\n",
    "\n",
    "def Nearest_Neighbors(point,List_Pot_Nbrs,weights,Class_Col_Name):\n",
    "    ClassWithDistance=[]\n",
    "    d=0\n",
    "    for n in range(len(List_Pot_Nbrs)):\n",
    "        d=Euclid_Distance(point,List_Pot_Nbrs.iloc[n],weights,List_Pot_Nbrs.columns,Class_Col_Name)\n",
    "        ClassWithDistance+=[[d,List_Pot_Nbrs.iloc[n][Class_Col_Name]]]\n",
    "    sorted_list = sorted(ClassWithDistance, key=lambda x: x[0])\n",
    "    \n",
    "    return sorted_list\n",
    "\n",
    "def KNN(k,Sorted_List):\n",
    "    Sum=0\n",
    "    for i in range(k):\n",
    "        if Sorted_List[i][1]==1:\n",
    "            Sum+=1\n",
    "    if Sum>k/2:\n",
    "        return 1\n",
    "    else:\n",
    "        return 0\n",
    "    \n",
    "def ConfusionMatrix(TrP,TrN,FaP,FaN):\n",
    "    print(\"         Confusion Matrix\")\n",
    "    print(\"TN,FP: \",TrN, \"    ,    \", FaP)\n",
    "    print(\"FN,TP: \",FaN,\"     ,    \", TrP)\n"
   ],
   "outputs": [],
   "execution_count": 30
  },
  {
   "cell_type": "code",
   "metadata": {
    "ExecuteTime": {
     "end_time": "2025-03-15T19:56:58.898531Z",
     "start_time": "2025-03-15T19:56:58.896831Z"
    }
   },
   "source": [
    "def specificity_score(TN,FP):\n",
    "    \n",
    "    return TN/(TN+FP)"
   ],
   "outputs": [],
   "execution_count": 31
  },
  {
   "cell_type": "code",
   "metadata": {
    "execution": {
     "iopub.execute_input": "2024-09-29T02:38:31.637795Z",
     "iopub.status.busy": "2024-09-29T02:38:31.637085Z",
     "iopub.status.idle": "2024-09-29T03:15:08.233315Z",
     "shell.execute_reply": "2024-09-29T03:15:08.231719Z",
     "shell.execute_reply.started": "2024-09-29T02:38:31.637734Z"
    },
    "trusted": true,
    "ExecuteTime": {
     "end_time": "2025-03-15T20:07:14.156971Z",
     "start_time": "2025-03-15T19:56:58.974844Z"
    }
   },
   "source": [
    "from sklearn.metrics import confusion_matrix\n",
    "\n",
    "avg_acc = []\n",
    "avg_precision = []\n",
    "avg_recall = []\n",
    "avg_f1 = []\n",
    "avg_specificity = []\n",
    "\n",
    "weight_avg_acc = []\n",
    "weight_avg_precision = []\n",
    "weight_avg_recall = []\n",
    "weight_avg_f1 = []\n",
    "weight_avg_specificity = []\n",
    "\n",
    "dropped_weight_avg_acc = []\n",
    "dropped_weight_avg_precision = []\n",
    "dropped_weight_avg_recall = []\n",
    "dropped_weight_avg_f1 = []\n",
    "dropped_weight_avg_specificity = []\n",
    "\n",
    "pca_avg_acc = []\n",
    "pca_avg_precision = []\n",
    "pca_avg_recall = []\n",
    "pca_avg_f1 = []\n",
    "pca_avg_specificity = []\n",
    "\n",
    "pca_explained_variance_acc = []\n",
    "pca_explained_variance_precision = []\n",
    "pca_explained_variance_recall = []\n",
    "pca_explained_variance_f1 = []\n",
    "pca_explained_variance_specificity = []\n",
    "\n",
    "NN_acc = []\n",
    "NN_precision = []\n",
    "NN_recall = []\n",
    "NN_f1 = []\n",
    "NN_specificity = []\n",
    "\n",
    "RFC_acc = []\n",
    "RFC_precision = []\n",
    "RFC_recall = []\n",
    "RFC_f1 = []\n",
    "RFC_specificity = []\n",
    "\n",
    "XGB_acc = []\n",
    "XGB_precision = []\n",
    "XGB_recall = []\n",
    "XGB_f1 = []\n",
    "XGB_specificity = []\n",
    "\n",
    "sim_len = 50\n",
    "label_col = 'num'\n",
    "pos_label = 1\n",
    "neg_label = 0\n",
    "size = .5\n",
    "num_of_rand = 100\n",
    "\n",
    "heart_swagger = []\n",
    "\n",
    "\n",
    "# Loops the length of the simulation\n",
    "\n",
    "for i in range(sim_len):\n",
    "    \n",
    "    heart_avg_info_gain_df, heart_avg_info_gain_array, heart_X_test, heart_y_test, heart_X_train, heart_y_train = run_simulation(sim_len, df_heart_standardized, label_col, pos_label, neg_label, size, num_of_rand)\n",
    "    Train_Data =  pd.concat([heart_X_train, heart_y_train], axis=1)\n",
    "    Test_Data = pd.concat([heart_X_test, heart_y_test], axis=1)\n",
    "    \n",
    "    TP=0\n",
    "    TN=0\n",
    "    FP=0\n",
    "    FN=0\n",
    "    \n",
    "    \n",
    "    # non weighted k-NN for all attributes\n",
    "    for p in range(len(Test_Data)):\n",
    "        point=Test_Data.iloc[p]\n",
    "        NBRS=Nearest_Neighbors(point, Train_Data, [1,1,1,1,1,1,1,1,1,1,1,1,1], \"num\")\n",
    "        Label=KNN(3,NBRS)\n",
    "        if (Label==point[\"num\"] and Label==1):\n",
    "            TP+=1\n",
    "        if (Label==point[\"num\"] and Label==0):\n",
    "            TN+=1\n",
    "        if (Label!=point[\"num\"] and Label==1):\n",
    "            FP+=1\n",
    "        if (Label!=point[\"num\"] and Label==0):\n",
    "            FN+=1\n",
    "    A_non_weighted=(TP+TN)/(TP+TN+FP+FN)\n",
    "    precision_non_weighted = TP/(TP+FP)\n",
    "    recall_non_weighted = TP/(TP+FN)\n",
    "    f1_non_weighted = (2 * precision_non_weighted * recall_non_weighted)/(precision_non_weighted+recall_non_weighted)\n",
    "    specificity_non_weighted = specificity_score(TN,FP)\n",
    "    \n",
    "    \n",
    "#     print(\"Accurecy:\", A)\n",
    "#     ConfusionMatrix(TP,TN,FP,FN)\n",
    "    avg_acc.append(A_non_weighted*100)\n",
    "    avg_precision.append(precision_non_weighted*100)\n",
    "    avg_recall.append(recall_non_weighted*100)\n",
    "    avg_f1.append(f1_non_weighted*100)\n",
    "    avg_specificity.append(specificity_non_weighted*100)\n",
    "\n",
    "    TP=0\n",
    "    TN=0\n",
    "    FP=0\n",
    "    FN=0\n",
    "\n",
    "    # weighted information gain k-NN with all attributes \n",
    "    for p in range(len(Test_Data)):\n",
    "        point=Test_Data.iloc[p]\n",
    "        NBRS=Nearest_Neighbors(point, Train_Data,  heart_avg_info_gain_array, \"num\")\n",
    "        Label=KNN(3,NBRS)\n",
    "        if (Label==point[\"num\"] and Label==1):\n",
    "            TP+=1\n",
    "        if (Label==point[\"num\"] and Label==0):\n",
    "            TN+=1\n",
    "        if (Label!=point[\"num\"] and Label==1):\n",
    "            FP+=1\n",
    "        if (Label!=point[\"num\"] and Label==0):\n",
    "            FN+=1\n",
    "    A_weighted=(TP+TN)/(TP+TN+FP+FN)\n",
    "    precision_weighted = TP/(TP+FP)\n",
    "    recall_weighted = TP/(TP+FN)\n",
    "    f1_weighted = (2 * precision_weighted * recall_weighted)/(precision_weighted+recall_weighted)\n",
    "    specificity_weighted = specificity_score(TN,FP)\n",
    "\n",
    "    weight_avg_acc.append(A_weighted*100)\n",
    "    weight_avg_precision.append(precision_weighted*100)\n",
    "    weight_avg_recall.append(recall_weighted*100)\n",
    "    weight_avg_f1.append(f1_weighted*100)\n",
    "    weight_avg_specificity.append(specificity_weighted*100)\n",
    "    \n",
    "    # dropping some columns as feature selections\n",
    "    alpha = .1\n",
    "    count = 0\n",
    "    heart_swagger = []\n",
    "    heart_indices = []  # Array to store the indices\n",
    "\n",
    "    for idx, ig in enumerate(heart_avg_info_gain_array):\n",
    "        if ((ig / max(heart_avg_info_gain_array)) ** 2 < alpha):\n",
    "            count += 1\n",
    "            heart_indices.append(idx)  # Append the index\n",
    "        else:\n",
    "            heart_swagger.append(ig)\n",
    "\n",
    "    dropped_heart_X_train = heart_X_train.drop(heart_X_train.columns[heart_indices],axis=1)\n",
    "    dropped_heart_X_test = heart_X_test.drop(heart_X_test.columns[heart_indices],axis=1)\n",
    "\n",
    "    Train_Data =  pd.concat([dropped_heart_X_train, heart_y_train], axis=1)\n",
    "    Test_Data = pd.concat([dropped_heart_X_test, heart_y_test], axis=1)\n",
    "\n",
    "    TP=0\n",
    "    TN=0\n",
    "    FP=0\n",
    "    FN=0\n",
    "\n",
    "    # weighted k-NN with dropped columns using information gain with dropped columns\n",
    "    for p in range(len(Test_Data)):\n",
    "        point=Test_Data.iloc[p]\n",
    "        NBRS=Nearest_Neighbors(point, Train_Data, heart_swagger , \"num\")\n",
    "        Label=KNN(3,NBRS)\n",
    "        if (Label==point[\"num\"] and Label==1):\n",
    "            TP+=1\n",
    "        if (Label==point[\"num\"] and Label==0):\n",
    "            TN+=1\n",
    "        if (Label!=point[\"num\"] and Label==1):\n",
    "            FP+=1\n",
    "        if (Label!=point[\"num\"] and Label==0):\n",
    "            FN+=1\n",
    "    A_dropped_weighted=(TP+TN)/(TP+TN+FP+FN)\n",
    "    precision_dropped_weighted = TP/(TP+FP)\n",
    "    recall_dropped_weighted = TP/(TP+FN)\n",
    "    f1_dropped_weighted = (2 * precision_dropped_weighted * recall_dropped_weighted)/(precision_dropped_weighted+recall_dropped_weighted)\n",
    "    specificity_dropped_weighted = specificity_score(TN,FP)\n",
    "\n",
    "    dropped_weight_avg_acc.append(A_dropped_weighted*100)\n",
    "    dropped_weight_avg_precision.append(precision_dropped_weighted*100)\n",
    "    dropped_weight_avg_recall.append(recall_dropped_weighted*100)\n",
    "    dropped_weight_avg_f1.append(f1_dropped_weighted*100)\n",
    "    dropped_weight_avg_specificity.append(specificity_dropped_weighted*100)\n",
    "    \n",
    "    \n",
    "    # PCA components brining all attributes to 7 \n",
    "    pca = PCA(n_components=7)\n",
    "    pc = pca.fit_transform(heart_X_train)\n",
    "    pca2 = PCA(n_components=7)\n",
    "    pc2 = pca.fit_transform(heart_X_test)\n",
    "\n",
    "    df_pca = pd.DataFrame(data=pc, columns=['principal component 1', 'principal component 2', 'principal component 3',\n",
    "                                            'principal component 4', 'principal component 5', 'principal component 6',\n",
    "                                            'principal component 7'])\n",
    "    df_pca2 = pd.DataFrame(data=pc2, columns=['principal component 1', 'principal component 2', 'principal component 3',\n",
    "                                          'principal component 4', 'principal component 5', 'principal component 6',\n",
    "                                          'principal component 7'])\n",
    "\n",
    "    final_train_pca_df = pd.concat([df_pca, heart_y_train[['num']]], axis = 1)\n",
    "    final_test_pca_df = pd.concat([df_pca2, heart_y_train[['num']]], axis = 1)\n",
    "\n",
    "    Train_Data =  final_train_pca_df\n",
    "    Test_Data = final_test_pca_df\n",
    "\n",
    "    TP=0\n",
    "    TN=0\n",
    "    FP=0\n",
    "    FN=0\n",
    "\n",
    "    # PCA k-NN\n",
    "    for p in range(len(Test_Data)):\n",
    "        point=Test_Data.iloc[p]\n",
    "        NBRS=Nearest_Neighbors(point, Train_Data, [1,1,1,1,1,1,1,1,1,1,1,1,1] , \"num\")\n",
    "        Label=KNN(3,NBRS)\n",
    "        if (Label==point[\"num\"] and Label==1):\n",
    "            TP+=1\n",
    "        if (Label==point[\"num\"] and Label==0):\n",
    "            TN+=1\n",
    "        if (Label!=point[\"num\"] and Label==1):\n",
    "            FP+=1\n",
    "        if (Label!=point[\"num\"] and Label==0):\n",
    "            FN+=1\n",
    "    \n",
    "    A_pca=(TP+TN)/(TP+TN+FP+FN)\n",
    "    precision_pca = TP/(TP+FP)\n",
    "    recall_pca = TP/(TP+FN)\n",
    "    f1_pca = (2 * precision_pca * recall_pca)/(precision_pca+recall_pca)\n",
    "    specificity_pca = specificity_score(TN,FP)\n",
    "\n",
    "    pca_avg_acc.append(A_pca*100)\n",
    "    pca_avg_precision.append(precision_pca*100)\n",
    "    pca_avg_recall.append(recall_pca*100)\n",
    "    pca_avg_f1.append(f1_pca*100)\n",
    "    pca_avg_specificity.append(specificity_pca*100)\n",
    "    \n",
    "    \n",
    "    # Explained Variance k-NN \n",
    "    ev_heart_avg_ev_df, ev_heart_avg_ev_array, ev_heart_X_test, ev_heart_y_test, ev_heart_X_train, ev_heart_y_train = mod_run_simulation(sim_len, df_heart_standardized, label_col, pos_label, neg_label, size, num_of_rand)\n",
    "\n",
    "\n",
    "    alpha = .1\n",
    "    count = 0\n",
    "    ev_heart_swagger = []\n",
    "    ev_heart_indices = []  # Array to store the indices\n",
    "\n",
    "    for idx, ev in enumerate(ev_heart_avg_ev_array):\n",
    "        if ev < (alpha ** 1 / 2)*max(ev_heart_avg_ev_array):\n",
    "            count += 1\n",
    "            ev_heart_indices.append(idx)  # Append the index\n",
    "        else:\n",
    "            ev_heart_swagger.append(ev)\n",
    "\n",
    "    ev_dropped_heart_X_train = ev_heart_X_train.drop(ev_heart_X_train.columns[ev_heart_indices],axis=1)\n",
    "    ev_dropped_heart_X_test = ev_heart_X_test.drop(ev_heart_X_test.columns[ev_heart_indices],axis=1)\n",
    "\n",
    "    Train_Data =  pd.concat([ev_dropped_heart_X_train, ev_heart_y_train], axis=1)\n",
    "    Test_Data = pd.concat([ev_dropped_heart_X_test, ev_heart_y_test], axis=1)\n",
    "\n",
    "    TP=0\n",
    "    TN=0\n",
    "    FP=0\n",
    "    FN=0\n",
    "\n",
    "\n",
    "    for p in range(len(Test_Data)):\n",
    "        point=Test_Data.iloc[p]\n",
    "        NBRS=Nearest_Neighbors(point, Train_Data, ev_heart_swagger , \"num\")\n",
    "        Label=KNN(3,NBRS)\n",
    "        if (Label==point[\"num\"] and Label==1):\n",
    "            TP+=1\n",
    "        if (Label==point[\"num\"] and Label==0):\n",
    "            TN+=1\n",
    "        if (Label!=point[\"num\"] and Label==1):\n",
    "            FP+=1\n",
    "        if (Label!=point[\"num\"] and Label==0):\n",
    "            FN+=1\n",
    "    A_pca_ev=(TP+TN)/(TP+TN+FP+FN)\n",
    "    precision_pca_ev = TP/(TP+FP)\n",
    "    recall_pca_ev = TP/(TP+FN)\n",
    "    f1_pca_ev = (2 * precision_pca_ev * recall_pca_ev)/(precision_pca_ev+recall_pca_ev)\n",
    "    specificity_pca_ev = specificity_score(TN,FP)\n",
    "\n",
    "    pca_explained_variance_acc.append(A_pca*100)\n",
    "    pca_explained_variance_precision.append(precision_pca*100)\n",
    "    pca_explained_variance_recall.append(recall_pca*100)\n",
    "    pca_explained_variance_f1.append(f1_pca*100)\n",
    "    pca_explained_variance_specificity.append(specificity_pca*100)\n",
    "    \n",
    "    \n",
    "    # Neural Network Classifier \n",
    "    clf_NN = MLPClassifier(solver='lbfgs', alpha=1e-5,\n",
    "                           hidden_layer_sizes=(5, 2), max_iter=1000, random_state=1)\n",
    "    clf_NN.fit(dropped_heart_X_train, heart_y_train.values.ravel())\n",
    "    \n",
    "    NN_prediction = clf_NN.predict(dropped_heart_X_test)\n",
    "\n",
    "    TN, FP, FN, TP = confusion_matrix(heart_y_test, NN_prediction, labels=[0, 1]).ravel()\n",
    "    \n",
    "    NN_acc.append(accuracy_score(heart_y_test, NN_prediction) * 100)\n",
    "    NN_precision.append(precision_score(heart_y_test, NN_prediction) * 100)\n",
    "    NN_recall.append(recall_score(heart_y_test, NN_prediction) * 100)\n",
    "    NN_f1.append(f1_score(heart_y_test, NN_prediction) * 100)\n",
    "    NN_specificity.append(specificity_score(TN, FP) * 100)\n",
    "    \n",
    "\n",
    "    # Random Forest Classifier \n",
    "    clf_RFC = RandomForestClassifier(max_depth=2, random_state=0)\n",
    "    clf_RFC.fit(dropped_heart_X_train, heart_y_train.values.ravel())\n",
    "\n",
    "    RFC_prediction = clf_NN.predict(dropped_heart_X_test)\n",
    "\n",
    "    TN, FP, FN, TP = confusion_matrix(heart_y_test, RFC_prediction, labels=[0, 1]).ravel()\n",
    "    \n",
    "    RFC_acc.append(accuracy_score(heart_y_test, RFC_prediction) * 100)\n",
    "    RFC_precision.append(precision_score(heart_y_test, RFC_prediction) * 100)\n",
    "    RFC_recall.append(recall_score(heart_y_test, RFC_prediction) * 100)\n",
    "    RFC_f1.append(f1_score(heart_y_test, RFC_prediction) * 100)\n",
    "    RFC_specificity.append(specificity_score(TN, FP) * 100)\n",
    "    \n",
    "    # XG Boost Classifier \n",
    "    clf_XGB = XGBClassifier(n_estimators=2, max_depth=2, learning_rate=1, objective='binary:logistic')\n",
    "\n",
    "    clf_XGB.fit(dropped_heart_X_train, heart_y_train.values.ravel())\n",
    "    \n",
    "    XGB_prediction = clf_XGB.predict(dropped_heart_X_test)\n",
    "\n",
    "    TN, FP, FN, TP = confusion_matrix(heart_y_test, XGB_prediction, labels=[0, 1]).ravel()\n",
    "    \n",
    "    XGB_acc.append(accuracy_score(heart_y_test, XGB_prediction) * 100)\n",
    "    XGB_precision.append(precision_score(heart_y_test, XGB_prediction) * 100)\n",
    "    XGB_recall.append(recall_score(heart_y_test, XGB_prediction) * 100)\n",
    "    XGB_f1.append(f1_score(heart_y_test, XGB_prediction) * 100)\n",
    "    XGB_specificity.append(specificity_score(TN, FP) * 100)"
   ],
   "outputs": [
    {
     "name": "stderr",
     "output_type": "stream",
     "text": [
      "/Library/Frameworks/Python.framework/Versions/3.11/lib/python3.11/site-packages/sklearn/neural_network/_multilayer_perceptron.py:545: ConvergenceWarning: lbfgs failed to converge (status=2):\n",
      "ABNORMAL_TERMINATION_IN_LNSRCH.\n",
      "\n",
      "Increase the number of iterations (max_iter) or scale the data as shown in:\n",
      "    https://scikit-learn.org/stable/modules/preprocessing.html\n",
      "  self.n_iter_ = _check_optimize_result(\"lbfgs\", opt_res, self.max_iter)\n"
     ]
    },
    {
     "data": {
      "text/plain": [
       "<Figure size 640x480 with 1 Axes>"
      ],
      "image/png": "[encoded data removed]"
     },
     "metadata": {},
     "output_type": "display_data"
    }
   ],
   "execution_count": 32
  },
  {
   "cell_type": "markdown",
   "metadata": {},
   "source": [
    "<h1 style=\"text-align:center;\">Accuracy</h1>\n"
   ]
  },
  {
   "cell_type": "code",
   "metadata": {
    "ExecuteTime": {
     "end_time": "2025-03-15T20:07:14.299258Z",
     "start_time": "2025-03-15T20:07:14.200178Z"
    }
   },
   "source": [
    "fig = plt.figure(figsize =(10, 7))\n",
    "plt.title(\"Accuracy\",fontsize=14, fontweight='bold')\n",
    "\n",
    "data = [dropped_weight_avg_acc, NN_acc, RFC_acc, XGB_acc]\n",
    "\n",
    "x_axis = ['Dropped Cols Weighted k-NN', 'Neural Network', 'Random Forest Classification', 'XGBoost Classification']\n",
    "\n",
    "# Creating plot\n",
    "plt.boxplot(data, tick_labels=x_axis)\n",
    "\n",
    "plt.savefig('Accuracy.svg')\n",
    "\n",
    "# show plot\n",
    "plt.show()"
   ],
   "outputs": [
    {
     "data": {
      "text/plain": [
       "<Figure size 1000x700 with 1 Axes>"
      ],
      "image/png": "[encoded data removed]"
     },
     "metadata": {},
     "output_type": "display_data"
    }
   ],
   "execution_count": 33
  },
  {
   "cell_type": "markdown",
   "metadata": {},
   "source": [
    "<h1 style=\"text-align:center;\">Specificity</h1>\n"
   ]
  },
  {
   "cell_type": "code",
   "metadata": {
    "ExecuteTime": {
     "end_time": "2025-03-15T20:07:14.430529Z",
     "start_time": "2025-03-15T20:07:14.346314Z"
    }
   },
   "source": [
    "fig = plt.figure(figsize =(10, 7))\n",
    "plt.title(\"Specificity\",fontsize=14, fontweight='bold')\n",
    "\n",
    "\n",
    "data = [dropped_weight_avg_specificity, NN_specificity, RFC_specificity , XGB_specificity]\n",
    "\n",
    "x_axis = ['Dropped Cols Weighted k-NN', 'Neural Network', 'Random Forest Classification', 'XGBoost Classification']\n",
    "\n",
    "# Creating plot\n",
    "plt.boxplot(data, tick_labels=x_axis)\n",
    "plt.savefig('Specificity.svg')\n",
    "# show plot\n",
    "plt.show()"
   ],
   "outputs": [
    {
     "data": {
      "text/plain": [
       "<Figure size 1000x700 with 1 Axes>"
      ],
      "image/png": "[encoded data removed]"
     },
     "metadata": {},
     "output_type": "display_data"
    }
   ],
   "execution_count": 34
  },
  {
   "cell_type": "markdown",
   "metadata": {},
   "source": [
    "<h1 style=\"text-align:center;\">F1</h1>\n"
   ]
  },
  {
   "cell_type": "code",
   "metadata": {
    "ExecuteTime": {
     "end_time": "2025-03-15T20:07:14.559097Z",
     "start_time": "2025-03-15T20:07:14.476016Z"
    }
   },
   "source": [
    "fig = plt.figure(figsize =(10, 7))\n",
    "plt.title(\"F1\",fontsize=14, fontweight='bold')\n",
    "\n",
    "\n",
    "data = [dropped_weight_avg_f1, NN_f1, RFC_f1 , XGB_f1]\n",
    "\n",
    "x_axis = ['Dropped Cols Weighted k-NN', 'Neural Network', 'Random Forest Classification', 'XGBoost Classification']\n",
    "\n",
    "# Creating plot\n",
    "plt.boxplot(data, tick_labels=x_axis)\n",
    "plt.savefig('F1.svg')\n",
    "# show plot\n",
    "plt.show()"
   ],
   "outputs": [
    {
     "data": {
      "text/plain": [
       "<Figure size 1000x700 with 1 Axes>"
      ],
      "image/png": "[encoded data removed]"
     },
     "metadata": {},
     "output_type": "display_data"
    }
   ],
   "execution_count": 35
  },
  {
   "cell_type": "markdown",
   "metadata": {},
   "source": [
    "<h1 style=\"text-align:center;\">Recall</h1>"
   ]
  },
  {
   "cell_type": "code",
   "metadata": {
    "ExecuteTime": {
     "end_time": "2025-03-15T20:07:14.680825Z",
     "start_time": "2025-03-15T20:07:14.602209Z"
    }
   },
   "source": [
    "fig = plt.figure(figsize =(10, 7))\n",
    "plt.title(\"Recall\",fontsize=14, fontweight='bold')\n",
    "\n",
    "\n",
    "data = [dropped_weight_avg_recall, NN_recall, RFC_recall , XGB_recall]\n",
    "\n",
    "x_axis = ['Dropped Cols Weighted k-NN', 'Neural Network', 'Random Forest Classification', 'XGBoost Classification']\n",
    "\n",
    "# Creating plot\n",
    "plt.boxplot(data, tick_labels=x_axis)\n",
    "plt.savefig('Recall.svg')\n",
    "# show plot\n",
    "plt.show()"
   ],
   "outputs": [
    {
     "data": {
      "text/plain": [
       "<Figure size 1000x700 with 1 Axes>"
      ],
      "image/png": "[encoded data removed]"
     },
     "metadata": {},
     "output_type": "display_data"
    }
   ],
   "execution_count": 36
  },
  {
   "cell_type": "markdown",
   "metadata": {},
   "source": [
    "<h1 style=text-align:center;>Precision</h1>"
   ]
  },
  {
   "cell_type": "code",
   "metadata": {
    "ExecuteTime": {
     "end_time": "2025-03-15T20:07:14.801617Z",
     "start_time": "2025-03-15T20:07:14.726746Z"
    }
   },
   "source": [
    "fig = plt.figure(figsize =(10, 7))\n",
    "plt.title(\"Precision\",fontsize=14, fontweight='bold')\n",
    "\n",
    "\n",
    "data = [dropped_weight_avg_precision,XGB_precision, XGB_precision , XGB_precision]\n",
    "\n",
    "x_axis = ['Dropped Cols Weighted k-NN', 'Neural Network', 'Random Forest Classification', 'XGBoost Classification']\n",
    "\n",
    "# Creating plot\n",
    "plt.boxplot(data, tick_labels=x_axis)\n",
    "plt.savefig('Precision.svg')\n",
    "# show plot\n",
    "plt.show()"
   ],
   "outputs": [
    {
     "data": {
      "text/plain": [
       "<Figure size 1000x700 with 1 Axes>"
      ],
      "image/png": "[encoded data removed]"
     },
     "metadata": {},
     "output_type": "display_data"
    }
   ],
   "execution_count": 37
  },
  {
   "cell_type": "code",
   "metadata": {
    "ExecuteTime": {
     "end_time": "2025-03-15T20:07:14.845979Z",
     "start_time": "2025-03-15T20:07:14.844301Z"
    }
   },
   "source": [
    "# fig = plt.figure(figsize =(10, 7))\n",
    "# plt.title(\"Accuracy\",fontsize=14, fontweight='bold')\n",
    "# \n",
    "# data = [dropped_weight_acc, NN_acc, RFC_acc, XGB_acc]\n",
    "# \n",
    "# x_axis = ['Dropped Cols Weighted k-NN', 'Neural Network', 'Random Forest Classification', 'XGBoost Classification']\n",
    "# \n",
    "# # Creating plot\n",
    "# plt.boxplot(data, tick_labels=x_axis)\n",
    "# \n",
    "# # plt.savefig('Accuracy.svg')\n",
    "# \n",
    "# # show plot\n",
    "# plt.show()"
   ],
   "outputs": [],
   "execution_count": 38
  },
  {
   "cell_type": "code",
   "metadata": {
    "ExecuteTime": {
     "end_time": "2025-03-15T20:07:14.896536Z",
     "start_time": "2025-03-15T20:07:14.889356Z"
    }
   },
   "source": [
    "import statistics\n",
    "statistics.mean(avg_acc)"
   ],
   "outputs": [
    {
     "data": {
      "text/plain": [
       "78.1876421392773"
      ]
     },
     "execution_count": 39,
     "metadata": {},
     "output_type": "execute_result"
    }
   ],
   "execution_count": 39
  },
  {
   "cell_type": "code",
   "metadata": {
    "ExecuteTime": {
     "end_time": "2025-03-15T20:07:14.943949Z",
     "start_time": "2025-03-15T20:07:14.940944Z"
    }
   },
   "source": [
    "statistics.mean(NN_acc)"
   ],
   "outputs": [
    {
     "data": {
      "text/plain": [
       "75.55673327379169"
      ]
     },
     "execution_count": 40,
     "metadata": {},
     "output_type": "execute_result"
    }
   ],
   "execution_count": 40
  },
  {
   "cell_type": "markdown",
   "metadata": {},
   "source": [
    "<h1 style=\"text-align:center;\">These are the Boxplots Including Regular PCA</h1>\n"
   ]
  },
  {
   "cell_type": "code",
   "metadata": {
    "ExecuteTime": {
     "end_time": "2025-03-15T20:07:15.070991Z",
     "start_time": "2025-03-15T20:07:14.987313Z"
    }
   },
   "source": [
    "fig = plt.figure(figsize =(10, 7))\n",
    "plt.title(\"Accuracy\",fontsize=14, fontweight='bold')\n",
    "\n",
    "\n",
    "data = [avg_acc,weight_avg_acc ,dropped_weight_avg_acc, pca_avg_acc, pca_explained_variance_acc]\n",
    "\n",
    "x_axis = ['Unweighted k-NN', 'Weights k-NN', 'Dropped Cols Weighted k-NN', 'PCA', 'PCA Explained Variance']\n",
    "\n",
    "# Creating plot\n",
    "plt.boxplot(data, tick_labels=x_axis)\n",
    "\n",
    "plt.savefig('Accuracy.svg')\n",
    "\n",
    "# show plot\n",
    "plt.show()"
   ],
   "outputs": [
    {
     "data": {
      "text/plain": [
       "<Figure size 1000x700 with 1 Axes>"
      ],
      "image/png": "[encoded data removed]"
     },
     "metadata": {},
     "output_type": "display_data"
    }
   ],
   "execution_count": 41
  },
  {
   "cell_type": "code",
   "metadata": {
    "ExecuteTime": {
     "end_time": "2025-03-15T20:07:15.200656Z",
     "start_time": "2025-03-15T20:07:15.115386Z"
    }
   },
   "source": [
    "fig = plt.figure(figsize =(10, 7))\n",
    "plt.title(\"Specificity\",fontsize=14, fontweight='bold')\n",
    "\n",
    "\n",
    "data = [avg_specificity, weight_avg_specificity, dropped_weight_avg_specificity, pca_avg_specificity, pca_explained_variance_specificity]\n",
    "\n",
    "x_axis = ['Unweighted k-NN', 'Weights k-NN', 'Dropped Cols Weighted k-NN', 'PCA', 'PCA Explained Variance']\n",
    "\n",
    "# Creating plot\n",
    "plt.boxplot(data, tick_labels=x_axis)\n",
    "plt.savefig('Specificity.svg')\n",
    "# show plot\n",
    "plt.show()"
   ],
   "outputs": [
    {
     "data": {
      "text/plain": [
       "<Figure size 1000x700 with 1 Axes>"
      ],
      "image/png": "[encoded data removed]"
     },
     "metadata": {},
     "output_type": "display_data"
    }
   ],
   "execution_count": 42
  },
  {
   "cell_type": "code",
   "metadata": {
    "ExecuteTime": {
     "end_time": "2025-03-15T20:07:15.323714Z",
     "start_time": "2025-03-15T20:07:15.244354Z"
    }
   },
   "source": [
    "fig = plt.figure(figsize =(10, 7))\n",
    "plt.title(\"F1\",fontsize=14, fontweight='bold')\n",
    "\n",
    "\n",
    "data = [avg_f1, weight_avg_f1, dropped_weight_avg_f1, pca_avg_f1, pca_explained_variance_f1]\n",
    "\n",
    "x_axis = ['Unweighted k-NN', 'Weights k-NN', 'Dropped Cols Weighted k-NN', 'PCA', 'PCA Explained Variance']\n",
    "\n",
    "# Creating plot\n",
    "plt.boxplot(data, tick_labels=x_axis)\n",
    "\n",
    "plt.savefig('F1.svg')\n",
    "\n",
    "# show plot\n",
    "plt.show()"
   ],
   "outputs": [
    {
     "data": {
      "text/plain": [
       "<Figure size 1000x700 with 1 Axes>"
      ],
      "image/png": "[encoded data removed]"
     },
     "metadata": {},
     "output_type": "display_data"
    }
   ],
   "execution_count": 43
  },
  {
   "cell_type": "code",
   "metadata": {
    "ExecuteTime": {
     "end_time": "2025-03-15T20:07:15.452413Z",
     "start_time": "2025-03-15T20:07:15.370143Z"
    }
   },
   "source": [
    "fig = plt.figure(figsize =(10, 7))\n",
    "plt.title(\"Recall\",fontsize=14, fontweight='bold')\n",
    "\n",
    "\n",
    "data = [avg_recall,weight_avg_recall, dropped_weight_avg_recall, pca_avg_recall, pca_explained_variance_recall]\n",
    "\n",
    "x_axis = ['Unweighted k-NN', 'Weights k-NN', 'Dropped Cols Weighted k-NN', 'PCA', 'PCA Explained Variance']\n",
    "\n",
    "# Creating plot\n",
    "plt.boxplot(data, tick_labels=x_axis)\n",
    "\n",
    "plt.savefig('Recall.svg')\n",
    "\n",
    "# show plot\n",
    "plt.show()"
   ],
   "outputs": [
    {
     "data": {
      "text/plain": [
       "<Figure size 1000x700 with 1 Axes>"
      ],
      "image/png": "[encoded data removed]"
     },
     "metadata": {},
     "output_type": "display_data"
    }
   ],
   "execution_count": 44
  },
  {
   "cell_type": "code",
   "metadata": {
    "ExecuteTime": {
     "end_time": "2025-03-15T20:07:15.580455Z",
     "start_time": "2025-03-15T20:07:15.497441Z"
    }
   },
   "source": [
    "fig = plt.figure(figsize =(10, 7))\n",
    "plt.title(\"Precision\",fontsize=14, fontweight='bold')\n",
    "\n",
    "\n",
    "data = [avg_precision, weight_avg_precision, dropped_weight_avg_precision, pca_avg_precision, pca_explained_variance_precision]\n",
    "\n",
    "x_axis = ['Unweighted k-NN', 'Weights k-NN', 'Dropped Cols Weighted k-NN', 'PCA', 'PCA Explained Variance']\n",
    "\n",
    "# Creating plot\n",
    "plt.boxplot(data, tick_labels=x_axis)\n",
    "\n",
    "plt.savefig('Precision.svg')\n",
    "\n",
    "# show plot\n",
    "plt.show()"
   ],
   "outputs": [
    {
     "data": {
      "text/plain": [
       "<Figure size 1000x700 with 1 Axes>"
      ],
      "image/png": "[encoded data removed]"
     },
     "metadata": {},
     "output_type": "display_data"
    }
   ],
   "execution_count": 45
  },
  {
   "cell_type": "markdown",
   "metadata": {},
   "source": [
    "<h1 style=\"text-align:center;\">These are the Boxplots Without Regular PCA</h1>"
   ]
  },
  {
   "cell_type": "code",
   "metadata": {
    "execution": {
     "iopub.execute_input": "2024-09-29T04:26:33.664317Z",
     "iopub.status.busy": "2024-09-29T04:26:33.663610Z",
     "iopub.status.idle": "2024-09-29T04:26:33.946346Z",
     "shell.execute_reply": "2024-09-29T04:26:33.945143Z",
     "shell.execute_reply.started": "2024-09-29T04:26:33.664265Z"
    },
    "trusted": true,
    "ExecuteTime": {
     "end_time": "2025-03-15T20:07:15.683714Z",
     "start_time": "2025-03-15T20:07:15.624156Z"
    }
   },
   "source": [
    "fig = plt.figure(figsize =(10, 7))\n",
    "plt.title(\"Accuracy\",fontsize=14, fontweight='bold')\n",
    "\n",
    "\n",
    "data = [avg_acc,weight_avg_acc ,dropped_weight_avg_acc,pca_explained_variance_acc]\n",
    "\n",
    "x_axis = ['Unweighted k-NN', 'Weights k-NN', 'Dropped Cols Weighted k-NN','PCA Explained Variance']\n",
    "\n",
    "# Creating plot\n",
    "plt.boxplot(data, tick_labels=x_axis)\n",
    "\n",
    "# show plot\n",
    "plt.show()"
   ],
   "outputs": [
    {
     "data": {
      "text/plain": [
       "<Figure size 1000x700 with 1 Axes>"
      ],
      "image/png": "[encoded data removed]"
     },
     "metadata": {},
     "output_type": "display_data"
    }
   ],
   "execution_count": 46
  },
  {
   "cell_type": "code",
   "metadata": {
    "ExecuteTime": {
     "end_time": "2025-03-15T20:07:15.791413Z",
     "start_time": "2025-03-15T20:07:15.729635Z"
    }
   },
   "source": [
    "fig = plt.figure(figsize =(10, 7))\n",
    "plt.title(\"Precision\",fontsize=14, fontweight='bold')\n",
    "\n",
    "\n",
    "data = [avg_precision,weight_avg_precision ,dropped_weight_avg_precision,pca_explained_variance_precision]\n",
    "\n",
    "x_axis = ['Unweighted k-NN', 'Weights k-NN', 'Dropped Cols Weighted k-NN','PCA Explained Variance']\n",
    "\n",
    "# Creating plot\n",
    "plt.boxplot(data, tick_labels=x_axis)\n",
    "\n",
    "# show plot\n",
    "plt.show()"
   ],
   "outputs": [
    {
     "data": {
      "text/plain": [
       "<Figure size 1000x700 with 1 Axes>"
      ],
      "image/png": "[encoded data removed]"
     },
     "metadata": {},
     "output_type": "display_data"
    }
   ],
   "execution_count": 47
  },
  {
   "cell_type": "code",
   "metadata": {
    "ExecuteTime": {
     "end_time": "2025-03-15T20:07:15.897176Z",
     "start_time": "2025-03-15T20:07:15.835429Z"
    }
   },
   "source": [
    "fig = plt.figure(figsize =(10, 7))\n",
    "plt.title(\"Recall\",fontsize=14, fontweight='bold')\n",
    "\n",
    "\n",
    "data = [avg_recall,weight_avg_recall ,dropped_weight_avg_recall,pca_explained_variance_recall]\n",
    "\n",
    "x_axis = ['Unweighted k-NN', 'Weights k-NN', 'Dropped Cols Weighted k-NN','PCA Explained Variance']\n",
    "\n",
    "# Creating plot\n",
    "plt.boxplot(data, tick_labels=x_axis)\n",
    "\n",
    "# show plot\n",
    "plt.show()"
   ],
   "outputs": [
    {
     "data": {
      "text/plain": [
       "<Figure size 1000x700 with 1 Axes>"
      ],
      "image/png": "[encoded data removed]"
     },
     "metadata": {},
     "output_type": "display_data"
    }
   ],
   "execution_count": 48
  },
  {
   "cell_type": "code",
   "metadata": {
    "ExecuteTime": {
     "end_time": "2025-03-15T20:07:16.000727Z",
     "start_time": "2025-03-15T20:07:15.941413Z"
    }
   },
   "source": [
    "fig = plt.figure(figsize =(10, 7))\n",
    "plt.title(\"F1\",fontsize=14, fontweight='bold')\n",
    "\n",
    "\n",
    "data = [avg_f1,weight_avg_f1 ,dropped_weight_avg_f1,pca_explained_variance_f1]\n",
    "\n",
    "x_axis = ['Unweighted k-NN', 'Weights k-NN', 'Dropped Cols Weighted k-NN','PCA Explained Variance']\n",
    "\n",
    "# Creating plot\n",
    "plt.boxplot(data, tick_labels=x_axis)\n",
    "\n",
    "# show plot\n",
    "plt.show()"
   ],
   "outputs": [
    {
     "data": {
      "text/plain": [
       "<Figure size 1000x700 with 1 Axes>"
      ],
      "image/png": "[encoded data removed]"
     },
     "metadata": {},
     "output_type": "display_data"
    }
   ],
   "execution_count": 49
  },
  {
   "cell_type": "code",
   "metadata": {
    "ExecuteTime": {
     "end_time": "2025-03-15T20:07:16.176003Z",
     "start_time": "2025-03-15T20:07:16.045778Z"
    }
   },
   "source": [
    "fig = plt.figure(figsize =(10, 7))\n",
    "plt.title(\"Specificity\",fontsize=14, fontweight='bold')\n",
    "\n",
    "\n",
    "data = [avg_specificity,weight_avg_specificity ,dropped_weight_avg_specificity,pca_explained_variance_specificity]\n",
    "\n",
    "x_axis = ['Unweighted k-NN', 'Weights k-NN', 'Dropped Cols Weighted k-NN','PCA Explained Variance']\n",
    "\n",
    "# Creating plot\n",
    "plt.boxplot(data, tick_labels=x_axis)\n",
    "\n",
    "# show plot\n",
    "plt.show()"
   ],
   "outputs": [
    {
     "data": {
      "text/plain": [
       "<Figure size 1000x700 with 1 Axes>"
      ],
      "image/png": "[encoded data removed]"
     },
     "metadata": {},
     "output_type": "display_data"
    }
   ],
   "execution_count": 50
  },
  {
   "cell_type": "code",
   "metadata": {
    "ExecuteTime": {
     "end_time": "2025-03-15T20:07:16.223792Z",
     "start_time": "2025-03-15T20:07:16.221359Z"
    }
   },
   "source": [
    "min(data[0])"
   ],
   "outputs": [
    {
     "data": {
      "text/plain": [
       "71.15384615384616"
      ]
     },
     "execution_count": 51,
     "metadata": {},
     "output_type": "execute_result"
    }
   ],
   "execution_count": 51
  },
  {
   "cell_type": "code",
   "metadata": {
    "ExecuteTime": {
     "end_time": "2025-03-15T20:07:16.270764Z",
     "start_time": "2025-03-15T20:07:16.268081Z"
    }
   },
   "source": [
    "min(data[1])"
   ],
   "outputs": [
    {
     "data": {
      "text/plain": [
       "70.47619047619048"
      ]
     },
     "execution_count": 52,
     "metadata": {},
     "output_type": "execute_result"
    }
   ],
   "execution_count": 52
  },
  {
   "cell_type": "code",
   "metadata": {
    "ExecuteTime": {
     "end_time": "2025-03-15T20:07:16.316372Z",
     "start_time": "2025-03-15T20:07:16.314267Z"
    }
   },
   "source": [
    "min(data[2])"
   ],
   "outputs": [
    {
     "data": {
      "text/plain": [
       "66.99029126213593"
      ]
     },
     "execution_count": 53,
     "metadata": {},
     "output_type": "execute_result"
    }
   ],
   "execution_count": 53
  },
  {
   "cell_type": "code",
   "metadata": {
    "ExecuteTime": {
     "end_time": "2025-03-15T20:07:16.363854Z",
     "start_time": "2025-03-15T20:07:16.361227Z"
    }
   },
   "source": [
    "min(data[3])"
   ],
   "outputs": [
    {
     "data": {
      "text/plain": [
       "15.0"
      ]
     },
     "execution_count": 54,
     "metadata": {},
     "output_type": "execute_result"
    }
   ],
   "execution_count": 54
  },
  {
   "cell_type": "code",
   "metadata": {
    "ExecuteTime": {
     "end_time": "2025-03-15T20:07:16.412116Z",
     "start_time": "2025-03-15T20:07:16.409338Z"
    }
   },
   "source": [
    "max(data[0])"
   ],
   "outputs": [
    {
     "data": {
      "text/plain": [
       "87.37864077669903"
      ]
     },
     "execution_count": 55,
     "metadata": {},
     "output_type": "execute_result"
    }
   ],
   "execution_count": 55
  },
  {
   "cell_type": "markdown",
   "metadata": {},
   "source": []
  },
  {
   "cell_type": "code",
   "metadata": {
    "ExecuteTime": {
     "end_time": "2025-03-15T20:07:16.460775Z",
     "start_time": "2025-03-15T20:07:16.455771Z"
    }
   },
   "source": [
    "max(data[1])"
   ],
   "outputs": [
    {
     "data": {
      "text/plain": [
       "91.0"
      ]
     },
     "execution_count": 56,
     "metadata": {},
     "output_type": "execute_result"
    }
   ],
   "execution_count": 56
  },
  {
   "cell_type": "code",
   "metadata": {
    "ExecuteTime": {
     "end_time": "2025-03-15T20:07:16.508984Z",
     "start_time": "2025-03-15T20:07:16.506487Z"
    }
   },
   "source": [
    "max(data[2])"
   ],
   "outputs": [
    {
     "data": {
      "text/plain": [
       "91.0"
      ]
     },
     "execution_count": 57,
     "metadata": {},
     "output_type": "execute_result"
    }
   ],
   "execution_count": 57
  },
  {
   "cell_type": "code",
   "metadata": {
    "ExecuteTime": {
     "end_time": "2025-03-15T20:07:16.554709Z",
     "start_time": "2025-03-15T20:07:16.552239Z"
    }
   },
   "source": [
    "max(data[3])"
   ],
   "outputs": [
    {
     "data": {
      "text/plain": [
       "65.0"
      ]
     },
     "execution_count": 58,
     "metadata": {},
     "output_type": "execute_result"
    }
   ],
   "execution_count": 58
  },
  {
   "cell_type": "code",
   "metadata": {
    "ExecuteTime": {
     "end_time": "2025-03-15T20:07:16.603189Z",
     "start_time": "2025-03-15T20:07:16.599757Z"
    }
   },
   "source": [
    "pca = PCA(n_components=len(dropped_heart_X_train.columns))\n",
    "pc = pca.fit_transform(dropped_heart_X_train)\n",
    "pca2 = PCA(n_components=len(dropped_heart_X_test.columns))\n",
    "pc2 = pca.fit_transform(dropped_heart_X_test)"
   ],
   "outputs": [],
   "execution_count": 59
  },
  {
   "cell_type": "code",
   "metadata": {
    "ExecuteTime": {
     "end_time": "2025-03-15T20:07:16.649044Z",
     "start_time": "2025-03-15T20:07:16.646770Z"
    }
   },
   "source": [
    "pc"
   ],
   "outputs": [
    {
     "data": {
      "text/plain": [
       "array([[ 0.80519226, -0.84496942, -0.35062656, ..., -0.43843669,\n",
       "        -0.59492175,  0.74436588],\n",
       "       [ 2.54870776, -0.43600224, -0.86085181, ..., -0.38488709,\n",
       "         0.24665277, -0.4256297 ],\n",
       "       [ 3.99232414,  0.75791174, -0.23373317, ..., -0.52542271,\n",
       "         0.261118  ,  0.46505375],\n",
       "       ...,\n",
       "       [-2.01021688, -0.30969713,  0.07247949, ...,  0.23568303,\n",
       "        -0.09006975, -0.12131109],\n",
       "       [-2.63058605,  0.40239244,  0.02822097, ..., -0.46426562,\n",
       "         0.2401266 ,  0.28431836],\n",
       "       [-1.45107278, -0.0479818 ,  0.09582598, ...,  0.7257422 ,\n",
       "         1.10184005, -0.18579676]])"
      ]
     },
     "execution_count": 60,
     "metadata": {},
     "output_type": "execute_result"
    }
   ],
   "execution_count": 60
  },
  {
   "cell_type": "code",
   "metadata": {
    "ExecuteTime": {
     "end_time": "2025-03-15T20:07:16.713686Z",
     "start_time": "2025-03-15T20:07:16.709778Z"
    }
   },
   "source": [
    "dropped_heart_X_train.head()"
   ],
   "outputs": [
    {
     "data": {
      "text/plain": [
       "         cp   thalach     exang   oldpeak     slope        ca      thal\n",
       "0  0.872408 -0.244069  1.433497  0.123867  0.642696  0.344243 -0.892713\n",
       "1  0.872408 -1.028671  1.433497  1.495935  0.642696  0.344243  1.170601\n",
       "2  0.872408 -0.723548  1.433497  2.524987  2.260330  1.409246  1.170601\n",
       "3 -0.164013  0.017465 -0.695246 -0.562167  0.642696  0.344243  1.170601\n",
       "4  0.872408 -0.767137  1.433497  0.123867  0.642696  0.344243  1.170601"
      ],
      "text/html": [
       "<div>\n",
       "<style scoped>\n",
       "    .dataframe tbody tr th:only-of-type {\n",
       "        vertical-align: middle;\n",
       "    }\n",
       "\n",
       "    .dataframe tbody tr th {\n",
       "        vertical-align: top;\n",
       "    }\n",
       "\n",
       "    .dataframe thead th {\n",
       "        text-align: right;\n",
       "    }\n",
       "</style>\n",
       "<table border=\"1\" class=\"dataframe\">\n",
       "  <thead>\n",
       "    <tr style=\"text-align: right;\">\n",
       "      <th></th>\n",
       "      <th>cp</th>\n",
       "      <th>thalach</th>\n",
       "      <th>exang</th>\n",
       "      <th>oldpeak</th>\n",
       "      <th>slope</th>\n",
       "      <th>ca</th>\n",
       "      <th>thal</th>\n",
       "    </tr>\n",
       "  </thead>\n",
       "  <tbody>\n",
       "    <tr>\n",
       "      <th>0</th>\n",
       "      <td>0.872408</td>\n",
       "      <td>-0.244069</td>\n",
       "      <td>1.433497</td>\n",
       "      <td>0.123867</td>\n",
       "      <td>0.642696</td>\n",
       "      <td>0.344243</td>\n",
       "      <td>-0.892713</td>\n",
       "    </tr>\n",
       "    <tr>\n",
       "      <th>1</th>\n",
       "      <td>0.872408</td>\n",
       "      <td>-1.028671</td>\n",
       "      <td>1.433497</td>\n",
       "      <td>1.495935</td>\n",
       "      <td>0.642696</td>\n",
       "      <td>0.344243</td>\n",
       "      <td>1.170601</td>\n",
       "    </tr>\n",
       "    <tr>\n",
       "      <th>2</th>\n",
       "      <td>0.872408</td>\n",
       "      <td>-0.723548</td>\n",
       "      <td>1.433497</td>\n",
       "      <td>2.524987</td>\n",
       "      <td>2.260330</td>\n",
       "      <td>1.409246</td>\n",
       "      <td>1.170601</td>\n",
       "    </tr>\n",
       "    <tr>\n",
       "      <th>3</th>\n",
       "      <td>-0.164013</td>\n",
       "      <td>0.017465</td>\n",
       "      <td>-0.695246</td>\n",
       "      <td>-0.562167</td>\n",
       "      <td>0.642696</td>\n",
       "      <td>0.344243</td>\n",
       "      <td>1.170601</td>\n",
       "    </tr>\n",
       "    <tr>\n",
       "      <th>4</th>\n",
       "      <td>0.872408</td>\n",
       "      <td>-0.767137</td>\n",
       "      <td>1.433497</td>\n",
       "      <td>0.123867</td>\n",
       "      <td>0.642696</td>\n",
       "      <td>0.344243</td>\n",
       "      <td>1.170601</td>\n",
       "    </tr>\n",
       "  </tbody>\n",
       "</table>\n",
       "</div>"
      ]
     },
     "execution_count": 61,
     "metadata": {},
     "output_type": "execute_result"
    }
   ],
   "execution_count": 61
  },
  {
   "cell_type": "code",
   "metadata": {
    "ExecuteTime": {
     "end_time": "2025-03-15T20:07:16.745271Z",
     "start_time": "2025-03-15T20:07:16.742689Z"
    }
   },
   "source": [
    "pc2"
   ],
   "outputs": [
    {
     "data": {
      "text/plain": [
       "array([[-2.53024988,  1.23627685, -0.88084755, ...,  0.30658162,\n",
       "         1.26749291,  0.41849916],\n",
       "       [-2.39848319,  0.39178227, -1.19712952, ..., -0.15278911,\n",
       "        -0.23081341, -0.6152597 ],\n",
       "       [-3.0070347 , -0.96178934,  1.28725698, ...,  0.67556816,\n",
       "        -0.06104672,  0.29859608],\n",
       "       ...,\n",
       "       [ 1.17913201,  2.04621959, -0.10909994, ...,  0.16237284,\n",
       "         0.56176765,  2.03625356],\n",
       "       [ 1.85608927,  0.63244579,  0.21014608, ...,  0.3377658 ,\n",
       "         0.07147168, -0.91545955],\n",
       "       [ 2.5998706 ,  0.1109729 ,  0.07429496, ...,  0.4729618 ,\n",
       "         0.09257606, -0.11686524]])"
      ]
     },
     "execution_count": 62,
     "metadata": {},
     "output_type": "execute_result"
    }
   ],
   "execution_count": 62
  },
  {
   "cell_type": "code",
   "metadata": {
    "ExecuteTime": {
     "end_time": "2025-03-15T20:07:16.862315Z",
     "start_time": "2025-03-15T20:07:16.860014Z"
    }
   },
   "source": [
    "df_pca = pd.DataFrame(data = pc, columns = ['principal component 1', 'principal component 2', 'principal component 3','principal component 4', 'principal component 5', 'principal component 6','principal component 7'])\n",
    "df_pca2 = pd.DataFrame(data = pc2, columns = ['principal component 1', 'principal component 2', 'principal component 3','principal component 4', 'principal component 5', 'principal component 6','principal component 7'])\n"
   ],
   "outputs": [],
   "execution_count": 63
  },
  {
   "cell_type": "code",
   "metadata": {
    "ExecuteTime": {
     "end_time": "2025-03-15T20:07:16.955585Z",
     "start_time": "2025-03-15T20:07:16.952682Z"
    }
   },
   "source": [
    "final_train_pca_df = pd.concat([df_pca, heart_y_train[['num']]], axis = 1)\n",
    "final_test_pca_df = pd.concat([df_pca2, heart_y_train[['num']]], axis = 1)"
   ],
   "outputs": [],
   "execution_count": 64
  },
  {
   "cell_type": "code",
   "metadata": {
    "ExecuteTime": {
     "end_time": "2025-03-15T20:07:17.034643Z",
     "start_time": "2025-03-15T20:07:17.030321Z"
    }
   },
   "source": [
    "final_train_pca_df.head()"
   ],
   "outputs": [
    {
     "data": {
      "text/plain": [
       "   principal component 1  principal component 2  principal component 3  \\\n",
       "0               0.805192              -0.844969              -0.350627   \n",
       "1               2.548708              -0.436002              -0.860852   \n",
       "2               3.992324               0.757912              -0.233733   \n",
       "3               0.312967               0.300582               0.112823   \n",
       "4               1.827247              -0.996109              -0.928763   \n",
       "\n",
       "   principal component 4  principal component 5  principal component 6  \\\n",
       "0              -1.402458              -0.438437              -0.594922   \n",
       "1              -0.303367              -0.384887               0.246653   \n",
       "2              -0.735807              -0.525423               0.261118   \n",
       "3               1.314344               0.556920              -0.179859   \n",
       "4               0.226585              -0.105469              -0.134101   \n",
       "\n",
       "   principal component 7  num  \n",
       "0               0.744366  1.0  \n",
       "1              -0.425630  1.0  \n",
       "2               0.465054  1.0  \n",
       "3               0.446646  1.0  \n",
       "4               0.354266  1.0  "
      ],
      "text/html": [
       "<div>\n",
       "<style scoped>\n",
       "    .dataframe tbody tr th:only-of-type {\n",
       "        vertical-align: middle;\n",
       "    }\n",
       "\n",
       "    .dataframe tbody tr th {\n",
       "        vertical-align: top;\n",
       "    }\n",
       "\n",
       "    .dataframe thead th {\n",
       "        text-align: right;\n",
       "    }\n",
       "</style>\n",
       "<table border=\"1\" class=\"dataframe\">\n",
       "  <thead>\n",
       "    <tr style=\"text-align: right;\">\n",
       "      <th></th>\n",
       "      <th>principal component 1</th>\n",
       "      <th>principal component 2</th>\n",
       "      <th>principal component 3</th>\n",
       "      <th>principal component 4</th>\n",
       "      <th>principal component 5</th>\n",
       "      <th>principal component 6</th>\n",
       "      <th>principal component 7</th>\n",
       "      <th>num</th>\n",
       "    </tr>\n",
       "  </thead>\n",
       "  <tbody>\n",
       "    <tr>\n",
       "      <th>0</th>\n",
       "      <td>0.805192</td>\n",
       "      <td>-0.844969</td>\n",
       "      <td>-0.350627</td>\n",
       "      <td>-1.402458</td>\n",
       "      <td>-0.438437</td>\n",
       "      <td>-0.594922</td>\n",
       "      <td>0.744366</td>\n",
       "      <td>1.0</td>\n",
       "    </tr>\n",
       "    <tr>\n",
       "      <th>1</th>\n",
       "      <td>2.548708</td>\n",
       "      <td>-0.436002</td>\n",
       "      <td>-0.860852</td>\n",
       "      <td>-0.303367</td>\n",
       "      <td>-0.384887</td>\n",
       "      <td>0.246653</td>\n",
       "      <td>-0.425630</td>\n",
       "      <td>1.0</td>\n",
       "    </tr>\n",
       "    <tr>\n",
       "      <th>2</th>\n",
       "      <td>3.992324</td>\n",
       "      <td>0.757912</td>\n",
       "      <td>-0.233733</td>\n",
       "      <td>-0.735807</td>\n",
       "      <td>-0.525423</td>\n",
       "      <td>0.261118</td>\n",
       "      <td>0.465054</td>\n",
       "      <td>1.0</td>\n",
       "    </tr>\n",
       "    <tr>\n",
       "      <th>3</th>\n",
       "      <td>0.312967</td>\n",
       "      <td>0.300582</td>\n",
       "      <td>0.112823</td>\n",
       "      <td>1.314344</td>\n",
       "      <td>0.556920</td>\n",
       "      <td>-0.179859</td>\n",
       "      <td>0.446646</td>\n",
       "      <td>1.0</td>\n",
       "    </tr>\n",
       "    <tr>\n",
       "      <th>4</th>\n",
       "      <td>1.827247</td>\n",
       "      <td>-0.996109</td>\n",
       "      <td>-0.928763</td>\n",
       "      <td>0.226585</td>\n",
       "      <td>-0.105469</td>\n",
       "      <td>-0.134101</td>\n",
       "      <td>0.354266</td>\n",
       "      <td>1.0</td>\n",
       "    </tr>\n",
       "  </tbody>\n",
       "</table>\n",
       "</div>"
      ]
     },
     "execution_count": 65,
     "metadata": {},
     "output_type": "execute_result"
    }
   ],
   "execution_count": 65
  },
  {
   "cell_type": "code",
   "metadata": {
    "ExecuteTime": {
     "end_time": "2025-03-15T20:07:17.135325Z",
     "start_time": "2025-03-15T20:07:17.130918Z"
    }
   },
   "source": [
    "dropped_heart_X_train.head()"
   ],
   "outputs": [
    {
     "data": {
      "text/plain": [
       "         cp   thalach     exang   oldpeak     slope        ca      thal\n",
       "0  0.872408 -0.244069  1.433497  0.123867  0.642696  0.344243 -0.892713\n",
       "1  0.872408 -1.028671  1.433497  1.495935  0.642696  0.344243  1.170601\n",
       "2  0.872408 -0.723548  1.433497  2.524987  2.260330  1.409246  1.170601\n",
       "3 -0.164013  0.017465 -0.695246 -0.562167  0.642696  0.344243  1.170601\n",
       "4  0.872408 -0.767137  1.433497  0.123867  0.642696  0.344243  1.170601"
      ],
      "text/html": [
       "<div>\n",
       "<style scoped>\n",
       "    .dataframe tbody tr th:only-of-type {\n",
       "        vertical-align: middle;\n",
       "    }\n",
       "\n",
       "    .dataframe tbody tr th {\n",
       "        vertical-align: top;\n",
       "    }\n",
       "\n",
       "    .dataframe thead th {\n",
       "        text-align: right;\n",
       "    }\n",
       "</style>\n",
       "<table border=\"1\" class=\"dataframe\">\n",
       "  <thead>\n",
       "    <tr style=\"text-align: right;\">\n",
       "      <th></th>\n",
       "      <th>cp</th>\n",
       "      <th>thalach</th>\n",
       "      <th>exang</th>\n",
       "      <th>oldpeak</th>\n",
       "      <th>slope</th>\n",
       "      <th>ca</th>\n",
       "      <th>thal</th>\n",
       "    </tr>\n",
       "  </thead>\n",
       "  <tbody>\n",
       "    <tr>\n",
       "      <th>0</th>\n",
       "      <td>0.872408</td>\n",
       "      <td>-0.244069</td>\n",
       "      <td>1.433497</td>\n",
       "      <td>0.123867</td>\n",
       "      <td>0.642696</td>\n",
       "      <td>0.344243</td>\n",
       "      <td>-0.892713</td>\n",
       "    </tr>\n",
       "    <tr>\n",
       "      <th>1</th>\n",
       "      <td>0.872408</td>\n",
       "      <td>-1.028671</td>\n",
       "      <td>1.433497</td>\n",
       "      <td>1.495935</td>\n",
       "      <td>0.642696</td>\n",
       "      <td>0.344243</td>\n",
       "      <td>1.170601</td>\n",
       "    </tr>\n",
       "    <tr>\n",
       "      <th>2</th>\n",
       "      <td>0.872408</td>\n",
       "      <td>-0.723548</td>\n",
       "      <td>1.433497</td>\n",
       "      <td>2.524987</td>\n",
       "      <td>2.260330</td>\n",
       "      <td>1.409246</td>\n",
       "      <td>1.170601</td>\n",
       "    </tr>\n",
       "    <tr>\n",
       "      <th>3</th>\n",
       "      <td>-0.164013</td>\n",
       "      <td>0.017465</td>\n",
       "      <td>-0.695246</td>\n",
       "      <td>-0.562167</td>\n",
       "      <td>0.642696</td>\n",
       "      <td>0.344243</td>\n",
       "      <td>1.170601</td>\n",
       "    </tr>\n",
       "    <tr>\n",
       "      <th>4</th>\n",
       "      <td>0.872408</td>\n",
       "      <td>-0.767137</td>\n",
       "      <td>1.433497</td>\n",
       "      <td>0.123867</td>\n",
       "      <td>0.642696</td>\n",
       "      <td>0.344243</td>\n",
       "      <td>1.170601</td>\n",
       "    </tr>\n",
       "  </tbody>\n",
       "</table>\n",
       "</div>"
      ]
     },
     "execution_count": 66,
     "metadata": {},
     "output_type": "execute_result"
    }
   ],
   "execution_count": 66
  },
  {
   "cell_type": "code",
   "metadata": {
    "ExecuteTime": {
     "end_time": "2025-03-15T20:07:17.171777Z",
     "start_time": "2025-03-15T20:07:17.168803Z"
    }
   },
   "source": [
    "heart_y_train.to_numpy().reshape(-1).flatten()"
   ],
   "outputs": [
    {
     "data": {
      "text/plain": [
       "array([1., 1., 1., 1., 1., 1., 1., 1., 1., 1., 1., 1., 1., 1., 1., 1., 1.,\n",
       "       1., 1., 1., 1., 1., 1., 1., 1., 1., 1., 1., 1., 1., 1., 1., 1., 1.,\n",
       "       1., 1., 1., 1., 1., 1., 1., 1., 1., 1., 1., 1., 1., 1., 1., 1., 1.,\n",
       "       1., 1., 1., 1., 1., 1., 1., 1., 1., 1., 1., 1., 1., 1., 1., 1., 1.,\n",
       "       1., 1., 1., 1., 1., 1., 1., 1., 1., 1., 1., 1., 1., 1., 1., 1., 1.,\n",
       "       1., 1., 1., 1., 1., 1., 1., 1., 1., 1., 1., 1., 1., 1., 1., 0., 0.,\n",
       "       0., 0., 0., 0., 0., 0., 0., 0., 0., 0., 0., 0., 0., 0., 0., 0., 0.,\n",
       "       0., 0., 0., 0., 0., 0., 0., 0., 0., 0., 0., 0., 0., 0., 0., 0., 0.,\n",
       "       0., 0., 0., 0., 0., 0., 0., 0., 0., 0., 0., 0., 0., 0., 0., 0., 0.,\n",
       "       0., 0., 0., 0., 0., 0., 0., 0., 0., 0., 0., 0., 0., 0., 0., 0., 0.,\n",
       "       0., 0., 0., 0., 0., 0., 0., 0., 0., 0., 0., 0., 0., 0., 0., 0., 0.,\n",
       "       0., 0., 0., 0., 0., 0., 0., 0., 0., 0., 0., 0., 0.])"
      ]
     },
     "execution_count": 67,
     "metadata": {},
     "output_type": "execute_result"
    }
   ],
   "execution_count": 67
  },
  {
   "cell_type": "code",
   "metadata": {
    "ExecuteTime": {
     "end_time": "2025-03-15T20:07:17.291343Z",
     "start_time": "2025-03-15T20:07:17.268903Z"
    }
   },
   "source": [
    "clf_NN = MLPClassifier(solver='lbfgs', alpha=1e-5,\n",
    "                    hidden_layer_sizes=(5, 2), random_state=1)\n",
    "\n",
    "clf_NN.fit(dropped_heart_X_train, heart_y_train)"
   ],
   "outputs": [
    {
     "name": "stderr",
     "output_type": "stream",
     "text": [
      "/Library/Frameworks/Python.framework/Versions/3.11/lib/python3.11/site-packages/sklearn/neural_network/_multilayer_perceptron.py:1105: DataConversionWarning: A column-vector y was passed when a 1d array was expected. Please change the shape of y to (n_samples, ), for example using ravel().\n",
      "  y = column_or_1d(y, warn=True)\n"
     ]
    },
    {
     "data": {
      "text/plain": [
       "MLPClassifier(alpha=1e-05, hidden_layer_sizes=(5, 2), random_state=1,\n",
       "              solver='lbfgs')"
      ],
      "text/html": [
       "<style>#sk-container-id-1 {\n",
       "  /* Definition of color scheme common for light and dark mode */\n",
       "  --sklearn-color-text: black;\n",
       "  --sklearn-color-line: gray;\n",
       "  /* Definition of color scheme for unfitted estimators */\n",
       "  --sklearn-color-unfitted-level-0: #fff5e6;\n",
       "  --sklearn-color-unfitted-level-1: #f6e4d2;\n",
       "  --sklearn-color-unfitted-level-2: #ffe0b3;\n",
       "  --sklearn-color-unfitted-level-3: chocolate;\n",
       "  /* Definition of color scheme for fitted estimators */\n",
       "  --sklearn-color-fitted-level-0: #f0f8ff;\n",
       "  --sklearn-color-fitted-level-1: #d4ebff;\n",
       "  --sklearn-color-fitted-level-2: #b3dbfd;\n",
       "  --sklearn-color-fitted-level-3: cornflowerblue;\n",
       "\n",
       "  /* Specific color for light theme */\n",
       "  --sklearn-color-text-on-default-background: var(--sg-text-color, var(--theme-code-foreground, var(--jp-content-font-color1, black)));\n",
       "  --sklearn-color-background: var(--sg-background-color, var(--theme-background, var(--jp-layout-color0, white)));\n",
       "  --sklearn-color-border-box: var(--sg-text-color, var(--theme-code-foreground, var(--jp-content-font-color1, black)));\n",
       "  --sklearn-color-icon: #696969;\n",
       "\n",
       "  @media (prefers-color-scheme: dark) {\n",
       "    /* Redefinition of color scheme for dark theme */\n",
       "    --sklearn-color-text-on-default-background: var(--sg-text-color, var(--theme-code-foreground, var(--jp-content-font-color1, white)));\n",
       "    --sklearn-color-background: var(--sg-background-color, var(--theme-background, var(--jp-layout-color0, #111)));\n",
       "    --sklearn-color-border-box: var(--sg-text-color, var(--theme-code-foreground, var(--jp-content-font-color1, white)));\n",
       "    --sklearn-color-icon: #878787;\n",
       "  }\n",
       "}\n",
       "\n",
       "#sk-container-id-1 {\n",
       "  color: var(--sklearn-color-text);\n",
       "}\n",
       "\n",
       "#sk-container-id-1 pre {\n",
       "  padding: 0;\n",
       "}\n",
       "\n",
       "#sk-container-id-1 input.sk-hidden--visually {\n",
       "  border: 0;\n",
       "  clip: rect(1px 1px 1px 1px);\n",
       "  clip: rect(1px, 1px, 1px, 1px);\n",
       "  height: 1px;\n",
       "  margin: -1px;\n",
       "  overflow: hidden;\n",
       "  padding: 0;\n",
       "  position: absolute;\n",
       "  width: 1px;\n",
       "}\n",
       "\n",
       "#sk-container-id-1 div.sk-dashed-wrapped {\n",
       "  border: 1px dashed var(--sklearn-color-line);\n",
       "  margin: 0 0.4em 0.5em 0.4em;\n",
       "  box-sizing: border-box;\n",
       "  padding-bottom: 0.4em;\n",
       "  background-color: var(--sklearn-color-background);\n",
       "}\n",
       "\n",
       "#sk-container-id-1 div.sk-container {\n",
       "  /* jupyter's `normalize.less` sets `[hidden] { display: none; }`\n",
       "     but bootstrap.min.css set `[hidden] { display: none !important; }`\n",
       "     so we also need the `!important` here to be able to override the\n",
       "     default hidden behavior on the sphinx rendered scikit-learn.org.\n",
       "     See: https://github.com/scikit-learn/scikit-learn/issues/21755 */\n",
       "  display: inline-block !important;\n",
       "  position: relative;\n",
       "}\n",
       "\n",
       "#sk-container-id-1 div.sk-text-repr-fallback {\n",
       "  display: none;\n",
       "}\n",
       "\n",
       "div.sk-parallel-item,\n",
       "div.sk-serial,\n",
       "div.sk-item {\n",
       "  /* draw centered vertical line to link estimators */\n",
       "  background-image: linear-gradient(var(--sklearn-color-text-on-default-background), var(--sklearn-color-text-on-default-background));\n",
       "  background-size: 2px 100%;\n",
       "  background-repeat: no-repeat;\n",
       "  background-position: center center;\n",
       "}\n",
       "\n",
       "/* Parallel-specific style estimator block */\n",
       "\n",
       "#sk-container-id-1 div.sk-parallel-item::after {\n",
       "  content: \"\";\n",
       "  width: 100%;\n",
       "  border-bottom: 2px solid var(--sklearn-color-text-on-default-background);\n",
       "  flex-grow: 1;\n",
       "}\n",
       "\n",
       "#sk-container-id-1 div.sk-parallel {\n",
       "  display: flex;\n",
       "  align-items: stretch;\n",
       "  justify-content: center;\n",
       "  background-color: var(--sklearn-color-background);\n",
       "  position: relative;\n",
       "}\n",
       "\n",
       "#sk-container-id-1 div.sk-parallel-item {\n",
       "  display: flex;\n",
       "  flex-direction: column;\n",
       "}\n",
       "\n",
       "#sk-container-id-1 div.sk-parallel-item:first-child::after {\n",
       "  align-self: flex-end;\n",
       "  width: 50%;\n",
       "}\n",
       "\n",
       "#sk-container-id-1 div.sk-parallel-item:last-child::after {\n",
       "  align-self: flex-start;\n",
       "  width: 50%;\n",
       "}\n",
       "\n",
       "#sk-container-id-1 div.sk-parallel-item:only-child::after {\n",
       "  width: 0;\n",
       "}\n",
       "\n",
       "/* Serial-specific style estimator block */\n",
       "\n",
       "#sk-container-id-1 div.sk-serial {\n",
       "  display: flex;\n",
       "  flex-direction: column;\n",
       "  align-items: center;\n",
       "  background-color: var(--sklearn-color-background);\n",
       "  padding-right: 1em;\n",
       "  padding-left: 1em;\n",
       "}\n",
       "\n",
       "\n",
       "/* Toggleable style: style used for estimator/Pipeline/ColumnTransformer box that is\n",
       "clickable and can be expanded/collapsed.\n",
       "- Pipeline and ColumnTransformer use this feature and define the default style\n",
       "- Estimators will overwrite some part of the style using the `sk-estimator` class\n",
       "*/\n",
       "\n",
       "/* Pipeline and ColumnTransformer style (default) */\n",
       "\n",
       "#sk-container-id-1 div.sk-toggleable {\n",
       "  /* Default theme specific background. It is overwritten whether we have a\n",
       "  specific estimator or a Pipeline/ColumnTransformer */\n",
       "  background-color: var(--sklearn-color-background);\n",
       "}\n",
       "\n",
       "/* Toggleable label */\n",
       "#sk-container-id-1 label.sk-toggleable__label {\n",
       "  cursor: pointer;\n",
       "  display: block;\n",
       "  width: 100%;\n",
       "  margin-bottom: 0;\n",
       "  padding: 0.5em;\n",
       "  box-sizing: border-box;\n",
       "  text-align: center;\n",
       "}\n",
       "\n",
       "#sk-container-id-1 label.sk-toggleable__label-arrow:before {\n",
       "  /* Arrow on the left of the label */\n",
       "  content: \"▸\";\n",
       "  float: left;\n",
       "  margin-right: 0.25em;\n",
       "  color: var(--sklearn-color-icon);\n",
       "}\n",
       "\n",
       "#sk-container-id-1 label.sk-toggleable__label-arrow:hover:before {\n",
       "  color: var(--sklearn-color-text);\n",
       "}\n",
       "\n",
       "/* Toggleable content - dropdown */\n",
       "\n",
       "#sk-container-id-1 div.sk-toggleable__content {\n",
       "  max-height: 0;\n",
       "  max-width: 0;\n",
       "  overflow: hidden;\n",
       "  text-align: left;\n",
       "  /* unfitted */\n",
       "  background-color: var(--sklearn-color-unfitted-level-0);\n",
       "}\n",
       "\n",
       "#sk-container-id-1 div.sk-toggleable__content.fitted {\n",
       "  /* fitted */\n",
       "  background-color: var(--sklearn-color-fitted-level-0);\n",
       "}\n",
       "\n",
       "#sk-container-id-1 div.sk-toggleable__content pre {\n",
       "  margin: 0.2em;\n",
       "  border-radius: 0.25em;\n",
       "  color: var(--sklearn-color-text);\n",
       "  /* unfitted */\n",
       "  background-color: var(--sklearn-color-unfitted-level-0);\n",
       "}\n",
       "\n",
       "#sk-container-id-1 div.sk-toggleable__content.fitted pre {\n",
       "  /* unfitted */\n",
       "  background-color: var(--sklearn-color-fitted-level-0);\n",
       "}\n",
       "\n",
       "#sk-container-id-1 input.sk-toggleable__control:checked~div.sk-toggleable__content {\n",
       "  /* Expand drop-down */\n",
       "  max-height: 200px;\n",
       "  max-width: 100%;\n",
       "  overflow: auto;\n",
       "}\n",
       "\n",
       "#sk-container-id-1 input.sk-toggleable__control:checked~label.sk-toggleable__label-arrow:before {\n",
       "  content: \"▾\";\n",
       "}\n",
       "\n",
       "/* Pipeline/ColumnTransformer-specific style */\n",
       "\n",
       "#sk-container-id-1 div.sk-label input.sk-toggleable__control:checked~label.sk-toggleable__label {\n",
       "  color: var(--sklearn-color-text);\n",
       "  background-color: var(--sklearn-color-unfitted-level-2);\n",
       "}\n",
       "\n",
       "#sk-container-id-1 div.sk-label.fitted input.sk-toggleable__control:checked~label.sk-toggleable__label {\n",
       "  background-color: var(--sklearn-color-fitted-level-2);\n",
       "}\n",
       "\n",
       "/* Estimator-specific style */\n",
       "\n",
       "/* Colorize estimator box */\n",
       "#sk-container-id-1 div.sk-estimator input.sk-toggleable__control:checked~label.sk-toggleable__label {\n",
       "  /* unfitted */\n",
       "  background-color: var(--sklearn-color-unfitted-level-2);\n",
       "}\n",
       "\n",
       "#sk-container-id-1 div.sk-estimator.fitted input.sk-toggleable__control:checked~label.sk-toggleable__label {\n",
       "  /* fitted */\n",
       "  background-color: var(--sklearn-color-fitted-level-2);\n",
       "}\n",
       "\n",
       "#sk-container-id-1 div.sk-label label.sk-toggleable__label,\n",
       "#sk-container-id-1 div.sk-label label {\n",
       "  /* The background is the default theme color */\n",
       "  color: var(--sklearn-color-text-on-default-background);\n",
       "}\n",
       "\n",
       "/* On hover, darken the color of the background */\n",
       "#sk-container-id-1 div.sk-label:hover label.sk-toggleable__label {\n",
       "  color: var(--sklearn-color-text);\n",
       "  background-color: var(--sklearn-color-unfitted-level-2);\n",
       "}\n",
       "\n",
       "/* Label box, darken color on hover, fitted */\n",
       "#sk-container-id-1 div.sk-label.fitted:hover label.sk-toggleable__label.fitted {\n",
       "  color: var(--sklearn-color-text);\n",
       "  background-color: var(--sklearn-color-fitted-level-2);\n",
       "}\n",
       "\n",
       "/* Estimator label */\n",
       "\n",
       "#sk-container-id-1 div.sk-label label {\n",
       "  font-family: monospace;\n",
       "  font-weight: bold;\n",
       "  display: inline-block;\n",
       "  line-height: 1.2em;\n",
       "}\n",
       "\n",
       "#sk-container-id-1 div.sk-label-container {\n",
       "  text-align: center;\n",
       "}\n",
       "\n",
       "/* Estimator-specific */\n",
       "#sk-container-id-1 div.sk-estimator {\n",
       "  font-family: monospace;\n",
       "  border: 1px dotted var(--sklearn-color-border-box);\n",
       "  border-radius: 0.25em;\n",
       "  box-sizing: border-box;\n",
       "  margin-bottom: 0.5em;\n",
       "  /* unfitted */\n",
       "  background-color: var(--sklearn-color-unfitted-level-0);\n",
       "}\n",
       "\n",
       "#sk-container-id-1 div.sk-estimator.fitted {\n",
       "  /* fitted */\n",
       "  background-color: var(--sklearn-color-fitted-level-0);\n",
       "}\n",
       "\n",
       "/* on hover */\n",
       "#sk-container-id-1 div.sk-estimator:hover {\n",
       "  /* unfitted */\n",
       "  background-color: var(--sklearn-color-unfitted-level-2);\n",
       "}\n",
       "\n",
       "#sk-container-id-1 div.sk-estimator.fitted:hover {\n",
       "  /* fitted */\n",
       "  background-color: var(--sklearn-color-fitted-level-2);\n",
       "}\n",
       "\n",
       "/* Specification for estimator info (e.g. \"i\" and \"?\") */\n",
       "\n",
       "/* Common style for \"i\" and \"?\" */\n",
       "\n",
       ".sk-estimator-doc-link,\n",
       "a:link.sk-estimator-doc-link,\n",
       "a:visited.sk-estimator-doc-link {\n",
       "  float: right;\n",
       "  font-size: smaller;\n",
       "  line-height: 1em;\n",
       "  font-family: monospace;\n",
       "  background-color: var(--sklearn-color-background);\n",
       "  border-radius: 1em;\n",
       "  height: 1em;\n",
       "  width: 1em;\n",
       "  text-decoration: none !important;\n",
       "  margin-left: 1ex;\n",
       "  /* unfitted */\n",
       "  border: var(--sklearn-color-unfitted-level-1) 1pt solid;\n",
       "  color: var(--sklearn-color-unfitted-level-1);\n",
       "}\n",
       "\n",
       ".sk-estimator-doc-link.fitted,\n",
       "a:link.sk-estimator-doc-link.fitted,\n",
       "a:visited.sk-estimator-doc-link.fitted {\n",
       "  /* fitted */\n",
       "  border: var(--sklearn-color-fitted-level-1) 1pt solid;\n",
       "  color: var(--sklearn-color-fitted-level-1);\n",
       "}\n",
       "\n",
       "/* On hover */\n",
       "div.sk-estimator:hover .sk-estimator-doc-link:hover,\n",
       ".sk-estimator-doc-link:hover,\n",
       "div.sk-label-container:hover .sk-estimator-doc-link:hover,\n",
       ".sk-estimator-doc-link:hover {\n",
       "  /* unfitted */\n",
       "  background-color: var(--sklearn-color-unfitted-level-3);\n",
       "  color: var(--sklearn-color-background);\n",
       "  text-decoration: none;\n",
       "}\n",
       "\n",
       "div.sk-estimator.fitted:hover .sk-estimator-doc-link.fitted:hover,\n",
       ".sk-estimator-doc-link.fitted:hover,\n",
       "div.sk-label-container:hover .sk-estimator-doc-link.fitted:hover,\n",
       ".sk-estimator-doc-link.fitted:hover {\n",
       "  /* fitted */\n",
       "  background-color: var(--sklearn-color-fitted-level-3);\n",
       "  color: var(--sklearn-color-background);\n",
       "  text-decoration: none;\n",
       "}\n",
       "\n",
       "/* Span, style for the box shown on hovering the info icon */\n",
       ".sk-estimator-doc-link span {\n",
       "  display: none;\n",
       "  z-index: 9999;\n",
       "  position: relative;\n",
       "  font-weight: normal;\n",
       "  right: .2ex;\n",
       "  padding: .5ex;\n",
       "  margin: .5ex;\n",
       "  width: min-content;\n",
       "  min-width: 20ex;\n",
       "  max-width: 50ex;\n",
       "  color: var(--sklearn-color-text);\n",
       "  box-shadow: 2pt 2pt 4pt #999;\n",
       "  /* unfitted */\n",
       "  background: var(--sklearn-color-unfitted-level-0);\n",
       "  border: .5pt solid var(--sklearn-color-unfitted-level-3);\n",
       "}\n",
       "\n",
       ".sk-estimator-doc-link.fitted span {\n",
       "  /* fitted */\n",
       "  background: var(--sklearn-color-fitted-level-0);\n",
       "  border: var(--sklearn-color-fitted-level-3);\n",
       "}\n",
       "\n",
       ".sk-estimator-doc-link:hover span {\n",
       "  display: block;\n",
       "}\n",
       "\n",
       "/* \"?\"-specific style due to the `<a>` HTML tag */\n",
       "\n",
       "#sk-container-id-1 a.estimator_doc_link {\n",
       "  float: right;\n",
       "  font-size: 1rem;\n",
       "  line-height: 1em;\n",
       "  font-family: monospace;\n",
       "  background-color: var(--sklearn-color-background);\n",
       "  border-radius: 1rem;\n",
       "  height: 1rem;\n",
       "  width: 1rem;\n",
       "  text-decoration: none;\n",
       "  /* unfitted */\n",
       "  color: var(--sklearn-color-unfitted-level-1);\n",
       "  border: var(--sklearn-color-unfitted-level-1) 1pt solid;\n",
       "}\n",
       "\n",
       "#sk-container-id-1 a.estimator_doc_link.fitted {\n",
       "  /* fitted */\n",
       "  border: var(--sklearn-color-fitted-level-1) 1pt solid;\n",
       "  color: var(--sklearn-color-fitted-level-1);\n",
       "}\n",
       "\n",
       "/* On hover */\n",
       "#sk-container-id-1 a.estimator_doc_link:hover {\n",
       "  /* unfitted */\n",
       "  background-color: var(--sklearn-color-unfitted-level-3);\n",
       "  color: var(--sklearn-color-background);\n",
       "  text-decoration: none;\n",
       "}\n",
       "\n",
       "#sk-container-id-1 a.estimator_doc_link.fitted:hover {\n",
       "  /* fitted */\n",
       "  background-color: var(--sklearn-color-fitted-level-3);\n",
       "}\n",
       "</style><div id=\"sk-container-id-1\" class=\"sk-top-container\"><div class=\"sk-text-repr-fallback\"><pre>MLPClassifier(alpha=1e-05, hidden_layer_sizes=(5, 2), random_state=1,\n",
       "              solver=&#x27;lbfgs&#x27;)</pre><b>In a Jupyter environment, please rerun this cell to show the HTML representation or trust the notebook. <br />On GitHub, the HTML representation is unable to render, please try loading this page with nbviewer.org.</b></div><div class=\"sk-container\" hidden><div class=\"sk-item\"><div class=\"sk-estimator fitted sk-toggleable\"><input class=\"sk-toggleable__control sk-hidden--visually\" id=\"sk-estimator-id-1\" type=\"checkbox\" checked><label for=\"sk-estimator-id-1\" class=\"sk-toggleable__label fitted sk-toggleable__label-arrow fitted\">&nbsp;&nbsp;MLPClassifier<a class=\"sk-estimator-doc-link fitted\" rel=\"noreferrer\" target=\"_blank\" href=\"https://scikit-learn.org/1.5/modules/generated/sklearn.neural_network.MLPClassifier.html\">?<span>Documentation for MLPClassifier</span></a><span class=\"sk-estimator-doc-link fitted\">i<span>Fitted</span></span></label><div class=\"sk-toggleable__content fitted\"><pre>MLPClassifier(alpha=1e-05, hidden_layer_sizes=(5, 2), random_state=1,\n",
       "              solver=&#x27;lbfgs&#x27;)</pre></div> </div></div></div></div>"
      ]
     },
     "execution_count": 68,
     "metadata": {},
     "output_type": "execute_result"
    }
   ],
   "execution_count": 68
  },
  {
   "cell_type": "code",
   "metadata": {
    "ExecuteTime": {
     "end_time": "2025-03-15T20:07:17.385706Z",
     "start_time": "2025-03-15T20:07:17.382509Z"
    }
   },
   "source": [
    "clf_NN.predict(dropped_heart_X_test)"
   ],
   "outputs": [
    {
     "data": {
      "text/plain": [
       "array([1., 1., 1., 1., 1., 0., 1., 1., 0., 1., 1., 1., 1., 0., 1., 1., 0.,\n",
       "       1., 1., 0., 1., 1., 0., 0., 1., 0., 1., 1., 1., 0., 1., 0., 1., 0.,\n",
       "       1., 1., 1., 1., 0., 1., 1., 1., 0., 0., 1., 1., 1., 1., 0., 0., 1.,\n",
       "       1., 1., 1., 1., 1., 1., 1., 1., 1., 1., 0., 0., 1., 1., 1., 1., 1.,\n",
       "       1., 0., 0., 1., 1., 1., 1., 1., 1., 1., 1., 0., 1., 0., 1., 1., 1.,\n",
       "       0., 1., 0., 1., 0., 0., 0., 0., 1., 0., 0., 1., 0., 0., 0., 0., 1.,\n",
       "       0., 0., 0., 0., 0., 0., 0., 0., 1., 1., 0., 0., 0., 0., 0., 0., 0.,\n",
       "       1., 0., 1., 0., 0., 0., 1., 0., 0., 0., 1., 1., 0., 0., 0., 0., 0.,\n",
       "       1., 1., 0., 0., 0., 1., 0., 0., 1., 0., 0., 0., 0., 0., 0., 0., 0.,\n",
       "       0., 0., 0., 0., 0., 0., 0., 0., 0., 1., 1., 0., 0., 0., 1., 1., 0.,\n",
       "       0., 0., 0., 0., 1., 0., 1., 0., 0., 0., 0., 0., 0., 0., 0., 0.])"
      ]
     },
     "execution_count": 69,
     "metadata": {},
     "output_type": "execute_result"
    }
   ],
   "execution_count": 69
  },
  {
   "cell_type": "code",
   "metadata": {
    "ExecuteTime": {
     "end_time": "2025-03-15T20:07:17.494733Z",
     "start_time": "2025-03-15T20:07:17.491040Z"
    }
   },
   "source": [
    "len(dropped_heart_X_test)"
   ],
   "outputs": [
    {
     "data": {
      "text/plain": [
       "186"
      ]
     },
     "execution_count": 70,
     "metadata": {},
     "output_type": "execute_result"
    }
   ],
   "execution_count": 70
  },
  {
   "cell_type": "code",
   "metadata": {
    "ExecuteTime": {
     "end_time": "2025-03-15T20:07:17.576654Z",
     "start_time": "2025-03-15T20:07:17.574493Z"
    }
   },
   "source": [
    "len(heart_y_test)"
   ],
   "outputs": [
    {
     "data": {
      "text/plain": [
       "186"
      ]
     },
     "execution_count": 71,
     "metadata": {},
     "output_type": "execute_result"
    }
   ],
   "execution_count": 71
  },
  {
   "cell_type": "code",
   "metadata": {
    "ExecuteTime": {
     "end_time": "2025-03-15T20:07:17.636472Z",
     "start_time": "2025-03-15T20:07:17.632853Z"
    }
   },
   "source": [
    "heart_y_test"
   ],
   "outputs": [
    {
     "data": {
      "text/plain": [
       "     num\n",
       "0    1.0\n",
       "1    1.0\n",
       "2    1.0\n",
       "3    1.0\n",
       "4    1.0\n",
       "..   ...\n",
       "181  0.0\n",
       "182  0.0\n",
       "183  0.0\n",
       "184  0.0\n",
       "185  0.0\n",
       "\n",
       "[186 rows x 1 columns]"
      ],
      "text/html": [
       "<div>\n",
       "<style scoped>\n",
       "    .dataframe tbody tr th:only-of-type {\n",
       "        vertical-align: middle;\n",
       "    }\n",
       "\n",
       "    .dataframe tbody tr th {\n",
       "        vertical-align: top;\n",
       "    }\n",
       "\n",
       "    .dataframe thead th {\n",
       "        text-align: right;\n",
       "    }\n",
       "</style>\n",
       "<table border=\"1\" class=\"dataframe\">\n",
       "  <thead>\n",
       "    <tr style=\"text-align: right;\">\n",
       "      <th></th>\n",
       "      <th>num</th>\n",
       "    </tr>\n",
       "  </thead>\n",
       "  <tbody>\n",
       "    <tr>\n",
       "      <th>0</th>\n",
       "      <td>1.0</td>\n",
       "    </tr>\n",
       "    <tr>\n",
       "      <th>1</th>\n",
       "      <td>1.0</td>\n",
       "    </tr>\n",
       "    <tr>\n",
       "      <th>2</th>\n",
       "      <td>1.0</td>\n",
       "    </tr>\n",
       "    <tr>\n",
       "      <th>3</th>\n",
       "      <td>1.0</td>\n",
       "    </tr>\n",
       "    <tr>\n",
       "      <th>4</th>\n",
       "      <td>1.0</td>\n",
       "    </tr>\n",
       "    <tr>\n",
       "      <th>...</th>\n",
       "      <td>...</td>\n",
       "    </tr>\n",
       "    <tr>\n",
       "      <th>181</th>\n",
       "      <td>0.0</td>\n",
       "    </tr>\n",
       "    <tr>\n",
       "      <th>182</th>\n",
       "      <td>0.0</td>\n",
       "    </tr>\n",
       "    <tr>\n",
       "      <th>183</th>\n",
       "      <td>0.0</td>\n",
       "    </tr>\n",
       "    <tr>\n",
       "      <th>184</th>\n",
       "      <td>0.0</td>\n",
       "    </tr>\n",
       "    <tr>\n",
       "      <th>185</th>\n",
       "      <td>0.0</td>\n",
       "    </tr>\n",
       "  </tbody>\n",
       "</table>\n",
       "<p>186 rows × 1 columns</p>\n",
       "</div>"
      ]
     },
     "execution_count": 72,
     "metadata": {},
     "output_type": "execute_result"
    }
   ],
   "execution_count": 72
  },
  {
   "cell_type": "code",
   "metadata": {
    "ExecuteTime": {
     "end_time": "2025-03-15T20:07:17.711443Z",
     "start_time": "2025-03-15T20:07:17.701325Z"
    }
   },
   "source": [
    "dropped_heart_X_test.head(300)"
   ],
   "outputs": [
    {
     "data": {
      "text/plain": [
       "           cp   thalach     exang   oldpeak     slope        ca      thal\n",
       "0    0.872408  0.235410  1.433497  1.753198  2.260330 -0.720760  1.170601\n",
       "1    0.872408 -1.290205  1.433497  1.238673  0.642696 -0.720760  1.170601\n",
       "2    0.872408 -0.810726  1.433497  0.981410  0.642696  2.474249  1.170601\n",
       "3   -0.164013 -0.113302 -0.695246  2.181970  0.642696 -0.720760 -0.892713\n",
       "4   -0.164013  0.017465  1.433497  0.466884  0.642696 -0.720760  1.170601\n",
       "..        ...       ...       ...       ...       ...       ...       ...\n",
       "181 -1.200433  1.063601 -0.695246 -0.905184 -0.974938 -0.720760 -0.892713\n",
       "182 -1.200433  0.584122 -0.695246 -0.905184 -0.974938 -0.720760  1.170601\n",
       "183 -1.200433  0.845656 -0.695246 -0.905184  2.260330 -0.720760 -0.892713\n",
       "184 -1.200433  0.714889 -0.695246  0.123867 -0.974938 -0.720760 -0.892713\n",
       "185 -1.200433  1.412313 -0.695246 -0.905184 -0.974938 -0.720760 -0.892713\n",
       "\n",
       "[186 rows x 7 columns]"
      ],
      "text/html": [
       "<div>\n",
       "<style scoped>\n",
       "    .dataframe tbody tr th:only-of-type {\n",
       "        vertical-align: middle;\n",
       "    }\n",
       "\n",
       "    .dataframe tbody tr th {\n",
       "        vertical-align: top;\n",
       "    }\n",
       "\n",
       "    .dataframe thead th {\n",
       "        text-align: right;\n",
       "    }\n",
       "</style>\n",
       "<table border=\"1\" class=\"dataframe\">\n",
       "  <thead>\n",
       "    <tr style=\"text-align: right;\">\n",
       "      <th></th>\n",
       "      <th>cp</th>\n",
       "      <th>thalach</th>\n",
       "      <th>exang</th>\n",
       "      <th>oldpeak</th>\n",
       "      <th>slope</th>\n",
       "      <th>ca</th>\n",
       "      <th>thal</th>\n",
       "    </tr>\n",
       "  </thead>\n",
       "  <tbody>\n",
       "    <tr>\n",
       "      <th>0</th>\n",
       "      <td>0.872408</td>\n",
       "      <td>0.235410</td>\n",
       "      <td>1.433497</td>\n",
       "      <td>1.753198</td>\n",
       "      <td>2.260330</td>\n",
       "      <td>-0.720760</td>\n",
       "      <td>1.170601</td>\n",
       "    </tr>\n",
       "    <tr>\n",
       "      <th>1</th>\n",
       "      <td>0.872408</td>\n",
       "      <td>-1.290205</td>\n",
       "      <td>1.433497</td>\n",
       "      <td>1.238673</td>\n",
       "      <td>0.642696</td>\n",
       "      <td>-0.720760</td>\n",
       "      <td>1.170601</td>\n",
       "    </tr>\n",
       "    <tr>\n",
       "      <th>2</th>\n",
       "      <td>0.872408</td>\n",
       "      <td>-0.810726</td>\n",
       "      <td>1.433497</td>\n",
       "      <td>0.981410</td>\n",
       "      <td>0.642696</td>\n",
       "      <td>2.474249</td>\n",
       "      <td>1.170601</td>\n",
       "    </tr>\n",
       "    <tr>\n",
       "      <th>3</th>\n",
       "      <td>-0.164013</td>\n",
       "      <td>-0.113302</td>\n",
       "      <td>-0.695246</td>\n",
       "      <td>2.181970</td>\n",
       "      <td>0.642696</td>\n",
       "      <td>-0.720760</td>\n",
       "      <td>-0.892713</td>\n",
       "    </tr>\n",
       "    <tr>\n",
       "      <th>4</th>\n",
       "      <td>-0.164013</td>\n",
       "      <td>0.017465</td>\n",
       "      <td>1.433497</td>\n",
       "      <td>0.466884</td>\n",
       "      <td>0.642696</td>\n",
       "      <td>-0.720760</td>\n",
       "      <td>1.170601</td>\n",
       "    </tr>\n",
       "    <tr>\n",
       "      <th>...</th>\n",
       "      <td>...</td>\n",
       "      <td>...</td>\n",
       "      <td>...</td>\n",
       "      <td>...</td>\n",
       "      <td>...</td>\n",
       "      <td>...</td>\n",
       "      <td>...</td>\n",
       "    </tr>\n",
       "    <tr>\n",
       "      <th>181</th>\n",
       "      <td>-1.200433</td>\n",
       "      <td>1.063601</td>\n",
       "      <td>-0.695246</td>\n",
       "      <td>-0.905184</td>\n",
       "      <td>-0.974938</td>\n",
       "      <td>-0.720760</td>\n",
       "      <td>-0.892713</td>\n",
       "    </tr>\n",
       "    <tr>\n",
       "      <th>182</th>\n",
       "      <td>-1.200433</td>\n",
       "      <td>0.584122</td>\n",
       "      <td>-0.695246</td>\n",
       "      <td>-0.905184</td>\n",
       "      <td>-0.974938</td>\n",
       "      <td>-0.720760</td>\n",
       "      <td>1.170601</td>\n",
       "    </tr>\n",
       "    <tr>\n",
       "      <th>183</th>\n",
       "      <td>-1.200433</td>\n",
       "      <td>0.845656</td>\n",
       "      <td>-0.695246</td>\n",
       "      <td>-0.905184</td>\n",
       "      <td>2.260330</td>\n",
       "      <td>-0.720760</td>\n",
       "      <td>-0.892713</td>\n",
       "    </tr>\n",
       "    <tr>\n",
       "      <th>184</th>\n",
       "      <td>-1.200433</td>\n",
       "      <td>0.714889</td>\n",
       "      <td>-0.695246</td>\n",
       "      <td>0.123867</td>\n",
       "      <td>-0.974938</td>\n",
       "      <td>-0.720760</td>\n",
       "      <td>-0.892713</td>\n",
       "    </tr>\n",
       "    <tr>\n",
       "      <th>185</th>\n",
       "      <td>-1.200433</td>\n",
       "      <td>1.412313</td>\n",
       "      <td>-0.695246</td>\n",
       "      <td>-0.905184</td>\n",
       "      <td>-0.974938</td>\n",
       "      <td>-0.720760</td>\n",
       "      <td>-0.892713</td>\n",
       "    </tr>\n",
       "  </tbody>\n",
       "</table>\n",
       "<p>186 rows × 7 columns</p>\n",
       "</div>"
      ]
     },
     "execution_count": 73,
     "metadata": {},
     "output_type": "execute_result"
    }
   ],
   "execution_count": 73
  },
  {
   "cell_type": "code",
   "metadata": {
    "ExecuteTime": {
     "end_time": "2025-03-15T20:07:17.750576Z",
     "start_time": "2025-03-15T20:07:17.748158Z"
    }
   },
   "source": [
    "len(dropped_heart_X_train)"
   ],
   "outputs": [
    {
     "data": {
      "text/plain": [
       "200"
      ]
     },
     "execution_count": 74,
     "metadata": {},
     "output_type": "execute_result"
    }
   ],
   "execution_count": 74
  },
  {
   "cell_type": "code",
   "metadata": {
    "ExecuteTime": {
     "end_time": "2025-03-15T20:07:17.882364Z",
     "start_time": "2025-03-15T20:07:17.880113Z"
    }
   },
   "source": [
    "len(heart_y_train)"
   ],
   "outputs": [
    {
     "data": {
      "text/plain": [
       "200"
      ]
     },
     "execution_count": 75,
     "metadata": {},
     "output_type": "execute_result"
    }
   ],
   "execution_count": 75
  },
  {
   "cell_type": "code",
   "metadata": {
    "ExecuteTime": {
     "end_time": "2025-03-15T20:07:17.980224Z",
     "start_time": "2025-03-15T20:07:17.977315Z"
    }
   },
   "source": [
    "len(df_heart_standardized)"
   ],
   "outputs": [
    {
     "data": {
      "text/plain": [
       "297"
      ]
     },
     "execution_count": 76,
     "metadata": {},
     "output_type": "execute_result"
    }
   ],
   "execution_count": 76
  },
  {
   "cell_type": "code",
   "metadata": {
    "ExecuteTime": {
     "end_time": "2025-03-15T20:07:18.042718Z",
     "start_time": "2025-03-15T20:07:18.038615Z"
    }
   },
   "source": [
    "accuracy_score(clf_NN.predict(dropped_heart_X_test), heart_y_test)"
   ],
   "outputs": [
    {
     "data": {
      "text/plain": [
       "0.7580645161290323"
      ]
     },
     "execution_count": 77,
     "metadata": {},
     "output_type": "execute_result"
    }
   ],
   "execution_count": 77
  },
  {
   "cell_type": "markdown",
   "metadata": {},
   "source": [
    "<h1 style=text-align:center;> Genetic Alogrithim"
   ]
  },
  {
   "cell_type": "markdown",
   "metadata": {},
   "source": [
    "# Genetic Algorithm for K-Nearest Neighbors Weight Optimization\n",
    "\n",
    "## Introduction\n",
    "\n",
    "This document outlines the steps to optimize weights for a K-Nearest Neighbors (KNN) classifier using a genetic algorithm. The process involves creating multiple populations of weight sets, evaluating their performance, and iteratively refining them to improve the classifier's accuracy.\n",
    "\n",
    "## Steps\n",
    "\n",
    "### 1. Initialize Populations\n",
    "\n",
    "- **Create 20 populations**:\n",
    "  - Each population consists of a set of weights.\n",
    "  - Initialize weights by multiplying the original weights by a random number between 0 and 1.\n",
    "\n",
    "### 2. Evaluate Accuracy\n",
    "\n",
    "- **Run KNN on each population**:\n",
    "  - Split the dataset into training and testing sets.\n",
    "  - Train the KNN classifier using the weights from each population.\n",
    "  - Calculate the accuracy of each population on the test set.\n",
    "  - Store the accuracy for each population.\n",
    "\n",
    "### 3. Select Top Populations\n",
    "\n",
    "- **Drop the bottom 10 populations**:\n",
    "  - Sort the populations based on their accuracy.\n",
    "  - Retain the top 10 populations and discard the bottom 10.\n",
    "\n",
    "### 4. Duplicate Top Populations\n",
    "\n",
    "- **Duplicate the top 10 populations**:\n",
    "  - Create new populations by duplicating the top 10 populations.\n",
    "  - This results in 20 populations again.\n",
    "\n",
    "### 5. Apply Genetic Algorithm\n",
    "\n",
    "- **Perform genetic operations**:\n",
    "  - Apply crossover and mutation to the duplicated populations to introduce variations.\n",
    "  - Ensure the new populations are different from the previous ones.\n",
    "\n",
    "### 6. Repeat\n",
    "\n",
    "- **Iterate the process**:\n",
    "  - Repeat steps 2 to 5 for a predefined number of generations or until the accuracy converges.\n"
   ]
  },
  {
   "cell_type": "code",
   "metadata": {
    "ExecuteTime": {
     "end_time": "2025-03-15T20:07:18.147921Z",
     "start_time": "2025-03-15T20:07:18.144771Z"
    }
   },
   "source": [
    "heart_swagger"
   ],
   "outputs": [
    {
     "data": {
      "text/plain": [
       "[np.float64(0.2009252),\n",
       " np.float64(0.18232639999999997),\n",
       " np.float64(0.11486179999999997),\n",
       " np.float64(0.15723520000000005),\n",
       " np.float64(0.1471158),\n",
       " np.float64(0.20732950000000003),\n",
       " np.float64(0.33470360000000005)]"
      ]
     },
     "execution_count": 78,
     "metadata": {},
     "output_type": "execute_result"
    }
   ],
   "execution_count": 78
  },
  {
   "cell_type": "code",
   "metadata": {
    "ExecuteTime": {
     "end_time": "2025-03-15T20:07:18.235481Z",
     "start_time": "2025-03-15T20:07:18.232941Z"
    }
   },
   "source": [
    "def weight_manipulation(num_of_population,num_of_weights,weights):\n",
    "\n",
    "    genetic_weights = np.empty((num_of_population,num_of_weights))\n",
    "\n",
    "    np_weights = np.array(weights)\n",
    "\n",
    "    # print(\"weights : \", np_weights.shape)\n",
    "    # print(\"Chama: \", genetic_weights.shape)\n",
    "\n",
    "    if(np_weights.ndim == 1):\n",
    "\n",
    "        for i in range(0, num_of_population):\n",
    "            genetic_weights[i] = weights * np.random.rand(len(weights))\n",
    "\n",
    "        # print(\"Huh: \" ,genetic_weights.shape)\n",
    "\n",
    "        return genetic_weights\n",
    "\n",
    "    else :\n",
    "\n",
    "        for row in range(num_of_population):\n",
    "            # Multiply each element in the row by a random factor\n",
    "            # The random factor must have the same number of columns as the weight matrix\n",
    "            genetic_weights[row] = np_weights[row] * np.random.rand(np_weights.shape[1])\n",
    "\n",
    "    return genetic_weights"
   ],
   "outputs": [],
   "execution_count": 79
  },
  {
   "cell_type": "code",
   "metadata": {
    "ExecuteTime": {
     "end_time": "2025-03-15T20:07:18.285026Z",
     "start_time": "2025-03-15T20:07:18.281027Z"
    }
   },
   "source": [
    "def get_weight_manipulated_acc(num_of_population, genetic_weights):\n",
    "\n",
    "    population_data = []\n",
    "    population_data_sorted = []\n",
    "    \n",
    "    pop_data_counter = 0\n",
    "\n",
    "    for population in range(num_of_population):\n",
    "\n",
    "        Train_Data =  pd.concat([dropped_heart_X_train, heart_y_train], axis=1)\n",
    "        Test_Data = pd.concat([dropped_heart_X_test, heart_y_test], axis=1)\n",
    "\n",
    "        TP = TN = FP = FN =0\n",
    "\n",
    "        for p in range(len(Test_Data)):\n",
    "            point=Test_Data.iloc[p]\n",
    "            NBRS=Nearest_Neighbors(point, Train_Data, genetic_weights[population] , \"num\")\n",
    "            Label=KNN(3,NBRS)\n",
    "            if (Label==point[\"num\"] and Label==1):\n",
    "                TP+=1\n",
    "            if (Label==point[\"num\"] and Label==0):\n",
    "                TN+=1\n",
    "            if (Label!=point[\"num\"] and Label==1):\n",
    "                FP+=1\n",
    "            if (Label!=point[\"num\"] and Label==0):\n",
    "                FN+=1\n",
    "        A_dropped_weighted=(TP+TN)/(TP+TN+FP+FN)\n",
    "\n",
    "        accuracy = A_dropped_weighted*100\n",
    "\n",
    "        accuracy_list.append(accuracy)\n",
    "\n",
    "        population_weights_with_accuracy = np.append(genetic_weights[population], accuracy)  # the current populations weight and its accuracy \n",
    "        print(\"This is population_weights_with_accuracy, \", population_weights_with_accuracy)\n",
    "        population_data.append(population_weights_with_accuracy)  # unsorted full generation data which holds weight and accuracy of each population\n",
    "        print(\"This is population_data, \", population_data)\n",
    "        population_data_sorted = sorted(population_data, key=lambda x: x[-1], reverse=True)  # sorted full generations \n",
    "        print(\"This is population_data_sorted, \", population_data_sorted)\n",
    "        pop_data_counter+=1\n",
    "    print(\"How many times pop data ,\" , pop_data_counter)\n",
    "\n",
    "    return population_data_sorted"
   ],
   "outputs": [],
   "execution_count": 80
  },
  {
   "cell_type": "code",
   "metadata": {
    "ExecuteTime": {
     "end_time": "2025-03-15T20:07:18.327984Z",
     "start_time": "2025-03-15T20:07:18.326279Z"
    }
   },
   "source": [
    "# def weight_manipulation(num_of_population,num_of_weights,weights):\n",
    "# \n",
    "#     genetic_weights = np.empty((num_of_population,num_of_weights))\n",
    "# \n",
    "#     np_weights = np.array(weights)\n",
    "# \n",
    "#     row, col = np_weights.shape\n",
    "# \n",
    "#     if(col == 0):\n",
    "# \n",
    "#         for i in range(0, np_weights.shape[0]):\n",
    "#             genetic_weights[i] = weights[i] * np.random.rand(np_weights.shape[i])\n",
    "# \n",
    "# \n",
    "#         genetic_weights = genetic_weights.reshape(-1,1)\n",
    "# \n",
    "#         return genetic_weights\n",
    "#     else :\n",
    "# \n",
    "#         for i in range(0, np_weights.shape[0]):\n",
    "#             genetic_weights[i] = weights[i] * np.random.rand(np_weights.shape[i])\n",
    "# \n",
    "# \n",
    "#     return genetic_weights"
   ],
   "outputs": [],
   "execution_count": 81
  },
  {
   "cell_type": "code",
   "metadata": {
    "ExecuteTime": {
     "end_time": "2025-03-15T20:07:46.623340Z",
     "start_time": "2025-03-15T20:07:18.371055Z"
    }
   },
   "source": [
    "num_of_population = 20\n",
    "num_of_weights = len(heart_swagger)\n",
    "\n",
    "generations = 1\n",
    "\n",
    "accuracy_list = []\n",
    "\n",
    "# Dictionary to hold generations data\n",
    "ig_generations_data = {}\n",
    "    \n",
    "for gen_num in range(generations):\n",
    "    \n",
    "    if gen_num == 0:\n",
    "\n",
    "        genetic_weights = weight_manipulation(num_of_population, num_of_weights,heart_swagger)\n",
    "        \n",
    "        population_data_sorted = get_weight_manipulated_acc(num_of_population, genetic_weights)\n",
    "        ig_generations_data[f'Generation_{gen_num + 1}'] = population_data_sorted\n",
    "    else :\n",
    "\n",
    "        population_data_sorted[-10:] = population_data_sorted[:10]\n",
    "\n",
    "        for i in range(num_of_population):\n",
    "            genetic_weights[i] = population_data_sorted[i][:7]\n",
    "\n",
    "        genetic_weights = weight_manipulation(num_of_population, num_of_weights, genetic_weights)\n",
    "\n",
    "        population_data_sorted = get_weight_manipulated_acc(num_of_population, genetic_weights)\n",
    "        ig_generations_data[f'Generation_{gen_num + 1}'] = population_data_sorted\n",
    "    \n",
    "    "
   ],
   "outputs": [
    {
     "name": "stdout",
     "output_type": "stream",
     "text": [
      "This is population_weights_with_accuracy,  [1.30065035e-02 1.62958284e-01 1.73741847e-02 1.36176705e-01\n",
      " 9.42000528e-02 6.44906212e-02 3.24721589e-01 6.77419355e+01]\n",
      "This is population_data,  [array([1.30065035e-02, 1.62958284e-01, 1.73741847e-02, 1.36176705e-01,\n",
      "       9.42000528e-02, 6.44906212e-02, 3.24721589e-01, 6.77419355e+01])]\n",
      "This is population_data_sorted,  [array([1.30065035e-02, 1.62958284e-01, 1.73741847e-02, 1.36176705e-01,\n",
      "       9.42000528e-02, 6.44906212e-02, 3.24721589e-01, 6.77419355e+01])]\n",
      "This is population_weights_with_accuracy,  [1.14600249e-01 1.29865196e-01 1.77698035e-02 1.26235936e-01\n",
      " 1.09289727e-01 8.81747082e-02 2.84727898e-01 7.63440860e+01]\n",
      "This is population_data,  [array([1.30065035e-02, 1.62958284e-01, 1.73741847e-02, 1.36176705e-01,\n",
      "       9.42000528e-02, 6.44906212e-02, 3.24721589e-01, 6.77419355e+01]), array([1.14600249e-01, 1.29865196e-01, 1.77698035e-02, 1.26235936e-01,\n",
      "       1.09289727e-01, 8.81747082e-02, 2.84727898e-01, 7.63440860e+01])]\n",
      "This is population_data_sorted,  [array([1.14600249e-01, 1.29865196e-01, 1.77698035e-02, 1.26235936e-01,\n",
      "       1.09289727e-01, 8.81747082e-02, 2.84727898e-01, 7.63440860e+01]), array([1.30065035e-02, 1.62958284e-01, 1.73741847e-02, 1.36176705e-01,\n",
      "       9.42000528e-02, 6.44906212e-02, 3.24721589e-01, 6.77419355e+01])]\n",
      "This is population_weights_with_accuracy,  [9.88156598e-03 2.19083319e-02 8.17861424e-02 5.60787733e-02\n",
      " 1.16859150e-01 8.10038125e-02 2.81256461e-02 7.25806452e+01]\n",
      "This is population_data,  [array([1.30065035e-02, 1.62958284e-01, 1.73741847e-02, 1.36176705e-01,\n",
      "       9.42000528e-02, 6.44906212e-02, 3.24721589e-01, 6.77419355e+01]), array([1.14600249e-01, 1.29865196e-01, 1.77698035e-02, 1.26235936e-01,\n",
      "       1.09289727e-01, 8.81747082e-02, 2.84727898e-01, 7.63440860e+01]), array([9.88156598e-03, 2.19083319e-02, 8.17861424e-02, 5.60787733e-02,\n",
      "       1.16859150e-01, 8.10038125e-02, 2.81256461e-02, 7.25806452e+01])]\n",
      "This is population_data_sorted,  [array([1.14600249e-01, 1.29865196e-01, 1.77698035e-02, 1.26235936e-01,\n",
      "       1.09289727e-01, 8.81747082e-02, 2.84727898e-01, 7.63440860e+01]), array([9.88156598e-03, 2.19083319e-02, 8.17861424e-02, 5.60787733e-02,\n",
      "       1.16859150e-01, 8.10038125e-02, 2.81256461e-02, 7.25806452e+01]), array([1.30065035e-02, 1.62958284e-01, 1.73741847e-02, 1.36176705e-01,\n",
      "       9.42000528e-02, 6.44906212e-02, 3.24721589e-01, 6.77419355e+01])]\n",
      "This is population_weights_with_accuracy,  [4.06842572e-02 1.34315358e-01 2.82330066e-02 1.17532483e-02\n",
      " 4.55300826e-02 1.51514715e-01 3.20006401e-01 6.93548387e+01]\n",
      "This is population_data,  [array([1.30065035e-02, 1.62958284e-01, 1.73741847e-02, 1.36176705e-01,\n",
      "       9.42000528e-02, 6.44906212e-02, 3.24721589e-01, 6.77419355e+01]), array([1.14600249e-01, 1.29865196e-01, 1.77698035e-02, 1.26235936e-01,\n",
      "       1.09289727e-01, 8.81747082e-02, 2.84727898e-01, 7.63440860e+01]), array([9.88156598e-03, 2.19083319e-02, 8.17861424e-02, 5.60787733e-02,\n",
      "       1.16859150e-01, 8.10038125e-02, 2.81256461e-02, 7.25806452e+01]), array([4.06842572e-02, 1.34315358e-01, 2.82330066e-02, 1.17532483e-02,\n",
      "       4.55300826e-02, 1.51514715e-01, 3.20006401e-01, 6.93548387e+01])]\n",
      "This is population_data_sorted,  [array([1.14600249e-01, 1.29865196e-01, 1.77698035e-02, 1.26235936e-01,\n",
      "       1.09289727e-01, 8.81747082e-02, 2.84727898e-01, 7.63440860e+01]), array([9.88156598e-03, 2.19083319e-02, 8.17861424e-02, 5.60787733e-02,\n",
      "       1.16859150e-01, 8.10038125e-02, 2.81256461e-02, 7.25806452e+01]), array([4.06842572e-02, 1.34315358e-01, 2.82330066e-02, 1.17532483e-02,\n",
      "       4.55300826e-02, 1.51514715e-01, 3.20006401e-01, 6.93548387e+01]), array([1.30065035e-02, 1.62958284e-01, 1.73741847e-02, 1.36176705e-01,\n",
      "       9.42000528e-02, 6.44906212e-02, 3.24721589e-01, 6.77419355e+01])]\n",
      "This is population_weights_with_accuracy,  [5.93992115e-02 7.72980625e-02 9.00508549e-02 8.68130139e-02\n",
      " 4.01010959e-02 5.30340116e-03 7.56796192e-03 7.04301075e+01]\n",
      "This is population_data,  [array([1.30065035e-02, 1.62958284e-01, 1.73741847e-02, 1.36176705e-01,\n",
      "       9.42000528e-02, 6.44906212e-02, 3.24721589e-01, 6.77419355e+01]), array([1.14600249e-01, 1.29865196e-01, 1.77698035e-02, 1.26235936e-01,\n",
      "       1.09289727e-01, 8.81747082e-02, 2.84727898e-01, 7.63440860e+01]), array([9.88156598e-03, 2.19083319e-02, 8.17861424e-02, 5.60787733e-02,\n",
      "       1.16859150e-01, 8.10038125e-02, 2.81256461e-02, 7.25806452e+01]), array([4.06842572e-02, 1.34315358e-01, 2.82330066e-02, 1.17532483e-02,\n",
      "       4.55300826e-02, 1.51514715e-01, 3.20006401e-01, 6.93548387e+01]), array([5.93992115e-02, 7.72980625e-02, 9.00508549e-02, 8.68130139e-02,\n",
      "       4.01010959e-02, 5.30340116e-03, 7.56796192e-03, 7.04301075e+01])]\n",
      "This is population_data_sorted,  [array([1.14600249e-01, 1.29865196e-01, 1.77698035e-02, 1.26235936e-01,\n",
      "       1.09289727e-01, 8.81747082e-02, 2.84727898e-01, 7.63440860e+01]), array([9.88156598e-03, 2.19083319e-02, 8.17861424e-02, 5.60787733e-02,\n",
      "       1.16859150e-01, 8.10038125e-02, 2.81256461e-02, 7.25806452e+01]), array([5.93992115e-02, 7.72980625e-02, 9.00508549e-02, 8.68130139e-02,\n",
      "       4.01010959e-02, 5.30340116e-03, 7.56796192e-03, 7.04301075e+01]), array([4.06842572e-02, 1.34315358e-01, 2.82330066e-02, 1.17532483e-02,\n",
      "       4.55300826e-02, 1.51514715e-01, 3.20006401e-01, 6.93548387e+01]), array([1.30065035e-02, 1.62958284e-01, 1.73741847e-02, 1.36176705e-01,\n",
      "       9.42000528e-02, 6.44906212e-02, 3.24721589e-01, 6.77419355e+01])]\n",
      "This is population_weights_with_accuracy,  [5.98910887e-02 6.95249485e-02 1.09990012e-01 1.74982175e-02\n",
      " 1.04484702e-01 1.42300933e-01 4.49196768e-02 7.47311828e+01]\n",
      "This is population_data,  [array([1.30065035e-02, 1.62958284e-01, 1.73741847e-02, 1.36176705e-01,\n",
      "       9.42000528e-02, 6.44906212e-02, 3.24721589e-01, 6.77419355e+01]), array([1.14600249e-01, 1.29865196e-01, 1.77698035e-02, 1.26235936e-01,\n",
      "       1.09289727e-01, 8.81747082e-02, 2.84727898e-01, 7.63440860e+01]), array([9.88156598e-03, 2.19083319e-02, 8.17861424e-02, 5.60787733e-02,\n",
      "       1.16859150e-01, 8.10038125e-02, 2.81256461e-02, 7.25806452e+01]), array([4.06842572e-02, 1.34315358e-01, 2.82330066e-02, 1.17532483e-02,\n",
      "       4.55300826e-02, 1.51514715e-01, 3.20006401e-01, 6.93548387e+01]), array([5.93992115e-02, 7.72980625e-02, 9.00508549e-02, 8.68130139e-02,\n",
      "       4.01010959e-02, 5.30340116e-03, 7.56796192e-03, 7.04301075e+01]), array([5.98910887e-02, 6.95249485e-02, 1.09990012e-01, 1.74982175e-02,\n",
      "       1.04484702e-01, 1.42300933e-01, 4.49196768e-02, 7.47311828e+01])]\n",
      "This is population_data_sorted,  [array([1.14600249e-01, 1.29865196e-01, 1.77698035e-02, 1.26235936e-01,\n",
      "       1.09289727e-01, 8.81747082e-02, 2.84727898e-01, 7.63440860e+01]), array([5.98910887e-02, 6.95249485e-02, 1.09990012e-01, 1.74982175e-02,\n",
      "       1.04484702e-01, 1.42300933e-01, 4.49196768e-02, 7.47311828e+01]), array([9.88156598e-03, 2.19083319e-02, 8.17861424e-02, 5.60787733e-02,\n",
      "       1.16859150e-01, 8.10038125e-02, 2.81256461e-02, 7.25806452e+01]), array([5.93992115e-02, 7.72980625e-02, 9.00508549e-02, 8.68130139e-02,\n",
      "       4.01010959e-02, 5.30340116e-03, 7.56796192e-03, 7.04301075e+01]), array([4.06842572e-02, 1.34315358e-01, 2.82330066e-02, 1.17532483e-02,\n",
      "       4.55300826e-02, 1.51514715e-01, 3.20006401e-01, 6.93548387e+01]), array([1.30065035e-02, 1.62958284e-01, 1.73741847e-02, 1.36176705e-01,\n",
      "       9.42000528e-02, 6.44906212e-02, 3.24721589e-01, 6.77419355e+01])]\n",
      "This is population_weights_with_accuracy,  [1.63071538e-01 1.58036238e-01 5.97787975e-02 7.18081781e-02\n",
      " 1.14256561e-01 8.70352650e-02 1.12516786e-01 7.58064516e+01]\n",
      "This is population_data,  [array([1.30065035e-02, 1.62958284e-01, 1.73741847e-02, 1.36176705e-01,\n",
      "       9.42000528e-02, 6.44906212e-02, 3.24721589e-01, 6.77419355e+01]), array([1.14600249e-01, 1.29865196e-01, 1.77698035e-02, 1.26235936e-01,\n",
      "       1.09289727e-01, 8.81747082e-02, 2.84727898e-01, 7.63440860e+01]), array([9.88156598e-03, 2.19083319e-02, 8.17861424e-02, 5.60787733e-02,\n",
      "       1.16859150e-01, 8.10038125e-02, 2.81256461e-02, 7.25806452e+01]), array([4.06842572e-02, 1.34315358e-01, 2.82330066e-02, 1.17532483e-02,\n",
      "       4.55300826e-02, 1.51514715e-01, 3.20006401e-01, 6.93548387e+01]), array([5.93992115e-02, 7.72980625e-02, 9.00508549e-02, 8.68130139e-02,\n",
      "       4.01010959e-02, 5.30340116e-03, 7.56796192e-03, 7.04301075e+01]), array([5.98910887e-02, 6.95249485e-02, 1.09990012e-01, 1.74982175e-02,\n",
      "       1.04484702e-01, 1.42300933e-01, 4.49196768e-02, 7.47311828e+01]), array([1.63071538e-01, 1.58036238e-01, 5.97787975e-02, 7.18081781e-02,\n",
      "       1.14256561e-01, 8.70352650e-02, 1.12516786e-01, 7.58064516e+01])]\n",
      "This is population_data_sorted,  [array([1.14600249e-01, 1.29865196e-01, 1.77698035e-02, 1.26235936e-01,\n",
      "       1.09289727e-01, 8.81747082e-02, 2.84727898e-01, 7.63440860e+01]), array([1.63071538e-01, 1.58036238e-01, 5.97787975e-02, 7.18081781e-02,\n",
      "       1.14256561e-01, 8.70352650e-02, 1.12516786e-01, 7.58064516e+01]), array([5.98910887e-02, 6.95249485e-02, 1.09990012e-01, 1.74982175e-02,\n",
      "       1.04484702e-01, 1.42300933e-01, 4.49196768e-02, 7.47311828e+01]), array([9.88156598e-03, 2.19083319e-02, 8.17861424e-02, 5.60787733e-02,\n",
      "       1.16859150e-01, 8.10038125e-02, 2.81256461e-02, 7.25806452e+01]), array([5.93992115e-02, 7.72980625e-02, 9.00508549e-02, 8.68130139e-02,\n",
      "       4.01010959e-02, 5.30340116e-03, 7.56796192e-03, 7.04301075e+01]), array([4.06842572e-02, 1.34315358e-01, 2.82330066e-02, 1.17532483e-02,\n",
      "       4.55300826e-02, 1.51514715e-01, 3.20006401e-01, 6.93548387e+01]), array([1.30065035e-02, 1.62958284e-01, 1.73741847e-02, 1.36176705e-01,\n",
      "       9.42000528e-02, 6.44906212e-02, 3.24721589e-01, 6.77419355e+01])]\n",
      "This is population_weights_with_accuracy,  [1.01761800e-01 2.58917692e-02 2.01929900e-03 1.19135703e-01\n",
      " 5.93722924e-02 3.89853239e-02 8.48502789e-02 7.74193548e+01]\n",
      "This is population_data,  [array([1.30065035e-02, 1.62958284e-01, 1.73741847e-02, 1.36176705e-01,\n",
      "       9.42000528e-02, 6.44906212e-02, 3.24721589e-01, 6.77419355e+01]), array([1.14600249e-01, 1.29865196e-01, 1.77698035e-02, 1.26235936e-01,\n",
      "       1.09289727e-01, 8.81747082e-02, 2.84727898e-01, 7.63440860e+01]), array([9.88156598e-03, 2.19083319e-02, 8.17861424e-02, 5.60787733e-02,\n",
      "       1.16859150e-01, 8.10038125e-02, 2.81256461e-02, 7.25806452e+01]), array([4.06842572e-02, 1.34315358e-01, 2.82330066e-02, 1.17532483e-02,\n",
      "       4.55300826e-02, 1.51514715e-01, 3.20006401e-01, 6.93548387e+01]), array([5.93992115e-02, 7.72980625e-02, 9.00508549e-02, 8.68130139e-02,\n",
      "       4.01010959e-02, 5.30340116e-03, 7.56796192e-03, 7.04301075e+01]), array([5.98910887e-02, 6.95249485e-02, 1.09990012e-01, 1.74982175e-02,\n",
      "       1.04484702e-01, 1.42300933e-01, 4.49196768e-02, 7.47311828e+01]), array([1.63071538e-01, 1.58036238e-01, 5.97787975e-02, 7.18081781e-02,\n",
      "       1.14256561e-01, 8.70352650e-02, 1.12516786e-01, 7.58064516e+01]), array([1.01761800e-01, 2.58917692e-02, 2.01929900e-03, 1.19135703e-01,\n",
      "       5.93722924e-02, 3.89853239e-02, 8.48502789e-02, 7.74193548e+01])]\n",
      "This is population_data_sorted,  [array([1.01761800e-01, 2.58917692e-02, 2.01929900e-03, 1.19135703e-01,\n",
      "       5.93722924e-02, 3.89853239e-02, 8.48502789e-02, 7.74193548e+01]), array([1.14600249e-01, 1.29865196e-01, 1.77698035e-02, 1.26235936e-01,\n",
      "       1.09289727e-01, 8.81747082e-02, 2.84727898e-01, 7.63440860e+01]), array([1.63071538e-01, 1.58036238e-01, 5.97787975e-02, 7.18081781e-02,\n",
      "       1.14256561e-01, 8.70352650e-02, 1.12516786e-01, 7.58064516e+01]), array([5.98910887e-02, 6.95249485e-02, 1.09990012e-01, 1.74982175e-02,\n",
      "       1.04484702e-01, 1.42300933e-01, 4.49196768e-02, 7.47311828e+01]), array([9.88156598e-03, 2.19083319e-02, 8.17861424e-02, 5.60787733e-02,\n",
      "       1.16859150e-01, 8.10038125e-02, 2.81256461e-02, 7.25806452e+01]), array([5.93992115e-02, 7.72980625e-02, 9.00508549e-02, 8.68130139e-02,\n",
      "       4.01010959e-02, 5.30340116e-03, 7.56796192e-03, 7.04301075e+01]), array([4.06842572e-02, 1.34315358e-01, 2.82330066e-02, 1.17532483e-02,\n",
      "       4.55300826e-02, 1.51514715e-01, 3.20006401e-01, 6.93548387e+01]), array([1.30065035e-02, 1.62958284e-01, 1.73741847e-02, 1.36176705e-01,\n",
      "       9.42000528e-02, 6.44906212e-02, 3.24721589e-01, 6.77419355e+01])]\n",
      "This is population_weights_with_accuracy,  [2.36734699e-03 1.73405535e-01 5.48550928e-02 1.33199096e-01\n",
      " 8.30766963e-02 1.38145550e-01 1.46012032e-01 6.88172043e+01]\n",
      "This is population_data,  [array([1.30065035e-02, 1.62958284e-01, 1.73741847e-02, 1.36176705e-01,\n",
      "       9.42000528e-02, 6.44906212e-02, 3.24721589e-01, 6.77419355e+01]), array([1.14600249e-01, 1.29865196e-01, 1.77698035e-02, 1.26235936e-01,\n",
      "       1.09289727e-01, 8.81747082e-02, 2.84727898e-01, 7.63440860e+01]), array([9.88156598e-03, 2.19083319e-02, 8.17861424e-02, 5.60787733e-02,\n",
      "       1.16859150e-01, 8.10038125e-02, 2.81256461e-02, 7.25806452e+01]), array([4.06842572e-02, 1.34315358e-01, 2.82330066e-02, 1.17532483e-02,\n",
      "       4.55300826e-02, 1.51514715e-01, 3.20006401e-01, 6.93548387e+01]), array([5.93992115e-02, 7.72980625e-02, 9.00508549e-02, 8.68130139e-02,\n",
      "       4.01010959e-02, 5.30340116e-03, 7.56796192e-03, 7.04301075e+01]), array([5.98910887e-02, 6.95249485e-02, 1.09990012e-01, 1.74982175e-02,\n",
      "       1.04484702e-01, 1.42300933e-01, 4.49196768e-02, 7.47311828e+01]), array([1.63071538e-01, 1.58036238e-01, 5.97787975e-02, 7.18081781e-02,\n",
      "       1.14256561e-01, 8.70352650e-02, 1.12516786e-01, 7.58064516e+01]), array([1.01761800e-01, 2.58917692e-02, 2.01929900e-03, 1.19135703e-01,\n",
      "       5.93722924e-02, 3.89853239e-02, 8.48502789e-02, 7.74193548e+01]), array([2.36734699e-03, 1.73405535e-01, 5.48550928e-02, 1.33199096e-01,\n",
      "       8.30766963e-02, 1.38145550e-01, 1.46012032e-01, 6.88172043e+01])]\n",
      "This is population_data_sorted,  [array([1.01761800e-01, 2.58917692e-02, 2.01929900e-03, 1.19135703e-01,\n",
      "       5.93722924e-02, 3.89853239e-02, 8.48502789e-02, 7.74193548e+01]), array([1.14600249e-01, 1.29865196e-01, 1.77698035e-02, 1.26235936e-01,\n",
      "       1.09289727e-01, 8.81747082e-02, 2.84727898e-01, 7.63440860e+01]), array([1.63071538e-01, 1.58036238e-01, 5.97787975e-02, 7.18081781e-02,\n",
      "       1.14256561e-01, 8.70352650e-02, 1.12516786e-01, 7.58064516e+01]), array([5.98910887e-02, 6.95249485e-02, 1.09990012e-01, 1.74982175e-02,\n",
      "       1.04484702e-01, 1.42300933e-01, 4.49196768e-02, 7.47311828e+01]), array([9.88156598e-03, 2.19083319e-02, 8.17861424e-02, 5.60787733e-02,\n",
      "       1.16859150e-01, 8.10038125e-02, 2.81256461e-02, 7.25806452e+01]), array([5.93992115e-02, 7.72980625e-02, 9.00508549e-02, 8.68130139e-02,\n",
      "       4.01010959e-02, 5.30340116e-03, 7.56796192e-03, 7.04301075e+01]), array([4.06842572e-02, 1.34315358e-01, 2.82330066e-02, 1.17532483e-02,\n",
      "       4.55300826e-02, 1.51514715e-01, 3.20006401e-01, 6.93548387e+01]), array([2.36734699e-03, 1.73405535e-01, 5.48550928e-02, 1.33199096e-01,\n",
      "       8.30766963e-02, 1.38145550e-01, 1.46012032e-01, 6.88172043e+01]), array([1.30065035e-02, 1.62958284e-01, 1.73741847e-02, 1.36176705e-01,\n",
      "       9.42000528e-02, 6.44906212e-02, 3.24721589e-01, 6.77419355e+01])]\n",
      "This is population_weights_with_accuracy,  [3.44495309e-02 2.72623079e-02 1.05237398e-01 1.00282362e-01\n",
      " 6.48016138e-02 1.55447742e-02 3.91278461e-02 7.63440860e+01]\n",
      "This is population_data,  [array([1.30065035e-02, 1.62958284e-01, 1.73741847e-02, 1.36176705e-01,\n",
      "       9.42000528e-02, 6.44906212e-02, 3.24721589e-01, 6.77419355e+01]), array([1.14600249e-01, 1.29865196e-01, 1.77698035e-02, 1.26235936e-01,\n",
      "       1.09289727e-01, 8.81747082e-02, 2.84727898e-01, 7.63440860e+01]), array([9.88156598e-03, 2.19083319e-02, 8.17861424e-02, 5.60787733e-02,\n",
      "       1.16859150e-01, 8.10038125e-02, 2.81256461e-02, 7.25806452e+01]), array([4.06842572e-02, 1.34315358e-01, 2.82330066e-02, 1.17532483e-02,\n",
      "       4.55300826e-02, 1.51514715e-01, 3.20006401e-01, 6.93548387e+01]), array([5.93992115e-02, 7.72980625e-02, 9.00508549e-02, 8.68130139e-02,\n",
      "       4.01010959e-02, 5.30340116e-03, 7.56796192e-03, 7.04301075e+01]), array([5.98910887e-02, 6.95249485e-02, 1.09990012e-01, 1.74982175e-02,\n",
      "       1.04484702e-01, 1.42300933e-01, 4.49196768e-02, 7.47311828e+01]), array([1.63071538e-01, 1.58036238e-01, 5.97787975e-02, 7.18081781e-02,\n",
      "       1.14256561e-01, 8.70352650e-02, 1.12516786e-01, 7.58064516e+01]), array([1.01761800e-01, 2.58917692e-02, 2.01929900e-03, 1.19135703e-01,\n",
      "       5.93722924e-02, 3.89853239e-02, 8.48502789e-02, 7.74193548e+01]), array([2.36734699e-03, 1.73405535e-01, 5.48550928e-02, 1.33199096e-01,\n",
      "       8.30766963e-02, 1.38145550e-01, 1.46012032e-01, 6.88172043e+01]), array([3.44495309e-02, 2.72623079e-02, 1.05237398e-01, 1.00282362e-01,\n",
      "       6.48016138e-02, 1.55447742e-02, 3.91278461e-02, 7.63440860e+01])]\n",
      "This is population_data_sorted,  [array([1.01761800e-01, 2.58917692e-02, 2.01929900e-03, 1.19135703e-01,\n",
      "       5.93722924e-02, 3.89853239e-02, 8.48502789e-02, 7.74193548e+01]), array([1.14600249e-01, 1.29865196e-01, 1.77698035e-02, 1.26235936e-01,\n",
      "       1.09289727e-01, 8.81747082e-02, 2.84727898e-01, 7.63440860e+01]), array([3.44495309e-02, 2.72623079e-02, 1.05237398e-01, 1.00282362e-01,\n",
      "       6.48016138e-02, 1.55447742e-02, 3.91278461e-02, 7.63440860e+01]), array([1.63071538e-01, 1.58036238e-01, 5.97787975e-02, 7.18081781e-02,\n",
      "       1.14256561e-01, 8.70352650e-02, 1.12516786e-01, 7.58064516e+01]), array([5.98910887e-02, 6.95249485e-02, 1.09990012e-01, 1.74982175e-02,\n",
      "       1.04484702e-01, 1.42300933e-01, 4.49196768e-02, 7.47311828e+01]), array([9.88156598e-03, 2.19083319e-02, 8.17861424e-02, 5.60787733e-02,\n",
      "       1.16859150e-01, 8.10038125e-02, 2.81256461e-02, 7.25806452e+01]), array([5.93992115e-02, 7.72980625e-02, 9.00508549e-02, 8.68130139e-02,\n",
      "       4.01010959e-02, 5.30340116e-03, 7.56796192e-03, 7.04301075e+01]), array([4.06842572e-02, 1.34315358e-01, 2.82330066e-02, 1.17532483e-02,\n",
      "       4.55300826e-02, 1.51514715e-01, 3.20006401e-01, 6.93548387e+01]), array([2.36734699e-03, 1.73405535e-01, 5.48550928e-02, 1.33199096e-01,\n",
      "       8.30766963e-02, 1.38145550e-01, 1.46012032e-01, 6.88172043e+01]), array([1.30065035e-02, 1.62958284e-01, 1.73741847e-02, 1.36176705e-01,\n",
      "       9.42000528e-02, 6.44906212e-02, 3.24721589e-01, 6.77419355e+01])]\n",
      "This is population_weights_with_accuracy,  [1.36738617e-02 1.35948842e-01 8.22936496e-02 6.69230701e-02\n",
      " 5.36966622e-02 5.37517226e-02 1.45165873e-02 6.82795699e+01]\n",
      "This is population_data,  [array([1.30065035e-02, 1.62958284e-01, 1.73741847e-02, 1.36176705e-01,\n",
      "       9.42000528e-02, 6.44906212e-02, 3.24721589e-01, 6.77419355e+01]), array([1.14600249e-01, 1.29865196e-01, 1.77698035e-02, 1.26235936e-01,\n",
      "       1.09289727e-01, 8.81747082e-02, 2.84727898e-01, 7.63440860e+01]), array([9.88156598e-03, 2.19083319e-02, 8.17861424e-02, 5.60787733e-02,\n",
      "       1.16859150e-01, 8.10038125e-02, 2.81256461e-02, 7.25806452e+01]), array([4.06842572e-02, 1.34315358e-01, 2.82330066e-02, 1.17532483e-02,\n",
      "       4.55300826e-02, 1.51514715e-01, 3.20006401e-01, 6.93548387e+01]), array([5.93992115e-02, 7.72980625e-02, 9.00508549e-02, 8.68130139e-02,\n",
      "       4.01010959e-02, 5.30340116e-03, 7.56796192e-03, 7.04301075e+01]), array([5.98910887e-02, 6.95249485e-02, 1.09990012e-01, 1.74982175e-02,\n",
      "       1.04484702e-01, 1.42300933e-01, 4.49196768e-02, 7.47311828e+01]), array([1.63071538e-01, 1.58036238e-01, 5.97787975e-02, 7.18081781e-02,\n",
      "       1.14256561e-01, 8.70352650e-02, 1.12516786e-01, 7.58064516e+01]), array([1.01761800e-01, 2.58917692e-02, 2.01929900e-03, 1.19135703e-01,\n",
      "       5.93722924e-02, 3.89853239e-02, 8.48502789e-02, 7.74193548e+01]), array([2.36734699e-03, 1.73405535e-01, 5.48550928e-02, 1.33199096e-01,\n",
      "       8.30766963e-02, 1.38145550e-01, 1.46012032e-01, 6.88172043e+01]), array([3.44495309e-02, 2.72623079e-02, 1.05237398e-01, 1.00282362e-01,\n",
      "       6.48016138e-02, 1.55447742e-02, 3.91278461e-02, 7.63440860e+01]), array([1.36738617e-02, 1.35948842e-01, 8.22936496e-02, 6.69230701e-02,\n",
      "       5.36966622e-02, 5.37517226e-02, 1.45165873e-02, 6.82795699e+01])]\n",
      "This is population_data_sorted,  [array([1.01761800e-01, 2.58917692e-02, 2.01929900e-03, 1.19135703e-01,\n",
      "       5.93722924e-02, 3.89853239e-02, 8.48502789e-02, 7.74193548e+01]), array([1.14600249e-01, 1.29865196e-01, 1.77698035e-02, 1.26235936e-01,\n",
      "       1.09289727e-01, 8.81747082e-02, 2.84727898e-01, 7.63440860e+01]), array([3.44495309e-02, 2.72623079e-02, 1.05237398e-01, 1.00282362e-01,\n",
      "       6.48016138e-02, 1.55447742e-02, 3.91278461e-02, 7.63440860e+01]), array([1.63071538e-01, 1.58036238e-01, 5.97787975e-02, 7.18081781e-02,\n",
      "       1.14256561e-01, 8.70352650e-02, 1.12516786e-01, 7.58064516e+01]), array([5.98910887e-02, 6.95249485e-02, 1.09990012e-01, 1.74982175e-02,\n",
      "       1.04484702e-01, 1.42300933e-01, 4.49196768e-02, 7.47311828e+01]), array([9.88156598e-03, 2.19083319e-02, 8.17861424e-02, 5.60787733e-02,\n",
      "       1.16859150e-01, 8.10038125e-02, 2.81256461e-02, 7.25806452e+01]), array([5.93992115e-02, 7.72980625e-02, 9.00508549e-02, 8.68130139e-02,\n",
      "       4.01010959e-02, 5.30340116e-03, 7.56796192e-03, 7.04301075e+01]), array([4.06842572e-02, 1.34315358e-01, 2.82330066e-02, 1.17532483e-02,\n",
      "       4.55300826e-02, 1.51514715e-01, 3.20006401e-01, 6.93548387e+01]), array([2.36734699e-03, 1.73405535e-01, 5.48550928e-02, 1.33199096e-01,\n",
      "       8.30766963e-02, 1.38145550e-01, 1.46012032e-01, 6.88172043e+01]), array([1.36738617e-02, 1.35948842e-01, 8.22936496e-02, 6.69230701e-02,\n",
      "       5.36966622e-02, 5.37517226e-02, 1.45165873e-02, 6.82795699e+01]), array([1.30065035e-02, 1.62958284e-01, 1.73741847e-02, 1.36176705e-01,\n",
      "       9.42000528e-02, 6.44906212e-02, 3.24721589e-01, 6.77419355e+01])]\n",
      "This is population_weights_with_accuracy,  [4.17809489e-02 3.70986920e-02 2.88180438e-02 4.57753620e-02\n",
      " 5.67455562e-02 1.55140128e-01 5.84124706e-03 7.41935484e+01]\n",
      "This is population_data,  [array([1.30065035e-02, 1.62958284e-01, 1.73741847e-02, 1.36176705e-01,\n",
      "       9.42000528e-02, 6.44906212e-02, 3.24721589e-01, 6.77419355e+01]), array([1.14600249e-01, 1.29865196e-01, 1.77698035e-02, 1.26235936e-01,\n",
      "       1.09289727e-01, 8.81747082e-02, 2.84727898e-01, 7.63440860e+01]), array([9.88156598e-03, 2.19083319e-02, 8.17861424e-02, 5.60787733e-02,\n",
      "       1.16859150e-01, 8.10038125e-02, 2.81256461e-02, 7.25806452e+01]), array([4.06842572e-02, 1.34315358e-01, 2.82330066e-02, 1.17532483e-02,\n",
      "       4.55300826e-02, 1.51514715e-01, 3.20006401e-01, 6.93548387e+01]), array([5.93992115e-02, 7.72980625e-02, 9.00508549e-02, 8.68130139e-02,\n",
      "       4.01010959e-02, 5.30340116e-03, 7.56796192e-03, 7.04301075e+01]), array([5.98910887e-02, 6.95249485e-02, 1.09990012e-01, 1.74982175e-02,\n",
      "       1.04484702e-01, 1.42300933e-01, 4.49196768e-02, 7.47311828e+01]), array([1.63071538e-01, 1.58036238e-01, 5.97787975e-02, 7.18081781e-02,\n",
      "       1.14256561e-01, 8.70352650e-02, 1.12516786e-01, 7.58064516e+01]), array([1.01761800e-01, 2.58917692e-02, 2.01929900e-03, 1.19135703e-01,\n",
      "       5.93722924e-02, 3.89853239e-02, 8.48502789e-02, 7.74193548e+01]), array([2.36734699e-03, 1.73405535e-01, 5.48550928e-02, 1.33199096e-01,\n",
      "       8.30766963e-02, 1.38145550e-01, 1.46012032e-01, 6.88172043e+01]), array([3.44495309e-02, 2.72623079e-02, 1.05237398e-01, 1.00282362e-01,\n",
      "       6.48016138e-02, 1.55447742e-02, 3.91278461e-02, 7.63440860e+01]), array([1.36738617e-02, 1.35948842e-01, 8.22936496e-02, 6.69230701e-02,\n",
      "       5.36966622e-02, 5.37517226e-02, 1.45165873e-02, 6.82795699e+01]), array([4.17809489e-02, 3.70986920e-02, 2.88180438e-02, 4.57753620e-02,\n",
      "       5.67455562e-02, 1.55140128e-01, 5.84124706e-03, 7.41935484e+01])]\n",
      "This is population_data_sorted,  [array([1.01761800e-01, 2.58917692e-02, 2.01929900e-03, 1.19135703e-01,\n",
      "       5.93722924e-02, 3.89853239e-02, 8.48502789e-02, 7.74193548e+01]), array([1.14600249e-01, 1.29865196e-01, 1.77698035e-02, 1.26235936e-01,\n",
      "       1.09289727e-01, 8.81747082e-02, 2.84727898e-01, 7.63440860e+01]), array([3.44495309e-02, 2.72623079e-02, 1.05237398e-01, 1.00282362e-01,\n",
      "       6.48016138e-02, 1.55447742e-02, 3.91278461e-02, 7.63440860e+01]), array([1.63071538e-01, 1.58036238e-01, 5.97787975e-02, 7.18081781e-02,\n",
      "       1.14256561e-01, 8.70352650e-02, 1.12516786e-01, 7.58064516e+01]), array([5.98910887e-02, 6.95249485e-02, 1.09990012e-01, 1.74982175e-02,\n",
      "       1.04484702e-01, 1.42300933e-01, 4.49196768e-02, 7.47311828e+01]), array([4.17809489e-02, 3.70986920e-02, 2.88180438e-02, 4.57753620e-02,\n",
      "       5.67455562e-02, 1.55140128e-01, 5.84124706e-03, 7.41935484e+01]), array([9.88156598e-03, 2.19083319e-02, 8.17861424e-02, 5.60787733e-02,\n",
      "       1.16859150e-01, 8.10038125e-02, 2.81256461e-02, 7.25806452e+01]), array([5.93992115e-02, 7.72980625e-02, 9.00508549e-02, 8.68130139e-02,\n",
      "       4.01010959e-02, 5.30340116e-03, 7.56796192e-03, 7.04301075e+01]), array([4.06842572e-02, 1.34315358e-01, 2.82330066e-02, 1.17532483e-02,\n",
      "       4.55300826e-02, 1.51514715e-01, 3.20006401e-01, 6.93548387e+01]), array([2.36734699e-03, 1.73405535e-01, 5.48550928e-02, 1.33199096e-01,\n",
      "       8.30766963e-02, 1.38145550e-01, 1.46012032e-01, 6.88172043e+01]), array([1.36738617e-02, 1.35948842e-01, 8.22936496e-02, 6.69230701e-02,\n",
      "       5.36966622e-02, 5.37517226e-02, 1.45165873e-02, 6.82795699e+01]), array([1.30065035e-02, 1.62958284e-01, 1.73741847e-02, 1.36176705e-01,\n",
      "       9.42000528e-02, 6.44906212e-02, 3.24721589e-01, 6.77419355e+01])]\n",
      "This is population_weights_with_accuracy,  [1.36192188e-01 1.64072745e-01 3.67684575e-02 1.08007788e-01\n",
      " 1.14503463e-01 8.97362015e-02 2.27111198e-01 7.63440860e+01]\n",
      "This is population_data,  [array([1.30065035e-02, 1.62958284e-01, 1.73741847e-02, 1.36176705e-01,\n",
      "       9.42000528e-02, 6.44906212e-02, 3.24721589e-01, 6.77419355e+01]), array([1.14600249e-01, 1.29865196e-01, 1.77698035e-02, 1.26235936e-01,\n",
      "       1.09289727e-01, 8.81747082e-02, 2.84727898e-01, 7.63440860e+01]), array([9.88156598e-03, 2.19083319e-02, 8.17861424e-02, 5.60787733e-02,\n",
      "       1.16859150e-01, 8.10038125e-02, 2.81256461e-02, 7.25806452e+01]), array([4.06842572e-02, 1.34315358e-01, 2.82330066e-02, 1.17532483e-02,\n",
      "       4.55300826e-02, 1.51514715e-01, 3.20006401e-01, 6.93548387e+01]), array([5.93992115e-02, 7.72980625e-02, 9.00508549e-02, 8.68130139e-02,\n",
      "       4.01010959e-02, 5.30340116e-03, 7.56796192e-03, 7.04301075e+01]), array([5.98910887e-02, 6.95249485e-02, 1.09990012e-01, 1.74982175e-02,\n",
      "       1.04484702e-01, 1.42300933e-01, 4.49196768e-02, 7.47311828e+01]), array([1.63071538e-01, 1.58036238e-01, 5.97787975e-02, 7.18081781e-02,\n",
      "       1.14256561e-01, 8.70352650e-02, 1.12516786e-01, 7.58064516e+01]), array([1.01761800e-01, 2.58917692e-02, 2.01929900e-03, 1.19135703e-01,\n",
      "       5.93722924e-02, 3.89853239e-02, 8.48502789e-02, 7.74193548e+01]), array([2.36734699e-03, 1.73405535e-01, 5.48550928e-02, 1.33199096e-01,\n",
      "       8.30766963e-02, 1.38145550e-01, 1.46012032e-01, 6.88172043e+01]), array([3.44495309e-02, 2.72623079e-02, 1.05237398e-01, 1.00282362e-01,\n",
      "       6.48016138e-02, 1.55447742e-02, 3.91278461e-02, 7.63440860e+01]), array([1.36738617e-02, 1.35948842e-01, 8.22936496e-02, 6.69230701e-02,\n",
      "       5.36966622e-02, 5.37517226e-02, 1.45165873e-02, 6.82795699e+01]), array([4.17809489e-02, 3.70986920e-02, 2.88180438e-02, 4.57753620e-02,\n",
      "       5.67455562e-02, 1.55140128e-01, 5.84124706e-03, 7.41935484e+01]), array([1.36192188e-01, 1.64072745e-01, 3.67684575e-02, 1.08007788e-01,\n",
      "       1.14503463e-01, 8.97362015e-02, 2.27111198e-01, 7.63440860e+01])]\n",
      "This is population_data_sorted,  [array([1.01761800e-01, 2.58917692e-02, 2.01929900e-03, 1.19135703e-01,\n",
      "       5.93722924e-02, 3.89853239e-02, 8.48502789e-02, 7.74193548e+01]), array([1.14600249e-01, 1.29865196e-01, 1.77698035e-02, 1.26235936e-01,\n",
      "       1.09289727e-01, 8.81747082e-02, 2.84727898e-01, 7.63440860e+01]), array([3.44495309e-02, 2.72623079e-02, 1.05237398e-01, 1.00282362e-01,\n",
      "       6.48016138e-02, 1.55447742e-02, 3.91278461e-02, 7.63440860e+01]), array([1.36192188e-01, 1.64072745e-01, 3.67684575e-02, 1.08007788e-01,\n",
      "       1.14503463e-01, 8.97362015e-02, 2.27111198e-01, 7.63440860e+01]), array([1.63071538e-01, 1.58036238e-01, 5.97787975e-02, 7.18081781e-02,\n",
      "       1.14256561e-01, 8.70352650e-02, 1.12516786e-01, 7.58064516e+01]), array([5.98910887e-02, 6.95249485e-02, 1.09990012e-01, 1.74982175e-02,\n",
      "       1.04484702e-01, 1.42300933e-01, 4.49196768e-02, 7.47311828e+01]), array([4.17809489e-02, 3.70986920e-02, 2.88180438e-02, 4.57753620e-02,\n",
      "       5.67455562e-02, 1.55140128e-01, 5.84124706e-03, 7.41935484e+01]), array([9.88156598e-03, 2.19083319e-02, 8.17861424e-02, 5.60787733e-02,\n",
      "       1.16859150e-01, 8.10038125e-02, 2.81256461e-02, 7.25806452e+01]), array([5.93992115e-02, 7.72980625e-02, 9.00508549e-02, 8.68130139e-02,\n",
      "       4.01010959e-02, 5.30340116e-03, 7.56796192e-03, 7.04301075e+01]), array([4.06842572e-02, 1.34315358e-01, 2.82330066e-02, 1.17532483e-02,\n",
      "       4.55300826e-02, 1.51514715e-01, 3.20006401e-01, 6.93548387e+01]), array([2.36734699e-03, 1.73405535e-01, 5.48550928e-02, 1.33199096e-01,\n",
      "       8.30766963e-02, 1.38145550e-01, 1.46012032e-01, 6.88172043e+01]), array([1.36738617e-02, 1.35948842e-01, 8.22936496e-02, 6.69230701e-02,\n",
      "       5.36966622e-02, 5.37517226e-02, 1.45165873e-02, 6.82795699e+01]), array([1.30065035e-02, 1.62958284e-01, 1.73741847e-02, 1.36176705e-01,\n",
      "       9.42000528e-02, 6.44906212e-02, 3.24721589e-01, 6.77419355e+01])]\n",
      "This is population_weights_with_accuracy,  [4.07463027e-02 1.93161543e-02 8.23084001e-02 1.01827500e-01\n",
      " 7.25395039e-02 1.96459173e-01 8.29563562e-02 7.74193548e+01]\n",
      "This is population_data,  [array([1.30065035e-02, 1.62958284e-01, 1.73741847e-02, 1.36176705e-01,\n",
      "       9.42000528e-02, 6.44906212e-02, 3.24721589e-01, 6.77419355e+01]), array([1.14600249e-01, 1.29865196e-01, 1.77698035e-02, 1.26235936e-01,\n",
      "       1.09289727e-01, 8.81747082e-02, 2.84727898e-01, 7.63440860e+01]), array([9.88156598e-03, 2.19083319e-02, 8.17861424e-02, 5.60787733e-02,\n",
      "       1.16859150e-01, 8.10038125e-02, 2.81256461e-02, 7.25806452e+01]), array([4.06842572e-02, 1.34315358e-01, 2.82330066e-02, 1.17532483e-02,\n",
      "       4.55300826e-02, 1.51514715e-01, 3.20006401e-01, 6.93548387e+01]), array([5.93992115e-02, 7.72980625e-02, 9.00508549e-02, 8.68130139e-02,\n",
      "       4.01010959e-02, 5.30340116e-03, 7.56796192e-03, 7.04301075e+01]), array([5.98910887e-02, 6.95249485e-02, 1.09990012e-01, 1.74982175e-02,\n",
      "       1.04484702e-01, 1.42300933e-01, 4.49196768e-02, 7.47311828e+01]), array([1.63071538e-01, 1.58036238e-01, 5.97787975e-02, 7.18081781e-02,\n",
      "       1.14256561e-01, 8.70352650e-02, 1.12516786e-01, 7.58064516e+01]), array([1.01761800e-01, 2.58917692e-02, 2.01929900e-03, 1.19135703e-01,\n",
      "       5.93722924e-02, 3.89853239e-02, 8.48502789e-02, 7.74193548e+01]), array([2.36734699e-03, 1.73405535e-01, 5.48550928e-02, 1.33199096e-01,\n",
      "       8.30766963e-02, 1.38145550e-01, 1.46012032e-01, 6.88172043e+01]), array([3.44495309e-02, 2.72623079e-02, 1.05237398e-01, 1.00282362e-01,\n",
      "       6.48016138e-02, 1.55447742e-02, 3.91278461e-02, 7.63440860e+01]), array([1.36738617e-02, 1.35948842e-01, 8.22936496e-02, 6.69230701e-02,\n",
      "       5.36966622e-02, 5.37517226e-02, 1.45165873e-02, 6.82795699e+01]), array([4.17809489e-02, 3.70986920e-02, 2.88180438e-02, 4.57753620e-02,\n",
      "       5.67455562e-02, 1.55140128e-01, 5.84124706e-03, 7.41935484e+01]), array([1.36192188e-01, 1.64072745e-01, 3.67684575e-02, 1.08007788e-01,\n",
      "       1.14503463e-01, 8.97362015e-02, 2.27111198e-01, 7.63440860e+01]), array([4.07463027e-02, 1.93161543e-02, 8.23084001e-02, 1.01827500e-01,\n",
      "       7.25395039e-02, 1.96459173e-01, 8.29563562e-02, 7.74193548e+01])]\n",
      "This is population_data_sorted,  [array([1.01761800e-01, 2.58917692e-02, 2.01929900e-03, 1.19135703e-01,\n",
      "       5.93722924e-02, 3.89853239e-02, 8.48502789e-02, 7.74193548e+01]), array([4.07463027e-02, 1.93161543e-02, 8.23084001e-02, 1.01827500e-01,\n",
      "       7.25395039e-02, 1.96459173e-01, 8.29563562e-02, 7.74193548e+01]), array([1.14600249e-01, 1.29865196e-01, 1.77698035e-02, 1.26235936e-01,\n",
      "       1.09289727e-01, 8.81747082e-02, 2.84727898e-01, 7.63440860e+01]), array([3.44495309e-02, 2.72623079e-02, 1.05237398e-01, 1.00282362e-01,\n",
      "       6.48016138e-02, 1.55447742e-02, 3.91278461e-02, 7.63440860e+01]), array([1.36192188e-01, 1.64072745e-01, 3.67684575e-02, 1.08007788e-01,\n",
      "       1.14503463e-01, 8.97362015e-02, 2.27111198e-01, 7.63440860e+01]), array([1.63071538e-01, 1.58036238e-01, 5.97787975e-02, 7.18081781e-02,\n",
      "       1.14256561e-01, 8.70352650e-02, 1.12516786e-01, 7.58064516e+01]), array([5.98910887e-02, 6.95249485e-02, 1.09990012e-01, 1.74982175e-02,\n",
      "       1.04484702e-01, 1.42300933e-01, 4.49196768e-02, 7.47311828e+01]), array([4.17809489e-02, 3.70986920e-02, 2.88180438e-02, 4.57753620e-02,\n",
      "       5.67455562e-02, 1.55140128e-01, 5.84124706e-03, 7.41935484e+01]), array([9.88156598e-03, 2.19083319e-02, 8.17861424e-02, 5.60787733e-02,\n",
      "       1.16859150e-01, 8.10038125e-02, 2.81256461e-02, 7.25806452e+01]), array([5.93992115e-02, 7.72980625e-02, 9.00508549e-02, 8.68130139e-02,\n",
      "       4.01010959e-02, 5.30340116e-03, 7.56796192e-03, 7.04301075e+01]), array([4.06842572e-02, 1.34315358e-01, 2.82330066e-02, 1.17532483e-02,\n",
      "       4.55300826e-02, 1.51514715e-01, 3.20006401e-01, 6.93548387e+01]), array([2.36734699e-03, 1.73405535e-01, 5.48550928e-02, 1.33199096e-01,\n",
      "       8.30766963e-02, 1.38145550e-01, 1.46012032e-01, 6.88172043e+01]), array([1.36738617e-02, 1.35948842e-01, 8.22936496e-02, 6.69230701e-02,\n",
      "       5.36966622e-02, 5.37517226e-02, 1.45165873e-02, 6.82795699e+01]), array([1.30065035e-02, 1.62958284e-01, 1.73741847e-02, 1.36176705e-01,\n",
      "       9.42000528e-02, 6.44906212e-02, 3.24721589e-01, 6.77419355e+01])]\n",
      "This is population_weights_with_accuracy,  [1.70339918e-01 2.97583613e-02 3.78093854e-03 4.80024685e-02\n",
      " 1.77057117e-02 3.03683362e-03 1.40995814e-02 7.15053763e+01]\n",
      "This is population_data,  [array([1.30065035e-02, 1.62958284e-01, 1.73741847e-02, 1.36176705e-01,\n",
      "       9.42000528e-02, 6.44906212e-02, 3.24721589e-01, 6.77419355e+01]), array([1.14600249e-01, 1.29865196e-01, 1.77698035e-02, 1.26235936e-01,\n",
      "       1.09289727e-01, 8.81747082e-02, 2.84727898e-01, 7.63440860e+01]), array([9.88156598e-03, 2.19083319e-02, 8.17861424e-02, 5.60787733e-02,\n",
      "       1.16859150e-01, 8.10038125e-02, 2.81256461e-02, 7.25806452e+01]), array([4.06842572e-02, 1.34315358e-01, 2.82330066e-02, 1.17532483e-02,\n",
      "       4.55300826e-02, 1.51514715e-01, 3.20006401e-01, 6.93548387e+01]), array([5.93992115e-02, 7.72980625e-02, 9.00508549e-02, 8.68130139e-02,\n",
      "       4.01010959e-02, 5.30340116e-03, 7.56796192e-03, 7.04301075e+01]), array([5.98910887e-02, 6.95249485e-02, 1.09990012e-01, 1.74982175e-02,\n",
      "       1.04484702e-01, 1.42300933e-01, 4.49196768e-02, 7.47311828e+01]), array([1.63071538e-01, 1.58036238e-01, 5.97787975e-02, 7.18081781e-02,\n",
      "       1.14256561e-01, 8.70352650e-02, 1.12516786e-01, 7.58064516e+01]), array([1.01761800e-01, 2.58917692e-02, 2.01929900e-03, 1.19135703e-01,\n",
      "       5.93722924e-02, 3.89853239e-02, 8.48502789e-02, 7.74193548e+01]), array([2.36734699e-03, 1.73405535e-01, 5.48550928e-02, 1.33199096e-01,\n",
      "       8.30766963e-02, 1.38145550e-01, 1.46012032e-01, 6.88172043e+01]), array([3.44495309e-02, 2.72623079e-02, 1.05237398e-01, 1.00282362e-01,\n",
      "       6.48016138e-02, 1.55447742e-02, 3.91278461e-02, 7.63440860e+01]), array([1.36738617e-02, 1.35948842e-01, 8.22936496e-02, 6.69230701e-02,\n",
      "       5.36966622e-02, 5.37517226e-02, 1.45165873e-02, 6.82795699e+01]), array([4.17809489e-02, 3.70986920e-02, 2.88180438e-02, 4.57753620e-02,\n",
      "       5.67455562e-02, 1.55140128e-01, 5.84124706e-03, 7.41935484e+01]), array([1.36192188e-01, 1.64072745e-01, 3.67684575e-02, 1.08007788e-01,\n",
      "       1.14503463e-01, 8.97362015e-02, 2.27111198e-01, 7.63440860e+01]), array([4.07463027e-02, 1.93161543e-02, 8.23084001e-02, 1.01827500e-01,\n",
      "       7.25395039e-02, 1.96459173e-01, 8.29563562e-02, 7.74193548e+01]), array([1.70339918e-01, 2.97583613e-02, 3.78093854e-03, 4.80024685e-02,\n",
      "       1.77057117e-02, 3.03683362e-03, 1.40995814e-02, 7.15053763e+01])]\n",
      "This is population_data_sorted,  [array([1.01761800e-01, 2.58917692e-02, 2.01929900e-03, 1.19135703e-01,\n",
      "       5.93722924e-02, 3.89853239e-02, 8.48502789e-02, 7.74193548e+01]), array([4.07463027e-02, 1.93161543e-02, 8.23084001e-02, 1.01827500e-01,\n",
      "       7.25395039e-02, 1.96459173e-01, 8.29563562e-02, 7.74193548e+01]), array([1.14600249e-01, 1.29865196e-01, 1.77698035e-02, 1.26235936e-01,\n",
      "       1.09289727e-01, 8.81747082e-02, 2.84727898e-01, 7.63440860e+01]), array([3.44495309e-02, 2.72623079e-02, 1.05237398e-01, 1.00282362e-01,\n",
      "       6.48016138e-02, 1.55447742e-02, 3.91278461e-02, 7.63440860e+01]), array([1.36192188e-01, 1.64072745e-01, 3.67684575e-02, 1.08007788e-01,\n",
      "       1.14503463e-01, 8.97362015e-02, 2.27111198e-01, 7.63440860e+01]), array([1.63071538e-01, 1.58036238e-01, 5.97787975e-02, 7.18081781e-02,\n",
      "       1.14256561e-01, 8.70352650e-02, 1.12516786e-01, 7.58064516e+01]), array([5.98910887e-02, 6.95249485e-02, 1.09990012e-01, 1.74982175e-02,\n",
      "       1.04484702e-01, 1.42300933e-01, 4.49196768e-02, 7.47311828e+01]), array([4.17809489e-02, 3.70986920e-02, 2.88180438e-02, 4.57753620e-02,\n",
      "       5.67455562e-02, 1.55140128e-01, 5.84124706e-03, 7.41935484e+01]), array([9.88156598e-03, 2.19083319e-02, 8.17861424e-02, 5.60787733e-02,\n",
      "       1.16859150e-01, 8.10038125e-02, 2.81256461e-02, 7.25806452e+01]), array([1.70339918e-01, 2.97583613e-02, 3.78093854e-03, 4.80024685e-02,\n",
      "       1.77057117e-02, 3.03683362e-03, 1.40995814e-02, 7.15053763e+01]), array([5.93992115e-02, 7.72980625e-02, 9.00508549e-02, 8.68130139e-02,\n",
      "       4.01010959e-02, 5.30340116e-03, 7.56796192e-03, 7.04301075e+01]), array([4.06842572e-02, 1.34315358e-01, 2.82330066e-02, 1.17532483e-02,\n",
      "       4.55300826e-02, 1.51514715e-01, 3.20006401e-01, 6.93548387e+01]), array([2.36734699e-03, 1.73405535e-01, 5.48550928e-02, 1.33199096e-01,\n",
      "       8.30766963e-02, 1.38145550e-01, 1.46012032e-01, 6.88172043e+01]), array([1.36738617e-02, 1.35948842e-01, 8.22936496e-02, 6.69230701e-02,\n",
      "       5.36966622e-02, 5.37517226e-02, 1.45165873e-02, 6.82795699e+01]), array([1.30065035e-02, 1.62958284e-01, 1.73741847e-02, 1.36176705e-01,\n",
      "       9.42000528e-02, 6.44906212e-02, 3.24721589e-01, 6.77419355e+01])]\n",
      "This is population_weights_with_accuracy,  [1.11696769e-02 8.49971064e-02 9.00064085e-02 1.53290132e-01\n",
      " 4.26507181e-02 6.38440116e-02 5.67528447e-02 7.09677419e+01]\n",
      "This is population_data,  [array([1.30065035e-02, 1.62958284e-01, 1.73741847e-02, 1.36176705e-01,\n",
      "       9.42000528e-02, 6.44906212e-02, 3.24721589e-01, 6.77419355e+01]), array([1.14600249e-01, 1.29865196e-01, 1.77698035e-02, 1.26235936e-01,\n",
      "       1.09289727e-01, 8.81747082e-02, 2.84727898e-01, 7.63440860e+01]), array([9.88156598e-03, 2.19083319e-02, 8.17861424e-02, 5.60787733e-02,\n",
      "       1.16859150e-01, 8.10038125e-02, 2.81256461e-02, 7.25806452e+01]), array([4.06842572e-02, 1.34315358e-01, 2.82330066e-02, 1.17532483e-02,\n",
      "       4.55300826e-02, 1.51514715e-01, 3.20006401e-01, 6.93548387e+01]), array([5.93992115e-02, 7.72980625e-02, 9.00508549e-02, 8.68130139e-02,\n",
      "       4.01010959e-02, 5.30340116e-03, 7.56796192e-03, 7.04301075e+01]), array([5.98910887e-02, 6.95249485e-02, 1.09990012e-01, 1.74982175e-02,\n",
      "       1.04484702e-01, 1.42300933e-01, 4.49196768e-02, 7.47311828e+01]), array([1.63071538e-01, 1.58036238e-01, 5.97787975e-02, 7.18081781e-02,\n",
      "       1.14256561e-01, 8.70352650e-02, 1.12516786e-01, 7.58064516e+01]), array([1.01761800e-01, 2.58917692e-02, 2.01929900e-03, 1.19135703e-01,\n",
      "       5.93722924e-02, 3.89853239e-02, 8.48502789e-02, 7.74193548e+01]), array([2.36734699e-03, 1.73405535e-01, 5.48550928e-02, 1.33199096e-01,\n",
      "       8.30766963e-02, 1.38145550e-01, 1.46012032e-01, 6.88172043e+01]), array([3.44495309e-02, 2.72623079e-02, 1.05237398e-01, 1.00282362e-01,\n",
      "       6.48016138e-02, 1.55447742e-02, 3.91278461e-02, 7.63440860e+01]), array([1.36738617e-02, 1.35948842e-01, 8.22936496e-02, 6.69230701e-02,\n",
      "       5.36966622e-02, 5.37517226e-02, 1.45165873e-02, 6.82795699e+01]), array([4.17809489e-02, 3.70986920e-02, 2.88180438e-02, 4.57753620e-02,\n",
      "       5.67455562e-02, 1.55140128e-01, 5.84124706e-03, 7.41935484e+01]), array([1.36192188e-01, 1.64072745e-01, 3.67684575e-02, 1.08007788e-01,\n",
      "       1.14503463e-01, 8.97362015e-02, 2.27111198e-01, 7.63440860e+01]), array([4.07463027e-02, 1.93161543e-02, 8.23084001e-02, 1.01827500e-01,\n",
      "       7.25395039e-02, 1.96459173e-01, 8.29563562e-02, 7.74193548e+01]), array([1.70339918e-01, 2.97583613e-02, 3.78093854e-03, 4.80024685e-02,\n",
      "       1.77057117e-02, 3.03683362e-03, 1.40995814e-02, 7.15053763e+01]), array([1.11696769e-02, 8.49971064e-02, 9.00064085e-02, 1.53290132e-01,\n",
      "       4.26507181e-02, 6.38440116e-02, 5.67528447e-02, 7.09677419e+01])]\n",
      "This is population_data_sorted,  [array([1.01761800e-01, 2.58917692e-02, 2.01929900e-03, 1.19135703e-01,\n",
      "       5.93722924e-02, 3.89853239e-02, 8.48502789e-02, 7.74193548e+01]), array([4.07463027e-02, 1.93161543e-02, 8.23084001e-02, 1.01827500e-01,\n",
      "       7.25395039e-02, 1.96459173e-01, 8.29563562e-02, 7.74193548e+01]), array([1.14600249e-01, 1.29865196e-01, 1.77698035e-02, 1.26235936e-01,\n",
      "       1.09289727e-01, 8.81747082e-02, 2.84727898e-01, 7.63440860e+01]), array([3.44495309e-02, 2.72623079e-02, 1.05237398e-01, 1.00282362e-01,\n",
      "       6.48016138e-02, 1.55447742e-02, 3.91278461e-02, 7.63440860e+01]), array([1.36192188e-01, 1.64072745e-01, 3.67684575e-02, 1.08007788e-01,\n",
      "       1.14503463e-01, 8.97362015e-02, 2.27111198e-01, 7.63440860e+01]), array([1.63071538e-01, 1.58036238e-01, 5.97787975e-02, 7.18081781e-02,\n",
      "       1.14256561e-01, 8.70352650e-02, 1.12516786e-01, 7.58064516e+01]), array([5.98910887e-02, 6.95249485e-02, 1.09990012e-01, 1.74982175e-02,\n",
      "       1.04484702e-01, 1.42300933e-01, 4.49196768e-02, 7.47311828e+01]), array([4.17809489e-02, 3.70986920e-02, 2.88180438e-02, 4.57753620e-02,\n",
      "       5.67455562e-02, 1.55140128e-01, 5.84124706e-03, 7.41935484e+01]), array([9.88156598e-03, 2.19083319e-02, 8.17861424e-02, 5.60787733e-02,\n",
      "       1.16859150e-01, 8.10038125e-02, 2.81256461e-02, 7.25806452e+01]), array([1.70339918e-01, 2.97583613e-02, 3.78093854e-03, 4.80024685e-02,\n",
      "       1.77057117e-02, 3.03683362e-03, 1.40995814e-02, 7.15053763e+01]), array([1.11696769e-02, 8.49971064e-02, 9.00064085e-02, 1.53290132e-01,\n",
      "       4.26507181e-02, 6.38440116e-02, 5.67528447e-02, 7.09677419e+01]), array([5.93992115e-02, 7.72980625e-02, 9.00508549e-02, 8.68130139e-02,\n",
      "       4.01010959e-02, 5.30340116e-03, 7.56796192e-03, 7.04301075e+01]), array([4.06842572e-02, 1.34315358e-01, 2.82330066e-02, 1.17532483e-02,\n",
      "       4.55300826e-02, 1.51514715e-01, 3.20006401e-01, 6.93548387e+01]), array([2.36734699e-03, 1.73405535e-01, 5.48550928e-02, 1.33199096e-01,\n",
      "       8.30766963e-02, 1.38145550e-01, 1.46012032e-01, 6.88172043e+01]), array([1.36738617e-02, 1.35948842e-01, 8.22936496e-02, 6.69230701e-02,\n",
      "       5.36966622e-02, 5.37517226e-02, 1.45165873e-02, 6.82795699e+01]), array([1.30065035e-02, 1.62958284e-01, 1.73741847e-02, 1.36176705e-01,\n",
      "       9.42000528e-02, 6.44906212e-02, 3.24721589e-01, 6.77419355e+01])]\n",
      "This is population_weights_with_accuracy,  [1.27333694e-01 8.86523446e-02 7.90843045e-02 6.75579927e-02\n",
      " 4.26128161e-02 1.93545003e-01 4.78053883e-02 7.74193548e+01]\n",
      "This is population_data,  [array([1.30065035e-02, 1.62958284e-01, 1.73741847e-02, 1.36176705e-01,\n",
      "       9.42000528e-02, 6.44906212e-02, 3.24721589e-01, 6.77419355e+01]), array([1.14600249e-01, 1.29865196e-01, 1.77698035e-02, 1.26235936e-01,\n",
      "       1.09289727e-01, 8.81747082e-02, 2.84727898e-01, 7.63440860e+01]), array([9.88156598e-03, 2.19083319e-02, 8.17861424e-02, 5.60787733e-02,\n",
      "       1.16859150e-01, 8.10038125e-02, 2.81256461e-02, 7.25806452e+01]), array([4.06842572e-02, 1.34315358e-01, 2.82330066e-02, 1.17532483e-02,\n",
      "       4.55300826e-02, 1.51514715e-01, 3.20006401e-01, 6.93548387e+01]), array([5.93992115e-02, 7.72980625e-02, 9.00508549e-02, 8.68130139e-02,\n",
      "       4.01010959e-02, 5.30340116e-03, 7.56796192e-03, 7.04301075e+01]), array([5.98910887e-02, 6.95249485e-02, 1.09990012e-01, 1.74982175e-02,\n",
      "       1.04484702e-01, 1.42300933e-01, 4.49196768e-02, 7.47311828e+01]), array([1.63071538e-01, 1.58036238e-01, 5.97787975e-02, 7.18081781e-02,\n",
      "       1.14256561e-01, 8.70352650e-02, 1.12516786e-01, 7.58064516e+01]), array([1.01761800e-01, 2.58917692e-02, 2.01929900e-03, 1.19135703e-01,\n",
      "       5.93722924e-02, 3.89853239e-02, 8.48502789e-02, 7.74193548e+01]), array([2.36734699e-03, 1.73405535e-01, 5.48550928e-02, 1.33199096e-01,\n",
      "       8.30766963e-02, 1.38145550e-01, 1.46012032e-01, 6.88172043e+01]), array([3.44495309e-02, 2.72623079e-02, 1.05237398e-01, 1.00282362e-01,\n",
      "       6.48016138e-02, 1.55447742e-02, 3.91278461e-02, 7.63440860e+01]), array([1.36738617e-02, 1.35948842e-01, 8.22936496e-02, 6.69230701e-02,\n",
      "       5.36966622e-02, 5.37517226e-02, 1.45165873e-02, 6.82795699e+01]), array([4.17809489e-02, 3.70986920e-02, 2.88180438e-02, 4.57753620e-02,\n",
      "       5.67455562e-02, 1.55140128e-01, 5.84124706e-03, 7.41935484e+01]), array([1.36192188e-01, 1.64072745e-01, 3.67684575e-02, 1.08007788e-01,\n",
      "       1.14503463e-01, 8.97362015e-02, 2.27111198e-01, 7.63440860e+01]), array([4.07463027e-02, 1.93161543e-02, 8.23084001e-02, 1.01827500e-01,\n",
      "       7.25395039e-02, 1.96459173e-01, 8.29563562e-02, 7.74193548e+01]), array([1.70339918e-01, 2.97583613e-02, 3.78093854e-03, 4.80024685e-02,\n",
      "       1.77057117e-02, 3.03683362e-03, 1.40995814e-02, 7.15053763e+01]), array([1.11696769e-02, 8.49971064e-02, 9.00064085e-02, 1.53290132e-01,\n",
      "       4.26507181e-02, 6.38440116e-02, 5.67528447e-02, 7.09677419e+01]), array([1.27333694e-01, 8.86523446e-02, 7.90843045e-02, 6.75579927e-02,\n",
      "       4.26128161e-02, 1.93545003e-01, 4.78053883e-02, 7.74193548e+01])]\n",
      "This is population_data_sorted,  [array([1.01761800e-01, 2.58917692e-02, 2.01929900e-03, 1.19135703e-01,\n",
      "       5.93722924e-02, 3.89853239e-02, 8.48502789e-02, 7.74193548e+01]), array([4.07463027e-02, 1.93161543e-02, 8.23084001e-02, 1.01827500e-01,\n",
      "       7.25395039e-02, 1.96459173e-01, 8.29563562e-02, 7.74193548e+01]), array([1.27333694e-01, 8.86523446e-02, 7.90843045e-02, 6.75579927e-02,\n",
      "       4.26128161e-02, 1.93545003e-01, 4.78053883e-02, 7.74193548e+01]), array([1.14600249e-01, 1.29865196e-01, 1.77698035e-02, 1.26235936e-01,\n",
      "       1.09289727e-01, 8.81747082e-02, 2.84727898e-01, 7.63440860e+01]), array([3.44495309e-02, 2.72623079e-02, 1.05237398e-01, 1.00282362e-01,\n",
      "       6.48016138e-02, 1.55447742e-02, 3.91278461e-02, 7.63440860e+01]), array([1.36192188e-01, 1.64072745e-01, 3.67684575e-02, 1.08007788e-01,\n",
      "       1.14503463e-01, 8.97362015e-02, 2.27111198e-01, 7.63440860e+01]), array([1.63071538e-01, 1.58036238e-01, 5.97787975e-02, 7.18081781e-02,\n",
      "       1.14256561e-01, 8.70352650e-02, 1.12516786e-01, 7.58064516e+01]), array([5.98910887e-02, 6.95249485e-02, 1.09990012e-01, 1.74982175e-02,\n",
      "       1.04484702e-01, 1.42300933e-01, 4.49196768e-02, 7.47311828e+01]), array([4.17809489e-02, 3.70986920e-02, 2.88180438e-02, 4.57753620e-02,\n",
      "       5.67455562e-02, 1.55140128e-01, 5.84124706e-03, 7.41935484e+01]), array([9.88156598e-03, 2.19083319e-02, 8.17861424e-02, 5.60787733e-02,\n",
      "       1.16859150e-01, 8.10038125e-02, 2.81256461e-02, 7.25806452e+01]), array([1.70339918e-01, 2.97583613e-02, 3.78093854e-03, 4.80024685e-02,\n",
      "       1.77057117e-02, 3.03683362e-03, 1.40995814e-02, 7.15053763e+01]), array([1.11696769e-02, 8.49971064e-02, 9.00064085e-02, 1.53290132e-01,\n",
      "       4.26507181e-02, 6.38440116e-02, 5.67528447e-02, 7.09677419e+01]), array([5.93992115e-02, 7.72980625e-02, 9.00508549e-02, 8.68130139e-02,\n",
      "       4.01010959e-02, 5.30340116e-03, 7.56796192e-03, 7.04301075e+01]), array([4.06842572e-02, 1.34315358e-01, 2.82330066e-02, 1.17532483e-02,\n",
      "       4.55300826e-02, 1.51514715e-01, 3.20006401e-01, 6.93548387e+01]), array([2.36734699e-03, 1.73405535e-01, 5.48550928e-02, 1.33199096e-01,\n",
      "       8.30766963e-02, 1.38145550e-01, 1.46012032e-01, 6.88172043e+01]), array([1.36738617e-02, 1.35948842e-01, 8.22936496e-02, 6.69230701e-02,\n",
      "       5.36966622e-02, 5.37517226e-02, 1.45165873e-02, 6.82795699e+01]), array([1.30065035e-02, 1.62958284e-01, 1.73741847e-02, 1.36176705e-01,\n",
      "       9.42000528e-02, 6.44906212e-02, 3.24721589e-01, 6.77419355e+01])]\n",
      "This is population_weights_with_accuracy,  [1.57010284e-01 1.04050181e-01 6.43856541e-02 1.17621100e-01\n",
      " 3.40084349e-02 1.78482032e-01 2.68802505e-01 7.84946237e+01]\n",
      "This is population_data,  [array([1.30065035e-02, 1.62958284e-01, 1.73741847e-02, 1.36176705e-01,\n",
      "       9.42000528e-02, 6.44906212e-02, 3.24721589e-01, 6.77419355e+01]), array([1.14600249e-01, 1.29865196e-01, 1.77698035e-02, 1.26235936e-01,\n",
      "       1.09289727e-01, 8.81747082e-02, 2.84727898e-01, 7.63440860e+01]), array([9.88156598e-03, 2.19083319e-02, 8.17861424e-02, 5.60787733e-02,\n",
      "       1.16859150e-01, 8.10038125e-02, 2.81256461e-02, 7.25806452e+01]), array([4.06842572e-02, 1.34315358e-01, 2.82330066e-02, 1.17532483e-02,\n",
      "       4.55300826e-02, 1.51514715e-01, 3.20006401e-01, 6.93548387e+01]), array([5.93992115e-02, 7.72980625e-02, 9.00508549e-02, 8.68130139e-02,\n",
      "       4.01010959e-02, 5.30340116e-03, 7.56796192e-03, 7.04301075e+01]), array([5.98910887e-02, 6.95249485e-02, 1.09990012e-01, 1.74982175e-02,\n",
      "       1.04484702e-01, 1.42300933e-01, 4.49196768e-02, 7.47311828e+01]), array([1.63071538e-01, 1.58036238e-01, 5.97787975e-02, 7.18081781e-02,\n",
      "       1.14256561e-01, 8.70352650e-02, 1.12516786e-01, 7.58064516e+01]), array([1.01761800e-01, 2.58917692e-02, 2.01929900e-03, 1.19135703e-01,\n",
      "       5.93722924e-02, 3.89853239e-02, 8.48502789e-02, 7.74193548e+01]), array([2.36734699e-03, 1.73405535e-01, 5.48550928e-02, 1.33199096e-01,\n",
      "       8.30766963e-02, 1.38145550e-01, 1.46012032e-01, 6.88172043e+01]), array([3.44495309e-02, 2.72623079e-02, 1.05237398e-01, 1.00282362e-01,\n",
      "       6.48016138e-02, 1.55447742e-02, 3.91278461e-02, 7.63440860e+01]), array([1.36738617e-02, 1.35948842e-01, 8.22936496e-02, 6.69230701e-02,\n",
      "       5.36966622e-02, 5.37517226e-02, 1.45165873e-02, 6.82795699e+01]), array([4.17809489e-02, 3.70986920e-02, 2.88180438e-02, 4.57753620e-02,\n",
      "       5.67455562e-02, 1.55140128e-01, 5.84124706e-03, 7.41935484e+01]), array([1.36192188e-01, 1.64072745e-01, 3.67684575e-02, 1.08007788e-01,\n",
      "       1.14503463e-01, 8.97362015e-02, 2.27111198e-01, 7.63440860e+01]), array([4.07463027e-02, 1.93161543e-02, 8.23084001e-02, 1.01827500e-01,\n",
      "       7.25395039e-02, 1.96459173e-01, 8.29563562e-02, 7.74193548e+01]), array([1.70339918e-01, 2.97583613e-02, 3.78093854e-03, 4.80024685e-02,\n",
      "       1.77057117e-02, 3.03683362e-03, 1.40995814e-02, 7.15053763e+01]), array([1.11696769e-02, 8.49971064e-02, 9.00064085e-02, 1.53290132e-01,\n",
      "       4.26507181e-02, 6.38440116e-02, 5.67528447e-02, 7.09677419e+01]), array([1.27333694e-01, 8.86523446e-02, 7.90843045e-02, 6.75579927e-02,\n",
      "       4.26128161e-02, 1.93545003e-01, 4.78053883e-02, 7.74193548e+01]), array([1.57010284e-01, 1.04050181e-01, 6.43856541e-02, 1.17621100e-01,\n",
      "       3.40084349e-02, 1.78482032e-01, 2.68802505e-01, 7.84946237e+01])]\n",
      "This is population_data_sorted,  [array([1.57010284e-01, 1.04050181e-01, 6.43856541e-02, 1.17621100e-01,\n",
      "       3.40084349e-02, 1.78482032e-01, 2.68802505e-01, 7.84946237e+01]), array([1.01761800e-01, 2.58917692e-02, 2.01929900e-03, 1.19135703e-01,\n",
      "       5.93722924e-02, 3.89853239e-02, 8.48502789e-02, 7.74193548e+01]), array([4.07463027e-02, 1.93161543e-02, 8.23084001e-02, 1.01827500e-01,\n",
      "       7.25395039e-02, 1.96459173e-01, 8.29563562e-02, 7.74193548e+01]), array([1.27333694e-01, 8.86523446e-02, 7.90843045e-02, 6.75579927e-02,\n",
      "       4.26128161e-02, 1.93545003e-01, 4.78053883e-02, 7.74193548e+01]), array([1.14600249e-01, 1.29865196e-01, 1.77698035e-02, 1.26235936e-01,\n",
      "       1.09289727e-01, 8.81747082e-02, 2.84727898e-01, 7.63440860e+01]), array([3.44495309e-02, 2.72623079e-02, 1.05237398e-01, 1.00282362e-01,\n",
      "       6.48016138e-02, 1.55447742e-02, 3.91278461e-02, 7.63440860e+01]), array([1.36192188e-01, 1.64072745e-01, 3.67684575e-02, 1.08007788e-01,\n",
      "       1.14503463e-01, 8.97362015e-02, 2.27111198e-01, 7.63440860e+01]), array([1.63071538e-01, 1.58036238e-01, 5.97787975e-02, 7.18081781e-02,\n",
      "       1.14256561e-01, 8.70352650e-02, 1.12516786e-01, 7.58064516e+01]), array([5.98910887e-02, 6.95249485e-02, 1.09990012e-01, 1.74982175e-02,\n",
      "       1.04484702e-01, 1.42300933e-01, 4.49196768e-02, 7.47311828e+01]), array([4.17809489e-02, 3.70986920e-02, 2.88180438e-02, 4.57753620e-02,\n",
      "       5.67455562e-02, 1.55140128e-01, 5.84124706e-03, 7.41935484e+01]), array([9.88156598e-03, 2.19083319e-02, 8.17861424e-02, 5.60787733e-02,\n",
      "       1.16859150e-01, 8.10038125e-02, 2.81256461e-02, 7.25806452e+01]), array([1.70339918e-01, 2.97583613e-02, 3.78093854e-03, 4.80024685e-02,\n",
      "       1.77057117e-02, 3.03683362e-03, 1.40995814e-02, 7.15053763e+01]), array([1.11696769e-02, 8.49971064e-02, 9.00064085e-02, 1.53290132e-01,\n",
      "       4.26507181e-02, 6.38440116e-02, 5.67528447e-02, 7.09677419e+01]), array([5.93992115e-02, 7.72980625e-02, 9.00508549e-02, 8.68130139e-02,\n",
      "       4.01010959e-02, 5.30340116e-03, 7.56796192e-03, 7.04301075e+01]), array([4.06842572e-02, 1.34315358e-01, 2.82330066e-02, 1.17532483e-02,\n",
      "       4.55300826e-02, 1.51514715e-01, 3.20006401e-01, 6.93548387e+01]), array([2.36734699e-03, 1.73405535e-01, 5.48550928e-02, 1.33199096e-01,\n",
      "       8.30766963e-02, 1.38145550e-01, 1.46012032e-01, 6.88172043e+01]), array([1.36738617e-02, 1.35948842e-01, 8.22936496e-02, 6.69230701e-02,\n",
      "       5.36966622e-02, 5.37517226e-02, 1.45165873e-02, 6.82795699e+01]), array([1.30065035e-02, 1.62958284e-01, 1.73741847e-02, 1.36176705e-01,\n",
      "       9.42000528e-02, 6.44906212e-02, 3.24721589e-01, 6.77419355e+01])]\n",
      "This is population_weights_with_accuracy,  [1.31588809e-01 1.75726465e-01 1.27705828e-02 1.30602571e-01\n",
      " 5.91729159e-02 7.76783713e-02 1.71689028e-01 7.68817204e+01]\n",
      "This is population_data,  [array([1.30065035e-02, 1.62958284e-01, 1.73741847e-02, 1.36176705e-01,\n",
      "       9.42000528e-02, 6.44906212e-02, 3.24721589e-01, 6.77419355e+01]), array([1.14600249e-01, 1.29865196e-01, 1.77698035e-02, 1.26235936e-01,\n",
      "       1.09289727e-01, 8.81747082e-02, 2.84727898e-01, 7.63440860e+01]), array([9.88156598e-03, 2.19083319e-02, 8.17861424e-02, 5.60787733e-02,\n",
      "       1.16859150e-01, 8.10038125e-02, 2.81256461e-02, 7.25806452e+01]), array([4.06842572e-02, 1.34315358e-01, 2.82330066e-02, 1.17532483e-02,\n",
      "       4.55300826e-02, 1.51514715e-01, 3.20006401e-01, 6.93548387e+01]), array([5.93992115e-02, 7.72980625e-02, 9.00508549e-02, 8.68130139e-02,\n",
      "       4.01010959e-02, 5.30340116e-03, 7.56796192e-03, 7.04301075e+01]), array([5.98910887e-02, 6.95249485e-02, 1.09990012e-01, 1.74982175e-02,\n",
      "       1.04484702e-01, 1.42300933e-01, 4.49196768e-02, 7.47311828e+01]), array([1.63071538e-01, 1.58036238e-01, 5.97787975e-02, 7.18081781e-02,\n",
      "       1.14256561e-01, 8.70352650e-02, 1.12516786e-01, 7.58064516e+01]), array([1.01761800e-01, 2.58917692e-02, 2.01929900e-03, 1.19135703e-01,\n",
      "       5.93722924e-02, 3.89853239e-02, 8.48502789e-02, 7.74193548e+01]), array([2.36734699e-03, 1.73405535e-01, 5.48550928e-02, 1.33199096e-01,\n",
      "       8.30766963e-02, 1.38145550e-01, 1.46012032e-01, 6.88172043e+01]), array([3.44495309e-02, 2.72623079e-02, 1.05237398e-01, 1.00282362e-01,\n",
      "       6.48016138e-02, 1.55447742e-02, 3.91278461e-02, 7.63440860e+01]), array([1.36738617e-02, 1.35948842e-01, 8.22936496e-02, 6.69230701e-02,\n",
      "       5.36966622e-02, 5.37517226e-02, 1.45165873e-02, 6.82795699e+01]), array([4.17809489e-02, 3.70986920e-02, 2.88180438e-02, 4.57753620e-02,\n",
      "       5.67455562e-02, 1.55140128e-01, 5.84124706e-03, 7.41935484e+01]), array([1.36192188e-01, 1.64072745e-01, 3.67684575e-02, 1.08007788e-01,\n",
      "       1.14503463e-01, 8.97362015e-02, 2.27111198e-01, 7.63440860e+01]), array([4.07463027e-02, 1.93161543e-02, 8.23084001e-02, 1.01827500e-01,\n",
      "       7.25395039e-02, 1.96459173e-01, 8.29563562e-02, 7.74193548e+01]), array([1.70339918e-01, 2.97583613e-02, 3.78093854e-03, 4.80024685e-02,\n",
      "       1.77057117e-02, 3.03683362e-03, 1.40995814e-02, 7.15053763e+01]), array([1.11696769e-02, 8.49971064e-02, 9.00064085e-02, 1.53290132e-01,\n",
      "       4.26507181e-02, 6.38440116e-02, 5.67528447e-02, 7.09677419e+01]), array([1.27333694e-01, 8.86523446e-02, 7.90843045e-02, 6.75579927e-02,\n",
      "       4.26128161e-02, 1.93545003e-01, 4.78053883e-02, 7.74193548e+01]), array([1.57010284e-01, 1.04050181e-01, 6.43856541e-02, 1.17621100e-01,\n",
      "       3.40084349e-02, 1.78482032e-01, 2.68802505e-01, 7.84946237e+01]), array([1.31588809e-01, 1.75726465e-01, 1.27705828e-02, 1.30602571e-01,\n",
      "       5.91729159e-02, 7.76783713e-02, 1.71689028e-01, 7.68817204e+01])]\n",
      "This is population_data_sorted,  [array([1.57010284e-01, 1.04050181e-01, 6.43856541e-02, 1.17621100e-01,\n",
      "       3.40084349e-02, 1.78482032e-01, 2.68802505e-01, 7.84946237e+01]), array([1.01761800e-01, 2.58917692e-02, 2.01929900e-03, 1.19135703e-01,\n",
      "       5.93722924e-02, 3.89853239e-02, 8.48502789e-02, 7.74193548e+01]), array([4.07463027e-02, 1.93161543e-02, 8.23084001e-02, 1.01827500e-01,\n",
      "       7.25395039e-02, 1.96459173e-01, 8.29563562e-02, 7.74193548e+01]), array([1.27333694e-01, 8.86523446e-02, 7.90843045e-02, 6.75579927e-02,\n",
      "       4.26128161e-02, 1.93545003e-01, 4.78053883e-02, 7.74193548e+01]), array([1.31588809e-01, 1.75726465e-01, 1.27705828e-02, 1.30602571e-01,\n",
      "       5.91729159e-02, 7.76783713e-02, 1.71689028e-01, 7.68817204e+01]), array([1.14600249e-01, 1.29865196e-01, 1.77698035e-02, 1.26235936e-01,\n",
      "       1.09289727e-01, 8.81747082e-02, 2.84727898e-01, 7.63440860e+01]), array([3.44495309e-02, 2.72623079e-02, 1.05237398e-01, 1.00282362e-01,\n",
      "       6.48016138e-02, 1.55447742e-02, 3.91278461e-02, 7.63440860e+01]), array([1.36192188e-01, 1.64072745e-01, 3.67684575e-02, 1.08007788e-01,\n",
      "       1.14503463e-01, 8.97362015e-02, 2.27111198e-01, 7.63440860e+01]), array([1.63071538e-01, 1.58036238e-01, 5.97787975e-02, 7.18081781e-02,\n",
      "       1.14256561e-01, 8.70352650e-02, 1.12516786e-01, 7.58064516e+01]), array([5.98910887e-02, 6.95249485e-02, 1.09990012e-01, 1.74982175e-02,\n",
      "       1.04484702e-01, 1.42300933e-01, 4.49196768e-02, 7.47311828e+01]), array([4.17809489e-02, 3.70986920e-02, 2.88180438e-02, 4.57753620e-02,\n",
      "       5.67455562e-02, 1.55140128e-01, 5.84124706e-03, 7.41935484e+01]), array([9.88156598e-03, 2.19083319e-02, 8.17861424e-02, 5.60787733e-02,\n",
      "       1.16859150e-01, 8.10038125e-02, 2.81256461e-02, 7.25806452e+01]), array([1.70339918e-01, 2.97583613e-02, 3.78093854e-03, 4.80024685e-02,\n",
      "       1.77057117e-02, 3.03683362e-03, 1.40995814e-02, 7.15053763e+01]), array([1.11696769e-02, 8.49971064e-02, 9.00064085e-02, 1.53290132e-01,\n",
      "       4.26507181e-02, 6.38440116e-02, 5.67528447e-02, 7.09677419e+01]), array([5.93992115e-02, 7.72980625e-02, 9.00508549e-02, 8.68130139e-02,\n",
      "       4.01010959e-02, 5.30340116e-03, 7.56796192e-03, 7.04301075e+01]), array([4.06842572e-02, 1.34315358e-01, 2.82330066e-02, 1.17532483e-02,\n",
      "       4.55300826e-02, 1.51514715e-01, 3.20006401e-01, 6.93548387e+01]), array([2.36734699e-03, 1.73405535e-01, 5.48550928e-02, 1.33199096e-01,\n",
      "       8.30766963e-02, 1.38145550e-01, 1.46012032e-01, 6.88172043e+01]), array([1.36738617e-02, 1.35948842e-01, 8.22936496e-02, 6.69230701e-02,\n",
      "       5.36966622e-02, 5.37517226e-02, 1.45165873e-02, 6.82795699e+01]), array([1.30065035e-02, 1.62958284e-01, 1.73741847e-02, 1.36176705e-01,\n",
      "       9.42000528e-02, 6.44906212e-02, 3.24721589e-01, 6.77419355e+01])]\n",
      "This is population_weights_with_accuracy,  [4.24270934e-02 1.47355483e-01 5.27044010e-02 7.19395210e-02\n",
      " 1.28884094e-02 1.94552749e-01 8.61870607e-02 7.20430108e+01]\n",
      "This is population_data,  [array([1.30065035e-02, 1.62958284e-01, 1.73741847e-02, 1.36176705e-01,\n",
      "       9.42000528e-02, 6.44906212e-02, 3.24721589e-01, 6.77419355e+01]), array([1.14600249e-01, 1.29865196e-01, 1.77698035e-02, 1.26235936e-01,\n",
      "       1.09289727e-01, 8.81747082e-02, 2.84727898e-01, 7.63440860e+01]), array([9.88156598e-03, 2.19083319e-02, 8.17861424e-02, 5.60787733e-02,\n",
      "       1.16859150e-01, 8.10038125e-02, 2.81256461e-02, 7.25806452e+01]), array([4.06842572e-02, 1.34315358e-01, 2.82330066e-02, 1.17532483e-02,\n",
      "       4.55300826e-02, 1.51514715e-01, 3.20006401e-01, 6.93548387e+01]), array([5.93992115e-02, 7.72980625e-02, 9.00508549e-02, 8.68130139e-02,\n",
      "       4.01010959e-02, 5.30340116e-03, 7.56796192e-03, 7.04301075e+01]), array([5.98910887e-02, 6.95249485e-02, 1.09990012e-01, 1.74982175e-02,\n",
      "       1.04484702e-01, 1.42300933e-01, 4.49196768e-02, 7.47311828e+01]), array([1.63071538e-01, 1.58036238e-01, 5.97787975e-02, 7.18081781e-02,\n",
      "       1.14256561e-01, 8.70352650e-02, 1.12516786e-01, 7.58064516e+01]), array([1.01761800e-01, 2.58917692e-02, 2.01929900e-03, 1.19135703e-01,\n",
      "       5.93722924e-02, 3.89853239e-02, 8.48502789e-02, 7.74193548e+01]), array([2.36734699e-03, 1.73405535e-01, 5.48550928e-02, 1.33199096e-01,\n",
      "       8.30766963e-02, 1.38145550e-01, 1.46012032e-01, 6.88172043e+01]), array([3.44495309e-02, 2.72623079e-02, 1.05237398e-01, 1.00282362e-01,\n",
      "       6.48016138e-02, 1.55447742e-02, 3.91278461e-02, 7.63440860e+01]), array([1.36738617e-02, 1.35948842e-01, 8.22936496e-02, 6.69230701e-02,\n",
      "       5.36966622e-02, 5.37517226e-02, 1.45165873e-02, 6.82795699e+01]), array([4.17809489e-02, 3.70986920e-02, 2.88180438e-02, 4.57753620e-02,\n",
      "       5.67455562e-02, 1.55140128e-01, 5.84124706e-03, 7.41935484e+01]), array([1.36192188e-01, 1.64072745e-01, 3.67684575e-02, 1.08007788e-01,\n",
      "       1.14503463e-01, 8.97362015e-02, 2.27111198e-01, 7.63440860e+01]), array([4.07463027e-02, 1.93161543e-02, 8.23084001e-02, 1.01827500e-01,\n",
      "       7.25395039e-02, 1.96459173e-01, 8.29563562e-02, 7.74193548e+01]), array([1.70339918e-01, 2.97583613e-02, 3.78093854e-03, 4.80024685e-02,\n",
      "       1.77057117e-02, 3.03683362e-03, 1.40995814e-02, 7.15053763e+01]), array([1.11696769e-02, 8.49971064e-02, 9.00064085e-02, 1.53290132e-01,\n",
      "       4.26507181e-02, 6.38440116e-02, 5.67528447e-02, 7.09677419e+01]), array([1.27333694e-01, 8.86523446e-02, 7.90843045e-02, 6.75579927e-02,\n",
      "       4.26128161e-02, 1.93545003e-01, 4.78053883e-02, 7.74193548e+01]), array([1.57010284e-01, 1.04050181e-01, 6.43856541e-02, 1.17621100e-01,\n",
      "       3.40084349e-02, 1.78482032e-01, 2.68802505e-01, 7.84946237e+01]), array([1.31588809e-01, 1.75726465e-01, 1.27705828e-02, 1.30602571e-01,\n",
      "       5.91729159e-02, 7.76783713e-02, 1.71689028e-01, 7.68817204e+01]), array([4.24270934e-02, 1.47355483e-01, 5.27044010e-02, 7.19395210e-02,\n",
      "       1.28884094e-02, 1.94552749e-01, 8.61870607e-02, 7.20430108e+01])]\n",
      "This is population_data_sorted,  [array([1.57010284e-01, 1.04050181e-01, 6.43856541e-02, 1.17621100e-01,\n",
      "       3.40084349e-02, 1.78482032e-01, 2.68802505e-01, 7.84946237e+01]), array([1.01761800e-01, 2.58917692e-02, 2.01929900e-03, 1.19135703e-01,\n",
      "       5.93722924e-02, 3.89853239e-02, 8.48502789e-02, 7.74193548e+01]), array([4.07463027e-02, 1.93161543e-02, 8.23084001e-02, 1.01827500e-01,\n",
      "       7.25395039e-02, 1.96459173e-01, 8.29563562e-02, 7.74193548e+01]), array([1.27333694e-01, 8.86523446e-02, 7.90843045e-02, 6.75579927e-02,\n",
      "       4.26128161e-02, 1.93545003e-01, 4.78053883e-02, 7.74193548e+01]), array([1.31588809e-01, 1.75726465e-01, 1.27705828e-02, 1.30602571e-01,\n",
      "       5.91729159e-02, 7.76783713e-02, 1.71689028e-01, 7.68817204e+01]), array([1.14600249e-01, 1.29865196e-01, 1.77698035e-02, 1.26235936e-01,\n",
      "       1.09289727e-01, 8.81747082e-02, 2.84727898e-01, 7.63440860e+01]), array([3.44495309e-02, 2.72623079e-02, 1.05237398e-01, 1.00282362e-01,\n",
      "       6.48016138e-02, 1.55447742e-02, 3.91278461e-02, 7.63440860e+01]), array([1.36192188e-01, 1.64072745e-01, 3.67684575e-02, 1.08007788e-01,\n",
      "       1.14503463e-01, 8.97362015e-02, 2.27111198e-01, 7.63440860e+01]), array([1.63071538e-01, 1.58036238e-01, 5.97787975e-02, 7.18081781e-02,\n",
      "       1.14256561e-01, 8.70352650e-02, 1.12516786e-01, 7.58064516e+01]), array([5.98910887e-02, 6.95249485e-02, 1.09990012e-01, 1.74982175e-02,\n",
      "       1.04484702e-01, 1.42300933e-01, 4.49196768e-02, 7.47311828e+01]), array([4.17809489e-02, 3.70986920e-02, 2.88180438e-02, 4.57753620e-02,\n",
      "       5.67455562e-02, 1.55140128e-01, 5.84124706e-03, 7.41935484e+01]), array([9.88156598e-03, 2.19083319e-02, 8.17861424e-02, 5.60787733e-02,\n",
      "       1.16859150e-01, 8.10038125e-02, 2.81256461e-02, 7.25806452e+01]), array([4.24270934e-02, 1.47355483e-01, 5.27044010e-02, 7.19395210e-02,\n",
      "       1.28884094e-02, 1.94552749e-01, 8.61870607e-02, 7.20430108e+01]), array([1.70339918e-01, 2.97583613e-02, 3.78093854e-03, 4.80024685e-02,\n",
      "       1.77057117e-02, 3.03683362e-03, 1.40995814e-02, 7.15053763e+01]), array([1.11696769e-02, 8.49971064e-02, 9.00064085e-02, 1.53290132e-01,\n",
      "       4.26507181e-02, 6.38440116e-02, 5.67528447e-02, 7.09677419e+01]), array([5.93992115e-02, 7.72980625e-02, 9.00508549e-02, 8.68130139e-02,\n",
      "       4.01010959e-02, 5.30340116e-03, 7.56796192e-03, 7.04301075e+01]), array([4.06842572e-02, 1.34315358e-01, 2.82330066e-02, 1.17532483e-02,\n",
      "       4.55300826e-02, 1.51514715e-01, 3.20006401e-01, 6.93548387e+01]), array([2.36734699e-03, 1.73405535e-01, 5.48550928e-02, 1.33199096e-01,\n",
      "       8.30766963e-02, 1.38145550e-01, 1.46012032e-01, 6.88172043e+01]), array([1.36738617e-02, 1.35948842e-01, 8.22936496e-02, 6.69230701e-02,\n",
      "       5.36966622e-02, 5.37517226e-02, 1.45165873e-02, 6.82795699e+01]), array([1.30065035e-02, 1.62958284e-01, 1.73741847e-02, 1.36176705e-01,\n",
      "       9.42000528e-02, 6.44906212e-02, 3.24721589e-01, 6.77419355e+01])]\n",
      "How many times pop data , 20\n"
     ]
    }
   ],
   "execution_count": 82
  },
  {
   "cell_type": "code",
   "metadata": {
    "ExecuteTime": {
     "end_time": "2025-03-15T20:07:46.670331Z",
     "start_time": "2025-03-15T20:07:46.668059Z"
    }
   },
   "source": [
    "for i in range(0,20):\n",
    "    print(ig_generations_data[\"Generation_1\"][i][7])"
   ],
   "outputs": [
    {
     "name": "stdout",
     "output_type": "stream",
     "text": [
      "78.49462365591397\n",
      "77.41935483870968\n",
      "77.41935483870968\n",
      "77.41935483870968\n",
      "76.88172043010752\n",
      "76.34408602150538\n",
      "76.34408602150538\n",
      "76.34408602150538\n",
      "75.80645161290323\n",
      "74.73118279569893\n",
      "74.19354838709677\n",
      "72.58064516129032\n",
      "72.04301075268818\n",
      "71.50537634408603\n",
      "70.96774193548387\n",
      "70.43010752688173\n",
      "69.35483870967742\n",
      "68.81720430107528\n",
      "68.27956989247312\n",
      "67.74193548387096\n"
     ]
    }
   ],
   "execution_count": 83
  },
  {
   "cell_type": "code",
   "metadata": {
    "ExecuteTime": {
     "end_time": "2025-03-15T20:07:46.717477Z",
     "start_time": "2025-03-15T20:07:46.715570Z"
    }
   },
   "source": "updated_heart_swagger = ig_generations_data[\"Generation_1\"][0][:7]",
   "outputs": [],
   "execution_count": 84
  },
  {
   "cell_type": "code",
   "metadata": {
    "ExecuteTime": {
     "end_time": "2025-03-15T20:29:26.105032Z",
     "start_time": "2025-03-15T20:07:46.803841Z"
    }
   },
   "source": [
    "GA_weight_acc = []\n",
    "\n",
    "dropped_weight_avg_acc = []\n",
    "avg_acc = []\n",
    "\n",
    "sim_len = 100\n",
    "for i in range(sim_len):\n",
    "\n",
    "    heart_avg_info_gain_df, heart_avg_info_gain_array, heart_X_test, heart_y_test, heart_X_train, heart_y_train = run_simulation(sim_len, df_heart_standardized, label_col, pos_label, neg_label, size, num_of_rand)\n",
    "\n",
    "    # dropping some columns as feature selections\n",
    "    alpha = .1\n",
    "    count = 0\n",
    "    heart_swagger = []\n",
    "    heart_indices = []  # Array to store the indices\n",
    "\n",
    "    for idx, ig in enumerate(heart_avg_info_gain_array):\n",
    "        if ((ig / max(heart_avg_info_gain_array)) ** 2 < alpha):\n",
    "            count += 1\n",
    "            heart_indices.append(idx)  # Append the index\n",
    "        else:\n",
    "            heart_swagger.append(ig)\n",
    "\n",
    "    dropped_heart_X_train = heart_X_train.drop(heart_X_train.columns[heart_indices],axis=1)\n",
    "    dropped_heart_X_test = heart_X_test.drop(heart_X_test.columns[heart_indices],axis=1)\n",
    "\n",
    "    Train_Data =  pd.concat([dropped_heart_X_train, heart_y_train], axis=1)\n",
    "    Test_Data = pd.concat([dropped_heart_X_test, heart_y_test], axis=1)\n",
    "\n",
    "    TP=0\n",
    "    TN=0\n",
    "    FP=0\n",
    "    FN=0\n",
    "\n",
    "    # weighted k-NN with dropped columns using information gain with dropped columns\n",
    "    for p in range(len(Test_Data)):\n",
    "        point=Test_Data.iloc[p]\n",
    "        NBRS=Nearest_Neighbors(point, Train_Data, heart_swagger , \"num\")\n",
    "        Label=KNN(3,NBRS)\n",
    "        if (Label==point[\"num\"] and Label==1):\n",
    "            TP+=1\n",
    "        if (Label==point[\"num\"] and Label==0):\n",
    "            TN+=1\n",
    "        if (Label!=point[\"num\"] and Label==1):\n",
    "            FP+=1\n",
    "        if (Label!=point[\"num\"] and Label==0):\n",
    "            FN+=1\n",
    "    A_dropped_weighted=(TP+TN)/(TP+TN+FP+FN)\n",
    "    precision_dropped_weighted = TP/(TP+FP)\n",
    "    recall_dropped_weighted = TP/(TP+FN)\n",
    "    f1_dropped_weighted = (2 * precision_dropped_weighted * recall_dropped_weighted)/(precision_dropped_weighted+recall_dropped_weighted)\n",
    "    specificity_dropped_weighted = specificity_score(TN,FP)\n",
    "\n",
    "    dropped_weight_avg_acc.append(A_dropped_weighted*100)\n",
    "    dropped_weight_avg_precision.append(precision_dropped_weighted*100)\n",
    "    dropped_weight_avg_recall.append(recall_dropped_weighted*100)\n",
    "    dropped_weight_avg_f1.append(f1_dropped_weighted*100)\n",
    "    dropped_weight_avg_specificity.append(specificity_dropped_weighted*100)\n",
    "\n",
    "    TP=0\n",
    "    TN=0\n",
    "    FP=0\n",
    "    FN=0\n",
    "\n",
    "    for p in range(len(Test_Data)):\n",
    "        point=Test_Data.iloc[p]\n",
    "        NBRS=Nearest_Neighbors(point, Train_Data, updated_heart_swagger , \"num\")\n",
    "        Label=KNN(3,NBRS)\n",
    "        if (Label==point[\"num\"] and Label==1):\n",
    "            TP+=1\n",
    "        if (Label==point[\"num\"] and Label==0):\n",
    "            TN+=1\n",
    "        if (Label!=point[\"num\"] and Label==1):\n",
    "            FP+=1\n",
    "        if (Label!=point[\"num\"] and Label==0):\n",
    "            FN+=1\n",
    "    A_dropped_weighted=(TP+TN)/(TP+TN+FP+FN)\n",
    "    # precision_dropped_weighted = TP/(TP+FP)\n",
    "    # recall_dropped_weighted = TP/(TP+FN)\n",
    "    # f1_dropped_weighted = (2 * precision_dropped_weighted * recall_dropped_weighted)/(precision_dropped_weighted+recall_dropped_weighted)\n",
    "    # specificity_dropped_weighted = TN/(TN+FP)\n",
    "\n",
    "    GA_weight_acc.append(A_dropped_weighted*100)\n",
    "    # dropped_weight_avg_precision.append(precision_dropped_weighted*100)\n",
    "    # dropped_weight_avg_recall.append(recall_dropped_weighted*100)\n",
    "    # dropped_weight_avg_f1.append(f1_dropped_weighted*100)\n",
    "    # dropped_weight_avg_specificity.append(specificity_dropped_weighted*100)\n",
    "\n",
    "    for p in range(len(Test_Data)):\n",
    "        point=Test_Data.iloc[p]\n",
    "        NBRS=Nearest_Neighbors(point, Train_Data, [1,1,1,1,1,1,1], \"num\")\n",
    "        Label=KNN(3,NBRS)\n",
    "    if (Label==point[\"num\"] and Label==1):\n",
    "        TP+=1\n",
    "    if (Label==point[\"num\"] and Label==0):\n",
    "        TN+=1\n",
    "    if (Label!=point[\"num\"] and Label==1):\n",
    "        FP+=1\n",
    "    if (Label!=point[\"num\"] and Label==0):\n",
    "        FN+=1\n",
    "        \n",
    "    A_non_weighted=(TP+TN)/(TP+TN+FP+FN)\n",
    "    avg_acc.append(A_non_weighted*100)"
   ],
   "outputs": [
    {
     "data": {
      "text/plain": [
       "<Figure size 640x480 with 1 Axes>"
      ],
      "image/png": "[encoded data removed]"
     },
     "metadata": {},
     "output_type": "display_data"
    }
   ],
   "execution_count": 85
  },
  {
   "cell_type": "code",
   "metadata": {
    "ExecuteTime": {
     "end_time": "2025-03-15T20:29:26.134613Z",
     "start_time": "2025-03-15T20:29:26.132026Z"
    }
   },
   "source": [
    "GA_weight_acc"
   ],
   "outputs": [
    {
     "data": {
      "text/plain": [
       "[71.80851063829788,\n",
       " 72.10526315789474,\n",
       " 76.84210526315789,\n",
       " 78.6096256684492,\n",
       " 78.42105263157895,\n",
       " 78.07486631016043,\n",
       " 72.72727272727273,\n",
       " 76.75675675675676,\n",
       " 81.21546961325967,\n",
       " 81.05263157894737,\n",
       " 78.125,\n",
       " 79.89690721649485,\n",
       " 76.06382978723404,\n",
       " 79.25531914893617,\n",
       " 77.00534759358288,\n",
       " 76.88172043010752,\n",
       " 78.6096256684492,\n",
       " 77.4869109947644,\n",
       " 80.74866310160428,\n",
       " 77.95698924731182,\n",
       " 77.29729729729729,\n",
       " 79.00552486187846,\n",
       " 77.17391304347827,\n",
       " 75.26881720430107,\n",
       " 78.3068783068783,\n",
       " 76.59574468085107,\n",
       " 76.75675675675676,\n",
       " 76.92307692307693,\n",
       " 79.78142076502732,\n",
       " 79.6875,\n",
       " 79.47368421052632,\n",
       " 82.53968253968253,\n",
       " 80.0,\n",
       " 78.3068783068783,\n",
       " 75.54347826086956,\n",
       " 76.71957671957672,\n",
       " 72.6775956284153,\n",
       " 80.31914893617021,\n",
       " 76.68393782383419,\n",
       " 78.6096256684492,\n",
       " 81.18279569892472,\n",
       " 73.93617021276596,\n",
       " 79.14438502673798,\n",
       " 71.95767195767195,\n",
       " 75.80645161290323,\n",
       " 70.10309278350515,\n",
       " 78.01047120418848,\n",
       " 77.59562841530054,\n",
       " 78.53403141361257,\n",
       " 75.80645161290323,\n",
       " 77.54010695187165,\n",
       " 77.77777777777779,\n",
       " 75.40983606557377,\n",
       " 74.19354838709677,\n",
       " 79.7872340425532,\n",
       " 74.60317460317461,\n",
       " 71.42857142857143,\n",
       " 75.67567567567568,\n",
       " 78.19148936170212,\n",
       " 79.67914438502673,\n",
       " 81.44329896907216,\n",
       " 75.39267015706807,\n",
       " 79.23497267759562,\n",
       " 76.75675675675676,\n",
       " 80.0,\n",
       " 78.26086956521739,\n",
       " 75.39267015706807,\n",
       " 74.8663101604278,\n",
       " 77.83783783783784,\n",
       " 76.80412371134021,\n",
       " 80.31914893617021,\n",
       " 77.29729729729729,\n",
       " 79.38144329896907,\n",
       " 77.29729729729729,\n",
       " 82.10526315789474,\n",
       " 73.40425531914893,\n",
       " 76.34408602150538,\n",
       " 77.41935483870968,\n",
       " 76.84210526315789,\n",
       " 76.96335078534031,\n",
       " 79.6875,\n",
       " 79.03225806451613,\n",
       " 78.26086956521739,\n",
       " 73.01587301587301,\n",
       " 75.26315789473685,\n",
       " 79.58115183246073,\n",
       " 75.55555555555556,\n",
       " 76.88172043010752,\n",
       " 77.95698924731182,\n",
       " 77.29729729729729,\n",
       " 78.49462365591397,\n",
       " 78.53403141361257,\n",
       " 74.3455497382199,\n",
       " 72.4867724867725,\n",
       " 77.54010695187165,\n",
       " 76.37362637362637,\n",
       " 68.25396825396825,\n",
       " 79.67032967032966,\n",
       " 78.07486631016043,\n",
       " 72.39583333333334]"
      ]
     },
     "execution_count": 86,
     "metadata": {},
     "output_type": "execute_result"
    }
   ],
   "execution_count": 86
  },
  {
   "cell_type": "code",
   "metadata": {
    "ExecuteTime": {
     "end_time": "2025-03-15T20:29:26.273684Z",
     "start_time": "2025-03-15T20:29:26.195223Z"
    }
   },
   "source": [
    "fig = plt.figure(figsize =(10, 7))\n",
    "plt.title(\"Accuracy\",fontsize=14, fontweight='bold')\n",
    "\n",
    "# data = [dropped_weight_avg_acc, NN_acc, RFC_acc, XGB_acc]\n",
    "# \n",
    "# x_axis = ['Dropped Cols Weighted k-NN', 'Neural Network', 'Random Forest Classification', 'XGBoost Classification']\n",
    "\n",
    "data = [dropped_weight_avg_acc, GA_weight_acc]\n",
    "\n",
    "x_axis = ['Dropped Cols Weighted k-NN', 'Genetic Algorithm Weighted k-NN']\n",
    "\n",
    "# Creating plot\n",
    "plt.boxplot(data, tick_labels=x_axis)\n",
    "\n",
    "plt.savefig('IG and GA Accuracy.svg')\n",
    "\n",
    "# show plot\n",
    "plt.show()"
   ],
   "outputs": [
    {
     "data": {
      "text/plain": [
       "<Figure size 1000x700 with 1 Axes>"
      ],
      "image/png": "[encoded data removed]"
     },
     "metadata": {},
     "output_type": "display_data"
    }
   ],
   "execution_count": 87
  },
  {
   "cell_type": "code",
   "metadata": {
    "ExecuteTime": {
     "end_time": "2025-03-15T20:29:26.394585Z",
     "start_time": "2025-03-15T20:29:26.315788Z"
    }
   },
   "source": [
    "fig = plt.figure(figsize =(10, 7))\n",
    "plt.title(\"Accuracy\",fontsize=14, fontweight='bold')\n",
    "\n",
    "data = [avg_acc, dropped_weight_avg_acc, GA_weight_acc]\n",
    "\n",
    "x_axis = ['Unweighted k-NN', 'Dropped Cols Weighted k-NN', 'Genetic Algorithm Weighted k-NN']\n",
    "\n",
    "# Creating plot\n",
    "plt.boxplot(data, tick_labels=x_axis)\n",
    "\n",
    "plt.savefig('Unweighted, IG and GA Accuracy.svg')\n",
    "\n",
    "# show plot\n",
    "plt.show()\n"
   ],
   "outputs": [
    {
     "data": {
      "text/plain": [
       "<Figure size 1000x700 with 1 Axes>"
      ],
      "image/png": "[encoded data removed]"
     },
     "metadata": {},
     "output_type": "display_data"
    }
   ],
   "execution_count": 88
  },
  {
   "cell_type": "code",
   "metadata": {
    "ExecuteTime": {
     "end_time": "2025-03-15T20:29:26.438366Z",
     "start_time": "2025-03-15T20:29:26.435728Z"
    }
   },
   "source": [
    "def weight_manipulation(num_of_population,num_of_weights,weights):\n",
    "\n",
    "    genetic_weights = np.empty((num_of_population,num_of_weights))\n",
    "\n",
    "    np_weights = np.array(weights)\n",
    "\n",
    "    # print(\"weights : \", np_weights.shape)\n",
    "    # print(\"Chama: \", genetic_weights.shape)\n",
    "\n",
    "    if(np_weights.ndim == 1):\n",
    "\n",
    "        for i in range(0, num_of_population):\n",
    "            genetic_weights[i] = weights * np.random.rand(len(weights))\n",
    "\n",
    "        # print(\"Huh: \" ,genetic_weights.shape)\n",
    "\n",
    "        return genetic_weights\n",
    "\n",
    "    else :\n",
    "\n",
    "        for row in range(num_of_population):\n",
    "            # Multiply each element in the row by a random factor\n",
    "            # The random factor must have the same number of columns as the weight matrix\n",
    "            genetic_weights[row] = np_weights[row] * np.random.rand(np_weights.shape[1])\n",
    "\n",
    "    return genetic_weights"
   ],
   "outputs": [],
   "execution_count": 89
  },
  {
   "metadata": {
    "ExecuteTime": {
     "end_time": "2025-03-15T21:00:44.055239Z",
     "start_time": "2025-03-15T21:00:44.044555Z"
    }
   },
   "cell_type": "code",
   "source": [
    "def get_weight_manipulated_acc(num_of_population, genetic_weights):\n",
    "\n",
    "    rows, columns = genetic_weights.shape\n",
    "\n",
    "    population_data = np.empty((num_of_population,columns+1))\n",
    "    population_data_sorted = np.empty((num_of_population,columns+1))\n",
    "\n",
    "    for population in range(num_of_population):\n",
    "\n",
    "        Train_Data =  pd.concat([dropped_heart_X_train, heart_y_train], axis=1)\n",
    "        Test_Data = pd.concat([dropped_heart_X_test, heart_y_test], axis=1)\n",
    "\n",
    "        TP = TN = FP = FN =0\n",
    "\n",
    "        for p in range(len(Test_Data)):\n",
    "            point=Test_Data.iloc[p]\n",
    "            NBRS=Nearest_Neighbors(point, Train_Data, genetic_weights[population] , \"num\")\n",
    "            Label=KNN(3,NBRS)\n",
    "            if (Label==point[\"num\"] and Label==1):\n",
    "                TP+=1\n",
    "            if (Label==point[\"num\"] and Label==0):\n",
    "                TN+=1\n",
    "            if (Label!=point[\"num\"] and Label==1):\n",
    "                FP+=1\n",
    "            if (Label!=point[\"num\"] and Label==0):\n",
    "                FN+=1\n",
    "        A_dropped_weighted=(TP+TN)/(TP+TN+FP+FN)\n",
    "\n",
    "        accuracy = A_dropped_weighted*100\n",
    "\n",
    "        accuracy_list.append(accuracy)\n",
    "        \n",
    "        print(\"Pop data shape: \", population_data.shape) \n",
    "        # \n",
    "        # print(\"This is the loop iteration index, \", population)\n",
    "        \n",
    "        if(population == 0):\n",
    "            population_weights_with_accuracy = np.append(genetic_weights[population], accuracy)  # the current populations weight and its accuracy \n",
    "            print(\"This is population_weights_with_accuracy, \", population_weights_with_accuracy, \"\\n\")\n",
    "            population_data[:] = population_weights_with_accuracy\n",
    "            print(\"This is population_data inside of the if, \", population_data, \"\\n\")\n",
    "        else:\n",
    "            \n",
    "            population_weights_with_accuracy = np.append(genetic_weights[population], accuracy)  # the current populations weight and its accuracy \n",
    "            print(\"This is population_weights_with_accuracy, \", population_weights_with_accuracy, \"\\n\")\n",
    "            population_data = np.concatenate(population_data,population_weights_with_accuracy,casting='no')  # unsorted full generation data which holds weight and accuracy of each population\n",
    "            print(\"This is population_data inside the else, \", population_data, \"\\n\")\n",
    "    # population_data_sorted = np.sort(population_data,axis=0) # sorted full generations \n",
    "    # print(\"This is population_data_sorted, \", population_data_sorted, \"\\n\")\n",
    "\n",
    "    return population_data"
   ],
   "outputs": [],
   "execution_count": 108
  },
  {
   "metadata": {
    "ExecuteTime": {
     "end_time": "2025-03-15T20:39:15.377853Z",
     "start_time": "2025-03-15T20:39:15.373507Z"
    }
   },
   "cell_type": "code",
   "source": "population_data_sorted",
   "outputs": [
    {
     "data": {
      "text/plain": [
       "array([6.89970679e-04, 1.93273956e-03, 2.16296464e-03, 3.15108627e-03,\n",
       "       5.37325499e-03, 5.38762103e-03, 5.60024025e-03, 5.89263152e-03,\n",
       "       7.04191370e-03, 9.25067322e-03, 9.51909189e-03, 1.30433756e-02,\n",
       "       1.37667327e-02, 1.44513793e-02, 1.60991888e-02, 1.88107753e-02,\n",
       "       1.93599819e-02, 1.96222662e-02, 2.02449903e-02, 2.06181858e-02,\n",
       "       2.21137049e-02, 2.28249279e-02, 2.35137301e-02, 2.36211959e-02,\n",
       "       2.62290932e-02, 2.62763735e-02, 2.70713371e-02, 2.71484576e-02,\n",
       "       2.94263450e-02, 3.03137257e-02, 3.19956137e-02, 3.36780593e-02,\n",
       "       3.61800194e-02, 3.77440416e-02, 4.02624212e-02, 4.09200424e-02,\n",
       "       4.12505167e-02, 4.15113715e-02, 4.16208195e-02, 4.24060375e-02,\n",
       "       4.64461822e-02, 4.68727405e-02, 4.73269295e-02, 4.79153236e-02,\n",
       "       4.85959891e-02, 4.96847128e-02, 4.98084250e-02, 4.98631118e-02,\n",
       "       5.06298235e-02, 5.21852860e-02, 5.38769901e-02, 5.71470247e-02,\n",
       "       5.75640485e-02, 6.04575936e-02, 6.05870286e-02, 6.50357932e-02,\n",
       "       6.53714078e-02, 6.81623062e-02, 7.15568362e-02, 7.16804630e-02,\n",
       "       7.30935532e-02, 7.34602959e-02, 7.53132731e-02, 7.54358843e-02,\n",
       "       7.58710881e-02, 7.76469582e-02, 7.95664749e-02, 8.18367949e-02,\n",
       "       8.20265928e-02, 8.26181573e-02, 8.87996648e-02, 8.93463310e-02,\n",
       "       9.04396379e-02, 9.06215125e-02, 9.07994282e-02, 9.18147083e-02,\n",
       "       9.43025690e-02, 9.51703010e-02, 9.68162903e-02, 9.79819113e-02,\n",
       "       1.00519450e-01, 1.00598921e-01, 1.00906181e-01, 1.00907871e-01,\n",
       "       1.00994443e-01, 1.02731766e-01, 1.03116379e-01, 1.03593926e-01,\n",
       "       1.04728687e-01, 1.04735098e-01, 1.05628185e-01, 1.10985851e-01,\n",
       "       1.11442557e-01, 1.11845120e-01, 1.12274186e-01, 1.13203717e-01,\n",
       "       1.17169616e-01, 1.17539255e-01, 1.20770346e-01, 1.21641182e-01,\n",
       "       1.23155204e-01, 1.30249968e-01, 1.30879861e-01, 1.34886876e-01,\n",
       "       1.36004337e-01, 1.43482797e-01, 1.44353495e-01, 1.44869909e-01,\n",
       "       1.45297619e-01, 1.46749427e-01, 1.47376028e-01, 1.49761378e-01,\n",
       "       1.50889755e-01, 1.53133747e-01, 1.53851608e-01, 1.54077654e-01,\n",
       "       1.54346304e-01, 1.55305443e-01, 1.55719445e-01, 1.55743113e-01,\n",
       "       1.56673278e-01, 1.61062591e-01, 1.61242102e-01, 1.64573241e-01,\n",
       "       1.67490966e-01, 1.76531881e-01, 1.78600143e-01, 1.79014844e-01,\n",
       "       1.79485787e-01, 1.82701643e-01, 1.84868473e-01, 1.96935765e-01,\n",
       "       2.04679152e-01, 2.08856256e-01, 2.11168289e-01, 2.30955504e-01,\n",
       "       2.56730819e-01, 2.57836968e-01, 2.68221887e-01, 3.26945650e-01,\n",
       "       6.71875000e+01, 7.18750000e+01, 7.18750000e+01, 7.29166667e+01,\n",
       "       7.29166667e+01, 7.34375000e+01, 7.34375000e+01, 7.44791667e+01,\n",
       "       7.44791667e+01, 7.50000000e+01, 7.55208333e+01, 7.60416667e+01,\n",
       "       7.60416667e+01, 7.60416667e+01, 7.60416667e+01, 7.60416667e+01,\n",
       "       7.70833333e+01, 7.81250000e+01, 7.81250000e+01, 7.86458333e+01])"
      ]
     },
     "execution_count": 103,
     "metadata": {},
     "output_type": "execute_result"
    }
   ],
   "execution_count": 103
  },
  {
   "metadata": {
    "ExecuteTime": {
     "end_time": "2025-03-15T21:01:37.074872Z",
     "start_time": "2025-03-15T21:01:33.897119Z"
    }
   },
   "cell_type": "code",
   "source": [
    "num_of_population = 20\n",
    "num_of_weights = len(heart_swagger)\n",
    "\n",
    "generations = 1\n",
    "\n",
    "accuracy_list = []\n",
    "\n",
    "# Dictionary to hold generations data\n",
    "ig_generations_data = {}\n",
    "\n",
    "for gen_num in range(generations):\n",
    "\n",
    "    if gen_num == 0:\n",
    "\n",
    "        genetic_weights = weight_manipulation(num_of_population, num_of_weights,heart_swagger)\n",
    "\n",
    "        population_data_sorted = get_weight_manipulated_acc(num_of_population, genetic_weights)\n",
    "        ig_generations_data[f'Generation_{gen_num + 1}'] = population_data_sorted\n",
    "    else :\n",
    "\n",
    "        population_data_sorted[-10:] = population_data_sorted[:10]\n",
    "\n",
    "        for i in range(num_of_population):\n",
    "            genetic_weights[i] = population_data_sorted[i][:7]\n",
    "\n",
    "        genetic_weights = weight_manipulation(num_of_population, num_of_weights, genetic_weights)\n",
    "\n",
    "        population_data_sorted = get_weight_manipulated_acc(num_of_population, genetic_weights)\n",
    "        ig_generations_data[f'Generation_{gen_num + 1}'] = population_data_sorted\n",
    "    \n",
    "    "
   ],
   "outputs": [
    {
     "name": "stdout",
     "output_type": "stream",
     "text": [
      "Pop data shape:  (20, 8)\n",
      "This is population_weights_with_accuracy,  [2.21113554e-02 1.52444412e-02 1.10122811e-01 9.46417174e-04\n",
      " 1.30618706e-01 1.69950197e-01 2.18436736e-01 6.92708333e+01] \n",
      "\n",
      "This is population_data inside of the if,  [[2.21113554e-02 1.52444412e-02 1.10122811e-01 9.46417174e-04\n",
      "  1.30618706e-01 1.69950197e-01 2.18436736e-01 6.92708333e+01]\n",
      " [2.21113554e-02 1.52444412e-02 1.10122811e-01 9.46417174e-04\n",
      "  1.30618706e-01 1.69950197e-01 2.18436736e-01 6.92708333e+01]\n",
      " [2.21113554e-02 1.52444412e-02 1.10122811e-01 9.46417174e-04\n",
      "  1.30618706e-01 1.69950197e-01 2.18436736e-01 6.92708333e+01]\n",
      " [2.21113554e-02 1.52444412e-02 1.10122811e-01 9.46417174e-04\n",
      "  1.30618706e-01 1.69950197e-01 2.18436736e-01 6.92708333e+01]\n",
      " [2.21113554e-02 1.52444412e-02 1.10122811e-01 9.46417174e-04\n",
      "  1.30618706e-01 1.69950197e-01 2.18436736e-01 6.92708333e+01]\n",
      " [2.21113554e-02 1.52444412e-02 1.10122811e-01 9.46417174e-04\n",
      "  1.30618706e-01 1.69950197e-01 2.18436736e-01 6.92708333e+01]\n",
      " [2.21113554e-02 1.52444412e-02 1.10122811e-01 9.46417174e-04\n",
      "  1.30618706e-01 1.69950197e-01 2.18436736e-01 6.92708333e+01]\n",
      " [2.21113554e-02 1.52444412e-02 1.10122811e-01 9.46417174e-04\n",
      "  1.30618706e-01 1.69950197e-01 2.18436736e-01 6.92708333e+01]\n",
      " [2.21113554e-02 1.52444412e-02 1.10122811e-01 9.46417174e-04\n",
      "  1.30618706e-01 1.69950197e-01 2.18436736e-01 6.92708333e+01]\n",
      " [2.21113554e-02 1.52444412e-02 1.10122811e-01 9.46417174e-04\n",
      "  1.30618706e-01 1.69950197e-01 2.18436736e-01 6.92708333e+01]\n",
      " [2.21113554e-02 1.52444412e-02 1.10122811e-01 9.46417174e-04\n",
      "  1.30618706e-01 1.69950197e-01 2.18436736e-01 6.92708333e+01]\n",
      " [2.21113554e-02 1.52444412e-02 1.10122811e-01 9.46417174e-04\n",
      "  1.30618706e-01 1.69950197e-01 2.18436736e-01 6.92708333e+01]\n",
      " [2.21113554e-02 1.52444412e-02 1.10122811e-01 9.46417174e-04\n",
      "  1.30618706e-01 1.69950197e-01 2.18436736e-01 6.92708333e+01]\n",
      " [2.21113554e-02 1.52444412e-02 1.10122811e-01 9.46417174e-04\n",
      "  1.30618706e-01 1.69950197e-01 2.18436736e-01 6.92708333e+01]\n",
      " [2.21113554e-02 1.52444412e-02 1.10122811e-01 9.46417174e-04\n",
      "  1.30618706e-01 1.69950197e-01 2.18436736e-01 6.92708333e+01]\n",
      " [2.21113554e-02 1.52444412e-02 1.10122811e-01 9.46417174e-04\n",
      "  1.30618706e-01 1.69950197e-01 2.18436736e-01 6.92708333e+01]\n",
      " [2.21113554e-02 1.52444412e-02 1.10122811e-01 9.46417174e-04\n",
      "  1.30618706e-01 1.69950197e-01 2.18436736e-01 6.92708333e+01]\n",
      " [2.21113554e-02 1.52444412e-02 1.10122811e-01 9.46417174e-04\n",
      "  1.30618706e-01 1.69950197e-01 2.18436736e-01 6.92708333e+01]\n",
      " [2.21113554e-02 1.52444412e-02 1.10122811e-01 9.46417174e-04\n",
      "  1.30618706e-01 1.69950197e-01 2.18436736e-01 6.92708333e+01]\n",
      " [2.21113554e-02 1.52444412e-02 1.10122811e-01 9.46417174e-04\n",
      "  1.30618706e-01 1.69950197e-01 2.18436736e-01 6.92708333e+01]] \n",
      "\n",
      "Pop data shape:  (20, 8)\n",
      "This is population_weights_with_accuracy,  [ 0.09297682  0.08038482  0.07530662  0.08851603  0.12807066  0.20714394\n",
      "  0.27204589 72.39583333] \n",
      "\n"
     ]
    },
    {
     "ename": "TypeError",
     "evalue": "only integer scalar arrays can be converted to a scalar index",
     "output_type": "error",
     "traceback": [
      "\u001B[0;31m---------------------------------------------------------------------------\u001B[0m",
      "\u001B[0;31mTypeError\u001B[0m                                 Traceback (most recent call last)",
      "Cell \u001B[0;32mIn[109], line 17\u001B[0m\n\u001B[1;32m     13\u001B[0m \u001B[38;5;28;01mif\u001B[39;00m gen_num \u001B[38;5;241m==\u001B[39m \u001B[38;5;241m0\u001B[39m:\n\u001B[1;32m     15\u001B[0m     genetic_weights \u001B[38;5;241m=\u001B[39m weight_manipulation(num_of_population, num_of_weights,heart_swagger)\n\u001B[0;32m---> 17\u001B[0m     population_data_sorted \u001B[38;5;241m=\u001B[39m \u001B[43mget_weight_manipulated_acc\u001B[49m\u001B[43m(\u001B[49m\u001B[43mnum_of_population\u001B[49m\u001B[43m,\u001B[49m\u001B[43m \u001B[49m\u001B[43mgenetic_weights\u001B[49m\u001B[43m)\u001B[49m\n\u001B[1;32m     18\u001B[0m     ig_generations_data[\u001B[38;5;124mf\u001B[39m\u001B[38;5;124m'\u001B[39m\u001B[38;5;124mGeneration_\u001B[39m\u001B[38;5;132;01m{\u001B[39;00mgen_num\u001B[38;5;250m \u001B[39m\u001B[38;5;241m+\u001B[39m\u001B[38;5;250m \u001B[39m\u001B[38;5;241m1\u001B[39m\u001B[38;5;132;01m}\u001B[39;00m\u001B[38;5;124m'\u001B[39m] \u001B[38;5;241m=\u001B[39m population_data_sorted\n\u001B[1;32m     19\u001B[0m \u001B[38;5;28;01melse\u001B[39;00m :\n",
      "Cell \u001B[0;32mIn[108], line 46\u001B[0m, in \u001B[0;36mget_weight_manipulated_acc\u001B[0;34m(num_of_population, genetic_weights)\u001B[0m\n\u001B[1;32m     44\u001B[0m         population_weights_with_accuracy \u001B[38;5;241m=\u001B[39m np\u001B[38;5;241m.\u001B[39mappend(genetic_weights[population], accuracy)  \u001B[38;5;66;03m# the current populations weight and its accuracy \u001B[39;00m\n\u001B[1;32m     45\u001B[0m         \u001B[38;5;28mprint\u001B[39m(\u001B[38;5;124m\"\u001B[39m\u001B[38;5;124mThis is population_weights_with_accuracy, \u001B[39m\u001B[38;5;124m\"\u001B[39m, population_weights_with_accuracy, \u001B[38;5;124m\"\u001B[39m\u001B[38;5;130;01m\\n\u001B[39;00m\u001B[38;5;124m\"\u001B[39m)\n\u001B[0;32m---> 46\u001B[0m         population_data \u001B[38;5;241m=\u001B[39m \u001B[43mnp\u001B[49m\u001B[38;5;241;43m.\u001B[39;49m\u001B[43mconcatenate\u001B[49m\u001B[43m(\u001B[49m\u001B[43mpopulation_data\u001B[49m\u001B[43m,\u001B[49m\u001B[43mpopulation_weights_with_accuracy\u001B[49m\u001B[43m,\u001B[49m\u001B[43mcasting\u001B[49m\u001B[38;5;241;43m=\u001B[39;49m\u001B[38;5;124;43m'\u001B[39;49m\u001B[38;5;124;43mno\u001B[39;49m\u001B[38;5;124;43m'\u001B[39;49m\u001B[43m)\u001B[49m  \u001B[38;5;66;03m# unsorted full generation data which holds weight and accuracy of each population\u001B[39;00m\n\u001B[1;32m     47\u001B[0m         \u001B[38;5;28mprint\u001B[39m(\u001B[38;5;124m\"\u001B[39m\u001B[38;5;124mThis is population_data inside the else, \u001B[39m\u001B[38;5;124m\"\u001B[39m, population_data, \u001B[38;5;124m\"\u001B[39m\u001B[38;5;130;01m\\n\u001B[39;00m\u001B[38;5;124m\"\u001B[39m)\n\u001B[1;32m     48\u001B[0m \u001B[38;5;66;03m# population_data_sorted = np.sort(population_data,axis=0) # sorted full generations \u001B[39;00m\n\u001B[1;32m     49\u001B[0m \u001B[38;5;66;03m# print(\"This is population_data_sorted, \", population_data_sorted, \"\\n\")\u001B[39;00m\n",
      "\u001B[0;31mTypeError\u001B[0m: only integer scalar arrays can be converted to a scalar index"
     ]
    }
   ],
   "execution_count": 109
  },
  {
   "metadata": {
    "ExecuteTime": {
     "end_time": "2025-03-15T20:29:56.084815Z",
     "start_time": "2025-03-15T20:29:56.020031Z"
    }
   },
   "cell_type": "code",
   "source": [
    "for i in range(0,20):\n",
    "    print(ig_generations_data[\"Generation_1\"][i][7])"
   ],
   "outputs": [
    {
     "ename": "IndexError",
     "evalue": "invalid index to scalar variable.",
     "output_type": "error",
     "traceback": [
      "\u001B[0;31m---------------------------------------------------------------------------\u001B[0m",
      "\u001B[0;31mIndexError\u001B[0m                                Traceback (most recent call last)",
      "Cell \u001B[0;32mIn[93], line 2\u001B[0m\n\u001B[1;32m      1\u001B[0m \u001B[38;5;28;01mfor\u001B[39;00m i \u001B[38;5;129;01min\u001B[39;00m \u001B[38;5;28mrange\u001B[39m(\u001B[38;5;241m0\u001B[39m,\u001B[38;5;241m20\u001B[39m):\n\u001B[0;32m----> 2\u001B[0m     \u001B[38;5;28mprint\u001B[39m(\u001B[43mig_generations_data\u001B[49m\u001B[43m[\u001B[49m\u001B[38;5;124;43m\"\u001B[39;49m\u001B[38;5;124;43mGeneration_1\u001B[39;49m\u001B[38;5;124;43m\"\u001B[39;49m\u001B[43m]\u001B[49m\u001B[43m[\u001B[49m\u001B[43mi\u001B[49m\u001B[43m]\u001B[49m\u001B[43m[\u001B[49m\u001B[38;5;241;43m7\u001B[39;49m\u001B[43m]\u001B[49m)\n",
      "\u001B[0;31mIndexError\u001B[0m: invalid index to scalar variable."
     ]
    }
   ],
   "execution_count": 93
  }
 ],
 "metadata": {
  "kaggle": {
   "accelerator": "none",
   "dataSources": [
    {
     "datasetId": 5392980,
     "sourceId": 8960076,
     "sourceType": "datasetVersion"
    },
    {
     "datasetId": 5618525,
     "sourceId": 9282343,
     "sourceType": "datasetVersion"
    },
    {
     "datasetId": 5767582,
     "sourceId": 9481805,
     "sourceType": "datasetVersion"
    }
   ],
   "dockerImageVersionId": 30761,
   "isGpuEnabled": false,
   "isInternetEnabled": true,
   "language": "python",
   "sourceType": "notebook"
  },
  "kernelspec": {
   "display_name": "Python 3",
   "language": "python",
   "name": "python3"
  },
  "language_info": {
   "codemirror_mode": {
    "name": "ipython",
    "version": 3
   },
   "file_extension": ".py",
   "mimetype": "text/x-python",
   "name": "python",
   "nbconvert_exporter": "python",
   "pygments_lexer": "ipython3",
   "version": "3.10.14"
  }
 },
 "nbformat": 4,
 "nbformat_minor": 4
}
