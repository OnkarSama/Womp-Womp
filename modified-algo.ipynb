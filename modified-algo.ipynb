{
 "cells": [
  {
   "cell_type": "code",
   "metadata": {
    "ExecuteTime": {
     "end_time": "2025-03-15T02:25:32.739556Z",
     "start_time": "2025-03-15T02:13:48.960682Z"
    }
   },
   "source": [
    "%reset -f"
   ],
   "outputs": [],
   "execution_count": 31
  },
  {
   "cell_type": "code",
   "metadata": {
    "execution": {
     "iopub.execute_input": "2024-09-29T02:38:20.757905Z",
     "iopub.status.busy": "2024-09-29T02:38:20.756585Z",
     "iopub.status.idle": "2024-09-29T02:38:20.764902Z",
     "shell.execute_reply": "2024-09-29T02:38:20.763087Z",
     "shell.execute_reply.started": "2024-09-29T02:38:20.757839Z"
    },
    "trusted": true,
    "ExecuteTime": {
     "end_time": "2025-03-15T02:25:32.739604Z",
     "start_time": "2025-03-15T02:13:49.086811Z"
    }
   },
   "source": [
    "import pandas as pd # data processing, CSV file I/O (e.g. pd.read_csv)\n",
    "import numpy as np # linear algebra\n",
    "import random as rd # random number generator\n",
    "\n",
    "# metrics\n",
    "from sklearn.metrics import accuracy_score, precision_score, recall_score, f1_score\n",
    "\n",
    "# classifiers\n",
    "from sklearn.tree import DecisionTreeClassifier, plot_tree, export_text\n",
    "from sklearn.neural_network import MLPClassifier\n",
    "from sklearn.ensemble import RandomForestClassifier\n",
    "from xgboost import XGBClassifier\n",
    "from sklearn import tree\n",
    "\n",
    "\n",
    "from sklearn.decomposition import PCA\n",
    "import matplotlib.pyplot as plt\n",
    "\n",
    "# from OnkarClassifier import VectorKNNClassifier"
   ],
   "outputs": [],
   "execution_count": 32
  },
  {
   "cell_type": "code",
   "metadata": {
    "execution": {
     "iopub.execute_input": "2024-09-29T02:38:23.284645Z",
     "iopub.status.busy": "2024-09-29T02:38:23.284279Z",
     "iopub.status.idle": "2024-09-29T02:38:23.292841Z",
     "shell.execute_reply": "2024-09-29T02:38:23.291579Z",
     "shell.execute_reply.started": "2024-09-29T02:38:23.284604Z"
    },
    "trusted": true,
    "ExecuteTime": {
     "end_time": "2025-03-15T02:25:32.739655Z",
     "start_time": "2025-03-15T02:13:49.093186Z"
    }
   },
   "source": [
    "#split data method takes in the dataframe, positive label, negative label and the size of the dataframe\n",
    "#Returns 4 datasets, 2 positive and 2 negative\n",
    "def split_data(df_total, class_col, pos_label, neg_label, size):\n",
    "    \n",
    "    full_pos = df_total[df_total[class_col] == pos_label]\n",
    "    full_neg = df_total[df_total[class_col] == neg_label]\n",
    "    \n",
    "    split_pos_index = round(len(full_pos) * size)\n",
    "    split_neg_index = round(len(full_neg) * size)\n",
    "    \n",
    "    pos1 = full_pos.iloc[:split_pos_index]\n",
    "    pos2 = full_pos.iloc[split_pos_index:]\n",
    "    neg1 = full_neg.iloc[:split_neg_index]\n",
    "    neg2 = full_neg.iloc[split_neg_index:]\n",
    "    \n",
    "    return pos1.reset_index(drop=True), pos2.reset_index(drop=True), neg1.reset_index(drop=True), neg2.reset_index(drop=True)"
   ],
   "outputs": [],
   "execution_count": 33
  },
  {
   "cell_type": "code",
   "metadata": {
    "execution": {
     "iopub.execute_input": "2024-09-29T02:38:23.294473Z",
     "iopub.status.busy": "2024-09-29T02:38:23.294077Z",
     "iopub.status.idle": "2024-09-29T02:38:23.308587Z",
     "shell.execute_reply": "2024-09-29T02:38:23.307360Z",
     "shell.execute_reply.started": "2024-09-29T02:38:23.294431Z"
    },
    "trusted": true,
    "ExecuteTime": {
     "end_time": "2025-03-15T02:25:32.739705Z",
     "start_time": "2025-03-15T02:13:49.102169Z"
    }
   },
   "source": [
    "#takes in number of random indices to be selected and the length of the data frame\n",
    "#returns an array of size shown above and full of random indices\n",
    "def get_random_indices(num_of_random,len_of_df):\n",
    "    \n",
    "    indices = []\n",
    "    \n",
    "    for i in range(num_of_random):\n",
    "        indices.append(rd.randint(0,len_of_df-1))\n",
    "    \n",
    "    return indices"
   ],
   "outputs": [],
   "execution_count": 34
  },
  {
   "cell_type": "code",
   "metadata": {
    "execution": {
     "iopub.execute_input": "2024-09-29T02:38:23.314857Z",
     "iopub.status.busy": "2024-09-29T02:38:23.314396Z",
     "iopub.status.idle": "2024-09-29T02:38:23.328348Z",
     "shell.execute_reply": "2024-09-29T02:38:23.327215Z",
     "shell.execute_reply.started": "2024-09-29T02:38:23.314811Z"
    },
    "trusted": true,
    "ExecuteTime": {
     "end_time": "2025-03-15T02:25:32.739757Z",
     "start_time": "2025-03-15T02:13:49.108330Z"
    }
   },
   "source": [
    "#Creating train test set takes in our 4 datasets as created in split_data method\n",
    "#also takes in the feature columns, class columns and a random number\n",
    "# num_of_random gives the desired number of random data\n",
    "#returns x and y train and x and y test\n",
    "def create_train_test_set(pos1, pos2, neg1, neg2, feature_cols, class_col, num_of_rand):\n",
    "    \n",
    "    feature_cols = feature_cols.drop(class_col)\n",
    "\n",
    "    X_train = pd.DataFrame()\n",
    "    X_test = pd.DataFrame()\n",
    "    y_train = pd.DataFrame()\n",
    "    y_test = pd.DataFrame()\n",
    "    \n",
    "    random_pos_indices = get_random_indices(num_of_rand,len(pos1))\n",
    "    random_pos = pos1.iloc[random_pos_indices]\n",
    "    remaining_pos1 = pos1.drop(random_pos_indices)\n",
    "    \n",
    "    random_neg_indices = get_random_indices(num_of_rand,len(neg1))\n",
    "    random_neg = neg1.iloc[random_neg_indices]\n",
    "    remaining_neg1 = neg1.drop(random_neg_indices)\n",
    "    \n",
    "    full_train_set = pd.concat([random_pos,random_neg])\n",
    "    \n",
    "    full_remaining_pos = pd.concat([remaining_pos1,pos2])\n",
    "    full_remaining_neg = pd.concat([remaining_neg1,neg2])\n",
    "    full_test_set = pd.concat([full_remaining_pos,full_remaining_neg])\n",
    "    \n",
    "    X_train = full_train_set[feature_cols]\n",
    "    y_train = pd.concat([y_train,full_train_set[class_col]])\n",
    "    \n",
    "    X_test = full_test_set[feature_cols]\n",
    "    y_test = pd.concat([y_test,full_test_set[class_col]])\n",
    "    \n",
    "    return X_train.reset_index(drop=True), y_train.reset_index(drop=True), X_test.reset_index(drop=True), y_test.reset_index(drop=True)"
   ],
   "outputs": [],
   "execution_count": 35
  },
  {
   "cell_type": "code",
   "metadata": {
    "execution": {
     "iopub.execute_input": "2024-09-29T02:38:25.402923Z",
     "iopub.status.busy": "2024-09-29T02:38:25.401908Z",
     "iopub.status.idle": "2024-09-29T02:38:25.417906Z",
     "shell.execute_reply": "2024-09-29T02:38:25.416423Z",
     "shell.execute_reply.started": "2024-09-29T02:38:25.402864Z"
    },
    "trusted": true,
    "ExecuteTime": {
     "end_time": "2025-03-15T02:25:32.739804Z",
     "start_time": "2025-03-15T02:13:49.115516Z"
    }
   },
   "source": [
    "#get entropy takes in a text called info and returns the entropy contained in the info\n",
    "# info is all the information of a root and children node of a decision tree\n",
    "#returns an entropy value as a float.\n",
    "def get_entropy(info):\n",
    "    \n",
    "    text = str(info)\n",
    "    \n",
    "    parts = text.split('entropy = ')[1]\n",
    "    entropy_value = parts.split('\\\\n')[0]\n",
    "\n",
    "    # Convert the entropy value to a float\n",
    "    return float(entropy_value)"
   ],
   "outputs": [],
   "execution_count": 36
  },
  {
   "cell_type": "code",
   "metadata": {
    "execution": {
     "iopub.execute_input": "2024-09-29T02:38:25.420065Z",
     "iopub.status.busy": "2024-09-29T02:38:25.419615Z",
     "iopub.status.idle": "2024-09-29T02:38:25.430020Z",
     "shell.execute_reply": "2024-09-29T02:38:25.428584Z",
     "shell.execute_reply.started": "2024-09-29T02:38:25.420021Z"
    },
    "trusted": true,
    "ExecuteTime": {
     "end_time": "2025-03-15T02:25:32.739868Z",
     "start_time": "2025-03-15T02:13:49.121322Z"
    }
   },
   "source": [
    "#Get num of samples takes in a text called info and assigns it to a value\n",
    "#returns a float of the sample value\n",
    "#maybe also rename this variable\n",
    "def get_num_of_samples(info):\n",
    "    \n",
    "    text = str(info)\n",
    "    \n",
    "    parts = text.split('samples = ')[1]\n",
    "    num_of_samples = parts.split('\\\\n')[0]\n",
    "\n",
    "    # Convert the num of samples to a float\n",
    "    return float(num_of_samples)"
   ],
   "outputs": [],
   "execution_count": 37
  },
  {
   "cell_type": "code",
   "metadata": {
    "execution": {
     "iopub.execute_input": "2024-09-29T02:38:25.432304Z",
     "iopub.status.busy": "2024-09-29T02:38:25.431844Z",
     "iopub.status.idle": "2024-09-29T02:38:25.443141Z",
     "shell.execute_reply": "2024-09-29T02:38:25.441633Z",
     "shell.execute_reply.started": "2024-09-29T02:38:25.432237Z"
    },
    "trusted": true,
    "ExecuteTime": {
     "end_time": "2025-03-15T02:25:32.739920Z",
     "start_time": "2025-03-15T02:13:49.128288Z"
    }
   },
   "source": [
    "#model metrics takes in the x and y train and creates the model metrics\n",
    "#returns a dictionary with a graph, tree, parents and children nodes\n",
    "# which contain their entropies and sample size\n",
    "def model_metrics(X_train, y_train):\n",
    "    \n",
    "    clf = DecisionTreeClassifier(criterion='entropy', max_depth=1) # Initialize the decision tree classifier\n",
    "    clf.fit(X_train, y_train) # Fitting the classifier on the training data\n",
    "    \n",
    "    col_names = X_train.columns\n",
    "    label = y_train.columns[0]\n",
    "    \n",
    "    info = plot_tree(clf, feature_names=col_names, class_names=[str(pos_label), str(neg_label)], rounded=True, filled=True)\n",
    "    \n",
    "    metrics = {\n",
    "        'Graph' : info,\n",
    "        'Tree': clf,\n",
    "        'e_parent': get_entropy(info[0]),\n",
    "        'e_child1': get_entropy(info[1]),\n",
    "        'e_child2' : get_entropy(info[3]),\n",
    "        'parent_sample' : get_num_of_samples(info[0]),\n",
    "        'child_sample1' : get_num_of_samples(info[1]),\n",
    "        'child_sample2' : get_num_of_samples(info[3]),\n",
    "    }\n",
    "\n",
    "#     plot_tree(clf, feature_names=col_names, class_names=[str(pos_label), str(neg_label)], rounded=True, filled=True)\n",
    "#     plt.show()\n",
    "    \n",
    "    return metrics"
   ],
   "outputs": [],
   "execution_count": 38
  },
  {
   "cell_type": "code",
   "metadata": {
    "execution": {
     "iopub.execute_input": "2024-09-29T02:38:25.446687Z",
     "iopub.status.busy": "2024-09-29T02:38:25.445726Z",
     "iopub.status.idle": "2024-09-29T02:38:25.457339Z",
     "shell.execute_reply": "2024-09-29T02:38:25.455973Z",
     "shell.execute_reply.started": "2024-09-29T02:38:25.446625Z"
    },
    "trusted": true,
    "ExecuteTime": {
     "end_time": "2025-03-15T02:25:32.739966Z",
     "start_time": "2025-03-15T02:13:49.135314Z"
    }
   },
   "source": [
    "# calculate_information_gain uses entropy values gained from the root and children nodes\n",
    "# these values come from a decision tree of depth one of a specific attribute\n",
    "# returns the information gain of the column\n",
    "def calculate_information_gain(metrics):\n",
    "    \n",
    "    return metrics['e_parent']-((metrics['child_sample1']/metrics['parent_sample'])*metrics['e_child1'])-((metrics['child_sample2']/metrics['parent_sample'])*metrics['e_child2'])"
   ],
   "outputs": [],
   "execution_count": 39
  },
  {
   "cell_type": "code",
   "metadata": {
    "execution": {
     "iopub.execute_input": "2024-09-29T02:38:25.459368Z",
     "iopub.status.busy": "2024-09-29T02:38:25.458862Z",
     "iopub.status.idle": "2024-09-29T02:38:25.469990Z",
     "shell.execute_reply": "2024-09-29T02:38:25.468600Z",
     "shell.execute_reply.started": "2024-09-29T02:38:25.459302Z"
    },
    "trusted": true,
    "ExecuteTime": {
     "end_time": "2025-03-15T02:25:32.740010Z",
     "start_time": "2025-03-15T02:13:49.140965Z"
    }
   },
   "source": [
    "#takes in x and y train, label col and columns\n",
    "#then returns our information gain weights\n",
    "def get_information_gain(X_train, y_train, label_col, columns):\n",
    "    \n",
    "    information_gain_weights = pd.DataFrame()\n",
    "    col_names = columns[:-1]\n",
    "    current_information_gain = np.array([])\n",
    "\n",
    "    \n",
    "    for col in columns:\n",
    "        if col != label_col:\n",
    "            metrics = model_metrics(X_train[[col]], y_train)\n",
    "            current_information_gain = np.append(current_information_gain, calculate_information_gain(metrics))\n",
    "    current_information_gain = current_information_gain.reshape(1,-1)\n",
    "    information_gain_weights = pd.DataFrame(current_information_gain, columns=col_names)\n",
    "\n",
    "    return information_gain_weights"
   ],
   "outputs": [],
   "execution_count": 40
  },
  {
   "cell_type": "code",
   "metadata": {
    "execution": {
     "iopub.execute_input": "2024-09-29T02:38:25.472665Z",
     "iopub.status.busy": "2024-09-29T02:38:25.472137Z",
     "iopub.status.idle": "2024-09-29T02:38:25.482200Z",
     "shell.execute_reply": "2024-09-29T02:38:25.480967Z",
     "shell.execute_reply.started": "2024-09-29T02:38:25.472607Z"
    },
    "trusted": true,
    "ExecuteTime": {
     "end_time": "2025-03-15T02:25:32.742277Z",
     "start_time": "2025-03-15T02:13:49.146974Z"
    }
   },
   "source": [
    "#avg info gain takes in the data frame called df_gain\n",
    "#returns the results in a dataframe and an average information gain array\n",
    "def get_avg_info_gain_df(df_gain):\n",
    "    # Compute the mean of each column in the DataFrame\n",
    "    avg_info_gain = df_gain.mean()\n",
    "    \n",
    "    # Convert the resulting Series to a NumPy array\n",
    "    avg_info_gain_array = avg_info_gain.to_numpy()\n",
    "    \n",
    "    # Create a DataFrame from the average coefficients\n",
    "    avg_info_gain_df = pd.DataFrame([avg_info_gain], columns=df_gain.columns, index=['avg'])\n",
    "    \n",
    "    # Concatenate the original DataFrame with the average coefficients DataFrame\n",
    "    result_df = pd.concat([df_gain, avg_info_gain_df], ignore_index=False)\n",
    "    \n",
    "    return result_df, avg_info_gain_array"
   ],
   "outputs": [],
   "execution_count": 41
  },
  {
   "cell_type": "code",
   "metadata": {
    "execution": {
     "iopub.execute_input": "2024-09-29T02:38:25.484427Z",
     "iopub.status.busy": "2024-09-29T02:38:25.483881Z",
     "iopub.status.idle": "2024-09-29T02:38:25.497848Z",
     "shell.execute_reply": "2024-09-29T02:38:25.496505Z",
     "shell.execute_reply.started": "2024-09-29T02:38:25.484368Z"
    },
    "trusted": true,
    "ExecuteTime": {
     "end_time": "2025-03-15T02:25:32.742384Z",
     "start_time": "2025-03-15T02:13:49.153010Z"
    }
   },
   "source": [
    "#Run simulation takes in a simulation length number (number of times information gain is calculated for each attribute ) \n",
    "# a total data frame, label column, positive and negative label, size and number of rand\n",
    "# num_of_rand allows for n random data \n",
    "#returns average info gain dataframe and array, x and y text, and x and y train\n",
    "def run_simulation(sim_len, df_total, label_col,pos_label, neg_label, size, num_of_rand):\n",
    "    \n",
    "    sim_info_gain = pd.DataFrame()\n",
    "    \n",
    "    positive1, positive2, negative1, negative2 = split_data(df_total, label_col, pos_label, neg_label, size)\n",
    "\n",
    "    \n",
    "    for i in range(sim_len):\n",
    "        \n",
    "        X_train, y_train, X_test, y_test = create_train_test_set(positive1, positive2, negative1, negative2, df_total.columns, label_col, num_of_rand)\n",
    "        \n",
    "        info_gain = get_information_gain(X_train, y_train, label_col, df_total.columns)\n",
    "        \n",
    "        sim_info_gain = pd.concat([info_gain, sim_info_gain])\n",
    "        \n",
    "    avg_info_gain_df, avg_info_gain_array = get_avg_info_gain_df(sim_info_gain)\n",
    "        \n",
    "    return avg_info_gain_df, avg_info_gain_array, X_test, y_test, X_train, y_train\n",
    "    "
   ],
   "outputs": [],
   "execution_count": 42
  },
  {
   "cell_type": "code",
   "metadata": {
    "ExecuteTime": {
     "end_time": "2025-03-15T02:25:32.742445Z",
     "start_time": "2025-03-15T02:13:49.159632Z"
    }
   },
   "source": [
    "# analogous to get information gain function \n",
    "def get_explained_variance(pca,feature_cols):\n",
    "    \n",
    "    explained_variance= pca.explained_variance_ratio_\n",
    "    explained_variance = explained_variance.reshape(1,-1)\n",
    "\n",
    "    ev_df = pd.DataFrame(explained_variance, columns=feature_cols)\n",
    "    \n",
    "    return ev_df"
   ],
   "outputs": [],
   "execution_count": 43
  },
  {
   "cell_type": "code",
   "metadata": {
    "ExecuteTime": {
     "end_time": "2025-03-15T02:25:32.742501Z",
     "start_time": "2025-03-15T02:13:49.165475Z"
    }
   },
   "source": [
    "# analogous to get avg information gain function \n",
    "def get_avg_explained_variance_df(df_ev):\n",
    "    # Compute the mean of each column in the DataFrame\n",
    "    avg_ev = df_ev.mean()\n",
    "\n",
    "    # Convert the resulting Series to a NumPy array\n",
    "    avg_ev_array = avg_ev.to_numpy()\n",
    "\n",
    "    # Create a DataFrame from the average coefficients\n",
    "    avg_ev_df = pd.DataFrame([avg_ev], columns=df_ev.columns, index=['avg'])\n",
    "\n",
    "    # Concatenate the original DataFrame with the average coefficients DataFrame\n",
    "    result_df = pd.concat([df_ev, avg_ev_df], ignore_index=False)\n",
    "\n",
    "    return result_df, avg_ev_array"
   ],
   "outputs": [],
   "execution_count": 44
  },
  {
   "metadata": {
    "ExecuteTime": {
     "end_time": "2025-03-15T02:25:32.742581Z",
     "start_time": "2025-03-15T02:13:49.171097Z"
    }
   },
   "cell_type": "code",
   "source": [
    "# mod run simulation is a function similar to the one above \n",
    "# but uses explained variance PCA instead of Information gain\n",
    "#returns average explained variance dataframe and array, x and y text, and x and y train\n",
    "def mod_run_simulation(sim_len, df_total, label_col,pos_label, neg_label, size, num_of_rand):\n",
    "\n",
    "    sim_explained_variance = pd.DataFrame()\n",
    "    \n",
    "    pca = PCA(n_components=13)\n",
    "    pc = pca.fit_transform(df_heart_standardized.iloc[:-1])\n",
    "\n",
    "    df_pca = pd.DataFrame(data=pc, columns=['principal component 1', 'principal component 2', 'principal component 3',\n",
    "                                        'principal component 4', 'principal component 5', 'principal component 6',\n",
    "                                        'principal component 7','principal component 8','principal component 9','principal component 10','principal component 11','principal component 12','principal component 13'])\n",
    "\n",
    "    final_pca_df = pd.concat([df_pca, df_heart_standardized[['num']]], axis = 1)\n",
    "\n",
    "    phishing1, phishing2, non_phishing1, non_phishing2 = split_data(final_pca_df, label_col, pos_label, neg_label, size)\n",
    "\n",
    "    for i in range(sim_len):\n",
    "\n",
    "        X_train, y_train, X_test, y_test = create_train_test_set(phishing1, phishing2, non_phishing1, non_phishing2, final_pca_df.columns, label_col, num_of_rand)\n",
    "\n",
    "        explained_variance = get_explained_variance(pca,df_pca.columns)\n",
    "        sim_explained_variance = pd.concat([explained_variance, sim_explained_variance])\n",
    "    \n",
    "\n",
    "    avg_explained_variance_df, avg_explained_variance_array = get_avg_explained_variance_df(sim_explained_variance)\n",
    "\n",
    "    return avg_explained_variance_df, avg_explained_variance_array, X_test, y_test, X_train, y_train\n"
   ],
   "outputs": [],
   "execution_count": 45
  },
  {
   "cell_type": "code",
   "metadata": {
    "execution": {
     "iopub.execute_input": "2024-09-29T02:38:31.368969Z",
     "iopub.status.busy": "2024-09-29T02:38:31.368381Z",
     "iopub.status.idle": "2024-09-29T02:38:31.389918Z",
     "shell.execute_reply": "2024-09-29T02:38:31.388562Z",
     "shell.execute_reply.started": "2024-09-29T02:38:31.368921Z"
    },
    "trusted": true,
    "ExecuteTime": {
     "end_time": "2025-03-15T02:25:32.742655Z",
     "start_time": "2025-03-15T02:13:49.177848Z"
    }
   },
   "source": [
    "column_names = [\n",
    "  'age', 'sex', 'cp', 'trestbps', 'chol', 'fbs', 'restecg', \n",
    "  'thalach', 'exang', 'oldpeak', 'slope', 'ca', 'thal', 'num'\n",
    "]\n",
    "\n",
    "df_heart = pd.read_csv('heartdiseaes/processed.cleveland.data', names = column_names, index_col = False)\n",
    "\n",
    "new_row_values = [63, 1, 1, 145, 233, 1, 2, 150, 0, 2.3, 3.0, 0, 6.0, 0]\n",
    "\n",
    "df_heart.loc[0] = new_row_values"
   ],
   "outputs": [],
   "execution_count": 46
  },
  {
   "cell_type": "code",
   "metadata": {
    "execution": {
     "iopub.execute_input": "2024-09-29T02:38:31.392688Z",
     "iopub.status.busy": "2024-09-29T02:38:31.392141Z",
     "iopub.status.idle": "2024-09-29T02:38:31.405524Z",
     "shell.execute_reply": "2024-09-29T02:38:31.404095Z",
     "shell.execute_reply.started": "2024-09-29T02:38:31.392627Z"
    },
    "trusted": true,
    "ExecuteTime": {
     "end_time": "2025-03-15T02:25:32.742775Z",
     "start_time": "2025-03-15T02:13:49.203902Z"
    }
   },
   "source": [
    "for i in df_heart.itertuples():\n",
    "    tup = i\n",
    "    for j in tup:\n",
    "        if j == '?':\n",
    "            print(tup)"
   ],
   "outputs": [
    {
     "name": "stdout",
     "output_type": "stream",
     "text": [
      "Pandas(Index=87, age=53.0, sex=0.0, cp=3.0, trestbps=128.0, chol=216.0, fbs=0.0, restecg=2.0, thalach=115.0, exang=0.0, oldpeak=0.0, slope=1.0, ca='0.0', thal='?', num=0)\n",
      "Pandas(Index=166, age=52.0, sex=1.0, cp=3.0, trestbps=138.0, chol=223.0, fbs=0.0, restecg=0.0, thalach=169.0, exang=0.0, oldpeak=0.0, slope=1.0, ca='?', thal='3.0', num=0)\n",
      "Pandas(Index=192, age=43.0, sex=1.0, cp=4.0, trestbps=132.0, chol=247.0, fbs=1.0, restecg=2.0, thalach=143.0, exang=1.0, oldpeak=0.1, slope=2.0, ca='?', thal='7.0', num=1)\n",
      "Pandas(Index=266, age=52.0, sex=1.0, cp=4.0, trestbps=128.0, chol=204.0, fbs=1.0, restecg=0.0, thalach=156.0, exang=1.0, oldpeak=1.0, slope=2.0, ca='0.0', thal='?', num=2)\n",
      "Pandas(Index=287, age=58.0, sex=1.0, cp=2.0, trestbps=125.0, chol=220.0, fbs=0.0, restecg=0.0, thalach=144.0, exang=0.0, oldpeak=0.4, slope=2.0, ca='?', thal='7.0', num=0)\n",
      "Pandas(Index=302, age=38.0, sex=1.0, cp=3.0, trestbps=138.0, chol=175.0, fbs=0.0, restecg=0.0, thalach=173.0, exang=0.0, oldpeak=0.0, slope=1.0, ca='?', thal='3.0', num=0)\n"
     ]
    }
   ],
   "execution_count": 47
  },
  {
   "cell_type": "code",
   "metadata": {
    "execution": {
     "iopub.execute_input": "2024-09-29T02:38:31.408408Z",
     "iopub.status.busy": "2024-09-29T02:38:31.407884Z",
     "iopub.status.idle": "2024-09-29T02:38:31.416958Z",
     "shell.execute_reply": "2024-09-29T02:38:31.415460Z",
     "shell.execute_reply.started": "2024-09-29T02:38:31.408347Z"
    },
    "trusted": true,
    "ExecuteTime": {
     "end_time": "2025-03-15T02:25:32.742889Z",
     "start_time": "2025-03-15T02:13:49.231885Z"
    }
   },
   "source": [
    "row_nums = [87,166,192,266,287,302]\n",
    "df_heart = df_heart.drop(row_nums)"
   ],
   "outputs": [],
   "execution_count": 48
  },
  {
   "cell_type": "code",
   "metadata": {
    "execution": {
     "iopub.execute_input": "2024-09-29T02:38:31.419273Z",
     "iopub.status.busy": "2024-09-29T02:38:31.418640Z",
     "iopub.status.idle": "2024-09-29T02:38:31.433610Z",
     "shell.execute_reply": "2024-09-29T02:38:31.432260Z",
     "shell.execute_reply.started": "2024-09-29T02:38:31.419218Z"
    },
    "trusted": true,
    "ExecuteTime": {
     "end_time": "2025-03-15T02:25:32.742973Z",
     "start_time": "2025-03-15T02:13:49.289042Z"
    }
   },
   "source": [
    "df_heart.dtypes"
   ],
   "outputs": [
    {
     "data": {
      "text/plain": [
       "age         float64\n",
       "sex         float64\n",
       "cp          float64\n",
       "trestbps    float64\n",
       "chol        float64\n",
       "fbs         float64\n",
       "restecg     float64\n",
       "thalach     float64\n",
       "exang       float64\n",
       "oldpeak     float64\n",
       "slope       float64\n",
       "ca           object\n",
       "thal         object\n",
       "num           int64\n",
       "dtype: object"
      ]
     },
     "execution_count": 49,
     "metadata": {},
     "output_type": "execute_result"
    }
   ],
   "execution_count": 49
  },
  {
   "cell_type": "code",
   "metadata": {
    "execution": {
     "iopub.execute_input": "2024-09-29T02:38:31.436206Z",
     "iopub.status.busy": "2024-09-29T02:38:31.435683Z",
     "iopub.status.idle": "2024-09-29T02:38:31.445886Z",
     "shell.execute_reply": "2024-09-29T02:38:31.444565Z",
     "shell.execute_reply.started": "2024-09-29T02:38:31.436148Z"
    },
    "trusted": true,
    "ExecuteTime": {
     "end_time": "2025-03-15T02:25:32.761368Z",
     "start_time": "2025-03-15T02:13:49.337774Z"
    }
   },
   "source": [
    "df_heart['ca'] = pd.to_numeric(df_heart['ca'])"
   ],
   "outputs": [],
   "execution_count": 50
  },
  {
   "cell_type": "code",
   "metadata": {
    "execution": {
     "iopub.execute_input": "2024-09-29T02:38:31.448012Z",
     "iopub.status.busy": "2024-09-29T02:38:31.447471Z",
     "iopub.status.idle": "2024-09-29T02:38:31.458600Z",
     "shell.execute_reply": "2024-09-29T02:38:31.457192Z",
     "shell.execute_reply.started": "2024-09-29T02:38:31.447961Z"
    },
    "trusted": true,
    "ExecuteTime": {
     "end_time": "2025-03-15T02:25:32.761727Z",
     "start_time": "2025-03-15T02:13:49.374421Z"
    }
   },
   "source": [
    "df_heart['thal'] = pd.to_numeric(df_heart['thal'])"
   ],
   "outputs": [],
   "execution_count": 51
  },
  {
   "cell_type": "code",
   "metadata": {
    "execution": {
     "iopub.execute_input": "2024-09-29T02:38:31.461062Z",
     "iopub.status.busy": "2024-09-29T02:38:31.460655Z",
     "iopub.status.idle": "2024-09-29T02:38:31.472797Z",
     "shell.execute_reply": "2024-09-29T02:38:31.471242Z",
     "shell.execute_reply.started": "2024-09-29T02:38:31.461017Z"
    },
    "trusted": true,
    "ExecuteTime": {
     "end_time": "2025-03-15T02:25:32.761798Z",
     "start_time": "2025-03-15T02:13:49.445343Z"
    }
   },
   "source": [
    "df_heart['num'] = df_heart['num'].replace([1,2,3,4], 1)"
   ],
   "outputs": [],
   "execution_count": 52
  },
  {
   "cell_type": "code",
   "metadata": {
    "execution": {
     "iopub.execute_input": "2024-09-29T02:38:31.475142Z",
     "iopub.status.busy": "2024-09-29T02:38:31.474676Z",
     "iopub.status.idle": "2024-09-29T02:38:31.485571Z",
     "shell.execute_reply": "2024-09-29T02:38:31.484055Z",
     "shell.execute_reply.started": "2024-09-29T02:38:31.475093Z"
    },
    "trusted": true,
    "ExecuteTime": {
     "end_time": "2025-03-15T02:25:32.761862Z",
     "start_time": "2025-03-15T02:13:49.485818Z"
    }
   },
   "source": [
    "def standardizer(df):\n",
    "    \n",
    "    temp_df = df.copy()\n",
    "    \n",
    "    for col in temp_df.columns[:-1]:\n",
    "        \n",
    "        temp_df[col] = (temp_df[col] - temp_df[col].mean())/temp_df[col].std()\n",
    "        \n",
    "    return temp_df"
   ],
   "outputs": [],
   "execution_count": 53
  },
  {
   "cell_type": "code",
   "metadata": {
    "execution": {
     "iopub.execute_input": "2024-09-29T02:38:31.487758Z",
     "iopub.status.busy": "2024-09-29T02:38:31.487308Z",
     "iopub.status.idle": "2024-09-29T02:38:31.510941Z",
     "shell.execute_reply": "2024-09-29T02:38:31.509628Z",
     "shell.execute_reply.started": "2024-09-29T02:38:31.487713Z"
    },
    "trusted": true,
    "ExecuteTime": {
     "end_time": "2025-03-15T02:25:32.761914Z",
     "start_time": "2025-03-15T02:13:49.502619Z"
    }
   },
   "source": [
    "df_heart_standardized = standardizer(df_heart)"
   ],
   "outputs": [],
   "execution_count": 54
  },
  {
   "cell_type": "code",
   "metadata": {
    "execution": {
     "iopub.execute_input": "2024-09-29T02:38:31.513367Z",
     "iopub.status.busy": "2024-09-29T02:38:31.512839Z",
     "iopub.status.idle": "2024-09-29T02:38:31.545711Z",
     "shell.execute_reply": "2024-09-29T02:38:31.544242Z",
     "shell.execute_reply.started": "2024-09-29T02:38:31.513310Z"
    },
    "trusted": true,
    "ExecuteTime": {
     "end_time": "2025-03-15T02:25:32.761961Z",
     "start_time": "2025-03-15T02:13:49.541656Z"
    }
   },
   "source": [
    "df_heart.head()"
   ],
   "outputs": [
    {
     "data": {
      "text/plain": [
       "    age  sex   cp  trestbps   chol  fbs  restecg  thalach  exang  oldpeak  \\\n",
       "0  63.0  1.0  1.0     145.0  233.0  1.0      2.0    150.0    0.0      2.3   \n",
       "1  67.0  1.0  4.0     160.0  286.0  0.0      2.0    108.0    1.0      1.5   \n",
       "2  67.0  1.0  4.0     120.0  229.0  0.0      2.0    129.0    1.0      2.6   \n",
       "3  37.0  1.0  3.0     130.0  250.0  0.0      0.0    187.0    0.0      3.5   \n",
       "4  41.0  0.0  2.0     130.0  204.0  0.0      2.0    172.0    0.0      1.4   \n",
       "\n",
       "   slope   ca  thal  num  \n",
       "0    3.0  0.0   6.0    0  \n",
       "1    2.0  3.0   3.0    1  \n",
       "2    2.0  2.0   7.0    1  \n",
       "3    3.0  0.0   3.0    0  \n",
       "4    1.0  0.0   3.0    0  "
      ],
      "text/html": [
       "<div>\n",
       "<style scoped>\n",
       "    .dataframe tbody tr th:only-of-type {\n",
       "        vertical-align: middle;\n",
       "    }\n",
       "\n",
       "    .dataframe tbody tr th {\n",
       "        vertical-align: top;\n",
       "    }\n",
       "\n",
       "    .dataframe thead th {\n",
       "        text-align: right;\n",
       "    }\n",
       "</style>\n",
       "<table border=\"1\" class=\"dataframe\">\n",
       "  <thead>\n",
       "    <tr style=\"text-align: right;\">\n",
       "      <th></th>\n",
       "      <th>age</th>\n",
       "      <th>sex</th>\n",
       "      <th>cp</th>\n",
       "      <th>trestbps</th>\n",
       "      <th>chol</th>\n",
       "      <th>fbs</th>\n",
       "      <th>restecg</th>\n",
       "      <th>thalach</th>\n",
       "      <th>exang</th>\n",
       "      <th>oldpeak</th>\n",
       "      <th>slope</th>\n",
       "      <th>ca</th>\n",
       "      <th>thal</th>\n",
       "      <th>num</th>\n",
       "    </tr>\n",
       "  </thead>\n",
       "  <tbody>\n",
       "    <tr>\n",
       "      <th>0</th>\n",
       "      <td>63.0</td>\n",
       "      <td>1.0</td>\n",
       "      <td>1.0</td>\n",
       "      <td>145.0</td>\n",
       "      <td>233.0</td>\n",
       "      <td>1.0</td>\n",
       "      <td>2.0</td>\n",
       "      <td>150.0</td>\n",
       "      <td>0.0</td>\n",
       "      <td>2.3</td>\n",
       "      <td>3.0</td>\n",
       "      <td>0.0</td>\n",
       "      <td>6.0</td>\n",
       "      <td>0</td>\n",
       "    </tr>\n",
       "    <tr>\n",
       "      <th>1</th>\n",
       "      <td>67.0</td>\n",
       "      <td>1.0</td>\n",
       "      <td>4.0</td>\n",
       "      <td>160.0</td>\n",
       "      <td>286.0</td>\n",
       "      <td>0.0</td>\n",
       "      <td>2.0</td>\n",
       "      <td>108.0</td>\n",
       "      <td>1.0</td>\n",
       "      <td>1.5</td>\n",
       "      <td>2.0</td>\n",
       "      <td>3.0</td>\n",
       "      <td>3.0</td>\n",
       "      <td>1</td>\n",
       "    </tr>\n",
       "    <tr>\n",
       "      <th>2</th>\n",
       "      <td>67.0</td>\n",
       "      <td>1.0</td>\n",
       "      <td>4.0</td>\n",
       "      <td>120.0</td>\n",
       "      <td>229.0</td>\n",
       "      <td>0.0</td>\n",
       "      <td>2.0</td>\n",
       "      <td>129.0</td>\n",
       "      <td>1.0</td>\n",
       "      <td>2.6</td>\n",
       "      <td>2.0</td>\n",
       "      <td>2.0</td>\n",
       "      <td>7.0</td>\n",
       "      <td>1</td>\n",
       "    </tr>\n",
       "    <tr>\n",
       "      <th>3</th>\n",
       "      <td>37.0</td>\n",
       "      <td>1.0</td>\n",
       "      <td>3.0</td>\n",
       "      <td>130.0</td>\n",
       "      <td>250.0</td>\n",
       "      <td>0.0</td>\n",
       "      <td>0.0</td>\n",
       "      <td>187.0</td>\n",
       "      <td>0.0</td>\n",
       "      <td>3.5</td>\n",
       "      <td>3.0</td>\n",
       "      <td>0.0</td>\n",
       "      <td>3.0</td>\n",
       "      <td>0</td>\n",
       "    </tr>\n",
       "    <tr>\n",
       "      <th>4</th>\n",
       "      <td>41.0</td>\n",
       "      <td>0.0</td>\n",
       "      <td>2.0</td>\n",
       "      <td>130.0</td>\n",
       "      <td>204.0</td>\n",
       "      <td>0.0</td>\n",
       "      <td>2.0</td>\n",
       "      <td>172.0</td>\n",
       "      <td>0.0</td>\n",
       "      <td>1.4</td>\n",
       "      <td>1.0</td>\n",
       "      <td>0.0</td>\n",
       "      <td>3.0</td>\n",
       "      <td>0</td>\n",
       "    </tr>\n",
       "  </tbody>\n",
       "</table>\n",
       "</div>"
      ]
     },
     "execution_count": 55,
     "metadata": {},
     "output_type": "execute_result"
    }
   ],
   "execution_count": 55
  },
  {
   "cell_type": "code",
   "metadata": {
    "execution": {
     "iopub.execute_input": "2024-09-29T02:38:31.548455Z",
     "iopub.status.busy": "2024-09-29T02:38:31.547558Z",
     "iopub.status.idle": "2024-09-29T02:38:31.572580Z",
     "shell.execute_reply": "2024-09-29T02:38:31.571165Z",
     "shell.execute_reply.started": "2024-09-29T02:38:31.548393Z"
    },
    "trusted": true,
    "ExecuteTime": {
     "end_time": "2025-03-15T02:25:32.762709Z",
     "start_time": "2025-03-15T02:13:49.606081Z"
    }
   },
   "source": [
    "df_heart_standardized.head()"
   ],
   "outputs": [
    {
     "data": {
      "text/plain": [
       "        age       sex        cp  trestbps      chol       fbs   restecg  \\\n",
       "0  0.934603  0.689930 -2.236854  0.749116 -0.275978  2.426332  1.008496   \n",
       "1  1.376605  0.689930  0.872408  1.593577  0.743301 -0.410757  1.008496   \n",
       "2  1.376605  0.689930  0.872408 -0.658320 -0.352904 -0.410757  1.008496   \n",
       "3 -1.938409  0.689930 -0.164013 -0.095345  0.050961 -0.410757 -1.001728   \n",
       "4 -1.496407 -1.444542 -1.200433 -0.095345 -0.833696 -0.410757  1.008496   \n",
       "\n",
       "    thalach     exang   oldpeak     slope        ca      thal  num  \n",
       "0  0.017465 -0.695246  1.067164  2.260330 -0.720760  0.654772    0  \n",
       "1 -1.813274  1.433497  0.381130  0.642696  2.474249 -0.892713    1  \n",
       "2 -0.897904  1.433497  1.324427  0.642696  1.409246  1.170601    1  \n",
       "3  1.630258 -0.695246  2.096215  2.260330 -0.720760 -0.892713    0  \n",
       "4  0.976423 -0.695246  0.295376 -0.974938 -0.720760 -0.892713    0  "
      ],
      "text/html": [
       "<div>\n",
       "<style scoped>\n",
       "    .dataframe tbody tr th:only-of-type {\n",
       "        vertical-align: middle;\n",
       "    }\n",
       "\n",
       "    .dataframe tbody tr th {\n",
       "        vertical-align: top;\n",
       "    }\n",
       "\n",
       "    .dataframe thead th {\n",
       "        text-align: right;\n",
       "    }\n",
       "</style>\n",
       "<table border=\"1\" class=\"dataframe\">\n",
       "  <thead>\n",
       "    <tr style=\"text-align: right;\">\n",
       "      <th></th>\n",
       "      <th>age</th>\n",
       "      <th>sex</th>\n",
       "      <th>cp</th>\n",
       "      <th>trestbps</th>\n",
       "      <th>chol</th>\n",
       "      <th>fbs</th>\n",
       "      <th>restecg</th>\n",
       "      <th>thalach</th>\n",
       "      <th>exang</th>\n",
       "      <th>oldpeak</th>\n",
       "      <th>slope</th>\n",
       "      <th>ca</th>\n",
       "      <th>thal</th>\n",
       "      <th>num</th>\n",
       "    </tr>\n",
       "  </thead>\n",
       "  <tbody>\n",
       "    <tr>\n",
       "      <th>0</th>\n",
       "      <td>0.934603</td>\n",
       "      <td>0.689930</td>\n",
       "      <td>-2.236854</td>\n",
       "      <td>0.749116</td>\n",
       "      <td>-0.275978</td>\n",
       "      <td>2.426332</td>\n",
       "      <td>1.008496</td>\n",
       "      <td>0.017465</td>\n",
       "      <td>-0.695246</td>\n",
       "      <td>1.067164</td>\n",
       "      <td>2.260330</td>\n",
       "      <td>-0.720760</td>\n",
       "      <td>0.654772</td>\n",
       "      <td>0</td>\n",
       "    </tr>\n",
       "    <tr>\n",
       "      <th>1</th>\n",
       "      <td>1.376605</td>\n",
       "      <td>0.689930</td>\n",
       "      <td>0.872408</td>\n",
       "      <td>1.593577</td>\n",
       "      <td>0.743301</td>\n",
       "      <td>-0.410757</td>\n",
       "      <td>1.008496</td>\n",
       "      <td>-1.813274</td>\n",
       "      <td>1.433497</td>\n",
       "      <td>0.381130</td>\n",
       "      <td>0.642696</td>\n",
       "      <td>2.474249</td>\n",
       "      <td>-0.892713</td>\n",
       "      <td>1</td>\n",
       "    </tr>\n",
       "    <tr>\n",
       "      <th>2</th>\n",
       "      <td>1.376605</td>\n",
       "      <td>0.689930</td>\n",
       "      <td>0.872408</td>\n",
       "      <td>-0.658320</td>\n",
       "      <td>-0.352904</td>\n",
       "      <td>-0.410757</td>\n",
       "      <td>1.008496</td>\n",
       "      <td>-0.897904</td>\n",
       "      <td>1.433497</td>\n",
       "      <td>1.324427</td>\n",
       "      <td>0.642696</td>\n",
       "      <td>1.409246</td>\n",
       "      <td>1.170601</td>\n",
       "      <td>1</td>\n",
       "    </tr>\n",
       "    <tr>\n",
       "      <th>3</th>\n",
       "      <td>-1.938409</td>\n",
       "      <td>0.689930</td>\n",
       "      <td>-0.164013</td>\n",
       "      <td>-0.095345</td>\n",
       "      <td>0.050961</td>\n",
       "      <td>-0.410757</td>\n",
       "      <td>-1.001728</td>\n",
       "      <td>1.630258</td>\n",
       "      <td>-0.695246</td>\n",
       "      <td>2.096215</td>\n",
       "      <td>2.260330</td>\n",
       "      <td>-0.720760</td>\n",
       "      <td>-0.892713</td>\n",
       "      <td>0</td>\n",
       "    </tr>\n",
       "    <tr>\n",
       "      <th>4</th>\n",
       "      <td>-1.496407</td>\n",
       "      <td>-1.444542</td>\n",
       "      <td>-1.200433</td>\n",
       "      <td>-0.095345</td>\n",
       "      <td>-0.833696</td>\n",
       "      <td>-0.410757</td>\n",
       "      <td>1.008496</td>\n",
       "      <td>0.976423</td>\n",
       "      <td>-0.695246</td>\n",
       "      <td>0.295376</td>\n",
       "      <td>-0.974938</td>\n",
       "      <td>-0.720760</td>\n",
       "      <td>-0.892713</td>\n",
       "      <td>0</td>\n",
       "    </tr>\n",
       "  </tbody>\n",
       "</table>\n",
       "</div>"
      ]
     },
     "execution_count": 56,
     "metadata": {},
     "output_type": "execute_result"
    }
   ],
   "execution_count": 56
  },
  {
   "cell_type": "code",
   "metadata": {
    "execution": {
     "iopub.execute_input": "2024-09-29T02:38:31.575473Z",
     "iopub.status.busy": "2024-09-29T02:38:31.574967Z",
     "iopub.status.idle": "2024-09-29T02:38:31.582385Z",
     "shell.execute_reply": "2024-09-29T02:38:31.581216Z",
     "shell.execute_reply.started": "2024-09-29T02:38:31.575413Z"
    },
    "trusted": true,
    "ExecuteTime": {
     "end_time": "2025-03-15T02:25:32.762955Z",
     "start_time": "2025-03-15T02:13:49.717162Z"
    }
   },
   "source": [
    "sim_len = 100\n",
    "label_col = 'num'\n",
    "pos_label = 1\n",
    "neg_label = 0\n",
    "size = .5\n",
    "num_of_rand = 100\n",
    "heart_avg_info_gain_df, heart_avg_info_gain_array, heart_X_test, heart_y_test, heart_X_train, heart_y_train = run_simulation(sim_len, df_heart_standardized, label_col, pos_label, neg_label, size, num_of_rand)"
   ],
   "outputs": [
    {
     "data": {
      "text/plain": [
       "<Figure size 640x480 with 1 Axes>"
      ],
      "image/png": "[encoded data removed]"
     },
     "metadata": {},
     "output_type": "display_data"
    }
   ],
   "execution_count": 57
  },
  {
   "cell_type": "markdown",
   "metadata": {},
   "source": [
    "<p>1st process is getting sqaured difference </p>\n",
    "<p>2nd weights dot squared diff </p>\n",
    "<p>3rd sort resulting list</p>\n",
    "<p>4th return k neighbors </p>\n",
    "<p> 5th classify</p>"
   ]
  },
  {
   "cell_type": "code",
   "metadata": {
    "execution": {
     "iopub.execute_input": "2024-09-29T02:38:31.622058Z",
     "iopub.status.busy": "2024-09-29T02:38:31.621635Z",
     "iopub.status.idle": "2024-09-29T02:38:31.635871Z",
     "shell.execute_reply": "2024-09-29T02:38:31.634532Z",
     "shell.execute_reply.started": "2024-09-29T02:38:31.622002Z"
    },
    "trusted": true,
    "ExecuteTime": {
     "end_time": "2025-03-15T02:25:32.763038Z",
     "start_time": "2025-03-15T02:14:00.141267Z"
    }
   },
   "source": [
    "#a and b are rows here. \n",
    "def Euclid_Distance(a,b,weights,Columns,Class):\n",
    "    c=Columns \n",
    "    D=0\n",
    "    for i in range(len(c)-1):\n",
    "        if c[i]!=Class:\n",
    "            D+=(weights[i]**2)*(float(a[c[i]])-float(b[c[i]]))**2\n",
    "    return D**0.5\n",
    "\n",
    "\n",
    "def Nearest_Neighbors(point,List_Pot_Nbrs,weights,Class_Col_Name):\n",
    "    ClassWithDistance=[]\n",
    "    d=0\n",
    "    for n in range(len(List_Pot_Nbrs)):\n",
    "        d=Euclid_Distance(point,List_Pot_Nbrs.iloc[n],weights,List_Pot_Nbrs.columns,Class_Col_Name)\n",
    "        ClassWithDistance+=[[d,List_Pot_Nbrs.iloc[n][Class_Col_Name]]]\n",
    "    sorted_list = sorted(ClassWithDistance, key=lambda x: x[0])\n",
    "    \n",
    "    return sorted_list\n",
    "\n",
    "def KNN(k,Sorted_List):\n",
    "    Sum=0\n",
    "    for i in range(k):\n",
    "        if Sorted_List[i][1]==1:\n",
    "            Sum+=1\n",
    "    if Sum>k/2:\n",
    "        return 1\n",
    "    else:\n",
    "        return 0\n",
    "    \n",
    "def ConfusionMatrix(TrP,TrN,FaP,FaN):\n",
    "    print(\"         Confusion Matrix\")\n",
    "    print(\"TN,FP: \",TrN, \"    ,    \", FaP)\n",
    "    print(\"FN,TP: \",FaN,\"     ,    \", TrP)\n"
   ],
   "outputs": [],
   "execution_count": 58
  },
  {
   "cell_type": "code",
   "metadata": {
    "ExecuteTime": {
     "end_time": "2025-03-15T02:25:32.763089Z",
     "start_time": "2025-03-15T02:14:00.255442Z"
    }
   },
   "source": [
    "def specificity_score(TN,FP):\n",
    "    \n",
    "    return TN/(TN+FP)"
   ],
   "outputs": [],
   "execution_count": 59
  },
  {
   "cell_type": "code",
   "metadata": {
    "execution": {
     "iopub.execute_input": "2024-09-29T02:38:31.637795Z",
     "iopub.status.busy": "2024-09-29T02:38:31.637085Z",
     "iopub.status.idle": "2024-09-29T03:15:08.233315Z",
     "shell.execute_reply": "2024-09-29T03:15:08.231719Z",
     "shell.execute_reply.started": "2024-09-29T02:38:31.637734Z"
    },
    "trusted": true,
    "ExecuteTime": {
     "end_time": "2025-03-15T02:24:49.370416Z",
     "start_time": "2025-03-15T02:14:00.299368Z"
    }
   },
   "source": [
    "from sklearn.metrics import confusion_matrix\n",
    "\n",
    "avg_acc = []\n",
    "avg_precision = []\n",
    "avg_recall = []\n",
    "avg_f1 = []\n",
    "avg_specificity = []\n",
    "\n",
    "weight_avg_acc = []\n",
    "weight_avg_precision = []\n",
    "weight_avg_recall = []\n",
    "weight_avg_f1 = []\n",
    "weight_avg_specificity = []\n",
    "\n",
    "dropped_weight_avg_acc = []\n",
    "dropped_weight_avg_precision = []\n",
    "dropped_weight_avg_recall = []\n",
    "dropped_weight_avg_f1 = []\n",
    "dropped_weight_avg_specificity = []\n",
    "\n",
    "pca_avg_acc = []\n",
    "pca_avg_precision = []\n",
    "pca_avg_recall = []\n",
    "pca_avg_f1 = []\n",
    "pca_avg_specificity = []\n",
    "\n",
    "pca_explained_variance_acc = []\n",
    "pca_explained_variance_precision = []\n",
    "pca_explained_variance_recall = []\n",
    "pca_explained_variance_f1 = []\n",
    "pca_explained_variance_specificity = []\n",
    "\n",
    "NN_acc = []\n",
    "NN_precision = []\n",
    "NN_recall = []\n",
    "NN_f1 = []\n",
    "NN_specificity = []\n",
    "\n",
    "RFC_acc = []\n",
    "RFC_precision = []\n",
    "RFC_recall = []\n",
    "RFC_f1 = []\n",
    "RFC_specificity = []\n",
    "\n",
    "XGB_acc = []\n",
    "XGB_precision = []\n",
    "XGB_recall = []\n",
    "XGB_f1 = []\n",
    "XGB_specificity = []\n",
    "\n",
    "sim_len = 50\n",
    "label_col = 'num'\n",
    "pos_label = 1\n",
    "neg_label = 0\n",
    "size = .5\n",
    "num_of_rand = 100\n",
    "\n",
    "heart_swagger = []\n",
    "\n",
    "\n",
    "# Loops the length of the simulation\n",
    "\n",
    "for i in range(sim_len):\n",
    "    \n",
    "    heart_avg_info_gain_df, heart_avg_info_gain_array, heart_X_test, heart_y_test, heart_X_train, heart_y_train = run_simulation(sim_len, df_heart_standardized, label_col, pos_label, neg_label, size, num_of_rand)\n",
    "    Train_Data =  pd.concat([heart_X_train, heart_y_train], axis=1)\n",
    "    Test_Data = pd.concat([heart_X_test, heart_y_test], axis=1)\n",
    "    \n",
    "    TP=0\n",
    "    TN=0\n",
    "    FP=0\n",
    "    FN=0\n",
    "    \n",
    "    \n",
    "    # non weighted k-NN for all attributes\n",
    "    for p in range(len(Test_Data)):\n",
    "        point=Test_Data.iloc[p]\n",
    "        NBRS=Nearest_Neighbors(point, Train_Data, [1,1,1,1,1,1,1,1,1,1,1,1,1], \"num\")\n",
    "        Label=KNN(3,NBRS)\n",
    "        if (Label==point[\"num\"] and Label==1):\n",
    "            TP+=1\n",
    "        if (Label==point[\"num\"] and Label==0):\n",
    "            TN+=1\n",
    "        if (Label!=point[\"num\"] and Label==1):\n",
    "            FP+=1\n",
    "        if (Label!=point[\"num\"] and Label==0):\n",
    "            FN+=1\n",
    "    A_non_weighted=(TP+TN)/(TP+TN+FP+FN)\n",
    "    precision_non_weighted = TP/(TP+FP)\n",
    "    recall_non_weighted = TP/(TP+FN)\n",
    "    f1_non_weighted = (2 * precision_non_weighted * recall_non_weighted)/(precision_non_weighted+recall_non_weighted)\n",
    "    specificity_non_weighted = specificity_score(TN,FP)\n",
    "    \n",
    "    \n",
    "#     print(\"Accurecy:\", A)\n",
    "#     ConfusionMatrix(TP,TN,FP,FN)\n",
    "    avg_acc.append(A_non_weighted*100)\n",
    "    avg_precision.append(precision_non_weighted*100)\n",
    "    avg_recall.append(recall_non_weighted*100)\n",
    "    avg_f1.append(f1_non_weighted*100)\n",
    "    avg_specificity.append(specificity_non_weighted*100)\n",
    "\n",
    "    TP=0\n",
    "    TN=0\n",
    "    FP=0\n",
    "    FN=0\n",
    "\n",
    "    # weighted information gain k-NN with all attributes \n",
    "    for p in range(len(Test_Data)):\n",
    "        point=Test_Data.iloc[p]\n",
    "        NBRS=Nearest_Neighbors(point, Train_Data,  heart_avg_info_gain_array, \"num\")\n",
    "        Label=KNN(3,NBRS)\n",
    "        if (Label==point[\"num\"] and Label==1):\n",
    "            TP+=1\n",
    "        if (Label==point[\"num\"] and Label==0):\n",
    "            TN+=1\n",
    "        if (Label!=point[\"num\"] and Label==1):\n",
    "            FP+=1\n",
    "        if (Label!=point[\"num\"] and Label==0):\n",
    "            FN+=1\n",
    "    A_weighted=(TP+TN)/(TP+TN+FP+FN)\n",
    "    precision_weighted = TP/(TP+FP)\n",
    "    recall_weighted = TP/(TP+FN)\n",
    "    f1_weighted = (2 * precision_weighted * recall_weighted)/(precision_weighted+recall_weighted)\n",
    "    specificity_weighted = specificity_score(TN,FP)\n",
    "\n",
    "    weight_avg_acc.append(A_weighted*100)\n",
    "    weight_avg_precision.append(precision_weighted*100)\n",
    "    weight_avg_recall.append(recall_weighted*100)\n",
    "    weight_avg_f1.append(f1_weighted*100)\n",
    "    weight_avg_specificity.append(specificity_weighted*100)\n",
    "    \n",
    "    # dropping some columns as feature selections\n",
    "    alpha = .1\n",
    "    count = 0\n",
    "    heart_swagger = []\n",
    "    heart_indices = []  # Array to store the indices\n",
    "\n",
    "    for idx, ig in enumerate(heart_avg_info_gain_array):\n",
    "        if ((ig / max(heart_avg_info_gain_array)) ** 2 < alpha):\n",
    "            count += 1\n",
    "            heart_indices.append(idx)  # Append the index\n",
    "        else:\n",
    "            heart_swagger.append(ig)\n",
    "\n",
    "    dropped_heart_X_train = heart_X_train.drop(heart_X_train.columns[heart_indices],axis=1)\n",
    "    dropped_heart_X_test = heart_X_test.drop(heart_X_test.columns[heart_indices],axis=1)\n",
    "\n",
    "    Train_Data =  pd.concat([dropped_heart_X_train, heart_y_train], axis=1)\n",
    "    Test_Data = pd.concat([dropped_heart_X_test, heart_y_test], axis=1)\n",
    "\n",
    "    TP=0\n",
    "    TN=0\n",
    "    FP=0\n",
    "    FN=0\n",
    "\n",
    "    # weighted k-NN with dropped columns using information gain with dropped columns\n",
    "    for p in range(len(Test_Data)):\n",
    "        point=Test_Data.iloc[p]\n",
    "        NBRS=Nearest_Neighbors(point, Train_Data, heart_swagger , \"num\")\n",
    "        Label=KNN(3,NBRS)\n",
    "        if (Label==point[\"num\"] and Label==1):\n",
    "            TP+=1\n",
    "        if (Label==point[\"num\"] and Label==0):\n",
    "            TN+=1\n",
    "        if (Label!=point[\"num\"] and Label==1):\n",
    "            FP+=1\n",
    "        if (Label!=point[\"num\"] and Label==0):\n",
    "            FN+=1\n",
    "    A_dropped_weighted=(TP+TN)/(TP+TN+FP+FN)\n",
    "    precision_dropped_weighted = TP/(TP+FP)\n",
    "    recall_dropped_weighted = TP/(TP+FN)\n",
    "    f1_dropped_weighted = (2 * precision_dropped_weighted * recall_dropped_weighted)/(precision_dropped_weighted+recall_dropped_weighted)\n",
    "    specificity_dropped_weighted = specificity_score(TN,FP)\n",
    "\n",
    "    dropped_weight_avg_acc.append(A_dropped_weighted*100)\n",
    "    dropped_weight_avg_precision.append(precision_dropped_weighted*100)\n",
    "    dropped_weight_avg_recall.append(recall_dropped_weighted*100)\n",
    "    dropped_weight_avg_f1.append(f1_dropped_weighted*100)\n",
    "    dropped_weight_avg_specificity.append(specificity_dropped_weighted*100)\n",
    "    \n",
    "    \n",
    "    # PCA components brining all attributes to 7 \n",
    "    pca = PCA(n_components=7)\n",
    "    pc = pca.fit_transform(heart_X_train)\n",
    "    pca2 = PCA(n_components=7)\n",
    "    pc2 = pca.fit_transform(heart_X_test)\n",
    "\n",
    "    df_pca = pd.DataFrame(data=pc, columns=['principal component 1', 'principal component 2', 'principal component 3',\n",
    "                                            'principal component 4', 'principal component 5', 'principal component 6',\n",
    "                                            'principal component 7'])\n",
    "    df_pca2 = pd.DataFrame(data=pc2, columns=['principal component 1', 'principal component 2', 'principal component 3',\n",
    "                                          'principal component 4', 'principal component 5', 'principal component 6',\n",
    "                                          'principal component 7'])\n",
    "\n",
    "    final_train_pca_df = pd.concat([df_pca, heart_y_train[['num']]], axis = 1)\n",
    "    final_test_pca_df = pd.concat([df_pca2, heart_y_train[['num']]], axis = 1)\n",
    "\n",
    "    Train_Data =  final_train_pca_df\n",
    "    Test_Data = final_test_pca_df\n",
    "\n",
    "    TP=0\n",
    "    TN=0\n",
    "    FP=0\n",
    "    FN=0\n",
    "\n",
    "    # PCA k-NN\n",
    "    for p in range(len(Test_Data)):\n",
    "        point=Test_Data.iloc[p]\n",
    "        NBRS=Nearest_Neighbors(point, Train_Data, [1,1,1,1,1,1,1,1,1,1,1,1,1] , \"num\")\n",
    "        Label=KNN(3,NBRS)\n",
    "        if (Label==point[\"num\"] and Label==1):\n",
    "            TP+=1\n",
    "        if (Label==point[\"num\"] and Label==0):\n",
    "            TN+=1\n",
    "        if (Label!=point[\"num\"] and Label==1):\n",
    "            FP+=1\n",
    "        if (Label!=point[\"num\"] and Label==0):\n",
    "            FN+=1\n",
    "    \n",
    "    A_pca=(TP+TN)/(TP+TN+FP+FN)\n",
    "    precision_pca = TP/(TP+FP)\n",
    "    recall_pca = TP/(TP+FN)\n",
    "    f1_pca = (2 * precision_pca * recall_pca)/(precision_pca+recall_pca)\n",
    "    specificity_pca = specificity_score(TN,FP)\n",
    "\n",
    "    pca_avg_acc.append(A_pca*100)\n",
    "    pca_avg_precision.append(precision_pca*100)\n",
    "    pca_avg_recall.append(recall_pca*100)\n",
    "    pca_avg_f1.append(f1_pca*100)\n",
    "    pca_avg_specificity.append(specificity_pca*100)\n",
    "    \n",
    "    \n",
    "    # Explained Variance k-NN \n",
    "    ev_heart_avg_ev_df, ev_heart_avg_ev_array, ev_heart_X_test, ev_heart_y_test, ev_heart_X_train, ev_heart_y_train = mod_run_simulation(sim_len, df_heart_standardized, label_col, pos_label, neg_label, size, num_of_rand)\n",
    "\n",
    "\n",
    "    alpha = .1\n",
    "    count = 0\n",
    "    ev_heart_swagger = []\n",
    "    ev_heart_indices = []  # Array to store the indices\n",
    "\n",
    "    for idx, ev in enumerate(ev_heart_avg_ev_array):\n",
    "        if ev < (alpha ** 1 / 2)*max(ev_heart_avg_ev_array):\n",
    "            count += 1\n",
    "            ev_heart_indices.append(idx)  # Append the index\n",
    "        else:\n",
    "            ev_heart_swagger.append(ev)\n",
    "\n",
    "    ev_dropped_heart_X_train = ev_heart_X_train.drop(ev_heart_X_train.columns[ev_heart_indices],axis=1)\n",
    "    ev_dropped_heart_X_test = ev_heart_X_test.drop(ev_heart_X_test.columns[ev_heart_indices],axis=1)\n",
    "\n",
    "    Train_Data =  pd.concat([ev_dropped_heart_X_train, ev_heart_y_train], axis=1)\n",
    "    Test_Data = pd.concat([ev_dropped_heart_X_test, ev_heart_y_test], axis=1)\n",
    "\n",
    "    TP=0\n",
    "    TN=0\n",
    "    FP=0\n",
    "    FN=0\n",
    "\n",
    "\n",
    "    for p in range(len(Test_Data)):\n",
    "        point=Test_Data.iloc[p]\n",
    "        NBRS=Nearest_Neighbors(point, Train_Data, ev_heart_swagger , \"num\")\n",
    "        Label=KNN(3,NBRS)\n",
    "        if (Label==point[\"num\"] and Label==1):\n",
    "            TP+=1\n",
    "        if (Label==point[\"num\"] and Label==0):\n",
    "            TN+=1\n",
    "        if (Label!=point[\"num\"] and Label==1):\n",
    "            FP+=1\n",
    "        if (Label!=point[\"num\"] and Label==0):\n",
    "            FN+=1\n",
    "    A_pca_ev=(TP+TN)/(TP+TN+FP+FN)\n",
    "    precision_pca_ev = TP/(TP+FP)\n",
    "    recall_pca_ev = TP/(TP+FN)\n",
    "    f1_pca_ev = (2 * precision_pca_ev * recall_pca_ev)/(precision_pca_ev+recall_pca_ev)\n",
    "    specificity_pca_ev = specificity_score(TN,FP)\n",
    "\n",
    "    pca_explained_variance_acc.append(A_pca*100)\n",
    "    pca_explained_variance_precision.append(precision_pca*100)\n",
    "    pca_explained_variance_recall.append(recall_pca*100)\n",
    "    pca_explained_variance_f1.append(f1_pca*100)\n",
    "    pca_explained_variance_specificity.append(specificity_pca*100)\n",
    "    \n",
    "    \n",
    "    # Neural Network Classifier \n",
    "    clf_NN = MLPClassifier(solver='lbfgs', alpha=1e-5,\n",
    "                           hidden_layer_sizes=(5, 2), max_iter=1000, random_state=1)\n",
    "    clf_NN.fit(dropped_heart_X_train, heart_y_train.values.ravel())\n",
    "    \n",
    "    NN_prediction = clf_NN.predict(dropped_heart_X_test)\n",
    "\n",
    "    TN, FP, FN, TP = confusion_matrix(heart_y_test, NN_prediction, labels=[0, 1]).ravel()\n",
    "    \n",
    "    NN_acc.append(accuracy_score(heart_y_test, NN_prediction) * 100)\n",
    "    NN_precision.append(precision_score(heart_y_test, NN_prediction) * 100)\n",
    "    NN_recall.append(recall_score(heart_y_test, NN_prediction) * 100)\n",
    "    NN_f1.append(f1_score(heart_y_test, NN_prediction) * 100)\n",
    "    NN_specificity.append(specificity_score(TN, FP) * 100)\n",
    "    \n",
    "\n",
    "    # Random Forest Classifier \n",
    "    clf_RFC = RandomForestClassifier(max_depth=2, random_state=0)\n",
    "    clf_RFC.fit(dropped_heart_X_train, heart_y_train.values.ravel())\n",
    "\n",
    "    RFC_prediction = clf_NN.predict(dropped_heart_X_test)\n",
    "\n",
    "    TN, FP, FN, TP = confusion_matrix(heart_y_test, RFC_prediction, labels=[0, 1]).ravel()\n",
    "    \n",
    "    RFC_acc.append(accuracy_score(heart_y_test, RFC_prediction) * 100)\n",
    "    RFC_precision.append(precision_score(heart_y_test, RFC_prediction) * 100)\n",
    "    RFC_recall.append(recall_score(heart_y_test, RFC_prediction) * 100)\n",
    "    RFC_f1.append(f1_score(heart_y_test, RFC_prediction) * 100)\n",
    "    RFC_specificity.append(specificity_score(TN, FP) * 100)\n",
    "    \n",
    "    # XG Boost Classifier \n",
    "    clf_XGB = XGBClassifier(n_estimators=2, max_depth=2, learning_rate=1, objective='binary:logistic')\n",
    "\n",
    "    clf_XGB.fit(dropped_heart_X_train, heart_y_train.values.ravel())\n",
    "    \n",
    "    XGB_prediction = clf_XGB.predict(dropped_heart_X_test)\n",
    "\n",
    "    TN, FP, FN, TP = confusion_matrix(heart_y_test, XGB_prediction, labels=[0, 1]).ravel()\n",
    "    \n",
    "    XGB_acc.append(accuracy_score(heart_y_test, XGB_prediction) * 100)\n",
    "    XGB_precision.append(precision_score(heart_y_test, XGB_prediction) * 100)\n",
    "    XGB_recall.append(recall_score(heart_y_test, XGB_prediction) * 100)\n",
    "    XGB_f1.append(f1_score(heart_y_test, XGB_prediction) * 100)\n",
    "    XGB_specificity.append(specificity_score(TN, FP) * 100)"
   ],
   "outputs": [
    {
     "name": "stderr",
     "output_type": "stream",
     "text": [
      "Exception ignored in: <function TransformNode.set_children.<locals>.<lambda> at 0x1244a4400>\n",
      "Traceback (most recent call last):\n",
      "  File \"/Library/Frameworks/Python.framework/Versions/3.11/lib/python3.11/site-packages/matplotlib/transforms.py\", line 198, in <lambda>\n",
      "    self, lambda _, pop=child._parents.pop, k=id_self: pop(k))\n",
      "\n",
      "KeyboardInterrupt: \n"
     ]
    },
    {
     "data": {
      "text/plain": [
       "<Figure size 640x480 with 1 Axes>"
      ],
      "image/png": "[encoded data removed]"
     },
     "metadata": {},
     "output_type": "display_data"
    }
   ],
   "execution_count": 60
  },
  {
   "cell_type": "markdown",
   "metadata": {},
   "source": [
    "<h1 style=\"text-align:center;\">Accuracy</h1>\n"
   ]
  },
  {
   "cell_type": "code",
   "metadata": {
    "ExecuteTime": {
     "end_time": "2025-03-15T02:24:49.615236Z",
     "start_time": "2025-03-15T02:24:49.511254Z"
    }
   },
   "source": [
    "fig = plt.figure(figsize =(10, 7))\n",
    "plt.title(\"Accuracy\",fontsize=14, fontweight='bold')\n",
    "\n",
    "data = [dropped_weight_avg_acc, NN_acc, RFC_acc, XGB_acc]\n",
    "\n",
    "x_axis = ['Dropped Cols Weighted k-NN', 'Neural Network', 'Random Forest Classification', 'XGBoost Classification']\n",
    "\n",
    "# Creating plot\n",
    "plt.boxplot(data, tick_labels=x_axis)\n",
    "\n",
    "plt.savefig('Accuracy.svg')\n",
    "\n",
    "# show plot\n",
    "plt.show()"
   ],
   "outputs": [
    {
     "data": {
      "text/plain": [
       "<Figure size 1000x700 with 1 Axes>"
      ],
      "image/png": "[encoded data removed]"
     },
     "metadata": {},
     "output_type": "display_data"
    }
   ],
   "execution_count": 61
  },
  {
   "cell_type": "markdown",
   "metadata": {},
   "source": [
    "<h1 style=\"text-align:center;\">Specificity</h1>\n"
   ]
  },
  {
   "cell_type": "code",
   "metadata": {
    "ExecuteTime": {
     "end_time": "2025-03-15T02:24:50.528348Z",
     "start_time": "2025-03-15T02:24:50.447800Z"
    }
   },
   "source": [
    "fig = plt.figure(figsize =(10, 7))\n",
    "plt.title(\"Specificity\",fontsize=14, fontweight='bold')\n",
    "\n",
    "\n",
    "data = [dropped_weight_avg_specificity, NN_specificity, RFC_specificity , XGB_specificity]\n",
    "\n",
    "x_axis = ['Dropped Cols Weighted k-NN', 'Neural Network', 'Random Forest Classification', 'XGBoost Classification']\n",
    "\n",
    "# Creating plot\n",
    "plt.boxplot(data, tick_labels=x_axis)\n",
    "plt.savefig('Specificity.svg')\n",
    "# show plot\n",
    "plt.show()"
   ],
   "outputs": [
    {
     "data": {
      "text/plain": [
       "<Figure size 1000x700 with 1 Axes>"
      ],
      "image/png": "[encoded data removed]"
     },
     "metadata": {},
     "output_type": "display_data"
    }
   ],
   "execution_count": 62
  },
  {
   "cell_type": "markdown",
   "metadata": {},
   "source": [
    "<h1 style=\"text-align:center;\">F1</h1>\n"
   ]
  },
  {
   "cell_type": "code",
   "metadata": {
    "ExecuteTime": {
     "end_time": "2025-03-15T02:24:50.877143Z",
     "start_time": "2025-03-15T02:24:50.803818Z"
    }
   },
   "source": [
    "fig = plt.figure(figsize =(10, 7))\n",
    "plt.title(\"F1\",fontsize=14, fontweight='bold')\n",
    "\n",
    "\n",
    "data = [dropped_weight_avg_f1, NN_f1, RFC_f1 , XGB_f1]\n",
    "\n",
    "x_axis = ['Dropped Cols Weighted k-NN', 'Neural Network', 'Random Forest Classification', 'XGBoost Classification']\n",
    "\n",
    "# Creating plot\n",
    "plt.boxplot(data, tick_labels=x_axis)\n",
    "plt.savefig('F1.svg')\n",
    "# show plot\n",
    "plt.show()"
   ],
   "outputs": [
    {
     "data": {
      "text/plain": [
       "<Figure size 1000x700 with 1 Axes>"
      ],
      "image/png": "[encoded data removed]"
     },
     "metadata": {},
     "output_type": "display_data"
    }
   ],
   "execution_count": 63
  },
  {
   "cell_type": "markdown",
   "metadata": {},
   "source": [
    "<h1 style=\"text-align:center;\">Recall</h1>"
   ]
  },
  {
   "cell_type": "code",
   "metadata": {
    "ExecuteTime": {
     "end_time": "2025-03-15T02:24:51.228935Z",
     "start_time": "2025-03-15T02:24:51.127881Z"
    }
   },
   "source": [
    "fig = plt.figure(figsize =(10, 7))\n",
    "plt.title(\"Recall\",fontsize=14, fontweight='bold')\n",
    "\n",
    "\n",
    "data = [dropped_weight_avg_recall, NN_recall, RFC_recall , XGB_recall]\n",
    "\n",
    "x_axis = ['Dropped Cols Weighted k-NN', 'Neural Network', 'Random Forest Classification', 'XGBoost Classification']\n",
    "\n",
    "# Creating plot\n",
    "plt.boxplot(data, tick_labels=x_axis)\n",
    "plt.savefig('Recall.svg')\n",
    "# show plot\n",
    "plt.show()"
   ],
   "outputs": [
    {
     "data": {
      "text/plain": [
       "<Figure size 1000x700 with 1 Axes>"
      ],
      "image/png": "[encoded data removed]"
     },
     "metadata": {},
     "output_type": "display_data"
    }
   ],
   "execution_count": 64
  },
  {
   "cell_type": "markdown",
   "metadata": {},
   "source": [
    "<h1 style=text-align:center;>Precision</h1>"
   ]
  },
  {
   "cell_type": "code",
   "metadata": {
    "ExecuteTime": {
     "end_time": "2025-03-15T02:24:51.384588Z",
     "start_time": "2025-03-15T02:24:51.303417Z"
    }
   },
   "source": [
    "fig = plt.figure(figsize =(10, 7))\n",
    "plt.title(\"Precision\",fontsize=14, fontweight='bold')\n",
    "\n",
    "\n",
    "data = [dropped_weight_avg_precision,XGB_precision, XGB_precision , XGB_precision]\n",
    "\n",
    "x_axis = ['Dropped Cols Weighted k-NN', 'Neural Network', 'Random Forest Classification', 'XGBoost Classification']\n",
    "\n",
    "# Creating plot\n",
    "plt.boxplot(data, tick_labels=x_axis)\n",
    "plt.savefig('Precision.svg')\n",
    "# show plot\n",
    "plt.show()"
   ],
   "outputs": [
    {
     "data": {
      "text/plain": [
       "<Figure size 1000x700 with 1 Axes>"
      ],
      "image/png": "[encoded data removed]"
     },
     "metadata": {},
     "output_type": "display_data"
    }
   ],
   "execution_count": 65
  },
  {
   "cell_type": "code",
   "metadata": {
    "ExecuteTime": {
     "end_time": "2025-03-15T02:24:51.435130Z",
     "start_time": "2025-03-15T02:24:51.433357Z"
    }
   },
   "source": [
    "# fig = plt.figure(figsize =(10, 7))\n",
    "# plt.title(\"Accuracy\",fontsize=14, fontweight='bold')\n",
    "# \n",
    "# data = [dropped_weight_acc, NN_acc, RFC_acc, XGB_acc]\n",
    "# \n",
    "# x_axis = ['Dropped Cols Weighted k-NN', 'Neural Network', 'Random Forest Classification', 'XGBoost Classification']\n",
    "# \n",
    "# # Creating plot\n",
    "# plt.boxplot(data, tick_labels=x_axis)\n",
    "# \n",
    "# # plt.savefig('Accuracy.svg')\n",
    "# \n",
    "# # show plot\n",
    "# plt.show()"
   ],
   "outputs": [],
   "execution_count": 66
  },
  {
   "cell_type": "code",
   "metadata": {
    "ExecuteTime": {
     "end_time": "2025-03-15T02:24:52.119255Z",
     "start_time": "2025-03-15T02:24:51.844607Z"
    }
   },
   "source": [
    "import statistics\n",
    "statistics.mean(avg_acc)"
   ],
   "outputs": [
    {
     "data": {
      "text/plain": [
       "78.3319156409394"
      ]
     },
     "execution_count": 67,
     "metadata": {},
     "output_type": "execute_result"
    }
   ],
   "execution_count": 67
  },
  {
   "cell_type": "code",
   "metadata": {
    "ExecuteTime": {
     "end_time": "2025-03-15T02:24:52.563613Z",
     "start_time": "2025-03-15T02:24:52.560842Z"
    }
   },
   "source": [
    "statistics.mean(NN_acc)"
   ],
   "outputs": [
    {
     "data": {
      "text/plain": [
       "76.16129132638123"
      ]
     },
     "execution_count": 68,
     "metadata": {},
     "output_type": "execute_result"
    }
   ],
   "execution_count": 68
  },
  {
   "cell_type": "markdown",
   "metadata": {},
   "source": [
    "<h1 style=\"text-align:center;\">These are the Boxplots Including Regular PCA</h1>\n"
   ]
  },
  {
   "cell_type": "code",
   "metadata": {
    "ExecuteTime": {
     "end_time": "2025-03-15T02:24:53.043533Z",
     "start_time": "2025-03-15T02:24:52.933495Z"
    }
   },
   "source": [
    "fig = plt.figure(figsize =(10, 7))\n",
    "plt.title(\"Accuracy\",fontsize=14, fontweight='bold')\n",
    "\n",
    "\n",
    "data = [avg_acc,weight_avg_acc ,dropped_weight_avg_acc, pca_avg_acc, pca_explained_variance_acc]\n",
    "\n",
    "x_axis = ['Unweighted k-NN', 'Weights k-NN', 'Dropped Cols Weighted k-NN', 'PCA', 'PCA Explained Variance']\n",
    "\n",
    "# Creating plot\n",
    "plt.boxplot(data, tick_labels=x_axis)\n",
    "\n",
    "plt.savefig('Accuracy.svg')\n",
    "\n",
    "# show plot\n",
    "plt.show()"
   ],
   "outputs": [
    {
     "data": {
      "text/plain": [
       "<Figure size 1000x700 with 1 Axes>"
      ],
      "image/png": "[encoded data removed]"
     },
     "metadata": {},
     "output_type": "display_data"
    }
   ],
   "execution_count": 69
  },
  {
   "cell_type": "code",
   "metadata": {
    "ExecuteTime": {
     "end_time": "2025-03-15T02:24:53.364186Z",
     "start_time": "2025-03-15T02:24:53.282325Z"
    }
   },
   "source": [
    "fig = plt.figure(figsize =(10, 7))\n",
    "plt.title(\"Specificity\",fontsize=14, fontweight='bold')\n",
    "\n",
    "\n",
    "data = [avg_specificity, weight_avg_specificity, dropped_weight_avg_specificity, pca_avg_specificity, pca_explained_variance_specificity]\n",
    "\n",
    "x_axis = ['Unweighted k-NN', 'Weights k-NN', 'Dropped Cols Weighted k-NN', 'PCA', 'PCA Explained Variance']\n",
    "\n",
    "# Creating plot\n",
    "plt.boxplot(data, tick_labels=x_axis)\n",
    "plt.savefig('Specificity.svg')\n",
    "# show plot\n",
    "plt.show()"
   ],
   "outputs": [
    {
     "data": {
      "text/plain": [
       "<Figure size 1000x700 with 1 Axes>"
      ],
      "image/png": "[encoded data removed]"
     },
     "metadata": {},
     "output_type": "display_data"
    }
   ],
   "execution_count": 70
  },
  {
   "cell_type": "code",
   "metadata": {
    "ExecuteTime": {
     "end_time": "2025-03-15T02:24:53.942891Z",
     "start_time": "2025-03-15T02:24:53.852343Z"
    }
   },
   "source": [
    "fig = plt.figure(figsize =(10, 7))\n",
    "plt.title(\"F1\",fontsize=14, fontweight='bold')\n",
    "\n",
    "\n",
    "data = [avg_f1, weight_avg_f1, dropped_weight_avg_f1, pca_avg_f1, pca_explained_variance_f1]\n",
    "\n",
    "x_axis = ['Unweighted k-NN', 'Weights k-NN', 'Dropped Cols Weighted k-NN', 'PCA', 'PCA Explained Variance']\n",
    "\n",
    "# Creating plot\n",
    "plt.boxplot(data, tick_labels=x_axis)\n",
    "\n",
    "plt.savefig('F1.svg')\n",
    "\n",
    "# show plot\n",
    "plt.show()"
   ],
   "outputs": [
    {
     "data": {
      "text/plain": [
       "<Figure size 1000x700 with 1 Axes>"
      ],
      "image/png": "[encoded data removed]"
     },
     "metadata": {},
     "output_type": "display_data"
    }
   ],
   "execution_count": 71
  },
  {
   "cell_type": "code",
   "metadata": {
    "ExecuteTime": {
     "end_time": "2025-03-15T02:24:54.398002Z",
     "start_time": "2025-03-15T02:24:54.312853Z"
    }
   },
   "source": [
    "fig = plt.figure(figsize =(10, 7))\n",
    "plt.title(\"Recall\",fontsize=14, fontweight='bold')\n",
    "\n",
    "\n",
    "data = [avg_recall,weight_avg_recall, dropped_weight_avg_recall, pca_avg_recall, pca_explained_variance_recall]\n",
    "\n",
    "x_axis = ['Unweighted k-NN', 'Weights k-NN', 'Dropped Cols Weighted k-NN', 'PCA', 'PCA Explained Variance']\n",
    "\n",
    "# Creating plot\n",
    "plt.boxplot(data, tick_labels=x_axis)\n",
    "\n",
    "plt.savefig('Recall.svg')\n",
    "\n",
    "# show plot\n",
    "plt.show()"
   ],
   "outputs": [
    {
     "data": {
      "text/plain": [
       "<Figure size 1000x700 with 1 Axes>"
      ],
      "image/png": "[encoded data removed]"
     },
     "metadata": {},
     "output_type": "display_data"
    }
   ],
   "execution_count": 72
  },
  {
   "cell_type": "code",
   "metadata": {
    "ExecuteTime": {
     "end_time": "2025-03-15T02:24:54.705464Z",
     "start_time": "2025-03-15T02:24:54.541582Z"
    }
   },
   "source": [
    "fig = plt.figure(figsize =(10, 7))\n",
    "plt.title(\"Precision\",fontsize=14, fontweight='bold')\n",
    "\n",
    "\n",
    "data = [avg_precision, weight_avg_precision, dropped_weight_avg_precision, pca_avg_precision, pca_explained_variance_precision]\n",
    "\n",
    "x_axis = ['Unweighted k-NN', 'Weights k-NN', 'Dropped Cols Weighted k-NN', 'PCA', 'PCA Explained Variance']\n",
    "\n",
    "# Creating plot\n",
    "plt.boxplot(data, tick_labels=x_axis)\n",
    "\n",
    "plt.savefig('Precision.svg')\n",
    "\n",
    "# show plot\n",
    "plt.show()"
   ],
   "outputs": [
    {
     "data": {
      "text/plain": [
       "<Figure size 1000x700 with 1 Axes>"
      ],
      "image/png": "[encoded data removed]"
     },
     "metadata": {},
     "output_type": "display_data"
    }
   ],
   "execution_count": 73
  },
  {
   "cell_type": "markdown",
   "metadata": {},
   "source": [
    "<h1 style=\"text-align:center;\">These are the Boxplots Without Regular PCA</h1>"
   ]
  },
  {
   "cell_type": "code",
   "metadata": {
    "execution": {
     "iopub.execute_input": "2024-09-29T04:26:33.664317Z",
     "iopub.status.busy": "2024-09-29T04:26:33.663610Z",
     "iopub.status.idle": "2024-09-29T04:26:33.946346Z",
     "shell.execute_reply": "2024-09-29T04:26:33.945143Z",
     "shell.execute_reply.started": "2024-09-29T04:26:33.664265Z"
    },
    "trusted": true,
    "ExecuteTime": {
     "end_time": "2025-03-15T02:24:55.179972Z",
     "start_time": "2025-03-15T02:24:55.106434Z"
    }
   },
   "source": [
    "fig = plt.figure(figsize =(10, 7))\n",
    "plt.title(\"Accuracy\",fontsize=14, fontweight='bold')\n",
    "\n",
    "\n",
    "data = [avg_acc,weight_avg_acc ,dropped_weight_avg_acc,pca_explained_variance_acc]\n",
    "\n",
    "x_axis = ['Unweighted k-NN', 'Weights k-NN', 'Dropped Cols Weighted k-NN','PCA Explained Variance']\n",
    "\n",
    "# Creating plot\n",
    "plt.boxplot(data, tick_labels=x_axis)\n",
    "\n",
    "# show plot\n",
    "plt.show()"
   ],
   "outputs": [
    {
     "data": {
      "text/plain": [
       "<Figure size 1000x700 with 1 Axes>"
      ],
      "image/png": "[encoded data removed]"
     },
     "metadata": {},
     "output_type": "display_data"
    }
   ],
   "execution_count": 74
  },
  {
   "cell_type": "code",
   "metadata": {
    "ExecuteTime": {
     "end_time": "2025-03-15T02:24:55.661242Z",
     "start_time": "2025-03-15T02:24:55.577394Z"
    }
   },
   "source": [
    "fig = plt.figure(figsize =(10, 7))\n",
    "plt.title(\"Precision\",fontsize=14, fontweight='bold')\n",
    "\n",
    "\n",
    "data = [avg_precision,weight_avg_precision ,dropped_weight_avg_precision,pca_explained_variance_precision]\n",
    "\n",
    "x_axis = ['Unweighted k-NN', 'Weights k-NN', 'Dropped Cols Weighted k-NN','PCA Explained Variance']\n",
    "\n",
    "# Creating plot\n",
    "plt.boxplot(data, tick_labels=x_axis)\n",
    "\n",
    "# show plot\n",
    "plt.show()"
   ],
   "outputs": [
    {
     "data": {
      "text/plain": [
       "<Figure size 1000x700 with 1 Axes>"
      ],
      "image/png": "[encoded data removed]"
     },
     "metadata": {},
     "output_type": "display_data"
    }
   ],
   "execution_count": 75
  },
  {
   "cell_type": "code",
   "metadata": {
    "ExecuteTime": {
     "end_time": "2025-03-15T02:24:55.892255Z",
     "start_time": "2025-03-15T02:24:55.818969Z"
    }
   },
   "source": [
    "fig = plt.figure(figsize =(10, 7))\n",
    "plt.title(\"Recall\",fontsize=14, fontweight='bold')\n",
    "\n",
    "\n",
    "data = [avg_recall,weight_avg_recall ,dropped_weight_avg_recall,pca_explained_variance_recall]\n",
    "\n",
    "x_axis = ['Unweighted k-NN', 'Weights k-NN', 'Dropped Cols Weighted k-NN','PCA Explained Variance']\n",
    "\n",
    "# Creating plot\n",
    "plt.boxplot(data, tick_labels=x_axis)\n",
    "\n",
    "# show plot\n",
    "plt.show()"
   ],
   "outputs": [
    {
     "data": {
      "text/plain": [
       "<Figure size 1000x700 with 1 Axes>"
      ],
      "image/png": "[encoded data removed]"
     },
     "metadata": {},
     "output_type": "display_data"
    }
   ],
   "execution_count": 76
  },
  {
   "cell_type": "code",
   "metadata": {
    "ExecuteTime": {
     "end_time": "2025-03-15T02:24:56.237548Z",
     "start_time": "2025-03-15T02:24:56.177207Z"
    }
   },
   "source": [
    "fig = plt.figure(figsize =(10, 7))\n",
    "plt.title(\"F1\",fontsize=14, fontweight='bold')\n",
    "\n",
    "\n",
    "data = [avg_f1,weight_avg_f1 ,dropped_weight_avg_f1,pca_explained_variance_f1]\n",
    "\n",
    "x_axis = ['Unweighted k-NN', 'Weights k-NN', 'Dropped Cols Weighted k-NN','PCA Explained Variance']\n",
    "\n",
    "# Creating plot\n",
    "plt.boxplot(data, tick_labels=x_axis)\n",
    "\n",
    "# show plot\n",
    "plt.show()"
   ],
   "outputs": [
    {
     "data": {
      "text/plain": [
       "<Figure size 1000x700 with 1 Axes>"
      ],
      "image/png": "[encoded data removed]"
     },
     "metadata": {},
     "output_type": "display_data"
    }
   ],
   "execution_count": 77
  },
  {
   "cell_type": "code",
   "metadata": {
    "ExecuteTime": {
     "end_time": "2025-03-15T02:24:56.669111Z",
     "start_time": "2025-03-15T02:24:56.603076Z"
    }
   },
   "source": [
    "fig = plt.figure(figsize =(10, 7))\n",
    "plt.title(\"Specificity\",fontsize=14, fontweight='bold')\n",
    "\n",
    "\n",
    "data = [avg_specificity,weight_avg_specificity ,dropped_weight_avg_specificity,pca_explained_variance_specificity]\n",
    "\n",
    "x_axis = ['Unweighted k-NN', 'Weights k-NN', 'Dropped Cols Weighted k-NN','PCA Explained Variance']\n",
    "\n",
    "# Creating plot\n",
    "plt.boxplot(data, tick_labels=x_axis)\n",
    "\n",
    "# show plot\n",
    "plt.show()"
   ],
   "outputs": [
    {
     "data": {
      "text/plain": [
       "<Figure size 1000x700 with 1 Axes>"
      ],
      "image/png": "[encoded data removed]"
     },
     "metadata": {},
     "output_type": "display_data"
    }
   ],
   "execution_count": 78
  },
  {
   "cell_type": "code",
   "metadata": {
    "ExecuteTime": {
     "end_time": "2025-03-15T02:24:56.981385Z",
     "start_time": "2025-03-15T02:24:56.977171Z"
    }
   },
   "source": [
    "min(data[0])"
   ],
   "outputs": [
    {
     "data": {
      "text/plain": [
       "71.42857142857143"
      ]
     },
     "execution_count": 79,
     "metadata": {},
     "output_type": "execute_result"
    }
   ],
   "execution_count": 79
  },
  {
   "cell_type": "code",
   "metadata": {
    "ExecuteTime": {
     "end_time": "2025-03-15T02:24:57.271099Z",
     "start_time": "2025-03-15T02:24:57.268875Z"
    }
   },
   "source": [
    "min(data[1])"
   ],
   "outputs": [
    {
     "data": {
      "text/plain": [
       "69.52380952380952"
      ]
     },
     "execution_count": 80,
     "metadata": {},
     "output_type": "execute_result"
    }
   ],
   "execution_count": 80
  },
  {
   "cell_type": "code",
   "metadata": {
    "ExecuteTime": {
     "end_time": "2025-03-15T02:24:57.660505Z",
     "start_time": "2025-03-15T02:24:57.658346Z"
    }
   },
   "source": [
    "min(data[2])"
   ],
   "outputs": [
    {
     "data": {
      "text/plain": [
       "69.52380952380952"
      ]
     },
     "execution_count": 81,
     "metadata": {},
     "output_type": "execute_result"
    }
   ],
   "execution_count": 81
  },
  {
   "cell_type": "code",
   "metadata": {
    "ExecuteTime": {
     "end_time": "2025-03-15T02:24:57.938831Z",
     "start_time": "2025-03-15T02:24:57.934252Z"
    }
   },
   "source": [
    "min(data[3])"
   ],
   "outputs": [
    {
     "data": {
      "text/plain": [
       "14.000000000000002"
      ]
     },
     "execution_count": 82,
     "metadata": {},
     "output_type": "execute_result"
    }
   ],
   "execution_count": 82
  },
  {
   "cell_type": "code",
   "metadata": {
    "ExecuteTime": {
     "end_time": "2025-03-15T02:24:58.207331Z",
     "start_time": "2025-03-15T02:24:58.202994Z"
    }
   },
   "source": [
    "max(data[0])"
   ],
   "outputs": [
    {
     "data": {
      "text/plain": [
       "86.66666666666667"
      ]
     },
     "execution_count": 83,
     "metadata": {},
     "output_type": "execute_result"
    }
   ],
   "execution_count": 83
  },
  {
   "cell_type": "markdown",
   "metadata": {},
   "source": []
  },
  {
   "cell_type": "code",
   "metadata": {
    "ExecuteTime": {
     "end_time": "2025-03-15T02:24:58.557891Z",
     "start_time": "2025-03-15T02:24:58.552707Z"
    }
   },
   "source": [
    "max(data[1])"
   ],
   "outputs": [
    {
     "data": {
      "text/plain": [
       "91.17647058823529"
      ]
     },
     "execution_count": 84,
     "metadata": {},
     "output_type": "execute_result"
    }
   ],
   "execution_count": 84
  },
  {
   "cell_type": "code",
   "metadata": {
    "ExecuteTime": {
     "end_time": "2025-03-15T02:24:59.030895Z",
     "start_time": "2025-03-15T02:24:59.027218Z"
    }
   },
   "source": [
    "max(data[2])"
   ],
   "outputs": [
    {
     "data": {
      "text/plain": [
       "90.38461538461539"
      ]
     },
     "execution_count": 85,
     "metadata": {},
     "output_type": "execute_result"
    }
   ],
   "execution_count": 85
  },
  {
   "cell_type": "code",
   "metadata": {
    "ExecuteTime": {
     "end_time": "2025-03-15T02:24:59.107184Z",
     "start_time": "2025-03-15T02:24:59.104880Z"
    }
   },
   "source": [
    "max(data[3])"
   ],
   "outputs": [
    {
     "data": {
      "text/plain": [
       "76.0"
      ]
     },
     "execution_count": 86,
     "metadata": {},
     "output_type": "execute_result"
    }
   ],
   "execution_count": 86
  },
  {
   "cell_type": "code",
   "metadata": {
    "ExecuteTime": {
     "end_time": "2025-03-15T02:24:59.158563Z",
     "start_time": "2025-03-15T02:24:59.154653Z"
    }
   },
   "source": [
    "pca = PCA(n_components=len(dropped_heart_X_train.columns))\n",
    "pc = pca.fit_transform(dropped_heart_X_train)\n",
    "pca2 = PCA(n_components=len(dropped_heart_X_test.columns))\n",
    "pc2 = pca.fit_transform(dropped_heart_X_test)"
   ],
   "outputs": [],
   "execution_count": 87
  },
  {
   "cell_type": "code",
   "metadata": {
    "ExecuteTime": {
     "end_time": "2025-03-15T02:24:59.207710Z",
     "start_time": "2025-03-15T02:24:59.204837Z"
    }
   },
   "source": [
    "pc"
   ],
   "outputs": [
    {
     "data": {
      "text/plain": [
       "array([[ 1.24248554, -1.19179745,  0.948529  , ..., -0.4357117 ,\n",
       "        -0.32968345, -0.6016945 ],\n",
       "       [ 0.75524026,  0.69629384, -0.32679952, ..., -1.01383152,\n",
       "        -0.81696844,  0.96011071],\n",
       "       [ 1.9661344 , -1.3854522 , -2.52754606, ..., -0.02116163,\n",
       "         0.32567523,  0.92441673],\n",
       "       ...,\n",
       "       [-1.92787839,  0.07447792, -0.33729554, ..., -0.80031606,\n",
       "         0.72549054,  0.20040482],\n",
       "       [-1.01575834, -0.21221548,  2.1582135 , ..., -0.52729832,\n",
       "         1.66547764, -0.87142011],\n",
       "       [-2.04471425,  1.08575785, -1.0564727 , ...,  0.70507783,\n",
       "        -0.2550955 ,  0.23499953]])"
      ]
     },
     "execution_count": 88,
     "metadata": {},
     "output_type": "execute_result"
    }
   ],
   "execution_count": 88
  },
  {
   "cell_type": "code",
   "metadata": {
    "ExecuteTime": {
     "end_time": "2025-03-15T02:24:59.284082Z",
     "start_time": "2025-03-15T02:24:59.279733Z"
    }
   },
   "source": [
    "dropped_heart_X_train.head()"
   ],
   "outputs": [
    {
     "data": {
      "text/plain": [
       "         cp   thalach     exang   oldpeak     slope        ca      thal\n",
       "0 -1.200433 -2.031219 -0.695246  0.295376  0.642696  0.344243  1.170601\n",
       "1  0.872408 -0.244069  1.433497  0.123867  0.642696  0.344243 -0.892713\n",
       "2  0.872408  0.453355 -0.695246  2.181970  2.260330  1.409246 -0.892713\n",
       "3  0.872408 -0.200480  1.433497 -0.219150  0.642696  0.344243  1.170601\n",
       "4  0.872408  0.366177 -0.695246 -0.390658 -0.974938  1.409246  0.654772"
      ],
      "text/html": [
       "<div>\n",
       "<style scoped>\n",
       "    .dataframe tbody tr th:only-of-type {\n",
       "        vertical-align: middle;\n",
       "    }\n",
       "\n",
       "    .dataframe tbody tr th {\n",
       "        vertical-align: top;\n",
       "    }\n",
       "\n",
       "    .dataframe thead th {\n",
       "        text-align: right;\n",
       "    }\n",
       "</style>\n",
       "<table border=\"1\" class=\"dataframe\">\n",
       "  <thead>\n",
       "    <tr style=\"text-align: right;\">\n",
       "      <th></th>\n",
       "      <th>cp</th>\n",
       "      <th>thalach</th>\n",
       "      <th>exang</th>\n",
       "      <th>oldpeak</th>\n",
       "      <th>slope</th>\n",
       "      <th>ca</th>\n",
       "      <th>thal</th>\n",
       "    </tr>\n",
       "  </thead>\n",
       "  <tbody>\n",
       "    <tr>\n",
       "      <th>0</th>\n",
       "      <td>-1.200433</td>\n",
       "      <td>-2.031219</td>\n",
       "      <td>-0.695246</td>\n",
       "      <td>0.295376</td>\n",
       "      <td>0.642696</td>\n",
       "      <td>0.344243</td>\n",
       "      <td>1.170601</td>\n",
       "    </tr>\n",
       "    <tr>\n",
       "      <th>1</th>\n",
       "      <td>0.872408</td>\n",
       "      <td>-0.244069</td>\n",
       "      <td>1.433497</td>\n",
       "      <td>0.123867</td>\n",
       "      <td>0.642696</td>\n",
       "      <td>0.344243</td>\n",
       "      <td>-0.892713</td>\n",
       "    </tr>\n",
       "    <tr>\n",
       "      <th>2</th>\n",
       "      <td>0.872408</td>\n",
       "      <td>0.453355</td>\n",
       "      <td>-0.695246</td>\n",
       "      <td>2.181970</td>\n",
       "      <td>2.260330</td>\n",
       "      <td>1.409246</td>\n",
       "      <td>-0.892713</td>\n",
       "    </tr>\n",
       "    <tr>\n",
       "      <th>3</th>\n",
       "      <td>0.872408</td>\n",
       "      <td>-0.200480</td>\n",
       "      <td>1.433497</td>\n",
       "      <td>-0.219150</td>\n",
       "      <td>0.642696</td>\n",
       "      <td>0.344243</td>\n",
       "      <td>1.170601</td>\n",
       "    </tr>\n",
       "    <tr>\n",
       "      <th>4</th>\n",
       "      <td>0.872408</td>\n",
       "      <td>0.366177</td>\n",
       "      <td>-0.695246</td>\n",
       "      <td>-0.390658</td>\n",
       "      <td>-0.974938</td>\n",
       "      <td>1.409246</td>\n",
       "      <td>0.654772</td>\n",
       "    </tr>\n",
       "  </tbody>\n",
       "</table>\n",
       "</div>"
      ]
     },
     "execution_count": 89,
     "metadata": {},
     "output_type": "execute_result"
    }
   ],
   "execution_count": 89
  },
  {
   "cell_type": "code",
   "metadata": {
    "ExecuteTime": {
     "end_time": "2025-03-15T02:24:59.396792Z",
     "start_time": "2025-03-15T02:24:59.392696Z"
    }
   },
   "source": [
    "pc2"
   ],
   "outputs": [
    {
     "data": {
      "text/plain": [
       "array([[ 2.81536032,  0.68166349, -0.43382647, ...,  0.27282679,\n",
       "         0.30533995,  0.15072129],\n",
       "       [ 0.86301375,  0.27253494, -0.50877179, ..., -0.43896219,\n",
       "        -1.29760798, -0.21484351],\n",
       "       [ 2.53435944, -1.87204163, -0.63457882, ...,  0.99009755,\n",
       "        -0.42478336, -0.10012084],\n",
       "       ...,\n",
       "       [-1.22243825, -1.85041292, -1.05309587, ...,  0.44900854,\n",
       "        -0.43548284, -1.84377642],\n",
       "       [-1.93089046, -0.35299163, -0.42769586, ...,  0.02857552,\n",
       "         0.41562682,  0.8603492 ],\n",
       "       [-2.64065971, -0.12449499, -0.09665207, ...,  0.3118474 ,\n",
       "         0.35198077,  0.04949925]])"
      ]
     },
     "execution_count": 90,
     "metadata": {},
     "output_type": "execute_result"
    }
   ],
   "execution_count": 90
  },
  {
   "cell_type": "code",
   "metadata": {
    "ExecuteTime": {
     "end_time": "2025-03-15T02:24:59.782595Z",
     "start_time": "2025-03-15T02:24:59.779908Z"
    }
   },
   "source": [
    "df_pca = pd.DataFrame(data = pc, columns = ['principal component 1', 'principal component 2', 'principal component 3','principal component 4', 'principal component 5', 'principal component 6','principal component 7'])\n",
    "df_pca2 = pd.DataFrame(data = pc2, columns = ['principal component 1', 'principal component 2', 'principal component 3','principal component 4', 'principal component 5', 'principal component 6','principal component 7'])\n"
   ],
   "outputs": [],
   "execution_count": 91
  },
  {
   "cell_type": "code",
   "metadata": {
    "ExecuteTime": {
     "end_time": "2025-03-15T02:24:59.897735Z",
     "start_time": "2025-03-15T02:24:59.895069Z"
    }
   },
   "source": [
    "final_train_pca_df = pd.concat([df_pca, heart_y_train[['num']]], axis = 1)\n",
    "final_test_pca_df = pd.concat([df_pca2, heart_y_train[['num']]], axis = 1)"
   ],
   "outputs": [],
   "execution_count": 92
  },
  {
   "cell_type": "code",
   "metadata": {
    "ExecuteTime": {
     "end_time": "2025-03-15T02:25:00.000279Z",
     "start_time": "2025-03-15T02:24:59.994705Z"
    }
   },
   "source": [
    "final_train_pca_df.head()"
   ],
   "outputs": [
    {
     "data": {
      "text/plain": [
       "   principal component 1  principal component 2  principal component 3  \\\n",
       "0               1.242486              -1.191797               0.948529   \n",
       "1               0.755240               0.696294              -0.326800   \n",
       "2               1.966134              -1.385452              -2.527546   \n",
       "3               1.389756               1.063829               0.930715   \n",
       "4               0.157751               1.543750              -0.819697   \n",
       "\n",
       "   principal component 4  principal component 5  principal component 6  \\\n",
       "0              -1.674101              -0.435712              -0.329683   \n",
       "1               1.131097              -1.013832              -0.816968   \n",
       "2               0.868067              -0.021162               0.325675   \n",
       "3               0.608503               0.218150              -0.187940   \n",
       "4              -0.955664               0.351933               0.825659   \n",
       "\n",
       "   principal component 7  num  \n",
       "0              -0.601694  1.0  \n",
       "1               0.960111  1.0  \n",
       "2               0.924417  1.0  \n",
       "3               0.693216  1.0  \n",
       "4              -0.078221  1.0  "
      ],
      "text/html": [
       "<div>\n",
       "<style scoped>\n",
       "    .dataframe tbody tr th:only-of-type {\n",
       "        vertical-align: middle;\n",
       "    }\n",
       "\n",
       "    .dataframe tbody tr th {\n",
       "        vertical-align: top;\n",
       "    }\n",
       "\n",
       "    .dataframe thead th {\n",
       "        text-align: right;\n",
       "    }\n",
       "</style>\n",
       "<table border=\"1\" class=\"dataframe\">\n",
       "  <thead>\n",
       "    <tr style=\"text-align: right;\">\n",
       "      <th></th>\n",
       "      <th>principal component 1</th>\n",
       "      <th>principal component 2</th>\n",
       "      <th>principal component 3</th>\n",
       "      <th>principal component 4</th>\n",
       "      <th>principal component 5</th>\n",
       "      <th>principal component 6</th>\n",
       "      <th>principal component 7</th>\n",
       "      <th>num</th>\n",
       "    </tr>\n",
       "  </thead>\n",
       "  <tbody>\n",
       "    <tr>\n",
       "      <th>0</th>\n",
       "      <td>1.242486</td>\n",
       "      <td>-1.191797</td>\n",
       "      <td>0.948529</td>\n",
       "      <td>-1.674101</td>\n",
       "      <td>-0.435712</td>\n",
       "      <td>-0.329683</td>\n",
       "      <td>-0.601694</td>\n",
       "      <td>1.0</td>\n",
       "    </tr>\n",
       "    <tr>\n",
       "      <th>1</th>\n",
       "      <td>0.755240</td>\n",
       "      <td>0.696294</td>\n",
       "      <td>-0.326800</td>\n",
       "      <td>1.131097</td>\n",
       "      <td>-1.013832</td>\n",
       "      <td>-0.816968</td>\n",
       "      <td>0.960111</td>\n",
       "      <td>1.0</td>\n",
       "    </tr>\n",
       "    <tr>\n",
       "      <th>2</th>\n",
       "      <td>1.966134</td>\n",
       "      <td>-1.385452</td>\n",
       "      <td>-2.527546</td>\n",
       "      <td>0.868067</td>\n",
       "      <td>-0.021162</td>\n",
       "      <td>0.325675</td>\n",
       "      <td>0.924417</td>\n",
       "      <td>1.0</td>\n",
       "    </tr>\n",
       "    <tr>\n",
       "      <th>3</th>\n",
       "      <td>1.389756</td>\n",
       "      <td>1.063829</td>\n",
       "      <td>0.930715</td>\n",
       "      <td>0.608503</td>\n",
       "      <td>0.218150</td>\n",
       "      <td>-0.187940</td>\n",
       "      <td>0.693216</td>\n",
       "      <td>1.0</td>\n",
       "    </tr>\n",
       "    <tr>\n",
       "      <th>4</th>\n",
       "      <td>0.157751</td>\n",
       "      <td>1.543750</td>\n",
       "      <td>-0.819697</td>\n",
       "      <td>-0.955664</td>\n",
       "      <td>0.351933</td>\n",
       "      <td>0.825659</td>\n",
       "      <td>-0.078221</td>\n",
       "      <td>1.0</td>\n",
       "    </tr>\n",
       "  </tbody>\n",
       "</table>\n",
       "</div>"
      ]
     },
     "execution_count": 93,
     "metadata": {},
     "output_type": "execute_result"
    }
   ],
   "execution_count": 93
  },
  {
   "cell_type": "code",
   "metadata": {
    "ExecuteTime": {
     "end_time": "2025-03-15T02:25:00.274972Z",
     "start_time": "2025-03-15T02:25:00.270042Z"
    }
   },
   "source": [
    "dropped_heart_X_train.head()"
   ],
   "outputs": [
    {
     "data": {
      "text/plain": [
       "         cp   thalach     exang   oldpeak     slope        ca      thal\n",
       "0 -1.200433 -2.031219 -0.695246  0.295376  0.642696  0.344243  1.170601\n",
       "1  0.872408 -0.244069  1.433497  0.123867  0.642696  0.344243 -0.892713\n",
       "2  0.872408  0.453355 -0.695246  2.181970  2.260330  1.409246 -0.892713\n",
       "3  0.872408 -0.200480  1.433497 -0.219150  0.642696  0.344243  1.170601\n",
       "4  0.872408  0.366177 -0.695246 -0.390658 -0.974938  1.409246  0.654772"
      ],
      "text/html": [
       "<div>\n",
       "<style scoped>\n",
       "    .dataframe tbody tr th:only-of-type {\n",
       "        vertical-align: middle;\n",
       "    }\n",
       "\n",
       "    .dataframe tbody tr th {\n",
       "        vertical-align: top;\n",
       "    }\n",
       "\n",
       "    .dataframe thead th {\n",
       "        text-align: right;\n",
       "    }\n",
       "</style>\n",
       "<table border=\"1\" class=\"dataframe\">\n",
       "  <thead>\n",
       "    <tr style=\"text-align: right;\">\n",
       "      <th></th>\n",
       "      <th>cp</th>\n",
       "      <th>thalach</th>\n",
       "      <th>exang</th>\n",
       "      <th>oldpeak</th>\n",
       "      <th>slope</th>\n",
       "      <th>ca</th>\n",
       "      <th>thal</th>\n",
       "    </tr>\n",
       "  </thead>\n",
       "  <tbody>\n",
       "    <tr>\n",
       "      <th>0</th>\n",
       "      <td>-1.200433</td>\n",
       "      <td>-2.031219</td>\n",
       "      <td>-0.695246</td>\n",
       "      <td>0.295376</td>\n",
       "      <td>0.642696</td>\n",
       "      <td>0.344243</td>\n",
       "      <td>1.170601</td>\n",
       "    </tr>\n",
       "    <tr>\n",
       "      <th>1</th>\n",
       "      <td>0.872408</td>\n",
       "      <td>-0.244069</td>\n",
       "      <td>1.433497</td>\n",
       "      <td>0.123867</td>\n",
       "      <td>0.642696</td>\n",
       "      <td>0.344243</td>\n",
       "      <td>-0.892713</td>\n",
       "    </tr>\n",
       "    <tr>\n",
       "      <th>2</th>\n",
       "      <td>0.872408</td>\n",
       "      <td>0.453355</td>\n",
       "      <td>-0.695246</td>\n",
       "      <td>2.181970</td>\n",
       "      <td>2.260330</td>\n",
       "      <td>1.409246</td>\n",
       "      <td>-0.892713</td>\n",
       "    </tr>\n",
       "    <tr>\n",
       "      <th>3</th>\n",
       "      <td>0.872408</td>\n",
       "      <td>-0.200480</td>\n",
       "      <td>1.433497</td>\n",
       "      <td>-0.219150</td>\n",
       "      <td>0.642696</td>\n",
       "      <td>0.344243</td>\n",
       "      <td>1.170601</td>\n",
       "    </tr>\n",
       "    <tr>\n",
       "      <th>4</th>\n",
       "      <td>0.872408</td>\n",
       "      <td>0.366177</td>\n",
       "      <td>-0.695246</td>\n",
       "      <td>-0.390658</td>\n",
       "      <td>-0.974938</td>\n",
       "      <td>1.409246</td>\n",
       "      <td>0.654772</td>\n",
       "    </tr>\n",
       "  </tbody>\n",
       "</table>\n",
       "</div>"
      ]
     },
     "execution_count": 94,
     "metadata": {},
     "output_type": "execute_result"
    }
   ],
   "execution_count": 94
  },
  {
   "cell_type": "code",
   "metadata": {
    "ExecuteTime": {
     "end_time": "2025-03-15T02:25:00.382718Z",
     "start_time": "2025-03-15T02:25:00.379778Z"
    }
   },
   "source": [
    "heart_y_train.to_numpy().reshape(-1).flatten()"
   ],
   "outputs": [
    {
     "data": {
      "text/plain": [
       "array([1., 1., 1., 1., 1., 1., 1., 1., 1., 1., 1., 1., 1., 1., 1., 1., 1.,\n",
       "       1., 1., 1., 1., 1., 1., 1., 1., 1., 1., 1., 1., 1., 1., 1., 1., 1.,\n",
       "       1., 1., 1., 1., 1., 1., 1., 1., 1., 1., 1., 1., 1., 1., 1., 1., 1.,\n",
       "       1., 1., 1., 1., 1., 1., 1., 1., 1., 1., 1., 1., 1., 1., 1., 1., 1.,\n",
       "       1., 1., 1., 1., 1., 1., 1., 1., 1., 1., 1., 1., 1., 1., 1., 1., 1.,\n",
       "       1., 1., 1., 1., 1., 1., 1., 1., 1., 1., 1., 1., 1., 1., 1., 0., 0.,\n",
       "       0., 0., 0., 0., 0., 0., 0., 0., 0., 0., 0., 0., 0., 0., 0., 0., 0.,\n",
       "       0., 0., 0., 0., 0., 0., 0., 0., 0., 0., 0., 0., 0., 0., 0., 0., 0.,\n",
       "       0., 0., 0., 0., 0., 0., 0., 0., 0., 0., 0., 0., 0., 0., 0., 0., 0.,\n",
       "       0., 0., 0., 0., 0., 0., 0., 0., 0., 0., 0., 0., 0., 0., 0., 0., 0.,\n",
       "       0., 0., 0., 0., 0., 0., 0., 0., 0., 0., 0., 0., 0., 0., 0., 0., 0.,\n",
       "       0., 0., 0., 0., 0., 0., 0., 0., 0., 0., 0., 0., 0.])"
      ]
     },
     "execution_count": 95,
     "metadata": {},
     "output_type": "execute_result"
    }
   ],
   "execution_count": 95
  },
  {
   "cell_type": "code",
   "metadata": {
    "ExecuteTime": {
     "end_time": "2025-03-15T02:25:00.550182Z",
     "start_time": "2025-03-15T02:25:00.523975Z"
    }
   },
   "source": [
    "clf_NN = MLPClassifier(solver='lbfgs', alpha=1e-5,\n",
    "                    hidden_layer_sizes=(5, 2), random_state=1)\n",
    "\n",
    "clf_NN.fit(dropped_heart_X_train, heart_y_train)"
   ],
   "outputs": [
    {
     "name": "stderr",
     "output_type": "stream",
     "text": [
      "/Library/Frameworks/Python.framework/Versions/3.11/lib/python3.11/site-packages/sklearn/neural_network/_multilayer_perceptron.py:1105: DataConversionWarning: A column-vector y was passed when a 1d array was expected. Please change the shape of y to (n_samples, ), for example using ravel().\n",
      "  y = column_or_1d(y, warn=True)\n"
     ]
    },
    {
     "data": {
      "text/plain": [
       "MLPClassifier(alpha=1e-05, hidden_layer_sizes=(5, 2), random_state=1,\n",
       "              solver='lbfgs')"
      ],
      "text/html": [
       "<style>#sk-container-id-1 {\n",
       "  /* Definition of color scheme common for light and dark mode */\n",
       "  --sklearn-color-text: black;\n",
       "  --sklearn-color-line: gray;\n",
       "  /* Definition of color scheme for unfitted estimators */\n",
       "  --sklearn-color-unfitted-level-0: #fff5e6;\n",
       "  --sklearn-color-unfitted-level-1: #f6e4d2;\n",
       "  --sklearn-color-unfitted-level-2: #ffe0b3;\n",
       "  --sklearn-color-unfitted-level-3: chocolate;\n",
       "  /* Definition of color scheme for fitted estimators */\n",
       "  --sklearn-color-fitted-level-0: #f0f8ff;\n",
       "  --sklearn-color-fitted-level-1: #d4ebff;\n",
       "  --sklearn-color-fitted-level-2: #b3dbfd;\n",
       "  --sklearn-color-fitted-level-3: cornflowerblue;\n",
       "\n",
       "  /* Specific color for light theme */\n",
       "  --sklearn-color-text-on-default-background: var(--sg-text-color, var(--theme-code-foreground, var(--jp-content-font-color1, black)));\n",
       "  --sklearn-color-background: var(--sg-background-color, var(--theme-background, var(--jp-layout-color0, white)));\n",
       "  --sklearn-color-border-box: var(--sg-text-color, var(--theme-code-foreground, var(--jp-content-font-color1, black)));\n",
       "  --sklearn-color-icon: #696969;\n",
       "\n",
       "  @media (prefers-color-scheme: dark) {\n",
       "    /* Redefinition of color scheme for dark theme */\n",
       "    --sklearn-color-text-on-default-background: var(--sg-text-color, var(--theme-code-foreground, var(--jp-content-font-color1, white)));\n",
       "    --sklearn-color-background: var(--sg-background-color, var(--theme-background, var(--jp-layout-color0, #111)));\n",
       "    --sklearn-color-border-box: var(--sg-text-color, var(--theme-code-foreground, var(--jp-content-font-color1, white)));\n",
       "    --sklearn-color-icon: #878787;\n",
       "  }\n",
       "}\n",
       "\n",
       "#sk-container-id-1 {\n",
       "  color: var(--sklearn-color-text);\n",
       "}\n",
       "\n",
       "#sk-container-id-1 pre {\n",
       "  padding: 0;\n",
       "}\n",
       "\n",
       "#sk-container-id-1 input.sk-hidden--visually {\n",
       "  border: 0;\n",
       "  clip: rect(1px 1px 1px 1px);\n",
       "  clip: rect(1px, 1px, 1px, 1px);\n",
       "  height: 1px;\n",
       "  margin: -1px;\n",
       "  overflow: hidden;\n",
       "  padding: 0;\n",
       "  position: absolute;\n",
       "  width: 1px;\n",
       "}\n",
       "\n",
       "#sk-container-id-1 div.sk-dashed-wrapped {\n",
       "  border: 1px dashed var(--sklearn-color-line);\n",
       "  margin: 0 0.4em 0.5em 0.4em;\n",
       "  box-sizing: border-box;\n",
       "  padding-bottom: 0.4em;\n",
       "  background-color: var(--sklearn-color-background);\n",
       "}\n",
       "\n",
       "#sk-container-id-1 div.sk-container {\n",
       "  /* jupyter's `normalize.less` sets `[hidden] { display: none; }`\n",
       "     but bootstrap.min.css set `[hidden] { display: none !important; }`\n",
       "     so we also need the `!important` here to be able to override the\n",
       "     default hidden behavior on the sphinx rendered scikit-learn.org.\n",
       "     See: https://github.com/scikit-learn/scikit-learn/issues/21755 */\n",
       "  display: inline-block !important;\n",
       "  position: relative;\n",
       "}\n",
       "\n",
       "#sk-container-id-1 div.sk-text-repr-fallback {\n",
       "  display: none;\n",
       "}\n",
       "\n",
       "div.sk-parallel-item,\n",
       "div.sk-serial,\n",
       "div.sk-item {\n",
       "  /* draw centered vertical line to link estimators */\n",
       "  background-image: linear-gradient(var(--sklearn-color-text-on-default-background), var(--sklearn-color-text-on-default-background));\n",
       "  background-size: 2px 100%;\n",
       "  background-repeat: no-repeat;\n",
       "  background-position: center center;\n",
       "}\n",
       "\n",
       "/* Parallel-specific style estimator block */\n",
       "\n",
       "#sk-container-id-1 div.sk-parallel-item::after {\n",
       "  content: \"\";\n",
       "  width: 100%;\n",
       "  border-bottom: 2px solid var(--sklearn-color-text-on-default-background);\n",
       "  flex-grow: 1;\n",
       "}\n",
       "\n",
       "#sk-container-id-1 div.sk-parallel {\n",
       "  display: flex;\n",
       "  align-items: stretch;\n",
       "  justify-content: center;\n",
       "  background-color: var(--sklearn-color-background);\n",
       "  position: relative;\n",
       "}\n",
       "\n",
       "#sk-container-id-1 div.sk-parallel-item {\n",
       "  display: flex;\n",
       "  flex-direction: column;\n",
       "}\n",
       "\n",
       "#sk-container-id-1 div.sk-parallel-item:first-child::after {\n",
       "  align-self: flex-end;\n",
       "  width: 50%;\n",
       "}\n",
       "\n",
       "#sk-container-id-1 div.sk-parallel-item:last-child::after {\n",
       "  align-self: flex-start;\n",
       "  width: 50%;\n",
       "}\n",
       "\n",
       "#sk-container-id-1 div.sk-parallel-item:only-child::after {\n",
       "  width: 0;\n",
       "}\n",
       "\n",
       "/* Serial-specific style estimator block */\n",
       "\n",
       "#sk-container-id-1 div.sk-serial {\n",
       "  display: flex;\n",
       "  flex-direction: column;\n",
       "  align-items: center;\n",
       "  background-color: var(--sklearn-color-background);\n",
       "  padding-right: 1em;\n",
       "  padding-left: 1em;\n",
       "}\n",
       "\n",
       "\n",
       "/* Toggleable style: style used for estimator/Pipeline/ColumnTransformer box that is\n",
       "clickable and can be expanded/collapsed.\n",
       "- Pipeline and ColumnTransformer use this feature and define the default style\n",
       "- Estimators will overwrite some part of the style using the `sk-estimator` class\n",
       "*/\n",
       "\n",
       "/* Pipeline and ColumnTransformer style (default) */\n",
       "\n",
       "#sk-container-id-1 div.sk-toggleable {\n",
       "  /* Default theme specific background. It is overwritten whether we have a\n",
       "  specific estimator or a Pipeline/ColumnTransformer */\n",
       "  background-color: var(--sklearn-color-background);\n",
       "}\n",
       "\n",
       "/* Toggleable label */\n",
       "#sk-container-id-1 label.sk-toggleable__label {\n",
       "  cursor: pointer;\n",
       "  display: block;\n",
       "  width: 100%;\n",
       "  margin-bottom: 0;\n",
       "  padding: 0.5em;\n",
       "  box-sizing: border-box;\n",
       "  text-align: center;\n",
       "}\n",
       "\n",
       "#sk-container-id-1 label.sk-toggleable__label-arrow:before {\n",
       "  /* Arrow on the left of the label */\n",
       "  content: \"▸\";\n",
       "  float: left;\n",
       "  margin-right: 0.25em;\n",
       "  color: var(--sklearn-color-icon);\n",
       "}\n",
       "\n",
       "#sk-container-id-1 label.sk-toggleable__label-arrow:hover:before {\n",
       "  color: var(--sklearn-color-text);\n",
       "}\n",
       "\n",
       "/* Toggleable content - dropdown */\n",
       "\n",
       "#sk-container-id-1 div.sk-toggleable__content {\n",
       "  max-height: 0;\n",
       "  max-width: 0;\n",
       "  overflow: hidden;\n",
       "  text-align: left;\n",
       "  /* unfitted */\n",
       "  background-color: var(--sklearn-color-unfitted-level-0);\n",
       "}\n",
       "\n",
       "#sk-container-id-1 div.sk-toggleable__content.fitted {\n",
       "  /* fitted */\n",
       "  background-color: var(--sklearn-color-fitted-level-0);\n",
       "}\n",
       "\n",
       "#sk-container-id-1 div.sk-toggleable__content pre {\n",
       "  margin: 0.2em;\n",
       "  border-radius: 0.25em;\n",
       "  color: var(--sklearn-color-text);\n",
       "  /* unfitted */\n",
       "  background-color: var(--sklearn-color-unfitted-level-0);\n",
       "}\n",
       "\n",
       "#sk-container-id-1 div.sk-toggleable__content.fitted pre {\n",
       "  /* unfitted */\n",
       "  background-color: var(--sklearn-color-fitted-level-0);\n",
       "}\n",
       "\n",
       "#sk-container-id-1 input.sk-toggleable__control:checked~div.sk-toggleable__content {\n",
       "  /* Expand drop-down */\n",
       "  max-height: 200px;\n",
       "  max-width: 100%;\n",
       "  overflow: auto;\n",
       "}\n",
       "\n",
       "#sk-container-id-1 input.sk-toggleable__control:checked~label.sk-toggleable__label-arrow:before {\n",
       "  content: \"▾\";\n",
       "}\n",
       "\n",
       "/* Pipeline/ColumnTransformer-specific style */\n",
       "\n",
       "#sk-container-id-1 div.sk-label input.sk-toggleable__control:checked~label.sk-toggleable__label {\n",
       "  color: var(--sklearn-color-text);\n",
       "  background-color: var(--sklearn-color-unfitted-level-2);\n",
       "}\n",
       "\n",
       "#sk-container-id-1 div.sk-label.fitted input.sk-toggleable__control:checked~label.sk-toggleable__label {\n",
       "  background-color: var(--sklearn-color-fitted-level-2);\n",
       "}\n",
       "\n",
       "/* Estimator-specific style */\n",
       "\n",
       "/* Colorize estimator box */\n",
       "#sk-container-id-1 div.sk-estimator input.sk-toggleable__control:checked~label.sk-toggleable__label {\n",
       "  /* unfitted */\n",
       "  background-color: var(--sklearn-color-unfitted-level-2);\n",
       "}\n",
       "\n",
       "#sk-container-id-1 div.sk-estimator.fitted input.sk-toggleable__control:checked~label.sk-toggleable__label {\n",
       "  /* fitted */\n",
       "  background-color: var(--sklearn-color-fitted-level-2);\n",
       "}\n",
       "\n",
       "#sk-container-id-1 div.sk-label label.sk-toggleable__label,\n",
       "#sk-container-id-1 div.sk-label label {\n",
       "  /* The background is the default theme color */\n",
       "  color: var(--sklearn-color-text-on-default-background);\n",
       "}\n",
       "\n",
       "/* On hover, darken the color of the background */\n",
       "#sk-container-id-1 div.sk-label:hover label.sk-toggleable__label {\n",
       "  color: var(--sklearn-color-text);\n",
       "  background-color: var(--sklearn-color-unfitted-level-2);\n",
       "}\n",
       "\n",
       "/* Label box, darken color on hover, fitted */\n",
       "#sk-container-id-1 div.sk-label.fitted:hover label.sk-toggleable__label.fitted {\n",
       "  color: var(--sklearn-color-text);\n",
       "  background-color: var(--sklearn-color-fitted-level-2);\n",
       "}\n",
       "\n",
       "/* Estimator label */\n",
       "\n",
       "#sk-container-id-1 div.sk-label label {\n",
       "  font-family: monospace;\n",
       "  font-weight: bold;\n",
       "  display: inline-block;\n",
       "  line-height: 1.2em;\n",
       "}\n",
       "\n",
       "#sk-container-id-1 div.sk-label-container {\n",
       "  text-align: center;\n",
       "}\n",
       "\n",
       "/* Estimator-specific */\n",
       "#sk-container-id-1 div.sk-estimator {\n",
       "  font-family: monospace;\n",
       "  border: 1px dotted var(--sklearn-color-border-box);\n",
       "  border-radius: 0.25em;\n",
       "  box-sizing: border-box;\n",
       "  margin-bottom: 0.5em;\n",
       "  /* unfitted */\n",
       "  background-color: var(--sklearn-color-unfitted-level-0);\n",
       "}\n",
       "\n",
       "#sk-container-id-1 div.sk-estimator.fitted {\n",
       "  /* fitted */\n",
       "  background-color: var(--sklearn-color-fitted-level-0);\n",
       "}\n",
       "\n",
       "/* on hover */\n",
       "#sk-container-id-1 div.sk-estimator:hover {\n",
       "  /* unfitted */\n",
       "  background-color: var(--sklearn-color-unfitted-level-2);\n",
       "}\n",
       "\n",
       "#sk-container-id-1 div.sk-estimator.fitted:hover {\n",
       "  /* fitted */\n",
       "  background-color: var(--sklearn-color-fitted-level-2);\n",
       "}\n",
       "\n",
       "/* Specification for estimator info (e.g. \"i\" and \"?\") */\n",
       "\n",
       "/* Common style for \"i\" and \"?\" */\n",
       "\n",
       ".sk-estimator-doc-link,\n",
       "a:link.sk-estimator-doc-link,\n",
       "a:visited.sk-estimator-doc-link {\n",
       "  float: right;\n",
       "  font-size: smaller;\n",
       "  line-height: 1em;\n",
       "  font-family: monospace;\n",
       "  background-color: var(--sklearn-color-background);\n",
       "  border-radius: 1em;\n",
       "  height: 1em;\n",
       "  width: 1em;\n",
       "  text-decoration: none !important;\n",
       "  margin-left: 1ex;\n",
       "  /* unfitted */\n",
       "  border: var(--sklearn-color-unfitted-level-1) 1pt solid;\n",
       "  color: var(--sklearn-color-unfitted-level-1);\n",
       "}\n",
       "\n",
       ".sk-estimator-doc-link.fitted,\n",
       "a:link.sk-estimator-doc-link.fitted,\n",
       "a:visited.sk-estimator-doc-link.fitted {\n",
       "  /* fitted */\n",
       "  border: var(--sklearn-color-fitted-level-1) 1pt solid;\n",
       "  color: var(--sklearn-color-fitted-level-1);\n",
       "}\n",
       "\n",
       "/* On hover */\n",
       "div.sk-estimator:hover .sk-estimator-doc-link:hover,\n",
       ".sk-estimator-doc-link:hover,\n",
       "div.sk-label-container:hover .sk-estimator-doc-link:hover,\n",
       ".sk-estimator-doc-link:hover {\n",
       "  /* unfitted */\n",
       "  background-color: var(--sklearn-color-unfitted-level-3);\n",
       "  color: var(--sklearn-color-background);\n",
       "  text-decoration: none;\n",
       "}\n",
       "\n",
       "div.sk-estimator.fitted:hover .sk-estimator-doc-link.fitted:hover,\n",
       ".sk-estimator-doc-link.fitted:hover,\n",
       "div.sk-label-container:hover .sk-estimator-doc-link.fitted:hover,\n",
       ".sk-estimator-doc-link.fitted:hover {\n",
       "  /* fitted */\n",
       "  background-color: var(--sklearn-color-fitted-level-3);\n",
       "  color: var(--sklearn-color-background);\n",
       "  text-decoration: none;\n",
       "}\n",
       "\n",
       "/* Span, style for the box shown on hovering the info icon */\n",
       ".sk-estimator-doc-link span {\n",
       "  display: none;\n",
       "  z-index: 9999;\n",
       "  position: relative;\n",
       "  font-weight: normal;\n",
       "  right: .2ex;\n",
       "  padding: .5ex;\n",
       "  margin: .5ex;\n",
       "  width: min-content;\n",
       "  min-width: 20ex;\n",
       "  max-width: 50ex;\n",
       "  color: var(--sklearn-color-text);\n",
       "  box-shadow: 2pt 2pt 4pt #999;\n",
       "  /* unfitted */\n",
       "  background: var(--sklearn-color-unfitted-level-0);\n",
       "  border: .5pt solid var(--sklearn-color-unfitted-level-3);\n",
       "}\n",
       "\n",
       ".sk-estimator-doc-link.fitted span {\n",
       "  /* fitted */\n",
       "  background: var(--sklearn-color-fitted-level-0);\n",
       "  border: var(--sklearn-color-fitted-level-3);\n",
       "}\n",
       "\n",
       ".sk-estimator-doc-link:hover span {\n",
       "  display: block;\n",
       "}\n",
       "\n",
       "/* \"?\"-specific style due to the `<a>` HTML tag */\n",
       "\n",
       "#sk-container-id-1 a.estimator_doc_link {\n",
       "  float: right;\n",
       "  font-size: 1rem;\n",
       "  line-height: 1em;\n",
       "  font-family: monospace;\n",
       "  background-color: var(--sklearn-color-background);\n",
       "  border-radius: 1rem;\n",
       "  height: 1rem;\n",
       "  width: 1rem;\n",
       "  text-decoration: none;\n",
       "  /* unfitted */\n",
       "  color: var(--sklearn-color-unfitted-level-1);\n",
       "  border: var(--sklearn-color-unfitted-level-1) 1pt solid;\n",
       "}\n",
       "\n",
       "#sk-container-id-1 a.estimator_doc_link.fitted {\n",
       "  /* fitted */\n",
       "  border: var(--sklearn-color-fitted-level-1) 1pt solid;\n",
       "  color: var(--sklearn-color-fitted-level-1);\n",
       "}\n",
       "\n",
       "/* On hover */\n",
       "#sk-container-id-1 a.estimator_doc_link:hover {\n",
       "  /* unfitted */\n",
       "  background-color: var(--sklearn-color-unfitted-level-3);\n",
       "  color: var(--sklearn-color-background);\n",
       "  text-decoration: none;\n",
       "}\n",
       "\n",
       "#sk-container-id-1 a.estimator_doc_link.fitted:hover {\n",
       "  /* fitted */\n",
       "  background-color: var(--sklearn-color-fitted-level-3);\n",
       "}\n",
       "</style><div id=\"sk-container-id-1\" class=\"sk-top-container\"><div class=\"sk-text-repr-fallback\"><pre>MLPClassifier(alpha=1e-05, hidden_layer_sizes=(5, 2), random_state=1,\n",
       "              solver=&#x27;lbfgs&#x27;)</pre><b>In a Jupyter environment, please rerun this cell to show the HTML representation or trust the notebook. <br />On GitHub, the HTML representation is unable to render, please try loading this page with nbviewer.org.</b></div><div class=\"sk-container\" hidden><div class=\"sk-item\"><div class=\"sk-estimator fitted sk-toggleable\"><input class=\"sk-toggleable__control sk-hidden--visually\" id=\"sk-estimator-id-1\" type=\"checkbox\" checked><label for=\"sk-estimator-id-1\" class=\"sk-toggleable__label fitted sk-toggleable__label-arrow fitted\">&nbsp;&nbsp;MLPClassifier<a class=\"sk-estimator-doc-link fitted\" rel=\"noreferrer\" target=\"_blank\" href=\"https://scikit-learn.org/1.5/modules/generated/sklearn.neural_network.MLPClassifier.html\">?<span>Documentation for MLPClassifier</span></a><span class=\"sk-estimator-doc-link fitted\">i<span>Fitted</span></span></label><div class=\"sk-toggleable__content fitted\"><pre>MLPClassifier(alpha=1e-05, hidden_layer_sizes=(5, 2), random_state=1,\n",
       "              solver=&#x27;lbfgs&#x27;)</pre></div> </div></div></div></div>"
      ]
     },
     "execution_count": 96,
     "metadata": {},
     "output_type": "execute_result"
    }
   ],
   "execution_count": 96
  },
  {
   "cell_type": "code",
   "metadata": {
    "ExecuteTime": {
     "end_time": "2025-03-15T02:25:00.687826Z",
     "start_time": "2025-03-15T02:25:00.683788Z"
    }
   },
   "source": [
    "clf_NN.predict(dropped_heart_X_test)"
   ],
   "outputs": [
    {
     "data": {
      "text/plain": [
       "array([1., 1., 1., 1., 1., 0., 1., 1., 1., 1., 1., 1., 0., 1., 1., 1., 1.,\n",
       "       1., 1., 1., 0., 1., 1., 0., 1., 1., 1., 0., 1., 1., 1., 1., 1., 0.,\n",
       "       1., 0., 1., 0., 1., 1., 1., 1., 0., 1., 1., 1., 0., 1., 1., 1., 1.,\n",
       "       1., 0., 0., 1., 0., 1., 1., 0., 1., 0., 1., 0., 1., 1., 0., 0., 1.,\n",
       "       1., 1., 0., 1., 1., 0., 0., 1., 1., 1., 1., 1., 1., 1., 1., 0., 0.,\n",
       "       1., 1., 1., 1., 0., 1., 0., 0., 0., 0., 0., 0., 1., 0., 0., 0., 0.,\n",
       "       1., 0., 1., 0., 0., 1., 0., 0., 0., 0., 0., 0., 0., 0., 0., 1., 1.,\n",
       "       0., 0., 0., 1., 0., 0., 0., 0., 0., 1., 0., 1., 0., 1., 0., 0., 0.,\n",
       "       0., 0., 0., 0., 0., 0., 0., 0., 0., 0., 0., 0., 1., 0., 0., 1., 0.,\n",
       "       0., 0., 0., 0., 0., 0., 0., 0., 0., 0., 0., 0., 0., 0., 0., 0., 1.,\n",
       "       1., 0., 0., 0., 0., 0., 0., 0., 0., 0., 0., 1., 0., 1., 0., 0., 0.,\n",
       "       0., 0., 0., 0., 0., 0.])"
      ]
     },
     "execution_count": 97,
     "metadata": {},
     "output_type": "execute_result"
    }
   ],
   "execution_count": 97
  },
  {
   "cell_type": "code",
   "metadata": {
    "ExecuteTime": {
     "end_time": "2025-03-15T02:25:00.836966Z",
     "start_time": "2025-03-15T02:25:00.834776Z"
    }
   },
   "source": [
    "len(dropped_heart_X_test)"
   ],
   "outputs": [
    {
     "data": {
      "text/plain": [
       "193"
      ]
     },
     "execution_count": 98,
     "metadata": {},
     "output_type": "execute_result"
    }
   ],
   "execution_count": 98
  },
  {
   "cell_type": "code",
   "metadata": {
    "ExecuteTime": {
     "end_time": "2025-03-15T02:25:00.924610Z",
     "start_time": "2025-03-15T02:25:00.922060Z"
    }
   },
   "source": [
    "len(heart_y_test)"
   ],
   "outputs": [
    {
     "data": {
      "text/plain": [
       "193"
      ]
     },
     "execution_count": 99,
     "metadata": {},
     "output_type": "execute_result"
    }
   ],
   "execution_count": 99
  },
  {
   "cell_type": "code",
   "metadata": {
    "ExecuteTime": {
     "end_time": "2025-03-15T02:25:01.080822Z",
     "start_time": "2025-03-15T02:25:01.076748Z"
    }
   },
   "source": [
    "heart_y_test"
   ],
   "outputs": [
    {
     "data": {
      "text/plain": [
       "     num\n",
       "0    1.0\n",
       "1    1.0\n",
       "2    1.0\n",
       "3    1.0\n",
       "4    1.0\n",
       "..   ...\n",
       "188  0.0\n",
       "189  0.0\n",
       "190  0.0\n",
       "191  0.0\n",
       "192  0.0\n",
       "\n",
       "[193 rows x 1 columns]"
      ],
      "text/html": [
       "<div>\n",
       "<style scoped>\n",
       "    .dataframe tbody tr th:only-of-type {\n",
       "        vertical-align: middle;\n",
       "    }\n",
       "\n",
       "    .dataframe tbody tr th {\n",
       "        vertical-align: top;\n",
       "    }\n",
       "\n",
       "    .dataframe thead th {\n",
       "        text-align: right;\n",
       "    }\n",
       "</style>\n",
       "<table border=\"1\" class=\"dataframe\">\n",
       "  <thead>\n",
       "    <tr style=\"text-align: right;\">\n",
       "      <th></th>\n",
       "      <th>num</th>\n",
       "    </tr>\n",
       "  </thead>\n",
       "  <tbody>\n",
       "    <tr>\n",
       "      <th>0</th>\n",
       "      <td>1.0</td>\n",
       "    </tr>\n",
       "    <tr>\n",
       "      <th>1</th>\n",
       "      <td>1.0</td>\n",
       "    </tr>\n",
       "    <tr>\n",
       "      <th>2</th>\n",
       "      <td>1.0</td>\n",
       "    </tr>\n",
       "    <tr>\n",
       "      <th>3</th>\n",
       "      <td>1.0</td>\n",
       "    </tr>\n",
       "    <tr>\n",
       "      <th>4</th>\n",
       "      <td>1.0</td>\n",
       "    </tr>\n",
       "    <tr>\n",
       "      <th>...</th>\n",
       "      <td>...</td>\n",
       "    </tr>\n",
       "    <tr>\n",
       "      <th>188</th>\n",
       "      <td>0.0</td>\n",
       "    </tr>\n",
       "    <tr>\n",
       "      <th>189</th>\n",
       "      <td>0.0</td>\n",
       "    </tr>\n",
       "    <tr>\n",
       "      <th>190</th>\n",
       "      <td>0.0</td>\n",
       "    </tr>\n",
       "    <tr>\n",
       "      <th>191</th>\n",
       "      <td>0.0</td>\n",
       "    </tr>\n",
       "    <tr>\n",
       "      <th>192</th>\n",
       "      <td>0.0</td>\n",
       "    </tr>\n",
       "  </tbody>\n",
       "</table>\n",
       "<p>193 rows × 1 columns</p>\n",
       "</div>"
      ]
     },
     "execution_count": 100,
     "metadata": {},
     "output_type": "execute_result"
    }
   ],
   "execution_count": 100
  },
  {
   "cell_type": "code",
   "metadata": {
    "ExecuteTime": {
     "end_time": "2025-03-15T02:25:01.200064Z",
     "start_time": "2025-03-15T02:25:01.195330Z"
    }
   },
   "source": [
    "dropped_heart_X_test.head(300)"
   ],
   "outputs": [
    {
     "data": {
      "text/plain": [
       "           cp   thalach     exang   oldpeak     slope        ca      thal\n",
       "0    0.872408 -0.897904  1.433497  1.324427  0.642696  1.409246  1.170601\n",
       "1    0.872408 -0.113302 -0.695246  0.295376  0.642696  0.344243  1.170601\n",
       "2    0.872408  0.235410  1.433497  1.753198  2.260330 -0.720760  1.170601\n",
       "3    0.872408 -0.767137  1.433497  1.152918  0.642696  1.409246  1.170601\n",
       "4    0.872408 -1.551739  1.433497  0.809901  0.642696 -0.720760  1.170601\n",
       "..        ...       ...       ...       ...       ...       ...       ...\n",
       "188 -1.200433  1.063601 -0.695246 -0.905184 -0.974938 -0.720760 -0.892713\n",
       "189 -1.200433  0.584122 -0.695246 -0.905184 -0.974938 -0.720760  1.170601\n",
       "190 -1.200433  0.845656 -0.695246 -0.905184  2.260330 -0.720760 -0.892713\n",
       "191 -1.200433  0.714889 -0.695246  0.123867 -0.974938 -0.720760 -0.892713\n",
       "192 -1.200433  1.412313 -0.695246 -0.905184 -0.974938 -0.720760 -0.892713\n",
       "\n",
       "[193 rows x 7 columns]"
      ],
      "text/html": [
       "<div>\n",
       "<style scoped>\n",
       "    .dataframe tbody tr th:only-of-type {\n",
       "        vertical-align: middle;\n",
       "    }\n",
       "\n",
       "    .dataframe tbody tr th {\n",
       "        vertical-align: top;\n",
       "    }\n",
       "\n",
       "    .dataframe thead th {\n",
       "        text-align: right;\n",
       "    }\n",
       "</style>\n",
       "<table border=\"1\" class=\"dataframe\">\n",
       "  <thead>\n",
       "    <tr style=\"text-align: right;\">\n",
       "      <th></th>\n",
       "      <th>cp</th>\n",
       "      <th>thalach</th>\n",
       "      <th>exang</th>\n",
       "      <th>oldpeak</th>\n",
       "      <th>slope</th>\n",
       "      <th>ca</th>\n",
       "      <th>thal</th>\n",
       "    </tr>\n",
       "  </thead>\n",
       "  <tbody>\n",
       "    <tr>\n",
       "      <th>0</th>\n",
       "      <td>0.872408</td>\n",
       "      <td>-0.897904</td>\n",
       "      <td>1.433497</td>\n",
       "      <td>1.324427</td>\n",
       "      <td>0.642696</td>\n",
       "      <td>1.409246</td>\n",
       "      <td>1.170601</td>\n",
       "    </tr>\n",
       "    <tr>\n",
       "      <th>1</th>\n",
       "      <td>0.872408</td>\n",
       "      <td>-0.113302</td>\n",
       "      <td>-0.695246</td>\n",
       "      <td>0.295376</td>\n",
       "      <td>0.642696</td>\n",
       "      <td>0.344243</td>\n",
       "      <td>1.170601</td>\n",
       "    </tr>\n",
       "    <tr>\n",
       "      <th>2</th>\n",
       "      <td>0.872408</td>\n",
       "      <td>0.235410</td>\n",
       "      <td>1.433497</td>\n",
       "      <td>1.753198</td>\n",
       "      <td>2.260330</td>\n",
       "      <td>-0.720760</td>\n",
       "      <td>1.170601</td>\n",
       "    </tr>\n",
       "    <tr>\n",
       "      <th>3</th>\n",
       "      <td>0.872408</td>\n",
       "      <td>-0.767137</td>\n",
       "      <td>1.433497</td>\n",
       "      <td>1.152918</td>\n",
       "      <td>0.642696</td>\n",
       "      <td>1.409246</td>\n",
       "      <td>1.170601</td>\n",
       "    </tr>\n",
       "    <tr>\n",
       "      <th>4</th>\n",
       "      <td>0.872408</td>\n",
       "      <td>-1.551739</td>\n",
       "      <td>1.433497</td>\n",
       "      <td>0.809901</td>\n",
       "      <td>0.642696</td>\n",
       "      <td>-0.720760</td>\n",
       "      <td>1.170601</td>\n",
       "    </tr>\n",
       "    <tr>\n",
       "      <th>...</th>\n",
       "      <td>...</td>\n",
       "      <td>...</td>\n",
       "      <td>...</td>\n",
       "      <td>...</td>\n",
       "      <td>...</td>\n",
       "      <td>...</td>\n",
       "      <td>...</td>\n",
       "    </tr>\n",
       "    <tr>\n",
       "      <th>188</th>\n",
       "      <td>-1.200433</td>\n",
       "      <td>1.063601</td>\n",
       "      <td>-0.695246</td>\n",
       "      <td>-0.905184</td>\n",
       "      <td>-0.974938</td>\n",
       "      <td>-0.720760</td>\n",
       "      <td>-0.892713</td>\n",
       "    </tr>\n",
       "    <tr>\n",
       "      <th>189</th>\n",
       "      <td>-1.200433</td>\n",
       "      <td>0.584122</td>\n",
       "      <td>-0.695246</td>\n",
       "      <td>-0.905184</td>\n",
       "      <td>-0.974938</td>\n",
       "      <td>-0.720760</td>\n",
       "      <td>1.170601</td>\n",
       "    </tr>\n",
       "    <tr>\n",
       "      <th>190</th>\n",
       "      <td>-1.200433</td>\n",
       "      <td>0.845656</td>\n",
       "      <td>-0.695246</td>\n",
       "      <td>-0.905184</td>\n",
       "      <td>2.260330</td>\n",
       "      <td>-0.720760</td>\n",
       "      <td>-0.892713</td>\n",
       "    </tr>\n",
       "    <tr>\n",
       "      <th>191</th>\n",
       "      <td>-1.200433</td>\n",
       "      <td>0.714889</td>\n",
       "      <td>-0.695246</td>\n",
       "      <td>0.123867</td>\n",
       "      <td>-0.974938</td>\n",
       "      <td>-0.720760</td>\n",
       "      <td>-0.892713</td>\n",
       "    </tr>\n",
       "    <tr>\n",
       "      <th>192</th>\n",
       "      <td>-1.200433</td>\n",
       "      <td>1.412313</td>\n",
       "      <td>-0.695246</td>\n",
       "      <td>-0.905184</td>\n",
       "      <td>-0.974938</td>\n",
       "      <td>-0.720760</td>\n",
       "      <td>-0.892713</td>\n",
       "    </tr>\n",
       "  </tbody>\n",
       "</table>\n",
       "<p>193 rows × 7 columns</p>\n",
       "</div>"
      ]
     },
     "execution_count": 101,
     "metadata": {},
     "output_type": "execute_result"
    }
   ],
   "execution_count": 101
  },
  {
   "cell_type": "code",
   "metadata": {
    "ExecuteTime": {
     "end_time": "2025-03-15T02:25:01.326015Z",
     "start_time": "2025-03-15T02:25:01.323885Z"
    }
   },
   "source": [
    "len(dropped_heart_X_train)"
   ],
   "outputs": [
    {
     "data": {
      "text/plain": [
       "200"
      ]
     },
     "execution_count": 102,
     "metadata": {},
     "output_type": "execute_result"
    }
   ],
   "execution_count": 102
  },
  {
   "cell_type": "code",
   "metadata": {
    "ExecuteTime": {
     "end_time": "2025-03-15T02:25:01.476997Z",
     "start_time": "2025-03-15T02:25:01.474777Z"
    }
   },
   "source": [
    "len(heart_y_train)"
   ],
   "outputs": [
    {
     "data": {
      "text/plain": [
       "200"
      ]
     },
     "execution_count": 103,
     "metadata": {},
     "output_type": "execute_result"
    }
   ],
   "execution_count": 103
  },
  {
   "cell_type": "code",
   "metadata": {
    "ExecuteTime": {
     "end_time": "2025-03-15T02:25:01.669398Z",
     "start_time": "2025-03-15T02:25:01.666880Z"
    }
   },
   "source": [
    "len(df_heart_standardized)"
   ],
   "outputs": [
    {
     "data": {
      "text/plain": [
       "297"
      ]
     },
     "execution_count": 104,
     "metadata": {},
     "output_type": "execute_result"
    }
   ],
   "execution_count": 104
  },
  {
   "cell_type": "code",
   "metadata": {
    "ExecuteTime": {
     "end_time": "2025-03-15T02:25:01.813700Z",
     "start_time": "2025-03-15T02:25:01.809988Z"
    }
   },
   "source": [
    "accuracy_score(clf_NN.predict(dropped_heart_X_test), heart_y_test)"
   ],
   "outputs": [
    {
     "data": {
      "text/plain": [
       "0.7875647668393783"
      ]
     },
     "execution_count": 105,
     "metadata": {},
     "output_type": "execute_result"
    }
   ],
   "execution_count": 105
  },
  {
   "cell_type": "markdown",
   "metadata": {},
   "source": [
    "<h1 style=text-align:center;> Genetic Alogrithim"
   ]
  },
  {
   "cell_type": "markdown",
   "metadata": {},
   "source": [
    "# Genetic Algorithm for K-Nearest Neighbors Weight Optimization\n",
    "\n",
    "## Introduction\n",
    "\n",
    "This document outlines the steps to optimize weights for a K-Nearest Neighbors (KNN) classifier using a genetic algorithm. The process involves creating multiple populations of weight sets, evaluating their performance, and iteratively refining them to improve the classifier's accuracy.\n",
    "\n",
    "## Steps\n",
    "\n",
    "### 1. Initialize Populations\n",
    "\n",
    "- **Create 20 populations**:\n",
    "  - Each population consists of a set of weights.\n",
    "  - Initialize weights by multiplying the original weights by a random number between 0 and 1.\n",
    "\n",
    "### 2. Evaluate Accuracy\n",
    "\n",
    "- **Run KNN on each population**:\n",
    "  - Split the dataset into training and testing sets.\n",
    "  - Train the KNN classifier using the weights from each population.\n",
    "  - Calculate the accuracy of each population on the test set.\n",
    "  - Store the accuracy for each population.\n",
    "\n",
    "### 3. Select Top Populations\n",
    "\n",
    "- **Drop the bottom 10 populations**:\n",
    "  - Sort the populations based on their accuracy.\n",
    "  - Retain the top 10 populations and discard the bottom 10.\n",
    "\n",
    "### 4. Duplicate Top Populations\n",
    "\n",
    "- **Duplicate the top 10 populations**:\n",
    "  - Create new populations by duplicating the top 10 populations.\n",
    "  - This results in 20 populations again.\n",
    "\n",
    "### 5. Apply Genetic Algorithm\n",
    "\n",
    "- **Perform genetic operations**:\n",
    "  - Apply crossover and mutation to the duplicated populations to introduce variations.\n",
    "  - Ensure the new populations are different from the previous ones.\n",
    "\n",
    "### 6. Repeat\n",
    "\n",
    "- **Iterate the process**:\n",
    "  - Repeat steps 2 to 5 for a predefined number of generations or until the accuracy converges.\n"
   ]
  },
  {
   "cell_type": "code",
   "metadata": {
    "ExecuteTime": {
     "end_time": "2025-03-15T02:25:01.920647Z",
     "start_time": "2025-03-15T02:25:01.918442Z"
    }
   },
   "source": [
    "heart_swagger"
   ],
   "outputs": [
    {
     "data": {
      "text/plain": [
       "[np.float64(0.20609860000000002),\n",
       " np.float64(0.1802796),\n",
       " np.float64(0.11220270000000003),\n",
       " np.float64(0.1486896),\n",
       " np.float64(0.14887899999999998),\n",
       " np.float64(0.2009756),\n",
       " np.float64(0.3314935)]"
      ]
     },
     "execution_count": 106,
     "metadata": {},
     "output_type": "execute_result"
    }
   ],
   "execution_count": 106
  },
  {
   "cell_type": "code",
   "metadata": {
    "ExecuteTime": {
     "end_time": "2025-03-15T02:25:02.061365Z",
     "start_time": "2025-03-15T02:25:02.058891Z"
    }
   },
   "source": [
    "def weight_manipulation(num_of_population,num_of_weights,weights):\n",
    "\n",
    "    genetic_weights = np.empty((num_of_population,num_of_weights))\n",
    "\n",
    "    np_weights = np.array(weights)\n",
    "\n",
    "    # print(\"weights : \", np_weights.shape)\n",
    "    # print(\"Chama: \", genetic_weights.shape)\n",
    "\n",
    "    if(np_weights.ndim == 1):\n",
    "\n",
    "        for i in range(0, num_of_population):\n",
    "            genetic_weights[i] = weights * np.random.rand(len(weights))\n",
    "\n",
    "        # print(\"Huh: \" ,genetic_weights.shape)\n",
    "\n",
    "        return genetic_weights\n",
    "\n",
    "    else :\n",
    "\n",
    "        for row in range(num_of_population):\n",
    "            # Multiply each element in the row by a random factor\n",
    "            # The random factor must have the same number of columns as the weight matrix\n",
    "            genetic_weights[row] = np_weights[row] * np.random.rand(np_weights.shape[1])\n",
    "\n",
    "    return genetic_weights"
   ],
   "outputs": [],
   "execution_count": 107
  },
  {
   "cell_type": "code",
   "metadata": {
    "ExecuteTime": {
     "end_time": "2025-03-15T02:40:21.134904Z",
     "start_time": "2025-03-15T02:40:21.130591Z"
    }
   },
   "source": [
    "def get_weight_manipulated_acc(num_of_population, genetic_weights):\n",
    "\n",
    "    population_data = []\n",
    "    population_data_sorted = []\n",
    "    \n",
    "    pop_data_counter = 0\n",
    "\n",
    "    for population in range(num_of_population):\n",
    "\n",
    "        Train_Data =  pd.concat([dropped_heart_X_train, heart_y_train], axis=1)\n",
    "        Test_Data = pd.concat([dropped_heart_X_test, heart_y_test], axis=1)\n",
    "\n",
    "        TP = TN = FP = FN =0\n",
    "\n",
    "        for p in range(len(Test_Data)):\n",
    "            point=Test_Data.iloc[p]\n",
    "            NBRS=Nearest_Neighbors(point, Train_Data, genetic_weights[population] , \"num\")\n",
    "            Label=KNN(3,NBRS)\n",
    "            if (Label==point[\"num\"] and Label==1):\n",
    "                TP+=1\n",
    "            if (Label==point[\"num\"] and Label==0):\n",
    "                TN+=1\n",
    "            if (Label!=point[\"num\"] and Label==1):\n",
    "                FP+=1\n",
    "            if (Label!=point[\"num\"] and Label==0):\n",
    "                FN+=1\n",
    "        A_dropped_weighted=(TP+TN)/(TP+TN+FP+FN)\n",
    "\n",
    "        accuracy = A_dropped_weighted*100\n",
    "\n",
    "        accuracy_list.append(accuracy)\n",
    "\n",
    "        population_weights_with_accuracy = np.append(genetic_weights[population], accuracy)  # the current populations weight and its accuracy \n",
    "        print(\"This is population_weights_with_accuracy, \", population_weights_with_accuracy)\n",
    "        population_data.append(population_weights_with_accuracy)  # unsorted full generation data which holds weight and accuracy of each population\n",
    "        print(\"This is population_data, \", population_data)\n",
    "        population_data_sorted = sorted(population_data, key=lambda x: x[-1], reverse=True)  # sorted full generations \n",
    "        print(\"This is population_data_sorted, \", population_data_sorted)\n",
    "        pop_data_counter+=1\n",
    "    print(\"How many times pop data ,\" , pop_data_counter)\n",
    "\n",
    "    return population_data_sorted"
   ],
   "outputs": [],
   "execution_count": 116
  },
  {
   "cell_type": "code",
   "metadata": {
    "ExecuteTime": {
     "end_time": "2025-03-15T02:25:02.180323Z",
     "start_time": "2025-03-15T02:25:02.178534Z"
    }
   },
   "source": [
    "# def weight_manipulation(num_of_population,num_of_weights,weights):\n",
    "# \n",
    "#     genetic_weights = np.empty((num_of_population,num_of_weights))\n",
    "# \n",
    "#     np_weights = np.array(weights)\n",
    "# \n",
    "#     row, col = np_weights.shape\n",
    "# \n",
    "#     if(col == 0):\n",
    "# \n",
    "#         for i in range(0, np_weights.shape[0]):\n",
    "#             genetic_weights[i] = weights[i] * np.random.rand(np_weights.shape[i])\n",
    "# \n",
    "# \n",
    "#         genetic_weights = genetic_weights.reshape(-1,1)\n",
    "# \n",
    "#         return genetic_weights\n",
    "#     else :\n",
    "# \n",
    "#         for i in range(0, np_weights.shape[0]):\n",
    "#             genetic_weights[i] = weights[i] * np.random.rand(np_weights.shape[i])\n",
    "# \n",
    "# \n",
    "#     return genetic_weights"
   ],
   "outputs": [],
   "execution_count": 109
  },
  {
   "cell_type": "code",
   "metadata": {
    "ExecuteTime": {
     "end_time": "2025-03-15T02:40:54.500759Z",
     "start_time": "2025-03-15T02:40:24.967750Z"
    }
   },
   "source": [
    "num_of_population = 20\n",
    "num_of_weights = len(heart_swagger)\n",
    "\n",
    "generations = 1\n",
    "\n",
    "accuracy_list = []\n",
    "\n",
    "# Dictionary to hold generations data\n",
    "ig_generations_data = {}\n",
    "    \n",
    "for gen_num in range(generations):\n",
    "    \n",
    "    if gen_num == 0:\n",
    "\n",
    "        genetic_weights = weight_manipulation(num_of_population, num_of_weights,heart_swagger)\n",
    "        \n",
    "        population_data_sorted = get_weight_manipulated_acc(num_of_population, genetic_weights)\n",
    "        ig_generations_data[f'Generation_{gen_num + 1}'] = population_data_sorted\n",
    "    else :\n",
    "\n",
    "        population_data_sorted[-10:] = population_data_sorted[:10]\n",
    "\n",
    "        for i in range(num_of_population):\n",
    "            genetic_weights[i] = population_data_sorted[i][:7]\n",
    "\n",
    "        genetic_weights = weight_manipulation(num_of_population, num_of_weights, genetic_weights)\n",
    "\n",
    "        population_data_sorted = get_weight_manipulated_acc(num_of_population, genetic_weights)\n",
    "        ig_generations_data[f'Generation_{gen_num + 1}'] = population_data_sorted\n",
    "    \n",
    "    "
   ],
   "outputs": [
    {
     "name": "stdout",
     "output_type": "stream",
     "text": [
      "This is population_weights_with_accuracy,  [1.75885973e-01 1.53086058e-01 2.61779188e-02 9.41832862e-02\n",
      " 1.01903519e-01 6.42853731e-02 1.14788119e-01 7.82383420e+01]\n",
      "This is population_data,  [array([1.75885973e-01, 1.53086058e-01, 2.61779188e-02, 9.41832862e-02,\n",
      "       1.01903519e-01, 6.42853731e-02, 1.14788119e-01, 7.82383420e+01])]\n",
      "This is population_data_sorted,  [array([1.75885973e-01, 1.53086058e-01, 2.61779188e-02, 9.41832862e-02,\n",
      "       1.01903519e-01, 6.42853731e-02, 1.14788119e-01, 7.82383420e+01])]\n",
      "This is population_weights_with_accuracy,  [5.74824146e-02 3.99488453e-02 3.37441817e-02 1.03929749e-01\n",
      " 2.86561438e-02 6.54593357e-02 9.46035916e-02 7.66839378e+01]\n",
      "This is population_data,  [array([1.75885973e-01, 1.53086058e-01, 2.61779188e-02, 9.41832862e-02,\n",
      "       1.01903519e-01, 6.42853731e-02, 1.14788119e-01, 7.82383420e+01]), array([5.74824146e-02, 3.99488453e-02, 3.37441817e-02, 1.03929749e-01,\n",
      "       2.86561438e-02, 6.54593357e-02, 9.46035916e-02, 7.66839378e+01])]\n",
      "This is population_data_sorted,  [array([1.75885973e-01, 1.53086058e-01, 2.61779188e-02, 9.41832862e-02,\n",
      "       1.01903519e-01, 6.42853731e-02, 1.14788119e-01, 7.82383420e+01]), array([5.74824146e-02, 3.99488453e-02, 3.37441817e-02, 1.03929749e-01,\n",
      "       2.86561438e-02, 6.54593357e-02, 9.46035916e-02, 7.66839378e+01])]\n",
      "This is population_weights_with_accuracy,  [6.28454043e-02 6.68348768e-02 9.91528480e-02 7.82621755e-02\n",
      " 6.32680819e-02 5.69121556e-02 2.27686460e-01 8.08290155e+01]\n",
      "This is population_data,  [array([1.75885973e-01, 1.53086058e-01, 2.61779188e-02, 9.41832862e-02,\n",
      "       1.01903519e-01, 6.42853731e-02, 1.14788119e-01, 7.82383420e+01]), array([5.74824146e-02, 3.99488453e-02, 3.37441817e-02, 1.03929749e-01,\n",
      "       2.86561438e-02, 6.54593357e-02, 9.46035916e-02, 7.66839378e+01]), array([6.28454043e-02, 6.68348768e-02, 9.91528480e-02, 7.82621755e-02,\n",
      "       6.32680819e-02, 5.69121556e-02, 2.27686460e-01, 8.08290155e+01])]\n",
      "This is population_data_sorted,  [array([6.28454043e-02, 6.68348768e-02, 9.91528480e-02, 7.82621755e-02,\n",
      "       6.32680819e-02, 5.69121556e-02, 2.27686460e-01, 8.08290155e+01]), array([1.75885973e-01, 1.53086058e-01, 2.61779188e-02, 9.41832862e-02,\n",
      "       1.01903519e-01, 6.42853731e-02, 1.14788119e-01, 7.82383420e+01]), array([5.74824146e-02, 3.99488453e-02, 3.37441817e-02, 1.03929749e-01,\n",
      "       2.86561438e-02, 6.54593357e-02, 9.46035916e-02, 7.66839378e+01])]\n",
      "This is population_weights_with_accuracy,  [1.57639573e-01 1.31514386e-01 2.63986380e-02 1.04481063e-01\n",
      " 4.27152683e-02 1.86608762e-01 3.09411318e-01 8.08290155e+01]\n",
      "This is population_data,  [array([1.75885973e-01, 1.53086058e-01, 2.61779188e-02, 9.41832862e-02,\n",
      "       1.01903519e-01, 6.42853731e-02, 1.14788119e-01, 7.82383420e+01]), array([5.74824146e-02, 3.99488453e-02, 3.37441817e-02, 1.03929749e-01,\n",
      "       2.86561438e-02, 6.54593357e-02, 9.46035916e-02, 7.66839378e+01]), array([6.28454043e-02, 6.68348768e-02, 9.91528480e-02, 7.82621755e-02,\n",
      "       6.32680819e-02, 5.69121556e-02, 2.27686460e-01, 8.08290155e+01]), array([1.57639573e-01, 1.31514386e-01, 2.63986380e-02, 1.04481063e-01,\n",
      "       4.27152683e-02, 1.86608762e-01, 3.09411318e-01, 8.08290155e+01])]\n",
      "This is population_data_sorted,  [array([6.28454043e-02, 6.68348768e-02, 9.91528480e-02, 7.82621755e-02,\n",
      "       6.32680819e-02, 5.69121556e-02, 2.27686460e-01, 8.08290155e+01]), array([1.57639573e-01, 1.31514386e-01, 2.63986380e-02, 1.04481063e-01,\n",
      "       4.27152683e-02, 1.86608762e-01, 3.09411318e-01, 8.08290155e+01]), array([1.75885973e-01, 1.53086058e-01, 2.61779188e-02, 9.41832862e-02,\n",
      "       1.01903519e-01, 6.42853731e-02, 1.14788119e-01, 7.82383420e+01]), array([5.74824146e-02, 3.99488453e-02, 3.37441817e-02, 1.03929749e-01,\n",
      "       2.86561438e-02, 6.54593357e-02, 9.46035916e-02, 7.66839378e+01])]\n",
      "This is population_weights_with_accuracy,  [9.66748464e-02 5.34333067e-02 9.50947870e-02 7.36861637e-02\n",
      " 2.24805992e-02 1.10531163e-01 2.74295687e-01 7.92746114e+01]\n",
      "This is population_data,  [array([1.75885973e-01, 1.53086058e-01, 2.61779188e-02, 9.41832862e-02,\n",
      "       1.01903519e-01, 6.42853731e-02, 1.14788119e-01, 7.82383420e+01]), array([5.74824146e-02, 3.99488453e-02, 3.37441817e-02, 1.03929749e-01,\n",
      "       2.86561438e-02, 6.54593357e-02, 9.46035916e-02, 7.66839378e+01]), array([6.28454043e-02, 6.68348768e-02, 9.91528480e-02, 7.82621755e-02,\n",
      "       6.32680819e-02, 5.69121556e-02, 2.27686460e-01, 8.08290155e+01]), array([1.57639573e-01, 1.31514386e-01, 2.63986380e-02, 1.04481063e-01,\n",
      "       4.27152683e-02, 1.86608762e-01, 3.09411318e-01, 8.08290155e+01]), array([9.66748464e-02, 5.34333067e-02, 9.50947870e-02, 7.36861637e-02,\n",
      "       2.24805992e-02, 1.10531163e-01, 2.74295687e-01, 7.92746114e+01])]\n",
      "This is population_data_sorted,  [array([6.28454043e-02, 6.68348768e-02, 9.91528480e-02, 7.82621755e-02,\n",
      "       6.32680819e-02, 5.69121556e-02, 2.27686460e-01, 8.08290155e+01]), array([1.57639573e-01, 1.31514386e-01, 2.63986380e-02, 1.04481063e-01,\n",
      "       4.27152683e-02, 1.86608762e-01, 3.09411318e-01, 8.08290155e+01]), array([9.66748464e-02, 5.34333067e-02, 9.50947870e-02, 7.36861637e-02,\n",
      "       2.24805992e-02, 1.10531163e-01, 2.74295687e-01, 7.92746114e+01]), array([1.75885973e-01, 1.53086058e-01, 2.61779188e-02, 9.41832862e-02,\n",
      "       1.01903519e-01, 6.42853731e-02, 1.14788119e-01, 7.82383420e+01]), array([5.74824146e-02, 3.99488453e-02, 3.37441817e-02, 1.03929749e-01,\n",
      "       2.86561438e-02, 6.54593357e-02, 9.46035916e-02, 7.66839378e+01])]\n",
      "This is population_weights_with_accuracy,  [3.90357521e-02 5.47709458e-02 5.07172844e-02 4.05165673e-02\n",
      " 1.20909349e-01 1.01163900e-01 1.27847240e-01 7.87564767e+01]\n",
      "This is population_data,  [array([1.75885973e-01, 1.53086058e-01, 2.61779188e-02, 9.41832862e-02,\n",
      "       1.01903519e-01, 6.42853731e-02, 1.14788119e-01, 7.82383420e+01]), array([5.74824146e-02, 3.99488453e-02, 3.37441817e-02, 1.03929749e-01,\n",
      "       2.86561438e-02, 6.54593357e-02, 9.46035916e-02, 7.66839378e+01]), array([6.28454043e-02, 6.68348768e-02, 9.91528480e-02, 7.82621755e-02,\n",
      "       6.32680819e-02, 5.69121556e-02, 2.27686460e-01, 8.08290155e+01]), array([1.57639573e-01, 1.31514386e-01, 2.63986380e-02, 1.04481063e-01,\n",
      "       4.27152683e-02, 1.86608762e-01, 3.09411318e-01, 8.08290155e+01]), array([9.66748464e-02, 5.34333067e-02, 9.50947870e-02, 7.36861637e-02,\n",
      "       2.24805992e-02, 1.10531163e-01, 2.74295687e-01, 7.92746114e+01]), array([3.90357521e-02, 5.47709458e-02, 5.07172844e-02, 4.05165673e-02,\n",
      "       1.20909349e-01, 1.01163900e-01, 1.27847240e-01, 7.87564767e+01])]\n",
      "This is population_data_sorted,  [array([6.28454043e-02, 6.68348768e-02, 9.91528480e-02, 7.82621755e-02,\n",
      "       6.32680819e-02, 5.69121556e-02, 2.27686460e-01, 8.08290155e+01]), array([1.57639573e-01, 1.31514386e-01, 2.63986380e-02, 1.04481063e-01,\n",
      "       4.27152683e-02, 1.86608762e-01, 3.09411318e-01, 8.08290155e+01]), array([9.66748464e-02, 5.34333067e-02, 9.50947870e-02, 7.36861637e-02,\n",
      "       2.24805992e-02, 1.10531163e-01, 2.74295687e-01, 7.92746114e+01]), array([3.90357521e-02, 5.47709458e-02, 5.07172844e-02, 4.05165673e-02,\n",
      "       1.20909349e-01, 1.01163900e-01, 1.27847240e-01, 7.87564767e+01]), array([1.75885973e-01, 1.53086058e-01, 2.61779188e-02, 9.41832862e-02,\n",
      "       1.01903519e-01, 6.42853731e-02, 1.14788119e-01, 7.82383420e+01]), array([5.74824146e-02, 3.99488453e-02, 3.37441817e-02, 1.03929749e-01,\n",
      "       2.86561438e-02, 6.54593357e-02, 9.46035916e-02, 7.66839378e+01])]\n",
      "This is population_weights_with_accuracy,  [7.28997743e-02 1.58452456e-01 8.93385683e-02 1.24976962e-02\n",
      " 6.21692263e-02 1.26237967e-01 3.00002910e-01 7.66839378e+01]\n",
      "This is population_data,  [array([1.75885973e-01, 1.53086058e-01, 2.61779188e-02, 9.41832862e-02,\n",
      "       1.01903519e-01, 6.42853731e-02, 1.14788119e-01, 7.82383420e+01]), array([5.74824146e-02, 3.99488453e-02, 3.37441817e-02, 1.03929749e-01,\n",
      "       2.86561438e-02, 6.54593357e-02, 9.46035916e-02, 7.66839378e+01]), array([6.28454043e-02, 6.68348768e-02, 9.91528480e-02, 7.82621755e-02,\n",
      "       6.32680819e-02, 5.69121556e-02, 2.27686460e-01, 8.08290155e+01]), array([1.57639573e-01, 1.31514386e-01, 2.63986380e-02, 1.04481063e-01,\n",
      "       4.27152683e-02, 1.86608762e-01, 3.09411318e-01, 8.08290155e+01]), array([9.66748464e-02, 5.34333067e-02, 9.50947870e-02, 7.36861637e-02,\n",
      "       2.24805992e-02, 1.10531163e-01, 2.74295687e-01, 7.92746114e+01]), array([3.90357521e-02, 5.47709458e-02, 5.07172844e-02, 4.05165673e-02,\n",
      "       1.20909349e-01, 1.01163900e-01, 1.27847240e-01, 7.87564767e+01]), array([7.28997743e-02, 1.58452456e-01, 8.93385683e-02, 1.24976962e-02,\n",
      "       6.21692263e-02, 1.26237967e-01, 3.00002910e-01, 7.66839378e+01])]\n",
      "This is population_data_sorted,  [array([6.28454043e-02, 6.68348768e-02, 9.91528480e-02, 7.82621755e-02,\n",
      "       6.32680819e-02, 5.69121556e-02, 2.27686460e-01, 8.08290155e+01]), array([1.57639573e-01, 1.31514386e-01, 2.63986380e-02, 1.04481063e-01,\n",
      "       4.27152683e-02, 1.86608762e-01, 3.09411318e-01, 8.08290155e+01]), array([9.66748464e-02, 5.34333067e-02, 9.50947870e-02, 7.36861637e-02,\n",
      "       2.24805992e-02, 1.10531163e-01, 2.74295687e-01, 7.92746114e+01]), array([3.90357521e-02, 5.47709458e-02, 5.07172844e-02, 4.05165673e-02,\n",
      "       1.20909349e-01, 1.01163900e-01, 1.27847240e-01, 7.87564767e+01]), array([1.75885973e-01, 1.53086058e-01, 2.61779188e-02, 9.41832862e-02,\n",
      "       1.01903519e-01, 6.42853731e-02, 1.14788119e-01, 7.82383420e+01]), array([5.74824146e-02, 3.99488453e-02, 3.37441817e-02, 1.03929749e-01,\n",
      "       2.86561438e-02, 6.54593357e-02, 9.46035916e-02, 7.66839378e+01]), array([7.28997743e-02, 1.58452456e-01, 8.93385683e-02, 1.24976962e-02,\n",
      "       6.21692263e-02, 1.26237967e-01, 3.00002910e-01, 7.66839378e+01])]\n",
      "This is population_weights_with_accuracy,  [5.94287828e-02 1.47618826e-01 6.24356660e-02 1.15589125e-01\n",
      " 1.08609674e-01 1.24999945e-01 6.10005857e-02 7.51295337e+01]\n",
      "This is population_data,  [array([1.75885973e-01, 1.53086058e-01, 2.61779188e-02, 9.41832862e-02,\n",
      "       1.01903519e-01, 6.42853731e-02, 1.14788119e-01, 7.82383420e+01]), array([5.74824146e-02, 3.99488453e-02, 3.37441817e-02, 1.03929749e-01,\n",
      "       2.86561438e-02, 6.54593357e-02, 9.46035916e-02, 7.66839378e+01]), array([6.28454043e-02, 6.68348768e-02, 9.91528480e-02, 7.82621755e-02,\n",
      "       6.32680819e-02, 5.69121556e-02, 2.27686460e-01, 8.08290155e+01]), array([1.57639573e-01, 1.31514386e-01, 2.63986380e-02, 1.04481063e-01,\n",
      "       4.27152683e-02, 1.86608762e-01, 3.09411318e-01, 8.08290155e+01]), array([9.66748464e-02, 5.34333067e-02, 9.50947870e-02, 7.36861637e-02,\n",
      "       2.24805992e-02, 1.10531163e-01, 2.74295687e-01, 7.92746114e+01]), array([3.90357521e-02, 5.47709458e-02, 5.07172844e-02, 4.05165673e-02,\n",
      "       1.20909349e-01, 1.01163900e-01, 1.27847240e-01, 7.87564767e+01]), array([7.28997743e-02, 1.58452456e-01, 8.93385683e-02, 1.24976962e-02,\n",
      "       6.21692263e-02, 1.26237967e-01, 3.00002910e-01, 7.66839378e+01]), array([5.94287828e-02, 1.47618826e-01, 6.24356660e-02, 1.15589125e-01,\n",
      "       1.08609674e-01, 1.24999945e-01, 6.10005857e-02, 7.51295337e+01])]\n",
      "This is population_data_sorted,  [array([6.28454043e-02, 6.68348768e-02, 9.91528480e-02, 7.82621755e-02,\n",
      "       6.32680819e-02, 5.69121556e-02, 2.27686460e-01, 8.08290155e+01]), array([1.57639573e-01, 1.31514386e-01, 2.63986380e-02, 1.04481063e-01,\n",
      "       4.27152683e-02, 1.86608762e-01, 3.09411318e-01, 8.08290155e+01]), array([9.66748464e-02, 5.34333067e-02, 9.50947870e-02, 7.36861637e-02,\n",
      "       2.24805992e-02, 1.10531163e-01, 2.74295687e-01, 7.92746114e+01]), array([3.90357521e-02, 5.47709458e-02, 5.07172844e-02, 4.05165673e-02,\n",
      "       1.20909349e-01, 1.01163900e-01, 1.27847240e-01, 7.87564767e+01]), array([1.75885973e-01, 1.53086058e-01, 2.61779188e-02, 9.41832862e-02,\n",
      "       1.01903519e-01, 6.42853731e-02, 1.14788119e-01, 7.82383420e+01]), array([5.74824146e-02, 3.99488453e-02, 3.37441817e-02, 1.03929749e-01,\n",
      "       2.86561438e-02, 6.54593357e-02, 9.46035916e-02, 7.66839378e+01]), array([7.28997743e-02, 1.58452456e-01, 8.93385683e-02, 1.24976962e-02,\n",
      "       6.21692263e-02, 1.26237967e-01, 3.00002910e-01, 7.66839378e+01]), array([5.94287828e-02, 1.47618826e-01, 6.24356660e-02, 1.15589125e-01,\n",
      "       1.08609674e-01, 1.24999945e-01, 6.10005857e-02, 7.51295337e+01])]\n",
      "This is population_weights_with_accuracy,  [1.17906250e-01 2.53805118e-02 1.01849585e-01 1.88721772e-02\n",
      " 4.99839561e-02 4.45512325e-02 1.49969885e-01 7.61658031e+01]\n",
      "This is population_data,  [array([1.75885973e-01, 1.53086058e-01, 2.61779188e-02, 9.41832862e-02,\n",
      "       1.01903519e-01, 6.42853731e-02, 1.14788119e-01, 7.82383420e+01]), array([5.74824146e-02, 3.99488453e-02, 3.37441817e-02, 1.03929749e-01,\n",
      "       2.86561438e-02, 6.54593357e-02, 9.46035916e-02, 7.66839378e+01]), array([6.28454043e-02, 6.68348768e-02, 9.91528480e-02, 7.82621755e-02,\n",
      "       6.32680819e-02, 5.69121556e-02, 2.27686460e-01, 8.08290155e+01]), array([1.57639573e-01, 1.31514386e-01, 2.63986380e-02, 1.04481063e-01,\n",
      "       4.27152683e-02, 1.86608762e-01, 3.09411318e-01, 8.08290155e+01]), array([9.66748464e-02, 5.34333067e-02, 9.50947870e-02, 7.36861637e-02,\n",
      "       2.24805992e-02, 1.10531163e-01, 2.74295687e-01, 7.92746114e+01]), array([3.90357521e-02, 5.47709458e-02, 5.07172844e-02, 4.05165673e-02,\n",
      "       1.20909349e-01, 1.01163900e-01, 1.27847240e-01, 7.87564767e+01]), array([7.28997743e-02, 1.58452456e-01, 8.93385683e-02, 1.24976962e-02,\n",
      "       6.21692263e-02, 1.26237967e-01, 3.00002910e-01, 7.66839378e+01]), array([5.94287828e-02, 1.47618826e-01, 6.24356660e-02, 1.15589125e-01,\n",
      "       1.08609674e-01, 1.24999945e-01, 6.10005857e-02, 7.51295337e+01]), array([1.17906250e-01, 2.53805118e-02, 1.01849585e-01, 1.88721772e-02,\n",
      "       4.99839561e-02, 4.45512325e-02, 1.49969885e-01, 7.61658031e+01])]\n",
      "This is population_data_sorted,  [array([6.28454043e-02, 6.68348768e-02, 9.91528480e-02, 7.82621755e-02,\n",
      "       6.32680819e-02, 5.69121556e-02, 2.27686460e-01, 8.08290155e+01]), array([1.57639573e-01, 1.31514386e-01, 2.63986380e-02, 1.04481063e-01,\n",
      "       4.27152683e-02, 1.86608762e-01, 3.09411318e-01, 8.08290155e+01]), array([9.66748464e-02, 5.34333067e-02, 9.50947870e-02, 7.36861637e-02,\n",
      "       2.24805992e-02, 1.10531163e-01, 2.74295687e-01, 7.92746114e+01]), array([3.90357521e-02, 5.47709458e-02, 5.07172844e-02, 4.05165673e-02,\n",
      "       1.20909349e-01, 1.01163900e-01, 1.27847240e-01, 7.87564767e+01]), array([1.75885973e-01, 1.53086058e-01, 2.61779188e-02, 9.41832862e-02,\n",
      "       1.01903519e-01, 6.42853731e-02, 1.14788119e-01, 7.82383420e+01]), array([5.74824146e-02, 3.99488453e-02, 3.37441817e-02, 1.03929749e-01,\n",
      "       2.86561438e-02, 6.54593357e-02, 9.46035916e-02, 7.66839378e+01]), array([7.28997743e-02, 1.58452456e-01, 8.93385683e-02, 1.24976962e-02,\n",
      "       6.21692263e-02, 1.26237967e-01, 3.00002910e-01, 7.66839378e+01]), array([1.17906250e-01, 2.53805118e-02, 1.01849585e-01, 1.88721772e-02,\n",
      "       4.99839561e-02, 4.45512325e-02, 1.49969885e-01, 7.61658031e+01]), array([5.94287828e-02, 1.47618826e-01, 6.24356660e-02, 1.15589125e-01,\n",
      "       1.08609674e-01, 1.24999945e-01, 6.10005857e-02, 7.51295337e+01])]\n",
      "This is population_weights_with_accuracy,  [1.23662475e-01 9.08143450e-02 5.55583495e-02 3.73153151e-02\n",
      " 1.07916532e-01 4.48066492e-02 2.94664591e-01 7.72020725e+01]\n",
      "This is population_data,  [array([1.75885973e-01, 1.53086058e-01, 2.61779188e-02, 9.41832862e-02,\n",
      "       1.01903519e-01, 6.42853731e-02, 1.14788119e-01, 7.82383420e+01]), array([5.74824146e-02, 3.99488453e-02, 3.37441817e-02, 1.03929749e-01,\n",
      "       2.86561438e-02, 6.54593357e-02, 9.46035916e-02, 7.66839378e+01]), array([6.28454043e-02, 6.68348768e-02, 9.91528480e-02, 7.82621755e-02,\n",
      "       6.32680819e-02, 5.69121556e-02, 2.27686460e-01, 8.08290155e+01]), array([1.57639573e-01, 1.31514386e-01, 2.63986380e-02, 1.04481063e-01,\n",
      "       4.27152683e-02, 1.86608762e-01, 3.09411318e-01, 8.08290155e+01]), array([9.66748464e-02, 5.34333067e-02, 9.50947870e-02, 7.36861637e-02,\n",
      "       2.24805992e-02, 1.10531163e-01, 2.74295687e-01, 7.92746114e+01]), array([3.90357521e-02, 5.47709458e-02, 5.07172844e-02, 4.05165673e-02,\n",
      "       1.20909349e-01, 1.01163900e-01, 1.27847240e-01, 7.87564767e+01]), array([7.28997743e-02, 1.58452456e-01, 8.93385683e-02, 1.24976962e-02,\n",
      "       6.21692263e-02, 1.26237967e-01, 3.00002910e-01, 7.66839378e+01]), array([5.94287828e-02, 1.47618826e-01, 6.24356660e-02, 1.15589125e-01,\n",
      "       1.08609674e-01, 1.24999945e-01, 6.10005857e-02, 7.51295337e+01]), array([1.17906250e-01, 2.53805118e-02, 1.01849585e-01, 1.88721772e-02,\n",
      "       4.99839561e-02, 4.45512325e-02, 1.49969885e-01, 7.61658031e+01]), array([1.23662475e-01, 9.08143450e-02, 5.55583495e-02, 3.73153151e-02,\n",
      "       1.07916532e-01, 4.48066492e-02, 2.94664591e-01, 7.72020725e+01])]\n",
      "This is population_data_sorted,  [array([6.28454043e-02, 6.68348768e-02, 9.91528480e-02, 7.82621755e-02,\n",
      "       6.32680819e-02, 5.69121556e-02, 2.27686460e-01, 8.08290155e+01]), array([1.57639573e-01, 1.31514386e-01, 2.63986380e-02, 1.04481063e-01,\n",
      "       4.27152683e-02, 1.86608762e-01, 3.09411318e-01, 8.08290155e+01]), array([9.66748464e-02, 5.34333067e-02, 9.50947870e-02, 7.36861637e-02,\n",
      "       2.24805992e-02, 1.10531163e-01, 2.74295687e-01, 7.92746114e+01]), array([3.90357521e-02, 5.47709458e-02, 5.07172844e-02, 4.05165673e-02,\n",
      "       1.20909349e-01, 1.01163900e-01, 1.27847240e-01, 7.87564767e+01]), array([1.75885973e-01, 1.53086058e-01, 2.61779188e-02, 9.41832862e-02,\n",
      "       1.01903519e-01, 6.42853731e-02, 1.14788119e-01, 7.82383420e+01]), array([1.23662475e-01, 9.08143450e-02, 5.55583495e-02, 3.73153151e-02,\n",
      "       1.07916532e-01, 4.48066492e-02, 2.94664591e-01, 7.72020725e+01]), array([5.74824146e-02, 3.99488453e-02, 3.37441817e-02, 1.03929749e-01,\n",
      "       2.86561438e-02, 6.54593357e-02, 9.46035916e-02, 7.66839378e+01]), array([7.28997743e-02, 1.58452456e-01, 8.93385683e-02, 1.24976962e-02,\n",
      "       6.21692263e-02, 1.26237967e-01, 3.00002910e-01, 7.66839378e+01]), array([1.17906250e-01, 2.53805118e-02, 1.01849585e-01, 1.88721772e-02,\n",
      "       4.99839561e-02, 4.45512325e-02, 1.49969885e-01, 7.61658031e+01]), array([5.94287828e-02, 1.47618826e-01, 6.24356660e-02, 1.15589125e-01,\n",
      "       1.08609674e-01, 1.24999945e-01, 6.10005857e-02, 7.51295337e+01])]\n",
      "This is population_weights_with_accuracy,  [1.01706212e-01 1.72392471e-01 9.41247980e-02 4.08445731e-02\n",
      " 3.34100840e-02 7.67245362e-02 1.60135287e-01 7.72020725e+01]\n",
      "This is population_data,  [array([1.75885973e-01, 1.53086058e-01, 2.61779188e-02, 9.41832862e-02,\n",
      "       1.01903519e-01, 6.42853731e-02, 1.14788119e-01, 7.82383420e+01]), array([5.74824146e-02, 3.99488453e-02, 3.37441817e-02, 1.03929749e-01,\n",
      "       2.86561438e-02, 6.54593357e-02, 9.46035916e-02, 7.66839378e+01]), array([6.28454043e-02, 6.68348768e-02, 9.91528480e-02, 7.82621755e-02,\n",
      "       6.32680819e-02, 5.69121556e-02, 2.27686460e-01, 8.08290155e+01]), array([1.57639573e-01, 1.31514386e-01, 2.63986380e-02, 1.04481063e-01,\n",
      "       4.27152683e-02, 1.86608762e-01, 3.09411318e-01, 8.08290155e+01]), array([9.66748464e-02, 5.34333067e-02, 9.50947870e-02, 7.36861637e-02,\n",
      "       2.24805992e-02, 1.10531163e-01, 2.74295687e-01, 7.92746114e+01]), array([3.90357521e-02, 5.47709458e-02, 5.07172844e-02, 4.05165673e-02,\n",
      "       1.20909349e-01, 1.01163900e-01, 1.27847240e-01, 7.87564767e+01]), array([7.28997743e-02, 1.58452456e-01, 8.93385683e-02, 1.24976962e-02,\n",
      "       6.21692263e-02, 1.26237967e-01, 3.00002910e-01, 7.66839378e+01]), array([5.94287828e-02, 1.47618826e-01, 6.24356660e-02, 1.15589125e-01,\n",
      "       1.08609674e-01, 1.24999945e-01, 6.10005857e-02, 7.51295337e+01]), array([1.17906250e-01, 2.53805118e-02, 1.01849585e-01, 1.88721772e-02,\n",
      "       4.99839561e-02, 4.45512325e-02, 1.49969885e-01, 7.61658031e+01]), array([1.23662475e-01, 9.08143450e-02, 5.55583495e-02, 3.73153151e-02,\n",
      "       1.07916532e-01, 4.48066492e-02, 2.94664591e-01, 7.72020725e+01]), array([1.01706212e-01, 1.72392471e-01, 9.41247980e-02, 4.08445731e-02,\n",
      "       3.34100840e-02, 7.67245362e-02, 1.60135287e-01, 7.72020725e+01])]\n",
      "This is population_data_sorted,  [array([6.28454043e-02, 6.68348768e-02, 9.91528480e-02, 7.82621755e-02,\n",
      "       6.32680819e-02, 5.69121556e-02, 2.27686460e-01, 8.08290155e+01]), array([1.57639573e-01, 1.31514386e-01, 2.63986380e-02, 1.04481063e-01,\n",
      "       4.27152683e-02, 1.86608762e-01, 3.09411318e-01, 8.08290155e+01]), array([9.66748464e-02, 5.34333067e-02, 9.50947870e-02, 7.36861637e-02,\n",
      "       2.24805992e-02, 1.10531163e-01, 2.74295687e-01, 7.92746114e+01]), array([3.90357521e-02, 5.47709458e-02, 5.07172844e-02, 4.05165673e-02,\n",
      "       1.20909349e-01, 1.01163900e-01, 1.27847240e-01, 7.87564767e+01]), array([1.75885973e-01, 1.53086058e-01, 2.61779188e-02, 9.41832862e-02,\n",
      "       1.01903519e-01, 6.42853731e-02, 1.14788119e-01, 7.82383420e+01]), array([1.23662475e-01, 9.08143450e-02, 5.55583495e-02, 3.73153151e-02,\n",
      "       1.07916532e-01, 4.48066492e-02, 2.94664591e-01, 7.72020725e+01]), array([1.01706212e-01, 1.72392471e-01, 9.41247980e-02, 4.08445731e-02,\n",
      "       3.34100840e-02, 7.67245362e-02, 1.60135287e-01, 7.72020725e+01]), array([5.74824146e-02, 3.99488453e-02, 3.37441817e-02, 1.03929749e-01,\n",
      "       2.86561438e-02, 6.54593357e-02, 9.46035916e-02, 7.66839378e+01]), array([7.28997743e-02, 1.58452456e-01, 8.93385683e-02, 1.24976962e-02,\n",
      "       6.21692263e-02, 1.26237967e-01, 3.00002910e-01, 7.66839378e+01]), array([1.17906250e-01, 2.53805118e-02, 1.01849585e-01, 1.88721772e-02,\n",
      "       4.99839561e-02, 4.45512325e-02, 1.49969885e-01, 7.61658031e+01]), array([5.94287828e-02, 1.47618826e-01, 6.24356660e-02, 1.15589125e-01,\n",
      "       1.08609674e-01, 1.24999945e-01, 6.10005857e-02, 7.51295337e+01])]\n",
      "This is population_weights_with_accuracy,  [1.97891102e-02 1.50281132e-01 3.79215890e-02 1.70490662e-02\n",
      " 4.10849012e-02 1.79699420e-01 7.22812618e-02 7.51295337e+01]\n",
      "This is population_data,  [array([1.75885973e-01, 1.53086058e-01, 2.61779188e-02, 9.41832862e-02,\n",
      "       1.01903519e-01, 6.42853731e-02, 1.14788119e-01, 7.82383420e+01]), array([5.74824146e-02, 3.99488453e-02, 3.37441817e-02, 1.03929749e-01,\n",
      "       2.86561438e-02, 6.54593357e-02, 9.46035916e-02, 7.66839378e+01]), array([6.28454043e-02, 6.68348768e-02, 9.91528480e-02, 7.82621755e-02,\n",
      "       6.32680819e-02, 5.69121556e-02, 2.27686460e-01, 8.08290155e+01]), array([1.57639573e-01, 1.31514386e-01, 2.63986380e-02, 1.04481063e-01,\n",
      "       4.27152683e-02, 1.86608762e-01, 3.09411318e-01, 8.08290155e+01]), array([9.66748464e-02, 5.34333067e-02, 9.50947870e-02, 7.36861637e-02,\n",
      "       2.24805992e-02, 1.10531163e-01, 2.74295687e-01, 7.92746114e+01]), array([3.90357521e-02, 5.47709458e-02, 5.07172844e-02, 4.05165673e-02,\n",
      "       1.20909349e-01, 1.01163900e-01, 1.27847240e-01, 7.87564767e+01]), array([7.28997743e-02, 1.58452456e-01, 8.93385683e-02, 1.24976962e-02,\n",
      "       6.21692263e-02, 1.26237967e-01, 3.00002910e-01, 7.66839378e+01]), array([5.94287828e-02, 1.47618826e-01, 6.24356660e-02, 1.15589125e-01,\n",
      "       1.08609674e-01, 1.24999945e-01, 6.10005857e-02, 7.51295337e+01]), array([1.17906250e-01, 2.53805118e-02, 1.01849585e-01, 1.88721772e-02,\n",
      "       4.99839561e-02, 4.45512325e-02, 1.49969885e-01, 7.61658031e+01]), array([1.23662475e-01, 9.08143450e-02, 5.55583495e-02, 3.73153151e-02,\n",
      "       1.07916532e-01, 4.48066492e-02, 2.94664591e-01, 7.72020725e+01]), array([1.01706212e-01, 1.72392471e-01, 9.41247980e-02, 4.08445731e-02,\n",
      "       3.34100840e-02, 7.67245362e-02, 1.60135287e-01, 7.72020725e+01]), array([1.97891102e-02, 1.50281132e-01, 3.79215890e-02, 1.70490662e-02,\n",
      "       4.10849012e-02, 1.79699420e-01, 7.22812618e-02, 7.51295337e+01])]\n",
      "This is population_data_sorted,  [array([6.28454043e-02, 6.68348768e-02, 9.91528480e-02, 7.82621755e-02,\n",
      "       6.32680819e-02, 5.69121556e-02, 2.27686460e-01, 8.08290155e+01]), array([1.57639573e-01, 1.31514386e-01, 2.63986380e-02, 1.04481063e-01,\n",
      "       4.27152683e-02, 1.86608762e-01, 3.09411318e-01, 8.08290155e+01]), array([9.66748464e-02, 5.34333067e-02, 9.50947870e-02, 7.36861637e-02,\n",
      "       2.24805992e-02, 1.10531163e-01, 2.74295687e-01, 7.92746114e+01]), array([3.90357521e-02, 5.47709458e-02, 5.07172844e-02, 4.05165673e-02,\n",
      "       1.20909349e-01, 1.01163900e-01, 1.27847240e-01, 7.87564767e+01]), array([1.75885973e-01, 1.53086058e-01, 2.61779188e-02, 9.41832862e-02,\n",
      "       1.01903519e-01, 6.42853731e-02, 1.14788119e-01, 7.82383420e+01]), array([1.23662475e-01, 9.08143450e-02, 5.55583495e-02, 3.73153151e-02,\n",
      "       1.07916532e-01, 4.48066492e-02, 2.94664591e-01, 7.72020725e+01]), array([1.01706212e-01, 1.72392471e-01, 9.41247980e-02, 4.08445731e-02,\n",
      "       3.34100840e-02, 7.67245362e-02, 1.60135287e-01, 7.72020725e+01]), array([5.74824146e-02, 3.99488453e-02, 3.37441817e-02, 1.03929749e-01,\n",
      "       2.86561438e-02, 6.54593357e-02, 9.46035916e-02, 7.66839378e+01]), array([7.28997743e-02, 1.58452456e-01, 8.93385683e-02, 1.24976962e-02,\n",
      "       6.21692263e-02, 1.26237967e-01, 3.00002910e-01, 7.66839378e+01]), array([1.17906250e-01, 2.53805118e-02, 1.01849585e-01, 1.88721772e-02,\n",
      "       4.99839561e-02, 4.45512325e-02, 1.49969885e-01, 7.61658031e+01]), array([5.94287828e-02, 1.47618826e-01, 6.24356660e-02, 1.15589125e-01,\n",
      "       1.08609674e-01, 1.24999945e-01, 6.10005857e-02, 7.51295337e+01]), array([1.97891102e-02, 1.50281132e-01, 3.79215890e-02, 1.70490662e-02,\n",
      "       4.10849012e-02, 1.79699420e-01, 7.22812618e-02, 7.51295337e+01])]\n",
      "This is population_weights_with_accuracy,  [7.07549860e-02 9.38877263e-02 1.86734994e-02 6.91385688e-02\n",
      " 1.29692402e-01 1.65789611e-01 9.54633360e-02 7.77202073e+01]\n",
      "This is population_data,  [array([1.75885973e-01, 1.53086058e-01, 2.61779188e-02, 9.41832862e-02,\n",
      "       1.01903519e-01, 6.42853731e-02, 1.14788119e-01, 7.82383420e+01]), array([5.74824146e-02, 3.99488453e-02, 3.37441817e-02, 1.03929749e-01,\n",
      "       2.86561438e-02, 6.54593357e-02, 9.46035916e-02, 7.66839378e+01]), array([6.28454043e-02, 6.68348768e-02, 9.91528480e-02, 7.82621755e-02,\n",
      "       6.32680819e-02, 5.69121556e-02, 2.27686460e-01, 8.08290155e+01]), array([1.57639573e-01, 1.31514386e-01, 2.63986380e-02, 1.04481063e-01,\n",
      "       4.27152683e-02, 1.86608762e-01, 3.09411318e-01, 8.08290155e+01]), array([9.66748464e-02, 5.34333067e-02, 9.50947870e-02, 7.36861637e-02,\n",
      "       2.24805992e-02, 1.10531163e-01, 2.74295687e-01, 7.92746114e+01]), array([3.90357521e-02, 5.47709458e-02, 5.07172844e-02, 4.05165673e-02,\n",
      "       1.20909349e-01, 1.01163900e-01, 1.27847240e-01, 7.87564767e+01]), array([7.28997743e-02, 1.58452456e-01, 8.93385683e-02, 1.24976962e-02,\n",
      "       6.21692263e-02, 1.26237967e-01, 3.00002910e-01, 7.66839378e+01]), array([5.94287828e-02, 1.47618826e-01, 6.24356660e-02, 1.15589125e-01,\n",
      "       1.08609674e-01, 1.24999945e-01, 6.10005857e-02, 7.51295337e+01]), array([1.17906250e-01, 2.53805118e-02, 1.01849585e-01, 1.88721772e-02,\n",
      "       4.99839561e-02, 4.45512325e-02, 1.49969885e-01, 7.61658031e+01]), array([1.23662475e-01, 9.08143450e-02, 5.55583495e-02, 3.73153151e-02,\n",
      "       1.07916532e-01, 4.48066492e-02, 2.94664591e-01, 7.72020725e+01]), array([1.01706212e-01, 1.72392471e-01, 9.41247980e-02, 4.08445731e-02,\n",
      "       3.34100840e-02, 7.67245362e-02, 1.60135287e-01, 7.72020725e+01]), array([1.97891102e-02, 1.50281132e-01, 3.79215890e-02, 1.70490662e-02,\n",
      "       4.10849012e-02, 1.79699420e-01, 7.22812618e-02, 7.51295337e+01]), array([7.07549860e-02, 9.38877263e-02, 1.86734994e-02, 6.91385688e-02,\n",
      "       1.29692402e-01, 1.65789611e-01, 9.54633360e-02, 7.77202073e+01])]\n",
      "This is population_data_sorted,  [array([6.28454043e-02, 6.68348768e-02, 9.91528480e-02, 7.82621755e-02,\n",
      "       6.32680819e-02, 5.69121556e-02, 2.27686460e-01, 8.08290155e+01]), array([1.57639573e-01, 1.31514386e-01, 2.63986380e-02, 1.04481063e-01,\n",
      "       4.27152683e-02, 1.86608762e-01, 3.09411318e-01, 8.08290155e+01]), array([9.66748464e-02, 5.34333067e-02, 9.50947870e-02, 7.36861637e-02,\n",
      "       2.24805992e-02, 1.10531163e-01, 2.74295687e-01, 7.92746114e+01]), array([3.90357521e-02, 5.47709458e-02, 5.07172844e-02, 4.05165673e-02,\n",
      "       1.20909349e-01, 1.01163900e-01, 1.27847240e-01, 7.87564767e+01]), array([1.75885973e-01, 1.53086058e-01, 2.61779188e-02, 9.41832862e-02,\n",
      "       1.01903519e-01, 6.42853731e-02, 1.14788119e-01, 7.82383420e+01]), array([7.07549860e-02, 9.38877263e-02, 1.86734994e-02, 6.91385688e-02,\n",
      "       1.29692402e-01, 1.65789611e-01, 9.54633360e-02, 7.77202073e+01]), array([1.23662475e-01, 9.08143450e-02, 5.55583495e-02, 3.73153151e-02,\n",
      "       1.07916532e-01, 4.48066492e-02, 2.94664591e-01, 7.72020725e+01]), array([1.01706212e-01, 1.72392471e-01, 9.41247980e-02, 4.08445731e-02,\n",
      "       3.34100840e-02, 7.67245362e-02, 1.60135287e-01, 7.72020725e+01]), array([5.74824146e-02, 3.99488453e-02, 3.37441817e-02, 1.03929749e-01,\n",
      "       2.86561438e-02, 6.54593357e-02, 9.46035916e-02, 7.66839378e+01]), array([7.28997743e-02, 1.58452456e-01, 8.93385683e-02, 1.24976962e-02,\n",
      "       6.21692263e-02, 1.26237967e-01, 3.00002910e-01, 7.66839378e+01]), array([1.17906250e-01, 2.53805118e-02, 1.01849585e-01, 1.88721772e-02,\n",
      "       4.99839561e-02, 4.45512325e-02, 1.49969885e-01, 7.61658031e+01]), array([5.94287828e-02, 1.47618826e-01, 6.24356660e-02, 1.15589125e-01,\n",
      "       1.08609674e-01, 1.24999945e-01, 6.10005857e-02, 7.51295337e+01]), array([1.97891102e-02, 1.50281132e-01, 3.79215890e-02, 1.70490662e-02,\n",
      "       4.10849012e-02, 1.79699420e-01, 7.22812618e-02, 7.51295337e+01])]\n",
      "This is population_weights_with_accuracy,  [6.06946052e-02 1.46624180e-01 2.65031504e-02 4.43845401e-02\n",
      " 1.23330789e-01 8.43423112e-02 4.35355184e-02 7.20207254e+01]\n",
      "This is population_data,  [array([1.75885973e-01, 1.53086058e-01, 2.61779188e-02, 9.41832862e-02,\n",
      "       1.01903519e-01, 6.42853731e-02, 1.14788119e-01, 7.82383420e+01]), array([5.74824146e-02, 3.99488453e-02, 3.37441817e-02, 1.03929749e-01,\n",
      "       2.86561438e-02, 6.54593357e-02, 9.46035916e-02, 7.66839378e+01]), array([6.28454043e-02, 6.68348768e-02, 9.91528480e-02, 7.82621755e-02,\n",
      "       6.32680819e-02, 5.69121556e-02, 2.27686460e-01, 8.08290155e+01]), array([1.57639573e-01, 1.31514386e-01, 2.63986380e-02, 1.04481063e-01,\n",
      "       4.27152683e-02, 1.86608762e-01, 3.09411318e-01, 8.08290155e+01]), array([9.66748464e-02, 5.34333067e-02, 9.50947870e-02, 7.36861637e-02,\n",
      "       2.24805992e-02, 1.10531163e-01, 2.74295687e-01, 7.92746114e+01]), array([3.90357521e-02, 5.47709458e-02, 5.07172844e-02, 4.05165673e-02,\n",
      "       1.20909349e-01, 1.01163900e-01, 1.27847240e-01, 7.87564767e+01]), array([7.28997743e-02, 1.58452456e-01, 8.93385683e-02, 1.24976962e-02,\n",
      "       6.21692263e-02, 1.26237967e-01, 3.00002910e-01, 7.66839378e+01]), array([5.94287828e-02, 1.47618826e-01, 6.24356660e-02, 1.15589125e-01,\n",
      "       1.08609674e-01, 1.24999945e-01, 6.10005857e-02, 7.51295337e+01]), array([1.17906250e-01, 2.53805118e-02, 1.01849585e-01, 1.88721772e-02,\n",
      "       4.99839561e-02, 4.45512325e-02, 1.49969885e-01, 7.61658031e+01]), array([1.23662475e-01, 9.08143450e-02, 5.55583495e-02, 3.73153151e-02,\n",
      "       1.07916532e-01, 4.48066492e-02, 2.94664591e-01, 7.72020725e+01]), array([1.01706212e-01, 1.72392471e-01, 9.41247980e-02, 4.08445731e-02,\n",
      "       3.34100840e-02, 7.67245362e-02, 1.60135287e-01, 7.72020725e+01]), array([1.97891102e-02, 1.50281132e-01, 3.79215890e-02, 1.70490662e-02,\n",
      "       4.10849012e-02, 1.79699420e-01, 7.22812618e-02, 7.51295337e+01]), array([7.07549860e-02, 9.38877263e-02, 1.86734994e-02, 6.91385688e-02,\n",
      "       1.29692402e-01, 1.65789611e-01, 9.54633360e-02, 7.77202073e+01]), array([6.06946052e-02, 1.46624180e-01, 2.65031504e-02, 4.43845401e-02,\n",
      "       1.23330789e-01, 8.43423112e-02, 4.35355184e-02, 7.20207254e+01])]\n",
      "This is population_data_sorted,  [array([6.28454043e-02, 6.68348768e-02, 9.91528480e-02, 7.82621755e-02,\n",
      "       6.32680819e-02, 5.69121556e-02, 2.27686460e-01, 8.08290155e+01]), array([1.57639573e-01, 1.31514386e-01, 2.63986380e-02, 1.04481063e-01,\n",
      "       4.27152683e-02, 1.86608762e-01, 3.09411318e-01, 8.08290155e+01]), array([9.66748464e-02, 5.34333067e-02, 9.50947870e-02, 7.36861637e-02,\n",
      "       2.24805992e-02, 1.10531163e-01, 2.74295687e-01, 7.92746114e+01]), array([3.90357521e-02, 5.47709458e-02, 5.07172844e-02, 4.05165673e-02,\n",
      "       1.20909349e-01, 1.01163900e-01, 1.27847240e-01, 7.87564767e+01]), array([1.75885973e-01, 1.53086058e-01, 2.61779188e-02, 9.41832862e-02,\n",
      "       1.01903519e-01, 6.42853731e-02, 1.14788119e-01, 7.82383420e+01]), array([7.07549860e-02, 9.38877263e-02, 1.86734994e-02, 6.91385688e-02,\n",
      "       1.29692402e-01, 1.65789611e-01, 9.54633360e-02, 7.77202073e+01]), array([1.23662475e-01, 9.08143450e-02, 5.55583495e-02, 3.73153151e-02,\n",
      "       1.07916532e-01, 4.48066492e-02, 2.94664591e-01, 7.72020725e+01]), array([1.01706212e-01, 1.72392471e-01, 9.41247980e-02, 4.08445731e-02,\n",
      "       3.34100840e-02, 7.67245362e-02, 1.60135287e-01, 7.72020725e+01]), array([5.74824146e-02, 3.99488453e-02, 3.37441817e-02, 1.03929749e-01,\n",
      "       2.86561438e-02, 6.54593357e-02, 9.46035916e-02, 7.66839378e+01]), array([7.28997743e-02, 1.58452456e-01, 8.93385683e-02, 1.24976962e-02,\n",
      "       6.21692263e-02, 1.26237967e-01, 3.00002910e-01, 7.66839378e+01]), array([1.17906250e-01, 2.53805118e-02, 1.01849585e-01, 1.88721772e-02,\n",
      "       4.99839561e-02, 4.45512325e-02, 1.49969885e-01, 7.61658031e+01]), array([5.94287828e-02, 1.47618826e-01, 6.24356660e-02, 1.15589125e-01,\n",
      "       1.08609674e-01, 1.24999945e-01, 6.10005857e-02, 7.51295337e+01]), array([1.97891102e-02, 1.50281132e-01, 3.79215890e-02, 1.70490662e-02,\n",
      "       4.10849012e-02, 1.79699420e-01, 7.22812618e-02, 7.51295337e+01]), array([6.06946052e-02, 1.46624180e-01, 2.65031504e-02, 4.43845401e-02,\n",
      "       1.23330789e-01, 8.43423112e-02, 4.35355184e-02, 7.20207254e+01])]\n",
      "This is population_weights_with_accuracy,  [7.09557464e-02 1.22894876e-01 1.02100298e-01 1.31790597e-01\n",
      " 4.20635372e-02 1.03251416e-01 1.62033229e-03 7.61658031e+01]\n",
      "This is population_data,  [array([1.75885973e-01, 1.53086058e-01, 2.61779188e-02, 9.41832862e-02,\n",
      "       1.01903519e-01, 6.42853731e-02, 1.14788119e-01, 7.82383420e+01]), array([5.74824146e-02, 3.99488453e-02, 3.37441817e-02, 1.03929749e-01,\n",
      "       2.86561438e-02, 6.54593357e-02, 9.46035916e-02, 7.66839378e+01]), array([6.28454043e-02, 6.68348768e-02, 9.91528480e-02, 7.82621755e-02,\n",
      "       6.32680819e-02, 5.69121556e-02, 2.27686460e-01, 8.08290155e+01]), array([1.57639573e-01, 1.31514386e-01, 2.63986380e-02, 1.04481063e-01,\n",
      "       4.27152683e-02, 1.86608762e-01, 3.09411318e-01, 8.08290155e+01]), array([9.66748464e-02, 5.34333067e-02, 9.50947870e-02, 7.36861637e-02,\n",
      "       2.24805992e-02, 1.10531163e-01, 2.74295687e-01, 7.92746114e+01]), array([3.90357521e-02, 5.47709458e-02, 5.07172844e-02, 4.05165673e-02,\n",
      "       1.20909349e-01, 1.01163900e-01, 1.27847240e-01, 7.87564767e+01]), array([7.28997743e-02, 1.58452456e-01, 8.93385683e-02, 1.24976962e-02,\n",
      "       6.21692263e-02, 1.26237967e-01, 3.00002910e-01, 7.66839378e+01]), array([5.94287828e-02, 1.47618826e-01, 6.24356660e-02, 1.15589125e-01,\n",
      "       1.08609674e-01, 1.24999945e-01, 6.10005857e-02, 7.51295337e+01]), array([1.17906250e-01, 2.53805118e-02, 1.01849585e-01, 1.88721772e-02,\n",
      "       4.99839561e-02, 4.45512325e-02, 1.49969885e-01, 7.61658031e+01]), array([1.23662475e-01, 9.08143450e-02, 5.55583495e-02, 3.73153151e-02,\n",
      "       1.07916532e-01, 4.48066492e-02, 2.94664591e-01, 7.72020725e+01]), array([1.01706212e-01, 1.72392471e-01, 9.41247980e-02, 4.08445731e-02,\n",
      "       3.34100840e-02, 7.67245362e-02, 1.60135287e-01, 7.72020725e+01]), array([1.97891102e-02, 1.50281132e-01, 3.79215890e-02, 1.70490662e-02,\n",
      "       4.10849012e-02, 1.79699420e-01, 7.22812618e-02, 7.51295337e+01]), array([7.07549860e-02, 9.38877263e-02, 1.86734994e-02, 6.91385688e-02,\n",
      "       1.29692402e-01, 1.65789611e-01, 9.54633360e-02, 7.77202073e+01]), array([6.06946052e-02, 1.46624180e-01, 2.65031504e-02, 4.43845401e-02,\n",
      "       1.23330789e-01, 8.43423112e-02, 4.35355184e-02, 7.20207254e+01]), array([7.09557464e-02, 1.22894876e-01, 1.02100298e-01, 1.31790597e-01,\n",
      "       4.20635372e-02, 1.03251416e-01, 1.62033229e-03, 7.61658031e+01])]\n",
      "This is population_data_sorted,  [array([6.28454043e-02, 6.68348768e-02, 9.91528480e-02, 7.82621755e-02,\n",
      "       6.32680819e-02, 5.69121556e-02, 2.27686460e-01, 8.08290155e+01]), array([1.57639573e-01, 1.31514386e-01, 2.63986380e-02, 1.04481063e-01,\n",
      "       4.27152683e-02, 1.86608762e-01, 3.09411318e-01, 8.08290155e+01]), array([9.66748464e-02, 5.34333067e-02, 9.50947870e-02, 7.36861637e-02,\n",
      "       2.24805992e-02, 1.10531163e-01, 2.74295687e-01, 7.92746114e+01]), array([3.90357521e-02, 5.47709458e-02, 5.07172844e-02, 4.05165673e-02,\n",
      "       1.20909349e-01, 1.01163900e-01, 1.27847240e-01, 7.87564767e+01]), array([1.75885973e-01, 1.53086058e-01, 2.61779188e-02, 9.41832862e-02,\n",
      "       1.01903519e-01, 6.42853731e-02, 1.14788119e-01, 7.82383420e+01]), array([7.07549860e-02, 9.38877263e-02, 1.86734994e-02, 6.91385688e-02,\n",
      "       1.29692402e-01, 1.65789611e-01, 9.54633360e-02, 7.77202073e+01]), array([1.23662475e-01, 9.08143450e-02, 5.55583495e-02, 3.73153151e-02,\n",
      "       1.07916532e-01, 4.48066492e-02, 2.94664591e-01, 7.72020725e+01]), array([1.01706212e-01, 1.72392471e-01, 9.41247980e-02, 4.08445731e-02,\n",
      "       3.34100840e-02, 7.67245362e-02, 1.60135287e-01, 7.72020725e+01]), array([5.74824146e-02, 3.99488453e-02, 3.37441817e-02, 1.03929749e-01,\n",
      "       2.86561438e-02, 6.54593357e-02, 9.46035916e-02, 7.66839378e+01]), array([7.28997743e-02, 1.58452456e-01, 8.93385683e-02, 1.24976962e-02,\n",
      "       6.21692263e-02, 1.26237967e-01, 3.00002910e-01, 7.66839378e+01]), array([1.17906250e-01, 2.53805118e-02, 1.01849585e-01, 1.88721772e-02,\n",
      "       4.99839561e-02, 4.45512325e-02, 1.49969885e-01, 7.61658031e+01]), array([7.09557464e-02, 1.22894876e-01, 1.02100298e-01, 1.31790597e-01,\n",
      "       4.20635372e-02, 1.03251416e-01, 1.62033229e-03, 7.61658031e+01]), array([5.94287828e-02, 1.47618826e-01, 6.24356660e-02, 1.15589125e-01,\n",
      "       1.08609674e-01, 1.24999945e-01, 6.10005857e-02, 7.51295337e+01]), array([1.97891102e-02, 1.50281132e-01, 3.79215890e-02, 1.70490662e-02,\n",
      "       4.10849012e-02, 1.79699420e-01, 7.22812618e-02, 7.51295337e+01]), array([6.06946052e-02, 1.46624180e-01, 2.65031504e-02, 4.43845401e-02,\n",
      "       1.23330789e-01, 8.43423112e-02, 4.35355184e-02, 7.20207254e+01])]\n",
      "This is population_weights_with_accuracy,  [1.94252685e-01 4.74235990e-02 4.67256772e-02 1.42222103e-02\n",
      " 8.32596748e-02 1.68822880e-01 2.85252266e-01 7.66839378e+01]\n",
      "This is population_data,  [array([1.75885973e-01, 1.53086058e-01, 2.61779188e-02, 9.41832862e-02,\n",
      "       1.01903519e-01, 6.42853731e-02, 1.14788119e-01, 7.82383420e+01]), array([5.74824146e-02, 3.99488453e-02, 3.37441817e-02, 1.03929749e-01,\n",
      "       2.86561438e-02, 6.54593357e-02, 9.46035916e-02, 7.66839378e+01]), array([6.28454043e-02, 6.68348768e-02, 9.91528480e-02, 7.82621755e-02,\n",
      "       6.32680819e-02, 5.69121556e-02, 2.27686460e-01, 8.08290155e+01]), array([1.57639573e-01, 1.31514386e-01, 2.63986380e-02, 1.04481063e-01,\n",
      "       4.27152683e-02, 1.86608762e-01, 3.09411318e-01, 8.08290155e+01]), array([9.66748464e-02, 5.34333067e-02, 9.50947870e-02, 7.36861637e-02,\n",
      "       2.24805992e-02, 1.10531163e-01, 2.74295687e-01, 7.92746114e+01]), array([3.90357521e-02, 5.47709458e-02, 5.07172844e-02, 4.05165673e-02,\n",
      "       1.20909349e-01, 1.01163900e-01, 1.27847240e-01, 7.87564767e+01]), array([7.28997743e-02, 1.58452456e-01, 8.93385683e-02, 1.24976962e-02,\n",
      "       6.21692263e-02, 1.26237967e-01, 3.00002910e-01, 7.66839378e+01]), array([5.94287828e-02, 1.47618826e-01, 6.24356660e-02, 1.15589125e-01,\n",
      "       1.08609674e-01, 1.24999945e-01, 6.10005857e-02, 7.51295337e+01]), array([1.17906250e-01, 2.53805118e-02, 1.01849585e-01, 1.88721772e-02,\n",
      "       4.99839561e-02, 4.45512325e-02, 1.49969885e-01, 7.61658031e+01]), array([1.23662475e-01, 9.08143450e-02, 5.55583495e-02, 3.73153151e-02,\n",
      "       1.07916532e-01, 4.48066492e-02, 2.94664591e-01, 7.72020725e+01]), array([1.01706212e-01, 1.72392471e-01, 9.41247980e-02, 4.08445731e-02,\n",
      "       3.34100840e-02, 7.67245362e-02, 1.60135287e-01, 7.72020725e+01]), array([1.97891102e-02, 1.50281132e-01, 3.79215890e-02, 1.70490662e-02,\n",
      "       4.10849012e-02, 1.79699420e-01, 7.22812618e-02, 7.51295337e+01]), array([7.07549860e-02, 9.38877263e-02, 1.86734994e-02, 6.91385688e-02,\n",
      "       1.29692402e-01, 1.65789611e-01, 9.54633360e-02, 7.77202073e+01]), array([6.06946052e-02, 1.46624180e-01, 2.65031504e-02, 4.43845401e-02,\n",
      "       1.23330789e-01, 8.43423112e-02, 4.35355184e-02, 7.20207254e+01]), array([7.09557464e-02, 1.22894876e-01, 1.02100298e-01, 1.31790597e-01,\n",
      "       4.20635372e-02, 1.03251416e-01, 1.62033229e-03, 7.61658031e+01]), array([1.94252685e-01, 4.74235990e-02, 4.67256772e-02, 1.42222103e-02,\n",
      "       8.32596748e-02, 1.68822880e-01, 2.85252266e-01, 7.66839378e+01])]\n",
      "This is population_data_sorted,  [array([6.28454043e-02, 6.68348768e-02, 9.91528480e-02, 7.82621755e-02,\n",
      "       6.32680819e-02, 5.69121556e-02, 2.27686460e-01, 8.08290155e+01]), array([1.57639573e-01, 1.31514386e-01, 2.63986380e-02, 1.04481063e-01,\n",
      "       4.27152683e-02, 1.86608762e-01, 3.09411318e-01, 8.08290155e+01]), array([9.66748464e-02, 5.34333067e-02, 9.50947870e-02, 7.36861637e-02,\n",
      "       2.24805992e-02, 1.10531163e-01, 2.74295687e-01, 7.92746114e+01]), array([3.90357521e-02, 5.47709458e-02, 5.07172844e-02, 4.05165673e-02,\n",
      "       1.20909349e-01, 1.01163900e-01, 1.27847240e-01, 7.87564767e+01]), array([1.75885973e-01, 1.53086058e-01, 2.61779188e-02, 9.41832862e-02,\n",
      "       1.01903519e-01, 6.42853731e-02, 1.14788119e-01, 7.82383420e+01]), array([7.07549860e-02, 9.38877263e-02, 1.86734994e-02, 6.91385688e-02,\n",
      "       1.29692402e-01, 1.65789611e-01, 9.54633360e-02, 7.77202073e+01]), array([1.23662475e-01, 9.08143450e-02, 5.55583495e-02, 3.73153151e-02,\n",
      "       1.07916532e-01, 4.48066492e-02, 2.94664591e-01, 7.72020725e+01]), array([1.01706212e-01, 1.72392471e-01, 9.41247980e-02, 4.08445731e-02,\n",
      "       3.34100840e-02, 7.67245362e-02, 1.60135287e-01, 7.72020725e+01]), array([5.74824146e-02, 3.99488453e-02, 3.37441817e-02, 1.03929749e-01,\n",
      "       2.86561438e-02, 6.54593357e-02, 9.46035916e-02, 7.66839378e+01]), array([7.28997743e-02, 1.58452456e-01, 8.93385683e-02, 1.24976962e-02,\n",
      "       6.21692263e-02, 1.26237967e-01, 3.00002910e-01, 7.66839378e+01]), array([1.94252685e-01, 4.74235990e-02, 4.67256772e-02, 1.42222103e-02,\n",
      "       8.32596748e-02, 1.68822880e-01, 2.85252266e-01, 7.66839378e+01]), array([1.17906250e-01, 2.53805118e-02, 1.01849585e-01, 1.88721772e-02,\n",
      "       4.99839561e-02, 4.45512325e-02, 1.49969885e-01, 7.61658031e+01]), array([7.09557464e-02, 1.22894876e-01, 1.02100298e-01, 1.31790597e-01,\n",
      "       4.20635372e-02, 1.03251416e-01, 1.62033229e-03, 7.61658031e+01]), array([5.94287828e-02, 1.47618826e-01, 6.24356660e-02, 1.15589125e-01,\n",
      "       1.08609674e-01, 1.24999945e-01, 6.10005857e-02, 7.51295337e+01]), array([1.97891102e-02, 1.50281132e-01, 3.79215890e-02, 1.70490662e-02,\n",
      "       4.10849012e-02, 1.79699420e-01, 7.22812618e-02, 7.51295337e+01]), array([6.06946052e-02, 1.46624180e-01, 2.65031504e-02, 4.43845401e-02,\n",
      "       1.23330789e-01, 8.43423112e-02, 4.35355184e-02, 7.20207254e+01])]\n",
      "This is population_weights_with_accuracy,  [1.52542231e-01 7.97721231e-02 1.06058076e-01 6.72470986e-02\n",
      " 6.42460390e-02 5.40186933e-03 1.79551930e-01 7.61658031e+01]\n",
      "This is population_data,  [array([1.75885973e-01, 1.53086058e-01, 2.61779188e-02, 9.41832862e-02,\n",
      "       1.01903519e-01, 6.42853731e-02, 1.14788119e-01, 7.82383420e+01]), array([5.74824146e-02, 3.99488453e-02, 3.37441817e-02, 1.03929749e-01,\n",
      "       2.86561438e-02, 6.54593357e-02, 9.46035916e-02, 7.66839378e+01]), array([6.28454043e-02, 6.68348768e-02, 9.91528480e-02, 7.82621755e-02,\n",
      "       6.32680819e-02, 5.69121556e-02, 2.27686460e-01, 8.08290155e+01]), array([1.57639573e-01, 1.31514386e-01, 2.63986380e-02, 1.04481063e-01,\n",
      "       4.27152683e-02, 1.86608762e-01, 3.09411318e-01, 8.08290155e+01]), array([9.66748464e-02, 5.34333067e-02, 9.50947870e-02, 7.36861637e-02,\n",
      "       2.24805992e-02, 1.10531163e-01, 2.74295687e-01, 7.92746114e+01]), array([3.90357521e-02, 5.47709458e-02, 5.07172844e-02, 4.05165673e-02,\n",
      "       1.20909349e-01, 1.01163900e-01, 1.27847240e-01, 7.87564767e+01]), array([7.28997743e-02, 1.58452456e-01, 8.93385683e-02, 1.24976962e-02,\n",
      "       6.21692263e-02, 1.26237967e-01, 3.00002910e-01, 7.66839378e+01]), array([5.94287828e-02, 1.47618826e-01, 6.24356660e-02, 1.15589125e-01,\n",
      "       1.08609674e-01, 1.24999945e-01, 6.10005857e-02, 7.51295337e+01]), array([1.17906250e-01, 2.53805118e-02, 1.01849585e-01, 1.88721772e-02,\n",
      "       4.99839561e-02, 4.45512325e-02, 1.49969885e-01, 7.61658031e+01]), array([1.23662475e-01, 9.08143450e-02, 5.55583495e-02, 3.73153151e-02,\n",
      "       1.07916532e-01, 4.48066492e-02, 2.94664591e-01, 7.72020725e+01]), array([1.01706212e-01, 1.72392471e-01, 9.41247980e-02, 4.08445731e-02,\n",
      "       3.34100840e-02, 7.67245362e-02, 1.60135287e-01, 7.72020725e+01]), array([1.97891102e-02, 1.50281132e-01, 3.79215890e-02, 1.70490662e-02,\n",
      "       4.10849012e-02, 1.79699420e-01, 7.22812618e-02, 7.51295337e+01]), array([7.07549860e-02, 9.38877263e-02, 1.86734994e-02, 6.91385688e-02,\n",
      "       1.29692402e-01, 1.65789611e-01, 9.54633360e-02, 7.77202073e+01]), array([6.06946052e-02, 1.46624180e-01, 2.65031504e-02, 4.43845401e-02,\n",
      "       1.23330789e-01, 8.43423112e-02, 4.35355184e-02, 7.20207254e+01]), array([7.09557464e-02, 1.22894876e-01, 1.02100298e-01, 1.31790597e-01,\n",
      "       4.20635372e-02, 1.03251416e-01, 1.62033229e-03, 7.61658031e+01]), array([1.94252685e-01, 4.74235990e-02, 4.67256772e-02, 1.42222103e-02,\n",
      "       8.32596748e-02, 1.68822880e-01, 2.85252266e-01, 7.66839378e+01]), array([1.52542231e-01, 7.97721231e-02, 1.06058076e-01, 6.72470986e-02,\n",
      "       6.42460390e-02, 5.40186933e-03, 1.79551930e-01, 7.61658031e+01])]\n",
      "This is population_data_sorted,  [array([6.28454043e-02, 6.68348768e-02, 9.91528480e-02, 7.82621755e-02,\n",
      "       6.32680819e-02, 5.69121556e-02, 2.27686460e-01, 8.08290155e+01]), array([1.57639573e-01, 1.31514386e-01, 2.63986380e-02, 1.04481063e-01,\n",
      "       4.27152683e-02, 1.86608762e-01, 3.09411318e-01, 8.08290155e+01]), array([9.66748464e-02, 5.34333067e-02, 9.50947870e-02, 7.36861637e-02,\n",
      "       2.24805992e-02, 1.10531163e-01, 2.74295687e-01, 7.92746114e+01]), array([3.90357521e-02, 5.47709458e-02, 5.07172844e-02, 4.05165673e-02,\n",
      "       1.20909349e-01, 1.01163900e-01, 1.27847240e-01, 7.87564767e+01]), array([1.75885973e-01, 1.53086058e-01, 2.61779188e-02, 9.41832862e-02,\n",
      "       1.01903519e-01, 6.42853731e-02, 1.14788119e-01, 7.82383420e+01]), array([7.07549860e-02, 9.38877263e-02, 1.86734994e-02, 6.91385688e-02,\n",
      "       1.29692402e-01, 1.65789611e-01, 9.54633360e-02, 7.77202073e+01]), array([1.23662475e-01, 9.08143450e-02, 5.55583495e-02, 3.73153151e-02,\n",
      "       1.07916532e-01, 4.48066492e-02, 2.94664591e-01, 7.72020725e+01]), array([1.01706212e-01, 1.72392471e-01, 9.41247980e-02, 4.08445731e-02,\n",
      "       3.34100840e-02, 7.67245362e-02, 1.60135287e-01, 7.72020725e+01]), array([5.74824146e-02, 3.99488453e-02, 3.37441817e-02, 1.03929749e-01,\n",
      "       2.86561438e-02, 6.54593357e-02, 9.46035916e-02, 7.66839378e+01]), array([7.28997743e-02, 1.58452456e-01, 8.93385683e-02, 1.24976962e-02,\n",
      "       6.21692263e-02, 1.26237967e-01, 3.00002910e-01, 7.66839378e+01]), array([1.94252685e-01, 4.74235990e-02, 4.67256772e-02, 1.42222103e-02,\n",
      "       8.32596748e-02, 1.68822880e-01, 2.85252266e-01, 7.66839378e+01]), array([1.17906250e-01, 2.53805118e-02, 1.01849585e-01, 1.88721772e-02,\n",
      "       4.99839561e-02, 4.45512325e-02, 1.49969885e-01, 7.61658031e+01]), array([7.09557464e-02, 1.22894876e-01, 1.02100298e-01, 1.31790597e-01,\n",
      "       4.20635372e-02, 1.03251416e-01, 1.62033229e-03, 7.61658031e+01]), array([1.52542231e-01, 7.97721231e-02, 1.06058076e-01, 6.72470986e-02,\n",
      "       6.42460390e-02, 5.40186933e-03, 1.79551930e-01, 7.61658031e+01]), array([5.94287828e-02, 1.47618826e-01, 6.24356660e-02, 1.15589125e-01,\n",
      "       1.08609674e-01, 1.24999945e-01, 6.10005857e-02, 7.51295337e+01]), array([1.97891102e-02, 1.50281132e-01, 3.79215890e-02, 1.70490662e-02,\n",
      "       4.10849012e-02, 1.79699420e-01, 7.22812618e-02, 7.51295337e+01]), array([6.06946052e-02, 1.46624180e-01, 2.65031504e-02, 4.43845401e-02,\n",
      "       1.23330789e-01, 8.43423112e-02, 4.35355184e-02, 7.20207254e+01])]\n",
      "This is population_weights_with_accuracy,  [1.23470212e-01 7.89020511e-02 7.45179340e-02 1.42911992e-01\n",
      " 9.79399754e-03 1.81812281e-01 4.85695991e-02 7.66839378e+01]\n",
      "This is population_data,  [array([1.75885973e-01, 1.53086058e-01, 2.61779188e-02, 9.41832862e-02,\n",
      "       1.01903519e-01, 6.42853731e-02, 1.14788119e-01, 7.82383420e+01]), array([5.74824146e-02, 3.99488453e-02, 3.37441817e-02, 1.03929749e-01,\n",
      "       2.86561438e-02, 6.54593357e-02, 9.46035916e-02, 7.66839378e+01]), array([6.28454043e-02, 6.68348768e-02, 9.91528480e-02, 7.82621755e-02,\n",
      "       6.32680819e-02, 5.69121556e-02, 2.27686460e-01, 8.08290155e+01]), array([1.57639573e-01, 1.31514386e-01, 2.63986380e-02, 1.04481063e-01,\n",
      "       4.27152683e-02, 1.86608762e-01, 3.09411318e-01, 8.08290155e+01]), array([9.66748464e-02, 5.34333067e-02, 9.50947870e-02, 7.36861637e-02,\n",
      "       2.24805992e-02, 1.10531163e-01, 2.74295687e-01, 7.92746114e+01]), array([3.90357521e-02, 5.47709458e-02, 5.07172844e-02, 4.05165673e-02,\n",
      "       1.20909349e-01, 1.01163900e-01, 1.27847240e-01, 7.87564767e+01]), array([7.28997743e-02, 1.58452456e-01, 8.93385683e-02, 1.24976962e-02,\n",
      "       6.21692263e-02, 1.26237967e-01, 3.00002910e-01, 7.66839378e+01]), array([5.94287828e-02, 1.47618826e-01, 6.24356660e-02, 1.15589125e-01,\n",
      "       1.08609674e-01, 1.24999945e-01, 6.10005857e-02, 7.51295337e+01]), array([1.17906250e-01, 2.53805118e-02, 1.01849585e-01, 1.88721772e-02,\n",
      "       4.99839561e-02, 4.45512325e-02, 1.49969885e-01, 7.61658031e+01]), array([1.23662475e-01, 9.08143450e-02, 5.55583495e-02, 3.73153151e-02,\n",
      "       1.07916532e-01, 4.48066492e-02, 2.94664591e-01, 7.72020725e+01]), array([1.01706212e-01, 1.72392471e-01, 9.41247980e-02, 4.08445731e-02,\n",
      "       3.34100840e-02, 7.67245362e-02, 1.60135287e-01, 7.72020725e+01]), array([1.97891102e-02, 1.50281132e-01, 3.79215890e-02, 1.70490662e-02,\n",
      "       4.10849012e-02, 1.79699420e-01, 7.22812618e-02, 7.51295337e+01]), array([7.07549860e-02, 9.38877263e-02, 1.86734994e-02, 6.91385688e-02,\n",
      "       1.29692402e-01, 1.65789611e-01, 9.54633360e-02, 7.77202073e+01]), array([6.06946052e-02, 1.46624180e-01, 2.65031504e-02, 4.43845401e-02,\n",
      "       1.23330789e-01, 8.43423112e-02, 4.35355184e-02, 7.20207254e+01]), array([7.09557464e-02, 1.22894876e-01, 1.02100298e-01, 1.31790597e-01,\n",
      "       4.20635372e-02, 1.03251416e-01, 1.62033229e-03, 7.61658031e+01]), array([1.94252685e-01, 4.74235990e-02, 4.67256772e-02, 1.42222103e-02,\n",
      "       8.32596748e-02, 1.68822880e-01, 2.85252266e-01, 7.66839378e+01]), array([1.52542231e-01, 7.97721231e-02, 1.06058076e-01, 6.72470986e-02,\n",
      "       6.42460390e-02, 5.40186933e-03, 1.79551930e-01, 7.61658031e+01]), array([1.23470212e-01, 7.89020511e-02, 7.45179340e-02, 1.42911992e-01,\n",
      "       9.79399754e-03, 1.81812281e-01, 4.85695991e-02, 7.66839378e+01])]\n",
      "This is population_data_sorted,  [array([6.28454043e-02, 6.68348768e-02, 9.91528480e-02, 7.82621755e-02,\n",
      "       6.32680819e-02, 5.69121556e-02, 2.27686460e-01, 8.08290155e+01]), array([1.57639573e-01, 1.31514386e-01, 2.63986380e-02, 1.04481063e-01,\n",
      "       4.27152683e-02, 1.86608762e-01, 3.09411318e-01, 8.08290155e+01]), array([9.66748464e-02, 5.34333067e-02, 9.50947870e-02, 7.36861637e-02,\n",
      "       2.24805992e-02, 1.10531163e-01, 2.74295687e-01, 7.92746114e+01]), array([3.90357521e-02, 5.47709458e-02, 5.07172844e-02, 4.05165673e-02,\n",
      "       1.20909349e-01, 1.01163900e-01, 1.27847240e-01, 7.87564767e+01]), array([1.75885973e-01, 1.53086058e-01, 2.61779188e-02, 9.41832862e-02,\n",
      "       1.01903519e-01, 6.42853731e-02, 1.14788119e-01, 7.82383420e+01]), array([7.07549860e-02, 9.38877263e-02, 1.86734994e-02, 6.91385688e-02,\n",
      "       1.29692402e-01, 1.65789611e-01, 9.54633360e-02, 7.77202073e+01]), array([1.23662475e-01, 9.08143450e-02, 5.55583495e-02, 3.73153151e-02,\n",
      "       1.07916532e-01, 4.48066492e-02, 2.94664591e-01, 7.72020725e+01]), array([1.01706212e-01, 1.72392471e-01, 9.41247980e-02, 4.08445731e-02,\n",
      "       3.34100840e-02, 7.67245362e-02, 1.60135287e-01, 7.72020725e+01]), array([5.74824146e-02, 3.99488453e-02, 3.37441817e-02, 1.03929749e-01,\n",
      "       2.86561438e-02, 6.54593357e-02, 9.46035916e-02, 7.66839378e+01]), array([7.28997743e-02, 1.58452456e-01, 8.93385683e-02, 1.24976962e-02,\n",
      "       6.21692263e-02, 1.26237967e-01, 3.00002910e-01, 7.66839378e+01]), array([1.94252685e-01, 4.74235990e-02, 4.67256772e-02, 1.42222103e-02,\n",
      "       8.32596748e-02, 1.68822880e-01, 2.85252266e-01, 7.66839378e+01]), array([1.23470212e-01, 7.89020511e-02, 7.45179340e-02, 1.42911992e-01,\n",
      "       9.79399754e-03, 1.81812281e-01, 4.85695991e-02, 7.66839378e+01]), array([1.17906250e-01, 2.53805118e-02, 1.01849585e-01, 1.88721772e-02,\n",
      "       4.99839561e-02, 4.45512325e-02, 1.49969885e-01, 7.61658031e+01]), array([7.09557464e-02, 1.22894876e-01, 1.02100298e-01, 1.31790597e-01,\n",
      "       4.20635372e-02, 1.03251416e-01, 1.62033229e-03, 7.61658031e+01]), array([1.52542231e-01, 7.97721231e-02, 1.06058076e-01, 6.72470986e-02,\n",
      "       6.42460390e-02, 5.40186933e-03, 1.79551930e-01, 7.61658031e+01]), array([5.94287828e-02, 1.47618826e-01, 6.24356660e-02, 1.15589125e-01,\n",
      "       1.08609674e-01, 1.24999945e-01, 6.10005857e-02, 7.51295337e+01]), array([1.97891102e-02, 1.50281132e-01, 3.79215890e-02, 1.70490662e-02,\n",
      "       4.10849012e-02, 1.79699420e-01, 7.22812618e-02, 7.51295337e+01]), array([6.06946052e-02, 1.46624180e-01, 2.65031504e-02, 4.43845401e-02,\n",
      "       1.23330789e-01, 8.43423112e-02, 4.35355184e-02, 7.20207254e+01])]\n",
      "This is population_weights_with_accuracy,  [4.75559830e-02 7.94456993e-02 2.46642745e-03 9.96705059e-02\n",
      " 1.41075380e-01 7.56653562e-02 1.86242190e-01 7.35751295e+01]\n",
      "This is population_data,  [array([1.75885973e-01, 1.53086058e-01, 2.61779188e-02, 9.41832862e-02,\n",
      "       1.01903519e-01, 6.42853731e-02, 1.14788119e-01, 7.82383420e+01]), array([5.74824146e-02, 3.99488453e-02, 3.37441817e-02, 1.03929749e-01,\n",
      "       2.86561438e-02, 6.54593357e-02, 9.46035916e-02, 7.66839378e+01]), array([6.28454043e-02, 6.68348768e-02, 9.91528480e-02, 7.82621755e-02,\n",
      "       6.32680819e-02, 5.69121556e-02, 2.27686460e-01, 8.08290155e+01]), array([1.57639573e-01, 1.31514386e-01, 2.63986380e-02, 1.04481063e-01,\n",
      "       4.27152683e-02, 1.86608762e-01, 3.09411318e-01, 8.08290155e+01]), array([9.66748464e-02, 5.34333067e-02, 9.50947870e-02, 7.36861637e-02,\n",
      "       2.24805992e-02, 1.10531163e-01, 2.74295687e-01, 7.92746114e+01]), array([3.90357521e-02, 5.47709458e-02, 5.07172844e-02, 4.05165673e-02,\n",
      "       1.20909349e-01, 1.01163900e-01, 1.27847240e-01, 7.87564767e+01]), array([7.28997743e-02, 1.58452456e-01, 8.93385683e-02, 1.24976962e-02,\n",
      "       6.21692263e-02, 1.26237967e-01, 3.00002910e-01, 7.66839378e+01]), array([5.94287828e-02, 1.47618826e-01, 6.24356660e-02, 1.15589125e-01,\n",
      "       1.08609674e-01, 1.24999945e-01, 6.10005857e-02, 7.51295337e+01]), array([1.17906250e-01, 2.53805118e-02, 1.01849585e-01, 1.88721772e-02,\n",
      "       4.99839561e-02, 4.45512325e-02, 1.49969885e-01, 7.61658031e+01]), array([1.23662475e-01, 9.08143450e-02, 5.55583495e-02, 3.73153151e-02,\n",
      "       1.07916532e-01, 4.48066492e-02, 2.94664591e-01, 7.72020725e+01]), array([1.01706212e-01, 1.72392471e-01, 9.41247980e-02, 4.08445731e-02,\n",
      "       3.34100840e-02, 7.67245362e-02, 1.60135287e-01, 7.72020725e+01]), array([1.97891102e-02, 1.50281132e-01, 3.79215890e-02, 1.70490662e-02,\n",
      "       4.10849012e-02, 1.79699420e-01, 7.22812618e-02, 7.51295337e+01]), array([7.07549860e-02, 9.38877263e-02, 1.86734994e-02, 6.91385688e-02,\n",
      "       1.29692402e-01, 1.65789611e-01, 9.54633360e-02, 7.77202073e+01]), array([6.06946052e-02, 1.46624180e-01, 2.65031504e-02, 4.43845401e-02,\n",
      "       1.23330789e-01, 8.43423112e-02, 4.35355184e-02, 7.20207254e+01]), array([7.09557464e-02, 1.22894876e-01, 1.02100298e-01, 1.31790597e-01,\n",
      "       4.20635372e-02, 1.03251416e-01, 1.62033229e-03, 7.61658031e+01]), array([1.94252685e-01, 4.74235990e-02, 4.67256772e-02, 1.42222103e-02,\n",
      "       8.32596748e-02, 1.68822880e-01, 2.85252266e-01, 7.66839378e+01]), array([1.52542231e-01, 7.97721231e-02, 1.06058076e-01, 6.72470986e-02,\n",
      "       6.42460390e-02, 5.40186933e-03, 1.79551930e-01, 7.61658031e+01]), array([1.23470212e-01, 7.89020511e-02, 7.45179340e-02, 1.42911992e-01,\n",
      "       9.79399754e-03, 1.81812281e-01, 4.85695991e-02, 7.66839378e+01]), array([4.75559830e-02, 7.94456993e-02, 2.46642745e-03, 9.96705059e-02,\n",
      "       1.41075380e-01, 7.56653562e-02, 1.86242190e-01, 7.35751295e+01])]\n",
      "This is population_data_sorted,  [array([6.28454043e-02, 6.68348768e-02, 9.91528480e-02, 7.82621755e-02,\n",
      "       6.32680819e-02, 5.69121556e-02, 2.27686460e-01, 8.08290155e+01]), array([1.57639573e-01, 1.31514386e-01, 2.63986380e-02, 1.04481063e-01,\n",
      "       4.27152683e-02, 1.86608762e-01, 3.09411318e-01, 8.08290155e+01]), array([9.66748464e-02, 5.34333067e-02, 9.50947870e-02, 7.36861637e-02,\n",
      "       2.24805992e-02, 1.10531163e-01, 2.74295687e-01, 7.92746114e+01]), array([3.90357521e-02, 5.47709458e-02, 5.07172844e-02, 4.05165673e-02,\n",
      "       1.20909349e-01, 1.01163900e-01, 1.27847240e-01, 7.87564767e+01]), array([1.75885973e-01, 1.53086058e-01, 2.61779188e-02, 9.41832862e-02,\n",
      "       1.01903519e-01, 6.42853731e-02, 1.14788119e-01, 7.82383420e+01]), array([7.07549860e-02, 9.38877263e-02, 1.86734994e-02, 6.91385688e-02,\n",
      "       1.29692402e-01, 1.65789611e-01, 9.54633360e-02, 7.77202073e+01]), array([1.23662475e-01, 9.08143450e-02, 5.55583495e-02, 3.73153151e-02,\n",
      "       1.07916532e-01, 4.48066492e-02, 2.94664591e-01, 7.72020725e+01]), array([1.01706212e-01, 1.72392471e-01, 9.41247980e-02, 4.08445731e-02,\n",
      "       3.34100840e-02, 7.67245362e-02, 1.60135287e-01, 7.72020725e+01]), array([5.74824146e-02, 3.99488453e-02, 3.37441817e-02, 1.03929749e-01,\n",
      "       2.86561438e-02, 6.54593357e-02, 9.46035916e-02, 7.66839378e+01]), array([7.28997743e-02, 1.58452456e-01, 8.93385683e-02, 1.24976962e-02,\n",
      "       6.21692263e-02, 1.26237967e-01, 3.00002910e-01, 7.66839378e+01]), array([1.94252685e-01, 4.74235990e-02, 4.67256772e-02, 1.42222103e-02,\n",
      "       8.32596748e-02, 1.68822880e-01, 2.85252266e-01, 7.66839378e+01]), array([1.23470212e-01, 7.89020511e-02, 7.45179340e-02, 1.42911992e-01,\n",
      "       9.79399754e-03, 1.81812281e-01, 4.85695991e-02, 7.66839378e+01]), array([1.17906250e-01, 2.53805118e-02, 1.01849585e-01, 1.88721772e-02,\n",
      "       4.99839561e-02, 4.45512325e-02, 1.49969885e-01, 7.61658031e+01]), array([7.09557464e-02, 1.22894876e-01, 1.02100298e-01, 1.31790597e-01,\n",
      "       4.20635372e-02, 1.03251416e-01, 1.62033229e-03, 7.61658031e+01]), array([1.52542231e-01, 7.97721231e-02, 1.06058076e-01, 6.72470986e-02,\n",
      "       6.42460390e-02, 5.40186933e-03, 1.79551930e-01, 7.61658031e+01]), array([5.94287828e-02, 1.47618826e-01, 6.24356660e-02, 1.15589125e-01,\n",
      "       1.08609674e-01, 1.24999945e-01, 6.10005857e-02, 7.51295337e+01]), array([1.97891102e-02, 1.50281132e-01, 3.79215890e-02, 1.70490662e-02,\n",
      "       4.10849012e-02, 1.79699420e-01, 7.22812618e-02, 7.51295337e+01]), array([4.75559830e-02, 7.94456993e-02, 2.46642745e-03, 9.96705059e-02,\n",
      "       1.41075380e-01, 7.56653562e-02, 1.86242190e-01, 7.35751295e+01]), array([6.06946052e-02, 1.46624180e-01, 2.65031504e-02, 4.43845401e-02,\n",
      "       1.23330789e-01, 8.43423112e-02, 4.35355184e-02, 7.20207254e+01])]\n",
      "This is population_weights_with_accuracy,  [1.95400504e-01 1.74821150e-01 8.70861423e-02 1.07306090e-02\n",
      " 1.65636823e-02 7.99532696e-02 3.27461360e-01 7.56476684e+01]\n",
      "This is population_data,  [array([1.75885973e-01, 1.53086058e-01, 2.61779188e-02, 9.41832862e-02,\n",
      "       1.01903519e-01, 6.42853731e-02, 1.14788119e-01, 7.82383420e+01]), array([5.74824146e-02, 3.99488453e-02, 3.37441817e-02, 1.03929749e-01,\n",
      "       2.86561438e-02, 6.54593357e-02, 9.46035916e-02, 7.66839378e+01]), array([6.28454043e-02, 6.68348768e-02, 9.91528480e-02, 7.82621755e-02,\n",
      "       6.32680819e-02, 5.69121556e-02, 2.27686460e-01, 8.08290155e+01]), array([1.57639573e-01, 1.31514386e-01, 2.63986380e-02, 1.04481063e-01,\n",
      "       4.27152683e-02, 1.86608762e-01, 3.09411318e-01, 8.08290155e+01]), array([9.66748464e-02, 5.34333067e-02, 9.50947870e-02, 7.36861637e-02,\n",
      "       2.24805992e-02, 1.10531163e-01, 2.74295687e-01, 7.92746114e+01]), array([3.90357521e-02, 5.47709458e-02, 5.07172844e-02, 4.05165673e-02,\n",
      "       1.20909349e-01, 1.01163900e-01, 1.27847240e-01, 7.87564767e+01]), array([7.28997743e-02, 1.58452456e-01, 8.93385683e-02, 1.24976962e-02,\n",
      "       6.21692263e-02, 1.26237967e-01, 3.00002910e-01, 7.66839378e+01]), array([5.94287828e-02, 1.47618826e-01, 6.24356660e-02, 1.15589125e-01,\n",
      "       1.08609674e-01, 1.24999945e-01, 6.10005857e-02, 7.51295337e+01]), array([1.17906250e-01, 2.53805118e-02, 1.01849585e-01, 1.88721772e-02,\n",
      "       4.99839561e-02, 4.45512325e-02, 1.49969885e-01, 7.61658031e+01]), array([1.23662475e-01, 9.08143450e-02, 5.55583495e-02, 3.73153151e-02,\n",
      "       1.07916532e-01, 4.48066492e-02, 2.94664591e-01, 7.72020725e+01]), array([1.01706212e-01, 1.72392471e-01, 9.41247980e-02, 4.08445731e-02,\n",
      "       3.34100840e-02, 7.67245362e-02, 1.60135287e-01, 7.72020725e+01]), array([1.97891102e-02, 1.50281132e-01, 3.79215890e-02, 1.70490662e-02,\n",
      "       4.10849012e-02, 1.79699420e-01, 7.22812618e-02, 7.51295337e+01]), array([7.07549860e-02, 9.38877263e-02, 1.86734994e-02, 6.91385688e-02,\n",
      "       1.29692402e-01, 1.65789611e-01, 9.54633360e-02, 7.77202073e+01]), array([6.06946052e-02, 1.46624180e-01, 2.65031504e-02, 4.43845401e-02,\n",
      "       1.23330789e-01, 8.43423112e-02, 4.35355184e-02, 7.20207254e+01]), array([7.09557464e-02, 1.22894876e-01, 1.02100298e-01, 1.31790597e-01,\n",
      "       4.20635372e-02, 1.03251416e-01, 1.62033229e-03, 7.61658031e+01]), array([1.94252685e-01, 4.74235990e-02, 4.67256772e-02, 1.42222103e-02,\n",
      "       8.32596748e-02, 1.68822880e-01, 2.85252266e-01, 7.66839378e+01]), array([1.52542231e-01, 7.97721231e-02, 1.06058076e-01, 6.72470986e-02,\n",
      "       6.42460390e-02, 5.40186933e-03, 1.79551930e-01, 7.61658031e+01]), array([1.23470212e-01, 7.89020511e-02, 7.45179340e-02, 1.42911992e-01,\n",
      "       9.79399754e-03, 1.81812281e-01, 4.85695991e-02, 7.66839378e+01]), array([4.75559830e-02, 7.94456993e-02, 2.46642745e-03, 9.96705059e-02,\n",
      "       1.41075380e-01, 7.56653562e-02, 1.86242190e-01, 7.35751295e+01]), array([1.95400504e-01, 1.74821150e-01, 8.70861423e-02, 1.07306090e-02,\n",
      "       1.65636823e-02, 7.99532696e-02, 3.27461360e-01, 7.56476684e+01])]\n",
      "This is population_data_sorted,  [array([6.28454043e-02, 6.68348768e-02, 9.91528480e-02, 7.82621755e-02,\n",
      "       6.32680819e-02, 5.69121556e-02, 2.27686460e-01, 8.08290155e+01]), array([1.57639573e-01, 1.31514386e-01, 2.63986380e-02, 1.04481063e-01,\n",
      "       4.27152683e-02, 1.86608762e-01, 3.09411318e-01, 8.08290155e+01]), array([9.66748464e-02, 5.34333067e-02, 9.50947870e-02, 7.36861637e-02,\n",
      "       2.24805992e-02, 1.10531163e-01, 2.74295687e-01, 7.92746114e+01]), array([3.90357521e-02, 5.47709458e-02, 5.07172844e-02, 4.05165673e-02,\n",
      "       1.20909349e-01, 1.01163900e-01, 1.27847240e-01, 7.87564767e+01]), array([1.75885973e-01, 1.53086058e-01, 2.61779188e-02, 9.41832862e-02,\n",
      "       1.01903519e-01, 6.42853731e-02, 1.14788119e-01, 7.82383420e+01]), array([7.07549860e-02, 9.38877263e-02, 1.86734994e-02, 6.91385688e-02,\n",
      "       1.29692402e-01, 1.65789611e-01, 9.54633360e-02, 7.77202073e+01]), array([1.23662475e-01, 9.08143450e-02, 5.55583495e-02, 3.73153151e-02,\n",
      "       1.07916532e-01, 4.48066492e-02, 2.94664591e-01, 7.72020725e+01]), array([1.01706212e-01, 1.72392471e-01, 9.41247980e-02, 4.08445731e-02,\n",
      "       3.34100840e-02, 7.67245362e-02, 1.60135287e-01, 7.72020725e+01]), array([5.74824146e-02, 3.99488453e-02, 3.37441817e-02, 1.03929749e-01,\n",
      "       2.86561438e-02, 6.54593357e-02, 9.46035916e-02, 7.66839378e+01]), array([7.28997743e-02, 1.58452456e-01, 8.93385683e-02, 1.24976962e-02,\n",
      "       6.21692263e-02, 1.26237967e-01, 3.00002910e-01, 7.66839378e+01]), array([1.94252685e-01, 4.74235990e-02, 4.67256772e-02, 1.42222103e-02,\n",
      "       8.32596748e-02, 1.68822880e-01, 2.85252266e-01, 7.66839378e+01]), array([1.23470212e-01, 7.89020511e-02, 7.45179340e-02, 1.42911992e-01,\n",
      "       9.79399754e-03, 1.81812281e-01, 4.85695991e-02, 7.66839378e+01]), array([1.17906250e-01, 2.53805118e-02, 1.01849585e-01, 1.88721772e-02,\n",
      "       4.99839561e-02, 4.45512325e-02, 1.49969885e-01, 7.61658031e+01]), array([7.09557464e-02, 1.22894876e-01, 1.02100298e-01, 1.31790597e-01,\n",
      "       4.20635372e-02, 1.03251416e-01, 1.62033229e-03, 7.61658031e+01]), array([1.52542231e-01, 7.97721231e-02, 1.06058076e-01, 6.72470986e-02,\n",
      "       6.42460390e-02, 5.40186933e-03, 1.79551930e-01, 7.61658031e+01]), array([1.95400504e-01, 1.74821150e-01, 8.70861423e-02, 1.07306090e-02,\n",
      "       1.65636823e-02, 7.99532696e-02, 3.27461360e-01, 7.56476684e+01]), array([5.94287828e-02, 1.47618826e-01, 6.24356660e-02, 1.15589125e-01,\n",
      "       1.08609674e-01, 1.24999945e-01, 6.10005857e-02, 7.51295337e+01]), array([1.97891102e-02, 1.50281132e-01, 3.79215890e-02, 1.70490662e-02,\n",
      "       4.10849012e-02, 1.79699420e-01, 7.22812618e-02, 7.51295337e+01]), array([4.75559830e-02, 7.94456993e-02, 2.46642745e-03, 9.96705059e-02,\n",
      "       1.41075380e-01, 7.56653562e-02, 1.86242190e-01, 7.35751295e+01]), array([6.06946052e-02, 1.46624180e-01, 2.65031504e-02, 4.43845401e-02,\n",
      "       1.23330789e-01, 8.43423112e-02, 4.35355184e-02, 7.20207254e+01])]\n",
      "How many times pop data , 20\n"
     ]
    }
   ],
   "execution_count": 117
  },
  {
   "cell_type": "code",
   "metadata": {
    "ExecuteTime": {
     "end_time": "2025-03-15T02:26:28.382464Z",
     "start_time": "2025-03-15T02:26:28.380125Z"
    }
   },
   "source": [
    "for i in range(0,20):\n",
    "    print(ig_generations_data[\"Generation_1\"][i][7])"
   ],
   "outputs": [
    {
     "name": "stdout",
     "output_type": "stream",
     "text": [
      "81.34715025906736\n",
      "80.82901554404145\n",
      "79.27461139896373\n",
      "79.27461139896373\n",
      "78.23834196891191\n",
      "78.23834196891191\n",
      "78.23834196891191\n",
      "77.720207253886\n",
      "77.2020725388601\n",
      "76.68393782383419\n",
      "76.68393782383419\n",
      "76.68393782383419\n",
      "76.16580310880829\n",
      "75.64766839378238\n",
      "75.64766839378238\n",
      "74.09326424870466\n",
      "73.05699481865285\n",
      "70.98445595854922\n",
      "70.46632124352331\n",
      "69.43005181347151\n"
     ]
    }
   ],
   "execution_count": 112
  },
  {
   "cell_type": "code",
   "metadata": {
    "ExecuteTime": {
     "end_time": "2025-03-15T02:27:10.923398Z",
     "start_time": "2025-03-15T02:27:10.921449Z"
    }
   },
   "source": "updated_heart_swagger = ig_generations_data[\"Generation_1\"][0][:7]",
   "outputs": [],
   "execution_count": 113
  },
  {
   "cell_type": "code",
   "metadata": {
    "ExecuteTime": {
     "end_time": "2025-03-15T02:25:32.738956Z",
     "start_time": "2025-03-15T01:46:28.511416Z"
    }
   },
   "source": [
    "GA_weight_acc = []\n",
    "\n",
    "dropped_weight_avg_acc = []\n",
    "avg_acc = []\n",
    "\n",
    "sim_len = 100\n",
    "for i in range(sim_len):\n",
    "\n",
    "    heart_avg_info_gain_df, heart_avg_info_gain_array, heart_X_test, heart_y_test, heart_X_train, heart_y_train = run_simulation(sim_len, df_heart_standardized, label_col, pos_label, neg_label, size, num_of_rand)\n",
    "\n",
    "    # dropping some columns as feature selections\n",
    "    alpha = .1\n",
    "    count = 0\n",
    "    heart_swagger = []\n",
    "    heart_indices = []  # Array to store the indices\n",
    "\n",
    "    for idx, ig in enumerate(heart_avg_info_gain_array):\n",
    "        if ((ig / max(heart_avg_info_gain_array)) ** 2 < alpha):\n",
    "            count += 1\n",
    "            heart_indices.append(idx)  # Append the index\n",
    "        else:\n",
    "            heart_swagger.append(ig)\n",
    "\n",
    "    dropped_heart_X_train = heart_X_train.drop(heart_X_train.columns[heart_indices],axis=1)\n",
    "    dropped_heart_X_test = heart_X_test.drop(heart_X_test.columns[heart_indices],axis=1)\n",
    "\n",
    "    Train_Data =  pd.concat([dropped_heart_X_train, heart_y_train], axis=1)\n",
    "    Test_Data = pd.concat([dropped_heart_X_test, heart_y_test], axis=1)\n",
    "\n",
    "    TP=0\n",
    "    TN=0\n",
    "    FP=0\n",
    "    FN=0\n",
    "\n",
    "    # weighted k-NN with dropped columns using information gain with dropped columns\n",
    "    for p in range(len(Test_Data)):\n",
    "        point=Test_Data.iloc[p]\n",
    "        NBRS=Nearest_Neighbors(point, Train_Data, heart_swagger , \"num\")\n",
    "        Label=KNN(3,NBRS)\n",
    "        if (Label==point[\"num\"] and Label==1):\n",
    "            TP+=1\n",
    "        if (Label==point[\"num\"] and Label==0):\n",
    "            TN+=1\n",
    "        if (Label!=point[\"num\"] and Label==1):\n",
    "            FP+=1\n",
    "        if (Label!=point[\"num\"] and Label==0):\n",
    "            FN+=1\n",
    "    A_dropped_weighted=(TP+TN)/(TP+TN+FP+FN)\n",
    "    precision_dropped_weighted = TP/(TP+FP)\n",
    "    recall_dropped_weighted = TP/(TP+FN)\n",
    "    f1_dropped_weighted = (2 * precision_dropped_weighted * recall_dropped_weighted)/(precision_dropped_weighted+recall_dropped_weighted)\n",
    "    specificity_dropped_weighted = specificity_score(TN,FP)\n",
    "\n",
    "    dropped_weight_avg_acc.append(A_dropped_weighted*100)\n",
    "    dropped_weight_avg_precision.append(precision_dropped_weighted*100)\n",
    "    dropped_weight_avg_recall.append(recall_dropped_weighted*100)\n",
    "    dropped_weight_avg_f1.append(f1_dropped_weighted*100)\n",
    "    dropped_weight_avg_specificity.append(specificity_dropped_weighted*100)\n",
    "\n",
    "    TP=0\n",
    "    TN=0\n",
    "    FP=0\n",
    "    FN=0\n",
    "\n",
    "    for p in range(len(Test_Data)):\n",
    "        point=Test_Data.iloc[p]\n",
    "        NBRS=Nearest_Neighbors(point, Train_Data, updated_heart_swagger , \"num\")\n",
    "        Label=KNN(3,NBRS)\n",
    "        if (Label==point[\"num\"] and Label==1):\n",
    "            TP+=1\n",
    "        if (Label==point[\"num\"] and Label==0):\n",
    "            TN+=1\n",
    "        if (Label!=point[\"num\"] and Label==1):\n",
    "            FP+=1\n",
    "        if (Label!=point[\"num\"] and Label==0):\n",
    "            FN+=1\n",
    "    A_dropped_weighted=(TP+TN)/(TP+TN+FP+FN)\n",
    "    # precision_dropped_weighted = TP/(TP+FP)\n",
    "    # recall_dropped_weighted = TP/(TP+FN)\n",
    "    # f1_dropped_weighted = (2 * precision_dropped_weighted * recall_dropped_weighted)/(precision_dropped_weighted+recall_dropped_weighted)\n",
    "    # specificity_dropped_weighted = TN/(TN+FP)\n",
    "\n",
    "    GA_weight_acc.append(A_dropped_weighted*100)\n",
    "    # dropped_weight_avg_precision.append(precision_dropped_weighted*100)\n",
    "    # dropped_weight_avg_recall.append(recall_dropped_weighted*100)\n",
    "    # dropped_weight_avg_f1.append(f1_dropped_weighted*100)\n",
    "    # dropped_weight_avg_specificity.append(specificity_dropped_weighted*100)\n",
    "\n",
    "    for p in range(len(Test_Data)):\n",
    "        point=Test_Data.iloc[p]\n",
    "        NBRS=Nearest_Neighbors(point, Train_Data, [1,1,1,1,1,1,1], \"num\")\n",
    "        Label=KNN(3,NBRS)\n",
    "    if (Label==point[\"num\"] and Label==1):\n",
    "        TP+=1\n",
    "    if (Label==point[\"num\"] and Label==0):\n",
    "        TN+=1\n",
    "    if (Label!=point[\"num\"] and Label==1):\n",
    "        FP+=1\n",
    "    if (Label!=point[\"num\"] and Label==0):\n",
    "        FN+=1\n",
    "        \n",
    "    A_non_weighted=(TP+TN)/(TP+TN+FP+FN)\n",
    "    avg_acc.append(A_non_weighted*100)"
   ],
   "outputs": [
    {
     "ename": "NameError",
     "evalue": "name 'df_heart_standardized' is not defined",
     "output_type": "error",
     "traceback": [
      "\u001B[0;31m---------------------------------------------------------------------------\u001B[0m",
      "\u001B[0;31mNameError\u001B[0m                                 Traceback (most recent call last)",
      "Cell \u001B[0;32mIn[127], line 9\u001B[0m\n\u001B[1;32m      6\u001B[0m sim_len \u001B[38;5;241m=\u001B[39m \u001B[38;5;241m100\u001B[39m\n\u001B[1;32m      7\u001B[0m \u001B[38;5;28;01mfor\u001B[39;00m i \u001B[38;5;129;01min\u001B[39;00m \u001B[38;5;28mrange\u001B[39m(sim_len):\n\u001B[0;32m----> 9\u001B[0m     heart_avg_info_gain_df, heart_avg_info_gain_array, heart_X_test, heart_y_test, heart_X_train, heart_y_train \u001B[38;5;241m=\u001B[39m run_simulation(sim_len, \u001B[43mdf_heart_standardized\u001B[49m, label_col, pos_label, neg_label, size, num_of_rand)\n\u001B[1;32m     11\u001B[0m     \u001B[38;5;66;03m# dropping some columns as feature selections\u001B[39;00m\n\u001B[1;32m     12\u001B[0m     alpha \u001B[38;5;241m=\u001B[39m \u001B[38;5;241m.1\u001B[39m\n",
      "\u001B[0;31mNameError\u001B[0m: name 'df_heart_standardized' is not defined"
     ]
    }
   ],
   "execution_count": 127
  },
  {
   "cell_type": "code",
   "metadata": {
    "ExecuteTime": {
     "end_time": "2025-03-15T02:25:32.739037Z",
     "start_time": "2025-03-15T01:46:28.562194Z"
    }
   },
   "source": [
    "GA_weight_acc"
   ],
   "outputs": [
    {
     "data": {
      "text/plain": [
       "[]"
      ]
     },
     "execution_count": 128,
     "metadata": {},
     "output_type": "execute_result"
    }
   ],
   "execution_count": 128
  },
  {
   "cell_type": "code",
   "metadata": {
    "ExecuteTime": {
     "end_time": "2025-03-15T02:25:32.739172Z",
     "start_time": "2025-03-15T01:46:28.645650Z"
    }
   },
   "source": [
    "fig = plt.figure(figsize =(10, 7))\n",
    "plt.title(\"Accuracy\",fontsize=14, fontweight='bold')\n",
    "\n",
    "# data = [dropped_weight_avg_acc, NN_acc, RFC_acc, XGB_acc]\n",
    "# \n",
    "# x_axis = ['Dropped Cols Weighted k-NN', 'Neural Network', 'Random Forest Classification', 'XGBoost Classification']\n",
    "\n",
    "data = [dropped_weight_avg_acc, GA_weight_acc]\n",
    "\n",
    "x_axis = ['Dropped Cols Weighted k-NN', 'Genetic Algorithm Weighted k-NN']\n",
    "\n",
    "# Creating plot\n",
    "plt.boxplot(data, tick_labels=x_axis)\n",
    "\n",
    "plt.savefig('IG and GA Accuracy.svg')\n",
    "\n",
    "# show plot\n",
    "plt.show()"
   ],
   "outputs": [
    {
     "ename": "OSError",
     "evalue": "[Errno 30] Read-only file system: 'IG and GA Accuracy.svg'",
     "output_type": "error",
     "traceback": [
      "\u001B[0;31m---------------------------------------------------------------------------\u001B[0m",
      "\u001B[0;31mOSError\u001B[0m                                   Traceback (most recent call last)",
      "Cell \u001B[0;32mIn[129], line 15\u001B[0m\n\u001B[1;32m     12\u001B[0m \u001B[38;5;66;03m# Creating plot\u001B[39;00m\n\u001B[1;32m     13\u001B[0m plt\u001B[38;5;241m.\u001B[39mboxplot(data, tick_labels\u001B[38;5;241m=\u001B[39mx_axis)\n\u001B[0;32m---> 15\u001B[0m \u001B[43mplt\u001B[49m\u001B[38;5;241;43m.\u001B[39;49m\u001B[43msavefig\u001B[49m\u001B[43m(\u001B[49m\u001B[38;5;124;43m'\u001B[39;49m\u001B[38;5;124;43mIG and GA Accuracy.svg\u001B[39;49m\u001B[38;5;124;43m'\u001B[39;49m\u001B[43m)\u001B[49m\n\u001B[1;32m     17\u001B[0m \u001B[38;5;66;03m# show plot\u001B[39;00m\n\u001B[1;32m     18\u001B[0m plt\u001B[38;5;241m.\u001B[39mshow()\n",
      "File \u001B[0;32m/Library/Frameworks/Python.framework/Versions/3.11/lib/python3.11/site-packages/matplotlib/pyplot.py:1228\u001B[0m, in \u001B[0;36msavefig\u001B[0;34m(*args, **kwargs)\u001B[0m\n\u001B[1;32m   1225\u001B[0m fig \u001B[38;5;241m=\u001B[39m gcf()\n\u001B[1;32m   1226\u001B[0m \u001B[38;5;66;03m# savefig default implementation has no return, so mypy is unhappy\u001B[39;00m\n\u001B[1;32m   1227\u001B[0m \u001B[38;5;66;03m# presumably this is here because subclasses can return?\u001B[39;00m\n\u001B[0;32m-> 1228\u001B[0m res \u001B[38;5;241m=\u001B[39m \u001B[43mfig\u001B[49m\u001B[38;5;241;43m.\u001B[39;49m\u001B[43msavefig\u001B[49m\u001B[43m(\u001B[49m\u001B[38;5;241;43m*\u001B[39;49m\u001B[43margs\u001B[49m\u001B[43m,\u001B[49m\u001B[43m \u001B[49m\u001B[38;5;241;43m*\u001B[39;49m\u001B[38;5;241;43m*\u001B[39;49m\u001B[43mkwargs\u001B[49m\u001B[43m)\u001B[49m  \u001B[38;5;66;03m# type: ignore[func-returns-value]\u001B[39;00m\n\u001B[1;32m   1229\u001B[0m fig\u001B[38;5;241m.\u001B[39mcanvas\u001B[38;5;241m.\u001B[39mdraw_idle()  \u001B[38;5;66;03m# Need this if 'transparent=True', to reset colors.\u001B[39;00m\n\u001B[1;32m   1230\u001B[0m \u001B[38;5;28;01mreturn\u001B[39;00m res\n",
      "File \u001B[0;32m/Library/Frameworks/Python.framework/Versions/3.11/lib/python3.11/site-packages/matplotlib/figure.py:3395\u001B[0m, in \u001B[0;36mFigure.savefig\u001B[0;34m(self, fname, transparent, **kwargs)\u001B[0m\n\u001B[1;32m   3393\u001B[0m     \u001B[38;5;28;01mfor\u001B[39;00m ax \u001B[38;5;129;01min\u001B[39;00m \u001B[38;5;28mself\u001B[39m\u001B[38;5;241m.\u001B[39maxes:\n\u001B[1;32m   3394\u001B[0m         _recursively_make_axes_transparent(stack, ax)\n\u001B[0;32m-> 3395\u001B[0m \u001B[38;5;28;43mself\u001B[39;49m\u001B[38;5;241;43m.\u001B[39;49m\u001B[43mcanvas\u001B[49m\u001B[38;5;241;43m.\u001B[39;49m\u001B[43mprint_figure\u001B[49m\u001B[43m(\u001B[49m\u001B[43mfname\u001B[49m\u001B[43m,\u001B[49m\u001B[43m \u001B[49m\u001B[38;5;241;43m*\u001B[39;49m\u001B[38;5;241;43m*\u001B[39;49m\u001B[43mkwargs\u001B[49m\u001B[43m)\u001B[49m\n",
      "File \u001B[0;32m/Library/Frameworks/Python.framework/Versions/3.11/lib/python3.11/site-packages/matplotlib/backend_bases.py:2204\u001B[0m, in \u001B[0;36mFigureCanvasBase.print_figure\u001B[0;34m(self, filename, dpi, facecolor, edgecolor, orientation, format, bbox_inches, pad_inches, bbox_extra_artists, backend, **kwargs)\u001B[0m\n\u001B[1;32m   2200\u001B[0m \u001B[38;5;28;01mtry\u001B[39;00m:\n\u001B[1;32m   2201\u001B[0m     \u001B[38;5;66;03m# _get_renderer may change the figure dpi (as vector formats\u001B[39;00m\n\u001B[1;32m   2202\u001B[0m     \u001B[38;5;66;03m# force the figure dpi to 72), so we need to set it again here.\u001B[39;00m\n\u001B[1;32m   2203\u001B[0m     \u001B[38;5;28;01mwith\u001B[39;00m cbook\u001B[38;5;241m.\u001B[39m_setattr_cm(\u001B[38;5;28mself\u001B[39m\u001B[38;5;241m.\u001B[39mfigure, dpi\u001B[38;5;241m=\u001B[39mdpi):\n\u001B[0;32m-> 2204\u001B[0m         result \u001B[38;5;241m=\u001B[39m \u001B[43mprint_method\u001B[49m\u001B[43m(\u001B[49m\n\u001B[1;32m   2205\u001B[0m \u001B[43m            \u001B[49m\u001B[43mfilename\u001B[49m\u001B[43m,\u001B[49m\n\u001B[1;32m   2206\u001B[0m \u001B[43m            \u001B[49m\u001B[43mfacecolor\u001B[49m\u001B[38;5;241;43m=\u001B[39;49m\u001B[43mfacecolor\u001B[49m\u001B[43m,\u001B[49m\n\u001B[1;32m   2207\u001B[0m \u001B[43m            \u001B[49m\u001B[43medgecolor\u001B[49m\u001B[38;5;241;43m=\u001B[39;49m\u001B[43medgecolor\u001B[49m\u001B[43m,\u001B[49m\n\u001B[1;32m   2208\u001B[0m \u001B[43m            \u001B[49m\u001B[43morientation\u001B[49m\u001B[38;5;241;43m=\u001B[39;49m\u001B[43morientation\u001B[49m\u001B[43m,\u001B[49m\n\u001B[1;32m   2209\u001B[0m \u001B[43m            \u001B[49m\u001B[43mbbox_inches_restore\u001B[49m\u001B[38;5;241;43m=\u001B[39;49m\u001B[43m_bbox_inches_restore\u001B[49m\u001B[43m,\u001B[49m\n\u001B[1;32m   2210\u001B[0m \u001B[43m            \u001B[49m\u001B[38;5;241;43m*\u001B[39;49m\u001B[38;5;241;43m*\u001B[39;49m\u001B[43mkwargs\u001B[49m\u001B[43m)\u001B[49m\n\u001B[1;32m   2211\u001B[0m \u001B[38;5;28;01mfinally\u001B[39;00m:\n\u001B[1;32m   2212\u001B[0m     \u001B[38;5;28;01mif\u001B[39;00m bbox_inches \u001B[38;5;129;01mand\u001B[39;00m restore_bbox:\n",
      "File \u001B[0;32m/Library/Frameworks/Python.framework/Versions/3.11/lib/python3.11/site-packages/matplotlib/backend_bases.py:2054\u001B[0m, in \u001B[0;36mFigureCanvasBase._switch_canvas_and_return_print_method.<locals>.<lambda>\u001B[0;34m(*args, **kwargs)\u001B[0m\n\u001B[1;32m   2050\u001B[0m     optional_kws \u001B[38;5;241m=\u001B[39m {  \u001B[38;5;66;03m# Passed by print_figure for other renderers.\u001B[39;00m\n\u001B[1;32m   2051\u001B[0m         \u001B[38;5;124m\"\u001B[39m\u001B[38;5;124mdpi\u001B[39m\u001B[38;5;124m\"\u001B[39m, \u001B[38;5;124m\"\u001B[39m\u001B[38;5;124mfacecolor\u001B[39m\u001B[38;5;124m\"\u001B[39m, \u001B[38;5;124m\"\u001B[39m\u001B[38;5;124medgecolor\u001B[39m\u001B[38;5;124m\"\u001B[39m, \u001B[38;5;124m\"\u001B[39m\u001B[38;5;124morientation\u001B[39m\u001B[38;5;124m\"\u001B[39m,\n\u001B[1;32m   2052\u001B[0m         \u001B[38;5;124m\"\u001B[39m\u001B[38;5;124mbbox_inches_restore\u001B[39m\u001B[38;5;124m\"\u001B[39m}\n\u001B[1;32m   2053\u001B[0m     skip \u001B[38;5;241m=\u001B[39m optional_kws \u001B[38;5;241m-\u001B[39m {\u001B[38;5;241m*\u001B[39minspect\u001B[38;5;241m.\u001B[39msignature(meth)\u001B[38;5;241m.\u001B[39mparameters}\n\u001B[0;32m-> 2054\u001B[0m     print_method \u001B[38;5;241m=\u001B[39m functools\u001B[38;5;241m.\u001B[39mwraps(meth)(\u001B[38;5;28;01mlambda\u001B[39;00m \u001B[38;5;241m*\u001B[39margs, \u001B[38;5;241m*\u001B[39m\u001B[38;5;241m*\u001B[39mkwargs: \u001B[43mmeth\u001B[49m\u001B[43m(\u001B[49m\n\u001B[1;32m   2055\u001B[0m \u001B[43m        \u001B[49m\u001B[38;5;241;43m*\u001B[39;49m\u001B[43margs\u001B[49m\u001B[43m,\u001B[49m\u001B[43m \u001B[49m\u001B[38;5;241;43m*\u001B[39;49m\u001B[38;5;241;43m*\u001B[39;49m\u001B[43m{\u001B[49m\u001B[43mk\u001B[49m\u001B[43m:\u001B[49m\u001B[43m \u001B[49m\u001B[43mv\u001B[49m\u001B[43m \u001B[49m\u001B[38;5;28;43;01mfor\u001B[39;49;00m\u001B[43m \u001B[49m\u001B[43mk\u001B[49m\u001B[43m,\u001B[49m\u001B[43m \u001B[49m\u001B[43mv\u001B[49m\u001B[43m \u001B[49m\u001B[38;5;129;43;01min\u001B[39;49;00m\u001B[43m \u001B[49m\u001B[43mkwargs\u001B[49m\u001B[38;5;241;43m.\u001B[39;49m\u001B[43mitems\u001B[49m\u001B[43m(\u001B[49m\u001B[43m)\u001B[49m\u001B[43m \u001B[49m\u001B[38;5;28;43;01mif\u001B[39;49;00m\u001B[43m \u001B[49m\u001B[43mk\u001B[49m\u001B[43m \u001B[49m\u001B[38;5;129;43;01mnot\u001B[39;49;00m\u001B[43m \u001B[49m\u001B[38;5;129;43;01min\u001B[39;49;00m\u001B[43m \u001B[49m\u001B[43mskip\u001B[49m\u001B[43m}\u001B[49m\u001B[43m)\u001B[49m)\n\u001B[1;32m   2056\u001B[0m \u001B[38;5;28;01melse\u001B[39;00m:  \u001B[38;5;66;03m# Let third-parties do as they see fit.\u001B[39;00m\n\u001B[1;32m   2057\u001B[0m     print_method \u001B[38;5;241m=\u001B[39m meth\n",
      "File \u001B[0;32m/Library/Frameworks/Python.framework/Versions/3.11/lib/python3.11/site-packages/matplotlib/backends/backend_svg.py:1328\u001B[0m, in \u001B[0;36mFigureCanvasSVG.print_svg\u001B[0;34m(self, filename, bbox_inches_restore, metadata)\u001B[0m\n\u001B[1;32m   1296\u001B[0m \u001B[38;5;28;01mdef\u001B[39;00m \u001B[38;5;21mprint_svg\u001B[39m(\u001B[38;5;28mself\u001B[39m, filename, \u001B[38;5;241m*\u001B[39m, bbox_inches_restore\u001B[38;5;241m=\u001B[39m\u001B[38;5;28;01mNone\u001B[39;00m, metadata\u001B[38;5;241m=\u001B[39m\u001B[38;5;28;01mNone\u001B[39;00m):\n\u001B[1;32m   1297\u001B[0m \u001B[38;5;250m    \u001B[39m\u001B[38;5;124;03m\"\"\"\u001B[39;00m\n\u001B[1;32m   1298\u001B[0m \u001B[38;5;124;03m    Parameters\u001B[39;00m\n\u001B[1;32m   1299\u001B[0m \u001B[38;5;124;03m    ----------\u001B[39;00m\n\u001B[0;32m   (...)\u001B[0m\n\u001B[1;32m   1326\u001B[0m \u001B[38;5;124;03m        __ DC_\u001B[39;00m\n\u001B[1;32m   1327\u001B[0m \u001B[38;5;124;03m    \"\"\"\u001B[39;00m\n\u001B[0;32m-> 1328\u001B[0m     \u001B[38;5;28;01mwith\u001B[39;00m \u001B[43mcbook\u001B[49m\u001B[38;5;241;43m.\u001B[39;49m\u001B[43mopen_file_cm\u001B[49m\u001B[43m(\u001B[49m\u001B[43mfilename\u001B[49m\u001B[43m,\u001B[49m\u001B[43m \u001B[49m\u001B[38;5;124;43m\"\u001B[39;49m\u001B[38;5;124;43mw\u001B[39;49m\u001B[38;5;124;43m\"\u001B[39;49m\u001B[43m,\u001B[49m\u001B[43m \u001B[49m\u001B[43mencoding\u001B[49m\u001B[38;5;241;43m=\u001B[39;49m\u001B[38;5;124;43m\"\u001B[39;49m\u001B[38;5;124;43mutf-8\u001B[39;49m\u001B[38;5;124;43m\"\u001B[39;49m\u001B[43m)\u001B[49m \u001B[38;5;28;01mas\u001B[39;00m fh:\n\u001B[1;32m   1329\u001B[0m         \u001B[38;5;28;01mif\u001B[39;00m \u001B[38;5;129;01mnot\u001B[39;00m cbook\u001B[38;5;241m.\u001B[39mfile_requires_unicode(fh):\n\u001B[1;32m   1330\u001B[0m             fh \u001B[38;5;241m=\u001B[39m codecs\u001B[38;5;241m.\u001B[39mgetwriter(\u001B[38;5;124m'\u001B[39m\u001B[38;5;124mutf-8\u001B[39m\u001B[38;5;124m'\u001B[39m)(fh)\n",
      "File \u001B[0;32m/Library/Frameworks/Python.framework/Versions/3.11/lib/python3.11/site-packages/matplotlib/cbook.py:497\u001B[0m, in \u001B[0;36mopen_file_cm\u001B[0;34m(path_or_file, mode, encoding)\u001B[0m\n\u001B[1;32m    495\u001B[0m \u001B[38;5;28;01mdef\u001B[39;00m \u001B[38;5;21mopen_file_cm\u001B[39m(path_or_file, mode\u001B[38;5;241m=\u001B[39m\u001B[38;5;124m\"\u001B[39m\u001B[38;5;124mr\u001B[39m\u001B[38;5;124m\"\u001B[39m, encoding\u001B[38;5;241m=\u001B[39m\u001B[38;5;28;01mNone\u001B[39;00m):\n\u001B[1;32m    496\u001B[0m \u001B[38;5;250m    \u001B[39m\u001B[38;5;124mr\u001B[39m\u001B[38;5;124;03m\"\"\"Pass through file objects and context-manage path-likes.\"\"\"\u001B[39;00m\n\u001B[0;32m--> 497\u001B[0m     fh, opened \u001B[38;5;241m=\u001B[39m \u001B[43mto_filehandle\u001B[49m\u001B[43m(\u001B[49m\u001B[43mpath_or_file\u001B[49m\u001B[43m,\u001B[49m\u001B[43m \u001B[49m\u001B[43mmode\u001B[49m\u001B[43m,\u001B[49m\u001B[43m \u001B[49m\u001B[38;5;28;43;01mTrue\u001B[39;49;00m\u001B[43m,\u001B[49m\u001B[43m \u001B[49m\u001B[43mencoding\u001B[49m\u001B[43m)\u001B[49m\n\u001B[1;32m    498\u001B[0m     \u001B[38;5;28;01mreturn\u001B[39;00m fh \u001B[38;5;28;01mif\u001B[39;00m opened \u001B[38;5;28;01melse\u001B[39;00m contextlib\u001B[38;5;241m.\u001B[39mnullcontext(fh)\n",
      "File \u001B[0;32m/Library/Frameworks/Python.framework/Versions/3.11/lib/python3.11/site-packages/matplotlib/cbook.py:483\u001B[0m, in \u001B[0;36mto_filehandle\u001B[0;34m(fname, flag, return_opened, encoding)\u001B[0m\n\u001B[1;32m    481\u001B[0m         fh \u001B[38;5;241m=\u001B[39m bz2\u001B[38;5;241m.\u001B[39mBZ2File(fname, flag)\n\u001B[1;32m    482\u001B[0m     \u001B[38;5;28;01melse\u001B[39;00m:\n\u001B[0;32m--> 483\u001B[0m         fh \u001B[38;5;241m=\u001B[39m \u001B[38;5;28;43mopen\u001B[39;49m\u001B[43m(\u001B[49m\u001B[43mfname\u001B[49m\u001B[43m,\u001B[49m\u001B[43m \u001B[49m\u001B[43mflag\u001B[49m\u001B[43m,\u001B[49m\u001B[43m \u001B[49m\u001B[43mencoding\u001B[49m\u001B[38;5;241;43m=\u001B[39;49m\u001B[43mencoding\u001B[49m\u001B[43m)\u001B[49m\n\u001B[1;32m    484\u001B[0m     opened \u001B[38;5;241m=\u001B[39m \u001B[38;5;28;01mTrue\u001B[39;00m\n\u001B[1;32m    485\u001B[0m \u001B[38;5;28;01melif\u001B[39;00m \u001B[38;5;28mhasattr\u001B[39m(fname, \u001B[38;5;124m'\u001B[39m\u001B[38;5;124mseek\u001B[39m\u001B[38;5;124m'\u001B[39m):\n",
      "\u001B[0;31mOSError\u001B[0m: [Errno 30] Read-only file system: 'IG and GA Accuracy.svg'"
     ]
    },
    {
     "data": {
      "text/plain": [
       "<Figure size 1000x700 with 1 Axes>"
      ],
      "image/png": "[encoded data removed]"
     },
     "metadata": {},
     "output_type": "display_data"
    }
   ],
   "execution_count": 129
  },
  {
   "cell_type": "code",
   "metadata": {
    "ExecuteTime": {
     "end_time": "2025-03-15T02:25:32.739352Z",
     "start_time": "2025-03-15T01:46:28.740949Z"
    }
   },
   "source": [
    "fig = plt.figure(figsize =(10, 7))\n",
    "plt.title(\"Accuracy\",fontsize=14, fontweight='bold')\n",
    "\n",
    "data = [avg_acc, dropped_weight_avg_acc, GA_weight_acc]\n",
    "\n",
    "x_axis = ['Unweighted k-NN', 'Dropped Cols Weighted k-NN', 'Genetic Algorithm Weighted k-NN']\n",
    "\n",
    "# Creating plot\n",
    "plt.boxplot(data, tick_labels=x_axis)\n",
    "\n",
    "plt.savefig('Unweighted, IG and GA Accuracy.svg')\n",
    "\n",
    "# show plot\n",
    "plt.show()\n"
   ],
   "outputs": [],
   "execution_count": null
  },
  {
   "cell_type": "code",
   "metadata": {
    "ExecuteTime": {
     "end_time": "2025-03-15T18:05:05.977403Z",
     "start_time": "2025-03-15T18:05:05.962951Z"
    }
   },
   "source": [
    "def weight_manipulation(num_of_population,num_of_weights,weights):\n",
    "\n",
    "    genetic_weights = np.empty((num_of_population,num_of_weights))\n",
    "\n",
    "    np_weights = np.array(weights)\n",
    "\n",
    "    # print(\"weights : \", np_weights.shape)\n",
    "    # print(\"Chama: \", genetic_weights.shape)\n",
    "\n",
    "    if(np_weights.ndim == 1):\n",
    "\n",
    "        for i in range(0, num_of_population):\n",
    "            genetic_weights[i] = weights * np.random.rand(len(weights))\n",
    "\n",
    "        # print(\"Huh: \" ,genetic_weights.shape)\n",
    "\n",
    "        return genetic_weights\n",
    "\n",
    "    else :\n",
    "\n",
    "        for row in range(num_of_population):\n",
    "            # Multiply each element in the row by a random factor\n",
    "            # The random factor must have the same number of columns as the weight matrix\n",
    "            genetic_weights[row] = np_weights[row] * np.random.rand(np_weights.shape[1])\n",
    "\n",
    "    return genetic_weights"
   ],
   "outputs": [],
   "execution_count": 124
  },
  {
   "metadata": {
    "ExecuteTime": {
     "end_time": "2025-03-15T18:19:36.207979Z",
     "start_time": "2025-03-15T18:19:36.203872Z"
    }
   },
   "cell_type": "code",
   "source": [
    "def get_weight_manipulated_acc(num_of_population, genetic_weights):\n",
    "\n",
    "    rows, columns = genetic_weights.shape\n",
    "\n",
    "    population_data = np.empty(columns+1)\n",
    "    population_data_sorted = np.empty((num_of_population,columns))\n",
    "\n",
    "    for population in range(num_of_population):\n",
    "\n",
    "        Train_Data =  pd.concat([dropped_heart_X_train, heart_y_train], axis=1)\n",
    "        Test_Data = pd.concat([dropped_heart_X_test, heart_y_test], axis=1)\n",
    "\n",
    "        TP = TN = FP = FN =0\n",
    "\n",
    "        for p in range(len(Test_Data)):\n",
    "            point=Test_Data.iloc[p]\n",
    "            NBRS=Nearest_Neighbors(point, Train_Data, genetic_weights[population] , \"num\")\n",
    "            Label=KNN(3,NBRS)\n",
    "            if (Label==point[\"num\"] and Label==1):\n",
    "                TP+=1\n",
    "            if (Label==point[\"num\"] and Label==0):\n",
    "                TN+=1\n",
    "            if (Label!=point[\"num\"] and Label==1):\n",
    "                FP+=1\n",
    "            if (Label!=point[\"num\"] and Label==0):\n",
    "                FN+=1\n",
    "        A_dropped_weighted=(TP+TN)/(TP+TN+FP+FN)\n",
    "\n",
    "        accuracy = A_dropped_weighted*100\n",
    "\n",
    "        accuracy_list.append(accuracy)\n",
    "        \n",
    "        # print(\"Pop data before change: \", population_data) \n",
    "        # \n",
    "        # print(\"This is the loop iteration index, \", population)\n",
    "        \n",
    "        if(population == 0):\n",
    "            population_weights_with_accuracy = np.append(genetic_weights[population], accuracy)  # the current populations weight and its accuracy \n",
    "            print(\"This is population_weights_with_accuracy, \", population_weights_with_accuracy, \"\\n\")\n",
    "            population_data[:] = population_weights_with_accuracy\n",
    "            print(\"This is population_data inside of the if, \", population_data, \"\\n\")\n",
    "        else:\n",
    "            \n",
    "            population_weights_with_accuracy = np.append(genetic_weights[population], accuracy)  # the current populations weight and its accuracy \n",
    "            print(\"This is population_weights_with_accuracy, \", population_weights_with_accuracy, \"\\n\")\n",
    "            population_data = np.append(population_data,population_weights_with_accuracy)  # unsorted full generation data which holds weight and accuracy of each population\n",
    "            print(\"This is population_data inside the else, \", population_data, \"\\n\")\n",
    "            population_data_sorted = population_data[np.argsort(population_data)[::-1]] # sorted full generations \n",
    "            print(\"This is population_data_sorted, \", population_data_sorted, \"\\n\")\n",
    "\n",
    "    return population_data_sorted"
   ],
   "outputs": [],
   "execution_count": 133
  },
  {
   "metadata": {
    "ExecuteTime": {
     "end_time": "2025-03-15T18:22:43.696017Z",
     "start_time": "2025-03-15T18:22:43.693098Z"
    }
   },
   "cell_type": "code",
   "source": "population_data_sorted[0]",
   "outputs": [
    {
     "data": {
      "text/plain": [
       "np.float64(0.31820501860487105)"
      ]
     },
     "execution_count": 143,
     "metadata": {},
     "output_type": "execute_result"
    }
   ],
   "execution_count": 143
  },
  {
   "metadata": {
    "ExecuteTime": {
     "end_time": "2025-03-15T18:20:11.696270Z",
     "start_time": "2025-03-15T18:19:41.977568Z"
    }
   },
   "cell_type": "code",
   "source": [
    "num_of_population = 20\n",
    "num_of_weights = len(heart_swagger)\n",
    "\n",
    "generations = 1\n",
    "\n",
    "accuracy_list = []\n",
    "\n",
    "# Dictionary to hold generations data\n",
    "ig_generations_data = {}\n",
    "\n",
    "for gen_num in range(generations):\n",
    "\n",
    "    if gen_num == 0:\n",
    "\n",
    "        genetic_weights = weight_manipulation(num_of_population, num_of_weights,heart_swagger)\n",
    "\n",
    "        population_data_sorted = get_weight_manipulated_acc(num_of_population, genetic_weights)\n",
    "        ig_generations_data[f'Generation_{gen_num + 1}'] = population_data_sorted\n",
    "    else :\n",
    "\n",
    "        population_data_sorted[-10:] = population_data_sorted[:10]\n",
    "\n",
    "        for i in range(num_of_population):\n",
    "            genetic_weights[i] = population_data_sorted[i][:7]\n",
    "\n",
    "        genetic_weights = weight_manipulation(num_of_population, num_of_weights, genetic_weights)\n",
    "\n",
    "        population_data_sorted = get_weight_manipulated_acc(num_of_population, genetic_weights)\n",
    "        ig_generations_data[f'Generation_{gen_num + 1}'] = population_data_sorted\n",
    "    \n",
    "    "
   ],
   "outputs": [
    {
     "name": "stdout",
     "output_type": "stream",
     "text": [
      "This is population_weights_with_accuracy,  [7.10348746e-02 4.20577266e-02 1.09914678e-01 1.30703563e-01\n",
      " 7.98785504e-02 1.60394017e-01 2.82528096e-01 7.87564767e+01] \n",
      "\n",
      "This is population_data inside of the if,  [7.10348746e-02 4.20577266e-02 1.09914678e-01 1.30703563e-01\n",
      " 7.98785504e-02 1.60394017e-01 2.82528096e-01 7.87564767e+01] \n",
      "\n",
      "This is population_weights_with_accuracy,  [1.56570237e-01 1.45030429e-01 3.59798475e-02 1.37346833e-01\n",
      " 2.79822790e-02 5.80656682e-02 1.75385123e-01 7.92746114e+01] \n",
      "\n",
      "This is population_data inside the else,  [7.10348746e-02 4.20577266e-02 1.09914678e-01 1.30703563e-01\n",
      " 7.98785504e-02 1.60394017e-01 2.82528096e-01 7.87564767e+01\n",
      " 1.56570237e-01 1.45030429e-01 3.59798475e-02 1.37346833e-01\n",
      " 2.79822790e-02 5.80656682e-02 1.75385123e-01 7.92746114e+01] \n",
      "\n",
      "This is population_data_sorted,  [7.92746114e+01 7.87564767e+01 2.82528096e-01 1.75385123e-01\n",
      " 1.60394017e-01 1.56570237e-01 1.45030429e-01 1.37346833e-01\n",
      " 1.30703563e-01 1.09914678e-01 7.98785504e-02 7.10348746e-02\n",
      " 5.80656682e-02 4.20577266e-02 3.59798475e-02 2.79822790e-02] \n",
      "\n",
      "This is population_weights_with_accuracy,  [3.37072672e-02 6.28093623e-02 4.55591115e-02 5.94885593e-03\n",
      " 7.08272606e-02 7.74426597e-02 1.04640591e-01 7.77202073e+01] \n",
      "\n",
      "This is population_data inside the else,  [7.10348746e-02 4.20577266e-02 1.09914678e-01 1.30703563e-01\n",
      " 7.98785504e-02 1.60394017e-01 2.82528096e-01 7.87564767e+01\n",
      " 1.56570237e-01 1.45030429e-01 3.59798475e-02 1.37346833e-01\n",
      " 2.79822790e-02 5.80656682e-02 1.75385123e-01 7.92746114e+01\n",
      " 3.37072672e-02 6.28093623e-02 4.55591115e-02 5.94885593e-03\n",
      " 7.08272606e-02 7.74426597e-02 1.04640591e-01 7.77202073e+01] \n",
      "\n",
      "This is population_data_sorted,  [7.92746114e+01 7.87564767e+01 7.77202073e+01 2.82528096e-01\n",
      " 1.75385123e-01 1.60394017e-01 1.56570237e-01 1.45030429e-01\n",
      " 1.37346833e-01 1.30703563e-01 1.09914678e-01 1.04640591e-01\n",
      " 7.98785504e-02 7.74426597e-02 7.10348746e-02 7.08272606e-02\n",
      " 6.28093623e-02 5.80656682e-02 4.55591115e-02 4.20577266e-02\n",
      " 3.59798475e-02 3.37072672e-02 2.79822790e-02 5.94885593e-03] \n",
      "\n",
      "This is population_weights_with_accuracy,  [1.83046918e-02 1.13658024e-01 3.90157773e-02 6.61805469e-02\n",
      " 4.39770546e-02 6.43912519e-02 1.50023170e-01 7.46113990e+01] \n",
      "\n",
      "This is population_data inside the else,  [7.10348746e-02 4.20577266e-02 1.09914678e-01 1.30703563e-01\n",
      " 7.98785504e-02 1.60394017e-01 2.82528096e-01 7.87564767e+01\n",
      " 1.56570237e-01 1.45030429e-01 3.59798475e-02 1.37346833e-01\n",
      " 2.79822790e-02 5.80656682e-02 1.75385123e-01 7.92746114e+01\n",
      " 3.37072672e-02 6.28093623e-02 4.55591115e-02 5.94885593e-03\n",
      " 7.08272606e-02 7.74426597e-02 1.04640591e-01 7.77202073e+01\n",
      " 1.83046918e-02 1.13658024e-01 3.90157773e-02 6.61805469e-02\n",
      " 4.39770546e-02 6.43912519e-02 1.50023170e-01 7.46113990e+01] \n",
      "\n",
      "This is population_data_sorted,  [7.92746114e+01 7.87564767e+01 7.77202073e+01 7.46113990e+01\n",
      " 2.82528096e-01 1.75385123e-01 1.60394017e-01 1.56570237e-01\n",
      " 1.50023170e-01 1.45030429e-01 1.37346833e-01 1.30703563e-01\n",
      " 1.13658024e-01 1.09914678e-01 1.04640591e-01 7.98785504e-02\n",
      " 7.74426597e-02 7.10348746e-02 7.08272606e-02 6.61805469e-02\n",
      " 6.43912519e-02 6.28093623e-02 5.80656682e-02 4.55591115e-02\n",
      " 4.39770546e-02 4.20577266e-02 3.90157773e-02 3.59798475e-02\n",
      " 3.37072672e-02 2.79822790e-02 1.83046918e-02 5.94885593e-03] \n",
      "\n",
      "This is population_weights_with_accuracy,  [1.69988157e-01 7.68659034e-02 3.80483237e-02 1.31436561e-01\n",
      " 2.84052667e-02 4.19046642e-02 3.18205019e-01 7.72020725e+01] \n",
      "\n",
      "This is population_data inside the else,  [7.10348746e-02 4.20577266e-02 1.09914678e-01 1.30703563e-01\n",
      " 7.98785504e-02 1.60394017e-01 2.82528096e-01 7.87564767e+01\n",
      " 1.56570237e-01 1.45030429e-01 3.59798475e-02 1.37346833e-01\n",
      " 2.79822790e-02 5.80656682e-02 1.75385123e-01 7.92746114e+01\n",
      " 3.37072672e-02 6.28093623e-02 4.55591115e-02 5.94885593e-03\n",
      " 7.08272606e-02 7.74426597e-02 1.04640591e-01 7.77202073e+01\n",
      " 1.83046918e-02 1.13658024e-01 3.90157773e-02 6.61805469e-02\n",
      " 4.39770546e-02 6.43912519e-02 1.50023170e-01 7.46113990e+01\n",
      " 1.69988157e-01 7.68659034e-02 3.80483237e-02 1.31436561e-01\n",
      " 2.84052667e-02 4.19046642e-02 3.18205019e-01 7.72020725e+01] \n",
      "\n",
      "This is population_data_sorted,  [7.92746114e+01 7.87564767e+01 7.77202073e+01 7.72020725e+01\n",
      " 7.46113990e+01 3.18205019e-01 2.82528096e-01 1.75385123e-01\n",
      " 1.69988157e-01 1.60394017e-01 1.56570237e-01 1.50023170e-01\n",
      " 1.45030429e-01 1.37346833e-01 1.31436561e-01 1.30703563e-01\n",
      " 1.13658024e-01 1.09914678e-01 1.04640591e-01 7.98785504e-02\n",
      " 7.74426597e-02 7.68659034e-02 7.10348746e-02 7.08272606e-02\n",
      " 6.61805469e-02 6.43912519e-02 6.28093623e-02 5.80656682e-02\n",
      " 4.55591115e-02 4.39770546e-02 4.20577266e-02 4.19046642e-02\n",
      " 3.90157773e-02 3.80483237e-02 3.59798475e-02 3.37072672e-02\n",
      " 2.84052667e-02 2.79822790e-02 1.83046918e-02 5.94885593e-03] \n",
      "\n",
      "This is population_weights_with_accuracy,  [2.80285153e-02 1.11757889e-01 7.86206391e-02 8.90317483e-02\n",
      " 1.45285918e-01 1.98619458e-01 8.31223812e-02 7.40932642e+01] \n",
      "\n",
      "This is population_data inside the else,  [7.10348746e-02 4.20577266e-02 1.09914678e-01 1.30703563e-01\n",
      " 7.98785504e-02 1.60394017e-01 2.82528096e-01 7.87564767e+01\n",
      " 1.56570237e-01 1.45030429e-01 3.59798475e-02 1.37346833e-01\n",
      " 2.79822790e-02 5.80656682e-02 1.75385123e-01 7.92746114e+01\n",
      " 3.37072672e-02 6.28093623e-02 4.55591115e-02 5.94885593e-03\n",
      " 7.08272606e-02 7.74426597e-02 1.04640591e-01 7.77202073e+01\n",
      " 1.83046918e-02 1.13658024e-01 3.90157773e-02 6.61805469e-02\n",
      " 4.39770546e-02 6.43912519e-02 1.50023170e-01 7.46113990e+01\n",
      " 1.69988157e-01 7.68659034e-02 3.80483237e-02 1.31436561e-01\n",
      " 2.84052667e-02 4.19046642e-02 3.18205019e-01 7.72020725e+01\n",
      " 2.80285153e-02 1.11757889e-01 7.86206391e-02 8.90317483e-02\n",
      " 1.45285918e-01 1.98619458e-01 8.31223812e-02 7.40932642e+01] \n",
      "\n",
      "This is population_data_sorted,  [7.92746114e+01 7.87564767e+01 7.77202073e+01 7.72020725e+01\n",
      " 7.46113990e+01 7.40932642e+01 3.18205019e-01 2.82528096e-01\n",
      " 1.98619458e-01 1.75385123e-01 1.69988157e-01 1.60394017e-01\n",
      " 1.56570237e-01 1.50023170e-01 1.45285918e-01 1.45030429e-01\n",
      " 1.37346833e-01 1.31436561e-01 1.30703563e-01 1.13658024e-01\n",
      " 1.11757889e-01 1.09914678e-01 1.04640591e-01 8.90317483e-02\n",
      " 8.31223812e-02 7.98785504e-02 7.86206391e-02 7.74426597e-02\n",
      " 7.68659034e-02 7.10348746e-02 7.08272606e-02 6.61805469e-02\n",
      " 6.43912519e-02 6.28093623e-02 5.80656682e-02 4.55591115e-02\n",
      " 4.39770546e-02 4.20577266e-02 4.19046642e-02 3.90157773e-02\n",
      " 3.80483237e-02 3.59798475e-02 3.37072672e-02 2.84052667e-02\n",
      " 2.80285153e-02 2.79822790e-02 1.83046918e-02 5.94885593e-03] \n",
      "\n",
      "This is population_weights_with_accuracy,  [1.43230529e-01 9.72333292e-02 7.23915399e-03 2.01102871e-02\n",
      " 1.62835838e-02 6.13666261e-03 2.83292015e-01 7.40932642e+01] \n",
      "\n",
      "This is population_data inside the else,  [7.10348746e-02 4.20577266e-02 1.09914678e-01 1.30703563e-01\n",
      " 7.98785504e-02 1.60394017e-01 2.82528096e-01 7.87564767e+01\n",
      " 1.56570237e-01 1.45030429e-01 3.59798475e-02 1.37346833e-01\n",
      " 2.79822790e-02 5.80656682e-02 1.75385123e-01 7.92746114e+01\n",
      " 3.37072672e-02 6.28093623e-02 4.55591115e-02 5.94885593e-03\n",
      " 7.08272606e-02 7.74426597e-02 1.04640591e-01 7.77202073e+01\n",
      " 1.83046918e-02 1.13658024e-01 3.90157773e-02 6.61805469e-02\n",
      " 4.39770546e-02 6.43912519e-02 1.50023170e-01 7.46113990e+01\n",
      " 1.69988157e-01 7.68659034e-02 3.80483237e-02 1.31436561e-01\n",
      " 2.84052667e-02 4.19046642e-02 3.18205019e-01 7.72020725e+01\n",
      " 2.80285153e-02 1.11757889e-01 7.86206391e-02 8.90317483e-02\n",
      " 1.45285918e-01 1.98619458e-01 8.31223812e-02 7.40932642e+01\n",
      " 1.43230529e-01 9.72333292e-02 7.23915399e-03 2.01102871e-02\n",
      " 1.62835838e-02 6.13666261e-03 2.83292015e-01 7.40932642e+01] \n",
      "\n",
      "This is population_data_sorted,  [7.92746114e+01 7.87564767e+01 7.77202073e+01 7.72020725e+01\n",
      " 7.46113990e+01 7.40932642e+01 7.40932642e+01 3.18205019e-01\n",
      " 2.83292015e-01 2.82528096e-01 1.98619458e-01 1.75385123e-01\n",
      " 1.69988157e-01 1.60394017e-01 1.56570237e-01 1.50023170e-01\n",
      " 1.45285918e-01 1.45030429e-01 1.43230529e-01 1.37346833e-01\n",
      " 1.31436561e-01 1.30703563e-01 1.13658024e-01 1.11757889e-01\n",
      " 1.09914678e-01 1.04640591e-01 9.72333292e-02 8.90317483e-02\n",
      " 8.31223812e-02 7.98785504e-02 7.86206391e-02 7.74426597e-02\n",
      " 7.68659034e-02 7.10348746e-02 7.08272606e-02 6.61805469e-02\n",
      " 6.43912519e-02 6.28093623e-02 5.80656682e-02 4.55591115e-02\n",
      " 4.39770546e-02 4.20577266e-02 4.19046642e-02 3.90157773e-02\n",
      " 3.80483237e-02 3.59798475e-02 3.37072672e-02 2.84052667e-02\n",
      " 2.80285153e-02 2.79822790e-02 2.01102871e-02 1.83046918e-02\n",
      " 1.62835838e-02 7.23915399e-03 6.13666261e-03 5.94885593e-03] \n",
      "\n",
      "This is population_weights_with_accuracy,  [7.61795542e-02 1.44333916e-01 5.79108201e-02 6.66781815e-02\n",
      " 6.60908645e-02 1.10095448e-01 3.25562563e-01 8.13471503e+01] \n",
      "\n",
      "This is population_data inside the else,  [7.10348746e-02 4.20577266e-02 1.09914678e-01 1.30703563e-01\n",
      " 7.98785504e-02 1.60394017e-01 2.82528096e-01 7.87564767e+01\n",
      " 1.56570237e-01 1.45030429e-01 3.59798475e-02 1.37346833e-01\n",
      " 2.79822790e-02 5.80656682e-02 1.75385123e-01 7.92746114e+01\n",
      " 3.37072672e-02 6.28093623e-02 4.55591115e-02 5.94885593e-03\n",
      " 7.08272606e-02 7.74426597e-02 1.04640591e-01 7.77202073e+01\n",
      " 1.83046918e-02 1.13658024e-01 3.90157773e-02 6.61805469e-02\n",
      " 4.39770546e-02 6.43912519e-02 1.50023170e-01 7.46113990e+01\n",
      " 1.69988157e-01 7.68659034e-02 3.80483237e-02 1.31436561e-01\n",
      " 2.84052667e-02 4.19046642e-02 3.18205019e-01 7.72020725e+01\n",
      " 2.80285153e-02 1.11757889e-01 7.86206391e-02 8.90317483e-02\n",
      " 1.45285918e-01 1.98619458e-01 8.31223812e-02 7.40932642e+01\n",
      " 1.43230529e-01 9.72333292e-02 7.23915399e-03 2.01102871e-02\n",
      " 1.62835838e-02 6.13666261e-03 2.83292015e-01 7.40932642e+01\n",
      " 7.61795542e-02 1.44333916e-01 5.79108201e-02 6.66781815e-02\n",
      " 6.60908645e-02 1.10095448e-01 3.25562563e-01 8.13471503e+01] \n",
      "\n",
      "This is population_data_sorted,  [8.13471503e+01 7.92746114e+01 7.87564767e+01 7.77202073e+01\n",
      " 7.72020725e+01 7.46113990e+01 7.40932642e+01 7.40932642e+01\n",
      " 3.25562563e-01 3.18205019e-01 2.83292015e-01 2.82528096e-01\n",
      " 1.98619458e-01 1.75385123e-01 1.69988157e-01 1.60394017e-01\n",
      " 1.56570237e-01 1.50023170e-01 1.45285918e-01 1.45030429e-01\n",
      " 1.44333916e-01 1.43230529e-01 1.37346833e-01 1.31436561e-01\n",
      " 1.30703563e-01 1.13658024e-01 1.11757889e-01 1.10095448e-01\n",
      " 1.09914678e-01 1.04640591e-01 9.72333292e-02 8.90317483e-02\n",
      " 8.31223812e-02 7.98785504e-02 7.86206391e-02 7.74426597e-02\n",
      " 7.68659034e-02 7.61795542e-02 7.10348746e-02 7.08272606e-02\n",
      " 6.66781815e-02 6.61805469e-02 6.60908645e-02 6.43912519e-02\n",
      " 6.28093623e-02 5.80656682e-02 5.79108201e-02 4.55591115e-02\n",
      " 4.39770546e-02 4.20577266e-02 4.19046642e-02 3.90157773e-02\n",
      " 3.80483237e-02 3.59798475e-02 3.37072672e-02 2.84052667e-02\n",
      " 2.80285153e-02 2.79822790e-02 2.01102871e-02 1.83046918e-02\n",
      " 1.62835838e-02 7.23915399e-03 6.13666261e-03 5.94885593e-03] \n",
      "\n",
      "This is population_weights_with_accuracy,  [9.22359673e-03 1.30383649e-01 2.44655990e-02 6.10941039e-02\n",
      " 1.20933823e-01 1.68165000e-01 9.06029979e-02 7.46113990e+01] \n",
      "\n",
      "This is population_data inside the else,  [7.10348746e-02 4.20577266e-02 1.09914678e-01 1.30703563e-01\n",
      " 7.98785504e-02 1.60394017e-01 2.82528096e-01 7.87564767e+01\n",
      " 1.56570237e-01 1.45030429e-01 3.59798475e-02 1.37346833e-01\n",
      " 2.79822790e-02 5.80656682e-02 1.75385123e-01 7.92746114e+01\n",
      " 3.37072672e-02 6.28093623e-02 4.55591115e-02 5.94885593e-03\n",
      " 7.08272606e-02 7.74426597e-02 1.04640591e-01 7.77202073e+01\n",
      " 1.83046918e-02 1.13658024e-01 3.90157773e-02 6.61805469e-02\n",
      " 4.39770546e-02 6.43912519e-02 1.50023170e-01 7.46113990e+01\n",
      " 1.69988157e-01 7.68659034e-02 3.80483237e-02 1.31436561e-01\n",
      " 2.84052667e-02 4.19046642e-02 3.18205019e-01 7.72020725e+01\n",
      " 2.80285153e-02 1.11757889e-01 7.86206391e-02 8.90317483e-02\n",
      " 1.45285918e-01 1.98619458e-01 8.31223812e-02 7.40932642e+01\n",
      " 1.43230529e-01 9.72333292e-02 7.23915399e-03 2.01102871e-02\n",
      " 1.62835838e-02 6.13666261e-03 2.83292015e-01 7.40932642e+01\n",
      " 7.61795542e-02 1.44333916e-01 5.79108201e-02 6.66781815e-02\n",
      " 6.60908645e-02 1.10095448e-01 3.25562563e-01 8.13471503e+01\n",
      " 9.22359673e-03 1.30383649e-01 2.44655990e-02 6.10941039e-02\n",
      " 1.20933823e-01 1.68165000e-01 9.06029979e-02 7.46113990e+01] \n",
      "\n",
      "This is population_data_sorted,  [8.13471503e+01 7.92746114e+01 7.87564767e+01 7.77202073e+01\n",
      " 7.72020725e+01 7.46113990e+01 7.46113990e+01 7.40932642e+01\n",
      " 7.40932642e+01 3.25562563e-01 3.18205019e-01 2.83292015e-01\n",
      " 2.82528096e-01 1.98619458e-01 1.75385123e-01 1.69988157e-01\n",
      " 1.68165000e-01 1.60394017e-01 1.56570237e-01 1.50023170e-01\n",
      " 1.45285918e-01 1.45030429e-01 1.44333916e-01 1.43230529e-01\n",
      " 1.37346833e-01 1.31436561e-01 1.30703563e-01 1.30383649e-01\n",
      " 1.20933823e-01 1.13658024e-01 1.11757889e-01 1.10095448e-01\n",
      " 1.09914678e-01 1.04640591e-01 9.72333292e-02 9.06029979e-02\n",
      " 8.90317483e-02 8.31223812e-02 7.98785504e-02 7.86206391e-02\n",
      " 7.74426597e-02 7.68659034e-02 7.61795542e-02 7.10348746e-02\n",
      " 7.08272606e-02 6.66781815e-02 6.61805469e-02 6.60908645e-02\n",
      " 6.43912519e-02 6.28093623e-02 6.10941039e-02 5.80656682e-02\n",
      " 5.79108201e-02 4.55591115e-02 4.39770546e-02 4.20577266e-02\n",
      " 4.19046642e-02 3.90157773e-02 3.80483237e-02 3.59798475e-02\n",
      " 3.37072672e-02 2.84052667e-02 2.80285153e-02 2.79822790e-02\n",
      " 2.44655990e-02 2.01102871e-02 1.83046918e-02 1.62835838e-02\n",
      " 9.22359673e-03 7.23915399e-03 6.13666261e-03 5.94885593e-03] \n",
      "\n",
      "This is population_weights_with_accuracy,  [6.00643962e-02 1.33001347e-02 5.30937682e-02 9.92771495e-02\n",
      " 8.81218139e-02 8.54517079e-02 3.42779437e-03 7.40932642e+01] \n",
      "\n",
      "This is population_data inside the else,  [7.10348746e-02 4.20577266e-02 1.09914678e-01 1.30703563e-01\n",
      " 7.98785504e-02 1.60394017e-01 2.82528096e-01 7.87564767e+01\n",
      " 1.56570237e-01 1.45030429e-01 3.59798475e-02 1.37346833e-01\n",
      " 2.79822790e-02 5.80656682e-02 1.75385123e-01 7.92746114e+01\n",
      " 3.37072672e-02 6.28093623e-02 4.55591115e-02 5.94885593e-03\n",
      " 7.08272606e-02 7.74426597e-02 1.04640591e-01 7.77202073e+01\n",
      " 1.83046918e-02 1.13658024e-01 3.90157773e-02 6.61805469e-02\n",
      " 4.39770546e-02 6.43912519e-02 1.50023170e-01 7.46113990e+01\n",
      " 1.69988157e-01 7.68659034e-02 3.80483237e-02 1.31436561e-01\n",
      " 2.84052667e-02 4.19046642e-02 3.18205019e-01 7.72020725e+01\n",
      " 2.80285153e-02 1.11757889e-01 7.86206391e-02 8.90317483e-02\n",
      " 1.45285918e-01 1.98619458e-01 8.31223812e-02 7.40932642e+01\n",
      " 1.43230529e-01 9.72333292e-02 7.23915399e-03 2.01102871e-02\n",
      " 1.62835838e-02 6.13666261e-03 2.83292015e-01 7.40932642e+01\n",
      " 7.61795542e-02 1.44333916e-01 5.79108201e-02 6.66781815e-02\n",
      " 6.60908645e-02 1.10095448e-01 3.25562563e-01 8.13471503e+01\n",
      " 9.22359673e-03 1.30383649e-01 2.44655990e-02 6.10941039e-02\n",
      " 1.20933823e-01 1.68165000e-01 9.06029979e-02 7.46113990e+01\n",
      " 6.00643962e-02 1.33001347e-02 5.30937682e-02 9.92771495e-02\n",
      " 8.81218139e-02 8.54517079e-02 3.42779437e-03 7.40932642e+01] \n",
      "\n",
      "This is population_data_sorted,  [8.13471503e+01 7.92746114e+01 7.87564767e+01 7.77202073e+01\n",
      " 7.72020725e+01 7.46113990e+01 7.46113990e+01 7.40932642e+01\n",
      " 7.40932642e+01 7.40932642e+01 3.25562563e-01 3.18205019e-01\n",
      " 2.83292015e-01 2.82528096e-01 1.98619458e-01 1.75385123e-01\n",
      " 1.69988157e-01 1.68165000e-01 1.60394017e-01 1.56570237e-01\n",
      " 1.50023170e-01 1.45285918e-01 1.45030429e-01 1.44333916e-01\n",
      " 1.43230529e-01 1.37346833e-01 1.31436561e-01 1.30703563e-01\n",
      " 1.30383649e-01 1.20933823e-01 1.13658024e-01 1.11757889e-01\n",
      " 1.10095448e-01 1.09914678e-01 1.04640591e-01 9.92771495e-02\n",
      " 9.72333292e-02 9.06029979e-02 8.90317483e-02 8.81218139e-02\n",
      " 8.54517079e-02 8.31223812e-02 7.98785504e-02 7.86206391e-02\n",
      " 7.74426597e-02 7.68659034e-02 7.61795542e-02 7.10348746e-02\n",
      " 7.08272606e-02 6.66781815e-02 6.61805469e-02 6.60908645e-02\n",
      " 6.43912519e-02 6.28093623e-02 6.10941039e-02 6.00643962e-02\n",
      " 5.80656682e-02 5.79108201e-02 5.30937682e-02 4.55591115e-02\n",
      " 4.39770546e-02 4.20577266e-02 4.19046642e-02 3.90157773e-02\n",
      " 3.80483237e-02 3.59798475e-02 3.37072672e-02 2.84052667e-02\n",
      " 2.80285153e-02 2.79822790e-02 2.44655990e-02 2.01102871e-02\n",
      " 1.83046918e-02 1.62835838e-02 1.33001347e-02 9.22359673e-03\n",
      " 7.23915399e-03 6.13666261e-03 5.94885593e-03 3.42779437e-03] \n",
      "\n",
      "This is population_weights_with_accuracy,  [4.38541209e-02 1.16596055e-01 9.48606810e-02 8.79305877e-02\n",
      " 1.68908132e-02 1.27487037e-01 1.35036071e-01 7.61658031e+01] \n",
      "\n",
      "This is population_data inside the else,  [7.10348746e-02 4.20577266e-02 1.09914678e-01 1.30703563e-01\n",
      " 7.98785504e-02 1.60394017e-01 2.82528096e-01 7.87564767e+01\n",
      " 1.56570237e-01 1.45030429e-01 3.59798475e-02 1.37346833e-01\n",
      " 2.79822790e-02 5.80656682e-02 1.75385123e-01 7.92746114e+01\n",
      " 3.37072672e-02 6.28093623e-02 4.55591115e-02 5.94885593e-03\n",
      " 7.08272606e-02 7.74426597e-02 1.04640591e-01 7.77202073e+01\n",
      " 1.83046918e-02 1.13658024e-01 3.90157773e-02 6.61805469e-02\n",
      " 4.39770546e-02 6.43912519e-02 1.50023170e-01 7.46113990e+01\n",
      " 1.69988157e-01 7.68659034e-02 3.80483237e-02 1.31436561e-01\n",
      " 2.84052667e-02 4.19046642e-02 3.18205019e-01 7.72020725e+01\n",
      " 2.80285153e-02 1.11757889e-01 7.86206391e-02 8.90317483e-02\n",
      " 1.45285918e-01 1.98619458e-01 8.31223812e-02 7.40932642e+01\n",
      " 1.43230529e-01 9.72333292e-02 7.23915399e-03 2.01102871e-02\n",
      " 1.62835838e-02 6.13666261e-03 2.83292015e-01 7.40932642e+01\n",
      " 7.61795542e-02 1.44333916e-01 5.79108201e-02 6.66781815e-02\n",
      " 6.60908645e-02 1.10095448e-01 3.25562563e-01 8.13471503e+01\n",
      " 9.22359673e-03 1.30383649e-01 2.44655990e-02 6.10941039e-02\n",
      " 1.20933823e-01 1.68165000e-01 9.06029979e-02 7.46113990e+01\n",
      " 6.00643962e-02 1.33001347e-02 5.30937682e-02 9.92771495e-02\n",
      " 8.81218139e-02 8.54517079e-02 3.42779437e-03 7.40932642e+01\n",
      " 4.38541209e-02 1.16596055e-01 9.48606810e-02 8.79305877e-02\n",
      " 1.68908132e-02 1.27487037e-01 1.35036071e-01 7.61658031e+01] \n",
      "\n",
      "This is population_data_sorted,  [8.13471503e+01 7.92746114e+01 7.87564767e+01 7.77202073e+01\n",
      " 7.72020725e+01 7.61658031e+01 7.46113990e+01 7.46113990e+01\n",
      " 7.40932642e+01 7.40932642e+01 7.40932642e+01 3.25562563e-01\n",
      " 3.18205019e-01 2.83292015e-01 2.82528096e-01 1.98619458e-01\n",
      " 1.75385123e-01 1.69988157e-01 1.68165000e-01 1.60394017e-01\n",
      " 1.56570237e-01 1.50023170e-01 1.45285918e-01 1.45030429e-01\n",
      " 1.44333916e-01 1.43230529e-01 1.37346833e-01 1.35036071e-01\n",
      " 1.31436561e-01 1.30703563e-01 1.30383649e-01 1.27487037e-01\n",
      " 1.20933823e-01 1.16596055e-01 1.13658024e-01 1.11757889e-01\n",
      " 1.10095448e-01 1.09914678e-01 1.04640591e-01 9.92771495e-02\n",
      " 9.72333292e-02 9.48606810e-02 9.06029979e-02 8.90317483e-02\n",
      " 8.81218139e-02 8.79305877e-02 8.54517079e-02 8.31223812e-02\n",
      " 7.98785504e-02 7.86206391e-02 7.74426597e-02 7.68659034e-02\n",
      " 7.61795542e-02 7.10348746e-02 7.08272606e-02 6.66781815e-02\n",
      " 6.61805469e-02 6.60908645e-02 6.43912519e-02 6.28093623e-02\n",
      " 6.10941039e-02 6.00643962e-02 5.80656682e-02 5.79108201e-02\n",
      " 5.30937682e-02 4.55591115e-02 4.39770546e-02 4.38541209e-02\n",
      " 4.20577266e-02 4.19046642e-02 3.90157773e-02 3.80483237e-02\n",
      " 3.59798475e-02 3.37072672e-02 2.84052667e-02 2.80285153e-02\n",
      " 2.79822790e-02 2.44655990e-02 2.01102871e-02 1.83046918e-02\n",
      " 1.68908132e-02 1.62835838e-02 1.33001347e-02 9.22359673e-03\n",
      " 7.23915399e-03 6.13666261e-03 5.94885593e-03 3.42779437e-03] \n",
      "\n",
      "This is population_weights_with_accuracy,  [1.19458787e-05 1.75191427e-01 1.09449010e-01 1.15011213e-01\n",
      " 2.60284549e-02 1.13372228e-01 2.02294307e-01 6.94300518e+01] \n",
      "\n",
      "This is population_data inside the else,  [7.10348746e-02 4.20577266e-02 1.09914678e-01 1.30703563e-01\n",
      " 7.98785504e-02 1.60394017e-01 2.82528096e-01 7.87564767e+01\n",
      " 1.56570237e-01 1.45030429e-01 3.59798475e-02 1.37346833e-01\n",
      " 2.79822790e-02 5.80656682e-02 1.75385123e-01 7.92746114e+01\n",
      " 3.37072672e-02 6.28093623e-02 4.55591115e-02 5.94885593e-03\n",
      " 7.08272606e-02 7.74426597e-02 1.04640591e-01 7.77202073e+01\n",
      " 1.83046918e-02 1.13658024e-01 3.90157773e-02 6.61805469e-02\n",
      " 4.39770546e-02 6.43912519e-02 1.50023170e-01 7.46113990e+01\n",
      " 1.69988157e-01 7.68659034e-02 3.80483237e-02 1.31436561e-01\n",
      " 2.84052667e-02 4.19046642e-02 3.18205019e-01 7.72020725e+01\n",
      " 2.80285153e-02 1.11757889e-01 7.86206391e-02 8.90317483e-02\n",
      " 1.45285918e-01 1.98619458e-01 8.31223812e-02 7.40932642e+01\n",
      " 1.43230529e-01 9.72333292e-02 7.23915399e-03 2.01102871e-02\n",
      " 1.62835838e-02 6.13666261e-03 2.83292015e-01 7.40932642e+01\n",
      " 7.61795542e-02 1.44333916e-01 5.79108201e-02 6.66781815e-02\n",
      " 6.60908645e-02 1.10095448e-01 3.25562563e-01 8.13471503e+01\n",
      " 9.22359673e-03 1.30383649e-01 2.44655990e-02 6.10941039e-02\n",
      " 1.20933823e-01 1.68165000e-01 9.06029979e-02 7.46113990e+01\n",
      " 6.00643962e-02 1.33001347e-02 5.30937682e-02 9.92771495e-02\n",
      " 8.81218139e-02 8.54517079e-02 3.42779437e-03 7.40932642e+01\n",
      " 4.38541209e-02 1.16596055e-01 9.48606810e-02 8.79305877e-02\n",
      " 1.68908132e-02 1.27487037e-01 1.35036071e-01 7.61658031e+01\n",
      " 1.19458787e-05 1.75191427e-01 1.09449010e-01 1.15011213e-01\n",
      " 2.60284549e-02 1.13372228e-01 2.02294307e-01 6.94300518e+01] \n",
      "\n",
      "This is population_data_sorted,  [8.13471503e+01 7.92746114e+01 7.87564767e+01 7.77202073e+01\n",
      " 7.72020725e+01 7.61658031e+01 7.46113990e+01 7.46113990e+01\n",
      " 7.40932642e+01 7.40932642e+01 7.40932642e+01 6.94300518e+01\n",
      " 3.25562563e-01 3.18205019e-01 2.83292015e-01 2.82528096e-01\n",
      " 2.02294307e-01 1.98619458e-01 1.75385123e-01 1.75191427e-01\n",
      " 1.69988157e-01 1.68165000e-01 1.60394017e-01 1.56570237e-01\n",
      " 1.50023170e-01 1.45285918e-01 1.45030429e-01 1.44333916e-01\n",
      " 1.43230529e-01 1.37346833e-01 1.35036071e-01 1.31436561e-01\n",
      " 1.30703563e-01 1.30383649e-01 1.27487037e-01 1.20933823e-01\n",
      " 1.16596055e-01 1.15011213e-01 1.13658024e-01 1.13372228e-01\n",
      " 1.11757889e-01 1.10095448e-01 1.09914678e-01 1.09449010e-01\n",
      " 1.04640591e-01 9.92771495e-02 9.72333292e-02 9.48606810e-02\n",
      " 9.06029979e-02 8.90317483e-02 8.81218139e-02 8.79305877e-02\n",
      " 8.54517079e-02 8.31223812e-02 7.98785504e-02 7.86206391e-02\n",
      " 7.74426597e-02 7.68659034e-02 7.61795542e-02 7.10348746e-02\n",
      " 7.08272606e-02 6.66781815e-02 6.61805469e-02 6.60908645e-02\n",
      " 6.43912519e-02 6.28093623e-02 6.10941039e-02 6.00643962e-02\n",
      " 5.80656682e-02 5.79108201e-02 5.30937682e-02 4.55591115e-02\n",
      " 4.39770546e-02 4.38541209e-02 4.20577266e-02 4.19046642e-02\n",
      " 3.90157773e-02 3.80483237e-02 3.59798475e-02 3.37072672e-02\n",
      " 2.84052667e-02 2.80285153e-02 2.79822790e-02 2.60284549e-02\n",
      " 2.44655990e-02 2.01102871e-02 1.83046918e-02 1.68908132e-02\n",
      " 1.62835838e-02 1.33001347e-02 9.22359673e-03 7.23915399e-03\n",
      " 6.13666261e-03 5.94885593e-03 3.42779437e-03 1.19458787e-05] \n",
      "\n",
      "This is population_weights_with_accuracy,  [8.73147004e-02 9.50441627e-02 2.60054907e-02 7.03629127e-02\n",
      " 9.93934248e-02 6.23128200e-02 1.73221561e-01 7.97927461e+01] \n",
      "\n",
      "This is population_data inside the else,  [7.10348746e-02 4.20577266e-02 1.09914678e-01 1.30703563e-01\n",
      " 7.98785504e-02 1.60394017e-01 2.82528096e-01 7.87564767e+01\n",
      " 1.56570237e-01 1.45030429e-01 3.59798475e-02 1.37346833e-01\n",
      " 2.79822790e-02 5.80656682e-02 1.75385123e-01 7.92746114e+01\n",
      " 3.37072672e-02 6.28093623e-02 4.55591115e-02 5.94885593e-03\n",
      " 7.08272606e-02 7.74426597e-02 1.04640591e-01 7.77202073e+01\n",
      " 1.83046918e-02 1.13658024e-01 3.90157773e-02 6.61805469e-02\n",
      " 4.39770546e-02 6.43912519e-02 1.50023170e-01 7.46113990e+01\n",
      " 1.69988157e-01 7.68659034e-02 3.80483237e-02 1.31436561e-01\n",
      " 2.84052667e-02 4.19046642e-02 3.18205019e-01 7.72020725e+01\n",
      " 2.80285153e-02 1.11757889e-01 7.86206391e-02 8.90317483e-02\n",
      " 1.45285918e-01 1.98619458e-01 8.31223812e-02 7.40932642e+01\n",
      " 1.43230529e-01 9.72333292e-02 7.23915399e-03 2.01102871e-02\n",
      " 1.62835838e-02 6.13666261e-03 2.83292015e-01 7.40932642e+01\n",
      " 7.61795542e-02 1.44333916e-01 5.79108201e-02 6.66781815e-02\n",
      " 6.60908645e-02 1.10095448e-01 3.25562563e-01 8.13471503e+01\n",
      " 9.22359673e-03 1.30383649e-01 2.44655990e-02 6.10941039e-02\n",
      " 1.20933823e-01 1.68165000e-01 9.06029979e-02 7.46113990e+01\n",
      " 6.00643962e-02 1.33001347e-02 5.30937682e-02 9.92771495e-02\n",
      " 8.81218139e-02 8.54517079e-02 3.42779437e-03 7.40932642e+01\n",
      " 4.38541209e-02 1.16596055e-01 9.48606810e-02 8.79305877e-02\n",
      " 1.68908132e-02 1.27487037e-01 1.35036071e-01 7.61658031e+01\n",
      " 1.19458787e-05 1.75191427e-01 1.09449010e-01 1.15011213e-01\n",
      " 2.60284549e-02 1.13372228e-01 2.02294307e-01 6.94300518e+01\n",
      " 8.73147004e-02 9.50441627e-02 2.60054907e-02 7.03629127e-02\n",
      " 9.93934248e-02 6.23128200e-02 1.73221561e-01 7.97927461e+01] \n",
      "\n",
      "This is population_data_sorted,  [8.13471503e+01 7.97927461e+01 7.92746114e+01 7.87564767e+01\n",
      " 7.77202073e+01 7.72020725e+01 7.61658031e+01 7.46113990e+01\n",
      " 7.46113990e+01 7.40932642e+01 7.40932642e+01 7.40932642e+01\n",
      " 6.94300518e+01 3.25562563e-01 3.18205019e-01 2.83292015e-01\n",
      " 2.82528096e-01 2.02294307e-01 1.98619458e-01 1.75385123e-01\n",
      " 1.75191427e-01 1.73221561e-01 1.69988157e-01 1.68165000e-01\n",
      " 1.60394017e-01 1.56570237e-01 1.50023170e-01 1.45285918e-01\n",
      " 1.45030429e-01 1.44333916e-01 1.43230529e-01 1.37346833e-01\n",
      " 1.35036071e-01 1.31436561e-01 1.30703563e-01 1.30383649e-01\n",
      " 1.27487037e-01 1.20933823e-01 1.16596055e-01 1.15011213e-01\n",
      " 1.13658024e-01 1.13372228e-01 1.11757889e-01 1.10095448e-01\n",
      " 1.09914678e-01 1.09449010e-01 1.04640591e-01 9.93934248e-02\n",
      " 9.92771495e-02 9.72333292e-02 9.50441627e-02 9.48606810e-02\n",
      " 9.06029979e-02 8.90317483e-02 8.81218139e-02 8.79305877e-02\n",
      " 8.73147004e-02 8.54517079e-02 8.31223812e-02 7.98785504e-02\n",
      " 7.86206391e-02 7.74426597e-02 7.68659034e-02 7.61795542e-02\n",
      " 7.10348746e-02 7.08272606e-02 7.03629127e-02 6.66781815e-02\n",
      " 6.61805469e-02 6.60908645e-02 6.43912519e-02 6.28093623e-02\n",
      " 6.23128200e-02 6.10941039e-02 6.00643962e-02 5.80656682e-02\n",
      " 5.79108201e-02 5.30937682e-02 4.55591115e-02 4.39770546e-02\n",
      " 4.38541209e-02 4.20577266e-02 4.19046642e-02 3.90157773e-02\n",
      " 3.80483237e-02 3.59798475e-02 3.37072672e-02 2.84052667e-02\n",
      " 2.80285153e-02 2.79822790e-02 2.60284549e-02 2.60054907e-02\n",
      " 2.44655990e-02 2.01102871e-02 1.83046918e-02 1.68908132e-02\n",
      " 1.62835838e-02 1.33001347e-02 9.22359673e-03 7.23915399e-03\n",
      " 6.13666261e-03 5.94885593e-03 3.42779437e-03 1.19458787e-05] \n",
      "\n",
      "This is population_weights_with_accuracy,  [1.62378841e-01 1.92775622e-02 6.78075736e-02 1.41360817e-01\n",
      " 4.60072287e-02 1.87005630e-01 4.73706161e-02 7.35751295e+01] \n",
      "\n",
      "This is population_data inside the else,  [7.10348746e-02 4.20577266e-02 1.09914678e-01 1.30703563e-01\n",
      " 7.98785504e-02 1.60394017e-01 2.82528096e-01 7.87564767e+01\n",
      " 1.56570237e-01 1.45030429e-01 3.59798475e-02 1.37346833e-01\n",
      " 2.79822790e-02 5.80656682e-02 1.75385123e-01 7.92746114e+01\n",
      " 3.37072672e-02 6.28093623e-02 4.55591115e-02 5.94885593e-03\n",
      " 7.08272606e-02 7.74426597e-02 1.04640591e-01 7.77202073e+01\n",
      " 1.83046918e-02 1.13658024e-01 3.90157773e-02 6.61805469e-02\n",
      " 4.39770546e-02 6.43912519e-02 1.50023170e-01 7.46113990e+01\n",
      " 1.69988157e-01 7.68659034e-02 3.80483237e-02 1.31436561e-01\n",
      " 2.84052667e-02 4.19046642e-02 3.18205019e-01 7.72020725e+01\n",
      " 2.80285153e-02 1.11757889e-01 7.86206391e-02 8.90317483e-02\n",
      " 1.45285918e-01 1.98619458e-01 8.31223812e-02 7.40932642e+01\n",
      " 1.43230529e-01 9.72333292e-02 7.23915399e-03 2.01102871e-02\n",
      " 1.62835838e-02 6.13666261e-03 2.83292015e-01 7.40932642e+01\n",
      " 7.61795542e-02 1.44333916e-01 5.79108201e-02 6.66781815e-02\n",
      " 6.60908645e-02 1.10095448e-01 3.25562563e-01 8.13471503e+01\n",
      " 9.22359673e-03 1.30383649e-01 2.44655990e-02 6.10941039e-02\n",
      " 1.20933823e-01 1.68165000e-01 9.06029979e-02 7.46113990e+01\n",
      " 6.00643962e-02 1.33001347e-02 5.30937682e-02 9.92771495e-02\n",
      " 8.81218139e-02 8.54517079e-02 3.42779437e-03 7.40932642e+01\n",
      " 4.38541209e-02 1.16596055e-01 9.48606810e-02 8.79305877e-02\n",
      " 1.68908132e-02 1.27487037e-01 1.35036071e-01 7.61658031e+01\n",
      " 1.19458787e-05 1.75191427e-01 1.09449010e-01 1.15011213e-01\n",
      " 2.60284549e-02 1.13372228e-01 2.02294307e-01 6.94300518e+01\n",
      " 8.73147004e-02 9.50441627e-02 2.60054907e-02 7.03629127e-02\n",
      " 9.93934248e-02 6.23128200e-02 1.73221561e-01 7.97927461e+01\n",
      " 1.62378841e-01 1.92775622e-02 6.78075736e-02 1.41360817e-01\n",
      " 4.60072287e-02 1.87005630e-01 4.73706161e-02 7.35751295e+01] \n",
      "\n",
      "This is population_data_sorted,  [8.13471503e+01 7.97927461e+01 7.92746114e+01 7.87564767e+01\n",
      " 7.77202073e+01 7.72020725e+01 7.61658031e+01 7.46113990e+01\n",
      " 7.46113990e+01 7.40932642e+01 7.40932642e+01 7.40932642e+01\n",
      " 7.35751295e+01 6.94300518e+01 3.25562563e-01 3.18205019e-01\n",
      " 2.83292015e-01 2.82528096e-01 2.02294307e-01 1.98619458e-01\n",
      " 1.87005630e-01 1.75385123e-01 1.75191427e-01 1.73221561e-01\n",
      " 1.69988157e-01 1.68165000e-01 1.62378841e-01 1.60394017e-01\n",
      " 1.56570237e-01 1.50023170e-01 1.45285918e-01 1.45030429e-01\n",
      " 1.44333916e-01 1.43230529e-01 1.41360817e-01 1.37346833e-01\n",
      " 1.35036071e-01 1.31436561e-01 1.30703563e-01 1.30383649e-01\n",
      " 1.27487037e-01 1.20933823e-01 1.16596055e-01 1.15011213e-01\n",
      " 1.13658024e-01 1.13372228e-01 1.11757889e-01 1.10095448e-01\n",
      " 1.09914678e-01 1.09449010e-01 1.04640591e-01 9.93934248e-02\n",
      " 9.92771495e-02 9.72333292e-02 9.50441627e-02 9.48606810e-02\n",
      " 9.06029979e-02 8.90317483e-02 8.81218139e-02 8.79305877e-02\n",
      " 8.73147004e-02 8.54517079e-02 8.31223812e-02 7.98785504e-02\n",
      " 7.86206391e-02 7.74426597e-02 7.68659034e-02 7.61795542e-02\n",
      " 7.10348746e-02 7.08272606e-02 7.03629127e-02 6.78075736e-02\n",
      " 6.66781815e-02 6.61805469e-02 6.60908645e-02 6.43912519e-02\n",
      " 6.28093623e-02 6.23128200e-02 6.10941039e-02 6.00643962e-02\n",
      " 5.80656682e-02 5.79108201e-02 5.30937682e-02 4.73706161e-02\n",
      " 4.60072287e-02 4.55591115e-02 4.39770546e-02 4.38541209e-02\n",
      " 4.20577266e-02 4.19046642e-02 3.90157773e-02 3.80483237e-02\n",
      " 3.59798475e-02 3.37072672e-02 2.84052667e-02 2.80285153e-02\n",
      " 2.79822790e-02 2.60284549e-02 2.60054907e-02 2.44655990e-02\n",
      " 2.01102871e-02 1.92775622e-02 1.83046918e-02 1.68908132e-02\n",
      " 1.62835838e-02 1.33001347e-02 9.22359673e-03 7.23915399e-03\n",
      " 6.13666261e-03 5.94885593e-03 3.42779437e-03 1.19458787e-05] \n",
      "\n",
      "This is population_weights_with_accuracy,  [5.45502468e-02 6.40869938e-02 5.78139944e-02 7.14322304e-02\n",
      " 1.04277246e-01 4.54556941e-02 3.79625588e-02 7.61658031e+01] \n",
      "\n",
      "This is population_data inside the else,  [7.10348746e-02 4.20577266e-02 1.09914678e-01 1.30703563e-01\n",
      " 7.98785504e-02 1.60394017e-01 2.82528096e-01 7.87564767e+01\n",
      " 1.56570237e-01 1.45030429e-01 3.59798475e-02 1.37346833e-01\n",
      " 2.79822790e-02 5.80656682e-02 1.75385123e-01 7.92746114e+01\n",
      " 3.37072672e-02 6.28093623e-02 4.55591115e-02 5.94885593e-03\n",
      " 7.08272606e-02 7.74426597e-02 1.04640591e-01 7.77202073e+01\n",
      " 1.83046918e-02 1.13658024e-01 3.90157773e-02 6.61805469e-02\n",
      " 4.39770546e-02 6.43912519e-02 1.50023170e-01 7.46113990e+01\n",
      " 1.69988157e-01 7.68659034e-02 3.80483237e-02 1.31436561e-01\n",
      " 2.84052667e-02 4.19046642e-02 3.18205019e-01 7.72020725e+01\n",
      " 2.80285153e-02 1.11757889e-01 7.86206391e-02 8.90317483e-02\n",
      " 1.45285918e-01 1.98619458e-01 8.31223812e-02 7.40932642e+01\n",
      " 1.43230529e-01 9.72333292e-02 7.23915399e-03 2.01102871e-02\n",
      " 1.62835838e-02 6.13666261e-03 2.83292015e-01 7.40932642e+01\n",
      " 7.61795542e-02 1.44333916e-01 5.79108201e-02 6.66781815e-02\n",
      " 6.60908645e-02 1.10095448e-01 3.25562563e-01 8.13471503e+01\n",
      " 9.22359673e-03 1.30383649e-01 2.44655990e-02 6.10941039e-02\n",
      " 1.20933823e-01 1.68165000e-01 9.06029979e-02 7.46113990e+01\n",
      " 6.00643962e-02 1.33001347e-02 5.30937682e-02 9.92771495e-02\n",
      " 8.81218139e-02 8.54517079e-02 3.42779437e-03 7.40932642e+01\n",
      " 4.38541209e-02 1.16596055e-01 9.48606810e-02 8.79305877e-02\n",
      " 1.68908132e-02 1.27487037e-01 1.35036071e-01 7.61658031e+01\n",
      " 1.19458787e-05 1.75191427e-01 1.09449010e-01 1.15011213e-01\n",
      " 2.60284549e-02 1.13372228e-01 2.02294307e-01 6.94300518e+01\n",
      " 8.73147004e-02 9.50441627e-02 2.60054907e-02 7.03629127e-02\n",
      " 9.93934248e-02 6.23128200e-02 1.73221561e-01 7.97927461e+01\n",
      " 1.62378841e-01 1.92775622e-02 6.78075736e-02 1.41360817e-01\n",
      " 4.60072287e-02 1.87005630e-01 4.73706161e-02 7.35751295e+01\n",
      " 5.45502468e-02 6.40869938e-02 5.78139944e-02 7.14322304e-02\n",
      " 1.04277246e-01 4.54556941e-02 3.79625588e-02 7.61658031e+01] \n",
      "\n",
      "This is population_data_sorted,  [8.13471503e+01 7.97927461e+01 7.92746114e+01 7.87564767e+01\n",
      " 7.77202073e+01 7.72020725e+01 7.61658031e+01 7.61658031e+01\n",
      " 7.46113990e+01 7.46113990e+01 7.40932642e+01 7.40932642e+01\n",
      " 7.40932642e+01 7.35751295e+01 6.94300518e+01 3.25562563e-01\n",
      " 3.18205019e-01 2.83292015e-01 2.82528096e-01 2.02294307e-01\n",
      " 1.98619458e-01 1.87005630e-01 1.75385123e-01 1.75191427e-01\n",
      " 1.73221561e-01 1.69988157e-01 1.68165000e-01 1.62378841e-01\n",
      " 1.60394017e-01 1.56570237e-01 1.50023170e-01 1.45285918e-01\n",
      " 1.45030429e-01 1.44333916e-01 1.43230529e-01 1.41360817e-01\n",
      " 1.37346833e-01 1.35036071e-01 1.31436561e-01 1.30703563e-01\n",
      " 1.30383649e-01 1.27487037e-01 1.20933823e-01 1.16596055e-01\n",
      " 1.15011213e-01 1.13658024e-01 1.13372228e-01 1.11757889e-01\n",
      " 1.10095448e-01 1.09914678e-01 1.09449010e-01 1.04640591e-01\n",
      " 1.04277246e-01 9.93934248e-02 9.92771495e-02 9.72333292e-02\n",
      " 9.50441627e-02 9.48606810e-02 9.06029979e-02 8.90317483e-02\n",
      " 8.81218139e-02 8.79305877e-02 8.73147004e-02 8.54517079e-02\n",
      " 8.31223812e-02 7.98785504e-02 7.86206391e-02 7.74426597e-02\n",
      " 7.68659034e-02 7.61795542e-02 7.14322304e-02 7.10348746e-02\n",
      " 7.08272606e-02 7.03629127e-02 6.78075736e-02 6.66781815e-02\n",
      " 6.61805469e-02 6.60908645e-02 6.43912519e-02 6.40869938e-02\n",
      " 6.28093623e-02 6.23128200e-02 6.10941039e-02 6.00643962e-02\n",
      " 5.80656682e-02 5.79108201e-02 5.78139944e-02 5.45502468e-02\n",
      " 5.30937682e-02 4.73706161e-02 4.60072287e-02 4.55591115e-02\n",
      " 4.54556941e-02 4.39770546e-02 4.38541209e-02 4.20577266e-02\n",
      " 4.19046642e-02 3.90157773e-02 3.80483237e-02 3.79625588e-02\n",
      " 3.59798475e-02 3.37072672e-02 2.84052667e-02 2.80285153e-02\n",
      " 2.79822790e-02 2.60284549e-02 2.60054907e-02 2.44655990e-02\n",
      " 2.01102871e-02 1.92775622e-02 1.83046918e-02 1.68908132e-02\n",
      " 1.62835838e-02 1.33001347e-02 9.22359673e-03 7.23915399e-03\n",
      " 6.13666261e-03 5.94885593e-03 3.42779437e-03 1.19458787e-05] \n",
      "\n",
      "This is population_weights_with_accuracy,  [2.02031083e-01 1.18603199e-01 4.54007229e-03 2.96962753e-02\n",
      " 7.25992070e-02 1.02684623e-01 2.98334504e-01 7.82383420e+01] \n",
      "\n",
      "This is population_data inside the else,  [7.10348746e-02 4.20577266e-02 1.09914678e-01 1.30703563e-01\n",
      " 7.98785504e-02 1.60394017e-01 2.82528096e-01 7.87564767e+01\n",
      " 1.56570237e-01 1.45030429e-01 3.59798475e-02 1.37346833e-01\n",
      " 2.79822790e-02 5.80656682e-02 1.75385123e-01 7.92746114e+01\n",
      " 3.37072672e-02 6.28093623e-02 4.55591115e-02 5.94885593e-03\n",
      " 7.08272606e-02 7.74426597e-02 1.04640591e-01 7.77202073e+01\n",
      " 1.83046918e-02 1.13658024e-01 3.90157773e-02 6.61805469e-02\n",
      " 4.39770546e-02 6.43912519e-02 1.50023170e-01 7.46113990e+01\n",
      " 1.69988157e-01 7.68659034e-02 3.80483237e-02 1.31436561e-01\n",
      " 2.84052667e-02 4.19046642e-02 3.18205019e-01 7.72020725e+01\n",
      " 2.80285153e-02 1.11757889e-01 7.86206391e-02 8.90317483e-02\n",
      " 1.45285918e-01 1.98619458e-01 8.31223812e-02 7.40932642e+01\n",
      " 1.43230529e-01 9.72333292e-02 7.23915399e-03 2.01102871e-02\n",
      " 1.62835838e-02 6.13666261e-03 2.83292015e-01 7.40932642e+01\n",
      " 7.61795542e-02 1.44333916e-01 5.79108201e-02 6.66781815e-02\n",
      " 6.60908645e-02 1.10095448e-01 3.25562563e-01 8.13471503e+01\n",
      " 9.22359673e-03 1.30383649e-01 2.44655990e-02 6.10941039e-02\n",
      " 1.20933823e-01 1.68165000e-01 9.06029979e-02 7.46113990e+01\n",
      " 6.00643962e-02 1.33001347e-02 5.30937682e-02 9.92771495e-02\n",
      " 8.81218139e-02 8.54517079e-02 3.42779437e-03 7.40932642e+01\n",
      " 4.38541209e-02 1.16596055e-01 9.48606810e-02 8.79305877e-02\n",
      " 1.68908132e-02 1.27487037e-01 1.35036071e-01 7.61658031e+01\n",
      " 1.19458787e-05 1.75191427e-01 1.09449010e-01 1.15011213e-01\n",
      " 2.60284549e-02 1.13372228e-01 2.02294307e-01 6.94300518e+01\n",
      " 8.73147004e-02 9.50441627e-02 2.60054907e-02 7.03629127e-02\n",
      " 9.93934248e-02 6.23128200e-02 1.73221561e-01 7.97927461e+01\n",
      " 1.62378841e-01 1.92775622e-02 6.78075736e-02 1.41360817e-01\n",
      " 4.60072287e-02 1.87005630e-01 4.73706161e-02 7.35751295e+01\n",
      " 5.45502468e-02 6.40869938e-02 5.78139944e-02 7.14322304e-02\n",
      " 1.04277246e-01 4.54556941e-02 3.79625588e-02 7.61658031e+01\n",
      " 2.02031083e-01 1.18603199e-01 4.54007229e-03 2.96962753e-02\n",
      " 7.25992070e-02 1.02684623e-01 2.98334504e-01 7.82383420e+01] \n",
      "\n",
      "This is population_data_sorted,  [8.13471503e+01 7.97927461e+01 7.92746114e+01 7.87564767e+01\n",
      " 7.82383420e+01 7.77202073e+01 7.72020725e+01 7.61658031e+01\n",
      " 7.61658031e+01 7.46113990e+01 7.46113990e+01 7.40932642e+01\n",
      " 7.40932642e+01 7.40932642e+01 7.35751295e+01 6.94300518e+01\n",
      " 3.25562563e-01 3.18205019e-01 2.98334504e-01 2.83292015e-01\n",
      " 2.82528096e-01 2.02294307e-01 2.02031083e-01 1.98619458e-01\n",
      " 1.87005630e-01 1.75385123e-01 1.75191427e-01 1.73221561e-01\n",
      " 1.69988157e-01 1.68165000e-01 1.62378841e-01 1.60394017e-01\n",
      " 1.56570237e-01 1.50023170e-01 1.45285918e-01 1.45030429e-01\n",
      " 1.44333916e-01 1.43230529e-01 1.41360817e-01 1.37346833e-01\n",
      " 1.35036071e-01 1.31436561e-01 1.30703563e-01 1.30383649e-01\n",
      " 1.27487037e-01 1.20933823e-01 1.18603199e-01 1.16596055e-01\n",
      " 1.15011213e-01 1.13658024e-01 1.13372228e-01 1.11757889e-01\n",
      " 1.10095448e-01 1.09914678e-01 1.09449010e-01 1.04640591e-01\n",
      " 1.04277246e-01 1.02684623e-01 9.93934248e-02 9.92771495e-02\n",
      " 9.72333292e-02 9.50441627e-02 9.48606810e-02 9.06029979e-02\n",
      " 8.90317483e-02 8.81218139e-02 8.79305877e-02 8.73147004e-02\n",
      " 8.54517079e-02 8.31223812e-02 7.98785504e-02 7.86206391e-02\n",
      " 7.74426597e-02 7.68659034e-02 7.61795542e-02 7.25992070e-02\n",
      " 7.14322304e-02 7.10348746e-02 7.08272606e-02 7.03629127e-02\n",
      " 6.78075736e-02 6.66781815e-02 6.61805469e-02 6.60908645e-02\n",
      " 6.43912519e-02 6.40869938e-02 6.28093623e-02 6.23128200e-02\n",
      " 6.10941039e-02 6.00643962e-02 5.80656682e-02 5.79108201e-02\n",
      " 5.78139944e-02 5.45502468e-02 5.30937682e-02 4.73706161e-02\n",
      " 4.60072287e-02 4.55591115e-02 4.54556941e-02 4.39770546e-02\n",
      " 4.38541209e-02 4.20577266e-02 4.19046642e-02 3.90157773e-02\n",
      " 3.80483237e-02 3.79625588e-02 3.59798475e-02 3.37072672e-02\n",
      " 2.96962753e-02 2.84052667e-02 2.80285153e-02 2.79822790e-02\n",
      " 2.60284549e-02 2.60054907e-02 2.44655990e-02 2.01102871e-02\n",
      " 1.92775622e-02 1.83046918e-02 1.68908132e-02 1.62835838e-02\n",
      " 1.33001347e-02 9.22359673e-03 7.23915399e-03 6.13666261e-03\n",
      " 5.94885593e-03 4.54007229e-03 3.42779437e-03 1.19458787e-05] \n",
      "\n",
      "This is population_weights_with_accuracy,  [1.06896750e-01 5.82999645e-02 1.23719016e-02 1.38231033e-01\n",
      " 5.36550344e-02 8.82717469e-02 2.97742222e-01 7.82383420e+01] \n",
      "\n",
      "This is population_data inside the else,  [7.10348746e-02 4.20577266e-02 1.09914678e-01 1.30703563e-01\n",
      " 7.98785504e-02 1.60394017e-01 2.82528096e-01 7.87564767e+01\n",
      " 1.56570237e-01 1.45030429e-01 3.59798475e-02 1.37346833e-01\n",
      " 2.79822790e-02 5.80656682e-02 1.75385123e-01 7.92746114e+01\n",
      " 3.37072672e-02 6.28093623e-02 4.55591115e-02 5.94885593e-03\n",
      " 7.08272606e-02 7.74426597e-02 1.04640591e-01 7.77202073e+01\n",
      " 1.83046918e-02 1.13658024e-01 3.90157773e-02 6.61805469e-02\n",
      " 4.39770546e-02 6.43912519e-02 1.50023170e-01 7.46113990e+01\n",
      " 1.69988157e-01 7.68659034e-02 3.80483237e-02 1.31436561e-01\n",
      " 2.84052667e-02 4.19046642e-02 3.18205019e-01 7.72020725e+01\n",
      " 2.80285153e-02 1.11757889e-01 7.86206391e-02 8.90317483e-02\n",
      " 1.45285918e-01 1.98619458e-01 8.31223812e-02 7.40932642e+01\n",
      " 1.43230529e-01 9.72333292e-02 7.23915399e-03 2.01102871e-02\n",
      " 1.62835838e-02 6.13666261e-03 2.83292015e-01 7.40932642e+01\n",
      " 7.61795542e-02 1.44333916e-01 5.79108201e-02 6.66781815e-02\n",
      " 6.60908645e-02 1.10095448e-01 3.25562563e-01 8.13471503e+01\n",
      " 9.22359673e-03 1.30383649e-01 2.44655990e-02 6.10941039e-02\n",
      " 1.20933823e-01 1.68165000e-01 9.06029979e-02 7.46113990e+01\n",
      " 6.00643962e-02 1.33001347e-02 5.30937682e-02 9.92771495e-02\n",
      " 8.81218139e-02 8.54517079e-02 3.42779437e-03 7.40932642e+01\n",
      " 4.38541209e-02 1.16596055e-01 9.48606810e-02 8.79305877e-02\n",
      " 1.68908132e-02 1.27487037e-01 1.35036071e-01 7.61658031e+01\n",
      " 1.19458787e-05 1.75191427e-01 1.09449010e-01 1.15011213e-01\n",
      " 2.60284549e-02 1.13372228e-01 2.02294307e-01 6.94300518e+01\n",
      " 8.73147004e-02 9.50441627e-02 2.60054907e-02 7.03629127e-02\n",
      " 9.93934248e-02 6.23128200e-02 1.73221561e-01 7.97927461e+01\n",
      " 1.62378841e-01 1.92775622e-02 6.78075736e-02 1.41360817e-01\n",
      " 4.60072287e-02 1.87005630e-01 4.73706161e-02 7.35751295e+01\n",
      " 5.45502468e-02 6.40869938e-02 5.78139944e-02 7.14322304e-02\n",
      " 1.04277246e-01 4.54556941e-02 3.79625588e-02 7.61658031e+01\n",
      " 2.02031083e-01 1.18603199e-01 4.54007229e-03 2.96962753e-02\n",
      " 7.25992070e-02 1.02684623e-01 2.98334504e-01 7.82383420e+01\n",
      " 1.06896750e-01 5.82999645e-02 1.23719016e-02 1.38231033e-01\n",
      " 5.36550344e-02 8.82717469e-02 2.97742222e-01 7.82383420e+01] \n",
      "\n",
      "This is population_data_sorted,  [8.13471503e+01 7.97927461e+01 7.92746114e+01 7.87564767e+01\n",
      " 7.82383420e+01 7.82383420e+01 7.77202073e+01 7.72020725e+01\n",
      " 7.61658031e+01 7.61658031e+01 7.46113990e+01 7.46113990e+01\n",
      " 7.40932642e+01 7.40932642e+01 7.40932642e+01 7.35751295e+01\n",
      " 6.94300518e+01 3.25562563e-01 3.18205019e-01 2.98334504e-01\n",
      " 2.97742222e-01 2.83292015e-01 2.82528096e-01 2.02294307e-01\n",
      " 2.02031083e-01 1.98619458e-01 1.87005630e-01 1.75385123e-01\n",
      " 1.75191427e-01 1.73221561e-01 1.69988157e-01 1.68165000e-01\n",
      " 1.62378841e-01 1.60394017e-01 1.56570237e-01 1.50023170e-01\n",
      " 1.45285918e-01 1.45030429e-01 1.44333916e-01 1.43230529e-01\n",
      " 1.41360817e-01 1.38231033e-01 1.37346833e-01 1.35036071e-01\n",
      " 1.31436561e-01 1.30703563e-01 1.30383649e-01 1.27487037e-01\n",
      " 1.20933823e-01 1.18603199e-01 1.16596055e-01 1.15011213e-01\n",
      " 1.13658024e-01 1.13372228e-01 1.11757889e-01 1.10095448e-01\n",
      " 1.09914678e-01 1.09449010e-01 1.06896750e-01 1.04640591e-01\n",
      " 1.04277246e-01 1.02684623e-01 9.93934248e-02 9.92771495e-02\n",
      " 9.72333292e-02 9.50441627e-02 9.48606810e-02 9.06029979e-02\n",
      " 8.90317483e-02 8.82717469e-02 8.81218139e-02 8.79305877e-02\n",
      " 8.73147004e-02 8.54517079e-02 8.31223812e-02 7.98785504e-02\n",
      " 7.86206391e-02 7.74426597e-02 7.68659034e-02 7.61795542e-02\n",
      " 7.25992070e-02 7.14322304e-02 7.10348746e-02 7.08272606e-02\n",
      " 7.03629127e-02 6.78075736e-02 6.66781815e-02 6.61805469e-02\n",
      " 6.60908645e-02 6.43912519e-02 6.40869938e-02 6.28093623e-02\n",
      " 6.23128200e-02 6.10941039e-02 6.00643962e-02 5.82999645e-02\n",
      " 5.80656682e-02 5.79108201e-02 5.78139944e-02 5.45502468e-02\n",
      " 5.36550344e-02 5.30937682e-02 4.73706161e-02 4.60072287e-02\n",
      " 4.55591115e-02 4.54556941e-02 4.39770546e-02 4.38541209e-02\n",
      " 4.20577266e-02 4.19046642e-02 3.90157773e-02 3.80483237e-02\n",
      " 3.79625588e-02 3.59798475e-02 3.37072672e-02 2.96962753e-02\n",
      " 2.84052667e-02 2.80285153e-02 2.79822790e-02 2.60284549e-02\n",
      " 2.60054907e-02 2.44655990e-02 2.01102871e-02 1.92775622e-02\n",
      " 1.83046918e-02 1.68908132e-02 1.62835838e-02 1.33001347e-02\n",
      " 1.23719016e-02 9.22359673e-03 7.23915399e-03 6.13666261e-03\n",
      " 5.94885593e-03 4.54007229e-03 3.42779437e-03 1.19458787e-05] \n",
      "\n",
      "This is population_weights_with_accuracy,  [7.44365608e-02 7.45774038e-02 9.36413864e-02 2.06544917e-02\n",
      " 6.37955277e-02 1.36846755e-01 5.31163625e-02 7.72020725e+01] \n",
      "\n",
      "This is population_data inside the else,  [7.10348746e-02 4.20577266e-02 1.09914678e-01 1.30703563e-01\n",
      " 7.98785504e-02 1.60394017e-01 2.82528096e-01 7.87564767e+01\n",
      " 1.56570237e-01 1.45030429e-01 3.59798475e-02 1.37346833e-01\n",
      " 2.79822790e-02 5.80656682e-02 1.75385123e-01 7.92746114e+01\n",
      " 3.37072672e-02 6.28093623e-02 4.55591115e-02 5.94885593e-03\n",
      " 7.08272606e-02 7.74426597e-02 1.04640591e-01 7.77202073e+01\n",
      " 1.83046918e-02 1.13658024e-01 3.90157773e-02 6.61805469e-02\n",
      " 4.39770546e-02 6.43912519e-02 1.50023170e-01 7.46113990e+01\n",
      " 1.69988157e-01 7.68659034e-02 3.80483237e-02 1.31436561e-01\n",
      " 2.84052667e-02 4.19046642e-02 3.18205019e-01 7.72020725e+01\n",
      " 2.80285153e-02 1.11757889e-01 7.86206391e-02 8.90317483e-02\n",
      " 1.45285918e-01 1.98619458e-01 8.31223812e-02 7.40932642e+01\n",
      " 1.43230529e-01 9.72333292e-02 7.23915399e-03 2.01102871e-02\n",
      " 1.62835838e-02 6.13666261e-03 2.83292015e-01 7.40932642e+01\n",
      " 7.61795542e-02 1.44333916e-01 5.79108201e-02 6.66781815e-02\n",
      " 6.60908645e-02 1.10095448e-01 3.25562563e-01 8.13471503e+01\n",
      " 9.22359673e-03 1.30383649e-01 2.44655990e-02 6.10941039e-02\n",
      " 1.20933823e-01 1.68165000e-01 9.06029979e-02 7.46113990e+01\n",
      " 6.00643962e-02 1.33001347e-02 5.30937682e-02 9.92771495e-02\n",
      " 8.81218139e-02 8.54517079e-02 3.42779437e-03 7.40932642e+01\n",
      " 4.38541209e-02 1.16596055e-01 9.48606810e-02 8.79305877e-02\n",
      " 1.68908132e-02 1.27487037e-01 1.35036071e-01 7.61658031e+01\n",
      " 1.19458787e-05 1.75191427e-01 1.09449010e-01 1.15011213e-01\n",
      " 2.60284549e-02 1.13372228e-01 2.02294307e-01 6.94300518e+01\n",
      " 8.73147004e-02 9.50441627e-02 2.60054907e-02 7.03629127e-02\n",
      " 9.93934248e-02 6.23128200e-02 1.73221561e-01 7.97927461e+01\n",
      " 1.62378841e-01 1.92775622e-02 6.78075736e-02 1.41360817e-01\n",
      " 4.60072287e-02 1.87005630e-01 4.73706161e-02 7.35751295e+01\n",
      " 5.45502468e-02 6.40869938e-02 5.78139944e-02 7.14322304e-02\n",
      " 1.04277246e-01 4.54556941e-02 3.79625588e-02 7.61658031e+01\n",
      " 2.02031083e-01 1.18603199e-01 4.54007229e-03 2.96962753e-02\n",
      " 7.25992070e-02 1.02684623e-01 2.98334504e-01 7.82383420e+01\n",
      " 1.06896750e-01 5.82999645e-02 1.23719016e-02 1.38231033e-01\n",
      " 5.36550344e-02 8.82717469e-02 2.97742222e-01 7.82383420e+01\n",
      " 7.44365608e-02 7.45774038e-02 9.36413864e-02 2.06544917e-02\n",
      " 6.37955277e-02 1.36846755e-01 5.31163625e-02 7.72020725e+01] \n",
      "\n",
      "This is population_data_sorted,  [8.13471503e+01 7.97927461e+01 7.92746114e+01 7.87564767e+01\n",
      " 7.82383420e+01 7.82383420e+01 7.77202073e+01 7.72020725e+01\n",
      " 7.72020725e+01 7.61658031e+01 7.61658031e+01 7.46113990e+01\n",
      " 7.46113990e+01 7.40932642e+01 7.40932642e+01 7.40932642e+01\n",
      " 7.35751295e+01 6.94300518e+01 3.25562563e-01 3.18205019e-01\n",
      " 2.98334504e-01 2.97742222e-01 2.83292015e-01 2.82528096e-01\n",
      " 2.02294307e-01 2.02031083e-01 1.98619458e-01 1.87005630e-01\n",
      " 1.75385123e-01 1.75191427e-01 1.73221561e-01 1.69988157e-01\n",
      " 1.68165000e-01 1.62378841e-01 1.60394017e-01 1.56570237e-01\n",
      " 1.50023170e-01 1.45285918e-01 1.45030429e-01 1.44333916e-01\n",
      " 1.43230529e-01 1.41360817e-01 1.38231033e-01 1.37346833e-01\n",
      " 1.36846755e-01 1.35036071e-01 1.31436561e-01 1.30703563e-01\n",
      " 1.30383649e-01 1.27487037e-01 1.20933823e-01 1.18603199e-01\n",
      " 1.16596055e-01 1.15011213e-01 1.13658024e-01 1.13372228e-01\n",
      " 1.11757889e-01 1.10095448e-01 1.09914678e-01 1.09449010e-01\n",
      " 1.06896750e-01 1.04640591e-01 1.04277246e-01 1.02684623e-01\n",
      " 9.93934248e-02 9.92771495e-02 9.72333292e-02 9.50441627e-02\n",
      " 9.48606810e-02 9.36413864e-02 9.06029979e-02 8.90317483e-02\n",
      " 8.82717469e-02 8.81218139e-02 8.79305877e-02 8.73147004e-02\n",
      " 8.54517079e-02 8.31223812e-02 7.98785504e-02 7.86206391e-02\n",
      " 7.74426597e-02 7.68659034e-02 7.61795542e-02 7.45774038e-02\n",
      " 7.44365608e-02 7.25992070e-02 7.14322304e-02 7.10348746e-02\n",
      " 7.08272606e-02 7.03629127e-02 6.78075736e-02 6.66781815e-02\n",
      " 6.61805469e-02 6.60908645e-02 6.43912519e-02 6.40869938e-02\n",
      " 6.37955277e-02 6.28093623e-02 6.23128200e-02 6.10941039e-02\n",
      " 6.00643962e-02 5.82999645e-02 5.80656682e-02 5.79108201e-02\n",
      " 5.78139944e-02 5.45502468e-02 5.36550344e-02 5.31163625e-02\n",
      " 5.30937682e-02 4.73706161e-02 4.60072287e-02 4.55591115e-02\n",
      " 4.54556941e-02 4.39770546e-02 4.38541209e-02 4.20577266e-02\n",
      " 4.19046642e-02 3.90157773e-02 3.80483237e-02 3.79625588e-02\n",
      " 3.59798475e-02 3.37072672e-02 2.96962753e-02 2.84052667e-02\n",
      " 2.80285153e-02 2.79822790e-02 2.60284549e-02 2.60054907e-02\n",
      " 2.44655990e-02 2.06544917e-02 2.01102871e-02 1.92775622e-02\n",
      " 1.83046918e-02 1.68908132e-02 1.62835838e-02 1.33001347e-02\n",
      " 1.23719016e-02 9.22359673e-03 7.23915399e-03 6.13666261e-03\n",
      " 5.94885593e-03 4.54007229e-03 3.42779437e-03 1.19458787e-05] \n",
      "\n",
      "This is population_weights_with_accuracy,  [1.64950814e-01 4.38039726e-02 5.24918678e-03 1.39983408e-01\n",
      " 9.33644610e-02 1.99935523e-01 4.42156998e-02 7.56476684e+01] \n",
      "\n",
      "This is population_data inside the else,  [7.10348746e-02 4.20577266e-02 1.09914678e-01 1.30703563e-01\n",
      " 7.98785504e-02 1.60394017e-01 2.82528096e-01 7.87564767e+01\n",
      " 1.56570237e-01 1.45030429e-01 3.59798475e-02 1.37346833e-01\n",
      " 2.79822790e-02 5.80656682e-02 1.75385123e-01 7.92746114e+01\n",
      " 3.37072672e-02 6.28093623e-02 4.55591115e-02 5.94885593e-03\n",
      " 7.08272606e-02 7.74426597e-02 1.04640591e-01 7.77202073e+01\n",
      " 1.83046918e-02 1.13658024e-01 3.90157773e-02 6.61805469e-02\n",
      " 4.39770546e-02 6.43912519e-02 1.50023170e-01 7.46113990e+01\n",
      " 1.69988157e-01 7.68659034e-02 3.80483237e-02 1.31436561e-01\n",
      " 2.84052667e-02 4.19046642e-02 3.18205019e-01 7.72020725e+01\n",
      " 2.80285153e-02 1.11757889e-01 7.86206391e-02 8.90317483e-02\n",
      " 1.45285918e-01 1.98619458e-01 8.31223812e-02 7.40932642e+01\n",
      " 1.43230529e-01 9.72333292e-02 7.23915399e-03 2.01102871e-02\n",
      " 1.62835838e-02 6.13666261e-03 2.83292015e-01 7.40932642e+01\n",
      " 7.61795542e-02 1.44333916e-01 5.79108201e-02 6.66781815e-02\n",
      " 6.60908645e-02 1.10095448e-01 3.25562563e-01 8.13471503e+01\n",
      " 9.22359673e-03 1.30383649e-01 2.44655990e-02 6.10941039e-02\n",
      " 1.20933823e-01 1.68165000e-01 9.06029979e-02 7.46113990e+01\n",
      " 6.00643962e-02 1.33001347e-02 5.30937682e-02 9.92771495e-02\n",
      " 8.81218139e-02 8.54517079e-02 3.42779437e-03 7.40932642e+01\n",
      " 4.38541209e-02 1.16596055e-01 9.48606810e-02 8.79305877e-02\n",
      " 1.68908132e-02 1.27487037e-01 1.35036071e-01 7.61658031e+01\n",
      " 1.19458787e-05 1.75191427e-01 1.09449010e-01 1.15011213e-01\n",
      " 2.60284549e-02 1.13372228e-01 2.02294307e-01 6.94300518e+01\n",
      " 8.73147004e-02 9.50441627e-02 2.60054907e-02 7.03629127e-02\n",
      " 9.93934248e-02 6.23128200e-02 1.73221561e-01 7.97927461e+01\n",
      " 1.62378841e-01 1.92775622e-02 6.78075736e-02 1.41360817e-01\n",
      " 4.60072287e-02 1.87005630e-01 4.73706161e-02 7.35751295e+01\n",
      " 5.45502468e-02 6.40869938e-02 5.78139944e-02 7.14322304e-02\n",
      " 1.04277246e-01 4.54556941e-02 3.79625588e-02 7.61658031e+01\n",
      " 2.02031083e-01 1.18603199e-01 4.54007229e-03 2.96962753e-02\n",
      " 7.25992070e-02 1.02684623e-01 2.98334504e-01 7.82383420e+01\n",
      " 1.06896750e-01 5.82999645e-02 1.23719016e-02 1.38231033e-01\n",
      " 5.36550344e-02 8.82717469e-02 2.97742222e-01 7.82383420e+01\n",
      " 7.44365608e-02 7.45774038e-02 9.36413864e-02 2.06544917e-02\n",
      " 6.37955277e-02 1.36846755e-01 5.31163625e-02 7.72020725e+01\n",
      " 1.64950814e-01 4.38039726e-02 5.24918678e-03 1.39983408e-01\n",
      " 9.33644610e-02 1.99935523e-01 4.42156998e-02 7.56476684e+01] \n",
      "\n",
      "This is population_data_sorted,  [8.13471503e+01 7.97927461e+01 7.92746114e+01 7.87564767e+01\n",
      " 7.82383420e+01 7.82383420e+01 7.77202073e+01 7.72020725e+01\n",
      " 7.72020725e+01 7.61658031e+01 7.61658031e+01 7.56476684e+01\n",
      " 7.46113990e+01 7.46113990e+01 7.40932642e+01 7.40932642e+01\n",
      " 7.40932642e+01 7.35751295e+01 6.94300518e+01 3.25562563e-01\n",
      " 3.18205019e-01 2.98334504e-01 2.97742222e-01 2.83292015e-01\n",
      " 2.82528096e-01 2.02294307e-01 2.02031083e-01 1.99935523e-01\n",
      " 1.98619458e-01 1.87005630e-01 1.75385123e-01 1.75191427e-01\n",
      " 1.73221561e-01 1.69988157e-01 1.68165000e-01 1.64950814e-01\n",
      " 1.62378841e-01 1.60394017e-01 1.56570237e-01 1.50023170e-01\n",
      " 1.45285918e-01 1.45030429e-01 1.44333916e-01 1.43230529e-01\n",
      " 1.41360817e-01 1.39983408e-01 1.38231033e-01 1.37346833e-01\n",
      " 1.36846755e-01 1.35036071e-01 1.31436561e-01 1.30703563e-01\n",
      " 1.30383649e-01 1.27487037e-01 1.20933823e-01 1.18603199e-01\n",
      " 1.16596055e-01 1.15011213e-01 1.13658024e-01 1.13372228e-01\n",
      " 1.11757889e-01 1.10095448e-01 1.09914678e-01 1.09449010e-01\n",
      " 1.06896750e-01 1.04640591e-01 1.04277246e-01 1.02684623e-01\n",
      " 9.93934248e-02 9.92771495e-02 9.72333292e-02 9.50441627e-02\n",
      " 9.48606810e-02 9.36413864e-02 9.33644610e-02 9.06029979e-02\n",
      " 8.90317483e-02 8.82717469e-02 8.81218139e-02 8.79305877e-02\n",
      " 8.73147004e-02 8.54517079e-02 8.31223812e-02 7.98785504e-02\n",
      " 7.86206391e-02 7.74426597e-02 7.68659034e-02 7.61795542e-02\n",
      " 7.45774038e-02 7.44365608e-02 7.25992070e-02 7.14322304e-02\n",
      " 7.10348746e-02 7.08272606e-02 7.03629127e-02 6.78075736e-02\n",
      " 6.66781815e-02 6.61805469e-02 6.60908645e-02 6.43912519e-02\n",
      " 6.40869938e-02 6.37955277e-02 6.28093623e-02 6.23128200e-02\n",
      " 6.10941039e-02 6.00643962e-02 5.82999645e-02 5.80656682e-02\n",
      " 5.79108201e-02 5.78139944e-02 5.45502468e-02 5.36550344e-02\n",
      " 5.31163625e-02 5.30937682e-02 4.73706161e-02 4.60072287e-02\n",
      " 4.55591115e-02 4.54556941e-02 4.42156998e-02 4.39770546e-02\n",
      " 4.38541209e-02 4.38039726e-02 4.20577266e-02 4.19046642e-02\n",
      " 3.90157773e-02 3.80483237e-02 3.79625588e-02 3.59798475e-02\n",
      " 3.37072672e-02 2.96962753e-02 2.84052667e-02 2.80285153e-02\n",
      " 2.79822790e-02 2.60284549e-02 2.60054907e-02 2.44655990e-02\n",
      " 2.06544917e-02 2.01102871e-02 1.92775622e-02 1.83046918e-02\n",
      " 1.68908132e-02 1.62835838e-02 1.33001347e-02 1.23719016e-02\n",
      " 9.22359673e-03 7.23915399e-03 6.13666261e-03 5.94885593e-03\n",
      " 5.24918678e-03 4.54007229e-03 3.42779437e-03 1.19458787e-05] \n",
      "\n",
      "This is population_weights_with_accuracy,  [1.54865627e-03 1.17202133e-01 1.09425903e-01 2.76556553e-02\n",
      " 2.46072574e-02 1.50011438e-01 3.08390875e-01 7.20207254e+01] \n",
      "\n",
      "This is population_data inside the else,  [7.10348746e-02 4.20577266e-02 1.09914678e-01 1.30703563e-01\n",
      " 7.98785504e-02 1.60394017e-01 2.82528096e-01 7.87564767e+01\n",
      " 1.56570237e-01 1.45030429e-01 3.59798475e-02 1.37346833e-01\n",
      " 2.79822790e-02 5.80656682e-02 1.75385123e-01 7.92746114e+01\n",
      " 3.37072672e-02 6.28093623e-02 4.55591115e-02 5.94885593e-03\n",
      " 7.08272606e-02 7.74426597e-02 1.04640591e-01 7.77202073e+01\n",
      " 1.83046918e-02 1.13658024e-01 3.90157773e-02 6.61805469e-02\n",
      " 4.39770546e-02 6.43912519e-02 1.50023170e-01 7.46113990e+01\n",
      " 1.69988157e-01 7.68659034e-02 3.80483237e-02 1.31436561e-01\n",
      " 2.84052667e-02 4.19046642e-02 3.18205019e-01 7.72020725e+01\n",
      " 2.80285153e-02 1.11757889e-01 7.86206391e-02 8.90317483e-02\n",
      " 1.45285918e-01 1.98619458e-01 8.31223812e-02 7.40932642e+01\n",
      " 1.43230529e-01 9.72333292e-02 7.23915399e-03 2.01102871e-02\n",
      " 1.62835838e-02 6.13666261e-03 2.83292015e-01 7.40932642e+01\n",
      " 7.61795542e-02 1.44333916e-01 5.79108201e-02 6.66781815e-02\n",
      " 6.60908645e-02 1.10095448e-01 3.25562563e-01 8.13471503e+01\n",
      " 9.22359673e-03 1.30383649e-01 2.44655990e-02 6.10941039e-02\n",
      " 1.20933823e-01 1.68165000e-01 9.06029979e-02 7.46113990e+01\n",
      " 6.00643962e-02 1.33001347e-02 5.30937682e-02 9.92771495e-02\n",
      " 8.81218139e-02 8.54517079e-02 3.42779437e-03 7.40932642e+01\n",
      " 4.38541209e-02 1.16596055e-01 9.48606810e-02 8.79305877e-02\n",
      " 1.68908132e-02 1.27487037e-01 1.35036071e-01 7.61658031e+01\n",
      " 1.19458787e-05 1.75191427e-01 1.09449010e-01 1.15011213e-01\n",
      " 2.60284549e-02 1.13372228e-01 2.02294307e-01 6.94300518e+01\n",
      " 8.73147004e-02 9.50441627e-02 2.60054907e-02 7.03629127e-02\n",
      " 9.93934248e-02 6.23128200e-02 1.73221561e-01 7.97927461e+01\n",
      " 1.62378841e-01 1.92775622e-02 6.78075736e-02 1.41360817e-01\n",
      " 4.60072287e-02 1.87005630e-01 4.73706161e-02 7.35751295e+01\n",
      " 5.45502468e-02 6.40869938e-02 5.78139944e-02 7.14322304e-02\n",
      " 1.04277246e-01 4.54556941e-02 3.79625588e-02 7.61658031e+01\n",
      " 2.02031083e-01 1.18603199e-01 4.54007229e-03 2.96962753e-02\n",
      " 7.25992070e-02 1.02684623e-01 2.98334504e-01 7.82383420e+01\n",
      " 1.06896750e-01 5.82999645e-02 1.23719016e-02 1.38231033e-01\n",
      " 5.36550344e-02 8.82717469e-02 2.97742222e-01 7.82383420e+01\n",
      " 7.44365608e-02 7.45774038e-02 9.36413864e-02 2.06544917e-02\n",
      " 6.37955277e-02 1.36846755e-01 5.31163625e-02 7.72020725e+01\n",
      " 1.64950814e-01 4.38039726e-02 5.24918678e-03 1.39983408e-01\n",
      " 9.33644610e-02 1.99935523e-01 4.42156998e-02 7.56476684e+01\n",
      " 1.54865627e-03 1.17202133e-01 1.09425903e-01 2.76556553e-02\n",
      " 2.46072574e-02 1.50011438e-01 3.08390875e-01 7.20207254e+01] \n",
      "\n",
      "This is population_data_sorted,  [8.13471503e+01 7.97927461e+01 7.92746114e+01 7.87564767e+01\n",
      " 7.82383420e+01 7.82383420e+01 7.77202073e+01 7.72020725e+01\n",
      " 7.72020725e+01 7.61658031e+01 7.61658031e+01 7.56476684e+01\n",
      " 7.46113990e+01 7.46113990e+01 7.40932642e+01 7.40932642e+01\n",
      " 7.40932642e+01 7.35751295e+01 7.20207254e+01 6.94300518e+01\n",
      " 3.25562563e-01 3.18205019e-01 3.08390875e-01 2.98334504e-01\n",
      " 2.97742222e-01 2.83292015e-01 2.82528096e-01 2.02294307e-01\n",
      " 2.02031083e-01 1.99935523e-01 1.98619458e-01 1.87005630e-01\n",
      " 1.75385123e-01 1.75191427e-01 1.73221561e-01 1.69988157e-01\n",
      " 1.68165000e-01 1.64950814e-01 1.62378841e-01 1.60394017e-01\n",
      " 1.56570237e-01 1.50023170e-01 1.50011438e-01 1.45285918e-01\n",
      " 1.45030429e-01 1.44333916e-01 1.43230529e-01 1.41360817e-01\n",
      " 1.39983408e-01 1.38231033e-01 1.37346833e-01 1.36846755e-01\n",
      " 1.35036071e-01 1.31436561e-01 1.30703563e-01 1.30383649e-01\n",
      " 1.27487037e-01 1.20933823e-01 1.18603199e-01 1.17202133e-01\n",
      " 1.16596055e-01 1.15011213e-01 1.13658024e-01 1.13372228e-01\n",
      " 1.11757889e-01 1.10095448e-01 1.09914678e-01 1.09449010e-01\n",
      " 1.09425903e-01 1.06896750e-01 1.04640591e-01 1.04277246e-01\n",
      " 1.02684623e-01 9.93934248e-02 9.92771495e-02 9.72333292e-02\n",
      " 9.50441627e-02 9.48606810e-02 9.36413864e-02 9.33644610e-02\n",
      " 9.06029979e-02 8.90317483e-02 8.82717469e-02 8.81218139e-02\n",
      " 8.79305877e-02 8.73147004e-02 8.54517079e-02 8.31223812e-02\n",
      " 7.98785504e-02 7.86206391e-02 7.74426597e-02 7.68659034e-02\n",
      " 7.61795542e-02 7.45774038e-02 7.44365608e-02 7.25992070e-02\n",
      " 7.14322304e-02 7.10348746e-02 7.08272606e-02 7.03629127e-02\n",
      " 6.78075736e-02 6.66781815e-02 6.61805469e-02 6.60908645e-02\n",
      " 6.43912519e-02 6.40869938e-02 6.37955277e-02 6.28093623e-02\n",
      " 6.23128200e-02 6.10941039e-02 6.00643962e-02 5.82999645e-02\n",
      " 5.80656682e-02 5.79108201e-02 5.78139944e-02 5.45502468e-02\n",
      " 5.36550344e-02 5.31163625e-02 5.30937682e-02 4.73706161e-02\n",
      " 4.60072287e-02 4.55591115e-02 4.54556941e-02 4.42156998e-02\n",
      " 4.39770546e-02 4.38541209e-02 4.38039726e-02 4.20577266e-02\n",
      " 4.19046642e-02 3.90157773e-02 3.80483237e-02 3.79625588e-02\n",
      " 3.59798475e-02 3.37072672e-02 2.96962753e-02 2.84052667e-02\n",
      " 2.80285153e-02 2.79822790e-02 2.76556553e-02 2.60284549e-02\n",
      " 2.60054907e-02 2.46072574e-02 2.44655990e-02 2.06544917e-02\n",
      " 2.01102871e-02 1.92775622e-02 1.83046918e-02 1.68908132e-02\n",
      " 1.62835838e-02 1.33001347e-02 1.23719016e-02 9.22359673e-03\n",
      " 7.23915399e-03 6.13666261e-03 5.94885593e-03 5.24918678e-03\n",
      " 4.54007229e-03 3.42779437e-03 1.54865627e-03 1.19458787e-05] \n",
      "\n"
     ]
    }
   ],
   "execution_count": 134
  },
  {
   "metadata": {
    "ExecuteTime": {
     "end_time": "2025-03-15T03:02:37.487505Z",
     "start_time": "2025-03-15T03:02:37.464642Z"
    }
   },
   "cell_type": "code",
   "source": [
    "for i in range(0,20):\n",
    "    print(ig_generations_data[\"Generation_1\"][i][7])"
   ],
   "outputs": [
    {
     "ename": "IndexError",
     "evalue": "invalid index to scalar variable.",
     "output_type": "error",
     "traceback": [
      "\u001B[0;31m---------------------------------------------------------------------------\u001B[0m",
      "\u001B[0;31mIndexError\u001B[0m                                Traceback (most recent call last)",
      "Cell \u001B[0;32mIn[123], line 2\u001B[0m\n\u001B[1;32m      1\u001B[0m \u001B[38;5;28;01mfor\u001B[39;00m i \u001B[38;5;129;01min\u001B[39;00m \u001B[38;5;28mrange\u001B[39m(\u001B[38;5;241m0\u001B[39m,\u001B[38;5;241m20\u001B[39m):\n\u001B[0;32m----> 2\u001B[0m     \u001B[38;5;28mprint\u001B[39m(\u001B[43mig_generations_data\u001B[49m\u001B[43m[\u001B[49m\u001B[38;5;124;43m\"\u001B[39;49m\u001B[38;5;124;43mGeneration_1\u001B[39;49m\u001B[38;5;124;43m\"\u001B[39;49m\u001B[43m]\u001B[49m\u001B[43m[\u001B[49m\u001B[43mi\u001B[49m\u001B[43m]\u001B[49m\u001B[43m[\u001B[49m\u001B[38;5;241;43m7\u001B[39;49m\u001B[43m]\u001B[49m)\n",
      "\u001B[0;31mIndexError\u001B[0m: invalid index to scalar variable."
     ]
    }
   ],
   "execution_count": 123
  }
 ],
 "metadata": {
  "kaggle": {
   "accelerator": "none",
   "dataSources": [
    {
     "datasetId": 5392980,
     "sourceId": 8960076,
     "sourceType": "datasetVersion"
    },
    {
     "datasetId": 5618525,
     "sourceId": 9282343,
     "sourceType": "datasetVersion"
    },
    {
     "datasetId": 5767582,
     "sourceId": 9481805,
     "sourceType": "datasetVersion"
    }
   ],
   "dockerImageVersionId": 30761,
   "isGpuEnabled": false,
   "isInternetEnabled": true,
   "language": "python",
   "sourceType": "notebook"
  },
  "kernelspec": {
   "display_name": "Python 3",
   "language": "python",
   "name": "python3"
  },
  "language_info": {
   "codemirror_mode": {
    "name": "ipython",
    "version": 3
   },
   "file_extension": ".py",
   "mimetype": "text/x-python",
   "name": "python",
   "nbconvert_exporter": "python",
   "pygments_lexer": "ipython3",
   "version": "3.10.14"
  }
 },
 "nbformat": 4,
 "nbformat_minor": 4
}
