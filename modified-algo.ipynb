{
 "cells": [
  {
   "cell_type": "code",
   "metadata": {
    "ExecuteTime": {
     "end_time": "2025-03-15T01:40:25.188540Z",
     "start_time": "2025-03-15T01:40:25.015599Z"
    }
   },
   "source": [
    "%reset -f"
   ],
   "outputs": [],
   "execution_count": 6
  },
  {
   "cell_type": "code",
   "metadata": {
    "execution": {
     "iopub.execute_input": "2024-09-29T02:38:20.757905Z",
     "iopub.status.busy": "2024-09-29T02:38:20.756585Z",
     "iopub.status.idle": "2024-09-29T02:38:20.764902Z",
     "shell.execute_reply": "2024-09-29T02:38:20.763087Z",
     "shell.execute_reply.started": "2024-09-29T02:38:20.757839Z"
    },
    "trusted": true,
    "ExecuteTime": {
     "end_time": "2025-03-15T01:40:25.801048Z",
     "start_time": "2025-03-15T01:40:25.798527Z"
    }
   },
   "source": [
    "import pandas as pd # data processing, CSV file I/O (e.g. pd.read_csv)\n",
    "import numpy as np # linear algebra\n",
    "import random as rd # random number generator\n",
    "\n",
    "# metrics\n",
    "from sklearn.metrics import accuracy_score, precision_score, recall_score, f1_score\n",
    "\n",
    "# classifiers\n",
    "from sklearn.tree import DecisionTreeClassifier, plot_tree, export_text\n",
    "from sklearn.neural_network import MLPClassifier\n",
    "from sklearn.ensemble import RandomForestClassifier\n",
    "from xgboost import XGBClassifier\n",
    "from sklearn import tree\n",
    "\n",
    "\n",
    "from sklearn.decomposition import PCA\n",
    "import matplotlib.pyplot as plt\n",
    "\n",
    "# from OnkarClassifier import VectorKNNClassifier"
   ],
   "outputs": [],
   "execution_count": 7
  },
  {
   "cell_type": "code",
   "metadata": {
    "execution": {
     "iopub.execute_input": "2024-09-29T02:38:23.284645Z",
     "iopub.status.busy": "2024-09-29T02:38:23.284279Z",
     "iopub.status.idle": "2024-09-29T02:38:23.292841Z",
     "shell.execute_reply": "2024-09-29T02:38:23.291579Z",
     "shell.execute_reply.started": "2024-09-29T02:38:23.284604Z"
    },
    "trusted": true,
    "ExecuteTime": {
     "end_time": "2025-03-15T01:40:25.852650Z",
     "start_time": "2025-03-15T01:40:25.848527Z"
    }
   },
   "source": [
    "#split data method takes in the dataframe, positive label, negative label and the size of the dataframe\n",
    "#Returns 4 datasets, 2 positive and 2 negative\n",
    "def split_data(df_total, class_col, pos_label, neg_label, size):\n",
    "    \n",
    "    full_pos = df_total[df_total[class_col] == pos_label]\n",
    "    full_neg = df_total[df_total[class_col] == neg_label]\n",
    "    \n",
    "    split_pos_index = round(len(full_pos) * size)\n",
    "    split_neg_index = round(len(full_neg) * size)\n",
    "    \n",
    "    pos1 = full_pos.iloc[:split_pos_index]\n",
    "    pos2 = full_pos.iloc[split_pos_index:]\n",
    "    neg1 = full_neg.iloc[:split_neg_index]\n",
    "    neg2 = full_neg.iloc[split_neg_index:]\n",
    "    \n",
    "    return pos1.reset_index(drop=True), pos2.reset_index(drop=True), neg1.reset_index(drop=True), neg2.reset_index(drop=True)"
   ],
   "outputs": [],
   "execution_count": 8
  },
  {
   "cell_type": "code",
   "metadata": {
    "execution": {
     "iopub.execute_input": "2024-09-29T02:38:23.294473Z",
     "iopub.status.busy": "2024-09-29T02:38:23.294077Z",
     "iopub.status.idle": "2024-09-29T02:38:23.308587Z",
     "shell.execute_reply": "2024-09-29T02:38:23.307360Z",
     "shell.execute_reply.started": "2024-09-29T02:38:23.294431Z"
    },
    "trusted": true,
    "ExecuteTime": {
     "end_time": "2025-03-15T01:40:25.901871Z",
     "start_time": "2025-03-15T01:40:25.899947Z"
    }
   },
   "source": [
    "#takes in number of random indices to be selected and the length of the data frame\n",
    "#returns an array of size shown above and full of random indices\n",
    "def get_random_indices(num_of_random,len_of_df):\n",
    "    \n",
    "    indices = []\n",
    "    \n",
    "    for i in range(num_of_random):\n",
    "        indices.append(rd.randint(0,len_of_df-1))\n",
    "    \n",
    "    return indices"
   ],
   "outputs": [],
   "execution_count": 9
  },
  {
   "cell_type": "code",
   "metadata": {
    "execution": {
     "iopub.execute_input": "2024-09-29T02:38:23.314857Z",
     "iopub.status.busy": "2024-09-29T02:38:23.314396Z",
     "iopub.status.idle": "2024-09-29T02:38:23.328348Z",
     "shell.execute_reply": "2024-09-29T02:38:23.327215Z",
     "shell.execute_reply.started": "2024-09-29T02:38:23.314811Z"
    },
    "trusted": true,
    "ExecuteTime": {
     "end_time": "2025-03-15T01:40:25.925385Z",
     "start_time": "2025-03-15T01:40:25.922238Z"
    }
   },
   "source": [
    "#Creating train test set takes in our 4 datasets as created in split_data method\n",
    "#also takes in the feature columns, class columns and a random number\n",
    "# num_of_random gives the desired number of random data\n",
    "#returns x and y train and x and y test\n",
    "def create_train_test_set(pos1, pos2, neg1, neg2, feature_cols, class_col, num_of_rand):\n",
    "    \n",
    "    feature_cols = feature_cols.drop(class_col)\n",
    "\n",
    "    X_train = pd.DataFrame()\n",
    "    X_test = pd.DataFrame()\n",
    "    y_train = pd.DataFrame()\n",
    "    y_test = pd.DataFrame()\n",
    "    \n",
    "    random_pos_indices = get_random_indices(num_of_rand,len(pos1))\n",
    "    random_pos = pos1.iloc[random_pos_indices]\n",
    "    remaining_pos1 = pos1.drop(random_pos_indices)\n",
    "    \n",
    "    random_neg_indices = get_random_indices(num_of_rand,len(neg1))\n",
    "    random_neg = neg1.iloc[random_neg_indices]\n",
    "    remaining_neg1 = neg1.drop(random_neg_indices)\n",
    "    \n",
    "    full_train_set = pd.concat([random_pos,random_neg])\n",
    "    \n",
    "    full_remaining_pos = pd.concat([remaining_pos1,pos2])\n",
    "    full_remaining_neg = pd.concat([remaining_neg1,neg2])\n",
    "    full_test_set = pd.concat([full_remaining_pos,full_remaining_neg])\n",
    "    \n",
    "    X_train = full_train_set[feature_cols]\n",
    "    y_train = pd.concat([y_train,full_train_set[class_col]])\n",
    "    \n",
    "    X_test = full_test_set[feature_cols]\n",
    "    y_test = pd.concat([y_test,full_test_set[class_col]])\n",
    "    \n",
    "    return X_train.reset_index(drop=True), y_train.reset_index(drop=True), X_test.reset_index(drop=True), y_test.reset_index(drop=True)"
   ],
   "outputs": [],
   "execution_count": 10
  },
  {
   "cell_type": "code",
   "metadata": {
    "execution": {
     "iopub.execute_input": "2024-09-29T02:38:25.402923Z",
     "iopub.status.busy": "2024-09-29T02:38:25.401908Z",
     "iopub.status.idle": "2024-09-29T02:38:25.417906Z",
     "shell.execute_reply": "2024-09-29T02:38:25.416423Z",
     "shell.execute_reply.started": "2024-09-29T02:38:25.402864Z"
    },
    "trusted": true,
    "ExecuteTime": {
     "end_time": "2025-03-15T01:40:25.985465Z",
     "start_time": "2025-03-15T01:40:25.983678Z"
    }
   },
   "source": [
    "#get entropy takes in a text called info and returns the entropy contained in the info\n",
    "# info is all the information of a root and children node of a decision tree\n",
    "#returns an entropy value as a float.\n",
    "def get_entropy(info):\n",
    "    \n",
    "    text = str(info)\n",
    "    \n",
    "    parts = text.split('entropy = ')[1]\n",
    "    entropy_value = parts.split('\\\\n')[0]\n",
    "\n",
    "    # Convert the entropy value to a float\n",
    "    return float(entropy_value)"
   ],
   "outputs": [],
   "execution_count": 11
  },
  {
   "cell_type": "code",
   "metadata": {
    "execution": {
     "iopub.execute_input": "2024-09-29T02:38:25.420065Z",
     "iopub.status.busy": "2024-09-29T02:38:25.419615Z",
     "iopub.status.idle": "2024-09-29T02:38:25.430020Z",
     "shell.execute_reply": "2024-09-29T02:38:25.428584Z",
     "shell.execute_reply.started": "2024-09-29T02:38:25.420021Z"
    },
    "trusted": true,
    "ExecuteTime": {
     "end_time": "2025-03-15T01:40:26.012799Z",
     "start_time": "2025-03-15T01:40:26.011054Z"
    }
   },
   "source": [
    "#Get num of samples takes in a text called info and assigns it to a value\n",
    "#returns a float of the sample value\n",
    "#maybe also rename this variable\n",
    "def get_num_of_samples(info):\n",
    "    \n",
    "    text = str(info)\n",
    "    \n",
    "    parts = text.split('samples = ')[1]\n",
    "    num_of_samples = parts.split('\\\\n')[0]\n",
    "\n",
    "    # Convert the num of samples to a float\n",
    "    return float(num_of_samples)"
   ],
   "outputs": [],
   "execution_count": 12
  },
  {
   "cell_type": "code",
   "metadata": {
    "execution": {
     "iopub.execute_input": "2024-09-29T02:38:25.432304Z",
     "iopub.status.busy": "2024-09-29T02:38:25.431844Z",
     "iopub.status.idle": "2024-09-29T02:38:25.443141Z",
     "shell.execute_reply": "2024-09-29T02:38:25.441633Z",
     "shell.execute_reply.started": "2024-09-29T02:38:25.432237Z"
    },
    "trusted": true,
    "ExecuteTime": {
     "end_time": "2025-03-15T01:40:26.065099Z",
     "start_time": "2025-03-15T01:40:26.062547Z"
    }
   },
   "source": [
    "#model metrics takes in the x and y train and creates the model metrics\n",
    "#returns a dictionary with a graph, tree, parents and children nodes\n",
    "# which contain their entropies and sample size\n",
    "def model_metrics(X_train, y_train):\n",
    "    \n",
    "    clf = DecisionTreeClassifier(criterion='entropy', max_depth=1) # Initialize the decision tree classifier\n",
    "    clf.fit(X_train, y_train) # Fitting the classifier on the training data\n",
    "    \n",
    "    col_names = X_train.columns\n",
    "    label = y_train.columns[0]\n",
    "    \n",
    "    info = plot_tree(clf, feature_names=col_names, class_names=[str(pos_label), str(neg_label)], rounded=True, filled=True)\n",
    "    \n",
    "    metrics = {\n",
    "        'Graph' : info,\n",
    "        'Tree': clf,\n",
    "        'e_parent': get_entropy(info[0]),\n",
    "        'e_child1': get_entropy(info[1]),\n",
    "        'e_child2' : get_entropy(info[3]),\n",
    "        'parent_sample' : get_num_of_samples(info[0]),\n",
    "        'child_sample1' : get_num_of_samples(info[1]),\n",
    "        'child_sample2' : get_num_of_samples(info[3]),\n",
    "    }\n",
    "\n",
    "#     plot_tree(clf, feature_names=col_names, class_names=[str(pos_label), str(neg_label)], rounded=True, filled=True)\n",
    "#     plt.show()\n",
    "    \n",
    "    return metrics"
   ],
   "outputs": [],
   "execution_count": 13
  },
  {
   "cell_type": "code",
   "metadata": {
    "execution": {
     "iopub.execute_input": "2024-09-29T02:38:25.446687Z",
     "iopub.status.busy": "2024-09-29T02:38:25.445726Z",
     "iopub.status.idle": "2024-09-29T02:38:25.457339Z",
     "shell.execute_reply": "2024-09-29T02:38:25.455973Z",
     "shell.execute_reply.started": "2024-09-29T02:38:25.446625Z"
    },
    "trusted": true,
    "ExecuteTime": {
     "end_time": "2025-03-15T01:40:26.091591Z",
     "start_time": "2025-03-15T01:40:26.089726Z"
    }
   },
   "source": [
    "# calculate_information_gain uses entropy values gained from the root and children nodes\n",
    "# these values come from a decision tree of depth one of a specific attribute\n",
    "# returns the information gain of the column\n",
    "def calculate_information_gain(metrics):\n",
    "    \n",
    "    return metrics['e_parent']-((metrics['child_sample1']/metrics['parent_sample'])*metrics['e_child1'])-((metrics['child_sample2']/metrics['parent_sample'])*metrics['e_child2'])"
   ],
   "outputs": [],
   "execution_count": 14
  },
  {
   "cell_type": "code",
   "metadata": {
    "execution": {
     "iopub.execute_input": "2024-09-29T02:38:25.459368Z",
     "iopub.status.busy": "2024-09-29T02:38:25.458862Z",
     "iopub.status.idle": "2024-09-29T02:38:25.469990Z",
     "shell.execute_reply": "2024-09-29T02:38:25.468600Z",
     "shell.execute_reply.started": "2024-09-29T02:38:25.459302Z"
    },
    "trusted": true,
    "ExecuteTime": {
     "end_time": "2025-03-15T01:40:26.148569Z",
     "start_time": "2025-03-15T01:40:26.145732Z"
    }
   },
   "source": [
    "#takes in x and y train, label col and columns\n",
    "#then returns our information gain weights\n",
    "def get_information_gain(X_train, y_train, label_col, columns):\n",
    "    \n",
    "    information_gain_weights = pd.DataFrame()\n",
    "    col_names = columns[:-1]\n",
    "    current_information_gain = np.array([])\n",
    "\n",
    "    \n",
    "    for col in columns:\n",
    "        if col != label_col:\n",
    "            metrics = model_metrics(X_train[[col]], y_train)\n",
    "            current_information_gain = np.append(current_information_gain, calculate_information_gain(metrics))\n",
    "    current_information_gain = current_information_gain.reshape(1,-1)\n",
    "    information_gain_weights = pd.DataFrame(current_information_gain, columns=col_names)\n",
    "\n",
    "    return information_gain_weights"
   ],
   "outputs": [],
   "execution_count": 15
  },
  {
   "cell_type": "code",
   "metadata": {
    "execution": {
     "iopub.execute_input": "2024-09-29T02:38:25.472665Z",
     "iopub.status.busy": "2024-09-29T02:38:25.472137Z",
     "iopub.status.idle": "2024-09-29T02:38:25.482200Z",
     "shell.execute_reply": "2024-09-29T02:38:25.480967Z",
     "shell.execute_reply.started": "2024-09-29T02:38:25.472607Z"
    },
    "trusted": true,
    "ExecuteTime": {
     "end_time": "2025-03-15T01:40:26.177644Z",
     "start_time": "2025-03-15T01:40:26.175429Z"
    }
   },
   "source": [
    "#avg info gain takes in the data frame called df_gain\n",
    "#returns the results in a dataframe and an average information gain array\n",
    "def get_avg_info_gain_df(df_gain):\n",
    "    # Compute the mean of each column in the DataFrame\n",
    "    avg_info_gain = df_gain.mean()\n",
    "    \n",
    "    # Convert the resulting Series to a NumPy array\n",
    "    avg_info_gain_array = avg_info_gain.to_numpy()\n",
    "    \n",
    "    # Create a DataFrame from the average coefficients\n",
    "    avg_info_gain_df = pd.DataFrame([avg_info_gain], columns=df_gain.columns, index=['avg'])\n",
    "    \n",
    "    # Concatenate the original DataFrame with the average coefficients DataFrame\n",
    "    result_df = pd.concat([df_gain, avg_info_gain_df], ignore_index=False)\n",
    "    \n",
    "    return result_df, avg_info_gain_array"
   ],
   "outputs": [],
   "execution_count": 16
  },
  {
   "cell_type": "code",
   "metadata": {
    "execution": {
     "iopub.execute_input": "2024-09-29T02:38:25.484427Z",
     "iopub.status.busy": "2024-09-29T02:38:25.483881Z",
     "iopub.status.idle": "2024-09-29T02:38:25.497848Z",
     "shell.execute_reply": "2024-09-29T02:38:25.496505Z",
     "shell.execute_reply.started": "2024-09-29T02:38:25.484368Z"
    },
    "trusted": true,
    "ExecuteTime": {
     "end_time": "2025-03-15T01:40:26.234233Z",
     "start_time": "2025-03-15T01:40:26.231754Z"
    }
   },
   "source": [
    "#Run simulation takes in a simulation length number (number of times information gain is calculated for each attribute ) \n",
    "# a total data frame, label column, positive and negative label, size and number of rand\n",
    "# num_of_rand allows for n random data \n",
    "#returns average info gain dataframe and array, x and y text, and x and y train\n",
    "def run_simulation(sim_len, df_total, label_col,pos_label, neg_label, size, num_of_rand):\n",
    "    \n",
    "    sim_info_gain = pd.DataFrame()\n",
    "    \n",
    "    positive1, positive2, negative1, negative2 = split_data(df_total, label_col, pos_label, neg_label, size)\n",
    "\n",
    "    \n",
    "    for i in range(sim_len):\n",
    "        \n",
    "        X_train, y_train, X_test, y_test = create_train_test_set(positive1, positive2, negative1, negative2, df_total.columns, label_col, num_of_rand)\n",
    "        \n",
    "        info_gain = get_information_gain(X_train, y_train, label_col, df_total.columns)\n",
    "        \n",
    "        sim_info_gain = pd.concat([info_gain, sim_info_gain])\n",
    "        \n",
    "    avg_info_gain_df, avg_info_gain_array = get_avg_info_gain_df(sim_info_gain)\n",
    "        \n",
    "    return avg_info_gain_df, avg_info_gain_array, X_test, y_test, X_train, y_train\n",
    "    "
   ],
   "outputs": [],
   "execution_count": 17
  },
  {
   "cell_type": "code",
   "metadata": {
    "ExecuteTime": {
     "end_time": "2025-03-15T01:40:26.264684Z",
     "start_time": "2025-03-15T01:40:26.262668Z"
    }
   },
   "source": [
    "# analogous to get information gain function \n",
    "def get_explained_variance(pca,feature_cols):\n",
    "    \n",
    "    explained_variance= pca.explained_variance_ratio_\n",
    "    explained_variance = explained_variance.reshape(1,-1)\n",
    "\n",
    "    ev_df = pd.DataFrame(explained_variance, columns=feature_cols)\n",
    "    \n",
    "    return ev_df"
   ],
   "outputs": [],
   "execution_count": 18
  },
  {
   "cell_type": "code",
   "metadata": {
    "ExecuteTime": {
     "end_time": "2025-03-15T01:40:26.318514Z",
     "start_time": "2025-03-15T01:40:26.316446Z"
    }
   },
   "source": [
    "# analogous to get avg information gain function \n",
    "def get_avg_explained_variance_df(df_ev):\n",
    "    # Compute the mean of each column in the DataFrame\n",
    "    avg_ev = df_ev.mean()\n",
    "\n",
    "    # Convert the resulting Series to a NumPy array\n",
    "    avg_ev_array = avg_ev.to_numpy()\n",
    "\n",
    "    # Create a DataFrame from the average coefficients\n",
    "    avg_ev_df = pd.DataFrame([avg_ev], columns=df_ev.columns, index=['avg'])\n",
    "\n",
    "    # Concatenate the original DataFrame with the average coefficients DataFrame\n",
    "    result_df = pd.concat([df_ev, avg_ev_df], ignore_index=False)\n",
    "\n",
    "    return result_df, avg_ev_array"
   ],
   "outputs": [],
   "execution_count": 19
  },
  {
   "metadata": {
    "ExecuteTime": {
     "end_time": "2025-03-15T01:40:26.350501Z",
     "start_time": "2025-03-15T01:40:26.347386Z"
    }
   },
   "cell_type": "code",
   "source": [
    "# mod run simulation is a function similar to the one above \n",
    "# but uses explained variance PCA instead of Information gain\n",
    "#returns average explained variance dataframe and array, x and y text, and x and y train\n",
    "def mod_run_simulation(sim_len, df_total, label_col,pos_label, neg_label, size, num_of_rand):\n",
    "\n",
    "    sim_explained_variance = pd.DataFrame()\n",
    "    \n",
    "    pca = PCA(n_components=13)\n",
    "    pc = pca.fit_transform(df_heart_standardized.iloc[:-1])\n",
    "\n",
    "    df_pca = pd.DataFrame(data=pc, columns=['principal component 1', 'principal component 2', 'principal component 3',\n",
    "                                        'principal component 4', 'principal component 5', 'principal component 6',\n",
    "                                        'principal component 7','principal component 8','principal component 9','principal component 10','principal component 11','principal component 12','principal component 13'])\n",
    "\n",
    "    final_pca_df = pd.concat([df_pca, df_heart_standardized[['num']]], axis = 1)\n",
    "\n",
    "    phishing1, phishing2, non_phishing1, non_phishing2 = split_data(final_pca_df, label_col, pos_label, neg_label, size)\n",
    "\n",
    "    for i in range(sim_len):\n",
    "\n",
    "        X_train, y_train, X_test, y_test = create_train_test_set(phishing1, phishing2, non_phishing1, non_phishing2, final_pca_df.columns, label_col, num_of_rand)\n",
    "\n",
    "        explained_variance = get_explained_variance(pca,df_pca.columns)\n",
    "        sim_explained_variance = pd.concat([explained_variance, sim_explained_variance])\n",
    "    \n",
    "\n",
    "    avg_explained_variance_df, avg_explained_variance_array = get_avg_explained_variance_df(sim_explained_variance)\n",
    "\n",
    "    return avg_explained_variance_df, avg_explained_variance_array, X_test, y_test, X_train, y_train\n"
   ],
   "outputs": [],
   "execution_count": 20
  },
  {
   "cell_type": "code",
   "metadata": {
    "execution": {
     "iopub.execute_input": "2024-09-29T02:38:31.368969Z",
     "iopub.status.busy": "2024-09-29T02:38:31.368381Z",
     "iopub.status.idle": "2024-09-29T02:38:31.389918Z",
     "shell.execute_reply": "2024-09-29T02:38:31.388562Z",
     "shell.execute_reply.started": "2024-09-29T02:38:31.368921Z"
    },
    "trusted": true,
    "ExecuteTime": {
     "end_time": "2025-03-15T01:40:26.511125Z",
     "start_time": "2025-03-15T01:40:26.414574Z"
    }
   },
   "source": [
    "column_names = [\n",
    "  'age', 'sex', 'cp', 'trestbps', 'chol', 'fbs', 'restecg', \n",
    "  'thalach', 'exang', 'oldpeak', 'slope', 'ca', 'thal', 'num'\n",
    "]\n",
    "\n",
    "df_heart = pd.read_csv('heartdiseaes/processed.cleveland.data', names = column_names, index_col = False)\n",
    "\n",
    "new_row_values = [63, 1, 1, 145, 233, 1, 2, 150, 0, 2.3, 3.0, 0, 6.0, 0]\n",
    "\n",
    "df_heart.loc[0] = new_row_values"
   ],
   "outputs": [
    {
     "ename": "FileNotFoundError",
     "evalue": "[Errno 2] No such file or directory: 'heartdiseaes/processed.cleveland.data'",
     "output_type": "error",
     "traceback": [
      "\u001B[0;31m---------------------------------------------------------------------------\u001B[0m",
      "\u001B[0;31mFileNotFoundError\u001B[0m                         Traceback (most recent call last)",
      "Cell \u001B[0;32mIn[21], line 6\u001B[0m\n\u001B[1;32m      1\u001B[0m column_names \u001B[38;5;241m=\u001B[39m [\n\u001B[1;32m      2\u001B[0m   \u001B[38;5;124m'\u001B[39m\u001B[38;5;124mage\u001B[39m\u001B[38;5;124m'\u001B[39m, \u001B[38;5;124m'\u001B[39m\u001B[38;5;124msex\u001B[39m\u001B[38;5;124m'\u001B[39m, \u001B[38;5;124m'\u001B[39m\u001B[38;5;124mcp\u001B[39m\u001B[38;5;124m'\u001B[39m, \u001B[38;5;124m'\u001B[39m\u001B[38;5;124mtrestbps\u001B[39m\u001B[38;5;124m'\u001B[39m, \u001B[38;5;124m'\u001B[39m\u001B[38;5;124mchol\u001B[39m\u001B[38;5;124m'\u001B[39m, \u001B[38;5;124m'\u001B[39m\u001B[38;5;124mfbs\u001B[39m\u001B[38;5;124m'\u001B[39m, \u001B[38;5;124m'\u001B[39m\u001B[38;5;124mrestecg\u001B[39m\u001B[38;5;124m'\u001B[39m, \n\u001B[1;32m      3\u001B[0m   \u001B[38;5;124m'\u001B[39m\u001B[38;5;124mthalach\u001B[39m\u001B[38;5;124m'\u001B[39m, \u001B[38;5;124m'\u001B[39m\u001B[38;5;124mexang\u001B[39m\u001B[38;5;124m'\u001B[39m, \u001B[38;5;124m'\u001B[39m\u001B[38;5;124moldpeak\u001B[39m\u001B[38;5;124m'\u001B[39m, \u001B[38;5;124m'\u001B[39m\u001B[38;5;124mslope\u001B[39m\u001B[38;5;124m'\u001B[39m, \u001B[38;5;124m'\u001B[39m\u001B[38;5;124mca\u001B[39m\u001B[38;5;124m'\u001B[39m, \u001B[38;5;124m'\u001B[39m\u001B[38;5;124mthal\u001B[39m\u001B[38;5;124m'\u001B[39m, \u001B[38;5;124m'\u001B[39m\u001B[38;5;124mnum\u001B[39m\u001B[38;5;124m'\u001B[39m\n\u001B[1;32m      4\u001B[0m ]\n\u001B[0;32m----> 6\u001B[0m df_heart \u001B[38;5;241m=\u001B[39m \u001B[43mpd\u001B[49m\u001B[38;5;241;43m.\u001B[39;49m\u001B[43mread_csv\u001B[49m\u001B[43m(\u001B[49m\u001B[38;5;124;43m'\u001B[39;49m\u001B[38;5;124;43mheartdiseaes/processed.cleveland.data\u001B[39;49m\u001B[38;5;124;43m'\u001B[39;49m\u001B[43m,\u001B[49m\u001B[43m \u001B[49m\u001B[43mnames\u001B[49m\u001B[43m \u001B[49m\u001B[38;5;241;43m=\u001B[39;49m\u001B[43m \u001B[49m\u001B[43mcolumn_names\u001B[49m\u001B[43m,\u001B[49m\u001B[43m \u001B[49m\u001B[43mindex_col\u001B[49m\u001B[43m \u001B[49m\u001B[38;5;241;43m=\u001B[39;49m\u001B[43m \u001B[49m\u001B[38;5;28;43;01mFalse\u001B[39;49;00m\u001B[43m)\u001B[49m\n\u001B[1;32m      8\u001B[0m new_row_values \u001B[38;5;241m=\u001B[39m [\u001B[38;5;241m63\u001B[39m, \u001B[38;5;241m1\u001B[39m, \u001B[38;5;241m1\u001B[39m, \u001B[38;5;241m145\u001B[39m, \u001B[38;5;241m233\u001B[39m, \u001B[38;5;241m1\u001B[39m, \u001B[38;5;241m2\u001B[39m, \u001B[38;5;241m150\u001B[39m, \u001B[38;5;241m0\u001B[39m, \u001B[38;5;241m2.3\u001B[39m, \u001B[38;5;241m3.0\u001B[39m, \u001B[38;5;241m0\u001B[39m, \u001B[38;5;241m6.0\u001B[39m, \u001B[38;5;241m0\u001B[39m]\n\u001B[1;32m     10\u001B[0m df_heart\u001B[38;5;241m.\u001B[39mloc[\u001B[38;5;241m0\u001B[39m] \u001B[38;5;241m=\u001B[39m new_row_values\n",
      "File \u001B[0;32m/Library/Frameworks/Python.framework/Versions/3.11/lib/python3.11/site-packages/pandas/io/parsers/readers.py:1026\u001B[0m, in \u001B[0;36mread_csv\u001B[0;34m(filepath_or_buffer, sep, delimiter, header, names, index_col, usecols, dtype, engine, converters, true_values, false_values, skipinitialspace, skiprows, skipfooter, nrows, na_values, keep_default_na, na_filter, verbose, skip_blank_lines, parse_dates, infer_datetime_format, keep_date_col, date_parser, date_format, dayfirst, cache_dates, iterator, chunksize, compression, thousands, decimal, lineterminator, quotechar, quoting, doublequote, escapechar, comment, encoding, encoding_errors, dialect, on_bad_lines, delim_whitespace, low_memory, memory_map, float_precision, storage_options, dtype_backend)\u001B[0m\n\u001B[1;32m   1013\u001B[0m kwds_defaults \u001B[38;5;241m=\u001B[39m _refine_defaults_read(\n\u001B[1;32m   1014\u001B[0m     dialect,\n\u001B[1;32m   1015\u001B[0m     delimiter,\n\u001B[0;32m   (...)\u001B[0m\n\u001B[1;32m   1022\u001B[0m     dtype_backend\u001B[38;5;241m=\u001B[39mdtype_backend,\n\u001B[1;32m   1023\u001B[0m )\n\u001B[1;32m   1024\u001B[0m kwds\u001B[38;5;241m.\u001B[39mupdate(kwds_defaults)\n\u001B[0;32m-> 1026\u001B[0m \u001B[38;5;28;01mreturn\u001B[39;00m \u001B[43m_read\u001B[49m\u001B[43m(\u001B[49m\u001B[43mfilepath_or_buffer\u001B[49m\u001B[43m,\u001B[49m\u001B[43m \u001B[49m\u001B[43mkwds\u001B[49m\u001B[43m)\u001B[49m\n",
      "File \u001B[0;32m/Library/Frameworks/Python.framework/Versions/3.11/lib/python3.11/site-packages/pandas/io/parsers/readers.py:620\u001B[0m, in \u001B[0;36m_read\u001B[0;34m(filepath_or_buffer, kwds)\u001B[0m\n\u001B[1;32m    617\u001B[0m _validate_names(kwds\u001B[38;5;241m.\u001B[39mget(\u001B[38;5;124m\"\u001B[39m\u001B[38;5;124mnames\u001B[39m\u001B[38;5;124m\"\u001B[39m, \u001B[38;5;28;01mNone\u001B[39;00m))\n\u001B[1;32m    619\u001B[0m \u001B[38;5;66;03m# Create the parser.\u001B[39;00m\n\u001B[0;32m--> 620\u001B[0m parser \u001B[38;5;241m=\u001B[39m \u001B[43mTextFileReader\u001B[49m\u001B[43m(\u001B[49m\u001B[43mfilepath_or_buffer\u001B[49m\u001B[43m,\u001B[49m\u001B[43m \u001B[49m\u001B[38;5;241;43m*\u001B[39;49m\u001B[38;5;241;43m*\u001B[39;49m\u001B[43mkwds\u001B[49m\u001B[43m)\u001B[49m\n\u001B[1;32m    622\u001B[0m \u001B[38;5;28;01mif\u001B[39;00m chunksize \u001B[38;5;129;01mor\u001B[39;00m iterator:\n\u001B[1;32m    623\u001B[0m     \u001B[38;5;28;01mreturn\u001B[39;00m parser\n",
      "File \u001B[0;32m/Library/Frameworks/Python.framework/Versions/3.11/lib/python3.11/site-packages/pandas/io/parsers/readers.py:1620\u001B[0m, in \u001B[0;36mTextFileReader.__init__\u001B[0;34m(self, f, engine, **kwds)\u001B[0m\n\u001B[1;32m   1617\u001B[0m     \u001B[38;5;28mself\u001B[39m\u001B[38;5;241m.\u001B[39moptions[\u001B[38;5;124m\"\u001B[39m\u001B[38;5;124mhas_index_names\u001B[39m\u001B[38;5;124m\"\u001B[39m] \u001B[38;5;241m=\u001B[39m kwds[\u001B[38;5;124m\"\u001B[39m\u001B[38;5;124mhas_index_names\u001B[39m\u001B[38;5;124m\"\u001B[39m]\n\u001B[1;32m   1619\u001B[0m \u001B[38;5;28mself\u001B[39m\u001B[38;5;241m.\u001B[39mhandles: IOHandles \u001B[38;5;241m|\u001B[39m \u001B[38;5;28;01mNone\u001B[39;00m \u001B[38;5;241m=\u001B[39m \u001B[38;5;28;01mNone\u001B[39;00m\n\u001B[0;32m-> 1620\u001B[0m \u001B[38;5;28mself\u001B[39m\u001B[38;5;241m.\u001B[39m_engine \u001B[38;5;241m=\u001B[39m \u001B[38;5;28;43mself\u001B[39;49m\u001B[38;5;241;43m.\u001B[39;49m\u001B[43m_make_engine\u001B[49m\u001B[43m(\u001B[49m\u001B[43mf\u001B[49m\u001B[43m,\u001B[49m\u001B[43m \u001B[49m\u001B[38;5;28;43mself\u001B[39;49m\u001B[38;5;241;43m.\u001B[39;49m\u001B[43mengine\u001B[49m\u001B[43m)\u001B[49m\n",
      "File \u001B[0;32m/Library/Frameworks/Python.framework/Versions/3.11/lib/python3.11/site-packages/pandas/io/parsers/readers.py:1880\u001B[0m, in \u001B[0;36mTextFileReader._make_engine\u001B[0;34m(self, f, engine)\u001B[0m\n\u001B[1;32m   1878\u001B[0m     \u001B[38;5;28;01mif\u001B[39;00m \u001B[38;5;124m\"\u001B[39m\u001B[38;5;124mb\u001B[39m\u001B[38;5;124m\"\u001B[39m \u001B[38;5;129;01mnot\u001B[39;00m \u001B[38;5;129;01min\u001B[39;00m mode:\n\u001B[1;32m   1879\u001B[0m         mode \u001B[38;5;241m+\u001B[39m\u001B[38;5;241m=\u001B[39m \u001B[38;5;124m\"\u001B[39m\u001B[38;5;124mb\u001B[39m\u001B[38;5;124m\"\u001B[39m\n\u001B[0;32m-> 1880\u001B[0m \u001B[38;5;28mself\u001B[39m\u001B[38;5;241m.\u001B[39mhandles \u001B[38;5;241m=\u001B[39m \u001B[43mget_handle\u001B[49m\u001B[43m(\u001B[49m\n\u001B[1;32m   1881\u001B[0m \u001B[43m    \u001B[49m\u001B[43mf\u001B[49m\u001B[43m,\u001B[49m\n\u001B[1;32m   1882\u001B[0m \u001B[43m    \u001B[49m\u001B[43mmode\u001B[49m\u001B[43m,\u001B[49m\n\u001B[1;32m   1883\u001B[0m \u001B[43m    \u001B[49m\u001B[43mencoding\u001B[49m\u001B[38;5;241;43m=\u001B[39;49m\u001B[38;5;28;43mself\u001B[39;49m\u001B[38;5;241;43m.\u001B[39;49m\u001B[43moptions\u001B[49m\u001B[38;5;241;43m.\u001B[39;49m\u001B[43mget\u001B[49m\u001B[43m(\u001B[49m\u001B[38;5;124;43m\"\u001B[39;49m\u001B[38;5;124;43mencoding\u001B[39;49m\u001B[38;5;124;43m\"\u001B[39;49m\u001B[43m,\u001B[49m\u001B[43m \u001B[49m\u001B[38;5;28;43;01mNone\u001B[39;49;00m\u001B[43m)\u001B[49m\u001B[43m,\u001B[49m\n\u001B[1;32m   1884\u001B[0m \u001B[43m    \u001B[49m\u001B[43mcompression\u001B[49m\u001B[38;5;241;43m=\u001B[39;49m\u001B[38;5;28;43mself\u001B[39;49m\u001B[38;5;241;43m.\u001B[39;49m\u001B[43moptions\u001B[49m\u001B[38;5;241;43m.\u001B[39;49m\u001B[43mget\u001B[49m\u001B[43m(\u001B[49m\u001B[38;5;124;43m\"\u001B[39;49m\u001B[38;5;124;43mcompression\u001B[39;49m\u001B[38;5;124;43m\"\u001B[39;49m\u001B[43m,\u001B[49m\u001B[43m \u001B[49m\u001B[38;5;28;43;01mNone\u001B[39;49;00m\u001B[43m)\u001B[49m\u001B[43m,\u001B[49m\n\u001B[1;32m   1885\u001B[0m \u001B[43m    \u001B[49m\u001B[43mmemory_map\u001B[49m\u001B[38;5;241;43m=\u001B[39;49m\u001B[38;5;28;43mself\u001B[39;49m\u001B[38;5;241;43m.\u001B[39;49m\u001B[43moptions\u001B[49m\u001B[38;5;241;43m.\u001B[39;49m\u001B[43mget\u001B[49m\u001B[43m(\u001B[49m\u001B[38;5;124;43m\"\u001B[39;49m\u001B[38;5;124;43mmemory_map\u001B[39;49m\u001B[38;5;124;43m\"\u001B[39;49m\u001B[43m,\u001B[49m\u001B[43m \u001B[49m\u001B[38;5;28;43;01mFalse\u001B[39;49;00m\u001B[43m)\u001B[49m\u001B[43m,\u001B[49m\n\u001B[1;32m   1886\u001B[0m \u001B[43m    \u001B[49m\u001B[43mis_text\u001B[49m\u001B[38;5;241;43m=\u001B[39;49m\u001B[43mis_text\u001B[49m\u001B[43m,\u001B[49m\n\u001B[1;32m   1887\u001B[0m \u001B[43m    \u001B[49m\u001B[43merrors\u001B[49m\u001B[38;5;241;43m=\u001B[39;49m\u001B[38;5;28;43mself\u001B[39;49m\u001B[38;5;241;43m.\u001B[39;49m\u001B[43moptions\u001B[49m\u001B[38;5;241;43m.\u001B[39;49m\u001B[43mget\u001B[49m\u001B[43m(\u001B[49m\u001B[38;5;124;43m\"\u001B[39;49m\u001B[38;5;124;43mencoding_errors\u001B[39;49m\u001B[38;5;124;43m\"\u001B[39;49m\u001B[43m,\u001B[49m\u001B[43m \u001B[49m\u001B[38;5;124;43m\"\u001B[39;49m\u001B[38;5;124;43mstrict\u001B[39;49m\u001B[38;5;124;43m\"\u001B[39;49m\u001B[43m)\u001B[49m\u001B[43m,\u001B[49m\n\u001B[1;32m   1888\u001B[0m \u001B[43m    \u001B[49m\u001B[43mstorage_options\u001B[49m\u001B[38;5;241;43m=\u001B[39;49m\u001B[38;5;28;43mself\u001B[39;49m\u001B[38;5;241;43m.\u001B[39;49m\u001B[43moptions\u001B[49m\u001B[38;5;241;43m.\u001B[39;49m\u001B[43mget\u001B[49m\u001B[43m(\u001B[49m\u001B[38;5;124;43m\"\u001B[39;49m\u001B[38;5;124;43mstorage_options\u001B[39;49m\u001B[38;5;124;43m\"\u001B[39;49m\u001B[43m,\u001B[49m\u001B[43m \u001B[49m\u001B[38;5;28;43;01mNone\u001B[39;49;00m\u001B[43m)\u001B[49m\u001B[43m,\u001B[49m\n\u001B[1;32m   1889\u001B[0m \u001B[43m\u001B[49m\u001B[43m)\u001B[49m\n\u001B[1;32m   1890\u001B[0m \u001B[38;5;28;01massert\u001B[39;00m \u001B[38;5;28mself\u001B[39m\u001B[38;5;241m.\u001B[39mhandles \u001B[38;5;129;01mis\u001B[39;00m \u001B[38;5;129;01mnot\u001B[39;00m \u001B[38;5;28;01mNone\u001B[39;00m\n\u001B[1;32m   1891\u001B[0m f \u001B[38;5;241m=\u001B[39m \u001B[38;5;28mself\u001B[39m\u001B[38;5;241m.\u001B[39mhandles\u001B[38;5;241m.\u001B[39mhandle\n",
      "File \u001B[0;32m/Library/Frameworks/Python.framework/Versions/3.11/lib/python3.11/site-packages/pandas/io/common.py:873\u001B[0m, in \u001B[0;36mget_handle\u001B[0;34m(path_or_buf, mode, encoding, compression, memory_map, is_text, errors, storage_options)\u001B[0m\n\u001B[1;32m    868\u001B[0m \u001B[38;5;28;01melif\u001B[39;00m \u001B[38;5;28misinstance\u001B[39m(handle, \u001B[38;5;28mstr\u001B[39m):\n\u001B[1;32m    869\u001B[0m     \u001B[38;5;66;03m# Check whether the filename is to be opened in binary mode.\u001B[39;00m\n\u001B[1;32m    870\u001B[0m     \u001B[38;5;66;03m# Binary mode does not support 'encoding' and 'newline'.\u001B[39;00m\n\u001B[1;32m    871\u001B[0m     \u001B[38;5;28;01mif\u001B[39;00m ioargs\u001B[38;5;241m.\u001B[39mencoding \u001B[38;5;129;01mand\u001B[39;00m \u001B[38;5;124m\"\u001B[39m\u001B[38;5;124mb\u001B[39m\u001B[38;5;124m\"\u001B[39m \u001B[38;5;129;01mnot\u001B[39;00m \u001B[38;5;129;01min\u001B[39;00m ioargs\u001B[38;5;241m.\u001B[39mmode:\n\u001B[1;32m    872\u001B[0m         \u001B[38;5;66;03m# Encoding\u001B[39;00m\n\u001B[0;32m--> 873\u001B[0m         handle \u001B[38;5;241m=\u001B[39m \u001B[38;5;28;43mopen\u001B[39;49m\u001B[43m(\u001B[49m\n\u001B[1;32m    874\u001B[0m \u001B[43m            \u001B[49m\u001B[43mhandle\u001B[49m\u001B[43m,\u001B[49m\n\u001B[1;32m    875\u001B[0m \u001B[43m            \u001B[49m\u001B[43mioargs\u001B[49m\u001B[38;5;241;43m.\u001B[39;49m\u001B[43mmode\u001B[49m\u001B[43m,\u001B[49m\n\u001B[1;32m    876\u001B[0m \u001B[43m            \u001B[49m\u001B[43mencoding\u001B[49m\u001B[38;5;241;43m=\u001B[39;49m\u001B[43mioargs\u001B[49m\u001B[38;5;241;43m.\u001B[39;49m\u001B[43mencoding\u001B[49m\u001B[43m,\u001B[49m\n\u001B[1;32m    877\u001B[0m \u001B[43m            \u001B[49m\u001B[43merrors\u001B[49m\u001B[38;5;241;43m=\u001B[39;49m\u001B[43merrors\u001B[49m\u001B[43m,\u001B[49m\n\u001B[1;32m    878\u001B[0m \u001B[43m            \u001B[49m\u001B[43mnewline\u001B[49m\u001B[38;5;241;43m=\u001B[39;49m\u001B[38;5;124;43m\"\u001B[39;49m\u001B[38;5;124;43m\"\u001B[39;49m\u001B[43m,\u001B[49m\n\u001B[1;32m    879\u001B[0m \u001B[43m        \u001B[49m\u001B[43m)\u001B[49m\n\u001B[1;32m    880\u001B[0m     \u001B[38;5;28;01melse\u001B[39;00m:\n\u001B[1;32m    881\u001B[0m         \u001B[38;5;66;03m# Binary mode\u001B[39;00m\n\u001B[1;32m    882\u001B[0m         handle \u001B[38;5;241m=\u001B[39m \u001B[38;5;28mopen\u001B[39m(handle, ioargs\u001B[38;5;241m.\u001B[39mmode)\n",
      "\u001B[0;31mFileNotFoundError\u001B[0m: [Errno 2] No such file or directory: 'heartdiseaes/processed.cleveland.data'"
     ]
    }
   ],
   "execution_count": 21
  },
  {
   "cell_type": "code",
   "metadata": {
    "execution": {
     "iopub.execute_input": "2024-09-29T02:38:31.392688Z",
     "iopub.status.busy": "2024-09-29T02:38:31.392141Z",
     "iopub.status.idle": "2024-09-29T02:38:31.405524Z",
     "shell.execute_reply": "2024-09-29T02:38:31.404095Z",
     "shell.execute_reply.started": "2024-09-29T02:38:31.392627Z"
    },
    "trusted": true
   },
   "source": [
    "for i in df_heart.itertuples():\n",
    "    tup = i\n",
    "    for j in tup:\n",
    "        if j == '?':\n",
    "            print(tup)"
   ],
   "outputs": [],
   "execution_count": null
  },
  {
   "cell_type": "code",
   "metadata": {
    "execution": {
     "iopub.execute_input": "2024-09-29T02:38:31.408408Z",
     "iopub.status.busy": "2024-09-29T02:38:31.407884Z",
     "iopub.status.idle": "2024-09-29T02:38:31.416958Z",
     "shell.execute_reply": "2024-09-29T02:38:31.415460Z",
     "shell.execute_reply.started": "2024-09-29T02:38:31.408347Z"
    },
    "trusted": true
   },
   "source": [
    "row_nums = [87,166,192,266,287,302]\n",
    "df_heart = df_heart.drop(row_nums)"
   ],
   "outputs": [],
   "execution_count": null
  },
  {
   "cell_type": "code",
   "metadata": {
    "execution": {
     "iopub.execute_input": "2024-09-29T02:38:31.419273Z",
     "iopub.status.busy": "2024-09-29T02:38:31.418640Z",
     "iopub.status.idle": "2024-09-29T02:38:31.433610Z",
     "shell.execute_reply": "2024-09-29T02:38:31.432260Z",
     "shell.execute_reply.started": "2024-09-29T02:38:31.419218Z"
    },
    "trusted": true
   },
   "source": [
    "df_heart.dtypes"
   ],
   "outputs": [],
   "execution_count": null
  },
  {
   "cell_type": "code",
   "metadata": {
    "execution": {
     "iopub.execute_input": "2024-09-29T02:38:31.436206Z",
     "iopub.status.busy": "2024-09-29T02:38:31.435683Z",
     "iopub.status.idle": "2024-09-29T02:38:31.445886Z",
     "shell.execute_reply": "2024-09-29T02:38:31.444565Z",
     "shell.execute_reply.started": "2024-09-29T02:38:31.436148Z"
    },
    "trusted": true,
    "ExecuteTime": {
     "end_time": "2025-03-15T01:40:26.536232Z",
     "start_time": "2025-03-15T01:40:26.528183Z"
    }
   },
   "source": [
    "df_heart['ca'] = pd.to_numeric(df_heart['ca'])"
   ],
   "outputs": [
    {
     "ename": "NameError",
     "evalue": "name 'df_heart' is not defined",
     "output_type": "error",
     "traceback": [
      "\u001B[0;31m---------------------------------------------------------------------------\u001B[0m",
      "\u001B[0;31mNameError\u001B[0m                                 Traceback (most recent call last)",
      "Cell \u001B[0;32mIn[22], line 1\u001B[0m\n\u001B[0;32m----> 1\u001B[0m df_heart[\u001B[38;5;124m'\u001B[39m\u001B[38;5;124mca\u001B[39m\u001B[38;5;124m'\u001B[39m] \u001B[38;5;241m=\u001B[39m pd\u001B[38;5;241m.\u001B[39mto_numeric(\u001B[43mdf_heart\u001B[49m[\u001B[38;5;124m'\u001B[39m\u001B[38;5;124mca\u001B[39m\u001B[38;5;124m'\u001B[39m])\n",
      "\u001B[0;31mNameError\u001B[0m: name 'df_heart' is not defined"
     ]
    }
   ],
   "execution_count": 22
  },
  {
   "cell_type": "code",
   "metadata": {
    "execution": {
     "iopub.execute_input": "2024-09-29T02:38:31.448012Z",
     "iopub.status.busy": "2024-09-29T02:38:31.447471Z",
     "iopub.status.idle": "2024-09-29T02:38:31.458600Z",
     "shell.execute_reply": "2024-09-29T02:38:31.457192Z",
     "shell.execute_reply.started": "2024-09-29T02:38:31.447961Z"
    },
    "trusted": true,
    "ExecuteTime": {
     "end_time": "2025-03-15T01:40:26.646264Z",
     "start_time": "2025-03-15T01:40:26.638670Z"
    }
   },
   "source": [
    "df_heart['thal'] = pd.to_numeric(df_heart['thal'])"
   ],
   "outputs": [
    {
     "ename": "NameError",
     "evalue": "name 'df_heart' is not defined",
     "output_type": "error",
     "traceback": [
      "\u001B[0;31m---------------------------------------------------------------------------\u001B[0m",
      "\u001B[0;31mNameError\u001B[0m                                 Traceback (most recent call last)",
      "Cell \u001B[0;32mIn[23], line 1\u001B[0m\n\u001B[0;32m----> 1\u001B[0m df_heart[\u001B[38;5;124m'\u001B[39m\u001B[38;5;124mthal\u001B[39m\u001B[38;5;124m'\u001B[39m] \u001B[38;5;241m=\u001B[39m pd\u001B[38;5;241m.\u001B[39mto_numeric(\u001B[43mdf_heart\u001B[49m[\u001B[38;5;124m'\u001B[39m\u001B[38;5;124mthal\u001B[39m\u001B[38;5;124m'\u001B[39m])\n",
      "\u001B[0;31mNameError\u001B[0m: name 'df_heart' is not defined"
     ]
    }
   ],
   "execution_count": 23
  },
  {
   "cell_type": "code",
   "metadata": {
    "execution": {
     "iopub.execute_input": "2024-09-29T02:38:31.461062Z",
     "iopub.status.busy": "2024-09-29T02:38:31.460655Z",
     "iopub.status.idle": "2024-09-29T02:38:31.472797Z",
     "shell.execute_reply": "2024-09-29T02:38:31.471242Z",
     "shell.execute_reply.started": "2024-09-29T02:38:31.461017Z"
    },
    "trusted": true,
    "ExecuteTime": {
     "end_time": "2025-03-15T01:40:27.177418Z",
     "start_time": "2025-03-15T01:40:27.169255Z"
    }
   },
   "source": [
    "df_heart['num'] = df_heart['num'].replace([1,2,3,4], 1)"
   ],
   "outputs": [
    {
     "ename": "NameError",
     "evalue": "name 'df_heart' is not defined",
     "output_type": "error",
     "traceback": [
      "\u001B[0;31m---------------------------------------------------------------------------\u001B[0m",
      "\u001B[0;31mNameError\u001B[0m                                 Traceback (most recent call last)",
      "Cell \u001B[0;32mIn[24], line 1\u001B[0m\n\u001B[0;32m----> 1\u001B[0m df_heart[\u001B[38;5;124m'\u001B[39m\u001B[38;5;124mnum\u001B[39m\u001B[38;5;124m'\u001B[39m] \u001B[38;5;241m=\u001B[39m \u001B[43mdf_heart\u001B[49m[\u001B[38;5;124m'\u001B[39m\u001B[38;5;124mnum\u001B[39m\u001B[38;5;124m'\u001B[39m]\u001B[38;5;241m.\u001B[39mreplace([\u001B[38;5;241m1\u001B[39m,\u001B[38;5;241m2\u001B[39m,\u001B[38;5;241m3\u001B[39m,\u001B[38;5;241m4\u001B[39m], \u001B[38;5;241m1\u001B[39m)\n",
      "\u001B[0;31mNameError\u001B[0m: name 'df_heart' is not defined"
     ]
    }
   ],
   "execution_count": 24
  },
  {
   "cell_type": "code",
   "metadata": {
    "execution": {
     "iopub.execute_input": "2024-09-29T02:38:31.475142Z",
     "iopub.status.busy": "2024-09-29T02:38:31.474676Z",
     "iopub.status.idle": "2024-09-29T02:38:31.485571Z",
     "shell.execute_reply": "2024-09-29T02:38:31.484055Z",
     "shell.execute_reply.started": "2024-09-29T02:38:31.475093Z"
    },
    "trusted": true,
    "ExecuteTime": {
     "end_time": "2025-03-15T01:40:27.250875Z",
     "start_time": "2025-03-15T01:40:27.248786Z"
    }
   },
   "source": [
    "def standardizer(df):\n",
    "    \n",
    "    temp_df = df.copy()\n",
    "    \n",
    "    for col in temp_df.columns[:-1]:\n",
    "        \n",
    "        temp_df[col] = (temp_df[col] - temp_df[col].mean())/temp_df[col].std()\n",
    "        \n",
    "    return temp_df"
   ],
   "outputs": [],
   "execution_count": 25
  },
  {
   "cell_type": "code",
   "metadata": {
    "execution": {
     "iopub.execute_input": "2024-09-29T02:38:31.487758Z",
     "iopub.status.busy": "2024-09-29T02:38:31.487308Z",
     "iopub.status.idle": "2024-09-29T02:38:31.510941Z",
     "shell.execute_reply": "2024-09-29T02:38:31.509628Z",
     "shell.execute_reply.started": "2024-09-29T02:38:31.487713Z"
    },
    "trusted": true,
    "ExecuteTime": {
     "end_time": "2025-03-15T01:40:27.279096Z",
     "start_time": "2025-03-15T01:40:27.271781Z"
    }
   },
   "source": [
    "df_heart_standardized = standardizer(df_heart)"
   ],
   "outputs": [
    {
     "ename": "NameError",
     "evalue": "name 'df_heart' is not defined",
     "output_type": "error",
     "traceback": [
      "\u001B[0;31m---------------------------------------------------------------------------\u001B[0m",
      "\u001B[0;31mNameError\u001B[0m                                 Traceback (most recent call last)",
      "Cell \u001B[0;32mIn[26], line 1\u001B[0m\n\u001B[0;32m----> 1\u001B[0m df_heart_standardized \u001B[38;5;241m=\u001B[39m standardizer(\u001B[43mdf_heart\u001B[49m)\n",
      "\u001B[0;31mNameError\u001B[0m: name 'df_heart' is not defined"
     ]
    }
   ],
   "execution_count": 26
  },
  {
   "cell_type": "code",
   "metadata": {
    "execution": {
     "iopub.execute_input": "2024-09-29T02:38:31.513367Z",
     "iopub.status.busy": "2024-09-29T02:38:31.512839Z",
     "iopub.status.idle": "2024-09-29T02:38:31.545711Z",
     "shell.execute_reply": "2024-09-29T02:38:31.544242Z",
     "shell.execute_reply.started": "2024-09-29T02:38:31.513310Z"
    },
    "trusted": true,
    "ExecuteTime": {
     "end_time": "2025-03-15T01:40:27.376805Z",
     "start_time": "2025-03-15T01:40:27.369109Z"
    }
   },
   "source": [
    "df_heart.head()"
   ],
   "outputs": [
    {
     "ename": "NameError",
     "evalue": "name 'df_heart' is not defined",
     "output_type": "error",
     "traceback": [
      "\u001B[0;31m---------------------------------------------------------------------------\u001B[0m",
      "\u001B[0;31mNameError\u001B[0m                                 Traceback (most recent call last)",
      "Cell \u001B[0;32mIn[27], line 1\u001B[0m\n\u001B[0;32m----> 1\u001B[0m \u001B[43mdf_heart\u001B[49m\u001B[38;5;241m.\u001B[39mhead()\n",
      "\u001B[0;31mNameError\u001B[0m: name 'df_heart' is not defined"
     ]
    }
   ],
   "execution_count": 27
  },
  {
   "cell_type": "code",
   "metadata": {
    "execution": {
     "iopub.execute_input": "2024-09-29T02:38:31.548455Z",
     "iopub.status.busy": "2024-09-29T02:38:31.547558Z",
     "iopub.status.idle": "2024-09-29T02:38:31.572580Z",
     "shell.execute_reply": "2024-09-29T02:38:31.571165Z",
     "shell.execute_reply.started": "2024-09-29T02:38:31.548393Z"
    },
    "trusted": true,
    "ExecuteTime": {
     "end_time": "2025-03-15T01:40:27.446917Z",
     "start_time": "2025-03-15T01:40:27.438841Z"
    }
   },
   "source": [
    "df_heart_standardized.head()"
   ],
   "outputs": [
    {
     "ename": "NameError",
     "evalue": "name 'df_heart_standardized' is not defined",
     "output_type": "error",
     "traceback": [
      "\u001B[0;31m---------------------------------------------------------------------------\u001B[0m",
      "\u001B[0;31mNameError\u001B[0m                                 Traceback (most recent call last)",
      "Cell \u001B[0;32mIn[28], line 1\u001B[0m\n\u001B[0;32m----> 1\u001B[0m \u001B[43mdf_heart_standardized\u001B[49m\u001B[38;5;241m.\u001B[39mhead()\n",
      "\u001B[0;31mNameError\u001B[0m: name 'df_heart_standardized' is not defined"
     ]
    }
   ],
   "execution_count": 28
  },
  {
   "cell_type": "code",
   "metadata": {
    "execution": {
     "iopub.execute_input": "2024-09-29T02:38:31.575473Z",
     "iopub.status.busy": "2024-09-29T02:38:31.574967Z",
     "iopub.status.idle": "2024-09-29T02:38:31.582385Z",
     "shell.execute_reply": "2024-09-29T02:38:31.581216Z",
     "shell.execute_reply.started": "2024-09-29T02:38:31.575413Z"
    },
    "trusted": true,
    "ExecuteTime": {
     "end_time": "2025-03-15T01:40:27.528048Z",
     "start_time": "2025-03-15T01:40:27.519018Z"
    }
   },
   "source": [
    "sim_len = 100\n",
    "label_col = 'num'\n",
    "pos_label = 1\n",
    "neg_label = 0\n",
    "size = .5\n",
    "num_of_rand = 100\n",
    "heart_avg_info_gain_df, heart_avg_info_gain_array, heart_X_test, heart_y_test, heart_X_train, heart_y_train = run_simulation(sim_len, df_heart_standardized, label_col, pos_label, neg_label, size, num_of_rand)"
   ],
   "outputs": [
    {
     "ename": "NameError",
     "evalue": "name 'df_heart_standardized' is not defined",
     "output_type": "error",
     "traceback": [
      "\u001B[0;31m---------------------------------------------------------------------------\u001B[0m",
      "\u001B[0;31mNameError\u001B[0m                                 Traceback (most recent call last)",
      "Cell \u001B[0;32mIn[29], line 7\u001B[0m\n\u001B[1;32m      5\u001B[0m size \u001B[38;5;241m=\u001B[39m \u001B[38;5;241m.5\u001B[39m\n\u001B[1;32m      6\u001B[0m num_of_rand \u001B[38;5;241m=\u001B[39m \u001B[38;5;241m100\u001B[39m\n\u001B[0;32m----> 7\u001B[0m heart_avg_info_gain_df, heart_avg_info_gain_array, heart_X_test, heart_y_test, heart_X_train, heart_y_train \u001B[38;5;241m=\u001B[39m run_simulation(sim_len, \u001B[43mdf_heart_standardized\u001B[49m, label_col, pos_label, neg_label, size, num_of_rand)\n",
      "\u001B[0;31mNameError\u001B[0m: name 'df_heart_standardized' is not defined"
     ]
    }
   ],
   "execution_count": 29
  },
  {
   "cell_type": "markdown",
   "metadata": {},
   "source": [
    "<p>1st process is getting sqaured difference </p>\n",
    "<p>2nd weights dot squared diff </p>\n",
    "<p>3rd sort resulting list</p>\n",
    "<p>4th return k neighbors </p>\n",
    "<p> 5th classify</p>"
   ]
  },
  {
   "cell_type": "code",
   "metadata": {
    "execution": {
     "iopub.execute_input": "2024-09-29T02:38:31.622058Z",
     "iopub.status.busy": "2024-09-29T02:38:31.621635Z",
     "iopub.status.idle": "2024-09-29T02:38:31.635871Z",
     "shell.execute_reply": "2024-09-29T02:38:31.634532Z",
     "shell.execute_reply.started": "2024-09-29T02:38:31.622002Z"
    },
    "trusted": true,
    "ExecuteTime": {
     "end_time": "2025-03-15T01:40:27.584075Z",
     "start_time": "2025-03-15T01:40:27.580531Z"
    }
   },
   "source": [
    "#a and b are rows here. \n",
    "def Euclid_Distance(a,b,weights,Columns,Class):\n",
    "    c=Columns \n",
    "    D=0\n",
    "    for i in range(len(c)-1):\n",
    "        if c[i]!=Class:\n",
    "            D+=(weights[i]**2)*(float(a[c[i]])-float(b[c[i]]))**2\n",
    "    return D**0.5\n",
    "\n",
    "\n",
    "def Nearest_Neighbors(point,List_Pot_Nbrs,weights,Class_Col_Name):\n",
    "    ClassWithDistance=[]\n",
    "    d=0\n",
    "    for n in range(len(List_Pot_Nbrs)):\n",
    "        d=Euclid_Distance(point,List_Pot_Nbrs.iloc[n],weights,List_Pot_Nbrs.columns,Class_Col_Name)\n",
    "        ClassWithDistance+=[[d,List_Pot_Nbrs.iloc[n][Class_Col_Name]]]\n",
    "    sorted_list = sorted(ClassWithDistance, key=lambda x: x[0])\n",
    "    \n",
    "    return sorted_list\n",
    "\n",
    "def KNN(k,Sorted_List):\n",
    "    Sum=0\n",
    "    for i in range(k):\n",
    "        if Sorted_List[i][1]==1:\n",
    "            Sum+=1\n",
    "    if Sum>k/2:\n",
    "        return 1\n",
    "    else:\n",
    "        return 0\n",
    "    \n",
    "def ConfusionMatrix(TrP,TrN,FaP,FaN):\n",
    "    print(\"         Confusion Matrix\")\n",
    "    print(\"TN,FP: \",TrN, \"    ,    \", FaP)\n",
    "    print(\"FN,TP: \",FaN,\"     ,    \", TrP)\n"
   ],
   "outputs": [],
   "execution_count": 30
  },
  {
   "cell_type": "code",
   "metadata": {
    "ExecuteTime": {
     "end_time": "2025-03-15T01:40:27.696605Z",
     "start_time": "2025-03-15T01:40:27.695064Z"
    }
   },
   "source": [
    "def specificity_score(TN,FP):\n",
    "    \n",
    "    return TN/(TN+FP)"
   ],
   "outputs": [],
   "execution_count": 31
  },
  {
   "cell_type": "code",
   "metadata": {
    "execution": {
     "iopub.execute_input": "2024-09-29T02:38:31.637795Z",
     "iopub.status.busy": "2024-09-29T02:38:31.637085Z",
     "iopub.status.idle": "2024-09-29T03:15:08.233315Z",
     "shell.execute_reply": "2024-09-29T03:15:08.231719Z",
     "shell.execute_reply.started": "2024-09-29T02:38:31.637734Z"
    },
    "trusted": true,
    "ExecuteTime": {
     "end_time": "2025-03-15T01:40:27.784045Z",
     "start_time": "2025-03-15T01:40:27.733801Z"
    }
   },
   "source": [
    "from sklearn.metrics import confusion_matrix\n",
    "\n",
    "avg_acc = []\n",
    "avg_precision = []\n",
    "avg_recall = []\n",
    "avg_f1 = []\n",
    "avg_specificity = []\n",
    "\n",
    "weight_avg_acc = []\n",
    "weight_avg_precision = []\n",
    "weight_avg_recall = []\n",
    "weight_avg_f1 = []\n",
    "weight_avg_specificity = []\n",
    "\n",
    "dropped_weight_avg_acc = []\n",
    "dropped_weight_avg_precision = []\n",
    "dropped_weight_avg_recall = []\n",
    "dropped_weight_avg_f1 = []\n",
    "dropped_weight_avg_specificity = []\n",
    "\n",
    "pca_avg_acc = []\n",
    "pca_avg_precision = []\n",
    "pca_avg_recall = []\n",
    "pca_avg_f1 = []\n",
    "pca_avg_specificity = []\n",
    "\n",
    "pca_explained_variance_acc = []\n",
    "pca_explained_variance_precision = []\n",
    "pca_explained_variance_recall = []\n",
    "pca_explained_variance_f1 = []\n",
    "pca_explained_variance_specificity = []\n",
    "\n",
    "NN_acc = []\n",
    "NN_precision = []\n",
    "NN_recall = []\n",
    "NN_f1 = []\n",
    "NN_specificity = []\n",
    "\n",
    "RFC_acc = []\n",
    "RFC_precision = []\n",
    "RFC_recall = []\n",
    "RFC_f1 = []\n",
    "RFC_specificity = []\n",
    "\n",
    "XGB_acc = []\n",
    "XGB_precision = []\n",
    "XGB_recall = []\n",
    "XGB_f1 = []\n",
    "XGB_specificity = []\n",
    "\n",
    "sim_len = 50\n",
    "label_col = 'num'\n",
    "pos_label = 1\n",
    "neg_label = 0\n",
    "size = .5\n",
    "num_of_rand = 100\n",
    "\n",
    "heart_swagger = []\n",
    "\n",
    "\n",
    "# Loops the length of the simulation\n",
    "\n",
    "for i in range(sim_len):\n",
    "    \n",
    "    heart_avg_info_gain_df, heart_avg_info_gain_array, heart_X_test, heart_y_test, heart_X_train, heart_y_train = run_simulation(sim_len, df_heart_standardized, label_col, pos_label, neg_label, size, num_of_rand)\n",
    "    Train_Data =  pd.concat([heart_X_train, heart_y_train], axis=1)\n",
    "    Test_Data = pd.concat([heart_X_test, heart_y_test], axis=1)\n",
    "    \n",
    "    TP=0\n",
    "    TN=0\n",
    "    FP=0\n",
    "    FN=0\n",
    "    \n",
    "    \n",
    "    # non weighted k-NN for all attributes\n",
    "    for p in range(len(Test_Data)):\n",
    "        point=Test_Data.iloc[p]\n",
    "        NBRS=Nearest_Neighbors(point, Train_Data, [1,1,1,1,1,1,1,1,1,1,1,1,1], \"num\")\n",
    "        Label=KNN(3,NBRS)\n",
    "        if (Label==point[\"num\"] and Label==1):\n",
    "            TP+=1\n",
    "        if (Label==point[\"num\"] and Label==0):\n",
    "            TN+=1\n",
    "        if (Label!=point[\"num\"] and Label==1):\n",
    "            FP+=1\n",
    "        if (Label!=point[\"num\"] and Label==0):\n",
    "            FN+=1\n",
    "    A_non_weighted=(TP+TN)/(TP+TN+FP+FN)\n",
    "    precision_non_weighted = TP/(TP+FP)\n",
    "    recall_non_weighted = TP/(TP+FN)\n",
    "    f1_non_weighted = (2 * precision_non_weighted * recall_non_weighted)/(precision_non_weighted+recall_non_weighted)\n",
    "    specificity_non_weighted = specificity_score(TN,FP)\n",
    "    \n",
    "    \n",
    "#     print(\"Accurecy:\", A)\n",
    "#     ConfusionMatrix(TP,TN,FP,FN)\n",
    "    avg_acc.append(A_non_weighted*100)\n",
    "    avg_precision.append(precision_non_weighted*100)\n",
    "    avg_recall.append(recall_non_weighted*100)\n",
    "    avg_f1.append(f1_non_weighted*100)\n",
    "    avg_specificity.append(specificity_non_weighted*100)\n",
    "\n",
    "    TP=0\n",
    "    TN=0\n",
    "    FP=0\n",
    "    FN=0\n",
    "\n",
    "    # weighted information gain k-NN with all attributes \n",
    "    for p in range(len(Test_Data)):\n",
    "        point=Test_Data.iloc[p]\n",
    "        NBRS=Nearest_Neighbors(point, Train_Data,  heart_avg_info_gain_array, \"num\")\n",
    "        Label=KNN(3,NBRS)\n",
    "        if (Label==point[\"num\"] and Label==1):\n",
    "            TP+=1\n",
    "        if (Label==point[\"num\"] and Label==0):\n",
    "            TN+=1\n",
    "        if (Label!=point[\"num\"] and Label==1):\n",
    "            FP+=1\n",
    "        if (Label!=point[\"num\"] and Label==0):\n",
    "            FN+=1\n",
    "    A_weighted=(TP+TN)/(TP+TN+FP+FN)\n",
    "    precision_weighted = TP/(TP+FP)\n",
    "    recall_weighted = TP/(TP+FN)\n",
    "    f1_weighted = (2 * precision_weighted * recall_weighted)/(precision_weighted+recall_weighted)\n",
    "    specificity_weighted = specificity_score(TN,FP)\n",
    "\n",
    "    weight_avg_acc.append(A_weighted*100)\n",
    "    weight_avg_precision.append(precision_weighted*100)\n",
    "    weight_avg_recall.append(recall_weighted*100)\n",
    "    weight_avg_f1.append(f1_weighted*100)\n",
    "    weight_avg_specificity.append(specificity_weighted*100)\n",
    "    \n",
    "    # dropping some columns as feature selections\n",
    "    alpha = .1\n",
    "    count = 0\n",
    "    heart_swagger = []\n",
    "    heart_indices = []  # Array to store the indices\n",
    "\n",
    "    for idx, ig in enumerate(heart_avg_info_gain_array):\n",
    "        if ((ig / max(heart_avg_info_gain_array)) ** 2 < alpha):\n",
    "            count += 1\n",
    "            heart_indices.append(idx)  # Append the index\n",
    "        else:\n",
    "            heart_swagger.append(ig)\n",
    "\n",
    "    dropped_heart_X_train = heart_X_train.drop(heart_X_train.columns[heart_indices],axis=1)\n",
    "    dropped_heart_X_test = heart_X_test.drop(heart_X_test.columns[heart_indices],axis=1)\n",
    "\n",
    "    Train_Data =  pd.concat([dropped_heart_X_train, heart_y_train], axis=1)\n",
    "    Test_Data = pd.concat([dropped_heart_X_test, heart_y_test], axis=1)\n",
    "\n",
    "    TP=0\n",
    "    TN=0\n",
    "    FP=0\n",
    "    FN=0\n",
    "\n",
    "    # weighted k-NN with dropped columns using information gain with dropped columns\n",
    "    for p in range(len(Test_Data)):\n",
    "        point=Test_Data.iloc[p]\n",
    "        NBRS=Nearest_Neighbors(point, Train_Data, heart_swagger , \"num\")\n",
    "        Label=KNN(3,NBRS)\n",
    "        if (Label==point[\"num\"] and Label==1):\n",
    "            TP+=1\n",
    "        if (Label==point[\"num\"] and Label==0):\n",
    "            TN+=1\n",
    "        if (Label!=point[\"num\"] and Label==1):\n",
    "            FP+=1\n",
    "        if (Label!=point[\"num\"] and Label==0):\n",
    "            FN+=1\n",
    "    A_dropped_weighted=(TP+TN)/(TP+TN+FP+FN)\n",
    "    precision_dropped_weighted = TP/(TP+FP)\n",
    "    recall_dropped_weighted = TP/(TP+FN)\n",
    "    f1_dropped_weighted = (2 * precision_dropped_weighted * recall_dropped_weighted)/(precision_dropped_weighted+recall_dropped_weighted)\n",
    "    specificity_dropped_weighted = specificity_score(TN,FP)\n",
    "\n",
    "    dropped_weight_avg_acc.append(A_dropped_weighted*100)\n",
    "    dropped_weight_avg_precision.append(precision_dropped_weighted*100)\n",
    "    dropped_weight_avg_recall.append(recall_dropped_weighted*100)\n",
    "    dropped_weight_avg_f1.append(f1_dropped_weighted*100)\n",
    "    dropped_weight_avg_specificity.append(specificity_dropped_weighted*100)\n",
    "    \n",
    "    \n",
    "    # PCA components brining all attributes to 7 \n",
    "    pca = PCA(n_components=7)\n",
    "    pc = pca.fit_transform(heart_X_train)\n",
    "    pca2 = PCA(n_components=7)\n",
    "    pc2 = pca.fit_transform(heart_X_test)\n",
    "\n",
    "    df_pca = pd.DataFrame(data=pc, columns=['principal component 1', 'principal component 2', 'principal component 3',\n",
    "                                            'principal component 4', 'principal component 5', 'principal component 6',\n",
    "                                            'principal component 7'])\n",
    "    df_pca2 = pd.DataFrame(data=pc2, columns=['principal component 1', 'principal component 2', 'principal component 3',\n",
    "                                          'principal component 4', 'principal component 5', 'principal component 6',\n",
    "                                          'principal component 7'])\n",
    "\n",
    "    final_train_pca_df = pd.concat([df_pca, heart_y_train[['num']]], axis = 1)\n",
    "    final_test_pca_df = pd.concat([df_pca2, heart_y_train[['num']]], axis = 1)\n",
    "\n",
    "    Train_Data =  final_train_pca_df\n",
    "    Test_Data = final_test_pca_df\n",
    "\n",
    "    TP=0\n",
    "    TN=0\n",
    "    FP=0\n",
    "    FN=0\n",
    "\n",
    "    # PCA k-NN\n",
    "    for p in range(len(Test_Data)):\n",
    "        point=Test_Data.iloc[p]\n",
    "        NBRS=Nearest_Neighbors(point, Train_Data, [1,1,1,1,1,1,1,1,1,1,1,1,1] , \"num\")\n",
    "        Label=KNN(3,NBRS)\n",
    "        if (Label==point[\"num\"] and Label==1):\n",
    "            TP+=1\n",
    "        if (Label==point[\"num\"] and Label==0):\n",
    "            TN+=1\n",
    "        if (Label!=point[\"num\"] and Label==1):\n",
    "            FP+=1\n",
    "        if (Label!=point[\"num\"] and Label==0):\n",
    "            FN+=1\n",
    "    \n",
    "    A_pca=(TP+TN)/(TP+TN+FP+FN)\n",
    "    precision_pca = TP/(TP+FP)\n",
    "    recall_pca = TP/(TP+FN)\n",
    "    f1_pca = (2 * precision_pca * recall_pca)/(precision_pca+recall_pca)\n",
    "    specificity_pca = specificity_score(TN,FP)\n",
    "\n",
    "    pca_avg_acc.append(A_pca*100)\n",
    "    pca_avg_precision.append(precision_pca*100)\n",
    "    pca_avg_recall.append(recall_pca*100)\n",
    "    pca_avg_f1.append(f1_pca*100)\n",
    "    pca_avg_specificity.append(specificity_pca*100)\n",
    "    \n",
    "    \n",
    "    # Explained Variance k-NN \n",
    "    ev_heart_avg_ev_df, ev_heart_avg_ev_array, ev_heart_X_test, ev_heart_y_test, ev_heart_X_train, ev_heart_y_train = mod_run_simulation(sim_len, df_heart_standardized, label_col, pos_label, neg_label, size, num_of_rand)\n",
    "\n",
    "\n",
    "    alpha = .1\n",
    "    count = 0\n",
    "    ev_heart_swagger = []\n",
    "    ev_heart_indices = []  # Array to store the indices\n",
    "\n",
    "    for idx, ev in enumerate(ev_heart_avg_ev_array):\n",
    "        if ev < (alpha ** 1 / 2)*max(ev_heart_avg_ev_array):\n",
    "            count += 1\n",
    "            ev_heart_indices.append(idx)  # Append the index\n",
    "        else:\n",
    "            ev_heart_swagger.append(ev)\n",
    "\n",
    "    ev_dropped_heart_X_train = ev_heart_X_train.drop(ev_heart_X_train.columns[ev_heart_indices],axis=1)\n",
    "    ev_dropped_heart_X_test = ev_heart_X_test.drop(ev_heart_X_test.columns[ev_heart_indices],axis=1)\n",
    "\n",
    "    Train_Data =  pd.concat([ev_dropped_heart_X_train, ev_heart_y_train], axis=1)\n",
    "    Test_Data = pd.concat([ev_dropped_heart_X_test, ev_heart_y_test], axis=1)\n",
    "\n",
    "    TP=0\n",
    "    TN=0\n",
    "    FP=0\n",
    "    FN=0\n",
    "\n",
    "\n",
    "    for p in range(len(Test_Data)):\n",
    "        point=Test_Data.iloc[p]\n",
    "        NBRS=Nearest_Neighbors(point, Train_Data, ev_heart_swagger , \"num\")\n",
    "        Label=KNN(3,NBRS)\n",
    "        if (Label==point[\"num\"] and Label==1):\n",
    "            TP+=1\n",
    "        if (Label==point[\"num\"] and Label==0):\n",
    "            TN+=1\n",
    "        if (Label!=point[\"num\"] and Label==1):\n",
    "            FP+=1\n",
    "        if (Label!=point[\"num\"] and Label==0):\n",
    "            FN+=1\n",
    "    A_pca_ev=(TP+TN)/(TP+TN+FP+FN)\n",
    "    precision_pca_ev = TP/(TP+FP)\n",
    "    recall_pca_ev = TP/(TP+FN)\n",
    "    f1_pca_ev = (2 * precision_pca_ev * recall_pca_ev)/(precision_pca_ev+recall_pca_ev)\n",
    "    specificity_pca_ev = specificity_score(TN,FP)\n",
    "\n",
    "    pca_explained_variance_acc.append(A_pca*100)\n",
    "    pca_explained_variance_precision.append(precision_pca*100)\n",
    "    pca_explained_variance_recall.append(recall_pca*100)\n",
    "    pca_explained_variance_f1.append(f1_pca*100)\n",
    "    pca_explained_variance_specificity.append(specificity_pca*100)\n",
    "    \n",
    "    \n",
    "    # Neural Network Classifier \n",
    "    clf_NN = MLPClassifier(solver='lbfgs', alpha=1e-5,\n",
    "                           hidden_layer_sizes=(5, 2), max_iter=1000, random_state=1)\n",
    "    clf_NN.fit(dropped_heart_X_train, heart_y_train.values.ravel())\n",
    "    \n",
    "    NN_prediction = clf_NN.predict(dropped_heart_X_test)\n",
    "\n",
    "    TN, FP, FN, TP = confusion_matrix(heart_y_test, NN_prediction, labels=[0, 1]).ravel()\n",
    "    \n",
    "    NN_acc.append(accuracy_score(heart_y_test, NN_prediction) * 100)\n",
    "    NN_precision.append(precision_score(heart_y_test, NN_prediction) * 100)\n",
    "    NN_recall.append(recall_score(heart_y_test, NN_prediction) * 100)\n",
    "    NN_f1.append(f1_score(heart_y_test, NN_prediction) * 100)\n",
    "    NN_specificity.append(specificity_score(TN, FP) * 100)\n",
    "    \n",
    "\n",
    "    # Random Forest Classifier \n",
    "    clf_RFC = RandomForestClassifier(max_depth=2, random_state=0)\n",
    "    clf_RFC.fit(dropped_heart_X_train, heart_y_train.values.ravel())\n",
    "\n",
    "    RFC_prediction = clf_NN.predict(dropped_heart_X_test)\n",
    "\n",
    "    TN, FP, FN, TP = confusion_matrix(heart_y_test, RFC_prediction, labels=[0, 1]).ravel()\n",
    "    \n",
    "    RFC_acc.append(accuracy_score(heart_y_test, RFC_prediction) * 100)\n",
    "    RFC_precision.append(precision_score(heart_y_test, RFC_prediction) * 100)\n",
    "    RFC_recall.append(recall_score(heart_y_test, RFC_prediction) * 100)\n",
    "    RFC_f1.append(f1_score(heart_y_test, RFC_prediction) * 100)\n",
    "    RFC_specificity.append(specificity_score(TN, FP) * 100)\n",
    "    \n",
    "    # XG Boost Classifier \n",
    "    clf_XGB = XGBClassifier(n_estimators=2, max_depth=2, learning_rate=1, objective='binary:logistic')\n",
    "\n",
    "    clf_XGB.fit(dropped_heart_X_train, heart_y_train.values.ravel())\n",
    "    \n",
    "    XGB_prediction = clf_XGB.predict(dropped_heart_X_test)\n",
    "\n",
    "    TN, FP, FN, TP = confusion_matrix(heart_y_test, XGB_prediction, labels=[0, 1]).ravel()\n",
    "    \n",
    "    XGB_acc.append(accuracy_score(heart_y_test, XGB_prediction) * 100)\n",
    "    XGB_precision.append(precision_score(heart_y_test, XGB_prediction) * 100)\n",
    "    XGB_recall.append(recall_score(heart_y_test, XGB_prediction) * 100)\n",
    "    XGB_f1.append(f1_score(heart_y_test, XGB_prediction) * 100)\n",
    "    XGB_specificity.append(specificity_score(TN, FP) * 100)"
   ],
   "outputs": [
    {
     "ename": "NameError",
     "evalue": "name 'df_heart_standardized' is not defined",
     "output_type": "error",
     "traceback": [
      "\u001B[0;31m---------------------------------------------------------------------------\u001B[0m",
      "\u001B[0;31mNameError\u001B[0m                                 Traceback (most recent call last)",
      "Cell \u001B[0;32mIn[32], line 65\u001B[0m\n\u001B[1;32m     61\u001B[0m \u001B[38;5;66;03m# Loops the length of the simulation\u001B[39;00m\n\u001B[1;32m     63\u001B[0m \u001B[38;5;28;01mfor\u001B[39;00m i \u001B[38;5;129;01min\u001B[39;00m \u001B[38;5;28mrange\u001B[39m(sim_len):\n\u001B[0;32m---> 65\u001B[0m     heart_avg_info_gain_df, heart_avg_info_gain_array, heart_X_test, heart_y_test, heart_X_train, heart_y_train \u001B[38;5;241m=\u001B[39m run_simulation(sim_len, \u001B[43mdf_heart_standardized\u001B[49m, label_col, pos_label, neg_label, size, num_of_rand)\n\u001B[1;32m     66\u001B[0m     Train_Data \u001B[38;5;241m=\u001B[39m  pd\u001B[38;5;241m.\u001B[39mconcat([heart_X_train, heart_y_train], axis\u001B[38;5;241m=\u001B[39m\u001B[38;5;241m1\u001B[39m)\n\u001B[1;32m     67\u001B[0m     Test_Data \u001B[38;5;241m=\u001B[39m pd\u001B[38;5;241m.\u001B[39mconcat([heart_X_test, heart_y_test], axis\u001B[38;5;241m=\u001B[39m\u001B[38;5;241m1\u001B[39m)\n",
      "\u001B[0;31mNameError\u001B[0m: name 'df_heart_standardized' is not defined"
     ]
    }
   ],
   "execution_count": 32
  },
  {
   "cell_type": "markdown",
   "metadata": {},
   "source": [
    "<h1 style=\"text-align:center;\">Accuracy</h1>\n"
   ]
  },
  {
   "cell_type": "code",
   "metadata": {
    "ExecuteTime": {
     "end_time": "2025-03-15T01:40:28.366844Z",
     "start_time": "2025-03-15T01:40:27.835381Z"
    }
   },
   "source": [
    "fig = plt.figure(figsize =(10, 7))\n",
    "plt.title(\"Accuracy\",fontsize=14, fontweight='bold')\n",
    "\n",
    "data = [dropped_weight_avg_acc, NN_acc, RFC_acc, XGB_acc]\n",
    "\n",
    "x_axis = ['Dropped Cols Weighted k-NN', 'Neural Network', 'Random Forest Classification', 'XGBoost Classification']\n",
    "\n",
    "# Creating plot\n",
    "plt.boxplot(data, tick_labels=x_axis)\n",
    "\n",
    "plt.savefig('Accuracy.svg')\n",
    "\n",
    "# show plot\n",
    "plt.show()"
   ],
   "outputs": [
    {
     "ename": "OSError",
     "evalue": "[Errno 30] Read-only file system: 'Accuracy.svg'",
     "output_type": "error",
     "traceback": [
      "\u001B[0;31m---------------------------------------------------------------------------\u001B[0m",
      "\u001B[0;31mOSError\u001B[0m                                   Traceback (most recent call last)",
      "Cell \u001B[0;32mIn[33], line 11\u001B[0m\n\u001B[1;32m      8\u001B[0m \u001B[38;5;66;03m# Creating plot\u001B[39;00m\n\u001B[1;32m      9\u001B[0m plt\u001B[38;5;241m.\u001B[39mboxplot(data, tick_labels\u001B[38;5;241m=\u001B[39mx_axis)\n\u001B[0;32m---> 11\u001B[0m \u001B[43mplt\u001B[49m\u001B[38;5;241;43m.\u001B[39;49m\u001B[43msavefig\u001B[49m\u001B[43m(\u001B[49m\u001B[38;5;124;43m'\u001B[39;49m\u001B[38;5;124;43mAccuracy.svg\u001B[39;49m\u001B[38;5;124;43m'\u001B[39;49m\u001B[43m)\u001B[49m\n\u001B[1;32m     13\u001B[0m \u001B[38;5;66;03m# show plot\u001B[39;00m\n\u001B[1;32m     14\u001B[0m plt\u001B[38;5;241m.\u001B[39mshow()\n",
      "File \u001B[0;32m/Library/Frameworks/Python.framework/Versions/3.11/lib/python3.11/site-packages/matplotlib/pyplot.py:1228\u001B[0m, in \u001B[0;36msavefig\u001B[0;34m(*args, **kwargs)\u001B[0m\n\u001B[1;32m   1225\u001B[0m fig \u001B[38;5;241m=\u001B[39m gcf()\n\u001B[1;32m   1226\u001B[0m \u001B[38;5;66;03m# savefig default implementation has no return, so mypy is unhappy\u001B[39;00m\n\u001B[1;32m   1227\u001B[0m \u001B[38;5;66;03m# presumably this is here because subclasses can return?\u001B[39;00m\n\u001B[0;32m-> 1228\u001B[0m res \u001B[38;5;241m=\u001B[39m \u001B[43mfig\u001B[49m\u001B[38;5;241;43m.\u001B[39;49m\u001B[43msavefig\u001B[49m\u001B[43m(\u001B[49m\u001B[38;5;241;43m*\u001B[39;49m\u001B[43margs\u001B[49m\u001B[43m,\u001B[49m\u001B[43m \u001B[49m\u001B[38;5;241;43m*\u001B[39;49m\u001B[38;5;241;43m*\u001B[39;49m\u001B[43mkwargs\u001B[49m\u001B[43m)\u001B[49m  \u001B[38;5;66;03m# type: ignore[func-returns-value]\u001B[39;00m\n\u001B[1;32m   1229\u001B[0m fig\u001B[38;5;241m.\u001B[39mcanvas\u001B[38;5;241m.\u001B[39mdraw_idle()  \u001B[38;5;66;03m# Need this if 'transparent=True', to reset colors.\u001B[39;00m\n\u001B[1;32m   1230\u001B[0m \u001B[38;5;28;01mreturn\u001B[39;00m res\n",
      "File \u001B[0;32m/Library/Frameworks/Python.framework/Versions/3.11/lib/python3.11/site-packages/matplotlib/figure.py:3395\u001B[0m, in \u001B[0;36mFigure.savefig\u001B[0;34m(self, fname, transparent, **kwargs)\u001B[0m\n\u001B[1;32m   3393\u001B[0m     \u001B[38;5;28;01mfor\u001B[39;00m ax \u001B[38;5;129;01min\u001B[39;00m \u001B[38;5;28mself\u001B[39m\u001B[38;5;241m.\u001B[39maxes:\n\u001B[1;32m   3394\u001B[0m         _recursively_make_axes_transparent(stack, ax)\n\u001B[0;32m-> 3395\u001B[0m \u001B[38;5;28;43mself\u001B[39;49m\u001B[38;5;241;43m.\u001B[39;49m\u001B[43mcanvas\u001B[49m\u001B[38;5;241;43m.\u001B[39;49m\u001B[43mprint_figure\u001B[49m\u001B[43m(\u001B[49m\u001B[43mfname\u001B[49m\u001B[43m,\u001B[49m\u001B[43m \u001B[49m\u001B[38;5;241;43m*\u001B[39;49m\u001B[38;5;241;43m*\u001B[39;49m\u001B[43mkwargs\u001B[49m\u001B[43m)\u001B[49m\n",
      "File \u001B[0;32m/Library/Frameworks/Python.framework/Versions/3.11/lib/python3.11/site-packages/matplotlib/backend_bases.py:2204\u001B[0m, in \u001B[0;36mFigureCanvasBase.print_figure\u001B[0;34m(self, filename, dpi, facecolor, edgecolor, orientation, format, bbox_inches, pad_inches, bbox_extra_artists, backend, **kwargs)\u001B[0m\n\u001B[1;32m   2200\u001B[0m \u001B[38;5;28;01mtry\u001B[39;00m:\n\u001B[1;32m   2201\u001B[0m     \u001B[38;5;66;03m# _get_renderer may change the figure dpi (as vector formats\u001B[39;00m\n\u001B[1;32m   2202\u001B[0m     \u001B[38;5;66;03m# force the figure dpi to 72), so we need to set it again here.\u001B[39;00m\n\u001B[1;32m   2203\u001B[0m     \u001B[38;5;28;01mwith\u001B[39;00m cbook\u001B[38;5;241m.\u001B[39m_setattr_cm(\u001B[38;5;28mself\u001B[39m\u001B[38;5;241m.\u001B[39mfigure, dpi\u001B[38;5;241m=\u001B[39mdpi):\n\u001B[0;32m-> 2204\u001B[0m         result \u001B[38;5;241m=\u001B[39m \u001B[43mprint_method\u001B[49m\u001B[43m(\u001B[49m\n\u001B[1;32m   2205\u001B[0m \u001B[43m            \u001B[49m\u001B[43mfilename\u001B[49m\u001B[43m,\u001B[49m\n\u001B[1;32m   2206\u001B[0m \u001B[43m            \u001B[49m\u001B[43mfacecolor\u001B[49m\u001B[38;5;241;43m=\u001B[39;49m\u001B[43mfacecolor\u001B[49m\u001B[43m,\u001B[49m\n\u001B[1;32m   2207\u001B[0m \u001B[43m            \u001B[49m\u001B[43medgecolor\u001B[49m\u001B[38;5;241;43m=\u001B[39;49m\u001B[43medgecolor\u001B[49m\u001B[43m,\u001B[49m\n\u001B[1;32m   2208\u001B[0m \u001B[43m            \u001B[49m\u001B[43morientation\u001B[49m\u001B[38;5;241;43m=\u001B[39;49m\u001B[43morientation\u001B[49m\u001B[43m,\u001B[49m\n\u001B[1;32m   2209\u001B[0m \u001B[43m            \u001B[49m\u001B[43mbbox_inches_restore\u001B[49m\u001B[38;5;241;43m=\u001B[39;49m\u001B[43m_bbox_inches_restore\u001B[49m\u001B[43m,\u001B[49m\n\u001B[1;32m   2210\u001B[0m \u001B[43m            \u001B[49m\u001B[38;5;241;43m*\u001B[39;49m\u001B[38;5;241;43m*\u001B[39;49m\u001B[43mkwargs\u001B[49m\u001B[43m)\u001B[49m\n\u001B[1;32m   2211\u001B[0m \u001B[38;5;28;01mfinally\u001B[39;00m:\n\u001B[1;32m   2212\u001B[0m     \u001B[38;5;28;01mif\u001B[39;00m bbox_inches \u001B[38;5;129;01mand\u001B[39;00m restore_bbox:\n",
      "File \u001B[0;32m/Library/Frameworks/Python.framework/Versions/3.11/lib/python3.11/site-packages/matplotlib/backend_bases.py:2054\u001B[0m, in \u001B[0;36mFigureCanvasBase._switch_canvas_and_return_print_method.<locals>.<lambda>\u001B[0;34m(*args, **kwargs)\u001B[0m\n\u001B[1;32m   2050\u001B[0m     optional_kws \u001B[38;5;241m=\u001B[39m {  \u001B[38;5;66;03m# Passed by print_figure for other renderers.\u001B[39;00m\n\u001B[1;32m   2051\u001B[0m         \u001B[38;5;124m\"\u001B[39m\u001B[38;5;124mdpi\u001B[39m\u001B[38;5;124m\"\u001B[39m, \u001B[38;5;124m\"\u001B[39m\u001B[38;5;124mfacecolor\u001B[39m\u001B[38;5;124m\"\u001B[39m, \u001B[38;5;124m\"\u001B[39m\u001B[38;5;124medgecolor\u001B[39m\u001B[38;5;124m\"\u001B[39m, \u001B[38;5;124m\"\u001B[39m\u001B[38;5;124morientation\u001B[39m\u001B[38;5;124m\"\u001B[39m,\n\u001B[1;32m   2052\u001B[0m         \u001B[38;5;124m\"\u001B[39m\u001B[38;5;124mbbox_inches_restore\u001B[39m\u001B[38;5;124m\"\u001B[39m}\n\u001B[1;32m   2053\u001B[0m     skip \u001B[38;5;241m=\u001B[39m optional_kws \u001B[38;5;241m-\u001B[39m {\u001B[38;5;241m*\u001B[39minspect\u001B[38;5;241m.\u001B[39msignature(meth)\u001B[38;5;241m.\u001B[39mparameters}\n\u001B[0;32m-> 2054\u001B[0m     print_method \u001B[38;5;241m=\u001B[39m functools\u001B[38;5;241m.\u001B[39mwraps(meth)(\u001B[38;5;28;01mlambda\u001B[39;00m \u001B[38;5;241m*\u001B[39margs, \u001B[38;5;241m*\u001B[39m\u001B[38;5;241m*\u001B[39mkwargs: \u001B[43mmeth\u001B[49m\u001B[43m(\u001B[49m\n\u001B[1;32m   2055\u001B[0m \u001B[43m        \u001B[49m\u001B[38;5;241;43m*\u001B[39;49m\u001B[43margs\u001B[49m\u001B[43m,\u001B[49m\u001B[43m \u001B[49m\u001B[38;5;241;43m*\u001B[39;49m\u001B[38;5;241;43m*\u001B[39;49m\u001B[43m{\u001B[49m\u001B[43mk\u001B[49m\u001B[43m:\u001B[49m\u001B[43m \u001B[49m\u001B[43mv\u001B[49m\u001B[43m \u001B[49m\u001B[38;5;28;43;01mfor\u001B[39;49;00m\u001B[43m \u001B[49m\u001B[43mk\u001B[49m\u001B[43m,\u001B[49m\u001B[43m \u001B[49m\u001B[43mv\u001B[49m\u001B[43m \u001B[49m\u001B[38;5;129;43;01min\u001B[39;49;00m\u001B[43m \u001B[49m\u001B[43mkwargs\u001B[49m\u001B[38;5;241;43m.\u001B[39;49m\u001B[43mitems\u001B[49m\u001B[43m(\u001B[49m\u001B[43m)\u001B[49m\u001B[43m \u001B[49m\u001B[38;5;28;43;01mif\u001B[39;49;00m\u001B[43m \u001B[49m\u001B[43mk\u001B[49m\u001B[43m \u001B[49m\u001B[38;5;129;43;01mnot\u001B[39;49;00m\u001B[43m \u001B[49m\u001B[38;5;129;43;01min\u001B[39;49;00m\u001B[43m \u001B[49m\u001B[43mskip\u001B[49m\u001B[43m}\u001B[49m\u001B[43m)\u001B[49m)\n\u001B[1;32m   2056\u001B[0m \u001B[38;5;28;01melse\u001B[39;00m:  \u001B[38;5;66;03m# Let third-parties do as they see fit.\u001B[39;00m\n\u001B[1;32m   2057\u001B[0m     print_method \u001B[38;5;241m=\u001B[39m meth\n",
      "File \u001B[0;32m/Library/Frameworks/Python.framework/Versions/3.11/lib/python3.11/site-packages/matplotlib/backends/backend_svg.py:1328\u001B[0m, in \u001B[0;36mFigureCanvasSVG.print_svg\u001B[0;34m(self, filename, bbox_inches_restore, metadata)\u001B[0m\n\u001B[1;32m   1296\u001B[0m \u001B[38;5;28;01mdef\u001B[39;00m \u001B[38;5;21mprint_svg\u001B[39m(\u001B[38;5;28mself\u001B[39m, filename, \u001B[38;5;241m*\u001B[39m, bbox_inches_restore\u001B[38;5;241m=\u001B[39m\u001B[38;5;28;01mNone\u001B[39;00m, metadata\u001B[38;5;241m=\u001B[39m\u001B[38;5;28;01mNone\u001B[39;00m):\n\u001B[1;32m   1297\u001B[0m \u001B[38;5;250m    \u001B[39m\u001B[38;5;124;03m\"\"\"\u001B[39;00m\n\u001B[1;32m   1298\u001B[0m \u001B[38;5;124;03m    Parameters\u001B[39;00m\n\u001B[1;32m   1299\u001B[0m \u001B[38;5;124;03m    ----------\u001B[39;00m\n\u001B[0;32m   (...)\u001B[0m\n\u001B[1;32m   1326\u001B[0m \u001B[38;5;124;03m        __ DC_\u001B[39;00m\n\u001B[1;32m   1327\u001B[0m \u001B[38;5;124;03m    \"\"\"\u001B[39;00m\n\u001B[0;32m-> 1328\u001B[0m     \u001B[38;5;28;01mwith\u001B[39;00m \u001B[43mcbook\u001B[49m\u001B[38;5;241;43m.\u001B[39;49m\u001B[43mopen_file_cm\u001B[49m\u001B[43m(\u001B[49m\u001B[43mfilename\u001B[49m\u001B[43m,\u001B[49m\u001B[43m \u001B[49m\u001B[38;5;124;43m\"\u001B[39;49m\u001B[38;5;124;43mw\u001B[39;49m\u001B[38;5;124;43m\"\u001B[39;49m\u001B[43m,\u001B[49m\u001B[43m \u001B[49m\u001B[43mencoding\u001B[49m\u001B[38;5;241;43m=\u001B[39;49m\u001B[38;5;124;43m\"\u001B[39;49m\u001B[38;5;124;43mutf-8\u001B[39;49m\u001B[38;5;124;43m\"\u001B[39;49m\u001B[43m)\u001B[49m \u001B[38;5;28;01mas\u001B[39;00m fh:\n\u001B[1;32m   1329\u001B[0m         \u001B[38;5;28;01mif\u001B[39;00m \u001B[38;5;129;01mnot\u001B[39;00m cbook\u001B[38;5;241m.\u001B[39mfile_requires_unicode(fh):\n\u001B[1;32m   1330\u001B[0m             fh \u001B[38;5;241m=\u001B[39m codecs\u001B[38;5;241m.\u001B[39mgetwriter(\u001B[38;5;124m'\u001B[39m\u001B[38;5;124mutf-8\u001B[39m\u001B[38;5;124m'\u001B[39m)(fh)\n",
      "File \u001B[0;32m/Library/Frameworks/Python.framework/Versions/3.11/lib/python3.11/site-packages/matplotlib/cbook.py:497\u001B[0m, in \u001B[0;36mopen_file_cm\u001B[0;34m(path_or_file, mode, encoding)\u001B[0m\n\u001B[1;32m    495\u001B[0m \u001B[38;5;28;01mdef\u001B[39;00m \u001B[38;5;21mopen_file_cm\u001B[39m(path_or_file, mode\u001B[38;5;241m=\u001B[39m\u001B[38;5;124m\"\u001B[39m\u001B[38;5;124mr\u001B[39m\u001B[38;5;124m\"\u001B[39m, encoding\u001B[38;5;241m=\u001B[39m\u001B[38;5;28;01mNone\u001B[39;00m):\n\u001B[1;32m    496\u001B[0m \u001B[38;5;250m    \u001B[39m\u001B[38;5;124mr\u001B[39m\u001B[38;5;124;03m\"\"\"Pass through file objects and context-manage path-likes.\"\"\"\u001B[39;00m\n\u001B[0;32m--> 497\u001B[0m     fh, opened \u001B[38;5;241m=\u001B[39m \u001B[43mto_filehandle\u001B[49m\u001B[43m(\u001B[49m\u001B[43mpath_or_file\u001B[49m\u001B[43m,\u001B[49m\u001B[43m \u001B[49m\u001B[43mmode\u001B[49m\u001B[43m,\u001B[49m\u001B[43m \u001B[49m\u001B[38;5;28;43;01mTrue\u001B[39;49;00m\u001B[43m,\u001B[49m\u001B[43m \u001B[49m\u001B[43mencoding\u001B[49m\u001B[43m)\u001B[49m\n\u001B[1;32m    498\u001B[0m     \u001B[38;5;28;01mreturn\u001B[39;00m fh \u001B[38;5;28;01mif\u001B[39;00m opened \u001B[38;5;28;01melse\u001B[39;00m contextlib\u001B[38;5;241m.\u001B[39mnullcontext(fh)\n",
      "File \u001B[0;32m/Library/Frameworks/Python.framework/Versions/3.11/lib/python3.11/site-packages/matplotlib/cbook.py:483\u001B[0m, in \u001B[0;36mto_filehandle\u001B[0;34m(fname, flag, return_opened, encoding)\u001B[0m\n\u001B[1;32m    481\u001B[0m         fh \u001B[38;5;241m=\u001B[39m bz2\u001B[38;5;241m.\u001B[39mBZ2File(fname, flag)\n\u001B[1;32m    482\u001B[0m     \u001B[38;5;28;01melse\u001B[39;00m:\n\u001B[0;32m--> 483\u001B[0m         fh \u001B[38;5;241m=\u001B[39m \u001B[38;5;28;43mopen\u001B[39;49m\u001B[43m(\u001B[49m\u001B[43mfname\u001B[49m\u001B[43m,\u001B[49m\u001B[43m \u001B[49m\u001B[43mflag\u001B[49m\u001B[43m,\u001B[49m\u001B[43m \u001B[49m\u001B[43mencoding\u001B[49m\u001B[38;5;241;43m=\u001B[39;49m\u001B[43mencoding\u001B[49m\u001B[43m)\u001B[49m\n\u001B[1;32m    484\u001B[0m     opened \u001B[38;5;241m=\u001B[39m \u001B[38;5;28;01mTrue\u001B[39;00m\n\u001B[1;32m    485\u001B[0m \u001B[38;5;28;01melif\u001B[39;00m \u001B[38;5;28mhasattr\u001B[39m(fname, \u001B[38;5;124m'\u001B[39m\u001B[38;5;124mseek\u001B[39m\u001B[38;5;124m'\u001B[39m):\n",
      "\u001B[0;31mOSError\u001B[0m: [Errno 30] Read-only file system: 'Accuracy.svg'"
     ]
    },
    {
     "data": {
      "text/plain": [
       "<Figure size 1000x700 with 1 Axes>"
      ],
      "image/png": "[encoded data removed]"
     },
     "metadata": {},
     "output_type": "display_data"
    }
   ],
   "execution_count": 33
  },
  {
   "cell_type": "markdown",
   "metadata": {},
   "source": [
    "<h1 style=\"text-align:center;\">Specificity</h1>\n"
   ]
  },
  {
   "cell_type": "code",
   "metadata": {},
   "source": [
    "fig = plt.figure(figsize =(10, 7))\n",
    "plt.title(\"Specificity\",fontsize=14, fontweight='bold')\n",
    "\n",
    "\n",
    "data = [dropped_weight_avg_specificity, NN_specificity, RFC_specificity , XGB_specificity]\n",
    "\n",
    "x_axis = ['Dropped Cols Weighted k-NN', 'Neural Network', 'Random Forest Classification', 'XGBoost Classification']\n",
    "\n",
    "# Creating plot\n",
    "plt.boxplot(data, tick_labels=x_axis)\n",
    "plt.savefig('Specificity.svg')\n",
    "# show plot\n",
    "plt.show()"
   ],
   "outputs": [],
   "execution_count": null
  },
  {
   "cell_type": "markdown",
   "metadata": {},
   "source": [
    "<h1 style=\"text-align:center;\">F1</h1>\n"
   ]
  },
  {
   "cell_type": "code",
   "metadata": {},
   "source": [
    "fig = plt.figure(figsize =(10, 7))\n",
    "plt.title(\"F1\",fontsize=14, fontweight='bold')\n",
    "\n",
    "\n",
    "data = [dropped_weight_avg_f1, NN_f1, RFC_f1 , XGB_f1]\n",
    "\n",
    "x_axis = ['Dropped Cols Weighted k-NN', 'Neural Network', 'Random Forest Classification', 'XGBoost Classification']\n",
    "\n",
    "# Creating plot\n",
    "plt.boxplot(data, tick_labels=x_axis)\n",
    "plt.savefig('F1.svg')\n",
    "# show plot\n",
    "plt.show()"
   ],
   "outputs": [],
   "execution_count": null
  },
  {
   "cell_type": "markdown",
   "metadata": {},
   "source": [
    "<h1 style=\"text-align:center;\">Recall</h1>"
   ]
  },
  {
   "cell_type": "code",
   "metadata": {},
   "source": [
    "fig = plt.figure(figsize =(10, 7))\n",
    "plt.title(\"Recall\",fontsize=14, fontweight='bold')\n",
    "\n",
    "\n",
    "data = [dropped_weight_avg_recall, NN_recall, RFC_recall , XGB_recall]\n",
    "\n",
    "x_axis = ['Dropped Cols Weighted k-NN', 'Neural Network', 'Random Forest Classification', 'XGBoost Classification']\n",
    "\n",
    "# Creating plot\n",
    "plt.boxplot(data, tick_labels=x_axis)\n",
    "plt.savefig('Recall.svg')\n",
    "# show plot\n",
    "plt.show()"
   ],
   "outputs": [],
   "execution_count": null
  },
  {
   "cell_type": "markdown",
   "metadata": {},
   "source": [
    "<h1 style=text-align:center;>Precision</h1>"
   ]
  },
  {
   "cell_type": "code",
   "metadata": {},
   "source": [
    "fig = plt.figure(figsize =(10, 7))\n",
    "plt.title(\"Precision\",fontsize=14, fontweight='bold')\n",
    "\n",
    "\n",
    "data = [dropped_weight_avg_precision,XGB_precision, XGB_precision , XGB_precision]\n",
    "\n",
    "x_axis = ['Dropped Cols Weighted k-NN', 'Neural Network', 'Random Forest Classification', 'XGBoost Classification']\n",
    "\n",
    "# Creating plot\n",
    "plt.boxplot(data, tick_labels=x_axis)\n",
    "plt.savefig('Precision.svg')\n",
    "# show plot\n",
    "plt.show()"
   ],
   "outputs": [],
   "execution_count": null
  },
  {
   "cell_type": "code",
   "metadata": {},
   "source": [
    "# fig = plt.figure(figsize =(10, 7))\n",
    "# plt.title(\"Accuracy\",fontsize=14, fontweight='bold')\n",
    "# \n",
    "# data = [dropped_weight_acc, NN_acc, RFC_acc, XGB_acc]\n",
    "# \n",
    "# x_axis = ['Dropped Cols Weighted k-NN', 'Neural Network', 'Random Forest Classification', 'XGBoost Classification']\n",
    "# \n",
    "# # Creating plot\n",
    "# plt.boxplot(data, tick_labels=x_axis)\n",
    "# \n",
    "# # plt.savefig('Accuracy.svg')\n",
    "# \n",
    "# # show plot\n",
    "# plt.show()"
   ],
   "outputs": [],
   "execution_count": null
  },
  {
   "cell_type": "code",
   "metadata": {},
   "source": [
    "import statistics\n",
    "statistics.mean(avg_acc)"
   ],
   "outputs": [],
   "execution_count": null
  },
  {
   "cell_type": "code",
   "metadata": {},
   "source": [
    "statistics.mean(NN_acc)"
   ],
   "outputs": [],
   "execution_count": null
  },
  {
   "cell_type": "markdown",
   "metadata": {},
   "source": [
    "<h1 style=\"text-align:center;\">These are the Boxplots Including Regular PCA</h1>\n"
   ]
  },
  {
   "cell_type": "code",
   "metadata": {},
   "source": [
    "fig = plt.figure(figsize =(10, 7))\n",
    "plt.title(\"Accuracy\",fontsize=14, fontweight='bold')\n",
    "\n",
    "\n",
    "data = [avg_acc,weight_avg_acc ,dropped_weight_avg_acc, pca_avg_acc, pca_explained_variance_acc]\n",
    "\n",
    "x_axis = ['Unweighted k-NN', 'Weights k-NN', 'Dropped Cols Weighted k-NN', 'PCA', 'PCA Explained Variance']\n",
    "\n",
    "# Creating plot\n",
    "plt.boxplot(data, tick_labels=x_axis)\n",
    "\n",
    "plt.savefig('Accuracy.svg')\n",
    "\n",
    "# show plot\n",
    "plt.show()"
   ],
   "outputs": [],
   "execution_count": null
  },
  {
   "cell_type": "code",
   "metadata": {},
   "source": [
    "fig = plt.figure(figsize =(10, 7))\n",
    "plt.title(\"Specificity\",fontsize=14, fontweight='bold')\n",
    "\n",
    "\n",
    "data = [avg_specificity, weight_avg_specificity, dropped_weight_avg_specificity, pca_avg_specificity, pca_explained_variance_specificity]\n",
    "\n",
    "x_axis = ['Unweighted k-NN', 'Weights k-NN', 'Dropped Cols Weighted k-NN', 'PCA', 'PCA Explained Variance']\n",
    "\n",
    "# Creating plot\n",
    "plt.boxplot(data, tick_labels=x_axis)\n",
    "plt.savefig('Specificity.svg')\n",
    "# show plot\n",
    "plt.show()"
   ],
   "outputs": [],
   "execution_count": null
  },
  {
   "cell_type": "code",
   "metadata": {},
   "source": [
    "fig = plt.figure(figsize =(10, 7))\n",
    "plt.title(\"F1\",fontsize=14, fontweight='bold')\n",
    "\n",
    "\n",
    "data = [avg_f1, weight_avg_f1, dropped_weight_avg_f1, pca_avg_f1, pca_explained_variance_f1]\n",
    "\n",
    "x_axis = ['Unweighted k-NN', 'Weights k-NN', 'Dropped Cols Weighted k-NN', 'PCA', 'PCA Explained Variance']\n",
    "\n",
    "# Creating plot\n",
    "plt.boxplot(data, tick_labels=x_axis)\n",
    "\n",
    "plt.savefig('F1.svg')\n",
    "\n",
    "# show plot\n",
    "plt.show()"
   ],
   "outputs": [],
   "execution_count": null
  },
  {
   "cell_type": "code",
   "metadata": {},
   "source": [
    "fig = plt.figure(figsize =(10, 7))\n",
    "plt.title(\"Recall\",fontsize=14, fontweight='bold')\n",
    "\n",
    "\n",
    "data = [avg_recall,weight_avg_recall, dropped_weight_avg_recall, pca_avg_recall, pca_explained_variance_recall]\n",
    "\n",
    "x_axis = ['Unweighted k-NN', 'Weights k-NN', 'Dropped Cols Weighted k-NN', 'PCA', 'PCA Explained Variance']\n",
    "\n",
    "# Creating plot\n",
    "plt.boxplot(data, tick_labels=x_axis)\n",
    "\n",
    "plt.savefig('Recall.svg')\n",
    "\n",
    "# show plot\n",
    "plt.show()"
   ],
   "outputs": [],
   "execution_count": null
  },
  {
   "cell_type": "code",
   "metadata": {
    "ExecuteTime": {
     "end_time": "2025-03-15T01:40:28.558981Z",
     "start_time": "2025-03-15T01:40:28.450170Z"
    }
   },
   "source": [
    "fig = plt.figure(figsize =(10, 7))\n",
    "plt.title(\"Precision\",fontsize=14, fontweight='bold')\n",
    "\n",
    "\n",
    "data = [avg_precision, weight_avg_precision, dropped_weight_avg_precision, pca_avg_precision, pca_explained_variance_precision]\n",
    "\n",
    "x_axis = ['Unweighted k-NN', 'Weights k-NN', 'Dropped Cols Weighted k-NN', 'PCA', 'PCA Explained Variance']\n",
    "\n",
    "# Creating plot\n",
    "plt.boxplot(data, tick_labels=x_axis)\n",
    "\n",
    "plt.savefig('Precision.svg')\n",
    "\n",
    "# show plot\n",
    "plt.show()"
   ],
   "outputs": [
    {
     "ename": "OSError",
     "evalue": "[Errno 30] Read-only file system: 'Precision.svg'",
     "output_type": "error",
     "traceback": [
      "\u001B[0;31m---------------------------------------------------------------------------\u001B[0m",
      "\u001B[0;31mOSError\u001B[0m                                   Traceback (most recent call last)",
      "Cell \u001B[0;32mIn[34], line 12\u001B[0m\n\u001B[1;32m      9\u001B[0m \u001B[38;5;66;03m# Creating plot\u001B[39;00m\n\u001B[1;32m     10\u001B[0m plt\u001B[38;5;241m.\u001B[39mboxplot(data, tick_labels\u001B[38;5;241m=\u001B[39mx_axis)\n\u001B[0;32m---> 12\u001B[0m \u001B[43mplt\u001B[49m\u001B[38;5;241;43m.\u001B[39;49m\u001B[43msavefig\u001B[49m\u001B[43m(\u001B[49m\u001B[38;5;124;43m'\u001B[39;49m\u001B[38;5;124;43mPrecision.svg\u001B[39;49m\u001B[38;5;124;43m'\u001B[39;49m\u001B[43m)\u001B[49m\n\u001B[1;32m     14\u001B[0m \u001B[38;5;66;03m# show plot\u001B[39;00m\n\u001B[1;32m     15\u001B[0m plt\u001B[38;5;241m.\u001B[39mshow()\n",
      "File \u001B[0;32m/Library/Frameworks/Python.framework/Versions/3.11/lib/python3.11/site-packages/matplotlib/pyplot.py:1228\u001B[0m, in \u001B[0;36msavefig\u001B[0;34m(*args, **kwargs)\u001B[0m\n\u001B[1;32m   1225\u001B[0m fig \u001B[38;5;241m=\u001B[39m gcf()\n\u001B[1;32m   1226\u001B[0m \u001B[38;5;66;03m# savefig default implementation has no return, so mypy is unhappy\u001B[39;00m\n\u001B[1;32m   1227\u001B[0m \u001B[38;5;66;03m# presumably this is here because subclasses can return?\u001B[39;00m\n\u001B[0;32m-> 1228\u001B[0m res \u001B[38;5;241m=\u001B[39m \u001B[43mfig\u001B[49m\u001B[38;5;241;43m.\u001B[39;49m\u001B[43msavefig\u001B[49m\u001B[43m(\u001B[49m\u001B[38;5;241;43m*\u001B[39;49m\u001B[43margs\u001B[49m\u001B[43m,\u001B[49m\u001B[43m \u001B[49m\u001B[38;5;241;43m*\u001B[39;49m\u001B[38;5;241;43m*\u001B[39;49m\u001B[43mkwargs\u001B[49m\u001B[43m)\u001B[49m  \u001B[38;5;66;03m# type: ignore[func-returns-value]\u001B[39;00m\n\u001B[1;32m   1229\u001B[0m fig\u001B[38;5;241m.\u001B[39mcanvas\u001B[38;5;241m.\u001B[39mdraw_idle()  \u001B[38;5;66;03m# Need this if 'transparent=True', to reset colors.\u001B[39;00m\n\u001B[1;32m   1230\u001B[0m \u001B[38;5;28;01mreturn\u001B[39;00m res\n",
      "File \u001B[0;32m/Library/Frameworks/Python.framework/Versions/3.11/lib/python3.11/site-packages/matplotlib/figure.py:3395\u001B[0m, in \u001B[0;36mFigure.savefig\u001B[0;34m(self, fname, transparent, **kwargs)\u001B[0m\n\u001B[1;32m   3393\u001B[0m     \u001B[38;5;28;01mfor\u001B[39;00m ax \u001B[38;5;129;01min\u001B[39;00m \u001B[38;5;28mself\u001B[39m\u001B[38;5;241m.\u001B[39maxes:\n\u001B[1;32m   3394\u001B[0m         _recursively_make_axes_transparent(stack, ax)\n\u001B[0;32m-> 3395\u001B[0m \u001B[38;5;28;43mself\u001B[39;49m\u001B[38;5;241;43m.\u001B[39;49m\u001B[43mcanvas\u001B[49m\u001B[38;5;241;43m.\u001B[39;49m\u001B[43mprint_figure\u001B[49m\u001B[43m(\u001B[49m\u001B[43mfname\u001B[49m\u001B[43m,\u001B[49m\u001B[43m \u001B[49m\u001B[38;5;241;43m*\u001B[39;49m\u001B[38;5;241;43m*\u001B[39;49m\u001B[43mkwargs\u001B[49m\u001B[43m)\u001B[49m\n",
      "File \u001B[0;32m/Library/Frameworks/Python.framework/Versions/3.11/lib/python3.11/site-packages/matplotlib/backend_bases.py:2204\u001B[0m, in \u001B[0;36mFigureCanvasBase.print_figure\u001B[0;34m(self, filename, dpi, facecolor, edgecolor, orientation, format, bbox_inches, pad_inches, bbox_extra_artists, backend, **kwargs)\u001B[0m\n\u001B[1;32m   2200\u001B[0m \u001B[38;5;28;01mtry\u001B[39;00m:\n\u001B[1;32m   2201\u001B[0m     \u001B[38;5;66;03m# _get_renderer may change the figure dpi (as vector formats\u001B[39;00m\n\u001B[1;32m   2202\u001B[0m     \u001B[38;5;66;03m# force the figure dpi to 72), so we need to set it again here.\u001B[39;00m\n\u001B[1;32m   2203\u001B[0m     \u001B[38;5;28;01mwith\u001B[39;00m cbook\u001B[38;5;241m.\u001B[39m_setattr_cm(\u001B[38;5;28mself\u001B[39m\u001B[38;5;241m.\u001B[39mfigure, dpi\u001B[38;5;241m=\u001B[39mdpi):\n\u001B[0;32m-> 2204\u001B[0m         result \u001B[38;5;241m=\u001B[39m \u001B[43mprint_method\u001B[49m\u001B[43m(\u001B[49m\n\u001B[1;32m   2205\u001B[0m \u001B[43m            \u001B[49m\u001B[43mfilename\u001B[49m\u001B[43m,\u001B[49m\n\u001B[1;32m   2206\u001B[0m \u001B[43m            \u001B[49m\u001B[43mfacecolor\u001B[49m\u001B[38;5;241;43m=\u001B[39;49m\u001B[43mfacecolor\u001B[49m\u001B[43m,\u001B[49m\n\u001B[1;32m   2207\u001B[0m \u001B[43m            \u001B[49m\u001B[43medgecolor\u001B[49m\u001B[38;5;241;43m=\u001B[39;49m\u001B[43medgecolor\u001B[49m\u001B[43m,\u001B[49m\n\u001B[1;32m   2208\u001B[0m \u001B[43m            \u001B[49m\u001B[43morientation\u001B[49m\u001B[38;5;241;43m=\u001B[39;49m\u001B[43morientation\u001B[49m\u001B[43m,\u001B[49m\n\u001B[1;32m   2209\u001B[0m \u001B[43m            \u001B[49m\u001B[43mbbox_inches_restore\u001B[49m\u001B[38;5;241;43m=\u001B[39;49m\u001B[43m_bbox_inches_restore\u001B[49m\u001B[43m,\u001B[49m\n\u001B[1;32m   2210\u001B[0m \u001B[43m            \u001B[49m\u001B[38;5;241;43m*\u001B[39;49m\u001B[38;5;241;43m*\u001B[39;49m\u001B[43mkwargs\u001B[49m\u001B[43m)\u001B[49m\n\u001B[1;32m   2211\u001B[0m \u001B[38;5;28;01mfinally\u001B[39;00m:\n\u001B[1;32m   2212\u001B[0m     \u001B[38;5;28;01mif\u001B[39;00m bbox_inches \u001B[38;5;129;01mand\u001B[39;00m restore_bbox:\n",
      "File \u001B[0;32m/Library/Frameworks/Python.framework/Versions/3.11/lib/python3.11/site-packages/matplotlib/backend_bases.py:2054\u001B[0m, in \u001B[0;36mFigureCanvasBase._switch_canvas_and_return_print_method.<locals>.<lambda>\u001B[0;34m(*args, **kwargs)\u001B[0m\n\u001B[1;32m   2050\u001B[0m     optional_kws \u001B[38;5;241m=\u001B[39m {  \u001B[38;5;66;03m# Passed by print_figure for other renderers.\u001B[39;00m\n\u001B[1;32m   2051\u001B[0m         \u001B[38;5;124m\"\u001B[39m\u001B[38;5;124mdpi\u001B[39m\u001B[38;5;124m\"\u001B[39m, \u001B[38;5;124m\"\u001B[39m\u001B[38;5;124mfacecolor\u001B[39m\u001B[38;5;124m\"\u001B[39m, \u001B[38;5;124m\"\u001B[39m\u001B[38;5;124medgecolor\u001B[39m\u001B[38;5;124m\"\u001B[39m, \u001B[38;5;124m\"\u001B[39m\u001B[38;5;124morientation\u001B[39m\u001B[38;5;124m\"\u001B[39m,\n\u001B[1;32m   2052\u001B[0m         \u001B[38;5;124m\"\u001B[39m\u001B[38;5;124mbbox_inches_restore\u001B[39m\u001B[38;5;124m\"\u001B[39m}\n\u001B[1;32m   2053\u001B[0m     skip \u001B[38;5;241m=\u001B[39m optional_kws \u001B[38;5;241m-\u001B[39m {\u001B[38;5;241m*\u001B[39minspect\u001B[38;5;241m.\u001B[39msignature(meth)\u001B[38;5;241m.\u001B[39mparameters}\n\u001B[0;32m-> 2054\u001B[0m     print_method \u001B[38;5;241m=\u001B[39m functools\u001B[38;5;241m.\u001B[39mwraps(meth)(\u001B[38;5;28;01mlambda\u001B[39;00m \u001B[38;5;241m*\u001B[39margs, \u001B[38;5;241m*\u001B[39m\u001B[38;5;241m*\u001B[39mkwargs: \u001B[43mmeth\u001B[49m\u001B[43m(\u001B[49m\n\u001B[1;32m   2055\u001B[0m \u001B[43m        \u001B[49m\u001B[38;5;241;43m*\u001B[39;49m\u001B[43margs\u001B[49m\u001B[43m,\u001B[49m\u001B[43m \u001B[49m\u001B[38;5;241;43m*\u001B[39;49m\u001B[38;5;241;43m*\u001B[39;49m\u001B[43m{\u001B[49m\u001B[43mk\u001B[49m\u001B[43m:\u001B[49m\u001B[43m \u001B[49m\u001B[43mv\u001B[49m\u001B[43m \u001B[49m\u001B[38;5;28;43;01mfor\u001B[39;49;00m\u001B[43m \u001B[49m\u001B[43mk\u001B[49m\u001B[43m,\u001B[49m\u001B[43m \u001B[49m\u001B[43mv\u001B[49m\u001B[43m \u001B[49m\u001B[38;5;129;43;01min\u001B[39;49;00m\u001B[43m \u001B[49m\u001B[43mkwargs\u001B[49m\u001B[38;5;241;43m.\u001B[39;49m\u001B[43mitems\u001B[49m\u001B[43m(\u001B[49m\u001B[43m)\u001B[49m\u001B[43m \u001B[49m\u001B[38;5;28;43;01mif\u001B[39;49;00m\u001B[43m \u001B[49m\u001B[43mk\u001B[49m\u001B[43m \u001B[49m\u001B[38;5;129;43;01mnot\u001B[39;49;00m\u001B[43m \u001B[49m\u001B[38;5;129;43;01min\u001B[39;49;00m\u001B[43m \u001B[49m\u001B[43mskip\u001B[49m\u001B[43m}\u001B[49m\u001B[43m)\u001B[49m)\n\u001B[1;32m   2056\u001B[0m \u001B[38;5;28;01melse\u001B[39;00m:  \u001B[38;5;66;03m# Let third-parties do as they see fit.\u001B[39;00m\n\u001B[1;32m   2057\u001B[0m     print_method \u001B[38;5;241m=\u001B[39m meth\n",
      "File \u001B[0;32m/Library/Frameworks/Python.framework/Versions/3.11/lib/python3.11/site-packages/matplotlib/backends/backend_svg.py:1328\u001B[0m, in \u001B[0;36mFigureCanvasSVG.print_svg\u001B[0;34m(self, filename, bbox_inches_restore, metadata)\u001B[0m\n\u001B[1;32m   1296\u001B[0m \u001B[38;5;28;01mdef\u001B[39;00m \u001B[38;5;21mprint_svg\u001B[39m(\u001B[38;5;28mself\u001B[39m, filename, \u001B[38;5;241m*\u001B[39m, bbox_inches_restore\u001B[38;5;241m=\u001B[39m\u001B[38;5;28;01mNone\u001B[39;00m, metadata\u001B[38;5;241m=\u001B[39m\u001B[38;5;28;01mNone\u001B[39;00m):\n\u001B[1;32m   1297\u001B[0m \u001B[38;5;250m    \u001B[39m\u001B[38;5;124;03m\"\"\"\u001B[39;00m\n\u001B[1;32m   1298\u001B[0m \u001B[38;5;124;03m    Parameters\u001B[39;00m\n\u001B[1;32m   1299\u001B[0m \u001B[38;5;124;03m    ----------\u001B[39;00m\n\u001B[0;32m   (...)\u001B[0m\n\u001B[1;32m   1326\u001B[0m \u001B[38;5;124;03m        __ DC_\u001B[39;00m\n\u001B[1;32m   1327\u001B[0m \u001B[38;5;124;03m    \"\"\"\u001B[39;00m\n\u001B[0;32m-> 1328\u001B[0m     \u001B[38;5;28;01mwith\u001B[39;00m \u001B[43mcbook\u001B[49m\u001B[38;5;241;43m.\u001B[39;49m\u001B[43mopen_file_cm\u001B[49m\u001B[43m(\u001B[49m\u001B[43mfilename\u001B[49m\u001B[43m,\u001B[49m\u001B[43m \u001B[49m\u001B[38;5;124;43m\"\u001B[39;49m\u001B[38;5;124;43mw\u001B[39;49m\u001B[38;5;124;43m\"\u001B[39;49m\u001B[43m,\u001B[49m\u001B[43m \u001B[49m\u001B[43mencoding\u001B[49m\u001B[38;5;241;43m=\u001B[39;49m\u001B[38;5;124;43m\"\u001B[39;49m\u001B[38;5;124;43mutf-8\u001B[39;49m\u001B[38;5;124;43m\"\u001B[39;49m\u001B[43m)\u001B[49m \u001B[38;5;28;01mas\u001B[39;00m fh:\n\u001B[1;32m   1329\u001B[0m         \u001B[38;5;28;01mif\u001B[39;00m \u001B[38;5;129;01mnot\u001B[39;00m cbook\u001B[38;5;241m.\u001B[39mfile_requires_unicode(fh):\n\u001B[1;32m   1330\u001B[0m             fh \u001B[38;5;241m=\u001B[39m codecs\u001B[38;5;241m.\u001B[39mgetwriter(\u001B[38;5;124m'\u001B[39m\u001B[38;5;124mutf-8\u001B[39m\u001B[38;5;124m'\u001B[39m)(fh)\n",
      "File \u001B[0;32m/Library/Frameworks/Python.framework/Versions/3.11/lib/python3.11/site-packages/matplotlib/cbook.py:497\u001B[0m, in \u001B[0;36mopen_file_cm\u001B[0;34m(path_or_file, mode, encoding)\u001B[0m\n\u001B[1;32m    495\u001B[0m \u001B[38;5;28;01mdef\u001B[39;00m \u001B[38;5;21mopen_file_cm\u001B[39m(path_or_file, mode\u001B[38;5;241m=\u001B[39m\u001B[38;5;124m\"\u001B[39m\u001B[38;5;124mr\u001B[39m\u001B[38;5;124m\"\u001B[39m, encoding\u001B[38;5;241m=\u001B[39m\u001B[38;5;28;01mNone\u001B[39;00m):\n\u001B[1;32m    496\u001B[0m \u001B[38;5;250m    \u001B[39m\u001B[38;5;124mr\u001B[39m\u001B[38;5;124;03m\"\"\"Pass through file objects and context-manage path-likes.\"\"\"\u001B[39;00m\n\u001B[0;32m--> 497\u001B[0m     fh, opened \u001B[38;5;241m=\u001B[39m \u001B[43mto_filehandle\u001B[49m\u001B[43m(\u001B[49m\u001B[43mpath_or_file\u001B[49m\u001B[43m,\u001B[49m\u001B[43m \u001B[49m\u001B[43mmode\u001B[49m\u001B[43m,\u001B[49m\u001B[43m \u001B[49m\u001B[38;5;28;43;01mTrue\u001B[39;49;00m\u001B[43m,\u001B[49m\u001B[43m \u001B[49m\u001B[43mencoding\u001B[49m\u001B[43m)\u001B[49m\n\u001B[1;32m    498\u001B[0m     \u001B[38;5;28;01mreturn\u001B[39;00m fh \u001B[38;5;28;01mif\u001B[39;00m opened \u001B[38;5;28;01melse\u001B[39;00m contextlib\u001B[38;5;241m.\u001B[39mnullcontext(fh)\n",
      "File \u001B[0;32m/Library/Frameworks/Python.framework/Versions/3.11/lib/python3.11/site-packages/matplotlib/cbook.py:483\u001B[0m, in \u001B[0;36mto_filehandle\u001B[0;34m(fname, flag, return_opened, encoding)\u001B[0m\n\u001B[1;32m    481\u001B[0m         fh \u001B[38;5;241m=\u001B[39m bz2\u001B[38;5;241m.\u001B[39mBZ2File(fname, flag)\n\u001B[1;32m    482\u001B[0m     \u001B[38;5;28;01melse\u001B[39;00m:\n\u001B[0;32m--> 483\u001B[0m         fh \u001B[38;5;241m=\u001B[39m \u001B[38;5;28;43mopen\u001B[39;49m\u001B[43m(\u001B[49m\u001B[43mfname\u001B[49m\u001B[43m,\u001B[49m\u001B[43m \u001B[49m\u001B[43mflag\u001B[49m\u001B[43m,\u001B[49m\u001B[43m \u001B[49m\u001B[43mencoding\u001B[49m\u001B[38;5;241;43m=\u001B[39;49m\u001B[43mencoding\u001B[49m\u001B[43m)\u001B[49m\n\u001B[1;32m    484\u001B[0m     opened \u001B[38;5;241m=\u001B[39m \u001B[38;5;28;01mTrue\u001B[39;00m\n\u001B[1;32m    485\u001B[0m \u001B[38;5;28;01melif\u001B[39;00m \u001B[38;5;28mhasattr\u001B[39m(fname, \u001B[38;5;124m'\u001B[39m\u001B[38;5;124mseek\u001B[39m\u001B[38;5;124m'\u001B[39m):\n",
      "\u001B[0;31mOSError\u001B[0m: [Errno 30] Read-only file system: 'Precision.svg'"
     ]
    },
    {
     "data": {
      "text/plain": [
       "<Figure size 1000x700 with 1 Axes>"
      ],
      "image/png": "[encoded data removed]"
     },
     "metadata": {},
     "output_type": "display_data"
    }
   ],
   "execution_count": 34
  },
  {
   "cell_type": "markdown",
   "metadata": {},
   "source": [
    "<h1 style=\"text-align:center;\">These are the Boxplots Without Regular PCA</h1>"
   ]
  },
  {
   "cell_type": "code",
   "metadata": {
    "execution": {
     "iopub.execute_input": "2024-09-29T04:26:33.664317Z",
     "iopub.status.busy": "2024-09-29T04:26:33.663610Z",
     "iopub.status.idle": "2024-09-29T04:26:33.946346Z",
     "shell.execute_reply": "2024-09-29T04:26:33.945143Z",
     "shell.execute_reply.started": "2024-09-29T04:26:33.664265Z"
    },
    "trusted": true
   },
   "source": [
    "fig = plt.figure(figsize =(10, 7))\n",
    "plt.title(\"Accuracy\",fontsize=14, fontweight='bold')\n",
    "\n",
    "\n",
    "data = [avg_acc,weight_avg_acc ,dropped_weight_avg_acc,pca_explained_variance_acc]\n",
    "\n",
    "x_axis = ['Unweighted k-NN', 'Weights k-NN', 'Dropped Cols Weighted k-NN','PCA Explained Variance']\n",
    "\n",
    "# Creating plot\n",
    "plt.boxplot(data, tick_labels=x_axis)\n",
    "\n",
    "# show plot\n",
    "plt.show()"
   ],
   "outputs": [],
   "execution_count": null
  },
  {
   "cell_type": "code",
   "metadata": {
    "ExecuteTime": {
     "end_time": "2025-03-15T01:40:28.728331Z",
     "start_time": "2025-03-15T01:40:28.669738Z"
    }
   },
   "source": [
    "fig = plt.figure(figsize =(10, 7))\n",
    "plt.title(\"Precision\",fontsize=14, fontweight='bold')\n",
    "\n",
    "\n",
    "data = [avg_precision,weight_avg_precision ,dropped_weight_avg_precision,pca_explained_variance_precision]\n",
    "\n",
    "x_axis = ['Unweighted k-NN', 'Weights k-NN', 'Dropped Cols Weighted k-NN','PCA Explained Variance']\n",
    "\n",
    "# Creating plot\n",
    "plt.boxplot(data, tick_labels=x_axis)\n",
    "\n",
    "# show plot\n",
    "plt.show()"
   ],
   "outputs": [
    {
     "data": {
      "text/plain": [
       "<Figure size 1000x700 with 1 Axes>"
      ],
      "image/png": "[encoded data removed]"
     },
     "metadata": {},
     "output_type": "display_data"
    }
   ],
   "execution_count": 35
  },
  {
   "cell_type": "code",
   "metadata": {
    "ExecuteTime": {
     "end_time": "2025-03-15T01:40:28.810772Z",
     "start_time": "2025-03-15T01:40:28.747559Z"
    }
   },
   "source": [
    "fig = plt.figure(figsize =(10, 7))\n",
    "plt.title(\"Recall\",fontsize=14, fontweight='bold')\n",
    "\n",
    "\n",
    "data = [avg_recall,weight_avg_recall ,dropped_weight_avg_recall,pca_explained_variance_recall]\n",
    "\n",
    "x_axis = ['Unweighted k-NN', 'Weights k-NN', 'Dropped Cols Weighted k-NN','PCA Explained Variance']\n",
    "\n",
    "# Creating plot\n",
    "plt.boxplot(data, tick_labels=x_axis)\n",
    "\n",
    "# show plot\n",
    "plt.show()"
   ],
   "outputs": [
    {
     "data": {
      "text/plain": [
       "<Figure size 1000x700 with 1 Axes>"
      ],
      "image/png": "[encoded data removed]"
     },
     "metadata": {},
     "output_type": "display_data"
    }
   ],
   "execution_count": 36
  },
  {
   "cell_type": "code",
   "metadata": {
    "ExecuteTime": {
     "end_time": "2025-03-15T01:40:29.348532Z",
     "start_time": "2025-03-15T01:40:29.278188Z"
    }
   },
   "source": [
    "fig = plt.figure(figsize =(10, 7))\n",
    "plt.title(\"F1\",fontsize=14, fontweight='bold')\n",
    "\n",
    "\n",
    "data = [avg_f1,weight_avg_f1 ,dropped_weight_avg_f1,pca_explained_variance_f1]\n",
    "\n",
    "x_axis = ['Unweighted k-NN', 'Weights k-NN', 'Dropped Cols Weighted k-NN','PCA Explained Variance']\n",
    "\n",
    "# Creating plot\n",
    "plt.boxplot(data, tick_labels=x_axis)\n",
    "\n",
    "# show plot\n",
    "plt.show()"
   ],
   "outputs": [
    {
     "data": {
      "text/plain": [
       "<Figure size 1000x700 with 1 Axes>"
      ],
      "image/png": "[encoded data removed]"
     },
     "metadata": {},
     "output_type": "display_data"
    }
   ],
   "execution_count": 37
  },
  {
   "cell_type": "code",
   "metadata": {
    "ExecuteTime": {
     "end_time": "2025-03-15T01:40:29.582409Z",
     "start_time": "2025-03-15T01:40:29.520747Z"
    }
   },
   "source": [
    "fig = plt.figure(figsize =(10, 7))\n",
    "plt.title(\"Specificity\",fontsize=14, fontweight='bold')\n",
    "\n",
    "\n",
    "data = [avg_specificity,weight_avg_specificity ,dropped_weight_avg_specificity,pca_explained_variance_specificity]\n",
    "\n",
    "x_axis = ['Unweighted k-NN', 'Weights k-NN', 'Dropped Cols Weighted k-NN','PCA Explained Variance']\n",
    "\n",
    "# Creating plot\n",
    "plt.boxplot(data, tick_labels=x_axis)\n",
    "\n",
    "# show plot\n",
    "plt.show()"
   ],
   "outputs": [
    {
     "data": {
      "text/plain": [
       "<Figure size 1000x700 with 1 Axes>"
      ],
      "image/png": "[encoded data removed]"
     },
     "metadata": {},
     "output_type": "display_data"
    }
   ],
   "execution_count": 38
  },
  {
   "cell_type": "code",
   "metadata": {
    "ExecuteTime": {
     "end_time": "2025-03-15T01:40:29.590595Z",
     "start_time": "2025-03-15T01:40:29.583310Z"
    }
   },
   "source": [
    "min(data[0])"
   ],
   "outputs": [
    {
     "ename": "ValueError",
     "evalue": "min() arg is an empty sequence",
     "output_type": "error",
     "traceback": [
      "\u001B[0;31m---------------------------------------------------------------------------\u001B[0m",
      "\u001B[0;31mValueError\u001B[0m                                Traceback (most recent call last)",
      "Cell \u001B[0;32mIn[39], line 1\u001B[0m\n\u001B[0;32m----> 1\u001B[0m \u001B[38;5;28;43mmin\u001B[39;49m\u001B[43m(\u001B[49m\u001B[43mdata\u001B[49m\u001B[43m[\u001B[49m\u001B[38;5;241;43m0\u001B[39;49m\u001B[43m]\u001B[49m\u001B[43m)\u001B[49m\n",
      "\u001B[0;31mValueError\u001B[0m: min() arg is an empty sequence"
     ]
    }
   ],
   "execution_count": 39
  },
  {
   "cell_type": "code",
   "metadata": {
    "ExecuteTime": {
     "end_time": "2025-03-15T01:40:29.790764Z",
     "start_time": "2025-03-15T01:40:29.783026Z"
    }
   },
   "source": [
    "min(data[1])"
   ],
   "outputs": [
    {
     "ename": "ValueError",
     "evalue": "min() arg is an empty sequence",
     "output_type": "error",
     "traceback": [
      "\u001B[0;31m---------------------------------------------------------------------------\u001B[0m",
      "\u001B[0;31mValueError\u001B[0m                                Traceback (most recent call last)",
      "Cell \u001B[0;32mIn[40], line 1\u001B[0m\n\u001B[0;32m----> 1\u001B[0m \u001B[38;5;28;43mmin\u001B[39;49m\u001B[43m(\u001B[49m\u001B[43mdata\u001B[49m\u001B[43m[\u001B[49m\u001B[38;5;241;43m1\u001B[39;49m\u001B[43m]\u001B[49m\u001B[43m)\u001B[49m\n",
      "\u001B[0;31mValueError\u001B[0m: min() arg is an empty sequence"
     ]
    }
   ],
   "execution_count": 40
  },
  {
   "cell_type": "code",
   "metadata": {
    "ExecuteTime": {
     "end_time": "2025-03-15T01:40:29.879589Z",
     "start_time": "2025-03-15T01:40:29.871321Z"
    }
   },
   "source": [
    "min(data[2])"
   ],
   "outputs": [
    {
     "ename": "ValueError",
     "evalue": "min() arg is an empty sequence",
     "output_type": "error",
     "traceback": [
      "\u001B[0;31m---------------------------------------------------------------------------\u001B[0m",
      "\u001B[0;31mValueError\u001B[0m                                Traceback (most recent call last)",
      "Cell \u001B[0;32mIn[41], line 1\u001B[0m\n\u001B[0;32m----> 1\u001B[0m \u001B[38;5;28;43mmin\u001B[39;49m\u001B[43m(\u001B[49m\u001B[43mdata\u001B[49m\u001B[43m[\u001B[49m\u001B[38;5;241;43m2\u001B[39;49m\u001B[43m]\u001B[49m\u001B[43m)\u001B[49m\n",
      "\u001B[0;31mValueError\u001B[0m: min() arg is an empty sequence"
     ]
    }
   ],
   "execution_count": 41
  },
  {
   "cell_type": "code",
   "metadata": {
    "ExecuteTime": {
     "end_time": "2025-03-15T01:40:30.000235Z",
     "start_time": "2025-03-15T01:40:29.991539Z"
    }
   },
   "source": [
    "min(data[3])"
   ],
   "outputs": [
    {
     "ename": "ValueError",
     "evalue": "min() arg is an empty sequence",
     "output_type": "error",
     "traceback": [
      "\u001B[0;31m---------------------------------------------------------------------------\u001B[0m",
      "\u001B[0;31mValueError\u001B[0m                                Traceback (most recent call last)",
      "Cell \u001B[0;32mIn[42], line 1\u001B[0m\n\u001B[0;32m----> 1\u001B[0m \u001B[38;5;28;43mmin\u001B[39;49m\u001B[43m(\u001B[49m\u001B[43mdata\u001B[49m\u001B[43m[\u001B[49m\u001B[38;5;241;43m3\u001B[39;49m\u001B[43m]\u001B[49m\u001B[43m)\u001B[49m\n",
      "\u001B[0;31mValueError\u001B[0m: min() arg is an empty sequence"
     ]
    }
   ],
   "execution_count": 42
  },
  {
   "cell_type": "code",
   "metadata": {
    "ExecuteTime": {
     "end_time": "2025-03-15T01:40:30.353475Z",
     "start_time": "2025-03-15T01:40:30.342053Z"
    }
   },
   "source": [
    "max(data[0])"
   ],
   "outputs": [
    {
     "ename": "ValueError",
     "evalue": "max() arg is an empty sequence",
     "output_type": "error",
     "traceback": [
      "\u001B[0;31m---------------------------------------------------------------------------\u001B[0m",
      "\u001B[0;31mValueError\u001B[0m                                Traceback (most recent call last)",
      "Cell \u001B[0;32mIn[43], line 1\u001B[0m\n\u001B[0;32m----> 1\u001B[0m \u001B[38;5;28;43mmax\u001B[39;49m\u001B[43m(\u001B[49m\u001B[43mdata\u001B[49m\u001B[43m[\u001B[49m\u001B[38;5;241;43m0\u001B[39;49m\u001B[43m]\u001B[49m\u001B[43m)\u001B[49m\n",
      "\u001B[0;31mValueError\u001B[0m: max() arg is an empty sequence"
     ]
    }
   ],
   "execution_count": 43
  },
  {
   "cell_type": "markdown",
   "metadata": {},
   "source": []
  },
  {
   "cell_type": "code",
   "metadata": {
    "ExecuteTime": {
     "end_time": "2025-03-15T01:40:30.488689Z",
     "start_time": "2025-03-15T01:40:30.478522Z"
    }
   },
   "source": [
    "max(data[1])"
   ],
   "outputs": [
    {
     "ename": "ValueError",
     "evalue": "max() arg is an empty sequence",
     "output_type": "error",
     "traceback": [
      "\u001B[0;31m---------------------------------------------------------------------------\u001B[0m",
      "\u001B[0;31mValueError\u001B[0m                                Traceback (most recent call last)",
      "Cell \u001B[0;32mIn[44], line 1\u001B[0m\n\u001B[0;32m----> 1\u001B[0m \u001B[38;5;28;43mmax\u001B[39;49m\u001B[43m(\u001B[49m\u001B[43mdata\u001B[49m\u001B[43m[\u001B[49m\u001B[38;5;241;43m1\u001B[39;49m\u001B[43m]\u001B[49m\u001B[43m)\u001B[49m\n",
      "\u001B[0;31mValueError\u001B[0m: max() arg is an empty sequence"
     ]
    }
   ],
   "execution_count": 44
  },
  {
   "cell_type": "code",
   "metadata": {
    "ExecuteTime": {
     "end_time": "2025-03-15T01:40:30.564846Z",
     "start_time": "2025-03-15T01:40:30.554567Z"
    }
   },
   "source": [
    "max(data[2])"
   ],
   "outputs": [
    {
     "ename": "ValueError",
     "evalue": "max() arg is an empty sequence",
     "output_type": "error",
     "traceback": [
      "\u001B[0;31m---------------------------------------------------------------------------\u001B[0m",
      "\u001B[0;31mValueError\u001B[0m                                Traceback (most recent call last)",
      "Cell \u001B[0;32mIn[45], line 1\u001B[0m\n\u001B[0;32m----> 1\u001B[0m \u001B[38;5;28;43mmax\u001B[39;49m\u001B[43m(\u001B[49m\u001B[43mdata\u001B[49m\u001B[43m[\u001B[49m\u001B[38;5;241;43m2\u001B[39;49m\u001B[43m]\u001B[49m\u001B[43m)\u001B[49m\n",
      "\u001B[0;31mValueError\u001B[0m: max() arg is an empty sequence"
     ]
    }
   ],
   "execution_count": 45
  },
  {
   "cell_type": "code",
   "metadata": {
    "ExecuteTime": {
     "end_time": "2025-03-15T01:40:30.644804Z",
     "start_time": "2025-03-15T01:40:30.636449Z"
    }
   },
   "source": [
    "max(data[3])"
   ],
   "outputs": [
    {
     "ename": "ValueError",
     "evalue": "max() arg is an empty sequence",
     "output_type": "error",
     "traceback": [
      "\u001B[0;31m---------------------------------------------------------------------------\u001B[0m",
      "\u001B[0;31mValueError\u001B[0m                                Traceback (most recent call last)",
      "Cell \u001B[0;32mIn[46], line 1\u001B[0m\n\u001B[0;32m----> 1\u001B[0m \u001B[38;5;28;43mmax\u001B[39;49m\u001B[43m(\u001B[49m\u001B[43mdata\u001B[49m\u001B[43m[\u001B[49m\u001B[38;5;241;43m3\u001B[39;49m\u001B[43m]\u001B[49m\u001B[43m)\u001B[49m\n",
      "\u001B[0;31mValueError\u001B[0m: max() arg is an empty sequence"
     ]
    }
   ],
   "execution_count": 46
  },
  {
   "cell_type": "code",
   "metadata": {
    "ExecuteTime": {
     "end_time": "2025-03-15T01:40:30.732762Z",
     "start_time": "2025-03-15T01:40:30.724793Z"
    }
   },
   "source": [
    "pca = PCA(n_components=len(dropped_heart_X_train.columns))\n",
    "pc = pca.fit_transform(dropped_heart_X_train)\n",
    "pca2 = PCA(n_components=len(dropped_heart_X_test.columns))\n",
    "pc2 = pca.fit_transform(dropped_heart_X_test)"
   ],
   "outputs": [
    {
     "ename": "NameError",
     "evalue": "name 'dropped_heart_X_train' is not defined",
     "output_type": "error",
     "traceback": [
      "\u001B[0;31m---------------------------------------------------------------------------\u001B[0m",
      "\u001B[0;31mNameError\u001B[0m                                 Traceback (most recent call last)",
      "Cell \u001B[0;32mIn[47], line 1\u001B[0m\n\u001B[0;32m----> 1\u001B[0m pca \u001B[38;5;241m=\u001B[39m PCA(n_components\u001B[38;5;241m=\u001B[39m\u001B[38;5;28mlen\u001B[39m(\u001B[43mdropped_heart_X_train\u001B[49m\u001B[38;5;241m.\u001B[39mcolumns))\n\u001B[1;32m      2\u001B[0m pc \u001B[38;5;241m=\u001B[39m pca\u001B[38;5;241m.\u001B[39mfit_transform(dropped_heart_X_train)\n\u001B[1;32m      3\u001B[0m pca2 \u001B[38;5;241m=\u001B[39m PCA(n_components\u001B[38;5;241m=\u001B[39m\u001B[38;5;28mlen\u001B[39m(dropped_heart_X_test\u001B[38;5;241m.\u001B[39mcolumns))\n",
      "\u001B[0;31mNameError\u001B[0m: name 'dropped_heart_X_train' is not defined"
     ]
    }
   ],
   "execution_count": 47
  },
  {
   "cell_type": "code",
   "metadata": {
    "ExecuteTime": {
     "end_time": "2025-03-15T01:40:30.854870Z",
     "start_time": "2025-03-15T01:40:30.847359Z"
    }
   },
   "source": [
    "pc"
   ],
   "outputs": [
    {
     "ename": "NameError",
     "evalue": "name 'pc' is not defined",
     "output_type": "error",
     "traceback": [
      "\u001B[0;31m---------------------------------------------------------------------------\u001B[0m",
      "\u001B[0;31mNameError\u001B[0m                                 Traceback (most recent call last)",
      "Cell \u001B[0;32mIn[48], line 1\u001B[0m\n\u001B[0;32m----> 1\u001B[0m \u001B[43mpc\u001B[49m\n",
      "\u001B[0;31mNameError\u001B[0m: name 'pc' is not defined"
     ]
    }
   ],
   "execution_count": 48
  },
  {
   "cell_type": "code",
   "metadata": {
    "ExecuteTime": {
     "end_time": "2025-03-15T01:40:30.911393Z",
     "start_time": "2025-03-15T01:40:30.903004Z"
    }
   },
   "source": [
    "dropped_heart_X_train.head()"
   ],
   "outputs": [
    {
     "ename": "NameError",
     "evalue": "name 'dropped_heart_X_train' is not defined",
     "output_type": "error",
     "traceback": [
      "\u001B[0;31m---------------------------------------------------------------------------\u001B[0m",
      "\u001B[0;31mNameError\u001B[0m                                 Traceback (most recent call last)",
      "Cell \u001B[0;32mIn[49], line 1\u001B[0m\n\u001B[0;32m----> 1\u001B[0m \u001B[43mdropped_heart_X_train\u001B[49m\u001B[38;5;241m.\u001B[39mhead()\n",
      "\u001B[0;31mNameError\u001B[0m: name 'dropped_heart_X_train' is not defined"
     ]
    }
   ],
   "execution_count": 49
  },
  {
   "cell_type": "code",
   "metadata": {
    "ExecuteTime": {
     "end_time": "2025-03-15T01:40:31.040981Z",
     "start_time": "2025-03-15T01:40:31.033420Z"
    }
   },
   "source": [
    "pc2"
   ],
   "outputs": [
    {
     "ename": "NameError",
     "evalue": "name 'pc2' is not defined",
     "output_type": "error",
     "traceback": [
      "\u001B[0;31m---------------------------------------------------------------------------\u001B[0m",
      "\u001B[0;31mNameError\u001B[0m                                 Traceback (most recent call last)",
      "Cell \u001B[0;32mIn[50], line 1\u001B[0m\n\u001B[0;32m----> 1\u001B[0m \u001B[43mpc2\u001B[49m\n",
      "\u001B[0;31mNameError\u001B[0m: name 'pc2' is not defined"
     ]
    }
   ],
   "execution_count": 50
  },
  {
   "cell_type": "code",
   "metadata": {
    "ExecuteTime": {
     "end_time": "2025-03-15T01:40:31.087617Z",
     "start_time": "2025-03-15T01:40:31.077503Z"
    }
   },
   "source": [
    "df_pca = pd.DataFrame(data = pc, columns = ['principal component 1', 'principal component 2', 'principal component 3','principal component 4', 'principal component 5', 'principal component 6','principal component 7'])\n",
    "df_pca2 = pd.DataFrame(data = pc2, columns = ['principal component 1', 'principal component 2', 'principal component 3','principal component 4', 'principal component 5', 'principal component 6','principal component 7'])\n"
   ],
   "outputs": [
    {
     "ename": "NameError",
     "evalue": "name 'pc' is not defined",
     "output_type": "error",
     "traceback": [
      "\u001B[0;31m---------------------------------------------------------------------------\u001B[0m",
      "\u001B[0;31mNameError\u001B[0m                                 Traceback (most recent call last)",
      "Cell \u001B[0;32mIn[51], line 1\u001B[0m\n\u001B[0;32m----> 1\u001B[0m df_pca \u001B[38;5;241m=\u001B[39m pd\u001B[38;5;241m.\u001B[39mDataFrame(data \u001B[38;5;241m=\u001B[39m \u001B[43mpc\u001B[49m, columns \u001B[38;5;241m=\u001B[39m [\u001B[38;5;124m'\u001B[39m\u001B[38;5;124mprincipal component 1\u001B[39m\u001B[38;5;124m'\u001B[39m, \u001B[38;5;124m'\u001B[39m\u001B[38;5;124mprincipal component 2\u001B[39m\u001B[38;5;124m'\u001B[39m, \u001B[38;5;124m'\u001B[39m\u001B[38;5;124mprincipal component 3\u001B[39m\u001B[38;5;124m'\u001B[39m,\u001B[38;5;124m'\u001B[39m\u001B[38;5;124mprincipal component 4\u001B[39m\u001B[38;5;124m'\u001B[39m, \u001B[38;5;124m'\u001B[39m\u001B[38;5;124mprincipal component 5\u001B[39m\u001B[38;5;124m'\u001B[39m, \u001B[38;5;124m'\u001B[39m\u001B[38;5;124mprincipal component 6\u001B[39m\u001B[38;5;124m'\u001B[39m,\u001B[38;5;124m'\u001B[39m\u001B[38;5;124mprincipal component 7\u001B[39m\u001B[38;5;124m'\u001B[39m])\n\u001B[1;32m      2\u001B[0m df_pca2 \u001B[38;5;241m=\u001B[39m pd\u001B[38;5;241m.\u001B[39mDataFrame(data \u001B[38;5;241m=\u001B[39m pc2, columns \u001B[38;5;241m=\u001B[39m [\u001B[38;5;124m'\u001B[39m\u001B[38;5;124mprincipal component 1\u001B[39m\u001B[38;5;124m'\u001B[39m, \u001B[38;5;124m'\u001B[39m\u001B[38;5;124mprincipal component 2\u001B[39m\u001B[38;5;124m'\u001B[39m, \u001B[38;5;124m'\u001B[39m\u001B[38;5;124mprincipal component 3\u001B[39m\u001B[38;5;124m'\u001B[39m,\u001B[38;5;124m'\u001B[39m\u001B[38;5;124mprincipal component 4\u001B[39m\u001B[38;5;124m'\u001B[39m, \u001B[38;5;124m'\u001B[39m\u001B[38;5;124mprincipal component 5\u001B[39m\u001B[38;5;124m'\u001B[39m, \u001B[38;5;124m'\u001B[39m\u001B[38;5;124mprincipal component 6\u001B[39m\u001B[38;5;124m'\u001B[39m,\u001B[38;5;124m'\u001B[39m\u001B[38;5;124mprincipal component 7\u001B[39m\u001B[38;5;124m'\u001B[39m])\n",
      "\u001B[0;31mNameError\u001B[0m: name 'pc' is not defined"
     ]
    }
   ],
   "execution_count": 51
  },
  {
   "cell_type": "code",
   "metadata": {
    "ExecuteTime": {
     "end_time": "2025-03-15T01:40:31.186325Z",
     "start_time": "2025-03-15T01:40:31.176507Z"
    }
   },
   "source": [
    "final_train_pca_df = pd.concat([df_pca, heart_y_train[['num']]], axis = 1)\n",
    "final_test_pca_df = pd.concat([df_pca2, heart_y_train[['num']]], axis = 1)"
   ],
   "outputs": [
    {
     "ename": "NameError",
     "evalue": "name 'df_pca' is not defined",
     "output_type": "error",
     "traceback": [
      "\u001B[0;31m---------------------------------------------------------------------------\u001B[0m",
      "\u001B[0;31mNameError\u001B[0m                                 Traceback (most recent call last)",
      "Cell \u001B[0;32mIn[52], line 1\u001B[0m\n\u001B[0;32m----> 1\u001B[0m final_train_pca_df \u001B[38;5;241m=\u001B[39m pd\u001B[38;5;241m.\u001B[39mconcat([\u001B[43mdf_pca\u001B[49m, heart_y_train[[\u001B[38;5;124m'\u001B[39m\u001B[38;5;124mnum\u001B[39m\u001B[38;5;124m'\u001B[39m]]], axis \u001B[38;5;241m=\u001B[39m \u001B[38;5;241m1\u001B[39m)\n\u001B[1;32m      2\u001B[0m final_test_pca_df \u001B[38;5;241m=\u001B[39m pd\u001B[38;5;241m.\u001B[39mconcat([df_pca2, heart_y_train[[\u001B[38;5;124m'\u001B[39m\u001B[38;5;124mnum\u001B[39m\u001B[38;5;124m'\u001B[39m]]], axis \u001B[38;5;241m=\u001B[39m \u001B[38;5;241m1\u001B[39m)\n",
      "\u001B[0;31mNameError\u001B[0m: name 'df_pca' is not defined"
     ]
    }
   ],
   "execution_count": 52
  },
  {
   "cell_type": "code",
   "metadata": {
    "ExecuteTime": {
     "end_time": "2025-03-15T01:40:31.268889Z",
     "start_time": "2025-03-15T01:40:31.261015Z"
    }
   },
   "source": [
    "final_train_pca_df.head()"
   ],
   "outputs": [
    {
     "ename": "NameError",
     "evalue": "name 'final_train_pca_df' is not defined",
     "output_type": "error",
     "traceback": [
      "\u001B[0;31m---------------------------------------------------------------------------\u001B[0m",
      "\u001B[0;31mNameError\u001B[0m                                 Traceback (most recent call last)",
      "Cell \u001B[0;32mIn[53], line 1\u001B[0m\n\u001B[0;32m----> 1\u001B[0m \u001B[43mfinal_train_pca_df\u001B[49m\u001B[38;5;241m.\u001B[39mhead()\n",
      "\u001B[0;31mNameError\u001B[0m: name 'final_train_pca_df' is not defined"
     ]
    }
   ],
   "execution_count": 53
  },
  {
   "cell_type": "code",
   "metadata": {
    "ExecuteTime": {
     "end_time": "2025-03-15T01:40:31.359224Z",
     "start_time": "2025-03-15T01:40:31.351714Z"
    }
   },
   "source": [
    "dropped_heart_X_train.head()"
   ],
   "outputs": [
    {
     "ename": "NameError",
     "evalue": "name 'dropped_heart_X_train' is not defined",
     "output_type": "error",
     "traceback": [
      "\u001B[0;31m---------------------------------------------------------------------------\u001B[0m",
      "\u001B[0;31mNameError\u001B[0m                                 Traceback (most recent call last)",
      "Cell \u001B[0;32mIn[54], line 1\u001B[0m\n\u001B[0;32m----> 1\u001B[0m \u001B[43mdropped_heart_X_train\u001B[49m\u001B[38;5;241m.\u001B[39mhead()\n",
      "\u001B[0;31mNameError\u001B[0m: name 'dropped_heart_X_train' is not defined"
     ]
    }
   ],
   "execution_count": 54
  },
  {
   "cell_type": "code",
   "metadata": {
    "ExecuteTime": {
     "end_time": "2025-03-15T01:40:31.464416Z",
     "start_time": "2025-03-15T01:40:31.456608Z"
    }
   },
   "source": [
    "heart_y_train.to_numpy().reshape(-1).flatten()"
   ],
   "outputs": [
    {
     "ename": "NameError",
     "evalue": "name 'heart_y_train' is not defined",
     "output_type": "error",
     "traceback": [
      "\u001B[0;31m---------------------------------------------------------------------------\u001B[0m",
      "\u001B[0;31mNameError\u001B[0m                                 Traceback (most recent call last)",
      "Cell \u001B[0;32mIn[55], line 1\u001B[0m\n\u001B[0;32m----> 1\u001B[0m \u001B[43mheart_y_train\u001B[49m\u001B[38;5;241m.\u001B[39mto_numpy()\u001B[38;5;241m.\u001B[39mreshape(\u001B[38;5;241m-\u001B[39m\u001B[38;5;241m1\u001B[39m)\u001B[38;5;241m.\u001B[39mflatten()\n",
      "\u001B[0;31mNameError\u001B[0m: name 'heart_y_train' is not defined"
     ]
    }
   ],
   "execution_count": 55
  },
  {
   "cell_type": "code",
   "metadata": {
    "ExecuteTime": {
     "end_time": "2025-03-15T01:40:31.538373Z",
     "start_time": "2025-03-15T01:40:31.529668Z"
    }
   },
   "source": [
    "clf_NN = MLPClassifier(solver='lbfgs', alpha=1e-5,\n",
    "                    hidden_layer_sizes=(5, 2), random_state=1)\n",
    "\n",
    "clf_NN.fit(dropped_heart_X_train, heart_y_train)"
   ],
   "outputs": [
    {
     "ename": "NameError",
     "evalue": "name 'dropped_heart_X_train' is not defined",
     "output_type": "error",
     "traceback": [
      "\u001B[0;31m---------------------------------------------------------------------------\u001B[0m",
      "\u001B[0;31mNameError\u001B[0m                                 Traceback (most recent call last)",
      "Cell \u001B[0;32mIn[56], line 4\u001B[0m\n\u001B[1;32m      1\u001B[0m clf_NN \u001B[38;5;241m=\u001B[39m MLPClassifier(solver\u001B[38;5;241m=\u001B[39m\u001B[38;5;124m'\u001B[39m\u001B[38;5;124mlbfgs\u001B[39m\u001B[38;5;124m'\u001B[39m, alpha\u001B[38;5;241m=\u001B[39m\u001B[38;5;241m1e-5\u001B[39m,\n\u001B[1;32m      2\u001B[0m                     hidden_layer_sizes\u001B[38;5;241m=\u001B[39m(\u001B[38;5;241m5\u001B[39m, \u001B[38;5;241m2\u001B[39m), random_state\u001B[38;5;241m=\u001B[39m\u001B[38;5;241m1\u001B[39m)\n\u001B[0;32m----> 4\u001B[0m clf_NN\u001B[38;5;241m.\u001B[39mfit(\u001B[43mdropped_heart_X_train\u001B[49m, heart_y_train)\n",
      "\u001B[0;31mNameError\u001B[0m: name 'dropped_heart_X_train' is not defined"
     ]
    }
   ],
   "execution_count": 56
  },
  {
   "cell_type": "code",
   "metadata": {
    "ExecuteTime": {
     "end_time": "2025-03-15T01:40:31.638802Z",
     "start_time": "2025-03-15T01:40:31.631056Z"
    }
   },
   "source": [
    "clf_NN.predict(dropped_heart_X_test)"
   ],
   "outputs": [
    {
     "ename": "NameError",
     "evalue": "name 'dropped_heart_X_test' is not defined",
     "output_type": "error",
     "traceback": [
      "\u001B[0;31m---------------------------------------------------------------------------\u001B[0m",
      "\u001B[0;31mNameError\u001B[0m                                 Traceback (most recent call last)",
      "Cell \u001B[0;32mIn[57], line 1\u001B[0m\n\u001B[0;32m----> 1\u001B[0m clf_NN\u001B[38;5;241m.\u001B[39mpredict(\u001B[43mdropped_heart_X_test\u001B[49m)\n",
      "\u001B[0;31mNameError\u001B[0m: name 'dropped_heart_X_test' is not defined"
     ]
    }
   ],
   "execution_count": 57
  },
  {
   "cell_type": "code",
   "metadata": {
    "ExecuteTime": {
     "end_time": "2025-03-15T01:40:31.702053Z",
     "start_time": "2025-03-15T01:40:31.694952Z"
    }
   },
   "source": [
    "len(dropped_heart_X_test)"
   ],
   "outputs": [
    {
     "ename": "NameError",
     "evalue": "name 'dropped_heart_X_test' is not defined",
     "output_type": "error",
     "traceback": [
      "\u001B[0;31m---------------------------------------------------------------------------\u001B[0m",
      "\u001B[0;31mNameError\u001B[0m                                 Traceback (most recent call last)",
      "Cell \u001B[0;32mIn[58], line 1\u001B[0m\n\u001B[0;32m----> 1\u001B[0m \u001B[38;5;28mlen\u001B[39m(\u001B[43mdropped_heart_X_test\u001B[49m)\n",
      "\u001B[0;31mNameError\u001B[0m: name 'dropped_heart_X_test' is not defined"
     ]
    }
   ],
   "execution_count": 58
  },
  {
   "cell_type": "code",
   "metadata": {
    "ExecuteTime": {
     "end_time": "2025-03-15T01:40:31.761398Z",
     "start_time": "2025-03-15T01:40:31.753348Z"
    }
   },
   "source": [
    "len(heart_y_test)"
   ],
   "outputs": [
    {
     "ename": "NameError",
     "evalue": "name 'heart_y_test' is not defined",
     "output_type": "error",
     "traceback": [
      "\u001B[0;31m---------------------------------------------------------------------------\u001B[0m",
      "\u001B[0;31mNameError\u001B[0m                                 Traceback (most recent call last)",
      "Cell \u001B[0;32mIn[59], line 1\u001B[0m\n\u001B[0;32m----> 1\u001B[0m \u001B[38;5;28mlen\u001B[39m(\u001B[43mheart_y_test\u001B[49m)\n",
      "\u001B[0;31mNameError\u001B[0m: name 'heart_y_test' is not defined"
     ]
    }
   ],
   "execution_count": 59
  },
  {
   "cell_type": "code",
   "metadata": {
    "ExecuteTime": {
     "end_time": "2025-03-15T01:40:31.835057Z",
     "start_time": "2025-03-15T01:40:31.828032Z"
    }
   },
   "source": [
    "heart_y_test"
   ],
   "outputs": [
    {
     "ename": "NameError",
     "evalue": "name 'heart_y_test' is not defined",
     "output_type": "error",
     "traceback": [
      "\u001B[0;31m---------------------------------------------------------------------------\u001B[0m",
      "\u001B[0;31mNameError\u001B[0m                                 Traceback (most recent call last)",
      "Cell \u001B[0;32mIn[60], line 1\u001B[0m\n\u001B[0;32m----> 1\u001B[0m \u001B[43mheart_y_test\u001B[49m\n",
      "\u001B[0;31mNameError\u001B[0m: name 'heart_y_test' is not defined"
     ]
    }
   ],
   "execution_count": 60
  },
  {
   "cell_type": "code",
   "metadata": {
    "ExecuteTime": {
     "end_time": "2025-03-15T01:40:31.894634Z",
     "start_time": "2025-03-15T01:40:31.886977Z"
    }
   },
   "source": [
    "dropped_heart_X_test.head(300)"
   ],
   "outputs": [
    {
     "ename": "NameError",
     "evalue": "name 'dropped_heart_X_test' is not defined",
     "output_type": "error",
     "traceback": [
      "\u001B[0;31m---------------------------------------------------------------------------\u001B[0m",
      "\u001B[0;31mNameError\u001B[0m                                 Traceback (most recent call last)",
      "Cell \u001B[0;32mIn[61], line 1\u001B[0m\n\u001B[0;32m----> 1\u001B[0m \u001B[43mdropped_heart_X_test\u001B[49m\u001B[38;5;241m.\u001B[39mhead(\u001B[38;5;241m300\u001B[39m)\n",
      "\u001B[0;31mNameError\u001B[0m: name 'dropped_heart_X_test' is not defined"
     ]
    }
   ],
   "execution_count": 61
  },
  {
   "cell_type": "code",
   "metadata": {
    "ExecuteTime": {
     "end_time": "2025-03-15T01:40:31.977438Z",
     "start_time": "2025-03-15T01:40:31.970529Z"
    }
   },
   "source": [
    "len(dropped_heart_X_train)"
   ],
   "outputs": [
    {
     "ename": "NameError",
     "evalue": "name 'dropped_heart_X_train' is not defined",
     "output_type": "error",
     "traceback": [
      "\u001B[0;31m---------------------------------------------------------------------------\u001B[0m",
      "\u001B[0;31mNameError\u001B[0m                                 Traceback (most recent call last)",
      "Cell \u001B[0;32mIn[62], line 1\u001B[0m\n\u001B[0;32m----> 1\u001B[0m \u001B[38;5;28mlen\u001B[39m(\u001B[43mdropped_heart_X_train\u001B[49m)\n",
      "\u001B[0;31mNameError\u001B[0m: name 'dropped_heart_X_train' is not defined"
     ]
    }
   ],
   "execution_count": 62
  },
  {
   "cell_type": "code",
   "metadata": {
    "ExecuteTime": {
     "end_time": "2025-03-15T01:40:32.061384Z",
     "start_time": "2025-03-15T01:40:32.053687Z"
    }
   },
   "source": [
    "len(heart_y_train)"
   ],
   "outputs": [
    {
     "ename": "NameError",
     "evalue": "name 'heart_y_train' is not defined",
     "output_type": "error",
     "traceback": [
      "\u001B[0;31m---------------------------------------------------------------------------\u001B[0m",
      "\u001B[0;31mNameError\u001B[0m                                 Traceback (most recent call last)",
      "Cell \u001B[0;32mIn[63], line 1\u001B[0m\n\u001B[0;32m----> 1\u001B[0m \u001B[38;5;28mlen\u001B[39m(\u001B[43mheart_y_train\u001B[49m)\n",
      "\u001B[0;31mNameError\u001B[0m: name 'heart_y_train' is not defined"
     ]
    }
   ],
   "execution_count": 63
  },
  {
   "cell_type": "code",
   "metadata": {
    "ExecuteTime": {
     "end_time": "2025-03-15T01:40:32.159450Z",
     "start_time": "2025-03-15T01:40:32.151431Z"
    }
   },
   "source": [
    "len(df_heart_standardized)"
   ],
   "outputs": [
    {
     "ename": "NameError",
     "evalue": "name 'df_heart_standardized' is not defined",
     "output_type": "error",
     "traceback": [
      "\u001B[0;31m---------------------------------------------------------------------------\u001B[0m",
      "\u001B[0;31mNameError\u001B[0m                                 Traceback (most recent call last)",
      "Cell \u001B[0;32mIn[64], line 1\u001B[0m\n\u001B[0;32m----> 1\u001B[0m \u001B[38;5;28mlen\u001B[39m(\u001B[43mdf_heart_standardized\u001B[49m)\n",
      "\u001B[0;31mNameError\u001B[0m: name 'df_heart_standardized' is not defined"
     ]
    }
   ],
   "execution_count": 64
  },
  {
   "cell_type": "code",
   "metadata": {
    "ExecuteTime": {
     "end_time": "2025-03-15T01:40:32.263987Z",
     "start_time": "2025-03-15T01:40:32.256286Z"
    }
   },
   "source": [
    "accuracy_score(clf_NN.predict(dropped_heart_X_test), heart_y_test)"
   ],
   "outputs": [
    {
     "ename": "NameError",
     "evalue": "name 'dropped_heart_X_test' is not defined",
     "output_type": "error",
     "traceback": [
      "\u001B[0;31m---------------------------------------------------------------------------\u001B[0m",
      "\u001B[0;31mNameError\u001B[0m                                 Traceback (most recent call last)",
      "Cell \u001B[0;32mIn[65], line 1\u001B[0m\n\u001B[0;32m----> 1\u001B[0m accuracy_score(clf_NN\u001B[38;5;241m.\u001B[39mpredict(\u001B[43mdropped_heart_X_test\u001B[49m), heart_y_test)\n",
      "\u001B[0;31mNameError\u001B[0m: name 'dropped_heart_X_test' is not defined"
     ]
    }
   ],
   "execution_count": 65
  },
  {
   "cell_type": "markdown",
   "metadata": {},
   "source": [
    "<h1 style=text-align:center;> Genetic Alogrithim"
   ]
  },
  {
   "cell_type": "markdown",
   "metadata": {},
   "source": [
    "# Genetic Algorithm for K-Nearest Neighbors Weight Optimization\n",
    "\n",
    "## Introduction\n",
    "\n",
    "This document outlines the steps to optimize weights for a K-Nearest Neighbors (KNN) classifier using a genetic algorithm. The process involves creating multiple populations of weight sets, evaluating their performance, and iteratively refining them to improve the classifier's accuracy.\n",
    "\n",
    "## Steps\n",
    "\n",
    "### 1. Initialize Populations\n",
    "\n",
    "- **Create 20 populations**:\n",
    "  - Each population consists of a set of weights.\n",
    "  - Initialize weights by multiplying the original weights by a random number between 0 and 1.\n",
    "\n",
    "### 2. Evaluate Accuracy\n",
    "\n",
    "- **Run KNN on each population**:\n",
    "  - Split the dataset into training and testing sets.\n",
    "  - Train the KNN classifier using the weights from each population.\n",
    "  - Calculate the accuracy of each population on the test set.\n",
    "  - Store the accuracy for each population.\n",
    "\n",
    "### 3. Select Top Populations\n",
    "\n",
    "- **Drop the bottom 10 populations**:\n",
    "  - Sort the populations based on their accuracy.\n",
    "  - Retain the top 10 populations and discard the bottom 10.\n",
    "\n",
    "### 4. Duplicate Top Populations\n",
    "\n",
    "- **Duplicate the top 10 populations**:\n",
    "  - Create new populations by duplicating the top 10 populations.\n",
    "  - This results in 20 populations again.\n",
    "\n",
    "### 5. Apply Genetic Algorithm\n",
    "\n",
    "- **Perform genetic operations**:\n",
    "  - Apply crossover and mutation to the duplicated populations to introduce variations.\n",
    "  - Ensure the new populations are different from the previous ones.\n",
    "\n",
    "### 6. Repeat\n",
    "\n",
    "- **Iterate the process**:\n",
    "  - Repeat steps 2 to 5 for a predefined number of generations or until the accuracy converges.\n"
   ]
  },
  {
   "cell_type": "code",
   "metadata": {
    "ExecuteTime": {
     "end_time": "2025-03-15T01:40:32.349124Z",
     "start_time": "2025-03-15T01:40:32.346817Z"
    }
   },
   "source": [
    "heart_swagger"
   ],
   "outputs": [
    {
     "data": {
      "text/plain": [
       "[]"
      ]
     },
     "execution_count": 66,
     "metadata": {},
     "output_type": "execute_result"
    }
   ],
   "execution_count": 66
  },
  {
   "cell_type": "code",
   "metadata": {
    "ExecuteTime": {
     "end_time": "2025-03-15T01:40:32.414976Z",
     "start_time": "2025-03-15T01:40:32.412686Z"
    }
   },
   "source": [
    "def weight_manipulation(num_of_population,num_of_weights,weights):\n",
    "\n",
    "    genetic_weights = np.empty((num_of_population,num_of_weights))\n",
    "\n",
    "    np_weights = np.array(weights)\n",
    "\n",
    "    # print(\"weights : \", np_weights.shape)\n",
    "    # print(\"Chama: \", genetic_weights.shape)\n",
    "\n",
    "    if(np_weights.ndim == 1):\n",
    "\n",
    "        for i in range(0, num_of_population):\n",
    "            genetic_weights[i] = weights * np.random.rand(len(weights))\n",
    "\n",
    "        # print(\"Huh: \" ,genetic_weights.shape)\n",
    "\n",
    "        return genetic_weights\n",
    "\n",
    "    else :\n",
    "\n",
    "        for row in range(num_of_population):\n",
    "            # Multiply each element in the row by a random factor\n",
    "            # The random factor must have the same number of columns as the weight matrix\n",
    "            genetic_weights[row] = np_weights[row] * np.random.rand(np_weights.shape[1])\n",
    "\n",
    "    return genetic_weights"
   ],
   "outputs": [],
   "execution_count": 67
  },
  {
   "cell_type": "code",
   "metadata": {
    "ExecuteTime": {
     "end_time": "2025-03-15T01:40:32.506566Z",
     "start_time": "2025-03-15T01:40:32.503071Z"
    }
   },
   "source": [
    "def get_weight_manipulated_acc(num_of_population, genetic_weights):\n",
    "\n",
    "    population_data = []\n",
    "    population_data_sorted = []\n",
    "\n",
    "    for population in range(num_of_population):\n",
    "\n",
    "        Train_Data =  pd.concat([dropped_heart_X_train, heart_y_train], axis=1)\n",
    "        Test_Data = pd.concat([dropped_heart_X_test, heart_y_test], axis=1)\n",
    "\n",
    "        TP = TN = FP = FN =0\n",
    "\n",
    "        for p in range(len(Test_Data)):\n",
    "            point=Test_Data.iloc[p]\n",
    "            NBRS=Nearest_Neighbors(point, Train_Data, genetic_weights[population] , \"num\")\n",
    "            Label=KNN(3,NBRS)\n",
    "            if (Label==point[\"num\"] and Label==1):\n",
    "                TP+=1\n",
    "            if (Label==point[\"num\"] and Label==0):\n",
    "                TN+=1\n",
    "            if (Label!=point[\"num\"] and Label==1):\n",
    "                FP+=1\n",
    "            if (Label!=point[\"num\"] and Label==0):\n",
    "                FN+=1\n",
    "        A_dropped_weighted=(TP+TN)/(TP+TN+FP+FN)\n",
    "\n",
    "        accuracy = A_dropped_weighted*100\n",
    "\n",
    "        accuracy_list.append(accuracy)\n",
    "\n",
    "        population_weights_with_accuracy = np.append(genetic_weights[population], accuracy)\n",
    "        print(\"This is population_weights_with_accuracy, \", population_weights_with_accuracy)\n",
    "        population_data.append(population_weights_with_accuracy)\n",
    "        print(\"This is population_data, \", population_data)\n",
    "        population_data_sorted = sorted(population_data, key=lambda x: x[-1], reverse=True)\n",
    "        print(\"This is population_data_sorted, \", population_data_sorted)\n",
    "\n",
    "    return population_data_sorted"
   ],
   "outputs": [],
   "execution_count": 68
  },
  {
   "cell_type": "code",
   "metadata": {
    "ExecuteTime": {
     "end_time": "2025-03-15T01:40:32.617325Z",
     "start_time": "2025-03-15T01:40:32.615174Z"
    }
   },
   "source": [
    "# def weight_manipulation(num_of_population,num_of_weights,weights):\n",
    "# \n",
    "#     genetic_weights = np.empty((num_of_population,num_of_weights))\n",
    "# \n",
    "#     np_weights = np.array(weights)\n",
    "# \n",
    "#     row, col = np_weights.shape\n",
    "# \n",
    "#     if(col == 0):\n",
    "# \n",
    "#         for i in range(0, np_weights.shape[0]):\n",
    "#             genetic_weights[i] = weights[i] * np.random.rand(np_weights.shape[i])\n",
    "# \n",
    "# \n",
    "#         genetic_weights = genetic_weights.reshape(-1,1)\n",
    "# \n",
    "#         return genetic_weights\n",
    "#     else :\n",
    "# \n",
    "#         for i in range(0, np_weights.shape[0]):\n",
    "#             genetic_weights[i] = weights[i] * np.random.rand(np_weights.shape[i])\n",
    "# \n",
    "# \n",
    "#     return genetic_weights"
   ],
   "outputs": [],
   "execution_count": 69
  },
  {
   "cell_type": "code",
   "metadata": {
    "ExecuteTime": {
     "end_time": "2025-03-15T01:40:32.715687Z",
     "start_time": "2025-03-15T01:40:32.699289Z"
    }
   },
   "source": [
    "num_of_population = 20\n",
    "num_of_weights = len(heart_swagger)\n",
    "\n",
    "generations = 10\n",
    "\n",
    "accuracy_list = []\n",
    "\n",
    "# Dictionary to hold generations data\n",
    "ig_generations_data = {}\n",
    "    \n",
    "for gen_num in range(generations):\n",
    "    \n",
    "    if gen_num == 0:\n",
    "\n",
    "        genetic_weights = weight_manipulation(num_of_population, num_of_weights,heart_swagger)\n",
    "        \n",
    "        population_data_sorted = get_weight_manipulated_acc(num_of_population, genetic_weights)\n",
    "        ig_generations_data[f'Generation_{gen_num + 1}'] = population_data_sorted\n",
    "    else :\n",
    "\n",
    "        population_data_sorted[-10:] = population_data_sorted[:10]\n",
    "\n",
    "        for i in range(num_of_population):\n",
    "            genetic_weights[i] = population_data_sorted[i][:7]\n",
    "\n",
    "        genetic_weights = weight_manipulation(num_of_population, num_of_weights, genetic_weights)\n",
    "\n",
    "        population_data_sorted = get_weight_manipulated_acc(num_of_population, genetic_weights)\n",
    "        ig_generations_data[f'Generation_{gen_num + 1}'] = population_data_sorted\n",
    "    \n",
    "    "
   ],
   "outputs": [
    {
     "ename": "NameError",
     "evalue": "name 'dropped_heart_X_train' is not defined",
     "output_type": "error",
     "traceback": [
      "\u001B[0;31m---------------------------------------------------------------------------\u001B[0m",
      "\u001B[0;31mNameError\u001B[0m                                 Traceback (most recent call last)",
      "Cell \u001B[0;32mIn[70], line 17\u001B[0m\n\u001B[1;32m     13\u001B[0m \u001B[38;5;28;01mif\u001B[39;00m gen_num \u001B[38;5;241m==\u001B[39m \u001B[38;5;241m0\u001B[39m:\n\u001B[1;32m     15\u001B[0m     genetic_weights \u001B[38;5;241m=\u001B[39m weight_manipulation(num_of_population, num_of_weights,heart_swagger)\n\u001B[0;32m---> 17\u001B[0m     population_data_sorted \u001B[38;5;241m=\u001B[39m \u001B[43mget_weight_manipulated_acc\u001B[49m\u001B[43m(\u001B[49m\u001B[43mnum_of_population\u001B[49m\u001B[43m,\u001B[49m\u001B[43m \u001B[49m\u001B[43mgenetic_weights\u001B[49m\u001B[43m)\u001B[49m\n\u001B[1;32m     18\u001B[0m     ig_generations_data[\u001B[38;5;124mf\u001B[39m\u001B[38;5;124m'\u001B[39m\u001B[38;5;124mGeneration_\u001B[39m\u001B[38;5;132;01m{\u001B[39;00mgen_num\u001B[38;5;250m \u001B[39m\u001B[38;5;241m+\u001B[39m\u001B[38;5;250m \u001B[39m\u001B[38;5;241m1\u001B[39m\u001B[38;5;132;01m}\u001B[39;00m\u001B[38;5;124m'\u001B[39m] \u001B[38;5;241m=\u001B[39m population_data_sorted\n\u001B[1;32m     19\u001B[0m \u001B[38;5;28;01melse\u001B[39;00m :\n",
      "Cell \u001B[0;32mIn[68], line 8\u001B[0m, in \u001B[0;36mget_weight_manipulated_acc\u001B[0;34m(num_of_population, genetic_weights)\u001B[0m\n\u001B[1;32m      4\u001B[0m population_data_sorted \u001B[38;5;241m=\u001B[39m []\n\u001B[1;32m      6\u001B[0m \u001B[38;5;28;01mfor\u001B[39;00m population \u001B[38;5;129;01min\u001B[39;00m \u001B[38;5;28mrange\u001B[39m(num_of_population):\n\u001B[0;32m----> 8\u001B[0m     Train_Data \u001B[38;5;241m=\u001B[39m  pd\u001B[38;5;241m.\u001B[39mconcat([\u001B[43mdropped_heart_X_train\u001B[49m, heart_y_train], axis\u001B[38;5;241m=\u001B[39m\u001B[38;5;241m1\u001B[39m)\n\u001B[1;32m      9\u001B[0m     Test_Data \u001B[38;5;241m=\u001B[39m pd\u001B[38;5;241m.\u001B[39mconcat([dropped_heart_X_test, heart_y_test], axis\u001B[38;5;241m=\u001B[39m\u001B[38;5;241m1\u001B[39m)\n\u001B[1;32m     11\u001B[0m     TP \u001B[38;5;241m=\u001B[39m TN \u001B[38;5;241m=\u001B[39m FP \u001B[38;5;241m=\u001B[39m FN \u001B[38;5;241m=\u001B[39m\u001B[38;5;241m0\u001B[39m\n",
      "\u001B[0;31mNameError\u001B[0m: name 'dropped_heart_X_train' is not defined"
     ]
    }
   ],
   "execution_count": 70
  },
  {
   "cell_type": "code",
   "metadata": {
    "ExecuteTime": {
     "end_time": "2025-03-15T01:40:32.760644Z",
     "start_time": "2025-03-15T01:40:32.752549Z"
    }
   },
   "source": [
    "for i in range(0,20):\n",
    "    print(ig_generations_data[\"Generation_100\"][i][7])"
   ],
   "outputs": [
    {
     "ename": "KeyError",
     "evalue": "'Generation_100'",
     "output_type": "error",
     "traceback": [
      "\u001B[0;31m---------------------------------------------------------------------------\u001B[0m",
      "\u001B[0;31mKeyError\u001B[0m                                  Traceback (most recent call last)",
      "Cell \u001B[0;32mIn[71], line 2\u001B[0m\n\u001B[1;32m      1\u001B[0m \u001B[38;5;28;01mfor\u001B[39;00m i \u001B[38;5;129;01min\u001B[39;00m \u001B[38;5;28mrange\u001B[39m(\u001B[38;5;241m0\u001B[39m,\u001B[38;5;241m20\u001B[39m):\n\u001B[0;32m----> 2\u001B[0m     \u001B[38;5;28mprint\u001B[39m(\u001B[43mig_generations_data\u001B[49m\u001B[43m[\u001B[49m\u001B[38;5;124;43m\"\u001B[39;49m\u001B[38;5;124;43mGeneration_100\u001B[39;49m\u001B[38;5;124;43m\"\u001B[39;49m\u001B[43m]\u001B[49m[i][\u001B[38;5;241m7\u001B[39m])\n",
      "\u001B[0;31mKeyError\u001B[0m: 'Generation_100'"
     ]
    }
   ],
   "execution_count": 71
  },
  {
   "cell_type": "code",
   "metadata": {
    "ExecuteTime": {
     "end_time": "2025-03-15T01:40:32.822383Z",
     "start_time": "2025-03-15T01:40:32.814890Z"
    }
   },
   "source": [
    "updated_heart_swagger = ig_generations_data[\"Generation_100\"][0][:7]"
   ],
   "outputs": [
    {
     "ename": "KeyError",
     "evalue": "'Generation_100'",
     "output_type": "error",
     "traceback": [
      "\u001B[0;31m---------------------------------------------------------------------------\u001B[0m",
      "\u001B[0;31mKeyError\u001B[0m                                  Traceback (most recent call last)",
      "Cell \u001B[0;32mIn[72], line 1\u001B[0m\n\u001B[0;32m----> 1\u001B[0m updated_heart_swagger \u001B[38;5;241m=\u001B[39m \u001B[43mig_generations_data\u001B[49m\u001B[43m[\u001B[49m\u001B[38;5;124;43m\"\u001B[39;49m\u001B[38;5;124;43mGeneration_100\u001B[39;49m\u001B[38;5;124;43m\"\u001B[39;49m\u001B[43m]\u001B[49m[\u001B[38;5;241m0\u001B[39m][:\u001B[38;5;241m7\u001B[39m]\n",
      "\u001B[0;31mKeyError\u001B[0m: 'Generation_100'"
     ]
    }
   ],
   "execution_count": 72
  },
  {
   "cell_type": "code",
   "metadata": {
    "ExecuteTime": {
     "end_time": "2025-03-15T01:40:32.864956Z",
     "start_time": "2025-03-15T01:40:32.843015Z"
    }
   },
   "source": [
    "GA_weight_acc = []\n",
    "\n",
    "dropped_weight_avg_acc = []\n",
    "avg_acc = []\n",
    "\n",
    "sim_len = 100\n",
    "for i in range(sim_len):\n",
    "\n",
    "    heart_avg_info_gain_df, heart_avg_info_gain_array, heart_X_test, heart_y_test, heart_X_train, heart_y_train = run_simulation(sim_len, df_heart_standardized, label_col, pos_label, neg_label, size, num_of_rand)\n",
    "\n",
    "    # dropping some columns as feature selections\n",
    "    alpha = .1\n",
    "    count = 0\n",
    "    heart_swagger = []\n",
    "    heart_indices = []  # Array to store the indices\n",
    "\n",
    "    for idx, ig in enumerate(heart_avg_info_gain_array):\n",
    "        if ((ig / max(heart_avg_info_gain_array)) ** 2 < alpha):\n",
    "            count += 1\n",
    "            heart_indices.append(idx)  # Append the index\n",
    "        else:\n",
    "            heart_swagger.append(ig)\n",
    "\n",
    "    dropped_heart_X_train = heart_X_train.drop(heart_X_train.columns[heart_indices],axis=1)\n",
    "    dropped_heart_X_test = heart_X_test.drop(heart_X_test.columns[heart_indices],axis=1)\n",
    "\n",
    "    Train_Data =  pd.concat([dropped_heart_X_train, heart_y_train], axis=1)\n",
    "    Test_Data = pd.concat([dropped_heart_X_test, heart_y_test], axis=1)\n",
    "\n",
    "    TP=0\n",
    "    TN=0\n",
    "    FP=0\n",
    "    FN=0\n",
    "\n",
    "    # weighted k-NN with dropped columns using information gain with dropped columns\n",
    "    for p in range(len(Test_Data)):\n",
    "        point=Test_Data.iloc[p]\n",
    "        NBRS=Nearest_Neighbors(point, Train_Data, heart_swagger , \"num\")\n",
    "        Label=KNN(3,NBRS)\n",
    "        if (Label==point[\"num\"] and Label==1):\n",
    "            TP+=1\n",
    "        if (Label==point[\"num\"] and Label==0):\n",
    "            TN+=1\n",
    "        if (Label!=point[\"num\"] and Label==1):\n",
    "            FP+=1\n",
    "        if (Label!=point[\"num\"] and Label==0):\n",
    "            FN+=1\n",
    "    A_dropped_weighted=(TP+TN)/(TP+TN+FP+FN)\n",
    "    precision_dropped_weighted = TP/(TP+FP)\n",
    "    recall_dropped_weighted = TP/(TP+FN)\n",
    "    f1_dropped_weighted = (2 * precision_dropped_weighted * recall_dropped_weighted)/(precision_dropped_weighted+recall_dropped_weighted)\n",
    "    specificity_dropped_weighted = specificity_score(TN,FP)\n",
    "\n",
    "    dropped_weight_avg_acc.append(A_dropped_weighted*100)\n",
    "    dropped_weight_avg_precision.append(precision_dropped_weighted*100)\n",
    "    dropped_weight_avg_recall.append(recall_dropped_weighted*100)\n",
    "    dropped_weight_avg_f1.append(f1_dropped_weighted*100)\n",
    "    dropped_weight_avg_specificity.append(specificity_dropped_weighted*100)\n",
    "\n",
    "    TP=0\n",
    "    TN=0\n",
    "    FP=0\n",
    "    FN=0\n",
    "\n",
    "    for p in range(len(Test_Data)):\n",
    "        point=Test_Data.iloc[p]\n",
    "        NBRS=Nearest_Neighbors(point, Train_Data, updated_heart_swagger , \"num\")\n",
    "        Label=KNN(3,NBRS)\n",
    "        if (Label==point[\"num\"] and Label==1):\n",
    "            TP+=1\n",
    "        if (Label==point[\"num\"] and Label==0):\n",
    "            TN+=1\n",
    "        if (Label!=point[\"num\"] and Label==1):\n",
    "            FP+=1\n",
    "        if (Label!=point[\"num\"] and Label==0):\n",
    "            FN+=1\n",
    "    A_dropped_weighted=(TP+TN)/(TP+TN+FP+FN)\n",
    "    # precision_dropped_weighted = TP/(TP+FP)\n",
    "    # recall_dropped_weighted = TP/(TP+FN)\n",
    "    # f1_dropped_weighted = (2 * precision_dropped_weighted * recall_dropped_weighted)/(precision_dropped_weighted+recall_dropped_weighted)\n",
    "    # specificity_dropped_weighted = TN/(TN+FP)\n",
    "\n",
    "    GA_weight_acc.append(A_dropped_weighted*100)\n",
    "    # dropped_weight_avg_precision.append(precision_dropped_weighted*100)\n",
    "    # dropped_weight_avg_recall.append(recall_dropped_weighted*100)\n",
    "    # dropped_weight_avg_f1.append(f1_dropped_weighted*100)\n",
    "    # dropped_weight_avg_specificity.append(specificity_dropped_weighted*100)\n",
    "\n",
    "    for p in range(len(Test_Data)):\n",
    "        point=Test_Data.iloc[p]\n",
    "        NBRS=Nearest_Neighbors(point, Train_Data, [1,1,1,1,1,1,1], \"num\")\n",
    "        Label=KNN(3,NBRS)\n",
    "    if (Label==point[\"num\"] and Label==1):\n",
    "        TP+=1\n",
    "    if (Label==point[\"num\"] and Label==0):\n",
    "        TN+=1\n",
    "    if (Label!=point[\"num\"] and Label==1):\n",
    "        FP+=1\n",
    "    if (Label!=point[\"num\"] and Label==0):\n",
    "        FN+=1\n",
    "        \n",
    "    A_non_weighted=(TP+TN)/(TP+TN+FP+FN)\n",
    "    avg_acc.append(A_non_weighted*100)"
   ],
   "outputs": [
    {
     "ename": "NameError",
     "evalue": "name 'df_heart_standardized' is not defined",
     "output_type": "error",
     "traceback": [
      "\u001B[0;31m---------------------------------------------------------------------------\u001B[0m",
      "\u001B[0;31mNameError\u001B[0m                                 Traceback (most recent call last)",
      "Cell \u001B[0;32mIn[73], line 9\u001B[0m\n\u001B[1;32m      6\u001B[0m sim_len \u001B[38;5;241m=\u001B[39m \u001B[38;5;241m100\u001B[39m\n\u001B[1;32m      7\u001B[0m \u001B[38;5;28;01mfor\u001B[39;00m i \u001B[38;5;129;01min\u001B[39;00m \u001B[38;5;28mrange\u001B[39m(sim_len):\n\u001B[0;32m----> 9\u001B[0m     heart_avg_info_gain_df, heart_avg_info_gain_array, heart_X_test, heart_y_test, heart_X_train, heart_y_train \u001B[38;5;241m=\u001B[39m run_simulation(sim_len, \u001B[43mdf_heart_standardized\u001B[49m, label_col, pos_label, neg_label, size, num_of_rand)\n\u001B[1;32m     11\u001B[0m     \u001B[38;5;66;03m# dropping some columns as feature selections\u001B[39;00m\n\u001B[1;32m     12\u001B[0m     alpha \u001B[38;5;241m=\u001B[39m \u001B[38;5;241m.1\u001B[39m\n",
      "\u001B[0;31mNameError\u001B[0m: name 'df_heart_standardized' is not defined"
     ]
    }
   ],
   "execution_count": 73
  },
  {
   "cell_type": "code",
   "metadata": {
    "ExecuteTime": {
     "end_time": "2025-03-15T01:40:32.947328Z",
     "start_time": "2025-03-15T01:40:32.945189Z"
    }
   },
   "source": [
    "GA_weight_acc"
   ],
   "outputs": [
    {
     "data": {
      "text/plain": [
       "[]"
      ]
     },
     "execution_count": 74,
     "metadata": {},
     "output_type": "execute_result"
    }
   ],
   "execution_count": 74
  },
  {
   "cell_type": "code",
   "metadata": {
    "ExecuteTime": {
     "end_time": "2025-03-15T01:40:33.077253Z",
     "start_time": "2025-03-15T01:40:32.973106Z"
    }
   },
   "source": [
    "fig = plt.figure(figsize =(10, 7))\n",
    "plt.title(\"Accuracy\",fontsize=14, fontweight='bold')\n",
    "\n",
    "# data = [dropped_weight_avg_acc, NN_acc, RFC_acc, XGB_acc]\n",
    "# \n",
    "# x_axis = ['Dropped Cols Weighted k-NN', 'Neural Network', 'Random Forest Classification', 'XGBoost Classification']\n",
    "\n",
    "data = [dropped_weight_avg_acc, GA_weight_acc]\n",
    "\n",
    "x_axis = ['Dropped Cols Weighted k-NN', 'Genetic Algorithm Weighted k-NN']\n",
    "\n",
    "# Creating plot\n",
    "plt.boxplot(data, tick_labels=x_axis)\n",
    "\n",
    "plt.savefig('IG and GA Accuracy.svg')\n",
    "\n",
    "# show plot\n",
    "plt.show()"
   ],
   "outputs": [
    {
     "ename": "OSError",
     "evalue": "[Errno 30] Read-only file system: 'IG and GA Accuracy.svg'",
     "output_type": "error",
     "traceback": [
      "\u001B[0;31m---------------------------------------------------------------------------\u001B[0m",
      "\u001B[0;31mOSError\u001B[0m                                   Traceback (most recent call last)",
      "Cell \u001B[0;32mIn[75], line 15\u001B[0m\n\u001B[1;32m     12\u001B[0m \u001B[38;5;66;03m# Creating plot\u001B[39;00m\n\u001B[1;32m     13\u001B[0m plt\u001B[38;5;241m.\u001B[39mboxplot(data, tick_labels\u001B[38;5;241m=\u001B[39mx_axis)\n\u001B[0;32m---> 15\u001B[0m \u001B[43mplt\u001B[49m\u001B[38;5;241;43m.\u001B[39;49m\u001B[43msavefig\u001B[49m\u001B[43m(\u001B[49m\u001B[38;5;124;43m'\u001B[39;49m\u001B[38;5;124;43mIG and GA Accuracy.svg\u001B[39;49m\u001B[38;5;124;43m'\u001B[39;49m\u001B[43m)\u001B[49m\n\u001B[1;32m     17\u001B[0m \u001B[38;5;66;03m# show plot\u001B[39;00m\n\u001B[1;32m     18\u001B[0m plt\u001B[38;5;241m.\u001B[39mshow()\n",
      "File \u001B[0;32m/Library/Frameworks/Python.framework/Versions/3.11/lib/python3.11/site-packages/matplotlib/pyplot.py:1228\u001B[0m, in \u001B[0;36msavefig\u001B[0;34m(*args, **kwargs)\u001B[0m\n\u001B[1;32m   1225\u001B[0m fig \u001B[38;5;241m=\u001B[39m gcf()\n\u001B[1;32m   1226\u001B[0m \u001B[38;5;66;03m# savefig default implementation has no return, so mypy is unhappy\u001B[39;00m\n\u001B[1;32m   1227\u001B[0m \u001B[38;5;66;03m# presumably this is here because subclasses can return?\u001B[39;00m\n\u001B[0;32m-> 1228\u001B[0m res \u001B[38;5;241m=\u001B[39m \u001B[43mfig\u001B[49m\u001B[38;5;241;43m.\u001B[39;49m\u001B[43msavefig\u001B[49m\u001B[43m(\u001B[49m\u001B[38;5;241;43m*\u001B[39;49m\u001B[43margs\u001B[49m\u001B[43m,\u001B[49m\u001B[43m \u001B[49m\u001B[38;5;241;43m*\u001B[39;49m\u001B[38;5;241;43m*\u001B[39;49m\u001B[43mkwargs\u001B[49m\u001B[43m)\u001B[49m  \u001B[38;5;66;03m# type: ignore[func-returns-value]\u001B[39;00m\n\u001B[1;32m   1229\u001B[0m fig\u001B[38;5;241m.\u001B[39mcanvas\u001B[38;5;241m.\u001B[39mdraw_idle()  \u001B[38;5;66;03m# Need this if 'transparent=True', to reset colors.\u001B[39;00m\n\u001B[1;32m   1230\u001B[0m \u001B[38;5;28;01mreturn\u001B[39;00m res\n",
      "File \u001B[0;32m/Library/Frameworks/Python.framework/Versions/3.11/lib/python3.11/site-packages/matplotlib/figure.py:3395\u001B[0m, in \u001B[0;36mFigure.savefig\u001B[0;34m(self, fname, transparent, **kwargs)\u001B[0m\n\u001B[1;32m   3393\u001B[0m     \u001B[38;5;28;01mfor\u001B[39;00m ax \u001B[38;5;129;01min\u001B[39;00m \u001B[38;5;28mself\u001B[39m\u001B[38;5;241m.\u001B[39maxes:\n\u001B[1;32m   3394\u001B[0m         _recursively_make_axes_transparent(stack, ax)\n\u001B[0;32m-> 3395\u001B[0m \u001B[38;5;28;43mself\u001B[39;49m\u001B[38;5;241;43m.\u001B[39;49m\u001B[43mcanvas\u001B[49m\u001B[38;5;241;43m.\u001B[39;49m\u001B[43mprint_figure\u001B[49m\u001B[43m(\u001B[49m\u001B[43mfname\u001B[49m\u001B[43m,\u001B[49m\u001B[43m \u001B[49m\u001B[38;5;241;43m*\u001B[39;49m\u001B[38;5;241;43m*\u001B[39;49m\u001B[43mkwargs\u001B[49m\u001B[43m)\u001B[49m\n",
      "File \u001B[0;32m/Library/Frameworks/Python.framework/Versions/3.11/lib/python3.11/site-packages/matplotlib/backend_bases.py:2204\u001B[0m, in \u001B[0;36mFigureCanvasBase.print_figure\u001B[0;34m(self, filename, dpi, facecolor, edgecolor, orientation, format, bbox_inches, pad_inches, bbox_extra_artists, backend, **kwargs)\u001B[0m\n\u001B[1;32m   2200\u001B[0m \u001B[38;5;28;01mtry\u001B[39;00m:\n\u001B[1;32m   2201\u001B[0m     \u001B[38;5;66;03m# _get_renderer may change the figure dpi (as vector formats\u001B[39;00m\n\u001B[1;32m   2202\u001B[0m     \u001B[38;5;66;03m# force the figure dpi to 72), so we need to set it again here.\u001B[39;00m\n\u001B[1;32m   2203\u001B[0m     \u001B[38;5;28;01mwith\u001B[39;00m cbook\u001B[38;5;241m.\u001B[39m_setattr_cm(\u001B[38;5;28mself\u001B[39m\u001B[38;5;241m.\u001B[39mfigure, dpi\u001B[38;5;241m=\u001B[39mdpi):\n\u001B[0;32m-> 2204\u001B[0m         result \u001B[38;5;241m=\u001B[39m \u001B[43mprint_method\u001B[49m\u001B[43m(\u001B[49m\n\u001B[1;32m   2205\u001B[0m \u001B[43m            \u001B[49m\u001B[43mfilename\u001B[49m\u001B[43m,\u001B[49m\n\u001B[1;32m   2206\u001B[0m \u001B[43m            \u001B[49m\u001B[43mfacecolor\u001B[49m\u001B[38;5;241;43m=\u001B[39;49m\u001B[43mfacecolor\u001B[49m\u001B[43m,\u001B[49m\n\u001B[1;32m   2207\u001B[0m \u001B[43m            \u001B[49m\u001B[43medgecolor\u001B[49m\u001B[38;5;241;43m=\u001B[39;49m\u001B[43medgecolor\u001B[49m\u001B[43m,\u001B[49m\n\u001B[1;32m   2208\u001B[0m \u001B[43m            \u001B[49m\u001B[43morientation\u001B[49m\u001B[38;5;241;43m=\u001B[39;49m\u001B[43morientation\u001B[49m\u001B[43m,\u001B[49m\n\u001B[1;32m   2209\u001B[0m \u001B[43m            \u001B[49m\u001B[43mbbox_inches_restore\u001B[49m\u001B[38;5;241;43m=\u001B[39;49m\u001B[43m_bbox_inches_restore\u001B[49m\u001B[43m,\u001B[49m\n\u001B[1;32m   2210\u001B[0m \u001B[43m            \u001B[49m\u001B[38;5;241;43m*\u001B[39;49m\u001B[38;5;241;43m*\u001B[39;49m\u001B[43mkwargs\u001B[49m\u001B[43m)\u001B[49m\n\u001B[1;32m   2211\u001B[0m \u001B[38;5;28;01mfinally\u001B[39;00m:\n\u001B[1;32m   2212\u001B[0m     \u001B[38;5;28;01mif\u001B[39;00m bbox_inches \u001B[38;5;129;01mand\u001B[39;00m restore_bbox:\n",
      "File \u001B[0;32m/Library/Frameworks/Python.framework/Versions/3.11/lib/python3.11/site-packages/matplotlib/backend_bases.py:2054\u001B[0m, in \u001B[0;36mFigureCanvasBase._switch_canvas_and_return_print_method.<locals>.<lambda>\u001B[0;34m(*args, **kwargs)\u001B[0m\n\u001B[1;32m   2050\u001B[0m     optional_kws \u001B[38;5;241m=\u001B[39m {  \u001B[38;5;66;03m# Passed by print_figure for other renderers.\u001B[39;00m\n\u001B[1;32m   2051\u001B[0m         \u001B[38;5;124m\"\u001B[39m\u001B[38;5;124mdpi\u001B[39m\u001B[38;5;124m\"\u001B[39m, \u001B[38;5;124m\"\u001B[39m\u001B[38;5;124mfacecolor\u001B[39m\u001B[38;5;124m\"\u001B[39m, \u001B[38;5;124m\"\u001B[39m\u001B[38;5;124medgecolor\u001B[39m\u001B[38;5;124m\"\u001B[39m, \u001B[38;5;124m\"\u001B[39m\u001B[38;5;124morientation\u001B[39m\u001B[38;5;124m\"\u001B[39m,\n\u001B[1;32m   2052\u001B[0m         \u001B[38;5;124m\"\u001B[39m\u001B[38;5;124mbbox_inches_restore\u001B[39m\u001B[38;5;124m\"\u001B[39m}\n\u001B[1;32m   2053\u001B[0m     skip \u001B[38;5;241m=\u001B[39m optional_kws \u001B[38;5;241m-\u001B[39m {\u001B[38;5;241m*\u001B[39minspect\u001B[38;5;241m.\u001B[39msignature(meth)\u001B[38;5;241m.\u001B[39mparameters}\n\u001B[0;32m-> 2054\u001B[0m     print_method \u001B[38;5;241m=\u001B[39m functools\u001B[38;5;241m.\u001B[39mwraps(meth)(\u001B[38;5;28;01mlambda\u001B[39;00m \u001B[38;5;241m*\u001B[39margs, \u001B[38;5;241m*\u001B[39m\u001B[38;5;241m*\u001B[39mkwargs: \u001B[43mmeth\u001B[49m\u001B[43m(\u001B[49m\n\u001B[1;32m   2055\u001B[0m \u001B[43m        \u001B[49m\u001B[38;5;241;43m*\u001B[39;49m\u001B[43margs\u001B[49m\u001B[43m,\u001B[49m\u001B[43m \u001B[49m\u001B[38;5;241;43m*\u001B[39;49m\u001B[38;5;241;43m*\u001B[39;49m\u001B[43m{\u001B[49m\u001B[43mk\u001B[49m\u001B[43m:\u001B[49m\u001B[43m \u001B[49m\u001B[43mv\u001B[49m\u001B[43m \u001B[49m\u001B[38;5;28;43;01mfor\u001B[39;49;00m\u001B[43m \u001B[49m\u001B[43mk\u001B[49m\u001B[43m,\u001B[49m\u001B[43m \u001B[49m\u001B[43mv\u001B[49m\u001B[43m \u001B[49m\u001B[38;5;129;43;01min\u001B[39;49;00m\u001B[43m \u001B[49m\u001B[43mkwargs\u001B[49m\u001B[38;5;241;43m.\u001B[39;49m\u001B[43mitems\u001B[49m\u001B[43m(\u001B[49m\u001B[43m)\u001B[49m\u001B[43m \u001B[49m\u001B[38;5;28;43;01mif\u001B[39;49;00m\u001B[43m \u001B[49m\u001B[43mk\u001B[49m\u001B[43m \u001B[49m\u001B[38;5;129;43;01mnot\u001B[39;49;00m\u001B[43m \u001B[49m\u001B[38;5;129;43;01min\u001B[39;49;00m\u001B[43m \u001B[49m\u001B[43mskip\u001B[49m\u001B[43m}\u001B[49m\u001B[43m)\u001B[49m)\n\u001B[1;32m   2056\u001B[0m \u001B[38;5;28;01melse\u001B[39;00m:  \u001B[38;5;66;03m# Let third-parties do as they see fit.\u001B[39;00m\n\u001B[1;32m   2057\u001B[0m     print_method \u001B[38;5;241m=\u001B[39m meth\n",
      "File \u001B[0;32m/Library/Frameworks/Python.framework/Versions/3.11/lib/python3.11/site-packages/matplotlib/backends/backend_svg.py:1328\u001B[0m, in \u001B[0;36mFigureCanvasSVG.print_svg\u001B[0;34m(self, filename, bbox_inches_restore, metadata)\u001B[0m\n\u001B[1;32m   1296\u001B[0m \u001B[38;5;28;01mdef\u001B[39;00m \u001B[38;5;21mprint_svg\u001B[39m(\u001B[38;5;28mself\u001B[39m, filename, \u001B[38;5;241m*\u001B[39m, bbox_inches_restore\u001B[38;5;241m=\u001B[39m\u001B[38;5;28;01mNone\u001B[39;00m, metadata\u001B[38;5;241m=\u001B[39m\u001B[38;5;28;01mNone\u001B[39;00m):\n\u001B[1;32m   1297\u001B[0m \u001B[38;5;250m    \u001B[39m\u001B[38;5;124;03m\"\"\"\u001B[39;00m\n\u001B[1;32m   1298\u001B[0m \u001B[38;5;124;03m    Parameters\u001B[39;00m\n\u001B[1;32m   1299\u001B[0m \u001B[38;5;124;03m    ----------\u001B[39;00m\n\u001B[0;32m   (...)\u001B[0m\n\u001B[1;32m   1326\u001B[0m \u001B[38;5;124;03m        __ DC_\u001B[39;00m\n\u001B[1;32m   1327\u001B[0m \u001B[38;5;124;03m    \"\"\"\u001B[39;00m\n\u001B[0;32m-> 1328\u001B[0m     \u001B[38;5;28;01mwith\u001B[39;00m \u001B[43mcbook\u001B[49m\u001B[38;5;241;43m.\u001B[39;49m\u001B[43mopen_file_cm\u001B[49m\u001B[43m(\u001B[49m\u001B[43mfilename\u001B[49m\u001B[43m,\u001B[49m\u001B[43m \u001B[49m\u001B[38;5;124;43m\"\u001B[39;49m\u001B[38;5;124;43mw\u001B[39;49m\u001B[38;5;124;43m\"\u001B[39;49m\u001B[43m,\u001B[49m\u001B[43m \u001B[49m\u001B[43mencoding\u001B[49m\u001B[38;5;241;43m=\u001B[39;49m\u001B[38;5;124;43m\"\u001B[39;49m\u001B[38;5;124;43mutf-8\u001B[39;49m\u001B[38;5;124;43m\"\u001B[39;49m\u001B[43m)\u001B[49m \u001B[38;5;28;01mas\u001B[39;00m fh:\n\u001B[1;32m   1329\u001B[0m         \u001B[38;5;28;01mif\u001B[39;00m \u001B[38;5;129;01mnot\u001B[39;00m cbook\u001B[38;5;241m.\u001B[39mfile_requires_unicode(fh):\n\u001B[1;32m   1330\u001B[0m             fh \u001B[38;5;241m=\u001B[39m codecs\u001B[38;5;241m.\u001B[39mgetwriter(\u001B[38;5;124m'\u001B[39m\u001B[38;5;124mutf-8\u001B[39m\u001B[38;5;124m'\u001B[39m)(fh)\n",
      "File \u001B[0;32m/Library/Frameworks/Python.framework/Versions/3.11/lib/python3.11/site-packages/matplotlib/cbook.py:497\u001B[0m, in \u001B[0;36mopen_file_cm\u001B[0;34m(path_or_file, mode, encoding)\u001B[0m\n\u001B[1;32m    495\u001B[0m \u001B[38;5;28;01mdef\u001B[39;00m \u001B[38;5;21mopen_file_cm\u001B[39m(path_or_file, mode\u001B[38;5;241m=\u001B[39m\u001B[38;5;124m\"\u001B[39m\u001B[38;5;124mr\u001B[39m\u001B[38;5;124m\"\u001B[39m, encoding\u001B[38;5;241m=\u001B[39m\u001B[38;5;28;01mNone\u001B[39;00m):\n\u001B[1;32m    496\u001B[0m \u001B[38;5;250m    \u001B[39m\u001B[38;5;124mr\u001B[39m\u001B[38;5;124;03m\"\"\"Pass through file objects and context-manage path-likes.\"\"\"\u001B[39;00m\n\u001B[0;32m--> 497\u001B[0m     fh, opened \u001B[38;5;241m=\u001B[39m \u001B[43mto_filehandle\u001B[49m\u001B[43m(\u001B[49m\u001B[43mpath_or_file\u001B[49m\u001B[43m,\u001B[49m\u001B[43m \u001B[49m\u001B[43mmode\u001B[49m\u001B[43m,\u001B[49m\u001B[43m \u001B[49m\u001B[38;5;28;43;01mTrue\u001B[39;49;00m\u001B[43m,\u001B[49m\u001B[43m \u001B[49m\u001B[43mencoding\u001B[49m\u001B[43m)\u001B[49m\n\u001B[1;32m    498\u001B[0m     \u001B[38;5;28;01mreturn\u001B[39;00m fh \u001B[38;5;28;01mif\u001B[39;00m opened \u001B[38;5;28;01melse\u001B[39;00m contextlib\u001B[38;5;241m.\u001B[39mnullcontext(fh)\n",
      "File \u001B[0;32m/Library/Frameworks/Python.framework/Versions/3.11/lib/python3.11/site-packages/matplotlib/cbook.py:483\u001B[0m, in \u001B[0;36mto_filehandle\u001B[0;34m(fname, flag, return_opened, encoding)\u001B[0m\n\u001B[1;32m    481\u001B[0m         fh \u001B[38;5;241m=\u001B[39m bz2\u001B[38;5;241m.\u001B[39mBZ2File(fname, flag)\n\u001B[1;32m    482\u001B[0m     \u001B[38;5;28;01melse\u001B[39;00m:\n\u001B[0;32m--> 483\u001B[0m         fh \u001B[38;5;241m=\u001B[39m \u001B[38;5;28;43mopen\u001B[39;49m\u001B[43m(\u001B[49m\u001B[43mfname\u001B[49m\u001B[43m,\u001B[49m\u001B[43m \u001B[49m\u001B[43mflag\u001B[49m\u001B[43m,\u001B[49m\u001B[43m \u001B[49m\u001B[43mencoding\u001B[49m\u001B[38;5;241;43m=\u001B[39;49m\u001B[43mencoding\u001B[49m\u001B[43m)\u001B[49m\n\u001B[1;32m    484\u001B[0m     opened \u001B[38;5;241m=\u001B[39m \u001B[38;5;28;01mTrue\u001B[39;00m\n\u001B[1;32m    485\u001B[0m \u001B[38;5;28;01melif\u001B[39;00m \u001B[38;5;28mhasattr\u001B[39m(fname, \u001B[38;5;124m'\u001B[39m\u001B[38;5;124mseek\u001B[39m\u001B[38;5;124m'\u001B[39m):\n",
      "\u001B[0;31mOSError\u001B[0m: [Errno 30] Read-only file system: 'IG and GA Accuracy.svg'"
     ]
    },
    {
     "data": {
      "text/plain": [
       "<Figure size 1000x700 with 1 Axes>"
      ],
      "image/png": "[encoded data removed]"
     },
     "metadata": {},
     "output_type": "display_data"
    }
   ],
   "execution_count": 75
  },
  {
   "cell_type": "code",
   "metadata": {},
   "source": [
    "fig = plt.figure(figsize =(10, 7))\n",
    "plt.title(\"Accuracy\",fontsize=14, fontweight='bold')\n",
    "\n",
    "data = [avg_acc, dropped_weight_avg_acc, GA_weight_acc]\n",
    "\n",
    "x_axis = ['Unweighted k-NN', 'Dropped Cols Weighted k-NN', 'Genetic Algorithm Weighted k-NN']\n",
    "\n",
    "# Creating plot\n",
    "plt.boxplot(data, tick_labels=x_axis)\n",
    "\n",
    "plt.savefig('Unweighted, IG and GA Accuracy.svg')\n",
    "\n",
    "# show plot\n",
    "plt.show()\n"
   ],
   "outputs": [],
   "execution_count": null
  },
  {
   "cell_type": "code",
   "metadata": {
    "ExecuteTime": {
     "end_time": "2025-03-15T01:40:33.123208Z",
     "start_time": "2025-03-15T01:40:33.120722Z"
    }
   },
   "source": [
    "def weight_manipulation(num_of_population,num_of_weights,weights):\n",
    "\n",
    "    genetic_weights = np.empty((num_of_population,num_of_weights))\n",
    "\n",
    "    np_weights = np.array(weights)\n",
    "\n",
    "    # print(\"weights : \", np_weights.shape)\n",
    "    # print(\"Chama: \", genetic_weights.shape)\n",
    "\n",
    "    if(np_weights.ndim == 1):\n",
    "\n",
    "        for i in range(0, num_of_population):\n",
    "            genetic_weights[i] = weights * np.random.rand(len(weights))\n",
    "\n",
    "        # print(\"Huh: \" ,genetic_weights.shape)\n",
    "\n",
    "        return genetic_weights\n",
    "\n",
    "    else :\n",
    "\n",
    "        for row in range(num_of_population):\n",
    "            # Multiply each element in the row by a random factor\n",
    "            # The random factor must have the same number of columns as the weight matrix\n",
    "            genetic_weights[row] = np_weights[row] * np.random.rand(np_weights.shape[1])\n",
    "\n",
    "    return genetic_weights"
   ],
   "outputs": [],
   "execution_count": 76
  },
  {
   "metadata": {
    "ExecuteTime": {
     "end_time": "2025-03-15T01:40:33.270244Z",
     "start_time": "2025-03-15T01:40:33.263743Z"
    }
   },
   "cell_type": "code",
   "source": [
    "def get_weight_manipulated_acc(num_of_population, genetic_weights):\n",
    "\n",
    "    population_data = np.empty((num_of_population,num_of_weights))\n",
    "    population_data_sorted = np.empty((num_of_population,num_of_weights))\n",
    "\n",
    "    for population in range(num_of_population):\n",
    "\n",
    "        Train_Data =  pd.concat([dropped_heart_X_train, heart_y_train], axis=1)\n",
    "        Test_Data = pd.concat([dropped_heart_X_test, heart_y_test], axis=1)\n",
    "\n",
    "        TP = TN = FP = FN =0\n",
    "\n",
    "        for p in range(len(Test_Data)):\n",
    "            point=Test_Data.iloc[p]\n",
    "            NBRS=Nearest_Neighbors(point, Train_Data, genetic_weights[population] , \"num\")\n",
    "            Label=KNN(3,NBRS)\n",
    "            if (Label==point[\"num\"] and Label==1):\n",
    "                TP+=1\n",
    "            if (Label==point[\"num\"] and Label==0):\n",
    "                TN+=1\n",
    "            if (Label!=point[\"num\"] and Label==1):\n",
    "                FP+=1\n",
    "            if (Label!=point[\"num\"] and Label==0):\n",
    "                FN+=1\n",
    "        A_dropped_weighted=(TP+TN)/(TP+TN+FP+FN)\n",
    "\n",
    "        accuracy = A_dropped_weighted*100\n",
    "\n",
    "        accuracy_list.append(accuracy)\n",
    "\n",
    "        population_weights_with_accuracy = np.append(genetic_weights[population], accuracy)\n",
    "        population_data.append(population_weights_with_accuracy)\n",
    "        population_data_sorted = sorted(population_data, key=lambda x: x[-1], reverse=True)\n",
    "\n",
    "    return population_data_sorted"
   ],
   "outputs": [],
   "execution_count": 77
  }
 ],
 "metadata": {
  "kaggle": {
   "accelerator": "none",
   "dataSources": [
    {
     "datasetId": 5392980,
     "sourceId": 8960076,
     "sourceType": "datasetVersion"
    },
    {
     "datasetId": 5618525,
     "sourceId": 9282343,
     "sourceType": "datasetVersion"
    },
    {
     "datasetId": 5767582,
     "sourceId": 9481805,
     "sourceType": "datasetVersion"
    }
   ],
   "dockerImageVersionId": 30761,
   "isGpuEnabled": false,
   "isInternetEnabled": true,
   "language": "python",
   "sourceType": "notebook"
  },
  "kernelspec": {
   "display_name": "Python 3",
   "language": "python",
   "name": "python3"
  },
  "language_info": {
   "codemirror_mode": {
    "name": "ipython",
    "version": 3
   },
   "file_extension": ".py",
   "mimetype": "text/x-python",
   "name": "python",
   "nbconvert_exporter": "python",
   "pygments_lexer": "ipython3",
   "version": "3.10.14"
  }
 },
 "nbformat": 4,
 "nbformat_minor": 4
}
